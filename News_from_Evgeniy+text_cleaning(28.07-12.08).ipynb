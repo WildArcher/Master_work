{
  "nbformat": 4,
  "nbformat_minor": 0,
  "metadata": {
    "colab": {
      "name": "Untitled20.ipynb",
      "provenance": [],
      "collapsed_sections": [],
      "authorship_tag": "ABX9TyM45An91QD9GrsEvIrgyrVE",
      "include_colab_link": true
    },
    "kernelspec": {
      "name": "python3",
      "display_name": "Python 3"
    }
  },
  "cells": [
    {
      "cell_type": "markdown",
      "metadata": {
        "id": "view-in-github",
        "colab_type": "text"
      },
      "source": [
        "<a href=\"https://colab.research.google.com/github/WildArcher/Master_work/blob/master/News_from_Evgeniy%2Btext_cleaning(28.07-12.08).ipynb\" target=\"_parent\"><img src=\"https://colab.research.google.com/assets/colab-badge.svg\" alt=\"Open In Colab\"/></a>"
      ]
    },
    {
      "cell_type": "markdown",
      "metadata": {
        "id": "79B0J3Ydkxvq",
        "colab_type": "text"
      },
      "source": [
        "### Новости добыты, теперь нужно их разметить"
      ]
    },
    {
      "cell_type": "code",
      "metadata": {
        "id": "ur_lkqMS4vlZ",
        "colab_type": "code",
        "colab": {}
      },
      "source": [
        "import re\n",
        "import pandas as pd\n",
        "import datetime\n",
        "import time\n",
        "import numpy as np\n",
        "import seaborn as sns\n",
        "from sklearn.linear_model import LogisticRegression\n",
        "from sklearn.model_selection import train_test_split as tt\n",
        "from xgboost import XGBClassifier\n",
        "from sklearn.svm import SVC\n",
        "from sklearn.feature_extraction.text import CountVectorizer as CountVectorizer\n",
        "from sklearn.feature_extraction.text import TfidfVectorizer\n",
        "from sklearn.ensemble import RandomForestClassifier as rand_for_clf\n",
        "from sklearn.metrics import accuracy_score, roc_auc_score"
      ],
      "execution_count": 1,
      "outputs": []
    },
    {
      "cell_type": "code",
      "metadata": {
        "id": "mk1JGBZm4d7u",
        "colab_type": "code",
        "colab": {}
      },
      "source": [
        "news = pd.read_csv('https://raw.githubusercontent.com/WildArcher/Master_work/master/news_2019-2020_sber_from_interfax.csv').drop(columns=['Unnamed: 0'])"
      ],
      "execution_count": 30,
      "outputs": []
    },
    {
      "cell_type": "code",
      "metadata": {
        "id": "PoyDgkzo4pUA",
        "colab_type": "code",
        "colab": {
          "base_uri": "https://localhost:8080/",
          "height": 407
        },
        "outputId": "80343afe-c4e2-4207-ebf3-e47ea8382abc"
      },
      "source": [
        "news.head()"
      ],
      "execution_count": 31,
      "outputs": [
        {
          "output_type": "execute_result",
          "data": {
            "text/html": [
              "<div>\n",
              "<style scoped>\n",
              "    .dataframe tbody tr th:only-of-type {\n",
              "        vertical-align: middle;\n",
              "    }\n",
              "\n",
              "    .dataframe tbody tr th {\n",
              "        vertical-align: top;\n",
              "    }\n",
              "\n",
              "    .dataframe thead th {\n",
              "        text-align: right;\n",
              "    }\n",
              "</style>\n",
              "<table border=\"1\" class=\"dataframe\">\n",
              "  <thead>\n",
              "    <tr style=\"text-align: right;\">\n",
              "      <th></th>\n",
              "      <th>text</th>\n",
              "      <th>header</th>\n",
              "      <th>day_of_week</th>\n",
              "      <th>day</th>\n",
              "      <th>month</th>\n",
              "      <th>year</th>\n",
              "      <th>minute</th>\n",
              "      <th>hour</th>\n",
              "      <th>target</th>\n",
              "    </tr>\n",
              "  </thead>\n",
              "  <tbody>\n",
              "    <tr>\n",
              "      <th>0</th>\n",
              "      <td>в россии выдано льготной ипотеки под 6,5% на ...</td>\n",
              "      <td>в россии выдано льготной ипотеки под 6,5% на 2...</td>\n",
              "      <td>Wed</td>\n",
              "      <td>2</td>\n",
              "      <td>Jul</td>\n",
              "      <td>2020</td>\n",
              "      <td>57</td>\n",
              "      <td>10</td>\n",
              "      <td>0</td>\n",
              "    </tr>\n",
              "    <tr>\n",
              "      <th>1</th>\n",
              "      <td>сбербанк закрыл сделку по выкупу доли \"ßндекс...</td>\n",
              "      <td>сбербанк закрыл сделку по выкупу доли \"ßндекса...</td>\n",
              "      <td>Wed</td>\n",
              "      <td>2</td>\n",
              "      <td>Jul</td>\n",
              "      <td>2020</td>\n",
              "      <td>38</td>\n",
              "      <td>0</td>\n",
              "      <td>1</td>\n",
              "    </tr>\n",
              "    <tr>\n",
              "      <th>2</th>\n",
              "      <td>рынок акций рф во вторник вырос вслед за миро...</td>\n",
              "      <td>рынок акций рф во вторник вырос вслед за миром...</td>\n",
              "      <td>Tue</td>\n",
              "      <td>2</td>\n",
              "      <td>Jul</td>\n",
              "      <td>2020</td>\n",
              "      <td>17</td>\n",
              "      <td>19</td>\n",
              "      <td>1</td>\n",
              "    </tr>\n",
              "    <tr>\n",
              "      <th>3</th>\n",
              "      <td>рынок акций рф открылся ростом индексов мосби...</td>\n",
              "      <td>рынок акций рф открылся ростом индексов мосбир...</td>\n",
              "      <td>Tue</td>\n",
              "      <td>2</td>\n",
              "      <td>Jul</td>\n",
              "      <td>2020</td>\n",
              "      <td>35</td>\n",
              "      <td>10</td>\n",
              "      <td>1</td>\n",
              "    </tr>\n",
              "    <tr>\n",
              "      <th>4</th>\n",
              "      <td>сбербанк выдал группе \"аэрофлот\" кредиты на 1...</td>\n",
              "      <td>сбербанк выдал группе \"аэрофлот\" кредиты на 1,...</td>\n",
              "      <td>Tue</td>\n",
              "      <td>2</td>\n",
              "      <td>Jul</td>\n",
              "      <td>2020</td>\n",
              "      <td>42</td>\n",
              "      <td>9</td>\n",
              "      <td>1</td>\n",
              "    </tr>\n",
              "    <tr>\n",
              "      <th>...</th>\n",
              "      <td>...</td>\n",
              "      <td>...</td>\n",
              "      <td>...</td>\n",
              "      <td>...</td>\n",
              "      <td>...</td>\n",
              "      <td>...</td>\n",
              "      <td>...</td>\n",
              "      <td>...</td>\n",
              "      <td>...</td>\n",
              "    </tr>\n",
              "    <tr>\n",
              "      <th>506</th>\n",
              "      <td>en+ выкупит у втб 21,37% своих акций за $1,58...</td>\n",
              "      <td>en+ выкупит у втб 21,37% своих акций за $1,58 ...</td>\n",
              "      <td>Thu</td>\n",
              "      <td>6</td>\n",
              "      <td>Feb</td>\n",
              "      <td>2020</td>\n",
              "      <td>48</td>\n",
              "      <td>15</td>\n",
              "      <td>0</td>\n",
              "    </tr>\n",
              "    <tr>\n",
              "      <th>507</th>\n",
              "      <td>правительство и цб договорились о постоянных ...</td>\n",
              "      <td>правительство и цб договорились о постоянных к...</td>\n",
              "      <td>Wed</td>\n",
              "      <td>5</td>\n",
              "      <td>Feb</td>\n",
              "      <td>2020</td>\n",
              "      <td>10</td>\n",
              "      <td>17</td>\n",
              "      <td>1</td>\n",
              "    </tr>\n",
              "    <tr>\n",
              "      <th>508</th>\n",
              "      <td>минэкономразвития запросило банки, как они мо...</td>\n",
              "      <td>минэкономразвития запросило банки, как они мог...</td>\n",
              "      <td>Wed</td>\n",
              "      <td>5</td>\n",
              "      <td>Feb</td>\n",
              "      <td>2020</td>\n",
              "      <td>22</td>\n",
              "      <td>12</td>\n",
              "      <td>0</td>\n",
              "    </tr>\n",
              "    <tr>\n",
              "      <th>509</th>\n",
              "      <td>государственно-частные партнерства выведут из...</td>\n",
              "      <td>государственно-частные партнерства выведут из-...</td>\n",
              "      <td>Wed</td>\n",
              "      <td>5</td>\n",
              "      <td>Feb</td>\n",
              "      <td>2020</td>\n",
              "      <td>58</td>\n",
              "      <td>9</td>\n",
              "      <td>0</td>\n",
              "    </tr>\n",
              "    <tr>\n",
              "      <th>510</th>\n",
              "      <td>\"трансойл\" обжалует включение сбербанка в рее...</td>\n",
              "      <td>\"трансойл\" обжалует включение сбербанка в реес...</td>\n",
              "      <td>Wed</td>\n",
              "      <td>5</td>\n",
              "      <td>Feb</td>\n",
              "      <td>2020</td>\n",
              "      <td>3</td>\n",
              "      <td>9</td>\n",
              "      <td>0</td>\n",
              "    </tr>\n",
              "  </tbody>\n",
              "</table>\n",
              "<p>511 rows × 9 columns</p>\n",
              "</div>"
            ],
            "text/plain": [
              "                                                  text  ... target\n",
              "0     в россии выдано льготной ипотеки под 6,5% на ...  ...      0\n",
              "1     сбербанк закрыл сделку по выкупу доли \"ßндекс...  ...      1\n",
              "2     рынок акций рф во вторник вырос вслед за миро...  ...      1\n",
              "3     рынок акций рф открылся ростом индексов мосби...  ...      1\n",
              "4     сбербанк выдал группе \"аэрофлот\" кредиты на 1...  ...      1\n",
              "..                                                 ...  ...    ...\n",
              "506   en+ выкупит у втб 21,37% своих акций за $1,58...  ...      0\n",
              "507   правительство и цб договорились о постоянных ...  ...      1\n",
              "508   минэкономразвития запросило банки, как они мо...  ...      0\n",
              "509   государственно-частные партнерства выведут из...  ...      0\n",
              "510   \"трансойл\" обжалует включение сбербанка в рее...  ...      0\n",
              "\n",
              "[511 rows x 9 columns]"
            ]
          },
          "metadata": {
            "tags": []
          },
          "execution_count": 31
        }
      ]
    },
    {
      "cell_type": "markdown",
      "metadata": {
        "id": "azukwsfMhuWH",
        "colab_type": "text"
      },
      "source": [
        "## Возьмем котировки с финам с периодичностью 5 минут и час, чтобы отследить влияние новостей"
      ]
    },
    {
      "cell_type": "code",
      "metadata": {
        "id": "iE6XXy_3frNh",
        "colab_type": "code",
        "colab": {}
      },
      "source": [
        "def preprocessing_sber_data(sber):\n",
        "  sber.columns=['date', 'time', 'open', 'high', 'low', 'close', 'vol']\n",
        "  sber.time /= 10_000\n",
        "\n",
        "  year, month, day = [], [], []\n",
        "  for i in range(sber.shape[0]):\n",
        "    year.append(time.strptime(str(sber.date[i]), '%Y%m%d')[0])\n",
        "    month.append(time.strptime(str(sber.date[i]), '%Y%m%d')[1])\n",
        "    day.append(time.strptime(str(sber.date[i]), '%Y%m%d')[2])\n",
        "\n",
        "  sber['year'] = year\n",
        "  sber['month'] = month\n",
        "  sber['day'] = day\n",
        "\n",
        "  #sber.drop(columns=['date'], inplace=True)\n",
        "\n",
        "  return sber\n",
        "\n",
        "sber_hour = preprocessing_sber_data(pd.read_csv('https://raw.githubusercontent.com/WildArcher/Master_work/master/SBER_17.07.2019-2020_1hour.csv?', sep=' '))\n",
        "\n",
        "sber_5_min = preprocessing_sber_data(pd.read_csv('https://raw.githubusercontent.com/WildArcher/Master_work/master/SBER_17.07.2019-2020_5min.csv?', sep=' '))"
      ],
      "execution_count": 5,
      "outputs": []
    },
    {
      "cell_type": "code",
      "metadata": {
        "id": "9xoIjOBAgXRy",
        "colab_type": "code",
        "colab": {
          "base_uri": "https://localhost:8080/",
          "height": 198
        },
        "outputId": "0c63b12f-687a-4005-b3ee-48ccff617286"
      },
      "source": [
        "sber_5_min.head()"
      ],
      "execution_count": 6,
      "outputs": [
        {
          "output_type": "execute_result",
          "data": {
            "text/html": [
              "<div>\n",
              "<style scoped>\n",
              "    .dataframe tbody tr th:only-of-type {\n",
              "        vertical-align: middle;\n",
              "    }\n",
              "\n",
              "    .dataframe tbody tr th {\n",
              "        vertical-align: top;\n",
              "    }\n",
              "\n",
              "    .dataframe thead th {\n",
              "        text-align: right;\n",
              "    }\n",
              "</style>\n",
              "<table border=\"1\" class=\"dataframe\">\n",
              "  <thead>\n",
              "    <tr style=\"text-align: right;\">\n",
              "      <th></th>\n",
              "      <th>date</th>\n",
              "      <th>time</th>\n",
              "      <th>open</th>\n",
              "      <th>high</th>\n",
              "      <th>low</th>\n",
              "      <th>close</th>\n",
              "      <th>vol</th>\n",
              "      <th>year</th>\n",
              "      <th>month</th>\n",
              "      <th>day</th>\n",
              "    </tr>\n",
              "  </thead>\n",
              "  <tbody>\n",
              "    <tr>\n",
              "      <th>0</th>\n",
              "      <td>20190717</td>\n",
              "      <td>10.05</td>\n",
              "      <td>234.32</td>\n",
              "      <td>237.00</td>\n",
              "      <td>234.02</td>\n",
              "      <td>236.96</td>\n",
              "      <td>1691860</td>\n",
              "      <td>2019</td>\n",
              "      <td>7</td>\n",
              "      <td>17</td>\n",
              "    </tr>\n",
              "    <tr>\n",
              "      <th>1</th>\n",
              "      <td>20190717</td>\n",
              "      <td>10.10</td>\n",
              "      <td>236.98</td>\n",
              "      <td>238.04</td>\n",
              "      <td>236.03</td>\n",
              "      <td>236.40</td>\n",
              "      <td>1802480</td>\n",
              "      <td>2019</td>\n",
              "      <td>7</td>\n",
              "      <td>17</td>\n",
              "    </tr>\n",
              "    <tr>\n",
              "      <th>2</th>\n",
              "      <td>20190717</td>\n",
              "      <td>10.15</td>\n",
              "      <td>236.40</td>\n",
              "      <td>236.71</td>\n",
              "      <td>235.83</td>\n",
              "      <td>235.96</td>\n",
              "      <td>780150</td>\n",
              "      <td>2019</td>\n",
              "      <td>7</td>\n",
              "      <td>17</td>\n",
              "    </tr>\n",
              "    <tr>\n",
              "      <th>3</th>\n",
              "      <td>20190717</td>\n",
              "      <td>10.20</td>\n",
              "      <td>235.96</td>\n",
              "      <td>236.13</td>\n",
              "      <td>235.38</td>\n",
              "      <td>235.91</td>\n",
              "      <td>590180</td>\n",
              "      <td>2019</td>\n",
              "      <td>7</td>\n",
              "      <td>17</td>\n",
              "    </tr>\n",
              "    <tr>\n",
              "      <th>4</th>\n",
              "      <td>20190717</td>\n",
              "      <td>10.25</td>\n",
              "      <td>235.91</td>\n",
              "      <td>236.55</td>\n",
              "      <td>235.81</td>\n",
              "      <td>236.41</td>\n",
              "      <td>543260</td>\n",
              "      <td>2019</td>\n",
              "      <td>7</td>\n",
              "      <td>17</td>\n",
              "    </tr>\n",
              "  </tbody>\n",
              "</table>\n",
              "</div>"
            ],
            "text/plain": [
              "       date   time    open    high     low   close      vol  year  month  day\n",
              "0  20190717  10.05  234.32  237.00  234.02  236.96  1691860  2019      7   17\n",
              "1  20190717  10.10  236.98  238.04  236.03  236.40  1802480  2019      7   17\n",
              "2  20190717  10.15  236.40  236.71  235.83  235.96   780150  2019      7   17\n",
              "3  20190717  10.20  235.96  236.13  235.38  235.91   590180  2019      7   17\n",
              "4  20190717  10.25  235.91  236.55  235.81  236.41   543260  2019      7   17"
            ]
          },
          "metadata": {
            "tags": []
          },
          "execution_count": 6
        }
      ]
    },
    {
      "cell_type": "code",
      "metadata": {
        "id": "CvChyTTrb3KB",
        "colab_type": "code",
        "colab": {}
      },
      "source": [
        "date = []\n",
        "for i in range(sber_5_min.shape[0]):\n",
        "  date.append(datetime.datetime(sber_5_min.year[i], sber_5_min.month[i], sber_5_min.day[i], int(sber_5_min.time[i] // 1), int((sber_5_min.time[i] % 1)*101)))#\n",
        "\n",
        "sber_5_min['date'] = date\n",
        "\n",
        "date = []\n",
        "for i in range(sber_hour.shape[0]):\n",
        "  date.append(datetime.datetime(sber_hour.year[i], sber_hour.month[i], sber_hour.day[i], int(sber_hour.time[i] // 1)))\n",
        "\n",
        "sber_hour['date'] = date"
      ],
      "execution_count": 7,
      "outputs": []
    },
    {
      "cell_type": "code",
      "metadata": {
        "id": "hh3imbNeA0f3",
        "colab_type": "code",
        "colab": {}
      },
      "source": [
        "sber_hour['date'] = pd.to_datetime(sber_hour.date)\n",
        "\n",
        "sber_5_min['date'] = pd.to_datetime(sber_5_min.date)"
      ],
      "execution_count": 8,
      "outputs": []
    },
    {
      "cell_type": "code",
      "metadata": {
        "id": "9hdgFnZsdpgy",
        "colab_type": "code",
        "colab": {
          "base_uri": "https://localhost:8080/",
          "height": 198
        },
        "outputId": "4ee0bc2a-62a9-461a-a22e-d54bfceed7ff"
      },
      "source": [
        "sber_hour.head()"
      ],
      "execution_count": 10,
      "outputs": [
        {
          "output_type": "execute_result",
          "data": {
            "text/html": [
              "<div>\n",
              "<style scoped>\n",
              "    .dataframe tbody tr th:only-of-type {\n",
              "        vertical-align: middle;\n",
              "    }\n",
              "\n",
              "    .dataframe tbody tr th {\n",
              "        vertical-align: top;\n",
              "    }\n",
              "\n",
              "    .dataframe thead th {\n",
              "        text-align: right;\n",
              "    }\n",
              "</style>\n",
              "<table border=\"1\" class=\"dataframe\">\n",
              "  <thead>\n",
              "    <tr style=\"text-align: right;\">\n",
              "      <th></th>\n",
              "      <th>date</th>\n",
              "      <th>time</th>\n",
              "      <th>open</th>\n",
              "      <th>high</th>\n",
              "      <th>low</th>\n",
              "      <th>close</th>\n",
              "      <th>vol</th>\n",
              "      <th>year</th>\n",
              "      <th>month</th>\n",
              "      <th>day</th>\n",
              "    </tr>\n",
              "  </thead>\n",
              "  <tbody>\n",
              "    <tr>\n",
              "      <th>0</th>\n",
              "      <td>2019-07-17 11:00:00</td>\n",
              "      <td>11.0</td>\n",
              "      <td>234.32</td>\n",
              "      <td>238.04</td>\n",
              "      <td>234.02</td>\n",
              "      <td>237.12</td>\n",
              "      <td>8548250</td>\n",
              "      <td>2019</td>\n",
              "      <td>7</td>\n",
              "      <td>17</td>\n",
              "    </tr>\n",
              "    <tr>\n",
              "      <th>1</th>\n",
              "      <td>2019-07-17 12:00:00</td>\n",
              "      <td>12.0</td>\n",
              "      <td>237.12</td>\n",
              "      <td>237.43</td>\n",
              "      <td>236.55</td>\n",
              "      <td>237.20</td>\n",
              "      <td>2801380</td>\n",
              "      <td>2019</td>\n",
              "      <td>7</td>\n",
              "      <td>17</td>\n",
              "    </tr>\n",
              "    <tr>\n",
              "      <th>2</th>\n",
              "      <td>2019-07-17 13:00:00</td>\n",
              "      <td>13.0</td>\n",
              "      <td>237.20</td>\n",
              "      <td>237.20</td>\n",
              "      <td>236.81</td>\n",
              "      <td>237.18</td>\n",
              "      <td>2097860</td>\n",
              "      <td>2019</td>\n",
              "      <td>7</td>\n",
              "      <td>17</td>\n",
              "    </tr>\n",
              "    <tr>\n",
              "      <th>3</th>\n",
              "      <td>2019-07-17 14:00:00</td>\n",
              "      <td>14.0</td>\n",
              "      <td>237.17</td>\n",
              "      <td>237.70</td>\n",
              "      <td>236.70</td>\n",
              "      <td>237.19</td>\n",
              "      <td>2848650</td>\n",
              "      <td>2019</td>\n",
              "      <td>7</td>\n",
              "      <td>17</td>\n",
              "    </tr>\n",
              "    <tr>\n",
              "      <th>4</th>\n",
              "      <td>2019-07-17 15:00:00</td>\n",
              "      <td>15.0</td>\n",
              "      <td>237.19</td>\n",
              "      <td>237.58</td>\n",
              "      <td>236.85</td>\n",
              "      <td>237.13</td>\n",
              "      <td>1454710</td>\n",
              "      <td>2019</td>\n",
              "      <td>7</td>\n",
              "      <td>17</td>\n",
              "    </tr>\n",
              "  </tbody>\n",
              "</table>\n",
              "</div>"
            ],
            "text/plain": [
              "                 date  time    open    high  ...      vol  year  month  day\n",
              "0 2019-07-17 11:00:00  11.0  234.32  238.04  ...  8548250  2019      7   17\n",
              "1 2019-07-17 12:00:00  12.0  237.12  237.43  ...  2801380  2019      7   17\n",
              "2 2019-07-17 13:00:00  13.0  237.20  237.20  ...  2097860  2019      7   17\n",
              "3 2019-07-17 14:00:00  14.0  237.17  237.70  ...  2848650  2019      7   17\n",
              "4 2019-07-17 15:00:00  15.0  237.19  237.58  ...  1454710  2019      7   17\n",
              "\n",
              "[5 rows x 10 columns]"
            ]
          },
          "metadata": {
            "tags": []
          },
          "execution_count": 10
        }
      ]
    },
    {
      "cell_type": "code",
      "metadata": {
        "id": "Hp0O00xGQdZZ",
        "colab_type": "code",
        "colab": {}
      },
      "source": [
        "news.replace(to_replace=['Jan', 'Feb', 'Mar', 'Apr', 'May', 'Jun', 'Jul', 'Aug', 'Sep', 'Oct', 'Nov', 'Dec'], value=[1, 2, 3, 4, 5, 6, 7, 8, 9, 10, 11, 12], inplace=True)\n",
        "news.drop(columns=['day_of_week'], inplace=True)"
      ],
      "execution_count": 11,
      "outputs": []
    },
    {
      "cell_type": "code",
      "metadata": {
        "id": "npnWOWsKVN-B",
        "colab_type": "code",
        "colab": {}
      },
      "source": [
        "date = []\n",
        "for i in range(news.shape[0]):\n",
        "  date.append(datetime.datetime(news.year[i], news.month[i], news.day[i], news.hour[i], news.minute[i]))\n",
        "\n",
        "news['date'] = date"
      ],
      "execution_count": 12,
      "outputs": []
    },
    {
      "cell_type": "code",
      "metadata": {
        "id": "_wqW651XWaTs",
        "colab_type": "code",
        "colab": {
          "base_uri": "https://localhost:8080/",
          "height": 198
        },
        "outputId": "b7b928cb-261c-4595-b106-fcd78b780388"
      },
      "source": [
        "news.head()"
      ],
      "execution_count": 13,
      "outputs": [
        {
          "output_type": "execute_result",
          "data": {
            "text/html": [
              "<div>\n",
              "<style scoped>\n",
              "    .dataframe tbody tr th:only-of-type {\n",
              "        vertical-align: middle;\n",
              "    }\n",
              "\n",
              "    .dataframe tbody tr th {\n",
              "        vertical-align: top;\n",
              "    }\n",
              "\n",
              "    .dataframe thead th {\n",
              "        text-align: right;\n",
              "    }\n",
              "</style>\n",
              "<table border=\"1\" class=\"dataframe\">\n",
              "  <thead>\n",
              "    <tr style=\"text-align: right;\">\n",
              "      <th></th>\n",
              "      <th>text</th>\n",
              "      <th>header</th>\n",
              "      <th>day</th>\n",
              "      <th>month</th>\n",
              "      <th>year</th>\n",
              "      <th>minute</th>\n",
              "      <th>hour</th>\n",
              "      <th>target</th>\n",
              "      <th>date</th>\n",
              "    </tr>\n",
              "  </thead>\n",
              "  <tbody>\n",
              "    <tr>\n",
              "      <th>0</th>\n",
              "      <td>в россии выдано льготной ипотеки под 6,5% на ...</td>\n",
              "      <td>в россии выдано льготной ипотеки под 6,5% на 2...</td>\n",
              "      <td>2</td>\n",
              "      <td>7</td>\n",
              "      <td>2020</td>\n",
              "      <td>57</td>\n",
              "      <td>10</td>\n",
              "      <td>0</td>\n",
              "      <td>2020-07-02 10:57:00</td>\n",
              "    </tr>\n",
              "    <tr>\n",
              "      <th>1</th>\n",
              "      <td>сбербанк закрыл сделку по выкупу доли \"ßндекс...</td>\n",
              "      <td>сбербанк закрыл сделку по выкупу доли \"ßндекса...</td>\n",
              "      <td>2</td>\n",
              "      <td>7</td>\n",
              "      <td>2020</td>\n",
              "      <td>38</td>\n",
              "      <td>0</td>\n",
              "      <td>1</td>\n",
              "      <td>2020-07-02 00:38:00</td>\n",
              "    </tr>\n",
              "    <tr>\n",
              "      <th>2</th>\n",
              "      <td>рынок акций рф во вторник вырос вслед за миро...</td>\n",
              "      <td>рынок акций рф во вторник вырос вслед за миром...</td>\n",
              "      <td>2</td>\n",
              "      <td>7</td>\n",
              "      <td>2020</td>\n",
              "      <td>17</td>\n",
              "      <td>19</td>\n",
              "      <td>1</td>\n",
              "      <td>2020-07-02 19:17:00</td>\n",
              "    </tr>\n",
              "    <tr>\n",
              "      <th>3</th>\n",
              "      <td>рынок акций рф открылся ростом индексов мосби...</td>\n",
              "      <td>рынок акций рф открылся ростом индексов мосбир...</td>\n",
              "      <td>2</td>\n",
              "      <td>7</td>\n",
              "      <td>2020</td>\n",
              "      <td>35</td>\n",
              "      <td>10</td>\n",
              "      <td>1</td>\n",
              "      <td>2020-07-02 10:35:00</td>\n",
              "    </tr>\n",
              "    <tr>\n",
              "      <th>4</th>\n",
              "      <td>сбербанк выдал группе \"аэрофлот\" кредиты на 1...</td>\n",
              "      <td>сбербанк выдал группе \"аэрофлот\" кредиты на 1,...</td>\n",
              "      <td>2</td>\n",
              "      <td>7</td>\n",
              "      <td>2020</td>\n",
              "      <td>42</td>\n",
              "      <td>9</td>\n",
              "      <td>1</td>\n",
              "      <td>2020-07-02 09:42:00</td>\n",
              "    </tr>\n",
              "  </tbody>\n",
              "</table>\n",
              "</div>"
            ],
            "text/plain": [
              "                                                text  ...                date\n",
              "0   в россии выдано льготной ипотеки под 6,5% на ...  ... 2020-07-02 10:57:00\n",
              "1   сбербанк закрыл сделку по выкупу доли \"ßндекс...  ... 2020-07-02 00:38:00\n",
              "2   рынок акций рф во вторник вырос вслед за миро...  ... 2020-07-02 19:17:00\n",
              "3   рынок акций рф открылся ростом индексов мосби...  ... 2020-07-02 10:35:00\n",
              "4   сбербанк выдал группе \"аэрофлот\" кредиты на 1...  ... 2020-07-02 09:42:00\n",
              "\n",
              "[5 rows x 9 columns]"
            ]
          },
          "metadata": {
            "tags": []
          },
          "execution_count": 13
        }
      ]
    },
    {
      "cell_type": "code",
      "metadata": {
        "id": "yQNfaxARYNBV",
        "colab_type": "code",
        "colab": {
          "base_uri": "https://localhost:8080/",
          "height": 199
        },
        "outputId": "082226e1-e974-4d08-e395-e88b44e7d38b"
      },
      "source": [
        "sber_hour['date_int'] = np.zeros(sber_hour.shape[0])\n",
        "\n",
        "for i in range(sber_hour.shape[0]):\n",
        "  sber_hour['date_int'][i] = int(sber_hour.date[i].year)*10_000 + int(sber_hour.date[i].month)*100 + int(sber_hour.date[i].day) + sber_hour.date[i].hour/100\n",
        "\n",
        "news['date_int'] = np.zeros(news.shape[0])\n",
        "\n",
        "for i in range(news.shape[0]):\n",
        "  news['date_int'][i] = int(news.date[i].year)*10_000 + int(news.date[i].month)*100 + int(news.date[i].day) + news.date[i].hour/100"
      ],
      "execution_count": 14,
      "outputs": [
        {
          "output_type": "stream",
          "text": [
            "/usr/local/lib/python3.6/dist-packages/ipykernel_launcher.py:4: SettingWithCopyWarning: \n",
            "A value is trying to be set on a copy of a slice from a DataFrame\n",
            "\n",
            "See the caveats in the documentation: https://pandas.pydata.org/pandas-docs/stable/user_guide/indexing.html#returning-a-view-versus-a-copy\n",
            "  after removing the cwd from sys.path.\n",
            "/usr/local/lib/python3.6/dist-packages/ipykernel_launcher.py:9: SettingWithCopyWarning: \n",
            "A value is trying to be set on a copy of a slice from a DataFrame\n",
            "\n",
            "See the caveats in the documentation: https://pandas.pydata.org/pandas-docs/stable/user_guide/indexing.html#returning-a-view-versus-a-copy\n",
            "  if __name__ == '__main__':\n"
          ],
          "name": "stderr"
        }
      ]
    },
    {
      "cell_type": "code",
      "metadata": {
        "id": "jivsIl3WBUeY",
        "colab_type": "code",
        "colab": {}
      },
      "source": [
        "news = news.merge(sber_hour.drop(columns=['date']))"
      ],
      "execution_count": 15,
      "outputs": []
    },
    {
      "cell_type": "code",
      "metadata": {
        "id": "voxlE8NQ8rr9",
        "colab_type": "code",
        "colab": {}
      },
      "source": [
        "news['target'] = np.where(news.close.shift(-1) > news.close, 1, 0)"
      ],
      "execution_count": 16,
      "outputs": []
    },
    {
      "cell_type": "markdown",
      "metadata": {
        "id": "WDg3_MRbLJmu",
        "colab_type": "text"
      },
      "source": [
        "# Протестируем небольшой датасет "
      ]
    },
    {
      "cell_type": "code",
      "metadata": {
        "id": "24yuV21m8xtM",
        "colab_type": "code",
        "colab": {
          "base_uri": "https://localhost:8080/",
          "height": 35
        },
        "outputId": "2045074e-4cb6-47f4-c023-85af43c8aacf"
      },
      "source": [
        "df = news[['text', 'header', 'target']]\n",
        "print('итого из одного источника за год ', df.replace(0, np.nan).dropna().shape[0], 'полезных новостей')\n",
        "# для обучения и теста это очень мало, но для построения бейзлайна вполне сойдет, сейчас я сделаю модель, которую хоть как-то нужно затестить, а потом соберу нормальные данные"
      ],
      "execution_count": 17,
      "outputs": [
        {
          "output_type": "stream",
          "text": [
            "итого из одного источника за год  42 полезных новостей\n"
          ],
          "name": "stdout"
        }
      ]
    },
    {
      "cell_type": "code",
      "metadata": {
        "id": "djcV_UkTUNjm",
        "colab_type": "code",
        "colab": {
          "base_uri": "https://localhost:8080/",
          "height": 407
        },
        "outputId": "8d100738-d429-4831-9769-1feee63f0738"
      },
      "source": [
        "df.head()"
      ],
      "execution_count": 19,
      "outputs": [
        {
          "output_type": "execute_result",
          "data": {
            "text/html": [
              "<div>\n",
              "<style scoped>\n",
              "    .dataframe tbody tr th:only-of-type {\n",
              "        vertical-align: middle;\n",
              "    }\n",
              "\n",
              "    .dataframe tbody tr th {\n",
              "        vertical-align: top;\n",
              "    }\n",
              "\n",
              "    .dataframe thead th {\n",
              "        text-align: right;\n",
              "    }\n",
              "</style>\n",
              "<table border=\"1\" class=\"dataframe\">\n",
              "  <thead>\n",
              "    <tr style=\"text-align: right;\">\n",
              "      <th></th>\n",
              "      <th>text</th>\n",
              "      <th>header</th>\n",
              "      <th>target</th>\n",
              "    </tr>\n",
              "  </thead>\n",
              "  <tbody>\n",
              "    <tr>\n",
              "      <th>0</th>\n",
              "      <td>рынок акций рф во вторник вырос вслед за миро...</td>\n",
              "      <td>рынок акций рф во вторник вырос вслед за миром...</td>\n",
              "      <td>0</td>\n",
              "    </tr>\n",
              "    <tr>\n",
              "      <th>1</th>\n",
              "      <td>рынок акций начал неделю с роста выше 2800п п...</td>\n",
              "      <td>рынок акций начал неделю с роста выше 2800п по...</td>\n",
              "      <td>0</td>\n",
              "    </tr>\n",
              "    <tr>\n",
              "      <th>2</th>\n",
              "      <td>рынок акций рф во вторник вырос вслед за миро...</td>\n",
              "      <td>рынок акций рф во вторник вырос вслед за миром...</td>\n",
              "      <td>0</td>\n",
              "    </tr>\n",
              "    <tr>\n",
              "      <th>3</th>\n",
              "      <td>рынок акций начал неделю с роста выше 2800п п...</td>\n",
              "      <td>рынок акций начал неделю с роста выше 2800п по...</td>\n",
              "      <td>0</td>\n",
              "    </tr>\n",
              "    <tr>\n",
              "      <th>4</th>\n",
              "      <td>минфин ждет от сбербанка, \"транснефти\" и втб ...</td>\n",
              "      <td>минфин ждет от сбербанка, \"транснефти\" и втб п...</td>\n",
              "      <td>0</td>\n",
              "    </tr>\n",
              "    <tr>\n",
              "      <th>...</th>\n",
              "      <td>...</td>\n",
              "      <td>...</td>\n",
              "      <td>...</td>\n",
              "    </tr>\n",
              "    <tr>\n",
              "      <th>192</th>\n",
              "      <td>отскок рынка акций рф сменился новой волной п...</td>\n",
              "      <td>отскок рынка акций рф сменился новой волной па...</td>\n",
              "      <td>1</td>\n",
              "    </tr>\n",
              "    <tr>\n",
              "      <th>193</th>\n",
              "      <td>попытка рынка акций подрасти завершились расп...</td>\n",
              "      <td>попытка рынка акций подрасти завершились распр...</td>\n",
              "      <td>1</td>\n",
              "    </tr>\n",
              "    <tr>\n",
              "      <th>194</th>\n",
              "      <td>en+ выкупит у втб 21,37% своих акций за $1,58...</td>\n",
              "      <td>en+ выкупит у втб 21,37% своих акций за $1,58 ...</td>\n",
              "      <td>1</td>\n",
              "    </tr>\n",
              "    <tr>\n",
              "      <th>195</th>\n",
              "      <td>правительство и цб договорились о постоянных ...</td>\n",
              "      <td>правительство и цб договорились о постоянных к...</td>\n",
              "      <td>0</td>\n",
              "    </tr>\n",
              "    <tr>\n",
              "      <th>196</th>\n",
              "      <td>минэкономразвития запросило банки, как они мо...</td>\n",
              "      <td>минэкономразвития запросило банки, как они мог...</td>\n",
              "      <td>0</td>\n",
              "    </tr>\n",
              "  </tbody>\n",
              "</table>\n",
              "<p>197 rows × 3 columns</p>\n",
              "</div>"
            ],
            "text/plain": [
              "                                                  text  ... target\n",
              "0     рынок акций рф во вторник вырос вслед за миро...  ...      0\n",
              "1     рынок акций начал неделю с роста выше 2800п п...  ...      0\n",
              "2     рынок акций рф во вторник вырос вслед за миро...  ...      0\n",
              "3     рынок акций начал неделю с роста выше 2800п п...  ...      0\n",
              "4     минфин ждет от сбербанка, \"транснефти\" и втб ...  ...      0\n",
              "..                                                 ...  ...    ...\n",
              "192   отскок рынка акций рф сменился новой волной п...  ...      1\n",
              "193   попытка рынка акций подрасти завершились расп...  ...      1\n",
              "194   en+ выкупит у втб 21,37% своих акций за $1,58...  ...      1\n",
              "195   правительство и цб договорились о постоянных ...  ...      0\n",
              "196   минэкономразвития запросило банки, как они мо...  ...      0\n",
              "\n",
              "[197 rows x 3 columns]"
            ]
          },
          "metadata": {
            "tags": []
          },
          "execution_count": 19
        }
      ]
    },
    {
      "cell_type": "code",
      "metadata": {
        "id": "IBqOkqUkNVLg",
        "colab_type": "code",
        "colab": {}
      },
      "source": [
        "# для начала посмотрю, можно ли решить задачу простыми способами без лишни наворочек\n",
        "count_vectorizer = CountVectorizer(ngram_range=(1, 3), max_features=1000)\n",
        "X = count_vectorizer.fit_transform(df.text)"
      ],
      "execution_count": 20,
      "outputs": []
    },
    {
      "cell_type": "code",
      "metadata": {
        "id": "N2aY3LbmRzTc",
        "colab_type": "code",
        "colab": {
          "base_uri": "https://localhost:8080/",
          "height": 235
        },
        "outputId": "03b6aa45-fe66-479b-fdcb-cdb2a4ce81c5"
      },
      "source": [
        "train_data, test_data, train_target, test_target = tt (X, df.target, test_size=0.2)\n",
        "log_reg = LogisticRegression()\n",
        "xgb_clf = XGBClassifier()\n",
        "svc = SVC(kernel='rbf')\n",
        "\n",
        "xgb_clf.fit(train_data, train_target)\n",
        "log_reg.fit(train_data, train_target)\n",
        "svc.fit(train_data, train_target)"
      ],
      "execution_count": 21,
      "outputs": [
        {
          "output_type": "stream",
          "text": [
            "/usr/local/lib/python3.6/dist-packages/sklearn/linear_model/_logistic.py:940: ConvergenceWarning: lbfgs failed to converge (status=1):\n",
            "STOP: TOTAL NO. of ITERATIONS REACHED LIMIT.\n",
            "\n",
            "Increase the number of iterations (max_iter) or scale the data as shown in:\n",
            "    https://scikit-learn.org/stable/modules/preprocessing.html\n",
            "Please also refer to the documentation for alternative solver options:\n",
            "    https://scikit-learn.org/stable/modules/linear_model.html#logistic-regression\n",
            "  extra_warning_msg=_LOGISTIC_SOLVER_CONVERGENCE_MSG)\n"
          ],
          "name": "stderr"
        },
        {
          "output_type": "execute_result",
          "data": {
            "text/plain": [
              "SVC(C=1.0, break_ties=False, cache_size=200, class_weight=None, coef0=0.0,\n",
              "    decision_function_shape='ovr', degree=3, gamma='scale', kernel='rbf',\n",
              "    max_iter=-1, probability=False, random_state=None, shrinking=True,\n",
              "    tol=0.001, verbose=False)"
            ]
          },
          "metadata": {
            "tags": []
          },
          "execution_count": 21
        }
      ]
    },
    {
      "cell_type": "code",
      "metadata": {
        "id": "kTqr0PUSDOiN",
        "colab_type": "code",
        "colab": {
          "base_uri": "https://localhost:8080/",
          "height": 355
        },
        "outputId": "ee717691-9554-4b16-a283-d3c033c2bb88"
      },
      "source": [
        "sns.countplot(test_target)"
      ],
      "execution_count": 22,
      "outputs": [
        {
          "output_type": "stream",
          "text": [
            "/usr/local/lib/python3.6/dist-packages/statsmodels/tools/_testing.py:19: FutureWarning: pandas.util.testing is deprecated. Use the functions in the public API at pandas.testing instead.\n",
            "  import pandas.util.testing as tm\n"
          ],
          "name": "stderr"
        },
        {
          "output_type": "execute_result",
          "data": {
            "text/plain": [
              "<matplotlib.axes._subplots.AxesSubplot at 0x7f6a8fc2b588>"
            ]
          },
          "metadata": {
            "tags": []
          },
          "execution_count": 22
        },
        {
          "output_type": "display_data",
          "data": {
            "image/png": "[encoded data removed]",
            "text/plain": [
              "<Figure size 432x288 with 1 Axes>"
            ]
          },
          "metadata": {
            "tags": [],
            "needs_background": "light"
          }
        }
      ]
    },
    {
      "cell_type": "code",
      "metadata": {
        "id": "4Y3B931cSXjo",
        "colab_type": "code",
        "colab": {
          "base_uri": "https://localhost:8080/",
          "height": 35
        },
        "outputId": "6385bba4-69f3-45ac-9a19-b25acfabf0e3"
      },
      "source": [
        "accuracy_score(test_target, xgb_clf.predict(test_data))\n",
        "#roc_auc_score(test_target, xgb_clf.predict(test_data))"
      ],
      "execution_count": 23,
      "outputs": [
        {
          "output_type": "execute_result",
          "data": {
            "text/plain": [
              "0.725"
            ]
          },
          "metadata": {
            "tags": []
          },
          "execution_count": 23
        }
      ]
    },
    {
      "cell_type": "code",
      "metadata": {
        "id": "tCIXc4C7TjpT",
        "colab_type": "code",
        "colab": {
          "base_uri": "https://localhost:8080/",
          "height": 35
        },
        "outputId": "c345c293-a4b4-4be4-d81e-fc7fb0331093"
      },
      "source": [
        "accuracy_score(test_target, log_reg.predict(test_data))"
      ],
      "execution_count": 24,
      "outputs": [
        {
          "output_type": "execute_result",
          "data": {
            "text/plain": [
              "0.725"
            ]
          },
          "metadata": {
            "tags": []
          },
          "execution_count": 24
        }
      ]
    },
    {
      "cell_type": "code",
      "metadata": {
        "id": "oTYxdii9WWtC",
        "colab_type": "code",
        "colab": {
          "base_uri": "https://localhost:8080/",
          "height": 35
        },
        "outputId": "53953f1d-1119-47fb-bff5-009b40e73c54"
      },
      "source": [
        "accuracy_score(test_target, svc.predict(test_data))"
      ],
      "execution_count": 25,
      "outputs": [
        {
          "output_type": "execute_result",
          "data": {
            "text/plain": [
              "0.725"
            ]
          },
          "metadata": {
            "tags": []
          },
          "execution_count": 25
        }
      ]
    },
    {
      "cell_type": "code",
      "metadata": {
        "id": "1A_wh9Z1DhCx",
        "colab_type": "code",
        "colab": {
          "base_uri": "https://localhost:8080/",
          "height": 54
        },
        "outputId": "c1a22533-4c98-4793-c689-061c439cbd0a"
      },
      "source": [
        "log_reg.predict(test_data)"
      ],
      "execution_count": 26,
      "outputs": [
        {
          "output_type": "execute_result",
          "data": {
            "text/plain": [
              "array([0, 0, 1, 1, 0, 0, 0, 0, 0, 0, 0, 0, 0, 0, 0, 0, 0, 0, 0, 0, 0, 0,\n",
              "       0, 0, 0, 0, 0, 0, 0, 0, 0, 0, 0, 0, 0, 0, 0, 0, 0, 0])"
            ]
          },
          "metadata": {
            "tags": []
          },
          "execution_count": 26
        }
      ]
    },
    {
      "cell_type": "code",
      "metadata": {
        "id": "hPJvFO-XXFU7",
        "colab_type": "code",
        "colab": {
          "base_uri": "https://localhost:8080/",
          "height": 35
        },
        "outputId": "7f432ae2-427d-41a5-e1a1-ffaa87c9c004"
      },
      "source": [
        "vectorizer = TfidfVectorizer(ngram_range=(1, 3), max_features=4000)\n",
        "X = vectorizer.fit_transform(df.text)\n",
        "train_data, test_data, train_target, test_target = tt (X, df.target, test_size=0.25)\n",
        "\n",
        "log_reg.fit(train_data, train_target)\n",
        " \n",
        "accuracy_score(test_target, log_reg.predict(test_data))"
      ],
      "execution_count": 28,
      "outputs": [
        {
          "output_type": "execute_result",
          "data": {
            "text/plain": [
              "0.78"
            ]
          },
          "metadata": {
            "tags": []
          },
          "execution_count": 28
        }
      ]
    },
    {
      "cell_type": "markdown",
      "metadata": {
        "id": "jBl2wTCrUy2z",
        "colab_type": "text"
      },
      "source": [
        "## Новостей мало, нужен большой датасет"
      ]
    },
    {
      "cell_type": "markdown",
      "metadata": {
        "id": "yFmNoPb5t8Lg",
        "colab_type": "text"
      },
      "source": [
        "##News from Evgeniy"
      ]
    },
    {
      "cell_type": "code",
      "metadata": {
        "id": "JFtSVUfIaaIO",
        "colab_type": "code",
        "colab": {
          "base_uri": "https://localhost:8080/",
          "height": 363
        },
        "outputId": "2bd19747-77d4-487a-ea7b-3d1b3e8d1a49"
      },
      "source": [
        "! pip install transformers"
      ],
      "execution_count": 1,
      "outputs": [
        {
          "output_type": "stream",
          "text": [
            "Requirement already satisfied: transformers in /usr/local/lib/python3.6/dist-packages (3.0.2)\n",
            "Requirement already satisfied: tokenizers==0.8.1.rc1 in /usr/local/lib/python3.6/dist-packages (from transformers) (0.8.1rc1)\n",
            "Requirement already satisfied: requests in /usr/local/lib/python3.6/dist-packages (from transformers) (2.23.0)\n",
            "Requirement already satisfied: numpy in /usr/local/lib/python3.6/dist-packages (from transformers) (1.18.5)\n",
            "Requirement already satisfied: dataclasses; python_version < \"3.7\" in /usr/local/lib/python3.6/dist-packages (from transformers) (0.7)\n",
            "Requirement already satisfied: tqdm>=4.27 in /usr/local/lib/python3.6/dist-packages (from transformers) (4.41.1)\n",
            "Requirement already satisfied: packaging in /usr/local/lib/python3.6/dist-packages (from transformers) (20.4)\n",
            "Requirement already satisfied: sacremoses in /usr/local/lib/python3.6/dist-packages (from transformers) (0.0.43)\n",
            "Requirement already satisfied: regex!=2019.12.17 in /usr/local/lib/python3.6/dist-packages (from transformers) (2019.12.20)\n",
            "Requirement already satisfied: filelock in /usr/local/lib/python3.6/dist-packages (from transformers) (3.0.12)\n",
            "Requirement already satisfied: sentencepiece!=0.1.92 in /usr/local/lib/python3.6/dist-packages (from transformers) (0.1.91)\n",
            "Requirement already satisfied: chardet<4,>=3.0.2 in /usr/local/lib/python3.6/dist-packages (from requests->transformers) (3.0.4)\n",
            "Requirement already satisfied: certifi>=2017.4.17 in /usr/local/lib/python3.6/dist-packages (from requests->transformers) (2020.6.20)\n",
            "Requirement already satisfied: urllib3!=1.25.0,!=1.25.1,<1.26,>=1.21.1 in /usr/local/lib/python3.6/dist-packages (from requests->transformers) (1.24.3)\n",
            "Requirement already satisfied: idna<3,>=2.5 in /usr/local/lib/python3.6/dist-packages (from requests->transformers) (2.10)\n",
            "Requirement already satisfied: six in /usr/local/lib/python3.6/dist-packages (from packaging->transformers) (1.15.0)\n",
            "Requirement already satisfied: pyparsing>=2.0.2 in /usr/local/lib/python3.6/dist-packages (from packaging->transformers) (2.4.7)\n",
            "Requirement already satisfied: click in /usr/local/lib/python3.6/dist-packages (from sacremoses->transformers) (7.1.2)\n",
            "Requirement already satisfied: joblib in /usr/local/lib/python3.6/dist-packages (from sacremoses->transformers) (0.16.0)\n"
          ],
          "name": "stdout"
        }
      ]
    },
    {
      "cell_type": "code",
      "metadata": {
        "id": "eA_t1VDmrnrZ",
        "colab_type": "code",
        "colab": {
          "base_uri": "https://localhost:8080/",
          "height": 90
        },
        "outputId": "51f971eb-ce27-48af-8117-7aa5d4dc88cd"
      },
      "source": [
        "!pip install pymorphy2"
      ],
      "execution_count": 13,
      "outputs": [
        {
          "output_type": "stream",
          "text": [
            "Requirement already satisfied: pymorphy2 in /usr/local/lib/python3.6/dist-packages (0.8)\n",
            "Requirement already satisfied: pymorphy2-dicts<3.0,>=2.4 in /usr/local/lib/python3.6/dist-packages (from pymorphy2) (2.4.393442.3710985)\n",
            "Requirement already satisfied: dawg-python>=0.7 in /usr/local/lib/python3.6/dist-packages (from pymorphy2) (0.7.2)\n",
            "Requirement already satisfied: docopt>=0.6 in /usr/local/lib/python3.6/dist-packages (from pymorphy2) (0.6.2)\n"
          ],
          "name": "stdout"
        }
      ]
    },
    {
      "cell_type": "code",
      "metadata": {
        "id": "pwVb1Ya9xb_2",
        "colab_type": "code",
        "colab": {}
      },
      "source": [
        "import datetime\n",
        "import time\n",
        "import re\n",
        "import seaborn as sns\n",
        "import warnings\n",
        "import numpy as np\n",
        "import pandas as pd\n",
        "import pickle\n",
        "from lightgbm import LGBMClassifier\n",
        "from keras.layers import Activation, Embedding, LSTM, Dense, Conv1D, GlobalMaxPooling1D\n",
        "from keras import Sequential\n",
        "from collections import Counter\n",
        "from tensorflow.keras import utils\n",
        "from sklearn.model_selection import KFold\n",
        "from sklearn.model_selection import cross_val_score, GridSearchCV\n",
        "from xgboost import XGBClassifier\n",
        "from sklearn.feature_extraction.text import CountVectorizer, HashingVectorizer\n",
        "from sklearn.model_selection import TimeSeriesSplit, cross_val_score, GridSearchCV\n",
        "from sklearn.metrics import roc_auc_score \n",
        "from sklearn.model_selection import train_test_split as tt\n",
        "import nltk\n",
        "from nltk.corpus import stopwords\n",
        "from sklearn.model_selection import GridSearchCV\n",
        "import torch\n",
        "import transformers as ppb\n",
        "from sklearn.metrics import accuracy_score\n",
        "from xgboost import XGBRegressor\n",
        "from sklearn.metrics import mean_absolute_error as mae\n",
        "\n",
        "import warnings\n",
        "warnings.filterwarnings('ignore')\n",
        "from keras.preprocessing.sequence import pad_sequences\n",
        "import pymorphy2"
      ],
      "execution_count": 14,
      "outputs": []
    },
    {
      "cell_type": "code",
      "metadata": {
        "id": "YCdz4nhPuBPN",
        "colab_type": "code",
        "colab": {}
      },
      "source": [
        "forbes = pd.read_json('interfax.json')"
      ],
      "execution_count": 15,
      "outputs": []
    },
    {
      "cell_type": "code",
      "metadata": {
        "id": "mpLIVhD_uBFH",
        "colab_type": "code",
        "colab": {}
      },
      "source": [
        "forbes.drop(columns=['url', 'inns'], inplace=True)"
      ],
      "execution_count": 16,
      "outputs": []
    },
    {
      "cell_type": "code",
      "metadata": {
        "id": "ilgthOyiz5v8",
        "colab_type": "code",
        "colab": {}
      },
      "source": [
        "date = []\n",
        "\n",
        "for i in range(forbes.shape[0]):\n",
        "  date.append(datetime.datetime(year=int(forbes.dttm_published[i][:4]), month=int(forbes.dttm_published[i][5:7]), day=int(forbes.dttm_published[i][8:10])))\n",
        "  \n",
        "forbes['date'] = date\n",
        "forbes.drop(columns=['dttm_published'], inplace=True)"
      ],
      "execution_count": 17,
      "outputs": []
    },
    {
      "cell_type": "markdown",
      "metadata": {
        "id": "ER0eusvp3vEc",
        "colab_type": "text"
      },
      "source": [
        "## Text prerocessing"
      ]
    },
    {
      "cell_type": "code",
      "metadata": {
        "id": "6k-1RTgE1oSS",
        "colab_type": "code",
        "colab": {
          "base_uri": "https://localhost:8080/",
          "height": 54
        },
        "outputId": "4b863e21-fe81-4f04-c292-ea9c6a2c525d"
      },
      "source": [
        "nltk.download('stopwords') # стоп слова русского языка\n",
        "\n",
        "stop_words = stopwords.words(('russian'))\n",
        "\n",
        "for i in range(len(stop_words)):\n",
        "  stop_words[i] = ' '+stop_words[i]+' '"
      ],
      "execution_count": 18,
      "outputs": [
        {
          "output_type": "stream",
          "text": [
            "[nltk_data] Downloading package stopwords to /root/nltk_data...\n",
            "[nltk_data]   Package stopwords is already up-to-date!\n"
          ],
          "name": "stdout"
        }
      ]
    },
    {
      "cell_type": "code",
      "metadata": {
        "id": "jIi3dW8D30g6",
        "colab_type": "code",
        "colab": {}
      },
      "source": [
        "dictionary = [] # словарь символов, из которых состоят все тексты\n",
        "\n",
        "for text in forbes.text.values:\n",
        "  text.lower()\n",
        "  for char in text:\n",
        "    if char not in dictionary:\n",
        "      dictionary.append(char)\n",
        "\n",
        "dictionary.sort()"
      ],
      "execution_count": 19,
      "outputs": []
    },
    {
      "cell_type": "code",
      "metadata": {
        "id": "i3dSw3uK30LP",
        "colab_type": "code",
        "colab": {}
      },
      "source": [
        "useful_char = [' ']\n",
        "useful_char = useful_char + dictionary[34:60] + dictionary[66:92] + dictionary[99:-4]# полезные символы лишь символы алфавита и некоторые другие \n",
        "# (взяты по интуитивным соображениям)\n",
        "# тем самым отбрасываем пунктуацию, цифры и их производные(номера телефонов, договоров) и прочую информацию, которая похожа на шум и не несет в себе смысл"
      ],
      "execution_count": 20,
      "outputs": []
    },
    {
      "cell_type": "code",
      "metadata": {
        "id": "1k2YlMOb5rO2",
        "colab_type": "code",
        "colab": {}
      },
      "source": [
        "useless_char = []\n",
        "\n",
        "for char in dictionary:\n",
        "  if char not in useful_char:\n",
        "    useless_char.append(char)"
      ],
      "execution_count": 21,
      "outputs": []
    },
    {
      "cell_type": "code",
      "metadata": {
        "id": "UBFcp9t-r1-4",
        "colab_type": "code",
        "colab": {}
      },
      "source": [
        "morph = pymorphy2.MorphAnalyzer()"
      ],
      "execution_count": 22,
      "outputs": []
    },
    {
      "cell_type": "code",
      "metadata": {
        "id": "qg8CktyM5_36",
        "colab_type": "code",
        "colab": {
          "base_uri": "https://localhost:8080/",
          "height": 54
        },
        "outputId": "665ab7f0-436c-4534-b7a5-e0034bd46b51"
      },
      "source": [
        "%%time\n",
        "\n",
        "d = np.array(forbes['text'])\n",
        "data = np.empty(len(d), dtype='object')\n",
        "\n",
        "for i in range(len(d)):\n",
        "\n",
        "  d[i].lower() # приведение к нижнему регистру\n",
        "\n",
        "  d[i] = re.sub(r'https://[a-z1-9./]+', ' ', d[i]) # удаление ссылок\n",
        "\n",
        "  for stop_word in stop_words:\n",
        "    if stop_word in d[i]:\n",
        "      d[i] = d[i].replace(stop_word, ' ') # удаление стоп слов\n",
        "\n",
        "\n",
        "  for char in useless_char:\n",
        "    if char in d[i]:\n",
        "      d[i] = d[i].replace(char, ' ') # удаление символов кроме символов русского и английского алфавитов\n",
        "\n",
        "  words = d[i].split()\n",
        "  sentence = ''\n",
        "\n",
        "  for j in range(len(words)):\n",
        "    sentence += morph.parse(words[j])[0].normal_form + ' ' # лемматизация\n",
        "\n",
        "  #for char in alphabet: # удаление отдельно стоящих символов русского алфавита\n",
        "    #if char in d[i]:\n",
        "      #d[i] = d[i].replace(char, ' ') \n",
        "\n",
        "  data[i] = sentence"
      ],
      "execution_count": 23,
      "outputs": [
        {
          "output_type": "stream",
          "text": [
            "CPU times: user 2min 24s, sys: 21 ms, total: 2min 24s\n",
            "Wall time: 2min 24s\n"
          ],
          "name": "stdout"
        }
      ]
    },
    {
      "cell_type": "code",
      "metadata": {
        "id": "4U5iyBDZ2CSl",
        "colab_type": "code",
        "colab": {
          "base_uri": "https://localhost:8080/",
          "height": 171
        },
        "outputId": "68b0cff9-4ae0-4672-9e9b-f0fec4b57a6a"
      },
      "source": [
        "data[0]"
      ],
      "execution_count": 1,
      "outputs": [
        {
          "output_type": "error",
          "ename": "NameError",
          "evalue": "ignored",
          "traceback": [
            "\u001b[0;31m---------------------------------------------------------------------------\u001b[0m",
            "\u001b[0;31mNameError\u001b[0m                                 Traceback (most recent call last)",
            "\u001b[0;32m<ipython-input-1-80a4aab09c73>\u001b[0m in \u001b[0;36m<module>\u001b[0;34m()\u001b[0m\n\u001b[0;32m----> 1\u001b[0;31m \u001b[0mdata\u001b[0m\u001b[0;34m[\u001b[0m\u001b[0;36m0\u001b[0m\u001b[0;34m]\u001b[0m\u001b[0;34m\u001b[0m\u001b[0;34m\u001b[0m\u001b[0m\n\u001b[0m",
            "\u001b[0;31mNameError\u001b[0m: name 'data' is not defined"
          ]
        }
      ]
    },
    {
      "cell_type": "code",
      "metadata": {
        "id": "zd57jBFB8Vb1",
        "colab_type": "code",
        "colab": {}
      },
      "source": [
        "cnt = Counter() # подсчет числа вхождений каждого слова в текст\n",
        "for text in data:\n",
        "    for word in str(text).split():\n",
        "        cnt[word] += 1\n",
        "        \n",
        "most_frequient = cnt.most_common()"
      ],
      "execution_count": 25,
      "outputs": []
    },
    {
      "cell_type": "code",
      "metadata": {
        "id": "DR381BuzJXPO",
        "colab_type": "code",
        "colab": {}
      },
      "source": [
        "most_and_less_frequient_words = set([w for (w, wc) in most_frequient[:250] +  most_frequient[-19_770:]]) # -13_005:\n",
        "\n",
        "def remove_words(text):\n",
        "\n",
        "    return ' '.join([word for word in str(text).split() if word not in most_and_less_frequient_words])"
      ],
      "execution_count": 26,
      "outputs": []
    },
    {
      "cell_type": "code",
      "metadata": {
        "id": "4xoXwtrQNDGT",
        "colab_type": "code",
        "colab": {}
      },
      "source": [
        "data = pd.Series(data).apply(lambda text: remove_words(text)) # удаление самых частых и самых редких слов (остались только слова с частотой от 3 до 233)"
      ],
      "execution_count": 27,
      "outputs": []
    },
    {
      "cell_type": "markdown",
      "metadata": {
        "id": "0UtV0PuESJgV",
        "colab_type": "text"
      },
      "source": [
        "## Simple test"
      ]
    },
    {
      "cell_type": "code",
      "metadata": {
        "id": "J4pH8rbYSqjL",
        "colab_type": "code",
        "colab": {}
      },
      "source": [
        "def preprocessing_sber_data(sber):\n",
        "  sber.columns=['date', 'time', 'open', 'high', 'low', 'close', 'vol']\n",
        "  sber.time /= 10_000\n",
        "\n",
        "  year, month, day = [], [], []\n",
        "  for i in range(sber.shape[0]):\n",
        "    year.append(time.strptime(str(sber.date[i]), '%Y%m%d')[0])\n",
        "    month.append(time.strptime(str(sber.date[i]), '%Y%m%d')[1])\n",
        "    day.append(time.strptime(str(sber.date[i]), '%Y%m%d')[2])\n",
        "\n",
        "  sber['year'] = year\n",
        "  sber['month'] = month\n",
        "  sber['day'] = day\n",
        "\n",
        "  sber.drop(columns=['date'], inplace=True)\n",
        "\n",
        "  return sber"
      ],
      "execution_count": 28,
      "outputs": []
    },
    {
      "cell_type": "code",
      "metadata": {
        "id": "lJyaPQPWSL1Q",
        "colab_type": "code",
        "colab": {}
      },
      "source": [
        "sber_day = preprocessing_sber_data(pd.read_csv('https://raw.githubusercontent.com/WildArcher/Stock_price_prediction/master/sber_data/SBER_2000-2020_day.csv', sep=' '))"
      ],
      "execution_count": 29,
      "outputs": []
    },
    {
      "cell_type": "code",
      "metadata": {
        "id": "FM7hxDLhSdWi",
        "colab_type": "code",
        "colab": {}
      },
      "source": [
        "sber_day['date'] = np.zeros(sber_day.shape[0])\n",
        "\n",
        "for i in range(sber_day.shape[0]): \n",
        "  sber_day['date'][i] = datetime.datetime(sber_day.year[i], sber_day.month[i], sber_day.day[i])"
      ],
      "execution_count": 30,
      "outputs": []
    },
    {
      "cell_type": "code",
      "metadata": {
        "id": "4xQP4LQcS3-7",
        "colab_type": "code",
        "colab": {
          "base_uri": "https://localhost:8080/",
          "height": 198
        },
        "outputId": "0b66bacb-9c6d-4313-f24c-1030e6948c9d"
      },
      "source": [
        "sber_day.head()"
      ],
      "execution_count": 31,
      "outputs": [
        {
          "output_type": "execute_result",
          "data": {
            "text/html": [
              "<div>\n",
              "<style scoped>\n",
              "    .dataframe tbody tr th:only-of-type {\n",
              "        vertical-align: middle;\n",
              "    }\n",
              "\n",
              "    .dataframe tbody tr th {\n",
              "        vertical-align: top;\n",
              "    }\n",
              "\n",
              "    .dataframe thead th {\n",
              "        text-align: right;\n",
              "    }\n",
              "</style>\n",
              "<table border=\"1\" class=\"dataframe\">\n",
              "  <thead>\n",
              "    <tr style=\"text-align: right;\">\n",
              "      <th></th>\n",
              "      <th>time</th>\n",
              "      <th>open</th>\n",
              "      <th>high</th>\n",
              "      <th>low</th>\n",
              "      <th>close</th>\n",
              "      <th>vol</th>\n",
              "      <th>year</th>\n",
              "      <th>month</th>\n",
              "      <th>day</th>\n",
              "      <th>date</th>\n",
              "    </tr>\n",
              "  </thead>\n",
              "  <tbody>\n",
              "    <tr>\n",
              "      <th>0</th>\n",
              "      <td>0.0</td>\n",
              "      <td>1333.00</td>\n",
              "      <td>1372.00</td>\n",
              "      <td>1333.0</td>\n",
              "      <td>1352.00</td>\n",
              "      <td>8732</td>\n",
              "      <td>2000</td>\n",
              "      <td>7</td>\n",
              "      <td>17</td>\n",
              "      <td>2000-07-17 00:00:00</td>\n",
              "    </tr>\n",
              "    <tr>\n",
              "      <th>1</th>\n",
              "      <td>0.0</td>\n",
              "      <td>1341.17</td>\n",
              "      <td>1352.50</td>\n",
              "      <td>1327.0</td>\n",
              "      <td>1335.00</td>\n",
              "      <td>7134</td>\n",
              "      <td>2000</td>\n",
              "      <td>7</td>\n",
              "      <td>18</td>\n",
              "      <td>2000-07-18 00:00:00</td>\n",
              "    </tr>\n",
              "    <tr>\n",
              "      <th>2</th>\n",
              "      <td>0.0</td>\n",
              "      <td>1340.00</td>\n",
              "      <td>1345.49</td>\n",
              "      <td>1282.0</td>\n",
              "      <td>1296.00</td>\n",
              "      <td>18491</td>\n",
              "      <td>2000</td>\n",
              "      <td>7</td>\n",
              "      <td>19</td>\n",
              "      <td>2000-07-19 00:00:00</td>\n",
              "    </tr>\n",
              "    <tr>\n",
              "      <th>3</th>\n",
              "      <td>0.0</td>\n",
              "      <td>1293.83</td>\n",
              "      <td>1299.99</td>\n",
              "      <td>1260.0</td>\n",
              "      <td>1284.98</td>\n",
              "      <td>9710</td>\n",
              "      <td>2000</td>\n",
              "      <td>7</td>\n",
              "      <td>20</td>\n",
              "      <td>2000-07-20 00:00:00</td>\n",
              "    </tr>\n",
              "    <tr>\n",
              "      <th>4</th>\n",
              "      <td>0.0</td>\n",
              "      <td>1320.00</td>\n",
              "      <td>1330.00</td>\n",
              "      <td>1287.0</td>\n",
              "      <td>1295.00</td>\n",
              "      <td>10973</td>\n",
              "      <td>2000</td>\n",
              "      <td>7</td>\n",
              "      <td>21</td>\n",
              "      <td>2000-07-21 00:00:00</td>\n",
              "    </tr>\n",
              "  </tbody>\n",
              "</table>\n",
              "</div>"
            ],
            "text/plain": [
              "   time     open     high     low  ...  year  month  day                 date\n",
              "0   0.0  1333.00  1372.00  1333.0  ...  2000      7   17  2000-07-17 00:00:00\n",
              "1   0.0  1341.17  1352.50  1327.0  ...  2000      7   18  2000-07-18 00:00:00\n",
              "2   0.0  1340.00  1345.49  1282.0  ...  2000      7   19  2000-07-19 00:00:00\n",
              "3   0.0  1293.83  1299.99  1260.0  ...  2000      7   20  2000-07-20 00:00:00\n",
              "4   0.0  1320.00  1330.00  1287.0  ...  2000      7   21  2000-07-21 00:00:00\n",
              "\n",
              "[5 rows x 10 columns]"
            ]
          },
          "metadata": {
            "tags": []
          },
          "execution_count": 31
        }
      ]
    },
    {
      "cell_type": "code",
      "metadata": {
        "id": "_tCU4EdzTfiH",
        "colab_type": "code",
        "colab": {}
      },
      "source": [
        "forbes.text = data"
      ],
      "execution_count": 32,
      "outputs": []
    },
    {
      "cell_type": "code",
      "metadata": {
        "id": "qN27pWjyUUHU",
        "colab_type": "code",
        "colab": {}
      },
      "source": [
        "sber_day['date_int'] = np.zeros(sber_day.shape[0])\n",
        "\n",
        "for i in range(sber_day.shape[0]):\n",
        "  sber_day['date_int'][i] = int(sber_day.date[i].year)*10_000 + int(sber_day.date[i].month)*100 + int(sber_day.date[i].day)"
      ],
      "execution_count": 33,
      "outputs": []
    },
    {
      "cell_type": "code",
      "metadata": {
        "id": "CmgfcbczYAMv",
        "colab_type": "code",
        "colab": {}
      },
      "source": [
        "forbes['date_int'] = np.zeros(forbes.shape[0])\n",
        "\n",
        "for i in range(forbes.shape[0]):\n",
        "  forbes['date_int'][i] = int(forbes.date[i].year)*10_000 + int(forbes.date[i].month)*100 + int(forbes.date[i].day)"
      ],
      "execution_count": 34,
      "outputs": []
    },
    {
      "cell_type": "code",
      "metadata": {
        "id": "w-yPY4qDYPPU",
        "colab_type": "code",
        "colab": {}
      },
      "source": [
        "forbes = forbes.merge(sber_day.drop(columns=['date']))\n",
        "\n",
        "forbes['target']  = np.where(forbes.close.shift(-1) > forbes.close, 1, 0)\n",
        "\n",
        "for i in range(len(np.unique(forbes.date_int))):\n",
        "  if forbes.target[forbes.date_int == np.unique(forbes.date_int)[i]].mean() != 0:\n",
        "    for index in forbes.target[forbes.date_int == np.unique(forbes.date_int)[i]].index:\n",
        "      forbes.target[index] = 1\n",
        "\n",
        "data = forbes[['close', 'text', 'target']]"
      ],
      "execution_count": 35,
      "outputs": []
    },
    {
      "cell_type": "code",
      "metadata": {
        "id": "dQSW8SgtAAlj",
        "colab_type": "code",
        "colab": {}
      },
      "source": [
        "from sklearn.feature_extraction.text import CountVectorizer as CountVectorizer\n",
        "\n",
        "count_vectorizer = CountVectorizer(ngram_range=(1, 3), max_features=3000)\n",
        "X = count_vectorizer.fit_transform(data.text)"
      ],
      "execution_count": 36,
      "outputs": []
    },
    {
      "cell_type": "code",
      "metadata": {
        "id": "avT8XOoKABmj",
        "colab_type": "code",
        "colab": {}
      },
      "source": [
        "from sklearn.linear_model import LogisticRegression\n",
        "from sklearn.model_selection import train_test_split as tt\n",
        "from xgboost import XGBClassifier\n",
        "from sklearn.ensemble import RandomForestClassifier, ExtraTreesRegressor\n",
        "from sklearn.svm import SVC\n",
        "from sklearn.neighbors import KNeighborsClassifier\n",
        "from sklearn.neural_network import MLPClassifier\n",
        "from sklearn.naive_bayes import GaussianNB\n",
        "from sklearn.tree import DecisionTreeClassifier\n",
        "\n",
        "train_data, test_data, train_target, test_target = tt (X, data.target, test_size=0.2)\n",
        "\n",
        "xgb_clf = XGBClassifier()\n",
        "log_reg = LogisticRegression()\n",
        "rand_for_clf = RandomForestClassifier()\n",
        "svc = SVC()\n",
        "neural_net = MLPClassifier(solver='adam', alpha=0.0001, learning_rate='constant', learning_rate_init=0.001)\n",
        "gauss = GaussianNB()\n",
        "knn = KNeighborsClassifier()"
      ],
      "execution_count": 37,
      "outputs": []
    },
    {
      "cell_type": "code",
      "metadata": {
        "id": "c0IwFTfWABMg",
        "colab_type": "code",
        "colab": {
          "base_uri": "https://localhost:8080/",
          "height": 235
        },
        "outputId": "f326dc12-7b76-4411-8c4c-c1c181b97878"
      },
      "source": [
        "from sklearn.metrics import accuracy_score, roc_auc_score\n",
        "\n",
        "for model in [xgb_clf, log_reg, rand_for_clf, svc, neural_net, knn]:\n",
        "  model.fit(train_data, train_target)\n",
        "  print(str(model).split('(')[0], accuracy_score(test_target, model.predict(test_data)), '\\n')"
      ],
      "execution_count": 38,
      "outputs": [
        {
          "output_type": "stream",
          "text": [
            "XGBClassifier 0.5635036496350365 \n",
            "\n",
            "LogisticRegression 0.5635036496350365 \n",
            "\n",
            "RandomForestClassifier 0.5795620437956205 \n",
            "\n",
            "SVC 0.5737226277372263 \n",
            "\n",
            "MLPClassifier 0.5693430656934306 \n",
            "\n",
            "KNeighborsClassifier 0.5007299270072992 \n",
            "\n"
          ],
          "name": "stdout"
        }
      ]
    },
    {
      "cell_type": "markdown",
      "metadata": {
        "id": "UqMCYqTCd45-",
        "colab_type": "text"
      },
      "source": [
        "# BERT"
      ]
    },
    {
      "cell_type": "code",
      "metadata": {
        "id": "WiJc19u_eRJU",
        "colab_type": "code",
        "colab": {
          "base_uri": "https://localhost:8080/",
          "height": 198
        },
        "outputId": "0cd87628-59af-4f86-d349-d7d28604ca2f"
      },
      "source": [
        "data.head()"
      ],
      "execution_count": 39,
      "outputs": [
        {
          "output_type": "execute_result",
          "data": {
            "text/html": [
              "<div>\n",
              "<style scoped>\n",
              "    .dataframe tbody tr th:only-of-type {\n",
              "        vertical-align: middle;\n",
              "    }\n",
              "\n",
              "    .dataframe tbody tr th {\n",
              "        vertical-align: top;\n",
              "    }\n",
              "\n",
              "    .dataframe thead th {\n",
              "        text-align: right;\n",
              "    }\n",
              "</style>\n",
              "<table border=\"1\" class=\"dataframe\">\n",
              "  <thead>\n",
              "    <tr style=\"text-align: right;\">\n",
              "      <th></th>\n",
              "      <th>close</th>\n",
              "      <th>text</th>\n",
              "      <th>target</th>\n",
              "    </tr>\n",
              "  </thead>\n",
              "  <tbody>\n",
              "    <tr>\n",
              "      <th>0</th>\n",
              "      <td>188.08</td>\n",
              "      <td>medi russi пятница провести онлайн конференция...</td>\n",
              "      <td>1</td>\n",
              "    </tr>\n",
              "    <tr>\n",
              "      <th>1</th>\n",
              "      <td>188.08</td>\n",
              "      <td>туризм россиянин временно вьетнам вернуться до...</td>\n",
              "      <td>1</td>\n",
              "    </tr>\n",
              "    <tr>\n",
              "      <th>2</th>\n",
              "      <td>188.08</td>\n",
              "      <td>южный сахалинск дальний восток аврор переводит...</td>\n",
              "      <td>1</td>\n",
              "    </tr>\n",
              "    <tr>\n",
              "      <th>3</th>\n",
              "      <td>188.08</td>\n",
              "      <td>тюмень урал тобольск тюменский технический рос...</td>\n",
              "      <td>1</td>\n",
              "    </tr>\n",
              "    <tr>\n",
              "      <th>4</th>\n",
              "      <td>188.08</td>\n",
              "      <td>индия остаться клиент туроператор вывезти тури...</td>\n",
              "      <td>1</td>\n",
              "    </tr>\n",
              "  </tbody>\n",
              "</table>\n",
              "</div>"
            ],
            "text/plain": [
              "    close                                               text  target\n",
              "0  188.08  medi russi пятница провести онлайн конференция...       1\n",
              "1  188.08  туризм россиянин временно вьетнам вернуться до...       1\n",
              "2  188.08  южный сахалинск дальний восток аврор переводит...       1\n",
              "3  188.08  тюмень урал тобольск тюменский технический рос...       1\n",
              "4  188.08  индия остаться клиент туроператор вывезти тури...       1"
            ]
          },
          "metadata": {
            "tags": []
          },
          "execution_count": 39
        }
      ]
    },
    {
      "cell_type": "code",
      "metadata": {
        "id": "onvmzTA5ZkoS",
        "colab_type": "code",
        "colab": {}
      },
      "source": [
        "model_class, tokenizer_class, pretrained_weights = (ppb.BertModel, ppb.BertTokenizer, 'bert-base-uncased')\n",
        "\n",
        "tokenizer = tokenizer_class.from_pretrained(pretrained_weights)\n",
        "model = model_class.from_pretrained(pretrained_weights)"
      ],
      "execution_count": 40,
      "outputs": []
    },
    {
      "cell_type": "code",
      "metadata": {
        "id": "_0H2cMT1elZb",
        "colab_type": "code",
        "colab": {}
      },
      "source": [
        "for i in range(data.shape[0]): # проблема - слишком длинные новости, ее длина в среднем 2000, а для токенайзера максимум 512\n",
        "# Решение - разбивать на куски длиной не более 512 (конец - конец предложения) и тональность самой новости считать как среднее из тональностей ее составляющих\n",
        "   data['text'][i] =  data['text'][i][:128]"
      ],
      "execution_count": 41,
      "outputs": []
    },
    {
      "cell_type": "code",
      "metadata": {
        "id": "-U6yhkGbd7O2",
        "colab_type": "code",
        "colab": {}
      },
      "source": [
        "tokenized = data['text'].apply((lambda x: tokenizer.encode(x, add_special_tokens=True)))"
      ],
      "execution_count": 42,
      "outputs": []
    },
    {
      "cell_type": "code",
      "metadata": {
        "id": "jXVLI-K6eczn",
        "colab_type": "code",
        "colab": {
          "base_uri": "https://localhost:8080/",
          "height": 235
        },
        "outputId": "33ab20cd-f662-4a63-ffe9-ad811cc67501"
      },
      "source": [
        "tokenized"
      ],
      "execution_count": 43,
      "outputs": [
        {
          "output_type": "execute_result",
          "data": {
            "text/plain": [
              "0       [101, 19960, 2072, 18072, 2072, 1194, 17432, 2...\n",
              "1       [101, 1197, 29748, 16856, 10325, 29744, 29745,...\n",
              "2       [101, 1209, 29743, 18947, 29113, 10325, 1196, ...\n",
              "3       [101, 1197, 29757, 29745, 15290, 18947, 23742,...\n",
              "4       [101, 1188, 18947, 29742, 23483, 1193, 29747, ...\n",
              "                              ...                        \n",
              "3420    [101, 1196, 10260, 29748, 29742, 19259, 29747,...\n",
              "3421    [101, 1189, 16856, 10260, 29747, 18947, 14150,...\n",
              "3422    [101, 1196, 22919, 10260, 16856, 22919, 19259,...\n",
              "3423    [101, 1183, 15290, 14150, 29746, 14150, 29436,...\n",
              "3424    [101, 4013, 19648, 1184, 14150, 29752, 15290, ...\n",
              "Name: text, Length: 3425, dtype: object"
            ]
          },
          "metadata": {
            "tags": []
          },
          "execution_count": 43
        }
      ]
    },
    {
      "cell_type": "code",
      "metadata": {
        "id": "lYgfgE25QcES",
        "colab_type": "code",
        "colab": {}
      },
      "source": [
        "max_len = 0\n",
        "for i in tokenized.values:\n",
        "    if len(i) > max_len:\n",
        "        max_len = len(i)\n",
        "\n",
        "padded = np.array([i + [0]*(max_len-len(i)) for i in tokenized.values])"
      ],
      "execution_count": 44,
      "outputs": []
    },
    {
      "cell_type": "code",
      "metadata": {
        "id": "4nVdv7SOfZh3",
        "colab_type": "code",
        "colab": {
          "base_uri": "https://localhost:8080/",
          "height": 35
        },
        "outputId": "e598f60f-1bc4-4109-b943-f06ec1ad0432"
      },
      "source": [
        "attention_mask = np.where(padded != 0, 1, 0)\n",
        "attention_mask.shape"
      ],
      "execution_count": 45,
      "outputs": [
        {
          "output_type": "execute_result",
          "data": {
            "text/plain": [
              "(3425, 120)"
            ]
          },
          "metadata": {
            "tags": []
          },
          "execution_count": 45
        }
      ]
    },
    {
      "cell_type": "code",
      "metadata": {
        "id": "TvucZF_RgkBp",
        "colab_type": "code",
        "colab": {}
      },
      "source": [
        "input_ids = torch.tensor(padded)  \n",
        "attention_mask = torch.tensor(attention_mask)\n",
        "\n",
        "with torch.no_grad():\n",
        "    last_hidden_states = model(input_ids, attention_mask=attention_mask)"
      ],
      "execution_count": null,
      "outputs": []
    },
    {
      "cell_type": "code",
      "metadata": {
        "id": "3sSd_ZqIgn9i",
        "colab_type": "code",
        "colab": {}
      },
      "source": [
        "features = last_hidden_states[0][:,0,:].numpy()"
      ],
      "execution_count": null,
      "outputs": []
    },
    {
      "cell_type": "code",
      "metadata": {
        "id": "NkI5fDA5oQor",
        "colab_type": "code",
        "colab": {}
      },
      "source": [
        "train_features, test_features, train_target, test_target = tt(features, data['target'], random_state=42)\n",
        "  \n",
        "for model in [xgb_clf, log_reg, rand_for_clf, svc, neural_net, knn]:\n",
        "  model.fit(train_features, train_target)\n",
        "  print(str(model).split('(')[0], accuracy_score(test_target, model.predict(test_features)), '\\n')"
      ],
      "execution_count": null,
      "outputs": []
    },
    {
      "cell_type": "code",
      "metadata": {
        "id": "BoPAoaEil98u",
        "colab_type": "code",
        "colab": {}
      },
      "source": [
        ""
      ],
      "execution_count": null,
      "outputs": []
    }
  ]
}