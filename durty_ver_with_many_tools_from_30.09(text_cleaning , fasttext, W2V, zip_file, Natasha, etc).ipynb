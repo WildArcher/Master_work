{
  "nbformat": 4,
  "nbformat_minor": 0,
  "metadata": {
    "colab": {
      "name": "Untitled20_(12) (1).ipynb",
      "provenance": [],
      "collapsed_sections": []
    },
    "kernelspec": {
      "display_name": "Python 3",
      "language": "python",
      "name": "python3"
    },
    "language_info": {
      "codemirror_mode": {
        "name": "ipython",
        "version": 3
      },
      "file_extension": ".py",
      "mimetype": "text/x-python",
      "name": "python",
      "nbconvert_exporter": "python",
      "pygments_lexer": "ipython3",
      "version": "3.7.4"
    }
  },
  "cells": [
    {
      "cell_type": "code",
      "metadata": {
        "id": "pwVb1Ya9xb_2",
        "outputId": "83070536-f870-45bc-f17a-0510fe07f410",
        "colab": {
          "base_uri": "https://localhost:8080/",
          "height": 289
        }
      },
      "source": [
        "!pip3 install git+https://github.com/kmike/pymorphy2"
      ],
      "execution_count": 1,
      "outputs": [
        {
          "output_type": "stream",
          "text": [
            "Collecting git+https://github.com/kmike/pymorphy2\n",
            "  Cloning https://github.com/kmike/pymorphy2 to /tmp/pip-req-build-ru3epf5w\n",
            "  Running command git clone -q https://github.com/kmike/pymorphy2 /tmp/pip-req-build-ru3epf5w\n",
            "Collecting dawg-python>=0.7.1\n",
            "  Downloading https://files.pythonhosted.org/packages/6a/84/ff1ce2071d4c650ec85745766c0047ccc3b5036f1d03559fd46bb38b5eeb/DAWG_Python-0.7.2-py2.py3-none-any.whl\n",
            "Collecting pymorphy2-dicts-ru<3.0,>=2.4\n",
            "\u001b[?25l  Downloading https://files.pythonhosted.org/packages/7c/9b/358faaff410f65a4ad159275e897b5956dcb20576c5b8e764b971c1634d7/pymorphy2_dicts_ru-2.4.404381.4453942-py2.py3-none-any.whl (8.0MB)\n",
            "\u001b[K     |████████████████████████████████| 8.0MB 3.9MB/s \n",
            "\u001b[?25hRequirement already satisfied: docopt>=0.6 in /usr/local/lib/python3.6/dist-packages (from pymorphy2==0.9.1) (0.6.2)\n",
            "Building wheels for collected packages: pymorphy2\n",
            "  Building wheel for pymorphy2 (setup.py) ... \u001b[?25l\u001b[?25hdone\n",
            "  Created wheel for pymorphy2: filename=pymorphy2-0.9.1-cp36-none-any.whl size=55246 sha256=5de6b3d40043d2794a950151b4d3d3ae127207390564cb1472568d2c2f83c4cb\n",
            "  Stored in directory: /tmp/pip-ephem-wheel-cache-cdylielb/wheels/03/bf/ee/4aec6da72e687a9650a660f90c6c90d815765ba868cfb2b406\n",
            "Successfully built pymorphy2\n",
            "Installing collected packages: dawg-python, pymorphy2-dicts-ru, pymorphy2\n",
            "Successfully installed dawg-python-0.7.2 pymorphy2-0.9.1 pymorphy2-dicts-ru-2.4.404381.4453942\n"
          ],
          "name": "stdout"
        }
      ]
    },
    {
      "cell_type": "code",
      "metadata": {
        "id": "F64aP8cVWJra",
        "outputId": "44f2f3e4-2f46-43ea-92d4-d870308bfa18",
        "colab": {
          "base_uri": "https://localhost:8080/",
          "height": 102
        }
      },
      "source": [
        "!pip3 install --user 'lxml<4.2.0'"
      ],
      "execution_count": 2,
      "outputs": [
        {
          "output_type": "stream",
          "text": [
            "Collecting lxml<4.2.0\n",
            "\u001b[?25l  Downloading https://files.pythonhosted.org/packages/81/da/4fabb01d59f3d2b256e75ffee9516ea849e23ddebea8235caad570fe7332/lxml-4.1.1-cp36-cp36m-manylinux1_x86_64.whl (5.6MB)\n",
            "\u001b[K     |████████████████████████████████| 5.6MB 2.7MB/s \n",
            "\u001b[?25hInstalling collected packages: lxml\n",
            "Successfully installed lxml-4.1.1\n"
          ],
          "name": "stdout"
        }
      ]
    },
    {
      "cell_type": "code",
      "metadata": {
        "id": "OiLPaKAvWM3F",
        "outputId": "73f0c1be-e5df-4dfc-dbd2-7596eb6268f3",
        "colab": {
          "base_uri": "https://localhost:8080/",
          "height": 102
        }
      },
      "source": [
        "!git clone https://github.com/kmike/pymorphy2-dicts"
      ],
      "execution_count": 3,
      "outputs": [
        {
          "output_type": "stream",
          "text": [
            "Cloning into 'pymorphy2-dicts'...\n",
            "remote: Enumerating objects: 133, done.\u001b[K\n",
            "Receiving objects:   0% (1/133)   \rReceiving objects:   1% (2/133)   \rReceiving objects:   2% (3/133)   \rReceiving objects:   3% (4/133)   \rReceiving objects:   4% (6/133)   \rReceiving objects:   5% (7/133)   \rReceiving objects:   6% (8/133)   \rReceiving objects:   7% (10/133)   \rReceiving objects:   8% (11/133)   \rReceiving objects:   9% (12/133)   \rReceiving objects:  10% (14/133)   \rReceiving objects:  11% (15/133)   \rReceiving objects:  12% (16/133)   \rReceiving objects:  13% (18/133)   \rReceiving objects:  14% (19/133)   \rReceiving objects:  15% (20/133)   \rReceiving objects:  16% (22/133)   \rReceiving objects:  17% (23/133)   \rReceiving objects:  18% (24/133)   \rReceiving objects:  19% (26/133)   \rReceiving objects:  20% (27/133)   \rReceiving objects:  21% (28/133)   \rReceiving objects:  22% (30/133)   \rReceiving objects:  23% (31/133)   \rReceiving objects:  24% (32/133)   \rReceiving objects:  25% (34/133)   \rReceiving objects:  26% (35/133)   \rReceiving objects:  27% (36/133)   \rReceiving objects:  28% (38/133)   \rReceiving objects:  29% (39/133)   \rReceiving objects:  30% (40/133)   \rReceiving objects:  31% (42/133)   \rReceiving objects:  32% (43/133)   \rReceiving objects:  33% (44/133)   \rReceiving objects:  34% (46/133)   \rReceiving objects:  35% (47/133)   \rReceiving objects:  36% (48/133)   \rReceiving objects:  37% (50/133)   \rReceiving objects:  38% (51/133)   \rReceiving objects:  39% (52/133)   \rReceiving objects:  40% (54/133)   \rReceiving objects:  41% (55/133)   \rReceiving objects:  42% (56/133)   \rReceiving objects:  43% (58/133)   \rReceiving objects:  44% (59/133)   \rReceiving objects:  45% (60/133)   \rReceiving objects:  46% (62/133)   \rReceiving objects:  47% (63/133)   \rReceiving objects:  48% (64/133)   \rReceiving objects:  49% (66/133)   \rReceiving objects:  50% (67/133)   \rReceiving objects:  51% (68/133)   \rReceiving objects:  52% (70/133)   \rReceiving objects:  53% (71/133)   \rReceiving objects:  54% (72/133)   \rReceiving objects:  55% (74/133)   \rReceiving objects:  56% (75/133)   \rReceiving objects:  57% (76/133)   \rReceiving objects:  58% (78/133)   \rReceiving objects:  59% (79/133)   \rReceiving objects:  60% (80/133)   \rReceiving objects:  61% (82/133)   \rremote: Total 133 (delta 0), reused 0 (delta 0), pack-reused 133\u001b[K\n",
            "Receiving objects:  62% (83/133)   \rReceiving objects:  63% (84/133)   \rReceiving objects:  64% (86/133)   \rReceiving objects:  65% (87/133)   \rReceiving objects:  66% (88/133)   \rReceiving objects:  67% (90/133)   \rReceiving objects:  68% (91/133)   \rReceiving objects:  69% (92/133)   \rReceiving objects:  70% (94/133)   \rReceiving objects:  71% (95/133)   \rReceiving objects:  72% (96/133)   \rReceiving objects:  73% (98/133)   \rReceiving objects:  74% (99/133)   \rReceiving objects:  75% (100/133)   \rReceiving objects:  76% (102/133)   \rReceiving objects:  77% (103/133)   \rReceiving objects:  78% (104/133)   \rReceiving objects:  79% (106/133)   \rReceiving objects:  80% (107/133)   \rReceiving objects:  81% (108/133)   \rReceiving objects:  82% (110/133)   \rReceiving objects:  83% (111/133)   \rReceiving objects:  84% (112/133)   \rReceiving objects:  85% (114/133)   \rReceiving objects:  86% (115/133)   \rReceiving objects:  87% (116/133)   \rReceiving objects:  88% (118/133)   \rReceiving objects:  89% (119/133)   \rReceiving objects:  90% (120/133)   \rReceiving objects:  91% (122/133)   \rReceiving objects:  92% (123/133)   \rReceiving objects:  93% (124/133)   \rReceiving objects:  94% (126/133)   \rReceiving objects:  95% (127/133)   \rReceiving objects:  96% (128/133)   \rReceiving objects:  97% (130/133)   \rReceiving objects:  98% (131/133)   \rReceiving objects:  99% (132/133)   \rReceiving objects: 100% (133/133)   \rReceiving objects: 100% (133/133), 22.27 KiB | 4.45 MiB/s, done.\n",
            "Resolving deltas:   0% (0/64)   \rResolving deltas:   3% (2/64)   \rResolving deltas:   6% (4/64)   \rResolving deltas:   9% (6/64)   \rResolving deltas:  10% (7/64)   \rResolving deltas:  18% (12/64)   \rResolving deltas:  25% (16/64)   \rResolving deltas:  26% (17/64)   \rResolving deltas:  29% (19/64)   \rResolving deltas:  40% (26/64)   \rResolving deltas:  46% (30/64)   \rResolving deltas:  50% (32/64)   \rResolving deltas:  51% (33/64)   \rResolving deltas:  54% (35/64)   \rResolving deltas:  57% (37/64)   \rResolving deltas:  62% (40/64)   \rResolving deltas:  65% (42/64)   \rResolving deltas:  85% (55/64)   \rResolving deltas: 100% (64/64)   \rResolving deltas: 100% (64/64), done.\n"
          ],
          "name": "stdout"
        }
      ]
    },
    {
      "cell_type": "code",
      "metadata": {
        "id": "siiA8vl4W2ff",
        "outputId": "dfd60274-2496-470c-94c9-2d4445d94e7d",
        "colab": {
          "base_uri": "https://localhost:8080/",
          "height": 204
        }
      },
      "source": [
        "!wget http://opencorpora.org/files/export/dict/dict.opcorpora.xml.bz2"
      ],
      "execution_count": 4,
      "outputs": [
        {
          "output_type": "stream",
          "text": [
            "--2020-09-30 06:16:12--  http://opencorpora.org/files/export/dict/dict.opcorpora.xml.bz2\n",
            "Resolving opencorpora.org (opencorpora.org)... 148.251.2.141\n",
            "Connecting to opencorpora.org (opencorpora.org)|148.251.2.141|:80... connected.\n",
            "HTTP request sent, awaiting response... 200 OK\n",
            "Length: 16959343 (16M) [application/x-bzip2]\n",
            "Saving to: ‘dict.opcorpora.xml.bz2’\n",
            "\n",
            "dict.opcorpora.xml. 100%[===================>]  16.17M  12.9MB/s    in 1.3s    \n",
            "\n",
            "2020-09-30 06:16:13 (12.9 MB/s) - ‘dict.opcorpora.xml.bz2’ saved [16959343/16959343]\n",
            "\n"
          ],
          "name": "stdout"
        }
      ]
    },
    {
      "cell_type": "code",
      "metadata": {
        "id": "Axzn3PMSW7gp"
      },
      "source": [
        "!bzip2 -dk dict.opcorpora.xml.bz2"
      ],
      "execution_count": 5,
      "outputs": []
    },
    {
      "cell_type": "code",
      "metadata": {
        "id": "1s_Ob0c5SWIW",
        "outputId": "f0dcef2b-ae01-4941-e0a3-11ecc98ec83b",
        "colab": {
          "base_uri": "https://localhost:8080/",
          "height": 34
        }
      },
      "source": [
        "!python3 build-dict.py dict.opcorpora.xml data"
      ],
      "execution_count": 6,
      "outputs": [
        {
          "output_type": "stream",
          "text": [
            "python3: can't open file 'build-dict.py': [Errno 2] No such file or directory\n"
          ],
          "name": "stdout"
        }
      ]
    },
    {
      "cell_type": "code",
      "metadata": {
        "id": "muPoD6dHxYac",
        "outputId": "369368af-0ac5-46dd-f26c-47797b16a9fc",
        "colab": {
          "base_uri": "https://localhost:8080/",
          "height": 595
        }
      },
      "source": [
        "!pip install transformers"
      ],
      "execution_count": 7,
      "outputs": [
        {
          "output_type": "stream",
          "text": [
            "Collecting transformers\n",
            "\u001b[?25l  Downloading https://files.pythonhosted.org/packages/19/22/aff234f4a841f8999e68a7a94bdd4b60b4cebcfeca5d67d61cd08c9179de/transformers-3.3.1-py3-none-any.whl (1.1MB)\n",
            "\r\u001b[K     |▎                               | 10kB 16.1MB/s eta 0:00:01\r\u001b[K     |▋                               | 20kB 1.7MB/s eta 0:00:01\r\u001b[K     |█                               | 30kB 2.2MB/s eta 0:00:01\r\u001b[K     |█▎                              | 40kB 2.5MB/s eta 0:00:01\r\u001b[K     |█▌                              | 51kB 2.0MB/s eta 0:00:01\r\u001b[K     |█▉                              | 61kB 2.2MB/s eta 0:00:01\r\u001b[K     |██▏                             | 71kB 2.5MB/s eta 0:00:01\r\u001b[K     |██▌                             | 81kB 2.7MB/s eta 0:00:01\r\u001b[K     |██▉                             | 92kB 2.9MB/s eta 0:00:01\r\u001b[K     |███                             | 102kB 2.7MB/s eta 0:00:01\r\u001b[K     |███▍                            | 112kB 2.7MB/s eta 0:00:01\r\u001b[K     |███▊                            | 122kB 2.7MB/s eta 0:00:01\r\u001b[K     |████                            | 133kB 2.7MB/s eta 0:00:01\r\u001b[K     |████▎                           | 143kB 2.7MB/s eta 0:00:01\r\u001b[K     |████▋                           | 153kB 2.7MB/s eta 0:00:01\r\u001b[K     |█████                           | 163kB 2.7MB/s eta 0:00:01\r\u001b[K     |█████▎                          | 174kB 2.7MB/s eta 0:00:01\r\u001b[K     |█████▋                          | 184kB 2.7MB/s eta 0:00:01\r\u001b[K     |█████▉                          | 194kB 2.7MB/s eta 0:00:01\r\u001b[K     |██████▏                         | 204kB 2.7MB/s eta 0:00:01\r\u001b[K     |██████▌                         | 215kB 2.7MB/s eta 0:00:01\r\u001b[K     |██████▉                         | 225kB 2.7MB/s eta 0:00:01\r\u001b[K     |███████                         | 235kB 2.7MB/s eta 0:00:01\r\u001b[K     |███████▍                        | 245kB 2.7MB/s eta 0:00:01\r\u001b[K     |███████▊                        | 256kB 2.7MB/s eta 0:00:01\r\u001b[K     |████████                        | 266kB 2.7MB/s eta 0:00:01\r\u001b[K     |████████▍                       | 276kB 2.7MB/s eta 0:00:01\r\u001b[K     |████████▋                       | 286kB 2.7MB/s eta 0:00:01\r\u001b[K     |█████████                       | 296kB 2.7MB/s eta 0:00:01\r\u001b[K     |█████████▎                      | 307kB 2.7MB/s eta 0:00:01\r\u001b[K     |█████████▋                      | 317kB 2.7MB/s eta 0:00:01\r\u001b[K     |█████████▉                      | 327kB 2.7MB/s eta 0:00:01\r\u001b[K     |██████████▏                     | 337kB 2.7MB/s eta 0:00:01\r\u001b[K     |██████████▌                     | 348kB 2.7MB/s eta 0:00:01\r\u001b[K     |██████████▉                     | 358kB 2.7MB/s eta 0:00:01\r\u001b[K     |███████████▏                    | 368kB 2.7MB/s eta 0:00:01\r\u001b[K     |███████████▍                    | 378kB 2.7MB/s eta 0:00:01\r\u001b[K     |███████████▊                    | 389kB 2.7MB/s eta 0:00:01\r\u001b[K     |████████████                    | 399kB 2.7MB/s eta 0:00:01\r\u001b[K     |████████████▍                   | 409kB 2.7MB/s eta 0:00:01\r\u001b[K     |████████████▋                   | 419kB 2.7MB/s eta 0:00:01\r\u001b[K     |█████████████                   | 430kB 2.7MB/s eta 0:00:01\r\u001b[K     |█████████████▎                  | 440kB 2.7MB/s eta 0:00:01\r\u001b[K     |█████████████▋                  | 450kB 2.7MB/s eta 0:00:01\r\u001b[K     |██████████████                  | 460kB 2.7MB/s eta 0:00:01\r\u001b[K     |██████████████▏                 | 471kB 2.7MB/s eta 0:00:01\r\u001b[K     |██████████████▌                 | 481kB 2.7MB/s eta 0:00:01\r\u001b[K     |██████████████▉                 | 491kB 2.7MB/s eta 0:00:01\r\u001b[K     |███████████████▏                | 501kB 2.7MB/s eta 0:00:01\r\u001b[K     |███████████████▍                | 512kB 2.7MB/s eta 0:00:01\r\u001b[K     |███████████████▊                | 522kB 2.7MB/s eta 0:00:01\r\u001b[K     |████████████████                | 532kB 2.7MB/s eta 0:00:01\r\u001b[K     |████████████████▍               | 542kB 2.7MB/s eta 0:00:01\r\u001b[K     |████████████████▊               | 552kB 2.7MB/s eta 0:00:01\r\u001b[K     |█████████████████               | 563kB 2.7MB/s eta 0:00:01\r\u001b[K     |█████████████████▎              | 573kB 2.7MB/s eta 0:00:01\r\u001b[K     |█████████████████▋              | 583kB 2.7MB/s eta 0:00:01\r\u001b[K     |██████████████████              | 593kB 2.7MB/s eta 0:00:01\r\u001b[K     |██████████████████▏             | 604kB 2.7MB/s eta 0:00:01\r\u001b[K     |██████████████████▌             | 614kB 2.7MB/s eta 0:00:01\r\u001b[K     |██████████████████▉             | 624kB 2.7MB/s eta 0:00:01\r\u001b[K     |███████████████████▏            | 634kB 2.7MB/s eta 0:00:01\r\u001b[K     |███████████████████▌            | 645kB 2.7MB/s eta 0:00:01\r\u001b[K     |███████████████████▊            | 655kB 2.7MB/s eta 0:00:01\r\u001b[K     |████████████████████            | 665kB 2.7MB/s eta 0:00:01\r\u001b[K     |████████████████████▍           | 675kB 2.7MB/s eta 0:00:01\r\u001b[K     |████████████████████▊           | 686kB 2.7MB/s eta 0:00:01\r\u001b[K     |█████████████████████           | 696kB 2.7MB/s eta 0:00:01\r\u001b[K     |█████████████████████▎          | 706kB 2.7MB/s eta 0:00:01\r\u001b[K     |█████████████████████▋          | 716kB 2.7MB/s eta 0:00:01\r\u001b[K     |██████████████████████          | 727kB 2.7MB/s eta 0:00:01\r\u001b[K     |██████████████████████▎         | 737kB 2.7MB/s eta 0:00:01\r\u001b[K     |██████████████████████▌         | 747kB 2.7MB/s eta 0:00:01\r\u001b[K     |██████████████████████▉         | 757kB 2.7MB/s eta 0:00:01\r\u001b[K     |███████████████████████▏        | 768kB 2.7MB/s eta 0:00:01\r\u001b[K     |███████████████████████▌        | 778kB 2.7MB/s eta 0:00:01\r\u001b[K     |███████████████████████▊        | 788kB 2.7MB/s eta 0:00:01\r\u001b[K     |████████████████████████        | 798kB 2.7MB/s eta 0:00:01\r\u001b[K     |████████████████████████▍       | 808kB 2.7MB/s eta 0:00:01\r\u001b[K     |████████████████████████▊       | 819kB 2.7MB/s eta 0:00:01\r\u001b[K     |█████████████████████████       | 829kB 2.7MB/s eta 0:00:01\r\u001b[K     |█████████████████████████▎      | 839kB 2.7MB/s eta 0:00:01\r\u001b[K     |█████████████████████████▋      | 849kB 2.7MB/s eta 0:00:01\r\u001b[K     |██████████████████████████      | 860kB 2.7MB/s eta 0:00:01\r\u001b[K     |██████████████████████████▎     | 870kB 2.7MB/s eta 0:00:01\r\u001b[K     |██████████████████████████▌     | 880kB 2.7MB/s eta 0:00:01\r\u001b[K     |██████████████████████████▉     | 890kB 2.7MB/s eta 0:00:01\r\u001b[K     |███████████████████████████▏    | 901kB 2.7MB/s eta 0:00:01\r\u001b[K     |███████████████████████████▌    | 911kB 2.7MB/s eta 0:00:01\r\u001b[K     |███████████████████████████▉    | 921kB 2.7MB/s eta 0:00:01\r\u001b[K     |████████████████████████████    | 931kB 2.7MB/s eta 0:00:01\r\u001b[K     |████████████████████████████▍   | 942kB 2.7MB/s eta 0:00:01\r\u001b[K     |████████████████████████████▊   | 952kB 2.7MB/s eta 0:00:01\r\u001b[K     |█████████████████████████████   | 962kB 2.7MB/s eta 0:00:01\r\u001b[K     |█████████████████████████████▎  | 972kB 2.7MB/s eta 0:00:01\r\u001b[K     |█████████████████████████████▋  | 983kB 2.7MB/s eta 0:00:01\r\u001b[K     |██████████████████████████████  | 993kB 2.7MB/s eta 0:00:01\r\u001b[K     |██████████████████████████████▎ | 1.0MB 2.7MB/s eta 0:00:01\r\u001b[K     |██████████████████████████████▋ | 1.0MB 2.7MB/s eta 0:00:01\r\u001b[K     |██████████████████████████████▉ | 1.0MB 2.7MB/s eta 0:00:01\r\u001b[K     |███████████████████████████████▏| 1.0MB 2.7MB/s eta 0:00:01\r\u001b[K     |███████████████████████████████▌| 1.0MB 2.7MB/s eta 0:00:01\r\u001b[K     |███████████████████████████████▉| 1.1MB 2.7MB/s eta 0:00:01\r\u001b[K     |████████████████████████████████| 1.1MB 2.7MB/s \n",
            "\u001b[?25hRequirement already satisfied: filelock in /usr/local/lib/python3.6/dist-packages (from transformers) (3.0.12)\n",
            "Collecting tokenizers==0.8.1.rc2\n",
            "\u001b[?25l  Downloading https://files.pythonhosted.org/packages/80/83/8b9fccb9e48eeb575ee19179e2bdde0ee9a1904f97de5f02d19016b8804f/tokenizers-0.8.1rc2-cp36-cp36m-manylinux1_x86_64.whl (3.0MB)\n",
            "\u001b[K     |████████████████████████████████| 3.0MB 17.3MB/s \n",
            "\u001b[?25hCollecting sacremoses\n",
            "\u001b[?25l  Downloading https://files.pythonhosted.org/packages/7d/34/09d19aff26edcc8eb2a01bed8e98f13a1537005d31e95233fd48216eed10/sacremoses-0.0.43.tar.gz (883kB)\n",
            "\u001b[K     |████████████████████████████████| 890kB 33.1MB/s \n",
            "\u001b[?25hRequirement already satisfied: regex!=2019.12.17 in /usr/local/lib/python3.6/dist-packages (from transformers) (2019.12.20)\n",
            "Collecting sentencepiece!=0.1.92\n",
            "\u001b[?25l  Downloading https://files.pythonhosted.org/packages/d4/a4/d0a884c4300004a78cca907a6ff9a5e9fe4f090f5d95ab341c53d28cbc58/sentencepiece-0.1.91-cp36-cp36m-manylinux1_x86_64.whl (1.1MB)\n",
            "\u001b[K     |████████████████████████████████| 1.1MB 39.5MB/s \n",
            "\u001b[?25hRequirement already satisfied: tqdm>=4.27 in /usr/local/lib/python3.6/dist-packages (from transformers) (4.41.1)\n",
            "Requirement already satisfied: dataclasses; python_version < \"3.7\" in /usr/local/lib/python3.6/dist-packages (from transformers) (0.7)\n",
            "Requirement already satisfied: packaging in /usr/local/lib/python3.6/dist-packages (from transformers) (20.4)\n",
            "Requirement already satisfied: numpy in /usr/local/lib/python3.6/dist-packages (from transformers) (1.18.5)\n",
            "Requirement already satisfied: requests in /usr/local/lib/python3.6/dist-packages (from transformers) (2.23.0)\n",
            "Requirement already satisfied: six in /usr/local/lib/python3.6/dist-packages (from sacremoses->transformers) (1.15.0)\n",
            "Requirement already satisfied: click in /usr/local/lib/python3.6/dist-packages (from sacremoses->transformers) (7.1.2)\n",
            "Requirement already satisfied: joblib in /usr/local/lib/python3.6/dist-packages (from sacremoses->transformers) (0.16.0)\n",
            "Requirement already satisfied: pyparsing>=2.0.2 in /usr/local/lib/python3.6/dist-packages (from packaging->transformers) (2.4.7)\n",
            "Requirement already satisfied: urllib3!=1.25.0,!=1.25.1,<1.26,>=1.21.1 in /usr/local/lib/python3.6/dist-packages (from requests->transformers) (1.24.3)\n",
            "Requirement already satisfied: chardet<4,>=3.0.2 in /usr/local/lib/python3.6/dist-packages (from requests->transformers) (3.0.4)\n",
            "Requirement already satisfied: certifi>=2017.4.17 in /usr/local/lib/python3.6/dist-packages (from requests->transformers) (2020.6.20)\n",
            "Requirement already satisfied: idna<3,>=2.5 in /usr/local/lib/python3.6/dist-packages (from requests->transformers) (2.10)\n",
            "Building wheels for collected packages: sacremoses\n",
            "  Building wheel for sacremoses (setup.py) ... \u001b[?25l\u001b[?25hdone\n",
            "  Created wheel for sacremoses: filename=sacremoses-0.0.43-cp36-none-any.whl size=893257 sha256=07176b1211b4053889f654fc9e98812e23eb5299b5737f21d69a6e1358b8e62f\n",
            "  Stored in directory: /root/.cache/pip/wheels/29/3c/fd/7ce5c3f0666dab31a50123635e6fb5e19ceb42ce38d4e58f45\n",
            "Successfully built sacremoses\n",
            "Installing collected packages: tokenizers, sacremoses, sentencepiece, transformers\n",
            "Successfully installed sacremoses-0.0.43 sentencepiece-0.1.91 tokenizers-0.8.1rc2 transformers-3.3.1\n"
          ],
          "name": "stdout"
        }
      ]
    },
    {
      "cell_type": "code",
      "metadata": {
        "id": "AA_ifcrfxTnS"
      },
      "source": [
        "import datetime\n",
        "import time\n",
        "import re\n",
        "import seaborn as sns\n",
        "import warnings\n",
        "import numpy as np\n",
        "import pandas as pd\n",
        "import pickle\n",
        "from lightgbm import LGBMClassifier\n",
        "from keras.layers import Activation, Embedding, LSTM, Dense, Conv1D, GlobalMaxPooling1D\n",
        "from keras import Sequential\n",
        "from collections import Counter\n",
        "from tensorflow.keras import utils\n",
        "\n",
        "from sklearn.model_selection import cross_val_score, GridSearchCV\n",
        "from sklearn.feature_extraction.text import CountVectorizer, TfidfVectorizer\n",
        "from sklearn.linear_model import LogisticRegression\n",
        "from sklearn.model_selection import train_test_split as tt\n",
        "from xgboost import XGBClassifier\n",
        "from sklearn.ensemble import RandomForestClassifier, ExtraTreesRegressor\n",
        "from sklearn.svm import SVC\n",
        "from sklearn.neighbors import KNeighborsClassifier\n",
        "from sklearn.neural_network import MLPClassifier\n",
        "from sklearn.naive_bayes import GaussianNB\n",
        "from sklearn.tree import DecisionTreeClassifier\n",
        "from sklearn.metrics import accuracy_score, roc_auc_score, f1_score, precision_score, recall_score, log_loss\n",
        "\n",
        "from sklearn.model_selection import TimeSeriesSplit, cross_val_score, GridSearchCV\n",
        "from sklearn.metrics import roc_auc_score \n",
        "from sklearn.model_selection import train_test_split as tt\n",
        "import nltk\n",
        "from nltk.corpus import stopwords\n",
        "from sklearn.model_selection import GridSearchCV\n",
        "import torch\n",
        "from sklearn.metrics import accuracy_score\n",
        "from xgboost import XGBRegressor\n",
        "from sklearn.metrics import mean_absolute_error as mae\n",
        "\n",
        "import warnings\n",
        "warnings.filterwarnings('ignore')\n",
        "from keras.preprocessing.sequence import pad_sequences\n",
        "import pymorphy2\n",
        "import networkx as nx"
      ],
      "execution_count": 8,
      "outputs": []
    },
    {
      "cell_type": "code",
      "metadata": {
        "id": "k9ja_W5SaPH_"
      },
      "source": [
        "from collections import defaultdict, Counter\n",
        "import random\n",
        "#from tqdm.notebook import tqdm\n",
        "#from sklearn.metrics.pairwise import cosine_distances, euclidean_distances\n",
        "#from sklearn.decomposition import LatentDirichletAllocation\n",
        "\n",
        "from tensorflow.keras.preprocessing.sequence import pad_sequences\n",
        "from tensorflow.keras.utils import to_categorical\n",
        "\n",
        "from tensorflow.keras.layers import Input, Bidirectional, LSTM, Dense, MaxPooling1D, AveragePooling1D, Conv1D\n",
        "from tensorflow.keras.layers import Flatten, Reshape, Concatenate, Permute, Activation, Dropout, multiply\n",
        "from tensorflow.keras.layers import BatchNormalization\n",
        "from tensorflow.keras.models import Model\n",
        "from tensorflow.keras.losses import cosine_similarity\n",
        "from tensorflow.keras import regularizers\n",
        "import tensorflow.keras.backend as K\n",
        "import tensorflow as tf\n",
        "\n",
        "import os"
      ],
      "execution_count": 9,
      "outputs": []
    },
    {
      "cell_type": "code",
      "metadata": {
        "id": "BgxWlt2MPprt"
      },
      "source": [
        "def vectorizer(text, vectorizer, ngram_range, max_features, min_df, max_df):\n",
        "\n",
        "  if vectorizer == 'tf_idf':\n",
        "    vectorizer = TfidfVectorizer(ngram_range=ngram_range, max_features=max_features, min_df=min_df, max_df=max_df)\n",
        "\n",
        "  if vectorizer == 'count_vectorizer':\n",
        "    vectorizer = CountVectorizer(ngram_range=ngram_range, max_features=max_features, min_df=min_df, max_df=max_df)\n",
        "\n",
        "\n",
        "  X = vectorizer.fit_transform(text)\n",
        "\n",
        "  return X"
      ],
      "execution_count": 10,
      "outputs": []
    },
    {
      "cell_type": "code",
      "metadata": {
        "id": "E6omUBGxTH9B",
        "outputId": "e1391d61-f1e4-49b9-9325-cc3a2b962fdd",
        "colab": {
          "base_uri": "https://localhost:8080/",
          "height": 187
        }
      },
      "source": [
        "!pip install gensim"
      ],
      "execution_count": 11,
      "outputs": [
        {
          "output_type": "stream",
          "text": [
            "Requirement already satisfied: gensim in /usr/local/lib/python3.6/dist-packages (3.6.0)\n",
            "Requirement already satisfied: numpy>=1.11.3 in /usr/local/lib/python3.6/dist-packages (from gensim) (1.18.5)\n",
            "Requirement already satisfied: six>=1.5.0 in /usr/local/lib/python3.6/dist-packages (from gensim) (1.15.0)\n",
            "Requirement already satisfied: smart-open>=1.2.1 in /usr/local/lib/python3.6/dist-packages (from gensim) (2.2.0)\n",
            "Requirement already satisfied: scipy>=0.18.1 in /usr/local/lib/python3.6/dist-packages (from gensim) (1.4.1)\n",
            "Requirement already satisfied: requests in /usr/local/lib/python3.6/dist-packages (from smart-open>=1.2.1->gensim) (2.23.0)\n",
            "Requirement already satisfied: urllib3!=1.25.0,!=1.25.1,<1.26,>=1.21.1 in /usr/local/lib/python3.6/dist-packages (from requests->smart-open>=1.2.1->gensim) (1.24.3)\n",
            "Requirement already satisfied: idna<3,>=2.5 in /usr/local/lib/python3.6/dist-packages (from requests->smart-open>=1.2.1->gensim) (2.10)\n",
            "Requirement already satisfied: chardet<4,>=3.0.2 in /usr/local/lib/python3.6/dist-packages (from requests->smart-open>=1.2.1->gensim) (3.0.4)\n",
            "Requirement already satisfied: certifi>=2017.4.17 in /usr/local/lib/python3.6/dist-packages (from requests->smart-open>=1.2.1->gensim) (2020.6.20)\n"
          ],
          "name": "stdout"
        }
      ]
    },
    {
      "cell_type": "code",
      "metadata": {
        "id": "U2JEIc5jTPS3",
        "outputId": "7915c635-096c-4226-ec42-d66a66688dee",
        "colab": {
          "base_uri": "https://localhost:8080/",
          "height": 34
        }
      },
      "source": [
        "import gensim.downloader as api\n",
        "import gensim\n",
        "#model_t = api.load('ruscorpora_1_300_10.bin.gz', binary=True)\n",
        "model_t = api.load(\"word2vec-google-news-300\")"
      ],
      "execution_count": 22,
      "outputs": [
        {
          "output_type": "stream",
          "text": [
            "[==================================================] 100.0% 1662.8/1662.8MB downloaded\n"
          ],
          "name": "stdout"
        }
      ]
    },
    {
      "cell_type": "code",
      "metadata": {
        "id": "ALVvbur9Zv6m"
      },
      "source": [
        "#model = gensim.models.KeyedVectors.load_word2vec_format('ruscorpora_1_300_10.bin.gz', binary=True)\n",
        "#for n in model.most_similar(positive=[u'пожар_NOUN']):\n",
        "#    print n[0], n[1]"
      ],
      "execution_count": 19,
      "outputs": []
    },
    {
      "cell_type": "code",
      "metadata": {
        "id": "3ztnAx59WTr3",
        "outputId": "0258d681-9286-4289-ac63-0a11632f7cd1",
        "colab": {
          "base_uri": "https://localhost:8080/",
          "height": 306
        }
      },
      "source": [
        "model_t.get_vector('russia')"
      ],
      "execution_count": 25,
      "outputs": [
        {
          "output_type": "error",
          "ename": "KeyError",
          "evalue": "ignored",
          "traceback": [
            "\u001b[0;31m---------------------------------------------------------------------------\u001b[0m",
            "\u001b[0;31mKeyError\u001b[0m                                  Traceback (most recent call last)",
            "\u001b[0;32m<ipython-input-25-0b24f3d5dbb0>\u001b[0m in \u001b[0;36m<module>\u001b[0;34m()\u001b[0m\n\u001b[0;32m----> 1\u001b[0;31m \u001b[0mmodel_t\u001b[0m\u001b[0;34m.\u001b[0m\u001b[0mget_vector\u001b[0m\u001b[0;34m(\u001b[0m\u001b[0;34m'russia_NOUN'\u001b[0m\u001b[0;34m)\u001b[0m\u001b[0;34m\u001b[0m\u001b[0;34m\u001b[0m\u001b[0m\n\u001b[0m",
            "\u001b[0;32m/usr/local/lib/python3.6/dist-packages/gensim/models/keyedvectors.py\u001b[0m in \u001b[0;36mget_vector\u001b[0;34m(self, word)\u001b[0m\n\u001b[1;32m    453\u001b[0m \u001b[0;34m\u001b[0m\u001b[0m\n\u001b[1;32m    454\u001b[0m     \u001b[0;32mdef\u001b[0m \u001b[0mget_vector\u001b[0m\u001b[0;34m(\u001b[0m\u001b[0mself\u001b[0m\u001b[0;34m,\u001b[0m \u001b[0mword\u001b[0m\u001b[0;34m)\u001b[0m\u001b[0;34m:\u001b[0m\u001b[0;34m\u001b[0m\u001b[0;34m\u001b[0m\u001b[0m\n\u001b[0;32m--> 455\u001b[0;31m         \u001b[0;32mreturn\u001b[0m \u001b[0mself\u001b[0m\u001b[0;34m.\u001b[0m\u001b[0mword_vec\u001b[0m\u001b[0;34m(\u001b[0m\u001b[0mword\u001b[0m\u001b[0;34m)\u001b[0m\u001b[0;34m\u001b[0m\u001b[0;34m\u001b[0m\u001b[0m\n\u001b[0m\u001b[1;32m    456\u001b[0m \u001b[0;34m\u001b[0m\u001b[0m\n\u001b[1;32m    457\u001b[0m     \u001b[0;32mdef\u001b[0m \u001b[0mwords_closer_than\u001b[0m\u001b[0;34m(\u001b[0m\u001b[0mself\u001b[0m\u001b[0;34m,\u001b[0m \u001b[0mw1\u001b[0m\u001b[0;34m,\u001b[0m \u001b[0mw2\u001b[0m\u001b[0;34m)\u001b[0m\u001b[0;34m:\u001b[0m\u001b[0;34m\u001b[0m\u001b[0;34m\u001b[0m\u001b[0m\n",
            "\u001b[0;32m/usr/local/lib/python3.6/dist-packages/gensim/models/keyedvectors.py\u001b[0m in \u001b[0;36mword_vec\u001b[0;34m(self, word, use_norm)\u001b[0m\n\u001b[1;32m    450\u001b[0m             \u001b[0;32mreturn\u001b[0m \u001b[0mresult\u001b[0m\u001b[0;34m\u001b[0m\u001b[0;34m\u001b[0m\u001b[0m\n\u001b[1;32m    451\u001b[0m         \u001b[0;32melse\u001b[0m\u001b[0;34m:\u001b[0m\u001b[0;34m\u001b[0m\u001b[0;34m\u001b[0m\u001b[0m\n\u001b[0;32m--> 452\u001b[0;31m             \u001b[0;32mraise\u001b[0m \u001b[0mKeyError\u001b[0m\u001b[0;34m(\u001b[0m\u001b[0;34m\"word '%s' not in vocabulary\"\u001b[0m \u001b[0;34m%\u001b[0m \u001b[0mword\u001b[0m\u001b[0;34m)\u001b[0m\u001b[0;34m\u001b[0m\u001b[0;34m\u001b[0m\u001b[0m\n\u001b[0m\u001b[1;32m    453\u001b[0m \u001b[0;34m\u001b[0m\u001b[0m\n\u001b[1;32m    454\u001b[0m     \u001b[0;32mdef\u001b[0m \u001b[0mget_vector\u001b[0m\u001b[0;34m(\u001b[0m\u001b[0mself\u001b[0m\u001b[0;34m,\u001b[0m \u001b[0mword\u001b[0m\u001b[0;34m)\u001b[0m\u001b[0;34m:\u001b[0m\u001b[0;34m\u001b[0m\u001b[0;34m\u001b[0m\u001b[0m\n",
            "\u001b[0;31mKeyError\u001b[0m: \"word 'russia_NOUN' not in vocabulary\""
          ]
        }
      ]
    },
    {
      "cell_type": "code",
      "metadata": {
        "id": "DBuvRBWY71pe",
        "outputId": "c0cff22d-3371-44b6-ff27-64fff96beb0f",
        "colab": {
          "base_uri": "https://localhost:8080/",
          "height": 34
        }
      },
      "source": [
        "APIKEY = getpass.getpass()"
      ],
      "execution_count": 44,
      "outputs": [
        {
          "output_type": "stream",
          "text": [
            "··········\n"
          ],
          "name": "stdout"
        }
      ]
    },
    {
      "cell_type": "code",
      "metadata": {
        "id": "TDeqErG3MGWj",
        "outputId": "7ccb3d39-723b-4880-cf7d-4d9a622c882c",
        "colab": {
          "base_uri": "https://localhost:8080/",
          "height": 768
        }
      },
      "source": [
        "!pip install googletrans"
      ],
      "execution_count": 46,
      "outputs": [
        {
          "output_type": "stream",
          "text": [
            "Collecting googletrans\n",
            "  Downloading https://files.pythonhosted.org/packages/71/3a/3b19effdd4c03958b90f40fe01c93de6d5280e03843cc5adf6956bfc9512/googletrans-3.0.0.tar.gz\n",
            "Collecting httpx==0.13.3\n",
            "\u001b[?25l  Downloading https://files.pythonhosted.org/packages/54/b4/698b284c6aed4d7c2b4fe3ba5df1fcf6093612423797e76fbb24890dd22f/httpx-0.13.3-py3-none-any.whl (55kB)\n",
            "\u001b[K     |████████████████████████████████| 61kB 2.6MB/s \n",
            "\u001b[?25hCollecting httpcore==0.9.*\n",
            "\u001b[?25l  Downloading https://files.pythonhosted.org/packages/dd/d5/e4ff9318693ac6101a2095e580908b591838c6f33df8d3ee8dd953ba96a8/httpcore-0.9.1-py3-none-any.whl (42kB)\n",
            "\u001b[K     |████████████████████████████████| 51kB 4.4MB/s \n",
            "\u001b[?25hCollecting hstspreload\n",
            "\u001b[?25l  Downloading https://files.pythonhosted.org/packages/47/c2/71d53bdee40a09e32ed3feba1aed15f912b5c20151fb6d43c6b37ac76a50/hstspreload-2020.9.29-py3-none-any.whl (961kB)\n",
            "\u001b[K     |████████████████████████████████| 962kB 8.7MB/s \n",
            "\u001b[?25hCollecting rfc3986<2,>=1.3\n",
            "  Downloading https://files.pythonhosted.org/packages/78/be/7b8b99fd74ff5684225f50dd0e865393d2265656ef3b4ba9eaaaffe622b8/rfc3986-1.4.0-py2.py3-none-any.whl\n",
            "Collecting sniffio\n",
            "  Downloading https://files.pythonhosted.org/packages/b3/82/4bd4b7d9c0d1dc0fbfbc2a1e00138e7f3ab85bc239358fe9b78aa2ab586d/sniffio-1.1.0-py3-none-any.whl\n",
            "Requirement already satisfied: certifi in /usr/local/lib/python3.6/dist-packages (from httpx==0.13.3->googletrans) (2020.6.20)\n",
            "Requirement already satisfied: chardet==3.* in /usr/local/lib/python3.6/dist-packages (from httpx==0.13.3->googletrans) (3.0.4)\n",
            "Requirement already satisfied: idna==2.* in /usr/local/lib/python3.6/dist-packages (from httpx==0.13.3->googletrans) (2.10)\n",
            "Collecting h11<0.10,>=0.8\n",
            "\u001b[?25l  Downloading https://files.pythonhosted.org/packages/5a/fd/3dad730b0f95e78aeeb742f96fa7bbecbdd56a58e405d3da440d5bfb90c6/h11-0.9.0-py2.py3-none-any.whl (53kB)\n",
            "\u001b[K     |████████████████████████████████| 61kB 6.1MB/s \n",
            "\u001b[?25hCollecting h2==3.*\n",
            "\u001b[?25l  Downloading https://files.pythonhosted.org/packages/25/de/da019bcc539eeab02f6d45836f23858ac467f584bfec7a526ef200242afe/h2-3.2.0-py2.py3-none-any.whl (65kB)\n",
            "\u001b[K     |████████████████████████████████| 71kB 7.5MB/s \n",
            "\u001b[?25hCollecting contextvars>=2.1; python_version < \"3.7\"\n",
            "  Downloading https://files.pythonhosted.org/packages/83/96/55b82d9f13763be9d672622e1b8106c85acb83edd7cc2fa5bc67cd9877e9/contextvars-2.4.tar.gz\n",
            "Collecting hyperframe<6,>=5.2.0\n",
            "  Downloading https://files.pythonhosted.org/packages/19/0c/bf88182bcb5dce3094e2f3e4fe20db28a9928cb7bd5b08024030e4b140db/hyperframe-5.2.0-py2.py3-none-any.whl\n",
            "Collecting hpack<4,>=3.0\n",
            "  Downloading https://files.pythonhosted.org/packages/8a/cc/e53517f4a1e13f74776ca93271caef378dadec14d71c61c949d759d3db69/hpack-3.0.0-py2.py3-none-any.whl\n",
            "Collecting immutables>=0.9\n",
            "\u001b[?25l  Downloading https://files.pythonhosted.org/packages/99/e0/ea6fd4697120327d26773b5a84853f897a68e33d3f9376b00a8ff96e4f63/immutables-0.14-cp36-cp36m-manylinux1_x86_64.whl (98kB)\n",
            "\u001b[K     |████████████████████████████████| 102kB 8.7MB/s \n",
            "\u001b[?25hBuilding wheels for collected packages: googletrans, contextvars\n",
            "  Building wheel for googletrans (setup.py) ... \u001b[?25l\u001b[?25hdone\n",
            "  Created wheel for googletrans: filename=googletrans-3.0.0-cp36-none-any.whl size=15736 sha256=8beefc3c0ec1e5863d551ab6d7ca7f02224a60b86ecb1fd5257f52a6034d7113\n",
            "  Stored in directory: /root/.cache/pip/wheels/28/1a/a7/eaf4d7a3417a0c65796c547cff4deb6d79c7d14c2abd29273e\n",
            "  Building wheel for contextvars (setup.py) ... \u001b[?25l\u001b[?25hdone\n",
            "  Created wheel for contextvars: filename=contextvars-2.4-cp36-none-any.whl size=7666 sha256=f1072896f9569f09aa696f1625a2e90b96862f167ebd76c95b42c51f85b453c2\n",
            "  Stored in directory: /root/.cache/pip/wheels/a5/7d/68/1ebae2668bda2228686e3c1cf16f2c2384cea6e9334ad5f6de\n",
            "Successfully built googletrans contextvars\n",
            "Installing collected packages: immutables, contextvars, sniffio, h11, hyperframe, hpack, h2, httpcore, hstspreload, rfc3986, httpx, googletrans\n",
            "Successfully installed contextvars-2.4 googletrans-3.0.0 h11-0.9.0 h2-3.2.0 hpack-3.0.0 hstspreload-2020.9.29 httpcore-0.9.1 httpx-0.13.3 hyperframe-5.2.0 immutables-0.14 rfc3986-1.4.0 sniffio-1.1.0\n"
          ],
          "name": "stdout"
        }
      ]
    },
    {
      "cell_type": "code",
      "metadata": {
        "id": "GqfvqL4Zuf7j"
      },
      "source": [
        "from googletrans import Translator\n",
        "translator = Translator()"
      ],
      "execution_count": 48,
      "outputs": []
    },
    {
      "cell_type": "code",
      "metadata": {
        "id": "pGOcL2vZMttb"
      },
      "source": [
        "text = []\n",
        "for word in news.clean_text[0].split(' '):\n",
        "  text.append(translator.translate(word, dest='en').text)"
      ],
      "execution_count": 62,
      "outputs": []
    },
    {
      "cell_type": "code",
      "metadata": {
        "id": "kyXxWAoKN9sN",
        "outputId": "6d60294c-ea90-4017-f756-2d45d973a4cd",
        "colab": {
          "base_uri": "https://localhost:8080/",
          "height": 357
        }
      },
      "source": [
        "\"\"\"Translates text into the target language.\n",
        "\n",
        "Target must be an ISO 639-1 language code.\n",
        "See https://g.co/cloud/translate/v2/translate-reference#supported_languages\n",
        "\"\"\"\n",
        "from google.cloud import translate_v2 as translate\n",
        "\n",
        "translate_client = translate.Client('en', credentials=)\n",
        "\n",
        "if isinstance(text, six.binary_type):\n",
        "    text = text.decode(\"utf-8\")\n",
        "\n",
        "# Text can also be a sequence of strings, in which case this method\n",
        "# will return a sequence of results for each text.\n",
        "result = translate_client.translate(text, target_language=target)\n",
        "\n",
        "print(u\"Text: {}\".format(result[\"input\"]))\n",
        "print(u\"Translation: {}\".format(result[\"translatedText\"]))\n",
        "print(u\"Detected source language: {}\".format(result[\"detectedSourceLanguage\"]))"
      ],
      "execution_count": 68,
      "outputs": [
        {
          "output_type": "error",
          "ename": "DefaultCredentialsError",
          "evalue": "ignored",
          "traceback": [
            "\u001b[0;31m---------------------------------------------------------------------------\u001b[0m",
            "\u001b[0;31mDefaultCredentialsError\u001b[0m                   Traceback (most recent call last)",
            "\u001b[0;32m<ipython-input-68-89f886bc8c00>\u001b[0m in \u001b[0;36m<module>\u001b[0;34m()\u001b[0m\n\u001b[1;32m      6\u001b[0m \u001b[0;32mfrom\u001b[0m \u001b[0mgoogle\u001b[0m\u001b[0;34m.\u001b[0m\u001b[0mcloud\u001b[0m \u001b[0;32mimport\u001b[0m \u001b[0mtranslate_v2\u001b[0m \u001b[0;32mas\u001b[0m \u001b[0mtranslate\u001b[0m\u001b[0;34m\u001b[0m\u001b[0;34m\u001b[0m\u001b[0m\n\u001b[1;32m      7\u001b[0m \u001b[0;34m\u001b[0m\u001b[0m\n\u001b[0;32m----> 8\u001b[0;31m \u001b[0mtranslate_client\u001b[0m \u001b[0;34m=\u001b[0m \u001b[0mtranslate\u001b[0m\u001b[0;34m.\u001b[0m\u001b[0mClient\u001b[0m\u001b[0;34m(\u001b[0m\u001b[0;34m)\u001b[0m\u001b[0;34m\u001b[0m\u001b[0;34m\u001b[0m\u001b[0m\n\u001b[0m\u001b[1;32m      9\u001b[0m \u001b[0;34m\u001b[0m\u001b[0m\n\u001b[1;32m     10\u001b[0m \u001b[0;32mif\u001b[0m \u001b[0misinstance\u001b[0m\u001b[0;34m(\u001b[0m\u001b[0mtext\u001b[0m\u001b[0;34m,\u001b[0m \u001b[0msix\u001b[0m\u001b[0;34m.\u001b[0m\u001b[0mbinary_type\u001b[0m\u001b[0;34m)\u001b[0m\u001b[0;34m:\u001b[0m\u001b[0;34m\u001b[0m\u001b[0;34m\u001b[0m\u001b[0m\n",
            "\u001b[0;32m/usr/local/lib/python3.6/dist-packages/google/cloud/translate_v2/client.py\u001b[0m in \u001b[0;36m__init__\u001b[0;34m(self, target_language, credentials, _http, client_info)\u001b[0m\n\u001b[1;32m     75\u001b[0m     ):\n\u001b[1;32m     76\u001b[0m         \u001b[0mself\u001b[0m\u001b[0;34m.\u001b[0m\u001b[0mtarget_language\u001b[0m \u001b[0;34m=\u001b[0m \u001b[0mtarget_language\u001b[0m\u001b[0;34m\u001b[0m\u001b[0;34m\u001b[0m\u001b[0m\n\u001b[0;32m---> 77\u001b[0;31m         \u001b[0msuper\u001b[0m\u001b[0;34m(\u001b[0m\u001b[0mClient\u001b[0m\u001b[0;34m,\u001b[0m \u001b[0mself\u001b[0m\u001b[0;34m)\u001b[0m\u001b[0;34m.\u001b[0m\u001b[0m__init__\u001b[0m\u001b[0;34m(\u001b[0m\u001b[0mcredentials\u001b[0m\u001b[0;34m=\u001b[0m\u001b[0mcredentials\u001b[0m\u001b[0;34m,\u001b[0m \u001b[0m_http\u001b[0m\u001b[0;34m=\u001b[0m\u001b[0m_http\u001b[0m\u001b[0;34m)\u001b[0m\u001b[0;34m\u001b[0m\u001b[0;34m\u001b[0m\u001b[0m\n\u001b[0m\u001b[1;32m     78\u001b[0m         \u001b[0mself\u001b[0m\u001b[0;34m.\u001b[0m\u001b[0m_connection\u001b[0m \u001b[0;34m=\u001b[0m \u001b[0mConnection\u001b[0m\u001b[0;34m(\u001b[0m\u001b[0mself\u001b[0m\u001b[0;34m,\u001b[0m \u001b[0mclient_info\u001b[0m\u001b[0;34m=\u001b[0m\u001b[0mclient_info\u001b[0m\u001b[0;34m)\u001b[0m\u001b[0;34m\u001b[0m\u001b[0;34m\u001b[0m\u001b[0m\n\u001b[1;32m     79\u001b[0m \u001b[0;34m\u001b[0m\u001b[0m\n",
            "\u001b[0;32m/usr/local/lib/python3.6/dist-packages/google/cloud/client.py\u001b[0m in \u001b[0;36m__init__\u001b[0;34m(self, credentials, _http)\u001b[0m\n\u001b[1;32m    130\u001b[0m             \u001b[0;32mraise\u001b[0m \u001b[0mValueError\u001b[0m\u001b[0;34m(\u001b[0m\u001b[0m_GOOGLE_AUTH_CREDENTIALS_HELP\u001b[0m\u001b[0;34m)\u001b[0m\u001b[0;34m\u001b[0m\u001b[0;34m\u001b[0m\u001b[0m\n\u001b[1;32m    131\u001b[0m         \u001b[0;32mif\u001b[0m \u001b[0mcredentials\u001b[0m \u001b[0;32mis\u001b[0m \u001b[0;32mNone\u001b[0m \u001b[0;32mand\u001b[0m \u001b[0m_http\u001b[0m \u001b[0;32mis\u001b[0m \u001b[0;32mNone\u001b[0m\u001b[0;34m:\u001b[0m\u001b[0;34m\u001b[0m\u001b[0;34m\u001b[0m\u001b[0m\n\u001b[0;32m--> 132\u001b[0;31m             \u001b[0mcredentials\u001b[0m\u001b[0;34m,\u001b[0m \u001b[0m_\u001b[0m \u001b[0;34m=\u001b[0m \u001b[0mgoogle\u001b[0m\u001b[0;34m.\u001b[0m\u001b[0mauth\u001b[0m\u001b[0;34m.\u001b[0m\u001b[0mdefault\u001b[0m\u001b[0;34m(\u001b[0m\u001b[0;34m)\u001b[0m\u001b[0;34m\u001b[0m\u001b[0;34m\u001b[0m\u001b[0m\n\u001b[0m\u001b[1;32m    133\u001b[0m         self._credentials = google.auth.credentials.with_scopes_if_required(\n\u001b[1;32m    134\u001b[0m             \u001b[0mcredentials\u001b[0m\u001b[0;34m,\u001b[0m \u001b[0mself\u001b[0m\u001b[0;34m.\u001b[0m\u001b[0mSCOPE\u001b[0m\u001b[0;34m\u001b[0m\u001b[0;34m\u001b[0m\u001b[0m\n",
            "\u001b[0;32m/usr/local/lib/python3.6/dist-packages/google/auth/_default.py\u001b[0m in \u001b[0;36mdefault\u001b[0;34m(scopes, request)\u001b[0m\n\u001b[1;32m    319\u001b[0m             \u001b[0;32mreturn\u001b[0m \u001b[0mcredentials\u001b[0m\u001b[0;34m,\u001b[0m \u001b[0meffective_project_id\u001b[0m\u001b[0;34m\u001b[0m\u001b[0;34m\u001b[0m\u001b[0m\n\u001b[1;32m    320\u001b[0m \u001b[0;34m\u001b[0m\u001b[0m\n\u001b[0;32m--> 321\u001b[0;31m     \u001b[0;32mraise\u001b[0m \u001b[0mexceptions\u001b[0m\u001b[0;34m.\u001b[0m\u001b[0mDefaultCredentialsError\u001b[0m\u001b[0;34m(\u001b[0m\u001b[0m_HELP_MESSAGE\u001b[0m\u001b[0;34m)\u001b[0m\u001b[0;34m\u001b[0m\u001b[0;34m\u001b[0m\u001b[0m\n\u001b[0m",
            "\u001b[0;31mDefaultCredentialsError\u001b[0m: Could not automatically determine credentials. Please set GOOGLE_APPLICATION_CREDENTIALS or explicitly create credentials and re-run the application. For more information, please see https://cloud.google.com/docs/authentication/getting-started"
          ]
        }
      ]
    },
    {
      "cell_type": "code",
      "metadata": {
        "id": "YJEXlE9SsdVl"
      },
      "source": [
        "#news = pd.read_csv('https://raw.githubusercontent.com/WildArcher/Master_work/master/clean_sber_interfax_news_2018-2020.csv')\n",
        "news = pd.read_csv('rbc_clean_text.csv')\n",
        "#news = pd.read_csv('clean_taiga_lenta_news.csv')\n",
        "#news = pd.read_csv('rbc_headers.csv')\n",
        "#news.columns = ['clean_text', 'date']\n",
        "#news = pd.read_csv('clean_tass_news.csv')\n",
        "#news = pd.read_csv('https://raw.githubusercontent.com/WildArcher/Master_work/master/clean_interfax_news_from_Evgeniy.csv')"
      ],
      "execution_count": 27,
      "outputs": []
    },
    {
      "cell_type": "code",
      "metadata": {
        "id": "u68WnGwVvglu",
        "outputId": "5cd2c253-dddf-4fa8-c046-f32ae5ce5822",
        "colab": {
          "base_uri": "https://localhost:8080/",
          "height": 419
        }
      },
      "source": [
        "#news.drop(columns=['Unnamed: 0'],inplace=True)\n",
        "#news.columns = ['clean_text', 'date']\n",
        "news"
      ],
      "execution_count": 29,
      "outputs": [
        {
          "output_type": "execute_result",
          "data": {
            "text/html": [
              "<div>\n",
              "<style scoped>\n",
              "    .dataframe tbody tr th:only-of-type {\n",
              "        vertical-align: middle;\n",
              "    }\n",
              "\n",
              "    .dataframe tbody tr th {\n",
              "        vertical-align: top;\n",
              "    }\n",
              "\n",
              "    .dataframe thead th {\n",
              "        text-align: right;\n",
              "    }\n",
              "</style>\n",
              "<table border=\"1\" class=\"dataframe\">\n",
              "  <thead>\n",
              "    <tr style=\"text-align: right;\">\n",
              "      <th></th>\n",
              "      <th>clean_text</th>\n",
              "      <th>date</th>\n",
              "    </tr>\n",
              "  </thead>\n",
              "  <tbody>\n",
              "    <tr>\n",
              "      <th>0</th>\n",
              "      <td>сбербанк вместе весь страна готовиться праздно...</td>\n",
              "      <td>2020-04-20 00:00:00</td>\n",
              "    </tr>\n",
              "    <tr>\n",
              "      <th>1</th>\n",
              "      <td>итоговыи пресс конференция председатель заксоб...</td>\n",
              "      <td>2019-12-25 00:00:00</td>\n",
              "    </tr>\n",
              "    <tr>\n",
              "      <th>2</th>\n",
              "      <td>number_token number_token описание цель исслед...</td>\n",
              "      <td>2019-11-08 00:00:00</td>\n",
              "    </tr>\n",
              "    <tr>\n",
              "      <th>3</th>\n",
              "      <td>краснодар произоити возгорание ресторан бумбар...</td>\n",
              "      <td>2019-10-04 00:00:00</td>\n",
              "    </tr>\n",
              "    <tr>\n",
              "      <th>4</th>\n",
              "      <td>возможно прилив новыи сила правительство ощуще...</td>\n",
              "      <td>2020-01-21 00:00:00</td>\n",
              "    </tr>\n",
              "    <tr>\n",
              "      <th>...</th>\n",
              "      <td>...</td>\n",
              "      <td>...</td>\n",
              "    </tr>\n",
              "    <tr>\n",
              "      <th>16767</th>\n",
              "      <td>легендарныи фолк музыкант лауреат нобелевскии ...</td>\n",
              "      <td>2020-06-19 00:00:00</td>\n",
              "    </tr>\n",
              "    <tr>\n",
              "      <th>16768</th>\n",
              "      <td>фото kubannumber_token ооо региональныи консал...</td>\n",
              "      <td>2019-11-13 00:00:00</td>\n",
              "    </tr>\n",
              "    <tr>\n",
              "      <th>16769</th>\n",
              "      <td>контракт компания заключить ранее предложить ц...</td>\n",
              "      <td>2020-06-26 00:00:00</td>\n",
              "    </tr>\n",
              "    <tr>\n",
              "      <th>16770</th>\n",
              "      <td>новое дерево которыи посадить проспект киров п...</td>\n",
              "      <td>2019-09-05 00:00:00</td>\n",
              "    </tr>\n",
              "    <tr>\n",
              "      <th>16771</th>\n",
              "      <td>фото александр миридон коммерсантъ чистыи приб...</td>\n",
              "      <td>2020-04-14 00:00:00</td>\n",
              "    </tr>\n",
              "  </tbody>\n",
              "</table>\n",
              "<p>16772 rows × 2 columns</p>\n",
              "</div>"
            ],
            "text/plain": [
              "                                              clean_text                 date\n",
              "0      сбербанк вместе весь страна готовиться праздно...  2020-04-20 00:00:00\n",
              "1      итоговыи пресс конференция председатель заксоб...  2019-12-25 00:00:00\n",
              "2      number_token number_token описание цель исслед...  2019-11-08 00:00:00\n",
              "3      краснодар произоити возгорание ресторан бумбар...  2019-10-04 00:00:00\n",
              "4      возможно прилив новыи сила правительство ощуще...  2020-01-21 00:00:00\n",
              "...                                                  ...                  ...\n",
              "16767  легендарныи фолк музыкант лауреат нобелевскии ...  2020-06-19 00:00:00\n",
              "16768  фото kubannumber_token ооо региональныи консал...  2019-11-13 00:00:00\n",
              "16769  контракт компания заключить ранее предложить ц...  2020-06-26 00:00:00\n",
              "16770  новое дерево которыи посадить проспект киров п...  2019-09-05 00:00:00\n",
              "16771  фото александр миридон коммерсантъ чистыи приб...  2020-04-14 00:00:00\n",
              "\n",
              "[16772 rows x 2 columns]"
            ]
          },
          "metadata": {
            "tags": []
          },
          "execution_count": 29
        }
      ]
    },
    {
      "cell_type": "code",
      "metadata": {
        "id": "1Z_v99qSKBdD"
      },
      "source": [
        "#news.columns = ['clean_text', 'date']"
      ],
      "execution_count": null,
      "outputs": []
    },
    {
      "cell_type": "code",
      "metadata": {
        "id": "wbuQ7kjTRRoG",
        "outputId": "b24d5fb7-9183-431a-a075-4533cd555876",
        "colab": {
          "base_uri": "https://localhost:8080/",
          "height": 34
        }
      },
      "source": [
        "!pip install corus"
      ],
      "execution_count": null,
      "outputs": [
        {
          "output_type": "stream",
          "text": [
            "Requirement already satisfied: corus in /usr/local/lib/python3.6/dist-packages (0.7.0)\n"
          ],
          "name": "stdout"
        }
      ]
    },
    {
      "cell_type": "code",
      "metadata": {
        "id": "nOvGlPPKLvtn"
      },
      "source": [
        "from corus import load_lenta\n",
        "\n",
        "path = 'lenta-ru-news.csv.gz'\n",
        "records = load_lenta(path)\n",
        "\n",
        "lenta_titles = []\n",
        "lenta_data_int = []\n",
        "\n",
        "for i in range(100_000):\n",
        "  lenta_titles.append(next(records).title)\n",
        "  a = re.findall('/\\d{4}/\\d{2}/\\d{2}', next(records).url)\n",
        "  lenta_data_int.append(int(a[0][1:5]) * 10_000 + int(a[0][6:8]) * 100 + int(a[0][9:11]) )"
      ],
      "execution_count": null,
      "outputs": []
    },
    {
      "cell_type": "code",
      "metadata": {
        "id": "Xw5JHGk3LzXq"
      },
      "source": [
        "lenta_headers = pd.DataFrame(columns=['header', 'date_int'])\n",
        "\n",
        "lenta_headers['header'] = lenta_titles\n",
        "lenta_headers['date_int'] = lenta_data_int"
      ],
      "execution_count": null,
      "outputs": []
    },
    {
      "cell_type": "code",
      "metadata": {
        "id": "rZBPb5inT9cq",
        "outputId": "077cee5f-eb4d-46a9-b320-6445ec93040b",
        "colab": {
          "base_uri": "https://localhost:8080/",
          "height": 51
        }
      },
      "source": [
        "nltk.download('stopwords') # стоп слова русского языка\n",
        "\n",
        "stop_words = stopwords.words(('russian'))\n",
        "\n",
        "stop_words.remove('нет')\n",
        "stop_words.remove('не')\n",
        "stop_words.remove('ни')\n",
        "\n",
        "for i in range(len(stop_words)):\n",
        " stop_words[i] = ' '+stop_words[i]+' '"
      ],
      "execution_count": null,
      "outputs": [
        {
          "output_type": "stream",
          "text": [
            "[nltk_data] Downloading package stopwords to /root/nltk_data...\n",
            "[nltk_data]   Package stopwords is already up-to-date!\n"
          ],
          "name": "stdout"
        }
      ]
    },
    {
      "cell_type": "code",
      "metadata": {
        "id": "-5EcrCgsUdam"
      },
      "source": [
        "morph = pymorphy2.MorphAnalyzer()"
      ],
      "execution_count": null,
      "outputs": []
    },
    {
      "cell_type": "code",
      "metadata": {
        "id": "7IOtSSr7UQN3"
      },
      "source": [
        "def tex_preprocessing(text, lemmatize, replacement, del_stop_words, no_connection, del_word_less_2_symbol):\n",
        "\n",
        "  data = []\n",
        "\n",
        "  for i in range(text.shape[0]):\n",
        "\n",
        "    d = text[i]\n",
        "    d = d.lower() # приведение к нижнему регистру\n",
        "    d = re.sub(r'https://[a-z1-9./]+', ' ', d) # удаление ссылок\n",
        "\n",
        "    d = re.sub('[^a-zа-я]', ' ', d) # удаление символов кроме символов русского и английского алфавитов\n",
        "\n",
        "    if lemmatize == True:\n",
        "      d = \" \".join(morph.parse(word)[0].normal_form for word in d.split()) # Лемматизация\n",
        "\n",
        "    d = re.sub(' нет ', ' не ', d) # Замена 'нет' и 'ни' на 'не'\n",
        "    d = re.sub(' ни ', ' не ', d)\n",
        "    #d = re.sub(r'\\d+', 'number_token', d) # Замена чисел на number_token\n",
        "\n",
        "    if replacement == True:\n",
        "      d = re.sub('ё', 'е', d)\n",
        "      d = re.sub('й', 'и', d)\n",
        "\n",
        "    if del_stop_words == True:\n",
        "      for stop_word in stop_words:\n",
        "        if stop_word in d:\n",
        "          d = re.sub(stop_word, ' ', d) # удаление стоп слов      \n",
        "\n",
        "    if no_connection == True:\n",
        "      words = d.split()\n",
        "      for i in range(len(words)-1):\n",
        "          if words[i] == ' не ':\n",
        "            words[i] = words[i] + words[i+1]\n",
        "            words[i+1] = ' '\n",
        "          else:\n",
        "            d = ' '.join(words)\n",
        "            d = ' '.join(d.split())\n",
        "\n",
        "    if del_word_less_2_symbol == True:\n",
        "      d = \" \".join([w for w in d.split() if len(w) > 2])\n",
        "\n",
        "    data.append(d)\n",
        "\n",
        "  return data"
      ],
      "execution_count": null,
      "outputs": []
    },
    {
      "cell_type": "code",
      "metadata": {
        "id": "TJ3rX6lC2BPG"
      },
      "source": [
        "#headers = pd.read_csv('rbc_headers.csv').title"
      ],
      "execution_count": null,
      "outputs": []
    },
    {
      "cell_type": "code",
      "metadata": {
        "id": "cLlw3BP0aDqu"
      },
      "source": [
        "headers = tex_preprocessing(text=lenta_headers.header, lemmatize=True, replacement=True, del_stop_words=True, no_connection=True, del_word_less_2_symbol=True)"
      ],
      "execution_count": null,
      "outputs": []
    },
    {
      "cell_type": "code",
      "metadata": {
        "id": "K8Wp3oETN8DP"
      },
      "source": [
        "lenta_headers['header'] = headers\n",
        "lenta_headers['date_int'] = lenta_data_int"
      ],
      "execution_count": null,
      "outputs": []
    },
    {
      "cell_type": "code",
      "metadata": {
        "id": "eMoyP3T0PGAJ"
      },
      "source": [
        "news = lenta_headers"
      ],
      "execution_count": null,
      "outputs": []
    },
    {
      "cell_type": "markdown",
      "metadata": {
        "id": "0UtV0PuESJgV"
      },
      "source": [
        "## Simple test"
      ]
    },
    {
      "cell_type": "code",
      "metadata": {
        "id": "J4pH8rbYSqjL"
      },
      "source": [
        "def preprocessing_sber_data(sber):\n",
        "  sber.columns=['date', 'time', 'open', 'high', 'low', 'close', 'vol']\n",
        "  sber.time /= 10_000\n",
        "\n",
        "  year, month, day = [], [], []\n",
        "  for i in range(sber.shape[0]):\n",
        "    year.append(time.strptime(str(sber.date[i]), '%Y%m%d')[0])\n",
        "    month.append(time.strptime(str(sber.date[i]), '%Y%m%d')[1])\n",
        "    day.append(time.strptime(str(sber.date[i]), '%Y%m%d')[2])\n",
        "\n",
        "  sber['year'] = year\n",
        "  sber['month'] = month\n",
        "  sber['day'] = day\n",
        "\n",
        "  sber.drop(columns=['date'], inplace=True)\n",
        "\n",
        "  return sber"
      ],
      "execution_count": 69,
      "outputs": []
    },
    {
      "cell_type": "code",
      "metadata": {
        "id": "lJyaPQPWSL1Q"
      },
      "source": [
        "#sber_day = preprocessing_sber_data(pd.read_csv('https://raw.githubusercontent.com/WildArcher/Master_work/master/prices/SBER_2010-2020.csv', sep=' '))\n",
        "#sber_day = preprocessing_sber_data(pd.read_csv('https://raw.githubusercontent.com/WildArcher/Master_work/master/prices/RTSI_100617_200818.csv', sep=' '))\n",
        "sber_day = preprocessing_sber_data(pd.read_csv('https://raw.githubusercontent.com/WildArcher/Master_work/master/prices/IMOEX_100617_200818.csv', sep=' ')) # Пробую индекс мос биржи"
      ],
      "execution_count": 153,
      "outputs": []
    },
    {
      "cell_type": "code",
      "metadata": {
        "id": "FM7hxDLhSdWi"
      },
      "source": [
        "sber_day['date'] = np.zeros(sber_day.shape[0])\n",
        "\n",
        "for i in range(sber_day.shape[0]): \n",
        "  sber_day['date'][i] = datetime.datetime(sber_day.year[i], sber_day.month[i], sber_day.day[i])"
      ],
      "execution_count": 71,
      "outputs": []
    },
    {
      "cell_type": "code",
      "metadata": {
        "id": "4xQP4LQcS3-7",
        "outputId": "504c7829-8d00-4ecd-d921-dd27ca10fc8a",
        "colab": {
          "base_uri": "https://localhost:8080/",
          "height": 419
        }
      },
      "source": [
        "sber_day"
      ],
      "execution_count": 72,
      "outputs": [
        {
          "output_type": "execute_result",
          "data": {
            "text/html": [
              "<div>\n",
              "<style scoped>\n",
              "    .dataframe tbody tr th:only-of-type {\n",
              "        vertical-align: middle;\n",
              "    }\n",
              "\n",
              "    .dataframe tbody tr th {\n",
              "        vertical-align: top;\n",
              "    }\n",
              "\n",
              "    .dataframe thead th {\n",
              "        text-align: right;\n",
              "    }\n",
              "</style>\n",
              "<table border=\"1\" class=\"dataframe\">\n",
              "  <thead>\n",
              "    <tr style=\"text-align: right;\">\n",
              "      <th></th>\n",
              "      <th>time</th>\n",
              "      <th>open</th>\n",
              "      <th>high</th>\n",
              "      <th>low</th>\n",
              "      <th>close</th>\n",
              "      <th>vol</th>\n",
              "      <th>year</th>\n",
              "      <th>month</th>\n",
              "      <th>day</th>\n",
              "      <th>date</th>\n",
              "    </tr>\n",
              "  </thead>\n",
              "  <tbody>\n",
              "    <tr>\n",
              "      <th>0</th>\n",
              "      <td>0.0</td>\n",
              "      <td>1401.73</td>\n",
              "      <td>1425.81</td>\n",
              "      <td>1387.13</td>\n",
              "      <td>1400.66</td>\n",
              "      <td>519576185</td>\n",
              "      <td>2010</td>\n",
              "      <td>6</td>\n",
              "      <td>17</td>\n",
              "      <td>2010-06-17 00:00:00</td>\n",
              "    </tr>\n",
              "    <tr>\n",
              "      <th>1</th>\n",
              "      <td>0.0</td>\n",
              "      <td>1400.66</td>\n",
              "      <td>1413.52</td>\n",
              "      <td>1393.06</td>\n",
              "      <td>1409.43</td>\n",
              "      <td>419915120</td>\n",
              "      <td>2010</td>\n",
              "      <td>6</td>\n",
              "      <td>18</td>\n",
              "      <td>2010-06-18 00:00:00</td>\n",
              "    </tr>\n",
              "    <tr>\n",
              "      <th>2</th>\n",
              "      <td>0.0</td>\n",
              "      <td>1410.46</td>\n",
              "      <td>1458.90</td>\n",
              "      <td>1409.00</td>\n",
              "      <td>1457.95</td>\n",
              "      <td>572458884</td>\n",
              "      <td>2010</td>\n",
              "      <td>6</td>\n",
              "      <td>21</td>\n",
              "      <td>2010-06-21 00:00:00</td>\n",
              "    </tr>\n",
              "    <tr>\n",
              "      <th>3</th>\n",
              "      <td>0.0</td>\n",
              "      <td>1457.95</td>\n",
              "      <td>1457.95</td>\n",
              "      <td>1423.53</td>\n",
              "      <td>1434.93</td>\n",
              "      <td>491580358</td>\n",
              "      <td>2010</td>\n",
              "      <td>6</td>\n",
              "      <td>22</td>\n",
              "      <td>2010-06-22 00:00:00</td>\n",
              "    </tr>\n",
              "    <tr>\n",
              "      <th>4</th>\n",
              "      <td>0.0</td>\n",
              "      <td>1434.78</td>\n",
              "      <td>1436.17</td>\n",
              "      <td>1413.25</td>\n",
              "      <td>1418.42</td>\n",
              "      <td>392651292</td>\n",
              "      <td>2010</td>\n",
              "      <td>6</td>\n",
              "      <td>23</td>\n",
              "      <td>2010-06-23 00:00:00</td>\n",
              "    </tr>\n",
              "    <tr>\n",
              "      <th>...</th>\n",
              "      <td>...</td>\n",
              "      <td>...</td>\n",
              "      <td>...</td>\n",
              "      <td>...</td>\n",
              "      <td>...</td>\n",
              "      <td>...</td>\n",
              "      <td>...</td>\n",
              "      <td>...</td>\n",
              "      <td>...</td>\n",
              "      <td>...</td>\n",
              "    </tr>\n",
              "    <tr>\n",
              "      <th>2557</th>\n",
              "      <td>0.0</td>\n",
              "      <td>1305.81</td>\n",
              "      <td>1326.13</td>\n",
              "      <td>1304.59</td>\n",
              "      <td>1326.13</td>\n",
              "      <td>1256464233</td>\n",
              "      <td>2020</td>\n",
              "      <td>8</td>\n",
              "      <td>13</td>\n",
              "      <td>2020-08-13 00:00:00</td>\n",
              "    </tr>\n",
              "    <tr>\n",
              "      <th>2558</th>\n",
              "      <td>0.0</td>\n",
              "      <td>1327.38</td>\n",
              "      <td>1328.14</td>\n",
              "      <td>1306.00</td>\n",
              "      <td>1323.80</td>\n",
              "      <td>853455853</td>\n",
              "      <td>2020</td>\n",
              "      <td>8</td>\n",
              "      <td>14</td>\n",
              "      <td>2020-08-14 00:00:00</td>\n",
              "    </tr>\n",
              "    <tr>\n",
              "      <th>2559</th>\n",
              "      <td>0.0</td>\n",
              "      <td>1328.03</td>\n",
              "      <td>1336.58</td>\n",
              "      <td>1301.03</td>\n",
              "      <td>1308.71</td>\n",
              "      <td>1125736086</td>\n",
              "      <td>2020</td>\n",
              "      <td>8</td>\n",
              "      <td>17</td>\n",
              "      <td>2020-08-17 00:00:00</td>\n",
              "    </tr>\n",
              "    <tr>\n",
              "      <th>2560</th>\n",
              "      <td>0.0</td>\n",
              "      <td>1306.23</td>\n",
              "      <td>1322.99</td>\n",
              "      <td>1303.30</td>\n",
              "      <td>1311.52</td>\n",
              "      <td>801422357</td>\n",
              "      <td>2020</td>\n",
              "      <td>8</td>\n",
              "      <td>18</td>\n",
              "      <td>2020-08-18 00:00:00</td>\n",
              "    </tr>\n",
              "    <tr>\n",
              "      <th>2561</th>\n",
              "      <td>0.0</td>\n",
              "      <td>1312.48</td>\n",
              "      <td>1322.48</td>\n",
              "      <td>1308.09</td>\n",
              "      <td>1316.32</td>\n",
              "      <td>757567601</td>\n",
              "      <td>2020</td>\n",
              "      <td>8</td>\n",
              "      <td>19</td>\n",
              "      <td>2020-08-19 00:00:00</td>\n",
              "    </tr>\n",
              "  </tbody>\n",
              "</table>\n",
              "<p>2562 rows × 10 columns</p>\n",
              "</div>"
            ],
            "text/plain": [
              "      time     open     high      low  ...  year  month  day                 date\n",
              "0      0.0  1401.73  1425.81  1387.13  ...  2010      6   17  2010-06-17 00:00:00\n",
              "1      0.0  1400.66  1413.52  1393.06  ...  2010      6   18  2010-06-18 00:00:00\n",
              "2      0.0  1410.46  1458.90  1409.00  ...  2010      6   21  2010-06-21 00:00:00\n",
              "3      0.0  1457.95  1457.95  1423.53  ...  2010      6   22  2010-06-22 00:00:00\n",
              "4      0.0  1434.78  1436.17  1413.25  ...  2010      6   23  2010-06-23 00:00:00\n",
              "...    ...      ...      ...      ...  ...   ...    ...  ...                  ...\n",
              "2557   0.0  1305.81  1326.13  1304.59  ...  2020      8   13  2020-08-13 00:00:00\n",
              "2558   0.0  1327.38  1328.14  1306.00  ...  2020      8   14  2020-08-14 00:00:00\n",
              "2559   0.0  1328.03  1336.58  1301.03  ...  2020      8   17  2020-08-17 00:00:00\n",
              "2560   0.0  1306.23  1322.99  1303.30  ...  2020      8   18  2020-08-18 00:00:00\n",
              "2561   0.0  1312.48  1322.48  1308.09  ...  2020      8   19  2020-08-19 00:00:00\n",
              "\n",
              "[2562 rows x 10 columns]"
            ]
          },
          "metadata": {
            "tags": []
          },
          "execution_count": 72
        }
      ]
    },
    {
      "cell_type": "code",
      "metadata": {
        "id": "qN27pWjyUUHU"
      },
      "source": [
        "sber_day['date_int'] = np.zeros(sber_day.shape[0])\n",
        "\n",
        "for i in range(sber_day.shape[0]):\n",
        "  sber_day['date_int'][i] = int(sber_day.date[i].year)*10_000 + int(sber_day.date[i].month)*100 + int(sber_day.date[i].day)"
      ],
      "execution_count": 73,
      "outputs": []
    },
    {
      "cell_type": "code",
      "metadata": {
        "id": "CmgfcbczYAMv"
      },
      "source": [
        "news['date_int'] = np.zeros(news.shape[0])\n",
        "news.date = pd.to_datetime(news.date)\n",
        "\n",
        "for i in range(news.shape[0]):\n",
        "  news['date_int'][i] = int(news.date[i].year)*10_000 + int(news.date[i].month)*100 + int(news.date[i].day)"
      ],
      "execution_count": 74,
      "outputs": []
    },
    {
      "cell_type": "code",
      "metadata": {
        "id": "atO_n-HMIoUe",
        "outputId": "3ec047b8-8047-45e3-824c-02c9bed5e1a2",
        "colab": {
          "base_uri": "https://localhost:8080/",
          "height": 419
        }
      },
      "source": [
        "news"
      ],
      "execution_count": 75,
      "outputs": [
        {
          "output_type": "execute_result",
          "data": {
            "text/html": [
              "<div>\n",
              "<style scoped>\n",
              "    .dataframe tbody tr th:only-of-type {\n",
              "        vertical-align: middle;\n",
              "    }\n",
              "\n",
              "    .dataframe tbody tr th {\n",
              "        vertical-align: top;\n",
              "    }\n",
              "\n",
              "    .dataframe thead th {\n",
              "        text-align: right;\n",
              "    }\n",
              "</style>\n",
              "<table border=\"1\" class=\"dataframe\">\n",
              "  <thead>\n",
              "    <tr style=\"text-align: right;\">\n",
              "      <th></th>\n",
              "      <th>clean_text</th>\n",
              "      <th>date</th>\n",
              "      <th>date_int</th>\n",
              "    </tr>\n",
              "  </thead>\n",
              "  <tbody>\n",
              "    <tr>\n",
              "      <th>0</th>\n",
              "      <td>сбербанк вместе весь страна готовиться праздно...</td>\n",
              "      <td>2020-04-20</td>\n",
              "      <td>20200420.0</td>\n",
              "    </tr>\n",
              "    <tr>\n",
              "      <th>1</th>\n",
              "      <td>итоговыи пресс конференция председатель заксоб...</td>\n",
              "      <td>2019-12-25</td>\n",
              "      <td>20191225.0</td>\n",
              "    </tr>\n",
              "    <tr>\n",
              "      <th>2</th>\n",
              "      <td>number_token number_token описание цель исслед...</td>\n",
              "      <td>2019-11-08</td>\n",
              "      <td>20191108.0</td>\n",
              "    </tr>\n",
              "    <tr>\n",
              "      <th>3</th>\n",
              "      <td>краснодар произоити возгорание ресторан бумбар...</td>\n",
              "      <td>2019-10-04</td>\n",
              "      <td>20191004.0</td>\n",
              "    </tr>\n",
              "    <tr>\n",
              "      <th>4</th>\n",
              "      <td>возможно прилив новыи сила правительство ощуще...</td>\n",
              "      <td>2020-01-21</td>\n",
              "      <td>20200121.0</td>\n",
              "    </tr>\n",
              "    <tr>\n",
              "      <th>...</th>\n",
              "      <td>...</td>\n",
              "      <td>...</td>\n",
              "      <td>...</td>\n",
              "    </tr>\n",
              "    <tr>\n",
              "      <th>16767</th>\n",
              "      <td>легендарныи фолк музыкант лауреат нобелевскии ...</td>\n",
              "      <td>2020-06-19</td>\n",
              "      <td>20200619.0</td>\n",
              "    </tr>\n",
              "    <tr>\n",
              "      <th>16768</th>\n",
              "      <td>фото kubannumber_token ооо региональныи консал...</td>\n",
              "      <td>2019-11-13</td>\n",
              "      <td>20191113.0</td>\n",
              "    </tr>\n",
              "    <tr>\n",
              "      <th>16769</th>\n",
              "      <td>контракт компания заключить ранее предложить ц...</td>\n",
              "      <td>2020-06-26</td>\n",
              "      <td>20200626.0</td>\n",
              "    </tr>\n",
              "    <tr>\n",
              "      <th>16770</th>\n",
              "      <td>новое дерево которыи посадить проспект киров п...</td>\n",
              "      <td>2019-09-05</td>\n",
              "      <td>20190905.0</td>\n",
              "    </tr>\n",
              "    <tr>\n",
              "      <th>16771</th>\n",
              "      <td>фото александр миридон коммерсантъ чистыи приб...</td>\n",
              "      <td>2020-04-14</td>\n",
              "      <td>20200414.0</td>\n",
              "    </tr>\n",
              "  </tbody>\n",
              "</table>\n",
              "<p>16772 rows × 3 columns</p>\n",
              "</div>"
            ],
            "text/plain": [
              "                                              clean_text       date    date_int\n",
              "0      сбербанк вместе весь страна готовиться праздно... 2020-04-20  20200420.0\n",
              "1      итоговыи пресс конференция председатель заксоб... 2019-12-25  20191225.0\n",
              "2      number_token number_token описание цель исслед... 2019-11-08  20191108.0\n",
              "3      краснодар произоити возгорание ресторан бумбар... 2019-10-04  20191004.0\n",
              "4      возможно прилив новыи сила правительство ощуще... 2020-01-21  20200121.0\n",
              "...                                                  ...        ...         ...\n",
              "16767  легендарныи фолк музыкант лауреат нобелевскии ... 2020-06-19  20200619.0\n",
              "16768  фото kubannumber_token ооо региональныи консал... 2019-11-13  20191113.0\n",
              "16769  контракт компания заключить ранее предложить ц... 2020-06-26  20200626.0\n",
              "16770  новое дерево которыи посадить проспект киров п... 2019-09-05  20190905.0\n",
              "16771  фото александр миридон коммерсантъ чистыи приб... 2020-04-14  20200414.0\n",
              "\n",
              "[16772 rows x 3 columns]"
            ]
          },
          "metadata": {
            "tags": []
          },
          "execution_count": 75
        }
      ]
    },
    {
      "cell_type": "code",
      "metadata": {
        "id": "ay-R83eWBVe3"
      },
      "source": [
        "#news['clean_text'] = news['0']"
      ],
      "execution_count": 76,
      "outputs": []
    },
    {
      "cell_type": "code",
      "metadata": {
        "id": "icj5-m5igCXX"
      },
      "source": [
        "data = news.merge(sber_day.drop(columns=['date']))\n",
        "\n",
        "data = data[['close', 'clean_text', 'date_int']] #'summary', 'text']]"
      ],
      "execution_count": 77,
      "outputs": []
    },
    {
      "cell_type": "code",
      "metadata": {
        "id": "nG706lb493fo",
        "outputId": "6bc75cbb-bfc0-4397-9132-6c793234c2ee",
        "colab": {
          "base_uri": "https://localhost:8080/",
          "height": 419
        }
      },
      "source": [
        "data"
      ],
      "execution_count": 78,
      "outputs": [
        {
          "output_type": "execute_result",
          "data": {
            "text/html": [
              "<div>\n",
              "<style scoped>\n",
              "    .dataframe tbody tr th:only-of-type {\n",
              "        vertical-align: middle;\n",
              "    }\n",
              "\n",
              "    .dataframe tbody tr th {\n",
              "        vertical-align: top;\n",
              "    }\n",
              "\n",
              "    .dataframe thead th {\n",
              "        text-align: right;\n",
              "    }\n",
              "</style>\n",
              "<table border=\"1\" class=\"dataframe\">\n",
              "  <thead>\n",
              "    <tr style=\"text-align: right;\">\n",
              "      <th></th>\n",
              "      <th>close</th>\n",
              "      <th>clean_text</th>\n",
              "      <th>date_int</th>\n",
              "    </tr>\n",
              "  </thead>\n",
              "  <tbody>\n",
              "    <tr>\n",
              "      <th>0</th>\n",
              "      <td>1068.32</td>\n",
              "      <td>сбербанк вместе весь страна готовиться праздно...</td>\n",
              "      <td>20200420.0</td>\n",
              "    </tr>\n",
              "    <tr>\n",
              "      <th>1</th>\n",
              "      <td>1068.32</td>\n",
              "      <td>ректор нгуэу александр новиков какои возможнос...</td>\n",
              "      <td>20200420.0</td>\n",
              "    </tr>\n",
              "    <tr>\n",
              "      <th>2</th>\n",
              "      <td>1068.32</td>\n",
              "      <td>казань наблюдение врач оставаться number_token...</td>\n",
              "      <td>20200420.0</td>\n",
              "    </tr>\n",
              "    <tr>\n",
              "      <th>3</th>\n",
              "      <td>1068.32</td>\n",
              "      <td>предприятие среднее урал получить льготныи зае...</td>\n",
              "      <td>20200420.0</td>\n",
              "    </tr>\n",
              "    <tr>\n",
              "      <th>4</th>\n",
              "      <td>1068.32</td>\n",
              "      <td>эксара входить группа рэц заключить новое дого...</td>\n",
              "      <td>20200420.0</td>\n",
              "    </tr>\n",
              "    <tr>\n",
              "      <th>...</th>\n",
              "      <td>...</td>\n",
              "      <td>...</td>\n",
              "      <td>...</td>\n",
              "    </tr>\n",
              "    <tr>\n",
              "      <th>15959</th>\n",
              "      <td>1564.18</td>\n",
              "      <td>фото антон ваган интерпресс несмотря популярно...</td>\n",
              "      <td>20200103.0</td>\n",
              "    </tr>\n",
              "    <tr>\n",
              "      <th>15960</th>\n",
              "      <td>1341.17</td>\n",
              "      <td>управление федеральныи антимонопольныи служба ...</td>\n",
              "      <td>20190722.0</td>\n",
              "    </tr>\n",
              "    <tr>\n",
              "      <th>15961</th>\n",
              "      <td>1341.17</td>\n",
              "      <td>forbes опубликовать реитинг самыи богатыи бизн...</td>\n",
              "      <td>20190722.0</td>\n",
              "    </tr>\n",
              "    <tr>\n",
              "      <th>15962</th>\n",
              "      <td>1341.17</td>\n",
              "      <td>честь свои юбилеи день металлург завод подарит...</td>\n",
              "      <td>20190722.0</td>\n",
              "    </tr>\n",
              "    <tr>\n",
              "      <th>15963</th>\n",
              "      <td>1341.17</td>\n",
              "      <td>представить вариант фасад планироваться исполь...</td>\n",
              "      <td>20190722.0</td>\n",
              "    </tr>\n",
              "  </tbody>\n",
              "</table>\n",
              "<p>15964 rows × 3 columns</p>\n",
              "</div>"
            ],
            "text/plain": [
              "         close                                         clean_text    date_int\n",
              "0      1068.32  сбербанк вместе весь страна готовиться праздно...  20200420.0\n",
              "1      1068.32  ректор нгуэу александр новиков какои возможнос...  20200420.0\n",
              "2      1068.32  казань наблюдение врач оставаться number_token...  20200420.0\n",
              "3      1068.32  предприятие среднее урал получить льготныи зае...  20200420.0\n",
              "4      1068.32  эксара входить группа рэц заключить новое дого...  20200420.0\n",
              "...        ...                                                ...         ...\n",
              "15959  1564.18  фото антон ваган интерпресс несмотря популярно...  20200103.0\n",
              "15960  1341.17  управление федеральныи антимонопольныи служба ...  20190722.0\n",
              "15961  1341.17  forbes опубликовать реитинг самыи богатыи бизн...  20190722.0\n",
              "15962  1341.17  честь свои юбилеи день металлург завод подарит...  20190722.0\n",
              "15963  1341.17  представить вариант фасад планироваться исполь...  20190722.0\n",
              "\n",
              "[15964 rows x 3 columns]"
            ]
          },
          "metadata": {
            "tags": []
          },
          "execution_count": 78
        }
      ]
    },
    {
      "cell_type": "code",
      "metadata": {
        "id": "mquQ9-TTU2ah",
        "outputId": "e0c4c506-3ebc-4fa5-e25b-e772206a05b3",
        "colab": {
          "base_uri": "https://localhost:8080/",
          "height": 419
        }
      },
      "source": [
        "group_data = pd.DataFrame(data.groupby(by='date_int', as_index=False).mean(), dtype=float)\n",
        "\n",
        "group_data"
      ],
      "execution_count": 79,
      "outputs": [
        {
          "output_type": "execute_result",
          "data": {
            "text/html": [
              "<div>\n",
              "<style scoped>\n",
              "    .dataframe tbody tr th:only-of-type {\n",
              "        vertical-align: middle;\n",
              "    }\n",
              "\n",
              "    .dataframe tbody tr th {\n",
              "        vertical-align: top;\n",
              "    }\n",
              "\n",
              "    .dataframe thead th {\n",
              "        text-align: right;\n",
              "    }\n",
              "</style>\n",
              "<table border=\"1\" class=\"dataframe\">\n",
              "  <thead>\n",
              "    <tr style=\"text-align: right;\">\n",
              "      <th></th>\n",
              "      <th>date_int</th>\n",
              "      <th>close</th>\n",
              "    </tr>\n",
              "  </thead>\n",
              "  <tbody>\n",
              "    <tr>\n",
              "      <th>0</th>\n",
              "      <td>20190626.0</td>\n",
              "      <td>1386.63</td>\n",
              "    </tr>\n",
              "    <tr>\n",
              "      <th>1</th>\n",
              "      <td>20190627.0</td>\n",
              "      <td>1388.07</td>\n",
              "    </tr>\n",
              "    <tr>\n",
              "      <th>2</th>\n",
              "      <td>20190628.0</td>\n",
              "      <td>1380.52</td>\n",
              "    </tr>\n",
              "    <tr>\n",
              "      <th>3</th>\n",
              "      <td>20190701.0</td>\n",
              "      <td>1401.64</td>\n",
              "    </tr>\n",
              "    <tr>\n",
              "      <th>4</th>\n",
              "      <td>20190702.0</td>\n",
              "      <td>1398.26</td>\n",
              "    </tr>\n",
              "    <tr>\n",
              "      <th>...</th>\n",
              "      <td>...</td>\n",
              "      <td>...</td>\n",
              "    </tr>\n",
              "    <tr>\n",
              "      <th>246</th>\n",
              "      <td>20200623.0</td>\n",
              "      <td>1281.18</td>\n",
              "    </tr>\n",
              "    <tr>\n",
              "      <th>247</th>\n",
              "      <td>20200625.0</td>\n",
              "      <td>1257.18</td>\n",
              "    </tr>\n",
              "    <tr>\n",
              "      <th>248</th>\n",
              "      <td>20200626.0</td>\n",
              "      <td>1246.74</td>\n",
              "    </tr>\n",
              "    <tr>\n",
              "      <th>249</th>\n",
              "      <td>20200629.0</td>\n",
              "      <td>1239.81</td>\n",
              "    </tr>\n",
              "    <tr>\n",
              "      <th>250</th>\n",
              "      <td>20200630.0</td>\n",
              "      <td>1212.63</td>\n",
              "    </tr>\n",
              "  </tbody>\n",
              "</table>\n",
              "<p>251 rows × 2 columns</p>\n",
              "</div>"
            ],
            "text/plain": [
              "       date_int    close\n",
              "0    20190626.0  1386.63\n",
              "1    20190627.0  1388.07\n",
              "2    20190628.0  1380.52\n",
              "3    20190701.0  1401.64\n",
              "4    20190702.0  1398.26\n",
              "..          ...      ...\n",
              "246  20200623.0  1281.18\n",
              "247  20200625.0  1257.18\n",
              "248  20200626.0  1246.74\n",
              "249  20200629.0  1239.81\n",
              "250  20200630.0  1212.63\n",
              "\n",
              "[251 rows x 2 columns]"
            ]
          },
          "metadata": {
            "tags": []
          },
          "execution_count": 79
        }
      ]
    },
    {
      "cell_type": "code",
      "metadata": {
        "id": "YnaJNfs2mRdc"
      },
      "source": [
        "for i in range(1, 35):\n",
        "\n",
        "  group_data['target_{}_day'.format(i)] = np.where(group_data.close.shift(-i) > group_data.close, 1, 0)\n",
        "\n",
        "\n",
        "#group_data['target_2_day_stronger'] = np.where(group_data.close.shift(-2) - group_data.close.shift(-1) > group_data.close.shift(-1) - group_data.close, 1, 0)\n",
        "#group_data['target_3_day_stronger'] = np.where(group_data.close.shift(-3) - group_data.close.shift(-2) > group_data.close.shift(-2) - group_data.close.shift(-1), 1, 0)"
      ],
      "execution_count": 80,
      "outputs": []
    },
    {
      "cell_type": "code",
      "metadata": {
        "id": "YS6OTcozjbms"
      },
      "source": [
        "group_data = group_data.astype(float)\n",
        "\n",
        "for i in range(1, 35):\n",
        "  group_data['target_{}_day'.format(i)].values[-i:] = np.nan"
      ],
      "execution_count": 81,
      "outputs": []
    },
    {
      "cell_type": "code",
      "metadata": {
        "id": "OLyfm1U9gvVq"
      },
      "source": [
        "data = group_data.merge(news.drop(columns=['date'])).drop_duplicates('clean_text')"
      ],
      "execution_count": 82,
      "outputs": []
    },
    {
      "cell_type": "code",
      "metadata": {
        "id": "UYYBAj80PelC",
        "outputId": "bcf06649-3bb9-41c2-ba50-b74007937e93",
        "colab": {
          "base_uri": "https://localhost:8080/",
          "height": 983
        }
      },
      "source": [
        "data"
      ],
      "execution_count": 83,
      "outputs": [
        {
          "output_type": "execute_result",
          "data": {
            "text/html": [
              "<div>\n",
              "<style scoped>\n",
              "    .dataframe tbody tr th:only-of-type {\n",
              "        vertical-align: middle;\n",
              "    }\n",
              "\n",
              "    .dataframe tbody tr th {\n",
              "        vertical-align: top;\n",
              "    }\n",
              "\n",
              "    .dataframe thead th {\n",
              "        text-align: right;\n",
              "    }\n",
              "</style>\n",
              "<table border=\"1\" class=\"dataframe\">\n",
              "  <thead>\n",
              "    <tr style=\"text-align: right;\">\n",
              "      <th></th>\n",
              "      <th>date_int</th>\n",
              "      <th>close</th>\n",
              "      <th>target_1_day</th>\n",
              "      <th>target_2_day</th>\n",
              "      <th>target_3_day</th>\n",
              "      <th>target_4_day</th>\n",
              "      <th>target_5_day</th>\n",
              "      <th>target_6_day</th>\n",
              "      <th>target_7_day</th>\n",
              "      <th>target_8_day</th>\n",
              "      <th>target_9_day</th>\n",
              "      <th>target_10_day</th>\n",
              "      <th>target_11_day</th>\n",
              "      <th>target_12_day</th>\n",
              "      <th>target_13_day</th>\n",
              "      <th>target_14_day</th>\n",
              "      <th>target_15_day</th>\n",
              "      <th>target_16_day</th>\n",
              "      <th>target_17_day</th>\n",
              "      <th>target_18_day</th>\n",
              "      <th>target_19_day</th>\n",
              "      <th>target_20_day</th>\n",
              "      <th>target_21_day</th>\n",
              "      <th>target_22_day</th>\n",
              "      <th>target_23_day</th>\n",
              "      <th>target_24_day</th>\n",
              "      <th>target_25_day</th>\n",
              "      <th>target_26_day</th>\n",
              "      <th>target_27_day</th>\n",
              "      <th>target_28_day</th>\n",
              "      <th>target_29_day</th>\n",
              "      <th>target_30_day</th>\n",
              "      <th>target_31_day</th>\n",
              "      <th>target_32_day</th>\n",
              "      <th>target_33_day</th>\n",
              "      <th>target_34_day</th>\n",
              "      <th>clean_text</th>\n",
              "    </tr>\n",
              "  </thead>\n",
              "  <tbody>\n",
              "    <tr>\n",
              "      <th>0</th>\n",
              "      <td>20190626.0</td>\n",
              "      <td>1386.63</td>\n",
              "      <td>1.0</td>\n",
              "      <td>0.0</td>\n",
              "      <td>1.0</td>\n",
              "      <td>1.0</td>\n",
              "      <td>1.0</td>\n",
              "      <td>1.0</td>\n",
              "      <td>1.0</td>\n",
              "      <td>1.0</td>\n",
              "      <td>1.0</td>\n",
              "      <td>1.0</td>\n",
              "      <td>1.0</td>\n",
              "      <td>1.0</td>\n",
              "      <td>0.0</td>\n",
              "      <td>0.0</td>\n",
              "      <td>0.0</td>\n",
              "      <td>0.0</td>\n",
              "      <td>0.0</td>\n",
              "      <td>0.0</td>\n",
              "      <td>0.0</td>\n",
              "      <td>0.0</td>\n",
              "      <td>0.0</td>\n",
              "      <td>0.0</td>\n",
              "      <td>0.0</td>\n",
              "      <td>0.0</td>\n",
              "      <td>0.0</td>\n",
              "      <td>0.0</td>\n",
              "      <td>0.0</td>\n",
              "      <td>0.0</td>\n",
              "      <td>0.0</td>\n",
              "      <td>0.0</td>\n",
              "      <td>0.0</td>\n",
              "      <td>0.0</td>\n",
              "      <td>0.0</td>\n",
              "      <td>0.0</td>\n",
              "      <td>делегация глава роман старовоит заключить площ...</td>\n",
              "    </tr>\n",
              "    <tr>\n",
              "      <th>1</th>\n",
              "      <td>20190626.0</td>\n",
              "      <td>1386.63</td>\n",
              "      <td>1.0</td>\n",
              "      <td>0.0</td>\n",
              "      <td>1.0</td>\n",
              "      <td>1.0</td>\n",
              "      <td>1.0</td>\n",
              "      <td>1.0</td>\n",
              "      <td>1.0</td>\n",
              "      <td>1.0</td>\n",
              "      <td>1.0</td>\n",
              "      <td>1.0</td>\n",
              "      <td>1.0</td>\n",
              "      <td>1.0</td>\n",
              "      <td>0.0</td>\n",
              "      <td>0.0</td>\n",
              "      <td>0.0</td>\n",
              "      <td>0.0</td>\n",
              "      <td>0.0</td>\n",
              "      <td>0.0</td>\n",
              "      <td>0.0</td>\n",
              "      <td>0.0</td>\n",
              "      <td>0.0</td>\n",
              "      <td>0.0</td>\n",
              "      <td>0.0</td>\n",
              "      <td>0.0</td>\n",
              "      <td>0.0</td>\n",
              "      <td>0.0</td>\n",
              "      <td>0.0</td>\n",
              "      <td>0.0</td>\n",
              "      <td>0.0</td>\n",
              "      <td>0.0</td>\n",
              "      <td>0.0</td>\n",
              "      <td>0.0</td>\n",
              "      <td>0.0</td>\n",
              "      <td>0.0</td>\n",
              "      <td>депутат законодательныи собрание краснодарскии...</td>\n",
              "    </tr>\n",
              "    <tr>\n",
              "      <th>2</th>\n",
              "      <td>20190626.0</td>\n",
              "      <td>1386.63</td>\n",
              "      <td>1.0</td>\n",
              "      <td>0.0</td>\n",
              "      <td>1.0</td>\n",
              "      <td>1.0</td>\n",
              "      <td>1.0</td>\n",
              "      <td>1.0</td>\n",
              "      <td>1.0</td>\n",
              "      <td>1.0</td>\n",
              "      <td>1.0</td>\n",
              "      <td>1.0</td>\n",
              "      <td>1.0</td>\n",
              "      <td>1.0</td>\n",
              "      <td>0.0</td>\n",
              "      <td>0.0</td>\n",
              "      <td>0.0</td>\n",
              "      <td>0.0</td>\n",
              "      <td>0.0</td>\n",
              "      <td>0.0</td>\n",
              "      <td>0.0</td>\n",
              "      <td>0.0</td>\n",
              "      <td>0.0</td>\n",
              "      <td>0.0</td>\n",
              "      <td>0.0</td>\n",
              "      <td>0.0</td>\n",
              "      <td>0.0</td>\n",
              "      <td>0.0</td>\n",
              "      <td>0.0</td>\n",
              "      <td>0.0</td>\n",
              "      <td>0.0</td>\n",
              "      <td>0.0</td>\n",
              "      <td>0.0</td>\n",
              "      <td>0.0</td>\n",
              "      <td>0.0</td>\n",
              "      <td>0.0</td>\n",
              "      <td>стоимость керосин екатеринбургскии аэропорт ма...</td>\n",
              "    </tr>\n",
              "    <tr>\n",
              "      <th>3</th>\n",
              "      <td>20190626.0</td>\n",
              "      <td>1386.63</td>\n",
              "      <td>1.0</td>\n",
              "      <td>0.0</td>\n",
              "      <td>1.0</td>\n",
              "      <td>1.0</td>\n",
              "      <td>1.0</td>\n",
              "      <td>1.0</td>\n",
              "      <td>1.0</td>\n",
              "      <td>1.0</td>\n",
              "      <td>1.0</td>\n",
              "      <td>1.0</td>\n",
              "      <td>1.0</td>\n",
              "      <td>1.0</td>\n",
              "      <td>0.0</td>\n",
              "      <td>0.0</td>\n",
              "      <td>0.0</td>\n",
              "      <td>0.0</td>\n",
              "      <td>0.0</td>\n",
              "      <td>0.0</td>\n",
              "      <td>0.0</td>\n",
              "      <td>0.0</td>\n",
              "      <td>0.0</td>\n",
              "      <td>0.0</td>\n",
              "      <td>0.0</td>\n",
              "      <td>0.0</td>\n",
              "      <td>0.0</td>\n",
              "      <td>0.0</td>\n",
              "      <td>0.0</td>\n",
              "      <td>0.0</td>\n",
              "      <td>0.0</td>\n",
              "      <td>0.0</td>\n",
              "      <td>0.0</td>\n",
              "      <td>0.0</td>\n",
              "      <td>0.0</td>\n",
              "      <td>0.0</td>\n",
              "      <td>президент клуб поставить команда задача выигра...</td>\n",
              "    </tr>\n",
              "    <tr>\n",
              "      <th>4</th>\n",
              "      <td>20190626.0</td>\n",
              "      <td>1386.63</td>\n",
              "      <td>1.0</td>\n",
              "      <td>0.0</td>\n",
              "      <td>1.0</td>\n",
              "      <td>1.0</td>\n",
              "      <td>1.0</td>\n",
              "      <td>1.0</td>\n",
              "      <td>1.0</td>\n",
              "      <td>1.0</td>\n",
              "      <td>1.0</td>\n",
              "      <td>1.0</td>\n",
              "      <td>1.0</td>\n",
              "      <td>1.0</td>\n",
              "      <td>0.0</td>\n",
              "      <td>0.0</td>\n",
              "      <td>0.0</td>\n",
              "      <td>0.0</td>\n",
              "      <td>0.0</td>\n",
              "      <td>0.0</td>\n",
              "      <td>0.0</td>\n",
              "      <td>0.0</td>\n",
              "      <td>0.0</td>\n",
              "      <td>0.0</td>\n",
              "      <td>0.0</td>\n",
              "      <td>0.0</td>\n",
              "      <td>0.0</td>\n",
              "      <td>0.0</td>\n",
              "      <td>0.0</td>\n",
              "      <td>0.0</td>\n",
              "      <td>0.0</td>\n",
              "      <td>0.0</td>\n",
              "      <td>0.0</td>\n",
              "      <td>0.0</td>\n",
              "      <td>0.0</td>\n",
              "      <td>0.0</td>\n",
              "      <td>фото минобороны уголовныи дело отношение дирек...</td>\n",
              "    </tr>\n",
              "    <tr>\n",
              "      <th>...</th>\n",
              "      <td>...</td>\n",
              "      <td>...</td>\n",
              "      <td>...</td>\n",
              "      <td>...</td>\n",
              "      <td>...</td>\n",
              "      <td>...</td>\n",
              "      <td>...</td>\n",
              "      <td>...</td>\n",
              "      <td>...</td>\n",
              "      <td>...</td>\n",
              "      <td>...</td>\n",
              "      <td>...</td>\n",
              "      <td>...</td>\n",
              "      <td>...</td>\n",
              "      <td>...</td>\n",
              "      <td>...</td>\n",
              "      <td>...</td>\n",
              "      <td>...</td>\n",
              "      <td>...</td>\n",
              "      <td>...</td>\n",
              "      <td>...</td>\n",
              "      <td>...</td>\n",
              "      <td>...</td>\n",
              "      <td>...</td>\n",
              "      <td>...</td>\n",
              "      <td>...</td>\n",
              "      <td>...</td>\n",
              "      <td>...</td>\n",
              "      <td>...</td>\n",
              "      <td>...</td>\n",
              "      <td>...</td>\n",
              "      <td>...</td>\n",
              "      <td>...</td>\n",
              "      <td>...</td>\n",
              "      <td>...</td>\n",
              "      <td>...</td>\n",
              "      <td>...</td>\n",
              "    </tr>\n",
              "    <tr>\n",
              "      <th>15959</th>\n",
              "      <td>20200630.0</td>\n",
              "      <td>1212.63</td>\n",
              "      <td>NaN</td>\n",
              "      <td>NaN</td>\n",
              "      <td>NaN</td>\n",
              "      <td>NaN</td>\n",
              "      <td>NaN</td>\n",
              "      <td>NaN</td>\n",
              "      <td>NaN</td>\n",
              "      <td>NaN</td>\n",
              "      <td>NaN</td>\n",
              "      <td>NaN</td>\n",
              "      <td>NaN</td>\n",
              "      <td>NaN</td>\n",
              "      <td>NaN</td>\n",
              "      <td>NaN</td>\n",
              "      <td>NaN</td>\n",
              "      <td>NaN</td>\n",
              "      <td>NaN</td>\n",
              "      <td>NaN</td>\n",
              "      <td>NaN</td>\n",
              "      <td>NaN</td>\n",
              "      <td>NaN</td>\n",
              "      <td>NaN</td>\n",
              "      <td>NaN</td>\n",
              "      <td>NaN</td>\n",
              "      <td>NaN</td>\n",
              "      <td>NaN</td>\n",
              "      <td>NaN</td>\n",
              "      <td>NaN</td>\n",
              "      <td>NaN</td>\n",
              "      <td>NaN</td>\n",
              "      <td>NaN</td>\n",
              "      <td>NaN</td>\n",
              "      <td>NaN</td>\n",
              "      <td>NaN</td>\n",
              "      <td>обвал экономика германия сдерживаться беспреце...</td>\n",
              "    </tr>\n",
              "    <tr>\n",
              "      <th>15960</th>\n",
              "      <td>20200630.0</td>\n",
              "      <td>1212.63</td>\n",
              "      <td>NaN</td>\n",
              "      <td>NaN</td>\n",
              "      <td>NaN</td>\n",
              "      <td>NaN</td>\n",
              "      <td>NaN</td>\n",
              "      <td>NaN</td>\n",
              "      <td>NaN</td>\n",
              "      <td>NaN</td>\n",
              "      <td>NaN</td>\n",
              "      <td>NaN</td>\n",
              "      <td>NaN</td>\n",
              "      <td>NaN</td>\n",
              "      <td>NaN</td>\n",
              "      <td>NaN</td>\n",
              "      <td>NaN</td>\n",
              "      <td>NaN</td>\n",
              "      <td>NaN</td>\n",
              "      <td>NaN</td>\n",
              "      <td>NaN</td>\n",
              "      <td>NaN</td>\n",
              "      <td>NaN</td>\n",
              "      <td>NaN</td>\n",
              "      <td>NaN</td>\n",
              "      <td>NaN</td>\n",
              "      <td>NaN</td>\n",
              "      <td>NaN</td>\n",
              "      <td>NaN</td>\n",
              "      <td>NaN</td>\n",
              "      <td>NaN</td>\n",
              "      <td>NaN</td>\n",
              "      <td>NaN</td>\n",
              "      <td>NaN</td>\n",
              "      <td>NaN</td>\n",
              "      <td>NaN</td>\n",
              "      <td>фото саит глава определиться резидент особа эк...</td>\n",
              "    </tr>\n",
              "    <tr>\n",
              "      <th>15961</th>\n",
              "      <td>20200630.0</td>\n",
              "      <td>1212.63</td>\n",
              "      <td>NaN</td>\n",
              "      <td>NaN</td>\n",
              "      <td>NaN</td>\n",
              "      <td>NaN</td>\n",
              "      <td>NaN</td>\n",
              "      <td>NaN</td>\n",
              "      <td>NaN</td>\n",
              "      <td>NaN</td>\n",
              "      <td>NaN</td>\n",
              "      <td>NaN</td>\n",
              "      <td>NaN</td>\n",
              "      <td>NaN</td>\n",
              "      <td>NaN</td>\n",
              "      <td>NaN</td>\n",
              "      <td>NaN</td>\n",
              "      <td>NaN</td>\n",
              "      <td>NaN</td>\n",
              "      <td>NaN</td>\n",
              "      <td>NaN</td>\n",
              "      <td>NaN</td>\n",
              "      <td>NaN</td>\n",
              "      <td>NaN</td>\n",
              "      <td>NaN</td>\n",
              "      <td>NaN</td>\n",
              "      <td>NaN</td>\n",
              "      <td>NaN</td>\n",
              "      <td>NaN</td>\n",
              "      <td>NaN</td>\n",
              "      <td>NaN</td>\n",
              "      <td>NaN</td>\n",
              "      <td>NaN</td>\n",
              "      <td>NaN</td>\n",
              "      <td>NaN</td>\n",
              "      <td>NaN</td>\n",
              "      <td>курс валюта сегодня number_token number_token ...</td>\n",
              "    </tr>\n",
              "    <tr>\n",
              "      <th>15962</th>\n",
              "      <td>20200630.0</td>\n",
              "      <td>1212.63</td>\n",
              "      <td>NaN</td>\n",
              "      <td>NaN</td>\n",
              "      <td>NaN</td>\n",
              "      <td>NaN</td>\n",
              "      <td>NaN</td>\n",
              "      <td>NaN</td>\n",
              "      <td>NaN</td>\n",
              "      <td>NaN</td>\n",
              "      <td>NaN</td>\n",
              "      <td>NaN</td>\n",
              "      <td>NaN</td>\n",
              "      <td>NaN</td>\n",
              "      <td>NaN</td>\n",
              "      <td>NaN</td>\n",
              "      <td>NaN</td>\n",
              "      <td>NaN</td>\n",
              "      <td>NaN</td>\n",
              "      <td>NaN</td>\n",
              "      <td>NaN</td>\n",
              "      <td>NaN</td>\n",
              "      <td>NaN</td>\n",
              "      <td>NaN</td>\n",
              "      <td>NaN</td>\n",
              "      <td>NaN</td>\n",
              "      <td>NaN</td>\n",
              "      <td>NaN</td>\n",
              "      <td>NaN</td>\n",
              "      <td>NaN</td>\n",
              "      <td>NaN</td>\n",
              "      <td>NaN</td>\n",
              "      <td>NaN</td>\n",
              "      <td>NaN</td>\n",
              "      <td>NaN</td>\n",
              "      <td>NaN</td>\n",
              "      <td>иррико входить группа втб заключить контракт о...</td>\n",
              "    </tr>\n",
              "    <tr>\n",
              "      <th>15963</th>\n",
              "      <td>20200630.0</td>\n",
              "      <td>1212.63</td>\n",
              "      <td>NaN</td>\n",
              "      <td>NaN</td>\n",
              "      <td>NaN</td>\n",
              "      <td>NaN</td>\n",
              "      <td>NaN</td>\n",
              "      <td>NaN</td>\n",
              "      <td>NaN</td>\n",
              "      <td>NaN</td>\n",
              "      <td>NaN</td>\n",
              "      <td>NaN</td>\n",
              "      <td>NaN</td>\n",
              "      <td>NaN</td>\n",
              "      <td>NaN</td>\n",
              "      <td>NaN</td>\n",
              "      <td>NaN</td>\n",
              "      <td>NaN</td>\n",
              "      <td>NaN</td>\n",
              "      <td>NaN</td>\n",
              "      <td>NaN</td>\n",
              "      <td>NaN</td>\n",
              "      <td>NaN</td>\n",
              "      <td>NaN</td>\n",
              "      <td>NaN</td>\n",
              "      <td>NaN</td>\n",
              "      <td>NaN</td>\n",
              "      <td>NaN</td>\n",
              "      <td>NaN</td>\n",
              "      <td>NaN</td>\n",
              "      <td>NaN</td>\n",
              "      <td>NaN</td>\n",
              "      <td>NaN</td>\n",
              "      <td>NaN</td>\n",
              "      <td>NaN</td>\n",
              "      <td>NaN</td>\n",
              "      <td>как приверженность принцип устоичивыи развитие...</td>\n",
              "    </tr>\n",
              "  </tbody>\n",
              "</table>\n",
              "<p>15904 rows × 37 columns</p>\n",
              "</div>"
            ],
            "text/plain": [
              "         date_int  ...                                         clean_text\n",
              "0      20190626.0  ...  делегация глава роман старовоит заключить площ...\n",
              "1      20190626.0  ...  депутат законодательныи собрание краснодарскии...\n",
              "2      20190626.0  ...  стоимость керосин екатеринбургскии аэропорт ма...\n",
              "3      20190626.0  ...  президент клуб поставить команда задача выигра...\n",
              "4      20190626.0  ...  фото минобороны уголовныи дело отношение дирек...\n",
              "...           ...  ...                                                ...\n",
              "15959  20200630.0  ...  обвал экономика германия сдерживаться беспреце...\n",
              "15960  20200630.0  ...  фото саит глава определиться резидент особа эк...\n",
              "15961  20200630.0  ...  курс валюта сегодня number_token number_token ...\n",
              "15962  20200630.0  ...  иррико входить группа втб заключить контракт о...\n",
              "15963  20200630.0  ...  как приверженность принцип устоичивыи развитие...\n",
              "\n",
              "[15904 rows x 37 columns]"
            ]
          },
          "metadata": {
            "tags": []
          },
          "execution_count": 83
        }
      ]
    },
    {
      "cell_type": "code",
      "metadata": {
        "id": "LXNp6ZJDi4Ws",
        "outputId": "04efc76f-7a88-43e2-db1f-2555bf987774",
        "colab": {
          "base_uri": "https://localhost:8080/",
          "height": 297
        }
      },
      "source": [
        "sns.countplot(data.target_1_day)\n",
        "# Баланс классов в норме"
      ],
      "execution_count": 84,
      "outputs": [
        {
          "output_type": "execute_result",
          "data": {
            "text/plain": [
              "<matplotlib.axes._subplots.AxesSubplot at 0x7f0ee76dba20>"
            ]
          },
          "metadata": {
            "tags": []
          },
          "execution_count": 84
        },
        {
          "output_type": "display_data",
          "data": {
            "image/png": "[encoded data removed]",
            "text/plain": [
              "<Figure size 432x288 with 1 Axes>"
            ]
          },
          "metadata": {
            "tags": [],
            "needs_background": "light"
          }
        }
      ]
    },
    {
      "cell_type": "code",
      "metadata": {
        "id": "Fg1rUPIUWRao"
      },
      "source": [
        "#data[['date_int', 'target_10_day', 'close']][935:1005].drop_duplicates('date_int')"
      ],
      "execution_count": 85,
      "outputs": []
    },
    {
      "cell_type": "code",
      "metadata": {
        "id": "iCT8VVFin1oC"
      },
      "source": [
        "#vectorized_text = vectorizer(text=data.clean_text, vectorizer='tf_idf', ngram_range=(1, 4), max_features=5500, min_df=4, max_df=10_000)"
      ],
      "execution_count": 86,
      "outputs": []
    },
    {
      "cell_type": "code",
      "metadata": {
        "id": "0-wU6-h_cq6A"
      },
      "source": [
        "#data.info()"
      ],
      "execution_count": 87,
      "outputs": []
    },
    {
      "cell_type": "code",
      "metadata": {
        "id": "wLZ8QAFlnYAd"
      },
      "source": [
        "data.dropna(inplace=True)\n",
        "\n",
        "#valid_data = data[1000:]"
      ],
      "execution_count": 88,
      "outputs": []
    },
    {
      "cell_type": "code",
      "metadata": {
        "id": "dcbi8g7ri770"
      },
      "source": [
        "# train_data, test_data, train_target, test_target = tt(vectorized_text.toarray()[:1165], data.target_10_day[:1165], test_size=0.2, shuffle=True, stratify=data.target_10_day[:1165], random_state=42)"
      ],
      "execution_count": 89,
      "outputs": []
    },
    {
      "cell_type": "code",
      "metadata": {
        "id": "avT8XOoKABmj"
      },
      "source": [
        "def estimation_simple_model(text, target, vectorize, ngram_range, max_features, min_df, max_df):\n",
        "\n",
        "  global train_data\n",
        "  global train_target\n",
        "  global test_data\n",
        "  global test_target\n",
        "  global vectorized_text\n",
        "\n",
        "  vectorized_text = vectorizer(text=text, vectorizer=vectorize, ngram_range=ngram_range, max_features=max_features, min_df=min_df, max_df=max_df)\n",
        "\n",
        "  train_data, test_data, train_target, test_target = tt(vectorized_text.toarray(), target, test_size=0.2, shuffle=False)#, random_state=42)\n",
        "\n",
        "  global xgb_clf\n",
        "  global log_reg \n",
        "  global rand_for_clf \n",
        "  global svc\n",
        "  global neural_net\n",
        "  global gauss\n",
        "  global knn\n",
        "\n",
        "  xgb_clf = XGBClassifier(random_state=42)\n",
        "  log_reg = LogisticRegression(random_state=42)\n",
        "  rand_for_clf = RandomForestClassifier(random_state=42)\n",
        "  #svc = SVC(random_state=42)\n",
        "  #neural_net = MLPClassifier(solver='adam', alpha=0.0001, learning_rate='constant', learning_rate_init=0.001, random_state=42)\n",
        "  #knn = KNeighborsClassifier()\n",
        "\n",
        "  print('ngram_range =', ngram_range, ', max_features =', max_features, ', min_df =', min_df, ', max_df =', max_df)\n",
        "  for model in [xgb_clf, log_reg, rand_for_clf]:#, svc, neural_net, knn]:\n",
        "\n",
        "    model.fit(train_data, train_target)\n",
        "    print(str(model).split('(')[0], accuracy_score(test_target, model.predict(test_data)), '\\n')"
      ],
      "execution_count": 90,
      "outputs": []
    },
    {
      "cell_type": "code",
      "metadata": {
        "id": "UbBUuFzW2qgr"
      },
      "source": [
        "#data = data.reset_index(drop=True)"
      ],
      "execution_count": null,
      "outputs": []
    },
    {
      "cell_type": "code",
      "metadata": {
        "id": "qliSrY1OI1gO"
      },
      "source": [
        "#data['0'][0]"
      ],
      "execution_count": null,
      "outputs": []
    },
    {
      "cell_type": "code",
      "metadata": {
        "id": "04H-61C_WW2-",
        "outputId": "49cddbd3-d970-4f7c-dba9-5c287765e7a8",
        "colab": {
          "base_uri": "https://localhost:8080/",
          "height": 170
        }
      },
      "source": [
        "%%time\n",
        "estimation_simple_model(data.clean_text, data.target_1_day, 'tf_idf', (1, 3), 5_000, 5, 10_000)"
      ],
      "execution_count": null,
      "outputs": [
        {
          "output_type": "stream",
          "text": [
            "ngram_range = (1, 3) , max_features = 5000 , min_df = 5 , max_df = 10000\n",
            "XGBClassifier 0.5048611111111111 \n",
            "\n",
            "LogisticRegression 0.5069444444444444 \n",
            "\n",
            "RandomForestClassifier 0.5166666666666667 \n",
            "\n",
            "CPU times: user 2min 36s, sys: 1.09 s, total: 2min 37s\n",
            "Wall time: 2min 34s\n"
          ],
          "name": "stdout"
        }
      ]
    },
    {
      "cell_type": "code",
      "metadata": {
        "id": "wVH-9hDBwRl7"
      },
      "source": [
        "# estimation_simple_model(data.clean_text[:30_000], data.target_1_day[:30_000], 'tf_idf', (1, 3), 3_500, 5, 10_000) на лете на индексе РТС \n",
        "# трейн распределен почти одинаково, предикт на трейне - почти одни 0, но качество - 63%\n",
        "# на тесте распределение норм, но предсказания опять почти все 0\n",
        "\n",
        "# estimation_simple_model(data['0'], data.target_20_day, 'tf_idf', (1, 3), 3_500, 5, 10_000)\n",
        "# на новостях РБК то же самое - на трейне качество хорошее, однако на тесте - примерно 30%"
      ],
      "execution_count": null,
      "outputs": []
    },
    {
      "cell_type": "code",
      "metadata": {
        "id": "EpGqTCZcbkwz",
        "outputId": "afd958cb-5dca-4e44-87e5-6998551350ed",
        "colab": {
          "base_uri": "https://localhost:8080/",
          "height": 297
        }
      },
      "source": [
        "sns.countplot(train_target)"
      ],
      "execution_count": null,
      "outputs": [
        {
          "output_type": "execute_result",
          "data": {
            "text/plain": [
              "<matplotlib.axes._subplots.AxesSubplot at 0x7ff8ba48bc18>"
            ]
          },
          "metadata": {
            "tags": []
          },
          "execution_count": 138
        },
        {
          "output_type": "display_data",
          "data": {
            "image/png": "[encoded data removed]",
            "text/plain": [
              "<Figure size 432x288 with 1 Axes>"
            ]
          },
          "metadata": {
            "tags": [],
            "needs_background": "light"
          }
        }
      ]
    },
    {
      "cell_type": "code",
      "metadata": {
        "id": "4EnHfBXw6R5y",
        "outputId": "499925ca-7943-437f-8d97-82af628a7b18",
        "colab": {
          "base_uri": "https://localhost:8080/",
          "height": 282
        }
      },
      "source": [
        "sns.countplot(xgb_clf.predict(train_data))"
      ],
      "execution_count": null,
      "outputs": [
        {
          "output_type": "execute_result",
          "data": {
            "text/plain": [
              "<matplotlib.axes._subplots.AxesSubplot at 0x7ff89faffe10>"
            ]
          },
          "metadata": {
            "tags": []
          },
          "execution_count": 139
        },
        {
          "output_type": "display_data",
          "data": {
            "image/png": "[encoded data removed]",
            "text/plain": [
              "<Figure size 432x288 with 1 Axes>"
            ]
          },
          "metadata": {
            "tags": [],
            "needs_background": "light"
          }
        }
      ]
    },
    {
      "cell_type": "code",
      "metadata": {
        "id": "82_QDOZO6-gR",
        "outputId": "400bf66d-c0bf-442a-e54a-f21f1510cac1",
        "colab": {
          "base_uri": "https://localhost:8080/",
          "height": 34
        }
      },
      "source": [
        "accuracy_score(train_target, xgb_clf.predict(train_data))"
      ],
      "execution_count": null,
      "outputs": [
        {
          "output_type": "execute_result",
          "data": {
            "text/plain": [
              "0.8568121310336845"
            ]
          },
          "metadata": {
            "tags": []
          },
          "execution_count": 140
        }
      ]
    },
    {
      "cell_type": "code",
      "metadata": {
        "id": "FTzR8FWOZNPw",
        "outputId": "1b899ec6-6087-4023-9b03-82334931708f",
        "colab": {
          "base_uri": "https://localhost:8080/",
          "height": 297
        }
      },
      "source": [
        "sns.countplot(test_target)"
      ],
      "execution_count": null,
      "outputs": [
        {
          "output_type": "execute_result",
          "data": {
            "text/plain": [
              "<matplotlib.axes._subplots.AxesSubplot at 0x7ff89e1135c0>"
            ]
          },
          "metadata": {
            "tags": []
          },
          "execution_count": 141
        },
        {
          "output_type": "display_data",
          "data": {
            "image/png": "[encoded data removed]",
            "text/plain": [
              "<Figure size 432x288 with 1 Axes>"
            ]
          },
          "metadata": {
            "tags": [],
            "needs_background": "light"
          }
        }
      ]
    },
    {
      "cell_type": "code",
      "metadata": {
        "id": "QYZb_UylZCkt",
        "outputId": "454f6b5b-4235-4178-c03c-eb1ad3194038",
        "colab": {
          "base_uri": "https://localhost:8080/",
          "height": 282
        }
      },
      "source": [
        "sns.countplot(xgb_clf.predict(test_data))"
      ],
      "execution_count": null,
      "outputs": [
        {
          "output_type": "execute_result",
          "data": {
            "text/plain": [
              "<matplotlib.axes._subplots.AxesSubplot at 0x7ff8b63e0c18>"
            ]
          },
          "metadata": {
            "tags": []
          },
          "execution_count": 142
        },
        {
          "output_type": "display_data",
          "data": {
            "image/png": "[encoded data removed]",
            "text/plain": [
              "<Figure size 432x288 with 1 Axes>"
            ]
          },
          "metadata": {
            "tags": [],
            "needs_background": "light"
          }
        }
      ]
    },
    {
      "cell_type": "markdown",
      "metadata": {
        "id": "vrJgVdj7Ojxn"
      },
      "source": [
        "## What data is better?"
      ]
    },
    {
      "cell_type": "code",
      "metadata": {
        "id": "sD_7GQDJa7d-"
      },
      "source": [
        "#Самая ранняя версия\n",
        "\n",
        "# Для новостей сбера 18-20, shuffle=False\n",
        "#  качество 60-61% для таргета 1 дня давали:\n",
        "#ngram_range = [(1, 3)]\n",
        "#max_features = [6500]\n",
        "#min_df = [5]\n",
        "#max_df = [10_000]\n",
        "# При таких же параметрах качество 63-67% было для таргет 3-4 дня\n",
        "#max_features = [3500] - качество 63-65% было для таргета 5 дня, для 7 дня - максимум 70%\n",
        "# для 8 дня - 5500 - 70%, дял 10 дня - 70-74%\n",
        "\n",
        "\n",
        "# Для новостей Интерфакса от Евгения результат примерно 64% для перетасованных данных и 7-20 дня \n",
        "\n",
        "# Для большого объема новостей (рбк) тоже все работает - для 20 дня точность порядка 62% на многих моделях (макс слов - 4500)\n",
        "\n",
        "# Для тасс 20 дня (1-3 граммы, 4000 слов - качество порядка 78% на 3-х моделях) - shuffle=True, без перемешивания - 66% (но баланс классов сильно нарушен, хотя модель предсказывает норм)\n",
        "# Результат на огромном датасете Лента ру Natasha (на 30_000 новостях) 3500 слов - 64% без перемешивания для 10 дня "
      ],
      "execution_count": null,
      "outputs": []
    },
    {
      "cell_type": "code",
      "metadata": {
        "id": "g198bha-vDh_"
      },
      "source": [
        "# Проверка:\n",
        "# Для тасс 20 дня с перемешиванием результат на тесте слабо больше константного и на валидации хуже константного, трейн разбит нормально\n",
        "# Для 10 дня - трейн нормально разбит, тест хуже, а валидация сравнима с константным"
      ],
      "execution_count": null,
      "outputs": []
    },
    {
      "cell_type": "code",
      "metadata": {
        "id": "l7iRbdoPM2Vv"
      },
      "source": [
        "# Тестирую новости рбк : \n",
        "# на первом таргете распределение 50/50, качество порядка 50%\n",
        "# на втором - почти то же самое, результат - 52%\n",
        "# на 10 дне - распределение балансное, но качество порядка 48%\n",
        "# Новости тасс показали такой же плохой результат"
      ],
      "execution_count": null,
      "outputs": []
    },
    {
      "cell_type": "code",
      "metadata": {
        "id": "yIsCCYg3qGti"
      },
      "source": [
        "# При тесте интерфакса с перемешкой и стратификацией:\n",
        "# на первом таргете на отложенной выборке и на тестовой разница с константным предсказанием очень мала\n",
        "# на 10 таргете на валидации предсказание хуже константного, на тесте - лучше константного на 10-15% (связано с тем, что модель обучается и тестится на похожих словах)\n",
        "#"
      ],
      "execution_count": null,
      "outputs": []
    },
    {
      "cell_type": "code",
      "metadata": {
        "id": "AJ2Y9I1NxxU2"
      },
      "source": [
        "# комменты от 23 сентября"
      ],
      "execution_count": null,
      "outputs": []
    },
    {
      "cell_type": "code",
      "metadata": {
        "id": "g4g21JCsx3wa"
      },
      "source": [
        "# хорошо работает предсказание фасттекст на заголовках новостей рбк, на новостях рбк тоже норм (5 эпох)"
      ],
      "execution_count": null,
      "outputs": []
    },
    {
      "cell_type": "code",
      "metadata": {
        "id": "k8zi5nzxx1Jg"
      },
      "source": [
        "# estimation_simple_model(data.clean_text[:30_000], data.target_1_day[:30_000], 'tf_idf', (1, 3), 3_500, 5, 10_000) на ленте(Тайга) на индексе РТС \n",
        "# трейн распределен почти одинаково, предикт на трейне - почти одни 0, но качество - 63%\n",
        "# на тесте распределение норм, но предсказания опять почти все 0\n",
        "# на "
      ],
      "execution_count": null,
      "outputs": []
    },
    {
      "cell_type": "markdown",
      "metadata": {
        "id": "AJdNZkEUSnep"
      },
      "source": [
        "# W2V"
      ]
    },
    {
      "cell_type": "code",
      "metadata": {
        "id": "bToKxFf9EWUO"
      },
      "source": [
        "data = data.reset_index(drop=True)"
      ],
      "execution_count": 48,
      "outputs": []
    },
    {
      "cell_type": "code",
      "metadata": {
        "id": "82oBiKE3vgG-"
      },
      "source": [
        "data['clean_text'] = data['0']"
      ],
      "execution_count": 50,
      "outputs": []
    },
    {
      "cell_type": "code",
      "metadata": {
        "id": "8SO2DBgs9D1E"
      },
      "source": [
        "l = []\n",
        "\n",
        "for i in range(data.shape[0]):\n",
        "  l.append([word for word in data.clean_text[i].split(' ')])"
      ],
      "execution_count": 51,
      "outputs": []
    },
    {
      "cell_type": "code",
      "metadata": {
        "id": "7iOfUvYERUH9"
      },
      "source": [
        "from gensim.models import Word2Vec\n",
        "import keras\n",
        "from keras.preprocessing.sequence import pad_sequences\n",
        "\n",
        "N = 300\n",
        "model = Word2Vec(l, size=N, min_count=1, window=8).wv"
      ],
      "execution_count": 53,
      "outputs": []
    },
    {
      "cell_type": "code",
      "metadata": {
        "id": "s-K1z5wA8lcR",
        "outputId": "86d6fbb4-56ca-4c4e-e32b-c2fac01710da",
        "colab": {
          "base_uri": "https://localhost:8080/",
          "height": 34
        }
      },
      "source": [
        "model.vectors.shape"
      ],
      "execution_count": 54,
      "outputs": [
        {
          "output_type": "execute_result",
          "data": {
            "text/plain": [
              "(66982, 300)"
            ]
          },
          "metadata": {
            "tags": []
          },
          "execution_count": 54
        }
      ]
    },
    {
      "cell_type": "code",
      "metadata": {
        "id": "YNeL0edRtGX-",
        "outputId": "b72a19d1-c683-4a49-8a35-5fb399b7fda1",
        "colab": {
          "base_uri": "https://localhost:8080/",
          "height": 1000
        }
      },
      "source": [
        "model.get_vector('русало')"
      ],
      "execution_count": 55,
      "outputs": [
        {
          "output_type": "execute_result",
          "data": {
            "text/plain": [
              "array([ 1.29164934e-01,  3.68825905e-02, -1.14855357e-01, -1.62060559e-01,\n",
              "        1.70408159e-01, -1.45894989e-01,  1.65330708e-01,  5.77724800e-02,\n",
              "       -6.98394105e-02, -1.80611670e-01, -3.18777151e-02,  1.93597451e-01,\n",
              "        4.37885784e-02, -2.00343519e-01, -4.14212972e-01,  3.50674777e-03,\n",
              "       -2.14522421e-01, -6.11795038e-02, -1.56337693e-01, -3.49338586e-03,\n",
              "        8.00689608e-02, -1.40117835e-02,  1.21070370e-02, -4.75752205e-02,\n",
              "        2.47050315e-01, -1.00158058e-01, -1.53683409e-01, -4.24587391e-02,\n",
              "        1.48270875e-01,  1.75615862e-01, -2.72548366e-02, -1.03641100e-01,\n",
              "       -1.08558424e-01, -2.17702165e-01,  6.30449355e-02, -3.31403494e-01,\n",
              "       -2.13869780e-01,  2.21657857e-01, -3.51755232e-01, -1.17719568e-01,\n",
              "       -3.55432063e-01,  7.09610432e-03, -2.29319990e-01, -3.30958515e-01,\n",
              "       -1.33849651e-01,  8.44223946e-02,  1.54032381e-02,  3.02735716e-01,\n",
              "       -2.45368890e-02,  2.61545837e-01,  2.33184412e-01,  1.45798922e-01,\n",
              "        8.70343000e-02,  1.51668459e-01,  7.98447430e-03, -1.94352031e-01,\n",
              "        2.00331524e-01, -1.49682656e-01, -9.95971933e-02,  2.05537140e-01,\n",
              "        2.42443383e-01, -2.48423889e-02, -3.72293651e-01, -5.52339777e-02,\n",
              "        1.83652699e-01,  1.17065065e-01,  5.71932755e-02, -6.97753504e-02,\n",
              "        2.25310728e-01,  5.35146110e-02, -1.22428853e-02, -9.23038274e-02,\n",
              "        1.50381669e-01, -1.82673901e-01,  2.67877698e-01,  4.12349880e-01,\n",
              "        2.83880383e-01,  1.79970741e-01,  1.38287917e-01, -3.41012806e-01,\n",
              "        3.04060597e-02, -4.00784947e-02,  1.97692458e-02,  2.35668823e-01,\n",
              "        5.32311201e-02,  1.30695969e-01, -1.32753262e-02,  8.71663913e-02,\n",
              "        4.93862014e-03, -1.48734018e-01,  5.84281832e-02, -1.89030796e-01,\n",
              "       -5.81675535e-03, -1.79498419e-01,  1.63775384e-01,  1.67022303e-01,\n",
              "       -2.30427310e-01,  2.75494009e-01,  4.08217520e-01,  6.53286725e-02,\n",
              "        7.58528486e-02, -1.74116626e-01,  2.25535378e-01,  1.25391379e-01,\n",
              "       -1.92562222e-01,  4.65254262e-02,  1.36970831e-02, -2.41728276e-02,\n",
              "        5.03012724e-02, -1.01086363e-01, -7.41848871e-02,  2.97550350e-01,\n",
              "       -1.30866736e-01, -1.20164186e-01,  4.91043627e-02,  3.53245378e-01,\n",
              "       -7.93281868e-02, -1.80207014e-01, -1.00614615e-01,  4.25564833e-02,\n",
              "        1.39347717e-01,  3.27732007e-04, -1.47856236e-01, -4.82370406e-01,\n",
              "       -7.13639986e-03, -9.97232646e-02, -1.56450257e-01, -9.91745442e-02,\n",
              "        1.72088742e-02,  9.66744870e-02, -1.57664213e-02, -1.92216411e-01,\n",
              "        1.13891931e-02, -7.64239356e-02,  3.18411291e-01, -4.03169952e-02,\n",
              "        3.05860072e-01,  6.25033975e-02,  4.08641435e-02, -5.08224927e-02,\n",
              "        7.05316365e-02, -2.48792842e-01,  7.56483302e-02, -1.90561220e-01,\n",
              "        5.27643859e-02, -4.26048711e-02,  1.51985660e-02, -1.43904552e-01,\n",
              "        9.98590663e-02, -1.06036581e-01, -9.44050774e-02,  3.83024246e-01,\n",
              "       -1.36314243e-01,  8.71925130e-02,  8.19953810e-03, -1.59052741e-02,\n",
              "       -1.16214268e-01, -1.21847779e-01, -9.33680981e-02, -2.45832369e-01,\n",
              "        1.62135541e-01, -3.70235071e-02,  2.07767393e-02,  1.17485777e-01,\n",
              "       -8.04730579e-02,  4.87887934e-02, -5.80525696e-02,  6.57784492e-02,\n",
              "        1.45653889e-01, -4.96935725e-01,  2.16944560e-01,  1.05571635e-02,\n",
              "        6.73326552e-02,  1.67385966e-01,  3.19907725e-01, -6.19117469e-02,\n",
              "        1.89269900e-01,  7.01304376e-02, -1.59450710e-01,  2.97285080e-01,\n",
              "        1.10795990e-01,  2.24201784e-01, -9.32388157e-02, -2.02156842e-01,\n",
              "        1.87274083e-01, -7.30044171e-02, -2.48996038e-02, -1.53542131e-01,\n",
              "        2.62548029e-02, -3.64364386e-02,  7.59254862e-03,  6.04169965e-02,\n",
              "        2.48324424e-01, -1.15550257e-01, -1.61990836e-01,  1.56439349e-01,\n",
              "       -2.24693224e-01, -6.18868917e-02, -7.02697486e-02,  5.05072670e-03,\n",
              "       -1.47419795e-01,  3.44455391e-01,  3.49890709e-01, -3.46358046e-02,\n",
              "       -3.88158292e-01,  1.56081945e-01, -6.95103630e-02,  1.47971258e-01,\n",
              "       -9.00971144e-02, -9.35168192e-02, -2.16823205e-01,  2.25223169e-01,\n",
              "       -6.79792613e-02,  5.80315553e-02,  1.42965153e-01,  1.81055546e-01,\n",
              "        1.70755550e-01,  2.42953002e-02, -8.08611885e-02,  3.27696264e-01,\n",
              "        7.16038346e-02,  3.71630490e-01, -1.58731624e-01,  1.56687424e-02,\n",
              "       -2.61696368e-01, -6.44260645e-03, -3.28031145e-02,  6.99166283e-02,\n",
              "       -4.87246923e-02, -9.10639577e-03,  1.42869189e-01, -2.74472088e-01,\n",
              "        1.21169448e-01, -2.28665575e-01, -8.95245373e-02,  1.66608170e-01,\n",
              "        1.66764840e-01, -2.39004776e-01,  1.17429063e-01, -3.93113354e-03,\n",
              "        8.63292366e-02, -2.08296061e-01,  2.91524753e-02,  6.79221079e-02,\n",
              "        4.01732445e-01,  2.76971281e-01,  1.19418250e-02,  1.96294755e-01,\n",
              "        2.05862820e-01, -1.16875052e-01,  5.03696762e-02,  1.23809315e-01,\n",
              "       -1.10091411e-01, -6.34586960e-02, -1.73124850e-01,  1.04988247e-01,\n",
              "        1.07373275e-01, -6.53932169e-02, -3.93884294e-02, -1.13213211e-01,\n",
              "        1.08196605e-02, -2.11664528e-01,  7.45904595e-02,  4.25785594e-02,\n",
              "        6.52447939e-02, -2.40720704e-01,  2.85178865e-03, -1.16300762e-01,\n",
              "        1.98476002e-01,  2.79545654e-02, -3.20460834e-02, -1.55673474e-01,\n",
              "       -4.84716088e-01, -2.43200317e-01, -6.50197566e-02,  2.03449652e-01,\n",
              "        4.19796072e-02, -8.43401328e-02, -1.91564355e-02, -4.25613225e-02,\n",
              "       -2.68270280e-02, -1.51973054e-01,  8.24637339e-02, -1.06575385e-01,\n",
              "       -1.36700431e-02,  3.78343940e-01,  2.03069374e-01, -3.45709058e-03,\n",
              "       -4.06301588e-01,  8.53318423e-02, -1.46007478e-01, -1.18942045e-01,\n",
              "        5.93547300e-02,  7.99205713e-03, -2.71619819e-02,  1.60033301e-01,\n",
              "       -5.84916808e-02, -2.46058494e-01, -1.52931092e-02, -2.09961206e-01],\n",
              "      dtype=float32)"
            ]
          },
          "metadata": {
            "tags": []
          },
          "execution_count": 55
        }
      ]
    },
    {
      "cell_type": "code",
      "metadata": {
        "id": "yDPeIWuD--Xm"
      },
      "source": [
        "data_W2V = []\n",
        "N = 500\n",
        "array_of_news = np.zeros((13355, 32_000))\n",
        "\n",
        "for i in range(data.shape[0]):\n",
        "\n",
        "  sent = []\n",
        "\n",
        "  for word in data.clean_text[i].split(' '):\n",
        "    sent.append(model.get_vector(word))\n",
        "\n",
        "  sent = np.array(sent).reshape(-1, )\n",
        "\n",
        "  #a = np.zeros(N*64)\n",
        "\n",
        "  #if len(sent) < len(a):\n",
        "  #  for j in range(len(sent)):\n",
        "  #    a[j] = sent[j]\n",
        "  #else:\n",
        "  #  for j in range(len(a)):\n",
        "  #    a[j] = sent[j] \n",
        "\n",
        "  if len(sent) < array_of_news.shape[1]:\n",
        "      for k in range(len(sent)):\n",
        "        array_of_news[i][k] = sent[k]\n",
        "  else:\n",
        "      for k in range(array_of_news.shape[1]):\n",
        "        array_of_news[i][k] = sent[k]\n",
        "\n",
        "  #data_W2V.append(a)"
      ],
      "execution_count": null,
      "outputs": []
    },
    {
      "cell_type": "code",
      "metadata": {
        "id": "9xI5lb0rNMgd"
      },
      "source": [
        "import gc\n",
        "del array_of_news\n",
        "gc.collect()"
      ],
      "execution_count": null,
      "outputs": []
    },
    {
      "cell_type": "code",
      "metadata": {
        "id": "e0r6HRs9SiNL",
        "outputId": "125bd316-db51-4286-f7b0-53b3d112cbed",
        "colab": {
          "base_uri": "https://localhost:8080/",
          "height": 238
        }
      },
      "source": [
        "array_of_news"
      ],
      "execution_count": null,
      "outputs": [
        {
          "output_type": "execute_result",
          "data": {
            "text/plain": [
              "array([[-0.02791302, -0.19578947, -0.50463802, ...,  0.        ,\n",
              "         0.        ,  0.        ],\n",
              "       [ 2.22271991,  1.0721848 , -2.13204813, ...,  0.        ,\n",
              "         0.        ,  0.        ],\n",
              "       [-0.48773438,  0.56024337, -0.12099402, ...,  0.        ,\n",
              "         0.        ,  0.        ],\n",
              "       ...,\n",
              "       [ 1.98276877,  0.16228528,  3.02048111, ..., -0.9470427 ,\n",
              "         0.20382388, -1.00551689],\n",
              "       [ 0.18723312,  0.90749156,  1.74093974, ...,  0.        ,\n",
              "         0.        ,  0.        ],\n",
              "       [ 1.12911129, -0.78732294, -0.27325606, ...,  1.0326798 ,\n",
              "         1.76868153,  0.63221711]])"
            ]
          },
          "metadata": {
            "tags": []
          },
          "execution_count": 50
        }
      ]
    },
    {
      "cell_type": "code",
      "metadata": {
        "id": "GrnYFKQ7PCTf"
      },
      "source": [
        "pd.DataFrame(array_of_news).to_csv('array_of_news.csv', index=False)"
      ],
      "execution_count": null,
      "outputs": []
    },
    {
      "cell_type": "code",
      "metadata": {
        "id": "3fmw0AR-LOPZ"
      },
      "source": [
        "xgb_clf = XGBClassifier(max_depth=3, n_estimators=100)\n",
        "\n",
        "train_data, test_data, train_target, test_target = tt(array_of_news, data.target_1_day, test_size=0.2, random_state=42, shuffle=False)"
      ],
      "execution_count": null,
      "outputs": []
    },
    {
      "cell_type": "code",
      "metadata": {
        "id": "Bev-E4fML_Bu"
      },
      "source": [
        "%time\n",
        "xgb_clf.fit(train_data, train_target)"
      ],
      "execution_count": null,
      "outputs": []
    },
    {
      "cell_type": "code",
      "metadata": {
        "id": "-99oGwKWMEea"
      },
      "source": [
        ""
      ],
      "execution_count": null,
      "outputs": []
    },
    {
      "cell_type": "code",
      "metadata": {
        "id": "jtS5dJgmpFfa"
      },
      "source": [
        "data['W2V'] = data_W2V"
      ],
      "execution_count": null,
      "outputs": []
    },
    {
      "cell_type": "code",
      "metadata": {
        "id": "lHYPG6BvBnu9"
      },
      "source": [
        "data['W2V'][0].shape"
      ],
      "execution_count": null,
      "outputs": []
    },
    {
      "cell_type": "code",
      "metadata": {
        "id": "ptFz-9EiJDQR"
      },
      "source": [
        "data.W2V[0]"
      ],
      "execution_count": null,
      "outputs": []
    },
    {
      "cell_type": "code",
      "metadata": {
        "id": "XNDFMJ1BBxEv"
      },
      "source": [
        "a = np.zeros((13355, 32_000))"
      ],
      "execution_count": null,
      "outputs": []
    },
    {
      "cell_type": "code",
      "metadata": {
        "id": "mV5KEv1GEy7R"
      },
      "source": [
        "a = data.W2V"
      ],
      "execution_count": null,
      "outputs": []
    },
    {
      "cell_type": "code",
      "metadata": {
        "id": "vunNt7TLE6I8"
      },
      "source": [
        "a.shape"
      ],
      "execution_count": null,
      "outputs": []
    },
    {
      "cell_type": "code",
      "metadata": {
        "id": "YUBAllB0Viux"
      },
      "source": [
        "import tensorflow as tf\n",
        "from tensorflow import keras\n",
        "from tensorflow.keras.layers import Dense, LSTM, Embedding\n",
        "from keras.models import Sequential\n",
        "\n",
        "maxlen = 1_000*64\n",
        "max_words = 10_000\n",
        "\n",
        "model = Sequential()\n",
        "model.add(Embedding(max_words, 8, input_length=maxlen))\n",
        "model.add(LSTM(32))\n",
        "model.add(Dense(1, activation='sigmoid'))\n",
        "\n",
        "model.compile(optimizer='adam',\n",
        "             loss='binary_crossentropy', \n",
        "              metrics=['accuracy'])"
      ],
      "execution_count": null,
      "outputs": []
    },
    {
      "cell_type": "code",
      "metadata": {
        "id": "_oUpIdH_3Lq0"
      },
      "source": [
        "vectors = np.zeros(((data.shape[0], N*64)), dtype='float32')\n",
        "\n",
        "for i in range(len(data.W2V)):\n",
        "  vectors[i] = data.W2V[i] + 10"
      ],
      "execution_count": null,
      "outputs": []
    },
    {
      "cell_type": "code",
      "metadata": {
        "id": "x8FWpbSnWCSI"
      },
      "source": [
        "train_data, test_data, train_target, test_target = tt(vectors, data.target_1_day, \n",
        "                                            shuffle=False, random_state=42, test_size=0.2)"
      ],
      "execution_count": null,
      "outputs": []
    },
    {
      "cell_type": "code",
      "metadata": {
        "id": "l9FENYZmGFV7"
      },
      "source": [
        "train_data[0]"
      ],
      "execution_count": null,
      "outputs": []
    },
    {
      "cell_type": "code",
      "metadata": {
        "id": "PXFWneeyL-Z-"
      },
      "source": [
        "train_data = np.asarray(train_data).astype('float32')\n",
        "#train_data = train_data.astype('float32')"
      ],
      "execution_count": null,
      "outputs": []
    },
    {
      "cell_type": "code",
      "metadata": {
        "id": "RkKkQUSjVz42"
      },
      "source": [
        "history = model.fit(train_data, train_target, epochs=3)"
      ],
      "execution_count": null,
      "outputs": []
    },
    {
      "cell_type": "code",
      "metadata": {
        "id": "S4RENc-tXpk6"
      },
      "source": [
        "model.predict(test_data)"
      ],
      "execution_count": null,
      "outputs": []
    },
    {
      "cell_type": "markdown",
      "metadata": {
        "id": "WYeEHO0Fww2E"
      },
      "source": [
        "## Pre-Trained W2V"
      ]
    },
    {
      "cell_type": "code",
      "metadata": {
        "id": "Y8nQedZwwvxL"
      },
      "source": [
        "from gensim.models import word2vec\n",
        "from gensim.models import KeyedVectors\n",
        "from gensim.models.word2vec import Word2Vec\n",
        "\n",
        "#model = word2vec.Word2Vec(lenta_data, size=300, window=7)\n",
        "wv_from_ruscorp = KeyedVectors.load_word2vec_format(\"model.bin\", binary=True)"
      ],
      "execution_count": 109,
      "outputs": []
    },
    {
      "cell_type": "code",
      "metadata": {
        "id": "bM2EtMXaXNW2",
        "outputId": "850653f8-1947-4184-dbf9-1522d6f04460",
        "colab": {
          "base_uri": "https://localhost:8080/",
          "height": 180
        }
      },
      "source": [
        "f = open('model.txt', 'w')\n",
        "f.read(1)"
      ],
      "execution_count": 119,
      "outputs": [
        {
          "output_type": "error",
          "ename": "UnsupportedOperation",
          "evalue": "ignored",
          "traceback": [
            "\u001b[0;31m---------------------------------------------------------------------------\u001b[0m",
            "\u001b[0;31mUnsupportedOperation\u001b[0m                      Traceback (most recent call last)",
            "\u001b[0;32m<ipython-input-119-fe63180aaf39>\u001b[0m in \u001b[0;36m<module>\u001b[0;34m()\u001b[0m\n\u001b[1;32m      1\u001b[0m \u001b[0mf\u001b[0m \u001b[0;34m=\u001b[0m \u001b[0mopen\u001b[0m\u001b[0;34m(\u001b[0m\u001b[0;34m'model.txt'\u001b[0m\u001b[0;34m,\u001b[0m \u001b[0;34m'w'\u001b[0m\u001b[0;34m)\u001b[0m\u001b[0;34m\u001b[0m\u001b[0;34m\u001b[0m\u001b[0m\n\u001b[0;32m----> 2\u001b[0;31m \u001b[0mf\u001b[0m\u001b[0;34m.\u001b[0m\u001b[0mread\u001b[0m\u001b[0;34m(\u001b[0m\u001b[0;36m1\u001b[0m\u001b[0;34m)\u001b[0m\u001b[0;34m\u001b[0m\u001b[0;34m\u001b[0m\u001b[0m\n\u001b[0m",
            "\u001b[0;31mUnsupportedOperation\u001b[0m: not readable"
          ]
        }
      ]
    },
    {
      "cell_type": "code",
      "metadata": {
        "id": "4IzI2QzFW1t0",
        "outputId": "9dbc1252-1c30-4bfc-c6d1-624b992f120b",
        "colab": {
          "base_uri": "https://localhost:8080/",
          "height": 187
        }
      },
      "source": [
        "wv_from_ruscorp.most_similar('россия_NOUN')"
      ],
      "execution_count": 121,
      "outputs": [
        {
          "output_type": "execute_result",
          "data": {
            "text/plain": [
              "[('364,4_NUM', 0.38748329877853394),\n",
              " ('почта@mail.ru_X', 0.38153666257858276),\n",
              " ('370,2_NUM', 0.37423014640808105),\n",
              " ('сноуборд_PROPN', 0.35446494817733765),\n",
              " ('джанфранко::каспера_PROPN', 0.3465493321418762),\n",
              " ('плешакова*_X', 0.34459662437438965),\n",
              " ('суммарный_ADV', 0.33686959743499756),\n",
              " ('riff_NOUN', 0.3363485336303711),\n",
              " ('фиса_PROPN', 0.3349968194961548),\n",
              " ('чувашавтодор_PROPN', 0.33470964431762695)]"
            ]
          },
          "metadata": {
            "tags": []
          },
          "execution_count": 121
        }
      ]
    },
    {
      "cell_type": "code",
      "metadata": {
        "id": "UkZCxesWbf5t",
        "outputId": "8655ff2b-5bb3-4bb8-c647-ee8b98b3282d",
        "colab": {
          "base_uri": "https://localhost:8080/",
          "height": 85
        }
      },
      "source": [
        "import nltk\n",
        "nltk.download('averaged_perceptron_tagger_ru')"
      ],
      "execution_count": 146,
      "outputs": [
        {
          "output_type": "stream",
          "text": [
            "[nltk_data] Downloading package averaged_perceptron_tagger_ru to\n",
            "[nltk_data]     /root/nltk_data...\n",
            "[nltk_data]   Unzipping taggers/averaged_perceptron_tagger_ru.zip.\n"
          ],
          "name": "stdout"
        },
        {
          "output_type": "execute_result",
          "data": {
            "text/plain": [
              "True"
            ]
          },
          "metadata": {
            "tags": []
          },
          "execution_count": 146
        }
      ]
    },
    {
      "cell_type": "code",
      "metadata": {
        "id": "vaeRkHY2g70j",
        "outputId": "5f81c5f0-e697-4cd6-bb66-237dd60d627a",
        "colab": {
          "base_uri": "https://localhost:8080/",
          "height": 68
        }
      },
      "source": [
        "nltk.download('punkt')"
      ],
      "execution_count": 147,
      "outputs": [
        {
          "output_type": "stream",
          "text": [
            "[nltk_data] Downloading package punkt to /root/nltk_data...\n",
            "[nltk_data]   Package punkt is already up-to-date!\n"
          ],
          "name": "stdout"
        },
        {
          "output_type": "execute_result",
          "data": {
            "text/plain": [
              "True"
            ]
          },
          "metadata": {
            "tags": []
          },
          "execution_count": 147
        }
      ]
    },
    {
      "cell_type": "code",
      "metadata": {
        "id": "HtDog6azgXBK",
        "outputId": "f8bab274-d8fc-4e82-b7a0-9b6f8c8a55c3",
        "colab": {
          "base_uri": "https://localhost:8080/",
          "height": 1000
        }
      },
      "source": [
        "tokens = nltk.word_tokenize(news.clean_text[0])\n",
        "nltk.pos_tag(tokens, lang = 'rus')"
      ],
      "execution_count": 152,
      "outputs": [
        {
          "output_type": "execute_result",
          "data": {
            "text/plain": [
              "[('сбербанк', 'V'),\n",
              " ('вместе', 'ADV'),\n",
              " ('весь', 'A-PRO=m'),\n",
              " ('страна', 'S'),\n",
              " ('готовиться', 'V'),\n",
              " ('празднование', 'S'),\n",
              " ('number_token', 'NONLEX'),\n",
              " ('годовщина', 'S'),\n",
              " ('победа', 'S'),\n",
              " ('великии', 'S'),\n",
              " ('отечественныи', 'S'),\n",
              " ('воина', 'S'),\n",
              " ('вместе', 'ADV'),\n",
              " ('свои', 'A-PRO=pl'),\n",
              " ('дочернии', 'S'),\n",
              " ('компания', 'S'),\n",
              " ('разработать', 'V'),\n",
              " ('целыи', 'S'),\n",
              " ('ряд', 'S'),\n",
              " ('продукт', 'S'),\n",
              " ('сервис', 'S'),\n",
              " ('мероприятие', 'S'),\n",
              " ('которыи', 'S'),\n",
              " ('помочь', 'V'),\n",
              " ('весь', 'A-PRO=m'),\n",
              " ('россиянин', 'S'),\n",
              " ('оказать', 'V'),\n",
              " ('поддержка', 'S'),\n",
              " ('ветеран', 'S'),\n",
              " ('великии', 'V'),\n",
              " ('отечественныи', 'S'),\n",
              " ('воина', 'S'),\n",
              " ('почтить', 'V'),\n",
              " ('память', 'S'),\n",
              " ('свои', 'A-PRO=pl'),\n",
              " ('родные', 'A=pl'),\n",
              " ('близкие', 'A=pl'),\n",
              " ('вернуться', 'V'),\n",
              " ('полыи', 'V'),\n",
              " ('сражение', 'S'),\n",
              " ('фонд', 'S'),\n",
              " ('память', 'S'),\n",
              " ('поколение', 'S'),\n",
              " ('благотворительныи', 'S'),\n",
              " ('платформа', 'S'),\n",
              " ('сбербанк', 'S'),\n",
              " ('вместе', 'ADV'),\n",
              " ('благотворительныи', 'A=m'),\n",
              " ('фонд', 'S'),\n",
              " ('память', 'S'),\n",
              " ('поколение', 'S'),\n",
              " ('честь', 'S'),\n",
              " ('празднование', 'S'),\n",
              " ('день', 'S'),\n",
              " ('победа', 'S'),\n",
              " ('запустить', 'V'),\n",
              " ('совместныи', 'S'),\n",
              " ('акция', 'S'),\n",
              " ('весь', 'A-PRO=m'),\n",
              " ('мир', 'S'),\n",
              " ('встать', 'V'),\n",
              " ('борьба', 'S'),\n",
              " ('коронавирус', 'S'),\n",
              " ('ветеран', 'S'),\n",
              " ('приходиться', 'V'),\n",
              " ('сложныи', 'S'),\n",
              " ('сегодня', 'ADV'),\n",
              " ('передвижение', 'S'),\n",
              " ('пожилое', 'A=n'),\n",
              " ('человек', 'S'),\n",
              " ('вынужденно', 'ADV'),\n",
              " ('ограничить', 'V'),\n",
              " ('имя', 'S'),\n",
              " ('нужныи', 'ADV'),\n",
              " ('дополнительныи', 'V'),\n",
              " ('внимание', 'S'),\n",
              " ('бережныи', 'S'),\n",
              " ('поддержка', 'S'),\n",
              " ('волонтер', 'S'),\n",
              " ('время', 'S'),\n",
              " ('это', 'S-PRO'),\n",
              " ('отменять', 'V'),\n",
              " ('потребность', 'S'),\n",
              " ('специализировать', 'V'),\n",
              " ('медицинскии', 'S'),\n",
              " ('помощь', 'S'),\n",
              " ('дорогостоящии', 'S'),\n",
              " ('современныи', 'S'),\n",
              " ('протез', 'S'),\n",
              " ('слуховои', 'V'),\n",
              " ('аппарат', 'S'),\n",
              " ('коляска', 'S'),\n",
              " ('каждыи', 'S'),\n",
              " ('пожертвование', 'S'),\n",
              " ('сделать', 'V'),\n",
              " ('клиент', 'S'),\n",
              " ('банка', 'S'),\n",
              " ('адрес', 'S'),\n",
              " ('фонд', 'S'),\n",
              " ('память', 'S'),\n",
              " ('поколение', 'S'),\n",
              " ('удваиваться', 'V'),\n",
              " ('сбербанк', 'S'),\n",
              " ('весь', 'A-PRO=m'),\n",
              " ('сбор', 'S'),\n",
              " ('поити', 'S'),\n",
              " ('поддержка', 'S'),\n",
              " ('ветеран', 'S'),\n",
              " ('великии', 'V'),\n",
              " ('отечественныи', 'S'),\n",
              " ('воина', 'S'),\n",
              " ('сегодняшнии', 'S'),\n",
              " ('день', 'S'),\n",
              " ('общии', 'S'),\n",
              " ('сумма', 'S'),\n",
              " ('взнос', 'S'),\n",
              " ('фонд', 'S'),\n",
              " ('составить', 'V'),\n",
              " ('number_token', 'NONLEX'),\n",
              " ('миллион', 'S'),\n",
              " ('рубль', 'S'),\n",
              " ('акция', 'S'),\n",
              " ('продолжать', 'V'),\n",
              " ('набирать', 'V'),\n",
              " ('оборот', 'S'),\n",
              " ('принять', 'V'),\n",
              " ('участие', 'S'),\n",
              " ('акция', 'S'),\n",
              " ('саит', 'V'),\n",
              " ('сбербанк', 'S'),\n",
              " ('вместе', 'ADV'),\n",
              " ('узнать', 'V'),\n",
              " ('дробныи', 'S'),\n",
              " ('отчет', 'V'),\n",
              " ('история', 'S'),\n",
              " ('ветеран', 'S'),\n",
              " ('кома', 'S'),\n",
              " ('удаться', 'V'),\n",
              " ('помочь', 'V'),\n",
              " ('саит', 'S'),\n",
              " ('фонд', 'S'),\n",
              " ('память', 'S'),\n",
              " ('поколение', 'S'),\n",
              " ('мобильныи', 'S'),\n",
              " ('приложение', 'S'),\n",
              " ('сбербанк', 'S'),\n",
              " ('онлаин', 'S'),\n",
              " ('android', 'NONLEX'),\n",
              " ('появиться', 'V'),\n",
              " ('возможность', 'S'),\n",
              " ('удобно', 'ADV'),\n",
              " ('подключить', 'V'),\n",
              " ('регулярныи', 'V'),\n",
              " ('пожертвование', 'S'),\n",
              " ('напрямую', 'ADV'),\n",
              " ('фонд', 'S'),\n",
              " ('память', 'S'),\n",
              " ('поколение', 'S'),\n",
              " ('вместе', 'ADV'),\n",
              " ('фонд', 'S'),\n",
              " ('оказывать', 'V'),\n",
              " ('ветеран', 'S'),\n",
              " ('постоянныи', 'S'),\n",
              " ('поддержка', 'S'),\n",
              " ('нпф', 'V'),\n",
              " ('сбербанк', 'S'),\n",
              " ('направить', 'V'),\n",
              " ('пожертвование', 'S'),\n",
              " ('размер', 'S'),\n",
              " ('number_token', 'NONLEX'),\n",
              " ('сумма', 'S'),\n",
              " ('первоначальныи', 'V'),\n",
              " ('взнос', 'S'),\n",
              " ('number_token', 'NONLEX'),\n",
              " ('рубль', 'S'),\n",
              " ('каждыи', 'S'),\n",
              " ('договор', 'S'),\n",
              " ('индивидуальныи', 'S'),\n",
              " ('пенсионныи', 'S'),\n",
              " ('план', 'S'),\n",
              " ('которыи', 'S'),\n",
              " ('заключить', 'V'),\n",
              " ('клиент', 'S'),\n",
              " ('фонд', 'S'),\n",
              " ('number_token', 'NONLEX'),\n",
              " ('апрель', 'S'),\n",
              " ('number_token', 'NONLEX'),\n",
              " ('маи', 'S'),\n",
              " ('саит', 'S'),\n",
              " ('фонд', 'S'),\n",
              " ('сбербанк', 'S'),\n",
              " ('онлаин', 'S'),\n",
              " ('первоначальныи', 'S'),\n",
              " ('взнос', 'S'),\n",
              " ('зачисляться', 'V'),\n",
              " ('счет', 'V'),\n",
              " ('клиент', 'S'),\n",
              " ('полныи', 'S'),\n",
              " ('размер', 'S'),\n",
              " ('нпф', 'S'),\n",
              " ('сбербанк', 'S'),\n",
              " ('делать', 'V'),\n",
              " ('пожертвование', 'S'),\n",
              " ('счет', 'S'),\n",
              " ('собственныи', 'S'),\n",
              " ('средство', 'S'),\n",
              " ('сбербанк', 'A=n'),\n",
              " ('страхование', 'S'),\n",
              " ('жизнь', 'S'),\n",
              " ('сбербанк', 'S'),\n",
              " ('страхование', 'S'),\n",
              " ('перечислить', 'V'),\n",
              " ('фонд', 'S'),\n",
              " ('пожертвование', 'S'),\n",
              " ('часть', 'S'),\n",
              " ('сумма', 'S'),\n",
              " ('взнос', 'S'),\n",
              " ('каждыи', 'S'),\n",
              " ('договор', 'S'),\n",
              " ('страхование', 'S'),\n",
              " ('заключенныи', 'V'),\n",
              " ('период', 'S'),\n",
              " ('number_token', 'NONLEX'),\n",
              " ('апрель', 'S'),\n",
              " ('number_token', 'NONLEX'),\n",
              " ('маи', 'S'),\n",
              " ('пожертвование', 'S'),\n",
              " ('сделать', 'V'),\n",
              " ('счет', 'S'),\n",
              " ('собственныи', 'S'),\n",
              " ('средство', 'S'),\n",
              " ('страхов', 'S'),\n",
              " ('компания', 'S'),\n",
              " ('период', 'S'),\n",
              " ('number_token', 'NONLEX'),\n",
              " ('апрель', 'S'),\n",
              " ('number_token', 'NONLEX'),\n",
              " ('маи', 'S'),\n",
              " ('люба', 'S'),\n",
              " ('перевод', 'S'),\n",
              " ('корпоративныи', 'S'),\n",
              " ('клиент', 'S'),\n",
              " ('бизнес', 'S'),\n",
              " ('карта', 'S'),\n",
              " ('мобильныи', 'V'),\n",
              " ('приложение', 'S'),\n",
              " ('сбербанк', 'S'),\n",
              " ('бизнес', 'S'),\n",
              " ('онлаин', 'S'),\n",
              " ('онлаин', 'S'),\n",
              " ('банк', 'S'),\n",
              " ('юридическии', 'S'),\n",
              " ('лицо', 'S'),\n",
              " ('банк', 'S'),\n",
              " ('перечислить', 'V'),\n",
              " ('фонд', 'S'),\n",
              " ('number_token', 'NONLEX'),\n",
              " ('рубль', 'S'),\n",
              " ('собственныи', 'S'),\n",
              " ('средство', 'S'),\n",
              " ('участие', 'S'),\n",
              " ('клиент', 'S'),\n",
              " ('банка', 'S'),\n",
              " ('юридическии', 'NONLEX'),\n",
              " ('лицо', 'S'),\n",
              " ('необходимыи', 'S'),\n",
              " ('сделать', 'V'),\n",
              " ('перевод', 'S'),\n",
              " ('бизнес', 'S'),\n",
              " ('карта', 'S'),\n",
              " ('чаща', 'A=m'),\n",
              " ('клиент', 'S'),\n",
              " ('пользоваться', 'V'),\n",
              " ('перевод', 'S'),\n",
              " ('период', 'S'),\n",
              " ('деиствие', 'S'),\n",
              " ('предложение', 'S'),\n",
              " ('большои', 'S'),\n",
              " ('средство', 'S'),\n",
              " ('перечислить', 'V'),\n",
              " ('ветеран', 'S'),\n",
              " ('программа', 'S'),\n",
              " ('лояльность', 'S'),\n",
              " ('спасибо', 'PART'),\n",
              " ('сбербанк', 'S'),\n",
              " ('запускать', 'V'),\n",
              " ('бесплатныи', 'S'),\n",
              " ('викторин', 'S'),\n",
              " ('военныи', 'S'),\n",
              " ('история', 'S'),\n",
              " ('посвятить', 'V'),\n",
              " ('number_token', 'NONLEX'),\n",
              " ('летие', 'S'),\n",
              " ('победа', 'S'),\n",
              " ('великии', 'S'),\n",
              " ('отечественныи', 'S'),\n",
              " ('воина', 'S'),\n",
              " ('викторин', 'S'),\n",
              " ('доступныи', 'S'),\n",
              " ('viber', 'NONLEX'),\n",
              " ('специальныи', 'S'),\n",
              " ('чат', 'V'),\n",
              " ('бот', 'S'),\n",
              " ('спасибо', 'PRAEDIC'),\n",
              " ('получить', 'V'),\n",
              " ('бонус', 'S'),\n",
              " ('также', 'ADV'),\n",
              " ('потратить', 'V'),\n",
              " ('добрыи', 'S'),\n",
              " ('дело', 'S'),\n",
              " ('число', 'S'),\n",
              " ('благотворительныи', 'V'),\n",
              " ('взнос', 'S'),\n",
              " ('фонд', 'S'),\n",
              " ('память', 'S'),\n",
              " ('поколение', 'S'),\n",
              " ('течение', 'S'),\n",
              " ('пять', 'NUM=acc'),\n",
              " ('неделя', 'S'),\n",
              " ('начинать', 'V'),\n",
              " ('number_token', 'NONLEX'),\n",
              " ('апрель', 'S'),\n",
              " ('участник', 'S'),\n",
              " ('отвечать', 'V'),\n",
              " ('вопрос', 'S'),\n",
              " ('событие', 'S'),\n",
              " ('военныи', 'ANUM=m'),\n",
              " ('год', 'S'),\n",
              " ('неделя', 'S'),\n",
              " ('год', 'S'),\n",
              " ('воина', 'S'),\n",
              " ('человек', 'S'),\n",
              " ('событие', 'S'),\n",
              " ('экономика', 'S'),\n",
              " ('ежедневно', 'ADV'),\n",
              " ('активироваться', 'V'),\n",
              " ('новое', 'A=n'),\n",
              " ('вопрос', 'S'),\n",
              " ('каждыи', 'V'),\n",
              " ('правильныи', 'V'),\n",
              " ('ответ', 'S'),\n",
              " ('участник', 'S'),\n",
              " ('викторин', 'S'),\n",
              " ('зарабатывать', 'V'),\n",
              " ('бонус', 'S'),\n",
              " ('спасибо', 'S'),\n",
              " ('мочь', 'S'),\n",
              " ('отслеживать', 'V'),\n",
              " ('свои', 'A-PRO=pl'),\n",
              " ('результат', 'S'),\n",
              " ('количество', 'S'),\n",
              " ('ответ', 'S'),\n",
              " ('заработать', 'V'),\n",
              " ('бонус', 'S'),\n",
              " ('течение', 'S'),\n",
              " ('весь', 'A-PRO=m'),\n",
              " ('акция', 'S'),\n",
              " ('делиться', 'V'),\n",
              " ('проект', 'S'),\n",
              " ('банк', 'S'),\n",
              " ('память', 'S'),\n",
              " ('помимо', 'PR'),\n",
              " ('забота', 'S'),\n",
              " ('помнить', 'V'),\n",
              " ('вернуться', 'V'),\n",
              " ('свои', 'A-PRO=pl'),\n",
              " ('роднои', 'S'),\n",
              " ('близкие', 'A=pl'),\n",
              " ('сбербанк', 'S'),\n",
              " ('приглашать', 'V'),\n",
              " ('весь', 'A-PRO=m'),\n",
              " ('присоединиться', 'V'),\n",
              " ('онлаин', 'S'),\n",
              " ('проект', 'S'),\n",
              " ('банк', 'S'),\n",
              " ('память', 'S'),\n",
              " ('проект', 'S'),\n",
              " ('создать', 'V'),\n",
              " ('помочь', 'V'),\n",
              " ('каждыи', 'S'),\n",
              " ('человек', 'S'),\n",
              " ('сохранить', 'V'),\n",
              " ('передать', 'V'),\n",
              " ('поколение', 'S'),\n",
              " ('память', 'S'),\n",
              " ('подвиг', 'S'),\n",
              " ('которыи', 'S'),\n",
              " ('совершить', 'V'),\n",
              " ('член', 'S'),\n",
              " ('семья', 'S'),\n",
              " ('время', 'S'),\n",
              " ('великии', 'S'),\n",
              " ('отечественныи', 'S'),\n",
              " ('воина', 'S'),\n",
              " ('лента', 'S'),\n",
              " ('герои', 'S'),\n",
              " ('позволять', 'V'),\n",
              " ('увидеть', 'V'),\n",
              " ('путь', 'S'),\n",
              " ('свои', 'A-PRO=pl'),\n",
              " ('ветеран', 'S'),\n",
              " ('также', 'ADV'),\n",
              " ('история', 'S'),\n",
              " ('герои', 'S'),\n",
              " ('свои', 'A-PRO=pl'),\n",
              " ('друг', 'S'),\n",
              " ('благодаря', 'PR'),\n",
              " ('синхронизация', 'S'),\n",
              " ('социальныи', 'A=f'),\n",
              " ('сеть', 'S'),\n",
              " ('каждыи', 'S'),\n",
              " ('авторизированныи', 'S'),\n",
              " ('пользователь', 'S'),\n",
              " ('мочь', 'S'),\n",
              " ('узнать', 'V'),\n",
              " ('пересекаться', 'V'),\n",
              " ('путь', 'S'),\n",
              " ('близкие', 'A=pl'),\n",
              " ('непростои', 'S'),\n",
              " ('время', 'S'),\n",
              " ('узнать', 'V'),\n",
              " ('большои', 'S'),\n",
              " ('проект', 'S'),\n",
              " ('саит', 'V'),\n",
              " ('sbernumber_tokenmay', 'NONLEX'),\n",
              " ('предложение', 'S'),\n",
              " ('компания', 'S'),\n",
              " ('экосистема', 'S'),\n",
              " ('сбербанк', 'S'),\n",
              " ('маркетплеис', 'S'),\n",
              " ('брать', 'V'),\n",
              " ('сервис', 'S'),\n",
              " ('доставка', 'S'),\n",
              " ('еда', 'S'),\n",
              " ('ресторан', 'S'),\n",
              " ('delivery', 'NONLEX'),\n",
              " ('club', 'NONLEX'),\n",
              " ('онлаин', 'V'),\n",
              " ('кинотеатр', 'S'),\n",
              " ('okko', 'NONLEX'),\n",
              " ('сервис', 'S'),\n",
              " ('доставка', 'S'),\n",
              " ('товар', 'S'),\n",
              " ('необходимость', 'S'),\n",
              " ('сбермаркета', 'S'),\n",
              " ('сервис', 'S'),\n",
              " ('доставка', 'S'),\n",
              " ('посылка', 'S'),\n",
              " ('сберлогистика', 'S'),\n",
              " ('распространять', 'V'),\n",
              " ('открытка', 'S'),\n",
              " ('электронныи', 'S'),\n",
              " ('письмо', 'S'),\n",
              " ('поздравление', 'S'),\n",
              " ('предложение', 'S'),\n",
              " ('пожертвовать', 'V'),\n",
              " ('средство', 'S'),\n",
              " ('фонд', 'S'),\n",
              " ('память', 'S'),\n",
              " ('поколение', 'S'),\n",
              " ('медицинскии', 'S'),\n",
              " ('сервис', 'S'),\n",
              " ('docdoc', 'NONLEX'),\n",
              " ('подарить', 'V'),\n",
              " ('number_token', 'NONLEX'),\n",
              " ('ветеран', 'S'),\n",
              " ('подписка', 'S'),\n",
              " ('активныи', 'S'),\n",
              " ('возраст', 'S'),\n",
              " ('обеспечить', 'V'),\n",
              " ('весь', 'A-PRO=m'),\n",
              " ('человек', 'S'),\n",
              " ('старшии', 'S'),\n",
              " ('number_token', 'NONLEX'),\n",
              " ('год', 'S'),\n",
              " ('рождение', 'S'),\n",
              " ('скидка', 'S'),\n",
              " ('размер', 'S'),\n",
              " ('number_token', 'NONLEX'),\n",
              " ('годовои', 'S'),\n",
              " ('подписка', 'S'),\n",
              " ('весь', 'A-PRO=m'),\n",
              " ('врач', 'S'),\n",
              " ('онлаин', 'S'),\n",
              " ('включать', 'V'),\n",
              " ('консультация', 'S'),\n",
              " ('врач', 'S'),\n",
              " ('станислав', 'S'),\n",
              " ('кузнецов', 'S'),\n",
              " ('заместитель', 'S'),\n",
              " ('председатель', 'S'),\n",
              " ('правление', 'S'),\n",
              " ('сбербанк', 'S'),\n",
              " ('чувствовать', 'V'),\n",
              " ('ответственность', 'S'),\n",
              " ('помощь', 'S'),\n",
              " ('проити', 'V'),\n",
              " ('весь', 'A-PRO=m'),\n",
              " ('тягота', 'S'),\n",
              " ('кровопролитныи', 'S'),\n",
              " ('воина', 'S'),\n",
              " ('кома', 'S'),\n",
              " ('обязать', 'V'),\n",
              " ('свои', 'A-PRO=pl'),\n",
              " ('жизнь', 'S'),\n",
              " ('жизнь', 'S'),\n",
              " ('наш', 'A-PRO=m'),\n",
              " ('страна', 'S'),\n",
              " ('очень', 'ADV'),\n",
              " ('важныи', 'PRAEDIC'),\n",
              " ('сохранить', 'V'),\n",
              " ('историческии', 'S'),\n",
              " ('память', 'S'),\n",
              " ('великии', 'S'),\n",
              " ('победа', 'S'),\n",
              " ('никто', 'S-PRO'),\n",
              " ('забытыи', 'S'),\n",
              " ('ничто', 'S-PRO'),\n",
              " ('забытыи', 'V'),\n",
              " ('number_token', 'NONLEX'),\n",
              " ('летие', 'S'),\n",
              " ('победа', 'S'),\n",
              " ('великии', 'S'),\n",
              " ('отечественныи', 'S'),\n",
              " ('воина', 'S'),\n",
              " ('сбербанк', 'S'),\n",
              " ('подготовить', 'V'),\n",
              " ('целыи', 'S'),\n",
              " ('комплекс', 'S'),\n",
              " ('мероприятие', 'S'),\n",
              " ('благотворительныи', 'S'),\n",
              " ('акция', 'S'),\n",
              " ('оказание', 'S'),\n",
              " ('помощь', 'S'),\n",
              " ('ветеран', 'V'),\n",
              " ('образовательныи', 'V'),\n",
              " ('активность', 'S'),\n",
              " ('рассказывать', 'V'),\n",
              " ('велик', 'A=m'),\n",
              " ('подвиг', 'S'),\n",
              " ('русскии', 'S'),\n",
              " ('народ', 'S'),\n",
              " ('наш', 'A-PRO=m'),\n",
              " ('сервис', 'S'),\n",
              " ('проект', 'S'),\n",
              " ('весь', 'A-PRO=m'),\n",
              " ('гордиться', 'V'),\n",
              " ('помнить', 'V'),\n",
              " ('чтить', 'V'),\n",
              " ('свои', 'A-PRO=pl'),\n",
              " ('герои', 'S'),\n",
              " ('екатерина', 'S'),\n",
              " ('круглов', 'S'),\n",
              " ('исполнительныи', 'S'),\n",
              " ('директор', 'S'),\n",
              " ('благотворительныи', 'A=m'),\n",
              " ('фонд', 'S'),\n",
              " ('память', 'S'),\n",
              " ('поколение', 'S'),\n",
              " ('год', 'S'),\n",
              " ('значимыи', 'S'),\n",
              " ('каждыи', 'S'),\n",
              " ('праздновать', 'V'),\n",
              " ('number_token', 'NONLEX'),\n",
              " ('летие', 'S'),\n",
              " ('великии', 'S'),\n",
              " ('победа', 'S'),\n",
              " ('несмотря', 'ADV'),\n",
              " ('вынужденныи', 'V'),\n",
              " ('мера', 'S'),\n",
              " ('самоизоляция', 'S'),\n",
              " ('ветеран', 'S'),\n",
              " ('великии', 'S'),\n",
              " ('отечественныи', 'S'),\n",
              " ('воина', 'S'),\n",
              " ('очень', 'ADV'),\n",
              " ('нуждаться', 'V'),\n",
              " ('наш', 'A-PRO=m'),\n",
              " ('поддержка', 'S'),\n",
              " ('рад', 'A'),\n",
              " ('благодаря', 'PR'),\n",
              " ('сотрудничество', 'S'),\n",
              " ('сбербанк', 'S'),\n",
              " ('смочь', 'S'),\n",
              " ('оказать', 'V'),\n",
              " ('имя', 'S'),\n",
              " ('большии', 'S'),\n",
              " ('объесть', 'S'),\n",
              " ('медицинскии', 'S'),\n",
              " ('помощь', 'S'),\n",
              " ('это', 'S-PRO'),\n",
              " ('важныи', 'S'),\n",
              " ('особенно', 'ADV'),\n",
              " ('столь', 'ADV-PRO'),\n",
              " ('нелегкии', 'ADV'),\n",
              " ('каждыи', 'S'),\n",
              " ('человек', 'S'),\n",
              " ('время', 'S'),\n",
              " ('принимать', 'V'),\n",
              " ('участие', 'S'),\n",
              " ('совместныи', 'S'),\n",
              " ('благотворительныи', 'S'),\n",
              " ('акция', 'S'),\n",
              " ('фонд', 'S'),\n",
              " ('сбербанк', 'S'),\n",
              " ('благодарить', 'V'),\n",
              " ('проити', 'S'),\n",
              " ('страшныи', 'S'),\n",
              " ('событие', 'S'),\n",
              " ('number_token', 'NONLEX'),\n",
              " ('ради', 'PR'),\n",
              " ('наш', 'A-PRO=sg'),\n",
              " ('мирныи', 'S'),\n",
              " ('жизнь', 'S'),\n",
              " ('слово', 'S'),\n",
              " ('дело', 'S'),\n",
              " ('давать', 'V'),\n",
              " ('вместе', 'ADV'),\n",
              " ('помочь', 'V'),\n",
              " ('ветеран', 'S'),\n",
              " ('подарить', 'V'),\n",
              " ('имя', 'S'),\n",
              " ('праздник', 'S'),\n",
              " ('вызвать', 'V'),\n",
              " ('коронавирус', 'S'),\n",
              " ('ограничительныи', 'S'),\n",
              " ('мера', 'S'),\n",
              " ('экономическии', 'S'),\n",
              " ('падение', 'S'),\n",
              " ('отразиться', 'V'),\n",
              " ('работа', 'S'),\n",
              " ('россиискии', 'S'),\n",
              " ('компания', 'S'),\n",
              " ('данные', 'S'),\n",
              " ('опрос', 'S'),\n",
              " ('работа', 'S'),\n",
              " ('число', 'S'),\n",
              " ('переити', 'S'),\n",
              " ('удаленка', 'S'),\n",
              " ('вырасти', 'V'),\n",
              " ('пять', 'NUM=acc'),\n",
              " ('number_token', 'NONLEX'),\n",
              " ('месяц', 'S'),\n",
              " ('назад', 'ADV'),\n",
              " ('number_token', 'NONLEX'),\n",
              " ('частично', 'ADV'),\n",
              " ('переслать', 'V'),\n",
              " ('number_token', 'NONLEX'),\n",
              " ('ограничиться', 'V'),\n",
              " ('рекомендация', 'S'),\n",
              " ('оставить', 'V'),\n",
              " ('окончательныи', 'V'),\n",
              " ('решение', 'S'),\n",
              " ('сотрудник', 'S'),\n",
              " ('number_token', 'NONLEX'),\n",
              " ('возможность', 'S'),\n",
              " ('отправить', 'V'),\n",
              " ('сотрудник', 'S'),\n",
              " ('отпуск', 'S'),\n",
              " ('больничныи', 'S'),\n",
              " ('воспользоваться', 'V'),\n",
              " ('number_token', 'NONLEX'),\n",
              " ('работать', 'V'),\n",
              " ('штатныи', 'S'),\n",
              " ('режим', 'S'),\n",
              " ('предпочесть', 'S'),\n",
              " ('number_token', 'NONLEX'),\n",
              " ('наблюдаться', 'V'),\n",
              " ('беспрецедентныи', 'S'),\n",
              " ('спрос', 'S'),\n",
              " ('руководитель', 'S'),\n",
              " ('которыи', 'S'),\n",
              " ('уметь', 'V'),\n",
              " ('управлять', 'V'),\n",
              " ('территориально', 'ADV'),\n",
              " ('распределенныи', 'V'),\n",
              " ('команда', 'S'),\n",
              " ('очевидно', 'ADV'),\n",
              " ('удаленныи', 'V'),\n",
              " ('работа', 'S'),\n",
              " ('совершить', 'V'),\n",
              " ('настоящии', 'ADV'),\n",
              " ('революция', 'S'),\n",
              " ('рынок', 'S'),\n",
              " ('труд', 'S'),\n",
              " ('нужно', 'PRAEDIC'),\n",
              " ('бояться', 'V'),\n",
              " ('отпускать', 'V'),\n",
              " ('сотрудник', 'S'),\n",
              " ('карантин', 'S'),\n",
              " ('нанимать', 'V'),\n",
              " ('кандидат', 'S'),\n",
              " ('работа', 'S'),\n",
              " ('режим', 'S'),\n",
              " ('home', 'NONLEX'),\n",
              " ('office', 'NONLEX'),\n",
              " ('ценныи', 'NONLEX'),\n",
              " ('кадр', 'S'),\n",
              " ('одинаково', 'ADV'),\n",
              " ('продуктивныи', 'V'),\n",
              " ('люба', 'S'),\n",
              " ('обстановка', 'S'),\n",
              " ('это', 'S-PRO'),\n",
              " ('удаленщик', 'S'),\n",
              " ('часто', 'ADV'),\n",
              " ('отличаться', 'V'),\n",
              " ('высокии', 'S'),\n",
              " ('уровень', 'S'),\n",
              " ('осознание', 'S'),\n",
              " ('мотивация', 'S'),\n",
              " ('свободолюбивыи', 'S'),\n",
              " ('самодостаточныи', 'S'),\n",
              " ('склонныи', 'S'),\n",
              " ('самостоятельныи', 'V'),\n",
              " ('принятие', 'S'),\n",
              " ('решение', 'S'),\n",
              " ('главныи', 'S'),\n",
              " ('минус', 'S'),\n",
              " ('удаленныи', 'V'),\n",
              " ('сотрудник', 'S'),\n",
              " ('необходимость', 'S'),\n",
              " ('индивидуальныи', 'V'),\n",
              " ('подход', 'S'),\n",
              " ('поделиться', 'V'),\n",
              " ('управлять', 'V'),\n",
              " ('партнер', 'S'),\n",
              " ('selecty', 'NONLEX'),\n",
              " ('арсении', 'S'),\n",
              " ('федоткина', 'S'),\n",
              " ('добавить', 'V'),\n",
              " ('весь', 'A-PRO=m'),\n",
              " ('собеседование', 'S'),\n",
              " ('рекрутинговыи', 'S'),\n",
              " ('агентство', 'S'),\n",
              " ('selecty', 'NONLEX'),\n",
              " ('проходить', 'V'),\n",
              " ('дистанционно', 'ADV'),\n",
              " ('бизнес', 'S'),\n",
              " ('готовыи', 'S'),\n",
              " ('такои', 'A-PRO=n'),\n",
              " ('условие', 'S'),\n",
              " ('набирать', 'V'),\n",
              " ('человек', 'S'),\n",
              " ('частность', 'S'),\n",
              " ('проект', 'S'),\n",
              " ('number_token', 'NONLEX'),\n",
              " ('набирать', 'V'),\n",
              " ('персонал', 'S'),\n",
              " ('постоянныи', 'S'),\n",
              " ('удаленныи', 'S'),\n",
              " ('работа', 'S'),\n",
              " ('остальнои', 'S'),\n",
              " ('number_token', 'NONLEX'),\n",
              " ('проект', 'S'),\n",
              " ('сотрудник', 'S'),\n",
              " ('которыи', 'S'),\n",
              " ('трудоустроить', 'V'),\n",
              " ('временнои', 'S'),\n",
              " ('удаленка', 'S'),\n",
              " ('последующии', 'V'),\n",
              " ('выход', 'S'),\n",
              " ('офис', 'S'),\n",
              " ('руководство', 'S'),\n",
              " ('многии', 'S'),\n",
              " ('компания', 'S'),\n",
              " ('осознать', 'V'),\n",
              " ('штат', 'S'),\n",
              " ('приитись', 'V'),\n",
              " ('сокращать', 'V'),\n",
              " ('знать', 'V'),\n",
              " ('итог', 'S'),\n",
              " ('необходимыи', 'A=n'),\n",
              " ('спасение', 'S'),\n",
              " ('корабль', 'S'),\n",
              " ('ответ', 'S'),\n",
              " ('простои', 'S'),\n",
              " ('это', 'S-PRO'),\n",
              " ('менеджер', 'S'),\n",
              " ('обладать', 'V'),\n",
              " ('определенныи', 'S'),\n",
              " ('набор', 'S'),\n",
              " ('качество', 'S'),\n",
              " ('среди', 'PR'),\n",
              " ('сумасшедшии', 'S'),\n",
              " ('стрессоустоичивость', 'S'),\n",
              " ('талант', 'S'),\n",
              " ('область', 'S'),\n",
              " ('операционныи', 'S'),\n",
              " ('антикризисныи', 'S'),\n",
              " ('управление', 'S'),\n",
              " ('мощныи', 'S'),\n",
              " ('энергетика', 'S'),\n",
              " ('гибкость', 'S'),\n",
              " ('готовность', 'S'),\n",
              " ('брать', 'V'),\n",
              " ('ответственность', 'S'),\n",
              " ('принимать', 'V'),\n",
              " ('решение', 'S'),\n",
              " ('эффективно', 'ADV'),\n",
              " ('рулить', 'V'),\n",
              " ('команда', 'S'),\n",
              " ('удаленка', 'S'),\n",
              " ('самыи', 'S'),\n",
              " ('оптимистичныи', 'S'),\n",
              " ('сценарии', 'S'),\n",
              " ('ожидать', 'V'),\n",
              " ('продление', 'S'),\n",
              " ('карантин', 'S'),\n",
              " ('лето', 'S'),\n",
              " ('это', 'S-PRO'),\n",
              " ('управляемыи', 'S'),\n",
              " ('пик', 'S'),\n",
              " ('полгода', 'S'),\n",
              " ('ситуация', 'S'),\n",
              " ('должныи', 'S'),\n",
              " ('стабилизироваться', 'V'),\n",
              " ('многии', 'S'),\n",
              " ('зависеть', 'V'),\n",
              " ('человек', 'S'),\n",
              " ('команда', 'S'),\n",
              " ('которыи', 'S'),\n",
              " ('ставить', 'V'),\n",
              " ('нога', 'S'),\n",
              " ('многострадальныи', 'S'),\n",
              " ('бизнес', 'S')]"
            ]
          },
          "metadata": {
            "tags": []
          },
          "execution_count": 152
        }
      ]
    },
    {
      "cell_type": "code",
      "metadata": {
        "id": "6d8dgpazBP6b",
        "outputId": "f687a1e3-8f52-486d-d7fe-5fe9cbb0b7e3",
        "colab": {
          "base_uri": "https://localhost:8080/",
          "height": 34
        }
      },
      "source": [
        "data.shape"
      ],
      "execution_count": 92,
      "outputs": [
        {
          "output_type": "execute_result",
          "data": {
            "text/plain": [
              "(13355, 37)"
            ]
          },
          "metadata": {
            "tags": []
          },
          "execution_count": 92
        }
      ]
    },
    {
      "cell_type": "code",
      "metadata": {
        "id": "JBjlvDgI6g5t"
      },
      "source": [
        "class mean_vectorizer(object):\n",
        "    def __init__(self, word2vec):\n",
        "        self.word2vec = word2vec\n",
        "        self.dim = len(next(iter(w2v.values())))\n",
        "\n",
        "    def fit(self, X):\n",
        "        return self \n",
        "\n",
        "    def transform(self, X):\n",
        "        return np.array([\n",
        "            np.mean([self.word2vec[w] for w in words if w in self.word2vec] \n",
        "                    or [np.zeros(self.dim)], axis=0)\n",
        "            for words in X\n",
        "        ])"
      ],
      "execution_count": 93,
      "outputs": []
    },
    {
      "cell_type": "code",
      "metadata": {
        "id": "mPTQTKFV6lxu",
        "outputId": "77216a1e-13ce-454e-f084-c0b8e0966178",
        "colab": {
          "base_uri": "https://localhost:8080/",
          "height": 180
        }
      },
      "source": [
        "data_mean=mean_vectorizer(w2v).fit(data['0']).transform(data['0'])\n",
        "print(data_mean.shape)"
      ],
      "execution_count": 94,
      "outputs": [
        {
          "output_type": "error",
          "ename": "NameError",
          "evalue": "ignored",
          "traceback": [
            "\u001b[0;31m---------------------------------------------------------------------------\u001b[0m",
            "\u001b[0;31mNameError\u001b[0m                                 Traceback (most recent call last)",
            "\u001b[0;32m<ipython-input-94-25fe11fe591c>\u001b[0m in \u001b[0;36m<module>\u001b[0;34m()\u001b[0m\n\u001b[0;32m----> 1\u001b[0;31m \u001b[0mdata_mean\u001b[0m\u001b[0;34m=\u001b[0m\u001b[0mmean_vectorizer\u001b[0m\u001b[0;34m(\u001b[0m\u001b[0mw2v\u001b[0m\u001b[0;34m)\u001b[0m\u001b[0;34m.\u001b[0m\u001b[0mfit\u001b[0m\u001b[0;34m(\u001b[0m\u001b[0mdata\u001b[0m\u001b[0;34m[\u001b[0m\u001b[0;34m'0'\u001b[0m\u001b[0;34m]\u001b[0m\u001b[0;34m)\u001b[0m\u001b[0;34m.\u001b[0m\u001b[0mtransform\u001b[0m\u001b[0;34m(\u001b[0m\u001b[0mdata\u001b[0m\u001b[0;34m[\u001b[0m\u001b[0;34m'0'\u001b[0m\u001b[0;34m]\u001b[0m\u001b[0;34m)\u001b[0m\u001b[0;34m\u001b[0m\u001b[0;34m\u001b[0m\u001b[0m\n\u001b[0m\u001b[1;32m      2\u001b[0m \u001b[0mprint\u001b[0m\u001b[0;34m(\u001b[0m\u001b[0mdata_mean\u001b[0m\u001b[0;34m.\u001b[0m\u001b[0mshape\u001b[0m\u001b[0;34m)\u001b[0m\u001b[0;34m\u001b[0m\u001b[0;34m\u001b[0m\u001b[0m\n",
            "\u001b[0;31mNameError\u001b[0m: name 'w2v' is not defined"
          ]
        }
      ]
    },
    {
      "cell_type": "code",
      "metadata": {
        "id": "ysjUDyhz7_mw"
      },
      "source": [
        "def split(train, y, ratio):\n",
        "    idx = round(train.shape[0] * ratio)\n",
        "    return train[:idx, :], train[idx:, :], y[:idx], y[idx:]\n",
        "\n",
        "y = data.target_1_day\n",
        "Xtr, Xval, ytr, yval = split(data_mean, y, 0.8)"
      ],
      "execution_count": 277,
      "outputs": []
    },
    {
      "cell_type": "code",
      "metadata": {
        "id": "YTBAq_N9xI-v"
      },
      "source": [
        "model = Sequential()\n",
        "model.add(Dense(128, input_dim=(Xtr.shape[1])))\n",
        "model.add(Activation('relu'))\n",
        "model.add(Dropout(0.5))\n",
        "model.add(Dense(1))\n",
        "model.add(Activation('sigmoid'))\n",
        "model.compile(loss='binary_crossentropy',\n",
        "              optimizer='adam',\n",
        "              metrics=['binary_accuracy'])"
      ],
      "execution_count": 278,
      "outputs": []
    },
    {
      "cell_type": "code",
      "metadata": {
        "id": "pMrSCu1X_s9A",
        "outputId": "ae777720-8790-458f-b008-2602a3ffde9b",
        "colab": {
          "base_uri": "https://localhost:8080/",
          "height": 1000
        }
      },
      "source": [
        "history = model.fit(Xtr, ytr,\n",
        "                    batch_size=128,\n",
        "                    epochs=100,\n",
        "                   validation_data=(Xval, yval))"
      ],
      "execution_count": 280,
      "outputs": [
        {
          "output_type": "stream",
          "text": [
            "Epoch 1/100\n",
            "84/84 [==============================] - 0s 3ms/step - loss: 0.6928 - binary_accuracy: 0.5132 - val_loss: 0.6895 - val_binary_accuracy: 0.6103\n",
            "Epoch 2/100\n",
            "84/84 [==============================] - 0s 3ms/step - loss: 0.6928 - binary_accuracy: 0.5141 - val_loss: 0.6868 - val_binary_accuracy: 0.6455\n",
            "Epoch 3/100\n",
            "84/84 [==============================] - 0s 3ms/step - loss: 0.6927 - binary_accuracy: 0.5124 - val_loss: 0.6880 - val_binary_accuracy: 0.6252\n",
            "Epoch 4/100\n",
            "84/84 [==============================] - 0s 3ms/step - loss: 0.6928 - binary_accuracy: 0.5100 - val_loss: 0.6876 - val_binary_accuracy: 0.6230\n",
            "Epoch 5/100\n",
            "84/84 [==============================] - 0s 3ms/step - loss: 0.6926 - binary_accuracy: 0.5154 - val_loss: 0.6842 - val_binary_accuracy: 0.6552\n",
            "Epoch 6/100\n",
            "84/84 [==============================] - 0s 3ms/step - loss: 0.6926 - binary_accuracy: 0.5146 - val_loss: 0.6898 - val_binary_accuracy: 0.6046\n",
            "Epoch 7/100\n",
            "84/84 [==============================] - 0s 3ms/step - loss: 0.6927 - binary_accuracy: 0.5171 - val_loss: 0.6888 - val_binary_accuracy: 0.6054\n",
            "Epoch 8/100\n",
            "84/84 [==============================] - 0s 3ms/step - loss: 0.6927 - binary_accuracy: 0.5160 - val_loss: 0.6895 - val_binary_accuracy: 0.6046\n",
            "Epoch 9/100\n",
            "84/84 [==============================] - 0s 3ms/step - loss: 0.6928 - binary_accuracy: 0.5122 - val_loss: 0.6893 - val_binary_accuracy: 0.6065\n",
            "Epoch 10/100\n",
            "84/84 [==============================] - 0s 3ms/step - loss: 0.6926 - binary_accuracy: 0.5168 - val_loss: 0.6879 - val_binary_accuracy: 0.6264\n",
            "Epoch 11/100\n",
            "84/84 [==============================] - 0s 3ms/step - loss: 0.6927 - binary_accuracy: 0.5137 - val_loss: 0.6895 - val_binary_accuracy: 0.6155\n",
            "Epoch 12/100\n",
            "84/84 [==============================] - 0s 3ms/step - loss: 0.6929 - binary_accuracy: 0.5130 - val_loss: 0.6883 - val_binary_accuracy: 0.6226\n",
            "Epoch 13/100\n",
            "84/84 [==============================] - 0s 3ms/step - loss: 0.6925 - binary_accuracy: 0.5135 - val_loss: 0.6900 - val_binary_accuracy: 0.6189\n",
            "Epoch 14/100\n",
            "84/84 [==============================] - 0s 3ms/step - loss: 0.6928 - binary_accuracy: 0.5159 - val_loss: 0.6895 - val_binary_accuracy: 0.5987\n",
            "Epoch 15/100\n",
            "84/84 [==============================] - 0s 3ms/step - loss: 0.6930 - binary_accuracy: 0.5139 - val_loss: 0.6861 - val_binary_accuracy: 0.6301\n",
            "Epoch 16/100\n",
            "84/84 [==============================] - 0s 3ms/step - loss: 0.6928 - binary_accuracy: 0.5143 - val_loss: 0.6889 - val_binary_accuracy: 0.6091\n",
            "Epoch 17/100\n",
            "84/84 [==============================] - 0s 3ms/step - loss: 0.6929 - binary_accuracy: 0.5158 - val_loss: 0.6900 - val_binary_accuracy: 0.6031\n",
            "Epoch 18/100\n",
            "84/84 [==============================] - 0s 3ms/step - loss: 0.6932 - binary_accuracy: 0.5162 - val_loss: 0.6877 - val_binary_accuracy: 0.6177\n",
            "Epoch 19/100\n",
            "84/84 [==============================] - 0s 3ms/step - loss: 0.6927 - binary_accuracy: 0.5153 - val_loss: 0.6875 - val_binary_accuracy: 0.6249\n",
            "Epoch 20/100\n",
            "84/84 [==============================] - 0s 3ms/step - loss: 0.6927 - binary_accuracy: 0.5148 - val_loss: 0.6879 - val_binary_accuracy: 0.6252\n",
            "Epoch 21/100\n",
            "84/84 [==============================] - 0s 3ms/step - loss: 0.6928 - binary_accuracy: 0.5153 - val_loss: 0.6873 - val_binary_accuracy: 0.6181\n",
            "Epoch 22/100\n",
            "84/84 [==============================] - 0s 3ms/step - loss: 0.6927 - binary_accuracy: 0.5127 - val_loss: 0.6873 - val_binary_accuracy: 0.6230\n",
            "Epoch 23/100\n",
            "84/84 [==============================] - 0s 3ms/step - loss: 0.6926 - binary_accuracy: 0.5159 - val_loss: 0.6881 - val_binary_accuracy: 0.6155\n",
            "Epoch 24/100\n",
            "84/84 [==============================] - 0s 3ms/step - loss: 0.6925 - binary_accuracy: 0.5146 - val_loss: 0.6869 - val_binary_accuracy: 0.6144\n",
            "Epoch 25/100\n",
            "84/84 [==============================] - 0s 3ms/step - loss: 0.6924 - binary_accuracy: 0.5180 - val_loss: 0.6891 - val_binary_accuracy: 0.6050\n",
            "Epoch 26/100\n",
            "84/84 [==============================] - 0s 3ms/step - loss: 0.6927 - binary_accuracy: 0.5138 - val_loss: 0.6890 - val_binary_accuracy: 0.6136\n",
            "Epoch 27/100\n",
            "84/84 [==============================] - 0s 3ms/step - loss: 0.6926 - binary_accuracy: 0.5165 - val_loss: 0.6853 - val_binary_accuracy: 0.6413\n",
            "Epoch 28/100\n",
            "84/84 [==============================] - 0s 3ms/step - loss: 0.6928 - binary_accuracy: 0.5135 - val_loss: 0.6874 - val_binary_accuracy: 0.6245\n",
            "Epoch 29/100\n",
            "84/84 [==============================] - 0s 3ms/step - loss: 0.6927 - binary_accuracy: 0.5168 - val_loss: 0.6919 - val_binary_accuracy: 0.5972\n",
            "Epoch 30/100\n",
            "84/84 [==============================] - 0s 3ms/step - loss: 0.6925 - binary_accuracy: 0.5148 - val_loss: 0.6904 - val_binary_accuracy: 0.6046\n",
            "Epoch 31/100\n",
            "84/84 [==============================] - 0s 3ms/step - loss: 0.6927 - binary_accuracy: 0.5170 - val_loss: 0.6896 - val_binary_accuracy: 0.6129\n",
            "Epoch 32/100\n",
            "84/84 [==============================] - 0s 3ms/step - loss: 0.6925 - binary_accuracy: 0.5147 - val_loss: 0.6875 - val_binary_accuracy: 0.6234\n",
            "Epoch 33/100\n",
            "84/84 [==============================] - 0s 3ms/step - loss: 0.6926 - binary_accuracy: 0.5121 - val_loss: 0.6897 - val_binary_accuracy: 0.6222\n",
            "Epoch 34/100\n",
            "84/84 [==============================] - 0s 3ms/step - loss: 0.6927 - binary_accuracy: 0.5145 - val_loss: 0.6875 - val_binary_accuracy: 0.6234\n",
            "Epoch 35/100\n",
            "84/84 [==============================] - 0s 3ms/step - loss: 0.6927 - binary_accuracy: 0.5158 - val_loss: 0.6871 - val_binary_accuracy: 0.6185\n",
            "Epoch 36/100\n",
            "84/84 [==============================] - 0s 3ms/step - loss: 0.6926 - binary_accuracy: 0.5178 - val_loss: 0.6913 - val_binary_accuracy: 0.5949\n",
            "Epoch 37/100\n",
            "84/84 [==============================] - 0s 3ms/step - loss: 0.6926 - binary_accuracy: 0.5162 - val_loss: 0.6867 - val_binary_accuracy: 0.6260\n",
            "Epoch 38/100\n",
            "84/84 [==============================] - 0s 3ms/step - loss: 0.6927 - binary_accuracy: 0.5135 - val_loss: 0.6891 - val_binary_accuracy: 0.6054\n",
            "Epoch 39/100\n",
            "84/84 [==============================] - 0s 3ms/step - loss: 0.6926 - binary_accuracy: 0.5149 - val_loss: 0.6874 - val_binary_accuracy: 0.6219\n",
            "Epoch 40/100\n",
            "84/84 [==============================] - 0s 3ms/step - loss: 0.6927 - binary_accuracy: 0.5138 - val_loss: 0.6868 - val_binary_accuracy: 0.6241\n",
            "Epoch 41/100\n",
            "84/84 [==============================] - 0s 3ms/step - loss: 0.6925 - binary_accuracy: 0.5129 - val_loss: 0.6862 - val_binary_accuracy: 0.6282\n",
            "Epoch 42/100\n",
            "84/84 [==============================] - 0s 3ms/step - loss: 0.6925 - binary_accuracy: 0.5142 - val_loss: 0.6903 - val_binary_accuracy: 0.6058\n",
            "Epoch 43/100\n",
            "84/84 [==============================] - 0s 3ms/step - loss: 0.6926 - binary_accuracy: 0.5138 - val_loss: 0.6869 - val_binary_accuracy: 0.6308\n",
            "Epoch 44/100\n",
            "84/84 [==============================] - 0s 4ms/step - loss: 0.6925 - binary_accuracy: 0.5153 - val_loss: 0.6871 - val_binary_accuracy: 0.6241\n",
            "Epoch 45/100\n",
            "84/84 [==============================] - 0s 4ms/step - loss: 0.6925 - binary_accuracy: 0.5161 - val_loss: 0.6875 - val_binary_accuracy: 0.6219\n",
            "Epoch 46/100\n",
            "84/84 [==============================] - 0s 4ms/step - loss: 0.6923 - binary_accuracy: 0.5186 - val_loss: 0.6916 - val_binary_accuracy: 0.5942\n",
            "Epoch 47/100\n",
            "84/84 [==============================] - 0s 3ms/step - loss: 0.6927 - binary_accuracy: 0.5155 - val_loss: 0.6886 - val_binary_accuracy: 0.6080\n",
            "Epoch 48/100\n",
            "84/84 [==============================] - 0s 3ms/step - loss: 0.6926 - binary_accuracy: 0.5172 - val_loss: 0.6882 - val_binary_accuracy: 0.6088\n",
            "Epoch 49/100\n",
            "84/84 [==============================] - 0s 3ms/step - loss: 0.6926 - binary_accuracy: 0.5163 - val_loss: 0.6888 - val_binary_accuracy: 0.6076\n",
            "Epoch 50/100\n",
            "84/84 [==============================] - 0s 3ms/step - loss: 0.6926 - binary_accuracy: 0.5158 - val_loss: 0.6892 - val_binary_accuracy: 0.6016\n",
            "Epoch 51/100\n",
            "84/84 [==============================] - 0s 3ms/step - loss: 0.6925 - binary_accuracy: 0.5138 - val_loss: 0.6902 - val_binary_accuracy: 0.6073\n",
            "Epoch 52/100\n",
            "84/84 [==============================] - 0s 3ms/step - loss: 0.6926 - binary_accuracy: 0.5164 - val_loss: 0.6881 - val_binary_accuracy: 0.6174\n",
            "Epoch 53/100\n",
            "84/84 [==============================] - 0s 3ms/step - loss: 0.6927 - binary_accuracy: 0.5166 - val_loss: 0.6871 - val_binary_accuracy: 0.6275\n",
            "Epoch 54/100\n",
            "84/84 [==============================] - 0s 3ms/step - loss: 0.6925 - binary_accuracy: 0.5139 - val_loss: 0.6881 - val_binary_accuracy: 0.6162\n",
            "Epoch 55/100\n",
            "84/84 [==============================] - 0s 3ms/step - loss: 0.6927 - binary_accuracy: 0.5140 - val_loss: 0.6894 - val_binary_accuracy: 0.6080\n",
            "Epoch 56/100\n",
            "84/84 [==============================] - 0s 3ms/step - loss: 0.6926 - binary_accuracy: 0.5156 - val_loss: 0.6898 - val_binary_accuracy: 0.6106\n",
            "Epoch 57/100\n",
            "84/84 [==============================] - 0s 3ms/step - loss: 0.6926 - binary_accuracy: 0.5137 - val_loss: 0.6879 - val_binary_accuracy: 0.6151\n",
            "Epoch 58/100\n",
            "84/84 [==============================] - 0s 3ms/step - loss: 0.6926 - binary_accuracy: 0.5139 - val_loss: 0.6881 - val_binary_accuracy: 0.6129\n",
            "Epoch 59/100\n",
            "84/84 [==============================] - 0s 3ms/step - loss: 0.6927 - binary_accuracy: 0.5170 - val_loss: 0.6895 - val_binary_accuracy: 0.5990\n",
            "Epoch 60/100\n",
            "84/84 [==============================] - 0s 3ms/step - loss: 0.6925 - binary_accuracy: 0.5167 - val_loss: 0.6907 - val_binary_accuracy: 0.6005\n",
            "Epoch 61/100\n",
            "84/84 [==============================] - 0s 3ms/step - loss: 0.6926 - binary_accuracy: 0.5159 - val_loss: 0.6888 - val_binary_accuracy: 0.6095\n",
            "Epoch 62/100\n",
            "84/84 [==============================] - 0s 3ms/step - loss: 0.6922 - binary_accuracy: 0.5187 - val_loss: 0.6913 - val_binary_accuracy: 0.5942\n",
            "Epoch 63/100\n",
            "84/84 [==============================] - 0s 3ms/step - loss: 0.6925 - binary_accuracy: 0.5158 - val_loss: 0.6904 - val_binary_accuracy: 0.5934\n",
            "Epoch 64/100\n",
            "84/84 [==============================] - 0s 3ms/step - loss: 0.6928 - binary_accuracy: 0.5141 - val_loss: 0.6842 - val_binary_accuracy: 0.6496\n",
            "Epoch 65/100\n",
            "84/84 [==============================] - 0s 3ms/step - loss: 0.6927 - binary_accuracy: 0.5158 - val_loss: 0.6886 - val_binary_accuracy: 0.6095\n",
            "Epoch 66/100\n",
            "84/84 [==============================] - 0s 3ms/step - loss: 0.6925 - binary_accuracy: 0.5157 - val_loss: 0.6872 - val_binary_accuracy: 0.6219\n",
            "Epoch 67/100\n",
            "84/84 [==============================] - 0s 3ms/step - loss: 0.6925 - binary_accuracy: 0.5144 - val_loss: 0.6887 - val_binary_accuracy: 0.6121\n",
            "Epoch 68/100\n",
            "84/84 [==============================] - 0s 3ms/step - loss: 0.6926 - binary_accuracy: 0.5168 - val_loss: 0.6876 - val_binary_accuracy: 0.6181\n",
            "Epoch 69/100\n",
            "84/84 [==============================] - 0s 3ms/step - loss: 0.6927 - binary_accuracy: 0.5148 - val_loss: 0.6873 - val_binary_accuracy: 0.6271\n",
            "Epoch 70/100\n",
            "84/84 [==============================] - 0s 3ms/step - loss: 0.6924 - binary_accuracy: 0.5142 - val_loss: 0.6879 - val_binary_accuracy: 0.6155\n",
            "Epoch 71/100\n",
            "84/84 [==============================] - 0s 3ms/step - loss: 0.6923 - binary_accuracy: 0.5175 - val_loss: 0.6878 - val_binary_accuracy: 0.6181\n",
            "Epoch 72/100\n",
            "84/84 [==============================] - 0s 3ms/step - loss: 0.6925 - binary_accuracy: 0.5182 - val_loss: 0.6892 - val_binary_accuracy: 0.6069\n",
            "Epoch 73/100\n",
            "84/84 [==============================] - 0s 3ms/step - loss: 0.6921 - binary_accuracy: 0.5190 - val_loss: 0.6912 - val_binary_accuracy: 0.5975\n",
            "Epoch 74/100\n",
            "84/84 [==============================] - 0s 3ms/step - loss: 0.6927 - binary_accuracy: 0.5185 - val_loss: 0.6867 - val_binary_accuracy: 0.6252\n",
            "Epoch 75/100\n",
            "84/84 [==============================] - 0s 3ms/step - loss: 0.6925 - binary_accuracy: 0.5164 - val_loss: 0.6888 - val_binary_accuracy: 0.6099\n",
            "Epoch 76/100\n",
            "84/84 [==============================] - 0s 3ms/step - loss: 0.6925 - binary_accuracy: 0.5162 - val_loss: 0.6859 - val_binary_accuracy: 0.6290\n",
            "Epoch 77/100\n",
            "84/84 [==============================] - 0s 3ms/step - loss: 0.6925 - binary_accuracy: 0.5143 - val_loss: 0.6891 - val_binary_accuracy: 0.6103\n",
            "Epoch 78/100\n",
            "84/84 [==============================] - 0s 3ms/step - loss: 0.6928 - binary_accuracy: 0.5159 - val_loss: 0.6902 - val_binary_accuracy: 0.6088\n",
            "Epoch 79/100\n",
            "84/84 [==============================] - 0s 3ms/step - loss: 0.6928 - binary_accuracy: 0.5193 - val_loss: 0.6889 - val_binary_accuracy: 0.6088\n",
            "Epoch 80/100\n",
            "84/84 [==============================] - 0s 3ms/step - loss: 0.6925 - binary_accuracy: 0.5160 - val_loss: 0.6890 - val_binary_accuracy: 0.6076\n",
            "Epoch 81/100\n",
            "84/84 [==============================] - 0s 3ms/step - loss: 0.6923 - binary_accuracy: 0.5151 - val_loss: 0.6885 - val_binary_accuracy: 0.6110\n",
            "Epoch 82/100\n",
            "84/84 [==============================] - 0s 3ms/step - loss: 0.6923 - binary_accuracy: 0.5191 - val_loss: 0.6894 - val_binary_accuracy: 0.5990\n",
            "Epoch 83/100\n",
            "84/84 [==============================] - 0s 3ms/step - loss: 0.6924 - binary_accuracy: 0.5149 - val_loss: 0.6878 - val_binary_accuracy: 0.6170\n",
            "Epoch 84/100\n",
            "84/84 [==============================] - 0s 3ms/step - loss: 0.6921 - binary_accuracy: 0.5182 - val_loss: 0.6887 - val_binary_accuracy: 0.6035\n",
            "Epoch 85/100\n",
            "84/84 [==============================] - 0s 3ms/step - loss: 0.6925 - binary_accuracy: 0.5128 - val_loss: 0.6888 - val_binary_accuracy: 0.6125\n",
            "Epoch 86/100\n",
            "84/84 [==============================] - 0s 3ms/step - loss: 0.6921 - binary_accuracy: 0.5234 - val_loss: 0.6880 - val_binary_accuracy: 0.6043\n",
            "Epoch 87/100\n",
            "84/84 [==============================] - 0s 3ms/step - loss: 0.6928 - binary_accuracy: 0.5161 - val_loss: 0.6855 - val_binary_accuracy: 0.6245\n",
            "Epoch 88/100\n",
            "84/84 [==============================] - 0s 3ms/step - loss: 0.6925 - binary_accuracy: 0.5184 - val_loss: 0.6879 - val_binary_accuracy: 0.6148\n",
            "Epoch 89/100\n",
            "84/84 [==============================] - 0s 3ms/step - loss: 0.6923 - binary_accuracy: 0.5171 - val_loss: 0.6892 - val_binary_accuracy: 0.6069\n",
            "Epoch 90/100\n",
            "84/84 [==============================] - 0s 3ms/step - loss: 0.6922 - binary_accuracy: 0.5171 - val_loss: 0.6845 - val_binary_accuracy: 0.6316\n",
            "Epoch 91/100\n",
            "84/84 [==============================] - 0s 3ms/step - loss: 0.6925 - binary_accuracy: 0.5191 - val_loss: 0.6884 - val_binary_accuracy: 0.5994\n",
            "Epoch 92/100\n",
            "84/84 [==============================] - 0s 3ms/step - loss: 0.6926 - binary_accuracy: 0.5186 - val_loss: 0.6923 - val_binary_accuracy: 0.5799\n",
            "Epoch 93/100\n",
            "84/84 [==============================] - 0s 3ms/step - loss: 0.6924 - binary_accuracy: 0.5190 - val_loss: 0.6878 - val_binary_accuracy: 0.6106\n",
            "Epoch 94/100\n",
            "84/84 [==============================] - 0s 3ms/step - loss: 0.6925 - binary_accuracy: 0.5166 - val_loss: 0.6876 - val_binary_accuracy: 0.6166\n",
            "Epoch 95/100\n",
            "84/84 [==============================] - 0s 3ms/step - loss: 0.6922 - binary_accuracy: 0.5197 - val_loss: 0.6875 - val_binary_accuracy: 0.6159\n",
            "Epoch 96/100\n",
            "84/84 [==============================] - 0s 3ms/step - loss: 0.6922 - binary_accuracy: 0.5177 - val_loss: 0.6891 - val_binary_accuracy: 0.5990\n",
            "Epoch 97/100\n",
            "84/84 [==============================] - 0s 3ms/step - loss: 0.6925 - binary_accuracy: 0.5168 - val_loss: 0.6855 - val_binary_accuracy: 0.6282\n",
            "Epoch 98/100\n",
            "84/84 [==============================] - 0s 3ms/step - loss: 0.6924 - binary_accuracy: 0.5167 - val_loss: 0.6874 - val_binary_accuracy: 0.6181\n",
            "Epoch 99/100\n",
            "84/84 [==============================] - 0s 3ms/step - loss: 0.6924 - binary_accuracy: 0.5157 - val_loss: 0.6884 - val_binary_accuracy: 0.6151\n",
            "Epoch 100/100\n",
            "84/84 [==============================] - 0s 3ms/step - loss: 0.6926 - binary_accuracy: 0.5169 - val_loss: 0.6882 - val_binary_accuracy: 0.6148\n"
          ],
          "name": "stdout"
        }
      ]
    },
    {
      "cell_type": "code",
      "metadata": {
        "id": "92sNEQiVHBtx",
        "outputId": "95587067-a51c-4eea-a435-e1cdb2b92f03",
        "colab": {
          "base_uri": "https://localhost:8080/",
          "height": 163
        }
      },
      "source": [
        "model.predict(Xval).mean()"
      ],
      "execution_count": 1,
      "outputs": [
        {
          "output_type": "error",
          "ename": "NameError",
          "evalue": "ignored",
          "traceback": [
            "\u001b[0;31m---------------------------------------------------------------------------\u001b[0m",
            "\u001b[0;31mNameError\u001b[0m                                 Traceback (most recent call last)",
            "\u001b[0;32m<ipython-input-1-3c2e32800e3b>\u001b[0m in \u001b[0;36m<module>\u001b[0;34m()\u001b[0m\n\u001b[0;32m----> 1\u001b[0;31m \u001b[0mmodel\u001b[0m\u001b[0;34m.\u001b[0m\u001b[0mpredict\u001b[0m\u001b[0;34m(\u001b[0m\u001b[0mXval\u001b[0m\u001b[0;34m)\u001b[0m\u001b[0;34m.\u001b[0m\u001b[0mmean\u001b[0m\u001b[0;34m(\u001b[0m\u001b[0;34m)\u001b[0m\u001b[0;34m\u001b[0m\u001b[0;34m\u001b[0m\u001b[0m\n\u001b[0m",
            "\u001b[0;31mNameError\u001b[0m: name 'model' is not defined"
          ]
        }
      ]
    },
    {
      "cell_type": "code",
      "metadata": {
        "id": "ZcpbT3XIw50w",
        "outputId": "4904241f-e006-49e0-9ee7-9846dffc16af",
        "colab": {
          "base_uri": "https://localhost:8080/",
          "height": 34
        }
      },
      "source": [
        "accuracy_score(yval, np.where(model.predict(Xval) > 0.5, 1, 0))\n",
        "# качество порядка 61% на РТС и обучение-тест 80% новостей РБК"
      ],
      "execution_count": 282,
      "outputs": [
        {
          "output_type": "execute_result",
          "data": {
            "text/plain": [
              "0.6147510295769375"
            ]
          },
          "metadata": {
            "tags": []
          },
          "execution_count": 282
        }
      ]
    },
    {
      "cell_type": "code",
      "metadata": {
        "id": "oD3mx-Fg9fng"
      },
      "source": [
        "import zipfile\n",
        "import os\n",
        "import time\n",
        "from google.colab import drive\n",
        "from PIL import Image"
      ],
      "execution_count": 96,
      "outputs": []
    },
    {
      "cell_type": "code",
      "metadata": {
        "id": "1a2DrTdKBO6E",
        "outputId": "1e5fea02-0b6f-467c-c6f9-9212beb0756a",
        "colab": {
          "base_uri": "https://localhost:8080/",
          "height": 34
        }
      },
      "source": [
        "drive.mount('/content/drive')"
      ],
      "execution_count": 99,
      "outputs": [
        {
          "output_type": "stream",
          "text": [
            "Mounted at /content/drive\n"
          ],
          "name": "stdout"
        }
      ]
    },
    {
      "cell_type": "code",
      "metadata": {
        "id": "Vuyz--WE92wO",
        "outputId": "db575001-a993-406f-8123-9fa17537a86b",
        "colab": {
          "base_uri": "https://localhost:8080/",
          "height": 54
        }
      },
      "source": [
        "zip_file = '/content/drive/My Drive/184.zip'\n",
        "\n",
        "z = zipfile.ZipFile(zip_file, 'r')\n",
        "z.extractall()\n",
        "\n",
        "print(os.listdir())"
      ],
      "execution_count": 100,
      "outputs": [
        {
          "output_type": "stream",
          "text": [
            "['.config', 'model.txt', 'rbc_headers.csv', 'meta.json', 'README', 'GoogleTranslateForColab-3e0d35bae1f8.json', 'pymorphy2-dicts', 'model.bin', 'rbc_clean_text.csv', 'dict.opcorpora.xml', 'dict.opcorpora.xml.bz2', 'drive', 'sample_data']\n"
          ],
          "name": "stdout"
        }
      ]
    },
    {
      "cell_type": "code",
      "metadata": {
        "id": "DjbQn7H4-49O",
        "outputId": "c70733b5-9c73-44f5-9999-aa7e27efd111",
        "colab": {
          "base_uri": "https://localhost:8080/",
          "height": 377
        }
      },
      "source": [
        ""
      ],
      "execution_count": 8,
      "outputs": [
        {
          "output_type": "stream",
          "text": [
            "--2020-09-29 22:32:25--  https://drive.google.com/drive/u/0/folders/1kv8IwKk_iOuwj34w8nBhrNI_ghqpC5mP\n",
            "Resolving drive.google.com (drive.google.com)... 108.177.112.139, 108.177.112.101, 108.177.112.138, ...\n",
            "Connecting to drive.google.com (drive.google.com)|108.177.112.139|:443... connected.\n",
            "HTTP request sent, awaiting response... 302 Found\n",
            "Location: https://drive.google.com/drive/folders/1kv8IwKk_iOuwj34w8nBhrNI_ghqpC5mP [following]\n",
            "--2020-09-29 22:32:25--  https://drive.google.com/drive/folders/1kv8IwKk_iOuwj34w8nBhrNI_ghqpC5mP\n",
            "Reusing existing connection to drive.google.com:443.\n",
            "HTTP request sent, awaiting response... 302 Found\n",
            "Location: https://accounts.google.com/ServiceLogin?service=wise&passive=1209600&continue=https://drive.google.com/drive/folders/1kv8IwKk_iOuwj34w8nBhrNI_ghqpC5mP&followup=https://drive.google.com/drive/folders/1kv8IwKk_iOuwj34w8nBhrNI_ghqpC5mP [following]\n",
            "--2020-09-29 22:32:25--  https://accounts.google.com/ServiceLogin?service=wise&passive=1209600&continue=https://drive.google.com/drive/folders/1kv8IwKk_iOuwj34w8nBhrNI_ghqpC5mP&followup=https://drive.google.com/drive/folders/1kv8IwKk_iOuwj34w8nBhrNI_ghqpC5mP\n",
            "Resolving accounts.google.com (accounts.google.com)... 173.194.197.84, 2607:f8b0:4001:c05::54\n",
            "Connecting to accounts.google.com (accounts.google.com)|173.194.197.84|:443... connected.\n",
            "HTTP request sent, awaiting response... 200 OK\n",
            "Length: unspecified [text/html]\n",
            "Saving to: ‘1kv8IwKk_iOuwj34w8nBhrNI_ghqpC5mP.1’\n",
            "\n",
            "\r          1kv8IwKk_     [<=>                 ]       0  --.-KB/s               \r1kv8IwKk_iOuwj34w8n     [ <=>                ]  59.97K  --.-KB/s    in 0.001s  \n",
            "\n",
            "2020-09-29 22:32:25 (99.0 MB/s) - ‘1kv8IwKk_iOuwj34w8nBhrNI_ghqpC5mP.1’ saved [61410]\n",
            "\n"
          ],
          "name": "stdout"
        }
      ]
    },
    {
      "cell_type": "code",
      "metadata": {
        "id": "JT-yY8gT_UAo"
      },
      "source": [
        ""
      ],
      "execution_count": null,
      "outputs": []
    },
    {
      "cell_type": "markdown",
      "metadata": {
        "id": "D0Gk1qwN0pPi"
      },
      "source": [
        "## Fasttext"
      ]
    },
    {
      "cell_type": "code",
      "metadata": {
        "id": "mzNpVqJ10sG9",
        "outputId": "7d8b705a-53c5-4a89-e722-2493afd5822d",
        "colab": {
          "base_uri": "https://localhost:8080/",
          "height": 85
        }
      },
      "source": [
        "!pip install fasttext"
      ],
      "execution_count": null,
      "outputs": [
        {
          "output_type": "stream",
          "text": [
            "Requirement already satisfied: fasttext in /usr/local/lib/python3.6/dist-packages (0.9.2)\n",
            "Requirement already satisfied: pybind11>=2.2 in /usr/local/lib/python3.6/dist-packages (from fasttext) (2.5.0)\n",
            "Requirement already satisfied: numpy in /usr/local/lib/python3.6/dist-packages (from fasttext) (1.18.5)\n",
            "Requirement already satisfied: setuptools>=0.7.0 in /usr/local/lib/python3.6/dist-packages (from fasttext) (50.3.0)\n"
          ],
          "name": "stdout"
        }
      ]
    },
    {
      "cell_type": "code",
      "metadata": {
        "id": "TSQOd97WeQE4",
        "outputId": "cf16713b-97ea-4519-c949-4996ecf9aad7",
        "colab": {
          "base_uri": "https://localhost:8080/",
          "height": 297
        }
      },
      "source": [
        "sns.countplot(data.target_1_day)"
      ],
      "execution_count": null,
      "outputs": [
        {
          "output_type": "execute_result",
          "data": {
            "text/plain": [
              "<matplotlib.axes._subplots.AxesSubplot at 0x7ff8bbfbf358>"
            ]
          },
          "metadata": {
            "tags": []
          },
          "execution_count": 43
        },
        {
          "output_type": "display_data",
          "data": {
            "image/png": "[encoded data removed]",
            "text/plain": [
              "<Figure size 432x288 with 1 Axes>"
            ]
          },
          "metadata": {
            "tags": [],
            "needs_background": "light"
          }
        }
      ]
    },
    {
      "cell_type": "code",
      "metadata": {
        "id": "vPs3jDS56Mw0",
        "outputId": "79a2ea0c-5f90-46cd-f3c6-2ba063928e1a",
        "colab": {
          "base_uri": "https://localhost:8080/",
          "height": 34
        }
      },
      "source": [
        "#data = data.reset_index(drop=True)\n",
        "data.shape"
      ],
      "execution_count": null,
      "outputs": [
        {
          "output_type": "execute_result",
          "data": {
            "text/plain": [
              "(84166, 37)"
            ]
          },
          "metadata": {
            "tags": []
          },
          "execution_count": 44
        }
      ]
    },
    {
      "cell_type": "code",
      "metadata": {
        "id": "uCMXmIe-0wQh"
      },
      "source": [
        "import fasttext\n",
        " \n",
        "some_texts = list(data.header)[:10_000]\n",
        "some_labels = data.target_1_day[:10_000]\n",
        "\n",
        "df_train = pd.DataFrame({'txt': some_texts, 'target': some_labels})\n",
        "df_train['target'] = df_train['target'].apply(lambda x: '__label__' + str(x))\n",
        "df_train[['target', 'txt']].to_csv('train_data.txt', header=False, index=False, sep=\"\\t\")\n",
        "\n",
        "#fasttext.cbow(\"train_data.txt\", lr=0.05, dim=100, ws=5, epoch=5)\n",
        "model = fasttext.train_supervised(input='train_data.txt', epoch=5)"
      ],
      "execution_count": null,
      "outputs": []
    },
    {
      "cell_type": "code",
      "metadata": {
        "id": "8pWHRv4-BNn3"
      },
      "source": [
        "start = 10_001\n",
        "n = 50_000"
      ],
      "execution_count": null,
      "outputs": []
    },
    {
      "cell_type": "code",
      "metadata": {
        "id": "UQTYqjKK1CNR"
      },
      "source": [
        "pred = []\n",
        "\n",
        "for i in range(n):\n",
        "  \n",
        "  pred.append(model.predict(data.header[start+i], k=1))"
      ],
      "execution_count": null,
      "outputs": []
    },
    {
      "cell_type": "code",
      "metadata": {
        "id": "zWkZaNRg3Qso",
        "outputId": "1cd22b1d-7892-456b-9583-cdcfb8976d0f",
        "colab": {
          "base_uri": "https://localhost:8080/",
          "height": 34
        }
      },
      "source": [
        "acc = []\n",
        "\n",
        "for i in range(n):\n",
        "  if pred[i][0][0] == '__label__1.0':\n",
        "    acc.append(0)\n",
        "  else:\n",
        "    acc.append(1)\n",
        "\n",
        "accuracy_score(acc, data.target_1_day[start:start+n])"
      ],
      "execution_count": null,
      "outputs": [
        {
          "output_type": "execute_result",
          "data": {
            "text/plain": [
              "0.5132"
            ]
          },
          "metadata": {
            "tags": []
          },
          "execution_count": 105
        }
      ]
    },
    {
      "cell_type": "code",
      "metadata": {
        "id": "SKnE3zoLE3d8",
        "outputId": "d91a601e-844c-4789-d4a9-225beab8442d",
        "colab": {
          "base_uri": "https://localhost:8080/",
          "height": 297
        }
      },
      "source": [
        "sns.countplot(data.target_1_day[:50_000])"
      ],
      "execution_count": null,
      "outputs": [
        {
          "output_type": "execute_result",
          "data": {
            "text/plain": [
              "<matplotlib.axes._subplots.AxesSubplot at 0x7ff8bb1d3780>"
            ]
          },
          "metadata": {
            "tags": []
          },
          "execution_count": 80
        },
        {
          "output_type": "display_data",
          "data": {
            "image/png": "[encoded data removed]",
            "text/plain": [
              "<Figure size 432x288 with 1 Axes>"
            ]
          },
          "metadata": {
            "tags": [],
            "needs_background": "light"
          }
        }
      ]
    },
    {
      "cell_type": "code",
      "metadata": {
        "id": "jPQRXVxVDTJT",
        "outputId": "cb9b99ec-177b-446f-845a-8c9ea1991e2c",
        "colab": {
          "base_uri": "https://localhost:8080/",
          "height": 297
        }
      },
      "source": [
        "sns.countplot(data.target_1_day[10_000:60_000])"
      ],
      "execution_count": null,
      "outputs": [
        {
          "output_type": "execute_result",
          "data": {
            "text/plain": [
              "<matplotlib.axes._subplots.AxesSubplot at 0x7ff8ba7a2198>"
            ]
          },
          "metadata": {
            "tags": []
          },
          "execution_count": 107
        },
        {
          "output_type": "display_data",
          "data": {
            "image/png": "[encoded data removed]",
            "text/plain": [
              "<Figure size 432x288 with 1 Axes>"
            ]
          },
          "metadata": {
            "tags": [],
            "needs_background": "light"
          }
        }
      ]
    },
    {
      "cell_type": "code",
      "metadata": {
        "id": "oYS8ESyOcvSI",
        "outputId": "fff22f42-e9c6-4f26-b06a-57e21181932f",
        "colab": {
          "base_uri": "https://localhost:8080/",
          "height": 282
        }
      },
      "source": [
        "sns.countplot(acc)"
      ],
      "execution_count": null,
      "outputs": [
        {
          "output_type": "execute_result",
          "data": {
            "text/plain": [
              "<matplotlib.axes._subplots.AxesSubplot at 0x7ff8bb36c3c8>"
            ]
          },
          "metadata": {
            "tags": []
          },
          "execution_count": 106
        },
        {
          "output_type": "display_data",
          "data": {
            "image/png": "[encoded data removed]",
            "text/plain": [
              "<Figure size 432x288 with 1 Axes>"
            ]
          },
          "metadata": {
            "tags": [],
            "needs_background": "light"
          }
        }
      ]
    },
    {
      "cell_type": "code",
      "metadata": {
        "id": "c0IwFTfWABMg",
        "outputId": "f9c3a895-f0f6-4bd6-e439-9d8e986be15a",
        "colab": {
          "base_uri": "https://localhost:8080/",
          "height": 442
        }
      },
      "source": [
        "%%time\n",
        "ngram_range = [(1, 4)]\n",
        "max_features = [10500]\n",
        "min_df = [1]\n",
        "max_df = [500]\n",
        "\n",
        "print('Result for clean text: \\n')\n",
        "for i in range(len(max_df)):\n",
        "  estimation_simple_model(text=data['clean_text'], \n",
        "                            target=data.target_1_day,\n",
        "                            vectorize='tf_idf', ngram_range=ngram_range[0], max_features=max_features[0], min_df=min_df[0], max_df=max_df[0])"
      ],
      "execution_count": null,
      "outputs": [
        {
          "output_type": "stream",
          "text": [
            "Result for clean text: \n",
            "\n"
          ],
          "name": "stdout"
        },
        {
          "output_type": "error",
          "ename": "KeyboardInterrupt",
          "evalue": "ignored",
          "traceback": [
            "\u001b[0;31m---------------------------------------------------------------------------\u001b[0m",
            "\u001b[0;31mKeyboardInterrupt\u001b[0m                         Traceback (most recent call last)",
            "\u001b[0;32m<ipython-input-219-fb9ff5aa5e22>\u001b[0m in \u001b[0;36m<module>\u001b[0;34m()\u001b[0m\n\u001b[0;32m----> 1\u001b[0;31m \u001b[0mget_ipython\u001b[0m\u001b[0;34m(\u001b[0m\u001b[0;34m)\u001b[0m\u001b[0;34m.\u001b[0m\u001b[0mrun_cell_magic\u001b[0m\u001b[0;34m(\u001b[0m\u001b[0;34m'time'\u001b[0m\u001b[0;34m,\u001b[0m \u001b[0;34m''\u001b[0m\u001b[0;34m,\u001b[0m \u001b[0;34m\"ngram_range = [(1, 4)]\\nmax_features = [10500]\\nmin_df = [1]\\nmax_df = [500]\\n\\nprint('Result for clean text: \\\\n')\\nfor i in range(len(max_df)):\\n  estimation_simple_model(text=data['clean_text'], \\n                            target=data.target_1_day,\\n                            vectorize='tf_idf', ngram_range=ngram_range[0], max_features=max_features[0], min_df=min_df[0], max_df=max_df[0])\"\u001b[0m\u001b[0;34m)\u001b[0m\u001b[0;34m\u001b[0m\u001b[0;34m\u001b[0m\u001b[0m\n\u001b[0m",
            "\u001b[0;32m/usr/local/lib/python3.6/dist-packages/IPython/core/interactiveshell.py\u001b[0m in \u001b[0;36mrun_cell_magic\u001b[0;34m(self, magic_name, line, cell)\u001b[0m\n\u001b[1;32m   2115\u001b[0m             \u001b[0mmagic_arg_s\u001b[0m \u001b[0;34m=\u001b[0m \u001b[0mself\u001b[0m\u001b[0;34m.\u001b[0m\u001b[0mvar_expand\u001b[0m\u001b[0;34m(\u001b[0m\u001b[0mline\u001b[0m\u001b[0;34m,\u001b[0m \u001b[0mstack_depth\u001b[0m\u001b[0;34m)\u001b[0m\u001b[0;34m\u001b[0m\u001b[0;34m\u001b[0m\u001b[0m\n\u001b[1;32m   2116\u001b[0m             \u001b[0;32mwith\u001b[0m \u001b[0mself\u001b[0m\u001b[0;34m.\u001b[0m\u001b[0mbuiltin_trap\u001b[0m\u001b[0;34m:\u001b[0m\u001b[0;34m\u001b[0m\u001b[0;34m\u001b[0m\u001b[0m\n\u001b[0;32m-> 2117\u001b[0;31m                 \u001b[0mresult\u001b[0m \u001b[0;34m=\u001b[0m \u001b[0mfn\u001b[0m\u001b[0;34m(\u001b[0m\u001b[0mmagic_arg_s\u001b[0m\u001b[0;34m,\u001b[0m \u001b[0mcell\u001b[0m\u001b[0;34m)\u001b[0m\u001b[0;34m\u001b[0m\u001b[0;34m\u001b[0m\u001b[0m\n\u001b[0m\u001b[1;32m   2118\u001b[0m             \u001b[0;32mreturn\u001b[0m \u001b[0mresult\u001b[0m\u001b[0;34m\u001b[0m\u001b[0;34m\u001b[0m\u001b[0m\n\u001b[1;32m   2119\u001b[0m \u001b[0;34m\u001b[0m\u001b[0m\n",
            "\u001b[0;32m<decorator-gen-60>\u001b[0m in \u001b[0;36mtime\u001b[0;34m(self, line, cell, local_ns)\u001b[0m\n",
            "\u001b[0;32m/usr/local/lib/python3.6/dist-packages/IPython/core/magic.py\u001b[0m in \u001b[0;36m<lambda>\u001b[0;34m(f, *a, **k)\u001b[0m\n\u001b[1;32m    186\u001b[0m     \u001b[0;31m# but it's overkill for just that one bit of state.\u001b[0m\u001b[0;34m\u001b[0m\u001b[0;34m\u001b[0m\u001b[0;34m\u001b[0m\u001b[0m\n\u001b[1;32m    187\u001b[0m     \u001b[0;32mdef\u001b[0m \u001b[0mmagic_deco\u001b[0m\u001b[0;34m(\u001b[0m\u001b[0marg\u001b[0m\u001b[0;34m)\u001b[0m\u001b[0;34m:\u001b[0m\u001b[0;34m\u001b[0m\u001b[0;34m\u001b[0m\u001b[0m\n\u001b[0;32m--> 188\u001b[0;31m         \u001b[0mcall\u001b[0m \u001b[0;34m=\u001b[0m \u001b[0;32mlambda\u001b[0m \u001b[0mf\u001b[0m\u001b[0;34m,\u001b[0m \u001b[0;34m*\u001b[0m\u001b[0ma\u001b[0m\u001b[0;34m,\u001b[0m \u001b[0;34m**\u001b[0m\u001b[0mk\u001b[0m\u001b[0;34m:\u001b[0m \u001b[0mf\u001b[0m\u001b[0;34m(\u001b[0m\u001b[0;34m*\u001b[0m\u001b[0ma\u001b[0m\u001b[0;34m,\u001b[0m \u001b[0;34m**\u001b[0m\u001b[0mk\u001b[0m\u001b[0;34m)\u001b[0m\u001b[0;34m\u001b[0m\u001b[0;34m\u001b[0m\u001b[0m\n\u001b[0m\u001b[1;32m    189\u001b[0m \u001b[0;34m\u001b[0m\u001b[0m\n\u001b[1;32m    190\u001b[0m         \u001b[0;32mif\u001b[0m \u001b[0mcallable\u001b[0m\u001b[0;34m(\u001b[0m\u001b[0marg\u001b[0m\u001b[0;34m)\u001b[0m\u001b[0;34m:\u001b[0m\u001b[0;34m\u001b[0m\u001b[0;34m\u001b[0m\u001b[0m\n",
            "\u001b[0;32m/usr/local/lib/python3.6/dist-packages/IPython/core/magics/execution.py\u001b[0m in \u001b[0;36mtime\u001b[0;34m(self, line, cell, local_ns)\u001b[0m\n\u001b[1;32m   1191\u001b[0m         \u001b[0;32melse\u001b[0m\u001b[0;34m:\u001b[0m\u001b[0;34m\u001b[0m\u001b[0;34m\u001b[0m\u001b[0m\n\u001b[1;32m   1192\u001b[0m             \u001b[0mst\u001b[0m \u001b[0;34m=\u001b[0m \u001b[0mclock2\u001b[0m\u001b[0;34m(\u001b[0m\u001b[0;34m)\u001b[0m\u001b[0;34m\u001b[0m\u001b[0;34m\u001b[0m\u001b[0m\n\u001b[0;32m-> 1193\u001b[0;31m             \u001b[0mexec\u001b[0m\u001b[0;34m(\u001b[0m\u001b[0mcode\u001b[0m\u001b[0;34m,\u001b[0m \u001b[0mglob\u001b[0m\u001b[0;34m,\u001b[0m \u001b[0mlocal_ns\u001b[0m\u001b[0;34m)\u001b[0m\u001b[0;34m\u001b[0m\u001b[0;34m\u001b[0m\u001b[0m\n\u001b[0m\u001b[1;32m   1194\u001b[0m             \u001b[0mend\u001b[0m \u001b[0;34m=\u001b[0m \u001b[0mclock2\u001b[0m\u001b[0;34m(\u001b[0m\u001b[0;34m)\u001b[0m\u001b[0;34m\u001b[0m\u001b[0;34m\u001b[0m\u001b[0m\n\u001b[1;32m   1195\u001b[0m             \u001b[0mout\u001b[0m \u001b[0;34m=\u001b[0m \u001b[0;32mNone\u001b[0m\u001b[0;34m\u001b[0m\u001b[0;34m\u001b[0m\u001b[0m\n",
            "\u001b[0;32m<timed exec>\u001b[0m in \u001b[0;36m<module>\u001b[0;34m()\u001b[0m\n",
            "\u001b[0;32m<ipython-input-184-42374287757f>\u001b[0m in \u001b[0;36mestimation_simple_model\u001b[0;34m(text, target, vectorize, ngram_range, max_features, min_df, max_df)\u001b[0m\n\u001b[1;32m      7\u001b[0m   \u001b[0;32mglobal\u001b[0m \u001b[0mvectorized_text\u001b[0m\u001b[0;34m\u001b[0m\u001b[0;34m\u001b[0m\u001b[0m\n\u001b[1;32m      8\u001b[0m \u001b[0;34m\u001b[0m\u001b[0m\n\u001b[0;32m----> 9\u001b[0;31m   \u001b[0mvectorized_text\u001b[0m \u001b[0;34m=\u001b[0m \u001b[0mvectorizer\u001b[0m\u001b[0;34m(\u001b[0m\u001b[0mtext\u001b[0m\u001b[0;34m=\u001b[0m\u001b[0mtext\u001b[0m\u001b[0;34m,\u001b[0m \u001b[0mvectorizer\u001b[0m\u001b[0;34m=\u001b[0m\u001b[0mvectorize\u001b[0m\u001b[0;34m,\u001b[0m \u001b[0mngram_range\u001b[0m\u001b[0;34m=\u001b[0m\u001b[0mngram_range\u001b[0m\u001b[0;34m,\u001b[0m \u001b[0mmax_features\u001b[0m\u001b[0;34m=\u001b[0m\u001b[0mmax_features\u001b[0m\u001b[0;34m,\u001b[0m \u001b[0mmin_df\u001b[0m\u001b[0;34m=\u001b[0m\u001b[0mmin_df\u001b[0m\u001b[0;34m,\u001b[0m \u001b[0mmax_df\u001b[0m\u001b[0;34m=\u001b[0m\u001b[0mmax_df\u001b[0m\u001b[0;34m)\u001b[0m\u001b[0;34m\u001b[0m\u001b[0;34m\u001b[0m\u001b[0m\n\u001b[0m\u001b[1;32m     10\u001b[0m \u001b[0;34m\u001b[0m\u001b[0m\n\u001b[1;32m     11\u001b[0m   \u001b[0mtrain_data\u001b[0m\u001b[0;34m,\u001b[0m \u001b[0mtest_data\u001b[0m\u001b[0;34m,\u001b[0m \u001b[0mtrain_target\u001b[0m\u001b[0;34m,\u001b[0m \u001b[0mtest_target\u001b[0m \u001b[0;34m=\u001b[0m \u001b[0mtt\u001b[0m\u001b[0;34m(\u001b[0m\u001b[0mvectorized_text\u001b[0m\u001b[0;34m.\u001b[0m\u001b[0mtoarray\u001b[0m\u001b[0;34m(\u001b[0m\u001b[0;34m)\u001b[0m\u001b[0;34m,\u001b[0m \u001b[0mtarget\u001b[0m\u001b[0;34m,\u001b[0m \u001b[0mtest_size\u001b[0m\u001b[0;34m=\u001b[0m\u001b[0;36m0.2\u001b[0m\u001b[0;34m,\u001b[0m \u001b[0mshuffle\u001b[0m\u001b[0;34m=\u001b[0m\u001b[0;32mFalse\u001b[0m\u001b[0;34m,\u001b[0m \u001b[0mrandom_state\u001b[0m\u001b[0;34m=\u001b[0m\u001b[0;36m42\u001b[0m\u001b[0;34m)\u001b[0m\u001b[0;34m\u001b[0m\u001b[0;34m\u001b[0m\u001b[0m\n",
            "\u001b[0;32m<ipython-input-10-ae2e101ee6c9>\u001b[0m in \u001b[0;36mvectorizer\u001b[0;34m(text, vectorizer, ngram_range, max_features, min_df, max_df)\u001b[0m\n\u001b[1;32m      8\u001b[0m \u001b[0;34m\u001b[0m\u001b[0m\n\u001b[1;32m      9\u001b[0m \u001b[0;34m\u001b[0m\u001b[0m\n\u001b[0;32m---> 10\u001b[0;31m   \u001b[0mX\u001b[0m \u001b[0;34m=\u001b[0m \u001b[0mvectorizer\u001b[0m\u001b[0;34m.\u001b[0m\u001b[0mfit_transform\u001b[0m\u001b[0;34m(\u001b[0m\u001b[0mtext\u001b[0m\u001b[0;34m)\u001b[0m\u001b[0;34m\u001b[0m\u001b[0;34m\u001b[0m\u001b[0m\n\u001b[0m\u001b[1;32m     11\u001b[0m \u001b[0;34m\u001b[0m\u001b[0m\n\u001b[1;32m     12\u001b[0m   \u001b[0;32mreturn\u001b[0m \u001b[0mX\u001b[0m\u001b[0;34m\u001b[0m\u001b[0;34m\u001b[0m\u001b[0m\n",
            "\u001b[0;32m/usr/local/lib/python3.6/dist-packages/sklearn/feature_extraction/text.py\u001b[0m in \u001b[0;36mfit_transform\u001b[0;34m(self, raw_documents, y)\u001b[0m\n\u001b[1;32m   1857\u001b[0m         \"\"\"\n\u001b[1;32m   1858\u001b[0m         \u001b[0mself\u001b[0m\u001b[0;34m.\u001b[0m\u001b[0m_check_params\u001b[0m\u001b[0;34m(\u001b[0m\u001b[0;34m)\u001b[0m\u001b[0;34m\u001b[0m\u001b[0;34m\u001b[0m\u001b[0m\n\u001b[0;32m-> 1859\u001b[0;31m         \u001b[0mX\u001b[0m \u001b[0;34m=\u001b[0m \u001b[0msuper\u001b[0m\u001b[0;34m(\u001b[0m\u001b[0;34m)\u001b[0m\u001b[0;34m.\u001b[0m\u001b[0mfit_transform\u001b[0m\u001b[0;34m(\u001b[0m\u001b[0mraw_documents\u001b[0m\u001b[0;34m)\u001b[0m\u001b[0;34m\u001b[0m\u001b[0;34m\u001b[0m\u001b[0m\n\u001b[0m\u001b[1;32m   1860\u001b[0m         \u001b[0mself\u001b[0m\u001b[0;34m.\u001b[0m\u001b[0m_tfidf\u001b[0m\u001b[0;34m.\u001b[0m\u001b[0mfit\u001b[0m\u001b[0;34m(\u001b[0m\u001b[0mX\u001b[0m\u001b[0;34m)\u001b[0m\u001b[0;34m\u001b[0m\u001b[0;34m\u001b[0m\u001b[0m\n\u001b[1;32m   1861\u001b[0m         \u001b[0;31m# X is already a transformed view of raw_documents so\u001b[0m\u001b[0;34m\u001b[0m\u001b[0;34m\u001b[0m\u001b[0;34m\u001b[0m\u001b[0m\n",
            "\u001b[0;32m/usr/local/lib/python3.6/dist-packages/sklearn/feature_extraction/text.py\u001b[0m in \u001b[0;36mfit_transform\u001b[0;34m(self, raw_documents, y)\u001b[0m\n\u001b[1;32m   1224\u001b[0m \u001b[0;34m\u001b[0m\u001b[0m\n\u001b[1;32m   1225\u001b[0m         \u001b[0;32mif\u001b[0m \u001b[0;32mnot\u001b[0m \u001b[0mself\u001b[0m\u001b[0;34m.\u001b[0m\u001b[0mfixed_vocabulary_\u001b[0m\u001b[0;34m:\u001b[0m\u001b[0;34m\u001b[0m\u001b[0;34m\u001b[0m\u001b[0m\n\u001b[0;32m-> 1226\u001b[0;31m             \u001b[0mX\u001b[0m \u001b[0;34m=\u001b[0m \u001b[0mself\u001b[0m\u001b[0;34m.\u001b[0m\u001b[0m_sort_features\u001b[0m\u001b[0;34m(\u001b[0m\u001b[0mX\u001b[0m\u001b[0;34m,\u001b[0m \u001b[0mvocabulary\u001b[0m\u001b[0;34m)\u001b[0m\u001b[0;34m\u001b[0m\u001b[0;34m\u001b[0m\u001b[0m\n\u001b[0m\u001b[1;32m   1227\u001b[0m \u001b[0;34m\u001b[0m\u001b[0m\n\u001b[1;32m   1228\u001b[0m             \u001b[0mn_doc\u001b[0m \u001b[0;34m=\u001b[0m \u001b[0mX\u001b[0m\u001b[0;34m.\u001b[0m\u001b[0mshape\u001b[0m\u001b[0;34m[\u001b[0m\u001b[0;36m0\u001b[0m\u001b[0;34m]\u001b[0m\u001b[0;34m\u001b[0m\u001b[0;34m\u001b[0m\u001b[0m\n",
            "\u001b[0;32m/usr/local/lib/python3.6/dist-packages/sklearn/feature_extraction/text.py\u001b[0m in \u001b[0;36m_sort_features\u001b[0;34m(self, X, vocabulary)\u001b[0m\n\u001b[1;32m   1061\u001b[0m         \u001b[0mReturns\u001b[0m \u001b[0ma\u001b[0m \u001b[0mreordered\u001b[0m \u001b[0mmatrix\u001b[0m \u001b[0;32mand\u001b[0m \u001b[0mmodifies\u001b[0m \u001b[0mthe\u001b[0m \u001b[0mvocabulary\u001b[0m \u001b[0;32min\u001b[0m \u001b[0mplace\u001b[0m\u001b[0;34m\u001b[0m\u001b[0;34m\u001b[0m\u001b[0m\n\u001b[1;32m   1062\u001b[0m         \"\"\"\n\u001b[0;32m-> 1063\u001b[0;31m         \u001b[0msorted_features\u001b[0m \u001b[0;34m=\u001b[0m \u001b[0msorted\u001b[0m\u001b[0;34m(\u001b[0m\u001b[0mvocabulary\u001b[0m\u001b[0;34m.\u001b[0m\u001b[0mitems\u001b[0m\u001b[0;34m(\u001b[0m\u001b[0;34m)\u001b[0m\u001b[0;34m)\u001b[0m\u001b[0;34m\u001b[0m\u001b[0;34m\u001b[0m\u001b[0m\n\u001b[0m\u001b[1;32m   1064\u001b[0m         \u001b[0mmap_index\u001b[0m \u001b[0;34m=\u001b[0m \u001b[0mnp\u001b[0m\u001b[0;34m.\u001b[0m\u001b[0mempty\u001b[0m\u001b[0;34m(\u001b[0m\u001b[0mlen\u001b[0m\u001b[0;34m(\u001b[0m\u001b[0msorted_features\u001b[0m\u001b[0;34m)\u001b[0m\u001b[0;34m,\u001b[0m \u001b[0mdtype\u001b[0m\u001b[0;34m=\u001b[0m\u001b[0mX\u001b[0m\u001b[0;34m.\u001b[0m\u001b[0mindices\u001b[0m\u001b[0;34m.\u001b[0m\u001b[0mdtype\u001b[0m\u001b[0;34m)\u001b[0m\u001b[0;34m\u001b[0m\u001b[0;34m\u001b[0m\u001b[0m\n\u001b[1;32m   1065\u001b[0m         \u001b[0;32mfor\u001b[0m \u001b[0mnew_val\u001b[0m\u001b[0;34m,\u001b[0m \u001b[0;34m(\u001b[0m\u001b[0mterm\u001b[0m\u001b[0;34m,\u001b[0m \u001b[0mold_val\u001b[0m\u001b[0;34m)\u001b[0m \u001b[0;32min\u001b[0m \u001b[0menumerate\u001b[0m\u001b[0;34m(\u001b[0m\u001b[0msorted_features\u001b[0m\u001b[0;34m)\u001b[0m\u001b[0;34m:\u001b[0m\u001b[0;34m\u001b[0m\u001b[0;34m\u001b[0m\u001b[0m\n",
            "\u001b[0;31mKeyboardInterrupt\u001b[0m: "
          ]
        }
      ]
    },
    {
      "cell_type": "code",
      "metadata": {
        "id": "LSiDdNlQMAPu"
      },
      "source": [
        "# Возможно хреновое качество из-за плохой обработки текста (интерфакс от Евгения обработан не очень)\n",
        "# Беру хорошо очищенный текст (интерфакс 2018-2020), макс слов - 500 (чтобы не было number_token)\n",
        "# со стратификацией на трейне результат лучше константной на 8-10% на некоторых моделях\n",
        "# На валидации - качество 50% - хуже константной, мешать данные точно не надо"
      ],
      "execution_count": null,
      "outputs": []
    },
    {
      "cell_type": "code",
      "metadata": {
        "id": "xS-ROwufPCV9"
      },
      "source": [
        "count = 0\n",
        "\n",
        "for i in train_data[0]:\n",
        "  if i != 0:\n",
        "    count +=1 \n",
        "  \n",
        "count"
      ],
      "execution_count": null,
      "outputs": []
    },
    {
      "cell_type": "code",
      "metadata": {
        "id": "-HR7bQ_mLaJN"
      },
      "source": [
        "accuracy_score(test_target, np.zeros(len(test_target)))"
      ],
      "execution_count": null,
      "outputs": []
    },
    {
      "cell_type": "code",
      "metadata": {
        "id": "rk1AU8PoJjbG"
      },
      "source": [
        "sns.countplot(test_target)"
      ],
      "execution_count": null,
      "outputs": []
    },
    {
      "cell_type": "code",
      "metadata": {
        "id": "U1ZA53vDJSMU"
      },
      "source": [
        "sns.countplot(xgb_clf.predict(test_data))"
      ],
      "execution_count": null,
      "outputs": []
    },
    {
      "cell_type": "code",
      "metadata": {
        "id": "7vGniJ_JLoht"
      },
      "source": [
        "sns.countplot(xgb_clf.predict(vectorized_text.toarray()[1000:]))"
      ],
      "execution_count": null,
      "outputs": []
    },
    {
      "cell_type": "code",
      "metadata": {
        "id": "7QV4Am20NbKZ"
      },
      "source": [
        "pd.DataFrame(np.hstack(((valid_data.target_1_day.values.reshape(-1, 1), xgb_clf.predict(vectorized_text.toarray()[1000:]).reshape(-1, 1)))))[:30]"
      ],
      "execution_count": null,
      "outputs": []
    },
    {
      "cell_type": "code",
      "metadata": {
        "id": "0HPbEyAdKTjT"
      },
      "source": [
        "accuracy_score(valid_data.target_1_day.values, knn.predict(vectorized_text.toarray()[1000:]))"
      ],
      "execution_count": null,
      "outputs": []
    },
    {
      "cell_type": "code",
      "metadata": {
        "id": "fbAq4rzK40No"
      },
      "source": [
        "news[news.date_int == 20181010.0].clean_text"
      ],
      "execution_count": null,
      "outputs": []
    },
    {
      "cell_type": "code",
      "metadata": {
        "id": "K6MXDggY4SDX"
      },
      "source": [
        "data[data.date_int == 20181010.0].clean_text"
      ],
      "execution_count": null,
      "outputs": []
    },
    {
      "cell_type": "markdown",
      "metadata": {
        "id": "sPA1G980Oq1d"
      },
      "source": [
        "## Stacking"
      ]
    },
    {
      "cell_type": "code",
      "metadata": {
        "id": "WaQH0Xcsgyaz"
      },
      "source": [
        "#log_reg_3_day = log_reg.predict(test_data) # 59%"
      ],
      "execution_count": null,
      "outputs": []
    },
    {
      "cell_type": "code",
      "metadata": {
        "id": "2jVIYohkowsd"
      },
      "source": [
        "#log_reg_7_day = log_reg.predict(test_data) # 60%"
      ],
      "execution_count": null,
      "outputs": []
    },
    {
      "cell_type": "code",
      "metadata": {
        "id": "1vH24YLkrf-9"
      },
      "source": [
        "#log_reg_10_day = log_reg.predict(test_data) # 59%"
      ],
      "execution_count": null,
      "outputs": []
    },
    {
      "cell_type": "code",
      "metadata": {
        "id": "ndtbxTj4r4Cf"
      },
      "source": [
        "#cvc_14_day = svc.predict(test_data) # 66%"
      ],
      "execution_count": null,
      "outputs": []
    },
    {
      "cell_type": "code",
      "metadata": {
        "id": "1TmIjokUs51l"
      },
      "source": [
        "#log_reg_20_day = log_reg.predict(test_data) # 71%"
      ],
      "execution_count": null,
      "outputs": []
    },
    {
      "cell_type": "code",
      "metadata": {
        "id": "FmV_fdvavgBP"
      },
      "source": [
        "#pred = pd.DataFrame(np.hstack((log_reg_20_day.reshape(-1, 1), cvc_14_day.reshape(-1, 1), \n",
        "#                  data.date_int.values[train_data.shape[0]:train_data.shape[0]+test_data.shape[0]].reshape(-1, 1))), columns=['20_day', '14_day', 'date']).groupby('date').mean()"
      ],
      "execution_count": null,
      "outputs": []
    },
    {
      "cell_type": "code",
      "metadata": {
        "id": "yomKwdZUxB_J"
      },
      "source": [
        "#pred['20_day'] = pred['20_day'].shift(19)\n",
        "#pred['14_day'] = pred['14_day'].shift(13)"
      ],
      "execution_count": null,
      "outputs": []
    },
    {
      "cell_type": "code",
      "metadata": {
        "id": "152Y5pt5xein"
      },
      "source": [
        "#pred.dropna(inplace=True)\n",
        "\n",
        "#pred['all_pred'] = (pred['20_day'] + pred['10_day'] + pred['14_day'])/3\n",
        "\n",
        "#pred['all_pred'] = np.where((pred['20_day'] + pred['14_day'])/2 > 0.5, 1, 0)"
      ],
      "execution_count": null,
      "outputs": []
    },
    {
      "cell_type": "code",
      "metadata": {
        "id": "f1vcRc7IyIab"
      },
      "source": [
        "#close = []\n",
        "\n",
        "#for idx in pred.index:\n",
        "#  close.append(float(sber_day.close[sber_day.date_int == idx].values))"
      ],
      "execution_count": null,
      "outputs": []
    },
    {
      "cell_type": "code",
      "metadata": {
        "id": "SfrhywoHx9RG"
      },
      "source": [
        "#pred['close'] = close\n",
        "#pred['true'] = np.where(pred['close'].shift(-1) > pred['close'], 1, 0)\n",
        "#pred"
      ],
      "execution_count": null,
      "outputs": []
    },
    {
      "cell_type": "code",
      "metadata": {
        "id": "Qo5QSIHdACuX"
      },
      "source": [
        "prediction = np.zeros(test_data.shape[0])\n",
        "\n",
        "for i in range(test_data.shape[0]): # Стекинг работает\n",
        "    prediction[i] = rand_for_pred[i] + xgb_pred[i] + svc_pred[i]\n",
        "    prediction[i] /= 3\n",
        "    if prediction[i] < 0.5:\n",
        "        prediction[i] = 0\n",
        "    else:\n",
        "        prediction[i] = 1"
      ],
      "execution_count": null,
      "outputs": []
    },
    {
      "cell_type": "code",
      "metadata": {
        "id": "esZs__K6z2fr"
      },
      "source": [
        "#accuracy_score(pred.true, pred.all_pred)"
      ],
      "execution_count": null,
      "outputs": []
    },
    {
      "cell_type": "code",
      "metadata": {
        "id": "W_x6MCAfu3lt"
      },
      "source": [
        "prediction = np.zeros(test_data.shape[0])\n",
        "\n",
        "for i in range(test_data.shape[0]): \n",
        "    prediction[i] = log_reg_7_day[i] + cvc_14_day[i] + log_reg_20_day[i-19]\n",
        "    prediction[i] /= 3\n",
        "    if prediction[i] < 0.5:\n",
        "        prediction[i] = 0\n",
        "    else:\n",
        "        prediction[i] = 1"
      ],
      "execution_count": null,
      "outputs": []
    },
    {
      "cell_type": "code",
      "metadata": {
        "id": "LzAQpJ8eZDx4"
      },
      "source": [
        "date = []\n",
        "\n",
        "for idx in test_target.index:\n",
        "\n",
        "  date.append(data.date_int[data.index == idx].values)\n",
        "\n",
        "\n",
        "pd.DataFrame(np.hstack((xgb_clf.predict(test_data).reshape(-1, 1), test_target.values.reshape(-1, 1), \n",
        "                        np.array(date).reshape(-1, 1))),\n",
        "             columns=['pred', 'true', 'date'])[:30]"
      ],
      "execution_count": null,
      "outputs": []
    },
    {
      "cell_type": "code",
      "metadata": {
        "id": "MwgzmapinTm5"
      },
      "source": [
        "a = pd.DataFrame(rand_for_clf.predict(test_data), index=test_data[:, 4500])\n",
        "a['close'] = test_data[:, 4501]\n",
        "a"
      ],
      "execution_count": null,
      "outputs": []
    },
    {
      "cell_type": "code",
      "metadata": {
        "id": "KfvveL4hqcqA"
      },
      "source": [
        "import matplotlib.pyplot as plt\n",
        "plt.plot(a.index, a.close)"
      ],
      "execution_count": null,
      "outputs": []
    },
    {
      "cell_type": "code",
      "metadata": {
        "id": "OCln9G4UZvTt"
      },
      "source": [
        "%%time\n",
        "ngram_range = [(1, 3)]\n",
        "max_features = [1000]\n",
        "min_df = [5]\n",
        "max_df = [1_000]\n",
        "\n",
        "print('Result for clean text: \\n')\n",
        "for i in range(len(max_df)):\n",
        "  estimation_simple_model(text=data.clean_text, \n",
        "                            target=data.target_1_day,\n",
        "                            vectorize='tf_idf', ngram_range=ngram_range[0], max_features=max_features[0], min_df=min_df[0], max_df=max_df[0])"
      ],
      "execution_count": null,
      "outputs": []
    },
    {
      "cell_type": "code",
      "metadata": {
        "id": "TfN9bZXOu3Hs"
      },
      "source": [
        "pd.Series(xgb_clf.feature_importances_).sort_values()"
      ],
      "execution_count": null,
      "outputs": []
    },
    {
      "cell_type": "code",
      "metadata": {
        "id": "UoyvYh0Ak2_R"
      },
      "source": [
        "%%time\n",
        "ngram_range = [(1, 4)]\n",
        "max_features = [6500]\n",
        "min_df = [5]\n",
        "max_df = [1_000]\n",
        "\n",
        "print('Result for clean text: \\n')\n",
        "for i in range(len(ngram_range)):\n",
        "  estimation_simple_model(text=data.clean_text, \n",
        "                            target=data.target_1_day, \n",
        "                            vectorize='tf_idf', ngram_range=ngram_range[i], max_features=max_features[0], min_df=min_df[0], max_df=max_df[0])"
      ],
      "execution_count": null,
      "outputs": []
    },
    {
      "cell_type": "markdown",
      "metadata": {
        "id": "dcP7i8b3U7Lj"
      },
      "source": [
        "## Feature importance"
      ]
    },
    {
      "cell_type": "code",
      "metadata": {
        "id": "HWJIjon6WYhT"
      },
      "source": [
        "def get_most_important_features(vectorizer, model, n=5):\n",
        "    index_to_word = {v:k for k,v in vectorizer.vocabulary_.items()}\n",
        "    \n",
        "    classes = {}\n",
        "    for class_index in range(model.coef_.shape[0]):\n",
        "        word_importances = [(el, index_to_word[i]) for i,el in enumerate(model.coef_[class_index])]\n",
        "        sorted_coeff = sorted(word_importances, key = lambda x : x[0], reverse=True)\n",
        "        tops = sorted(sorted_coeff[:n], key = lambda x : x[0])\n",
        "        bottom = sorted_coeff[-n:]\n",
        "        classes[class_index] = {\n",
        "            'tops':tops,\n",
        "            'bottom':bottom\n",
        "        }\n",
        "    return classes\n",
        "\n",
        "importance = get_most_important_features(vectorizer, log_reg, 20)"
      ],
      "execution_count": null,
      "outputs": []
    },
    {
      "cell_type": "code",
      "metadata": {
        "id": "Ve6KODRZZCh4"
      },
      "source": [
        "importance # Выкинуть дни недели и месяцы, числа тоже"
      ],
      "execution_count": null,
      "outputs": []
    },
    {
      "cell_type": "markdown",
      "metadata": {
        "id": "GiWdcvMyVi8t"
      },
      "source": [
        "## W2V"
      ]
    },
    {
      "cell_type": "code",
      "metadata": {
        "id": "tTZu2fBFb-nJ"
      },
      "source": [
        "!pip install fasttext"
      ],
      "execution_count": null,
      "outputs": []
    },
    {
      "cell_type": "code",
      "metadata": {
        "id": "BK8P_2rVcRx0"
      },
      "source": [
        "!pip install wikipedia2vec"
      ],
      "execution_count": null,
      "outputs": []
    },
    {
      "cell_type": "code",
      "metadata": {
        "id": "vooy9NrTbUaL"
      },
      "source": [
        "import fasttext.util\n",
        "from wikipedia2vec import Wikipedia2Vec\n",
        "fasttext.util.download_model('ru', if_exists='ignore')\n",
        "\n",
        "wiki2vec = Wikipedia2Vec.load('ruwiki_20180420_300d.pkl')\n",
        "ft = fasttext.load_model('cc.ru.300.bin')"
      ],
      "execution_count": null,
      "outputs": []
    },
    {
      "cell_type": "code",
      "metadata": {
        "id": "5RMUTkzAcaCJ"
      },
      "source": [
        "def vectorize(token, use_word2vec=True, use_fasttext=True):\n",
        "    assert use_word2vec or use_fasttext\n",
        "    if use_fasttext:\n",
        "        try:\n",
        "            fast_text_vector = ft.get_word_vector(token)\n",
        "        except KeyError:\n",
        "            fast_text_vector = np.zeros((ft.get_dimension()))\n",
        "\n",
        "    if use_word2vec:\n",
        "        try:\n",
        "            word2vec_vector = wiki2vec.get_word_vector(token)\n",
        "        except KeyError:\n",
        "            word2vec_vector = np.zeros((len(wiki2vec.get_word_vector('the'))))\n",
        "\n",
        "    if use_fasttext and use_word2vec:\n",
        "        return np.concatenate([word2vec_vector, fast_text_vector])\n",
        "    elif use_fasttext:\n",
        "        return np.array(fast_text_vector)\n",
        "    elif use_word2vec:\n",
        "        return np.array(word2vec_vector)\n",
        "    else:\n",
        "        return 'something went wrong on vectorisation'\n",
        "\n",
        "print(np.shape(vectorize('any_token')))"
      ],
      "execution_count": null,
      "outputs": []
    },
    {
      "cell_type": "markdown",
      "metadata": {
        "id": "nLcSM_BEIV50"
      },
      "source": [
        "### LSTM"
      ]
    },
    {
      "cell_type": "code",
      "metadata": {
        "id": "8wMf3zM8IYzK"
      },
      "source": [
        "import tensorflow as tf\n",
        "from tensorflow import keras\n",
        "from tensorflow.keras.layers import Dense, LSTM, Embedding\n",
        "from keras.models import Sequential\n",
        "\n",
        "maxlen = 50_000\n",
        "max_words = 300_000\n",
        "\n",
        "model = Sequential()\n",
        "model.add(Embedding(max_words, 4, input_length=maxlen))\n",
        "model.add(LSTM(64))\n",
        "model.add(Dense(1, activation='sigmoid'))\n",
        "\n",
        "model.compile(optimizer='adam',\n",
        "             loss='binary_crossentropy', \n",
        "              metrics=['accuracy'])"
      ],
      "execution_count": null,
      "outputs": []
    },
    {
      "cell_type": "code",
      "metadata": {
        "id": "0dkUlL3SIetD"
      },
      "source": [
        "vectorized_text = vectorizer(text=data.clean_text, vectorizer='tf_idf', ngram_range=(1, 3), max_features=5000, min_df=4, max_df=10_000)"
      ],
      "execution_count": null,
      "outputs": []
    },
    {
      "cell_type": "code",
      "metadata": {
        "id": "6ZbUHoO59w76"
      },
      "source": [
        "vectorized_text[:2000].shape"
      ],
      "execution_count": null,
      "outputs": []
    },
    {
      "cell_type": "code",
      "metadata": {
        "id": "wxui6i6P8fUs"
      },
      "source": [
        "valid_data = vectorized_text[2000:]\n",
        "\n",
        "text = vectorized_text[:2000]"
      ],
      "execution_count": null,
      "outputs": []
    },
    {
      "cell_type": "code",
      "metadata": {
        "id": "9folgDv8q4G0"
      },
      "source": [
        "train_data, test_data, train_target, test_target = tt (text, data.target_1_day.values[:2000], test_size=0.2, shuffle=False)"
      ],
      "execution_count": null,
      "outputs": []
    },
    {
      "cell_type": "code",
      "metadata": {
        "id": "UKDuGJYyXJRq"
      },
      "source": [
        "train_data = pad_sequences(train_data.toarray(), maxlen=maxlen)\n",
        "test_data = pad_sequences(test_data.toarray(), maxlen=maxlen)"
      ],
      "execution_count": null,
      "outputs": []
    },
    {
      "cell_type": "code",
      "metadata": {
        "id": "ZZWH7ajNI2Fi"
      },
      "source": [
        "model.fit(train_data, \n",
        "                    train_target, \n",
        "                    epochs=2)"
      ],
      "execution_count": null,
      "outputs": []
    },
    {
      "cell_type": "code",
      "metadata": {
        "id": "is_0JjVlR5_A"
      },
      "source": [
        "model.predict(test_data)"
      ],
      "execution_count": null,
      "outputs": []
    },
    {
      "cell_type": "code",
      "metadata": {
        "id": "UvUOZZB5eFBi"
      },
      "source": [
        "accuracy_score(test_target, model.predict(test_data))"
      ],
      "execution_count": null,
      "outputs": []
    },
    {
      "cell_type": "markdown",
      "metadata": {
        "id": "AvB1Ehsf5ER6"
      },
      "source": [
        "### При тесте очищенных данных наилучшая модель - RandomForest, стабильно на 2-3 % лучше, лидеры:\n",
        " - ngram_range = (1, 4) , max_features = 6500 (66.5%), 5000 - чуть хуже\n",
        " - ngram_range = (1, 3) , max_features = 2000 (65.5%)\n",
        " \n",
        " min_df = 2, 5\n",
        "\n",
        " Средний результат лучших моделей (как правило 3 модели показывают +- одинаковый результат) для лучших параметров(для не очень хороших параметров качество около 61%) - 62.5%"
      ]
    },
    {
      "cell_type": "code",
      "metadata": {
        "id": "aWkIb6Y_imHk"
      },
      "source": [
        "#rand_for_clf.predict(test_data)\n",
        "# Предсказания тоже в порядке"
      ],
      "execution_count": null,
      "outputs": []
    },
    {
      "cell_type": "markdown",
      "metadata": {
        "id": "PlTSTIbZJ1RP"
      },
      "source": [
        "## Random Forest tuning"
      ]
    },
    {
      "cell_type": "code",
      "metadata": {
        "id": "lsiyeGp7f3qJ"
      },
      "source": [
        "from sklearn.model_selection import GridSearchCV\n",
        "\n",
        "param_grid = {'max_depth': [2, 3, 4, 5],\n",
        "             'n_estimators' : range(100, 1000, 100)\n",
        "             }\n",
        "\n",
        "grid_search = GridSearchCV(estimator=RandomForestClassifier(n_jobs=-2), param_grid=param_grid, scoring='accuracy', cv=3)"
      ],
      "execution_count": null,
      "outputs": []
    },
    {
      "cell_type": "code",
      "metadata": {
        "id": "ziMPdbChgBZX"
      },
      "source": [
        "%%time\n",
        "grid_search.fit(vectorized_text, data.target)"
      ],
      "execution_count": null,
      "outputs": []
    },
    {
      "cell_type": "code",
      "metadata": {
        "id": "1d_Szn5vgCoV"
      },
      "source": [
        "grid_search.best_estimator_"
      ],
      "execution_count": null,
      "outputs": []
    },
    {
      "cell_type": "code",
      "metadata": {
        "id": "8kxQOHsvL3Mo"
      },
      "source": [
        "score = []\n",
        "\n",
        "for i in range(100):\n",
        "  best_rand_for_clf = RandomForestClassifier(max_depth=3, n_estimators=100)\n",
        "\n",
        "  vectorized_text = vectorizer(text=data.clean_text, vectorizer='tf_idf', ngram_range=(1, 4), max_features=5000, min_df=5, max_df=100000)\n",
        "\n",
        "  train_data, test_data, train_target, test_target = tt (vectorized_text, data.target, test_size=0.2, shuffle=False)\n",
        "\n",
        "  best_rand_for_clf.fit(train_data, train_target)\n",
        "\n",
        "  score.append(accuracy_score(test_target, best_rand_for_clf.predict(test_data)))"
      ],
      "execution_count": null,
      "outputs": []
    },
    {
      "cell_type": "code",
      "metadata": {
        "id": "5PDTk0HyMyB9"
      },
      "source": [
        "np.mean(np.array(score))"
      ],
      "execution_count": null,
      "outputs": []
    },
    {
      "cell_type": "code",
      "metadata": {
        "id": "L_iaNUWpjTUJ"
      },
      "source": [
        "metrics = pd.DataFrame(index=[[str(model).split('(')[0] for model in [xgb_clf, log_reg, rand_for_clf, svc, neural_net, knn]]], columns=['accuracy', 'roc_auc', 'f1', \n",
        "                                                                                                                                        'precision', 'recall', 'log'])\n",
        "vectorized_text = vectorizer(text=data.clean_text, vectorizer='tf_idf', ngram_range=(1, 3), max_features=4500, min_df=5, max_df=10000)\n",
        "train_data, test_data, train_target, test_target = tt (vectorized_text, target, test_size=0.2, shuffle=False)\n",
        "\n",
        "for model in [xgb_clf, log_reg, rand_for_clf, svc, neural_net, knn]:\n",
        "  \n",
        "  model.fit(train_data, train_target)\n",
        "\n",
        "  metrics.accuracy[str(model).split('(')[0]] = accuracy_score(test_target, model.predict(test_data))\n",
        "  metrics.roc_auc[str(model).split('(')[0]] = roc_auc_score(test_target, model.predict(test_data))\n",
        "  metrics.f1[str(model).split('(')[0]] = f1_score(test_target, model.predict(test_data))\n",
        "  metrics.precision[str(model).split('(')[0]] = precision_score(test_target, model.predict(test_data))\n",
        "  metrics.recall[str(model).split('(')[0]] = recall_score(test_target, model.predict(test_data))\n",
        "  metrics.log[str(model).split('(')[0]] = log_loss(test_target, model.predict(test_data))"
      ],
      "execution_count": null,
      "outputs": []
    },
    {
      "cell_type": "code",
      "metadata": {
        "id": "JLBN5m5BpoNf"
      },
      "source": [
        "metrics"
      ],
      "execution_count": null,
      "outputs": []
    },
    {
      "cell_type": "markdown",
      "metadata": {
        "id": "UqMCYqTCd45-"
      },
      "source": [
        "# BERT"
      ]
    },
    {
      "cell_type": "code",
      "metadata": {
        "id": "WiJc19u_eRJU"
      },
      "source": [
        "data.head()"
      ],
      "execution_count": null,
      "outputs": []
    },
    {
      "cell_type": "code",
      "metadata": {
        "id": "onvmzTA5ZkoS"
      },
      "source": [
        "model_class, tokenizer_class, pretrained_weights = (ppb.BertModel, ppb.BertTokenizer, 'bert-base-uncased')\n",
        "\n",
        "tokenizer = tokenizer_class.from_pretrained(pretrained_weights)\n",
        "model = model_class.from_pretrained(pretrained_weights)"
      ],
      "execution_count": null,
      "outputs": []
    },
    {
      "cell_type": "code",
      "metadata": {
        "id": "_0H2cMT1elZb"
      },
      "source": [
        "for i in range(data.shape[0]): # проблема - слишком длинные новости, ее длина в среднем 2000, а для токенайзера максимум 512\n",
        "# Решение - разбивать на куски длиной не более 512 (конец - конец предложения) и тональность самой новости считать как среднее из тональностей ее составляющих\n",
        "   data['text'][i] =  data['text'][i][:128]"
      ],
      "execution_count": null,
      "outputs": []
    },
    {
      "cell_type": "code",
      "metadata": {
        "id": "-U6yhkGbd7O2"
      },
      "source": [
        "tokenized = data['text'].apply((lambda x: tokenizer.encode(x, add_special_tokens=True)))"
      ],
      "execution_count": null,
      "outputs": []
    },
    {
      "cell_type": "code",
      "metadata": {
        "id": "jXVLI-K6eczn"
      },
      "source": [
        "tokenized"
      ],
      "execution_count": null,
      "outputs": []
    },
    {
      "cell_type": "code",
      "metadata": {
        "id": "lYgfgE25QcES"
      },
      "source": [
        "max_len = 0\n",
        "for i in tokenized.values:\n",
        "    if len(i) > max_len:\n",
        "        max_len = len(i)\n",
        "\n",
        "padded = np.array([i + [0]*(max_len-len(i)) for i in tokenized.values])"
      ],
      "execution_count": null,
      "outputs": []
    },
    {
      "cell_type": "code",
      "metadata": {
        "id": "4nVdv7SOfZh3"
      },
      "source": [
        "attention_mask = np.where(padded != 0, 1, 0)\n",
        "attention_mask.shape"
      ],
      "execution_count": null,
      "outputs": []
    },
    {
      "cell_type": "code",
      "metadata": {
        "id": "TvucZF_RgkBp"
      },
      "source": [
        "input_ids = torch.tensor(padded)  \n",
        "attention_mask = torch.tensor(attention_mask)\n",
        "\n",
        "with torch.no_grad():\n",
        "    last_hidden_states = model(input_ids, attention_mask=attention_mask)"
      ],
      "execution_count": null,
      "outputs": []
    },
    {
      "cell_type": "code",
      "metadata": {
        "id": "3sSd_ZqIgn9i"
      },
      "source": [
        "features = last_hidden_states[0][:,0,:].numpy()"
      ],
      "execution_count": null,
      "outputs": []
    },
    {
      "cell_type": "code",
      "metadata": {
        "id": "NkI5fDA5oQor"
      },
      "source": [
        "train_features, test_features, train_target, test_target = tt(features, data['target'], random_state=42)\n",
        "  \n",
        "for model in [xgb_clf, log_reg, rand_for_clf, svc, neural_net, knn]:\n",
        "  model.fit(train_features, train_target)\n",
        "  print(str(model).split('(')[0], accuracy_score(test_target, model.predict(test_features)), '\\n')"
      ],
      "execution_count": null,
      "outputs": []
    },
    {
      "cell_type": "code",
      "metadata": {
        "id": "BoPAoaEil98u"
      },
      "source": [
        ""
      ],
      "execution_count": null,
      "outputs": []
    }
  ]
}