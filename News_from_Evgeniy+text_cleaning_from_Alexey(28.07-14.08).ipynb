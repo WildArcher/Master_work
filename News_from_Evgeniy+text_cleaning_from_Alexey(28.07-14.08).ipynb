{
  "nbformat": 4,
  "nbformat_minor": 0,
  "metadata": {
    "colab": {
      "name": "Untitled20.ipynb",
      "provenance": [],
      "collapsed_sections": [],
      "authorship_tag": "ABX9TyMEIUDpy4ae7TqyDWy2sDmZ",
      "include_colab_link": true
    },
    "kernelspec": {
      "name": "python3",
      "display_name": "Python 3"
    },
    "widgets": {
      "application/vnd.jupyter.widget-state+json": {
        "886664f758f848f9a7ee7680b04a0171": {
          "model_module": "@jupyter-widgets/controls",
          "model_name": "HBoxModel",
          "state": {
            "_view_name": "HBoxView",
            "_dom_classes": [],
            "_model_name": "HBoxModel",
            "_view_module": "@jupyter-widgets/controls",
            "_model_module_version": "1.5.0",
            "_view_count": null,
            "_view_module_version": "1.5.0",
            "box_style": "",
            "layout": "IPY_MODEL_cc16479432d84d73af473605a3964339",
            "_model_module": "@jupyter-widgets/controls",
            "children": [
              "IPY_MODEL_83a95fefbfea4d77a4139981f9d19fc5",
              "IPY_MODEL_a9b1bed39f8a49b6a6c1312ec6f1d6af"
            ]
          }
        },
        "cc16479432d84d73af473605a3964339": {
          "model_module": "@jupyter-widgets/base",
          "model_name": "LayoutModel",
          "state": {
            "_view_name": "LayoutView",
            "grid_template_rows": null,
            "right": null,
            "justify_content": null,
            "_view_module": "@jupyter-widgets/base",
            "overflow": null,
            "_model_module_version": "1.2.0",
            "_view_count": null,
            "flex_flow": null,
            "width": null,
            "min_width": null,
            "border": null,
            "align_items": null,
            "bottom": null,
            "_model_module": "@jupyter-widgets/base",
            "top": null,
            "grid_column": null,
            "overflow_y": null,
            "overflow_x": null,
            "grid_auto_flow": null,
            "grid_area": null,
            "grid_template_columns": null,
            "flex": null,
            "_model_name": "LayoutModel",
            "justify_items": null,
            "grid_row": null,
            "max_height": null,
            "align_content": null,
            "visibility": null,
            "align_self": null,
            "height": null,
            "min_height": null,
            "padding": null,
            "grid_auto_rows": null,
            "grid_gap": null,
            "max_width": null,
            "order": null,
            "_view_module_version": "1.2.0",
            "grid_template_areas": null,
            "object_position": null,
            "object_fit": null,
            "grid_auto_columns": null,
            "margin": null,
            "display": null,
            "left": null
          }
        },
        "83a95fefbfea4d77a4139981f9d19fc5": {
          "model_module": "@jupyter-widgets/controls",
          "model_name": "FloatProgressModel",
          "state": {
            "_view_name": "ProgressView",
            "style": "IPY_MODEL_35bd1d01e095425199fe7d61a130e962",
            "_dom_classes": [],
            "description": "Downloading: 100%",
            "_model_name": "FloatProgressModel",
            "bar_style": "success",
            "max": 231508,
            "_view_module": "@jupyter-widgets/controls",
            "_model_module_version": "1.5.0",
            "value": 231508,
            "_view_count": null,
            "_view_module_version": "1.5.0",
            "orientation": "horizontal",
            "min": 0,
            "description_tooltip": null,
            "_model_module": "@jupyter-widgets/controls",
            "layout": "IPY_MODEL_eae5805f502e476fb730e9e7131c7c94"
          }
        },
        "a9b1bed39f8a49b6a6c1312ec6f1d6af": {
          "model_module": "@jupyter-widgets/controls",
          "model_name": "HTMLModel",
          "state": {
            "_view_name": "HTMLView",
            "style": "IPY_MODEL_6859830aceec4f70a0b992a1b2a9094f",
            "_dom_classes": [],
            "description": "",
            "_model_name": "HTMLModel",
            "placeholder": "​",
            "_view_module": "@jupyter-widgets/controls",
            "_model_module_version": "1.5.0",
            "value": " 232k/232k [00:00&lt;00:00, 2.25MB/s]",
            "_view_count": null,
            "_view_module_version": "1.5.0",
            "description_tooltip": null,
            "_model_module": "@jupyter-widgets/controls",
            "layout": "IPY_MODEL_07adb1ea2b754c31b3673e0cb371c732"
          }
        },
        "35bd1d01e095425199fe7d61a130e962": {
          "model_module": "@jupyter-widgets/controls",
          "model_name": "ProgressStyleModel",
          "state": {
            "_view_name": "StyleView",
            "_model_name": "ProgressStyleModel",
            "description_width": "initial",
            "_view_module": "@jupyter-widgets/base",
            "_model_module_version": "1.5.0",
            "_view_count": null,
            "_view_module_version": "1.2.0",
            "bar_color": null,
            "_model_module": "@jupyter-widgets/controls"
          }
        },
        "eae5805f502e476fb730e9e7131c7c94": {
          "model_module": "@jupyter-widgets/base",
          "model_name": "LayoutModel",
          "state": {
            "_view_name": "LayoutView",
            "grid_template_rows": null,
            "right": null,
            "justify_content": null,
            "_view_module": "@jupyter-widgets/base",
            "overflow": null,
            "_model_module_version": "1.2.0",
            "_view_count": null,
            "flex_flow": null,
            "width": null,
            "min_width": null,
            "border": null,
            "align_items": null,
            "bottom": null,
            "_model_module": "@jupyter-widgets/base",
            "top": null,
            "grid_column": null,
            "overflow_y": null,
            "overflow_x": null,
            "grid_auto_flow": null,
            "grid_area": null,
            "grid_template_columns": null,
            "flex": null,
            "_model_name": "LayoutModel",
            "justify_items": null,
            "grid_row": null,
            "max_height": null,
            "align_content": null,
            "visibility": null,
            "align_self": null,
            "height": null,
            "min_height": null,
            "padding": null,
            "grid_auto_rows": null,
            "grid_gap": null,
            "max_width": null,
            "order": null,
            "_view_module_version": "1.2.0",
            "grid_template_areas": null,
            "object_position": null,
            "object_fit": null,
            "grid_auto_columns": null,
            "margin": null,
            "display": null,
            "left": null
          }
        },
        "6859830aceec4f70a0b992a1b2a9094f": {
          "model_module": "@jupyter-widgets/controls",
          "model_name": "DescriptionStyleModel",
          "state": {
            "_view_name": "StyleView",
            "_model_name": "DescriptionStyleModel",
            "description_width": "",
            "_view_module": "@jupyter-widgets/base",
            "_model_module_version": "1.5.0",
            "_view_count": null,
            "_view_module_version": "1.2.0",
            "_model_module": "@jupyter-widgets/controls"
          }
        },
        "07adb1ea2b754c31b3673e0cb371c732": {
          "model_module": "@jupyter-widgets/base",
          "model_name": "LayoutModel",
          "state": {
            "_view_name": "LayoutView",
            "grid_template_rows": null,
            "right": null,
            "justify_content": null,
            "_view_module": "@jupyter-widgets/base",
            "overflow": null,
            "_model_module_version": "1.2.0",
            "_view_count": null,
            "flex_flow": null,
            "width": null,
            "min_width": null,
            "border": null,
            "align_items": null,
            "bottom": null,
            "_model_module": "@jupyter-widgets/base",
            "top": null,
            "grid_column": null,
            "overflow_y": null,
            "overflow_x": null,
            "grid_auto_flow": null,
            "grid_area": null,
            "grid_template_columns": null,
            "flex": null,
            "_model_name": "LayoutModel",
            "justify_items": null,
            "grid_row": null,
            "max_height": null,
            "align_content": null,
            "visibility": null,
            "align_self": null,
            "height": null,
            "min_height": null,
            "padding": null,
            "grid_auto_rows": null,
            "grid_gap": null,
            "max_width": null,
            "order": null,
            "_view_module_version": "1.2.0",
            "grid_template_areas": null,
            "object_position": null,
            "object_fit": null,
            "grid_auto_columns": null,
            "margin": null,
            "display": null,
            "left": null
          }
        },
        "7f5eea4e3b2f47129aac54e05b28eed0": {
          "model_module": "@jupyter-widgets/controls",
          "model_name": "HBoxModel",
          "state": {
            "_view_name": "HBoxView",
            "_dom_classes": [],
            "_model_name": "HBoxModel",
            "_view_module": "@jupyter-widgets/controls",
            "_model_module_version": "1.5.0",
            "_view_count": null,
            "_view_module_version": "1.5.0",
            "box_style": "",
            "layout": "IPY_MODEL_2a45c245c777466f8a69a1778f40a05d",
            "_model_module": "@jupyter-widgets/controls",
            "children": [
              "IPY_MODEL_bbb50e11d0ba493aab4d0dbac3b23a0b",
              "IPY_MODEL_2f0e70b964d54956aea6a0b545848d8d"
            ]
          }
        },
        "2a45c245c777466f8a69a1778f40a05d": {
          "model_module": "@jupyter-widgets/base",
          "model_name": "LayoutModel",
          "state": {
            "_view_name": "LayoutView",
            "grid_template_rows": null,
            "right": null,
            "justify_content": null,
            "_view_module": "@jupyter-widgets/base",
            "overflow": null,
            "_model_module_version": "1.2.0",
            "_view_count": null,
            "flex_flow": null,
            "width": null,
            "min_width": null,
            "border": null,
            "align_items": null,
            "bottom": null,
            "_model_module": "@jupyter-widgets/base",
            "top": null,
            "grid_column": null,
            "overflow_y": null,
            "overflow_x": null,
            "grid_auto_flow": null,
            "grid_area": null,
            "grid_template_columns": null,
            "flex": null,
            "_model_name": "LayoutModel",
            "justify_items": null,
            "grid_row": null,
            "max_height": null,
            "align_content": null,
            "visibility": null,
            "align_self": null,
            "height": null,
            "min_height": null,
            "padding": null,
            "grid_auto_rows": null,
            "grid_gap": null,
            "max_width": null,
            "order": null,
            "_view_module_version": "1.2.0",
            "grid_template_areas": null,
            "object_position": null,
            "object_fit": null,
            "grid_auto_columns": null,
            "margin": null,
            "display": null,
            "left": null
          }
        },
        "bbb50e11d0ba493aab4d0dbac3b23a0b": {
          "model_module": "@jupyter-widgets/controls",
          "model_name": "FloatProgressModel",
          "state": {
            "_view_name": "ProgressView",
            "style": "IPY_MODEL_92eedd8d1d1d4177a44964ecb9097242",
            "_dom_classes": [],
            "description": "Downloading: 100%",
            "_model_name": "FloatProgressModel",
            "bar_style": "success",
            "max": 433,
            "_view_module": "@jupyter-widgets/controls",
            "_model_module_version": "1.5.0",
            "value": 433,
            "_view_count": null,
            "_view_module_version": "1.5.0",
            "orientation": "horizontal",
            "min": 0,
            "description_tooltip": null,
            "_model_module": "@jupyter-widgets/controls",
            "layout": "IPY_MODEL_fc1dd0d618324b4582a34dd2aeada83c"
          }
        },
        "2f0e70b964d54956aea6a0b545848d8d": {
          "model_module": "@jupyter-widgets/controls",
          "model_name": "HTMLModel",
          "state": {
            "_view_name": "HTMLView",
            "style": "IPY_MODEL_1974f083431542aebe59c7dbfaa82eed",
            "_dom_classes": [],
            "description": "",
            "_model_name": "HTMLModel",
            "placeholder": "​",
            "_view_module": "@jupyter-widgets/controls",
            "_model_module_version": "1.5.0",
            "value": " 433/433 [00:09&lt;00:00, 45.2B/s]",
            "_view_count": null,
            "_view_module_version": "1.5.0",
            "description_tooltip": null,
            "_model_module": "@jupyter-widgets/controls",
            "layout": "IPY_MODEL_079a9740bed84eb5a6af2642ccbb8968"
          }
        },
        "92eedd8d1d1d4177a44964ecb9097242": {
          "model_module": "@jupyter-widgets/controls",
          "model_name": "ProgressStyleModel",
          "state": {
            "_view_name": "StyleView",
            "_model_name": "ProgressStyleModel",
            "description_width": "initial",
            "_view_module": "@jupyter-widgets/base",
            "_model_module_version": "1.5.0",
            "_view_count": null,
            "_view_module_version": "1.2.0",
            "bar_color": null,
            "_model_module": "@jupyter-widgets/controls"
          }
        },
        "fc1dd0d618324b4582a34dd2aeada83c": {
          "model_module": "@jupyter-widgets/base",
          "model_name": "LayoutModel",
          "state": {
            "_view_name": "LayoutView",
            "grid_template_rows": null,
            "right": null,
            "justify_content": null,
            "_view_module": "@jupyter-widgets/base",
            "overflow": null,
            "_model_module_version": "1.2.0",
            "_view_count": null,
            "flex_flow": null,
            "width": null,
            "min_width": null,
            "border": null,
            "align_items": null,
            "bottom": null,
            "_model_module": "@jupyter-widgets/base",
            "top": null,
            "grid_column": null,
            "overflow_y": null,
            "overflow_x": null,
            "grid_auto_flow": null,
            "grid_area": null,
            "grid_template_columns": null,
            "flex": null,
            "_model_name": "LayoutModel",
            "justify_items": null,
            "grid_row": null,
            "max_height": null,
            "align_content": null,
            "visibility": null,
            "align_self": null,
            "height": null,
            "min_height": null,
            "padding": null,
            "grid_auto_rows": null,
            "grid_gap": null,
            "max_width": null,
            "order": null,
            "_view_module_version": "1.2.0",
            "grid_template_areas": null,
            "object_position": null,
            "object_fit": null,
            "grid_auto_columns": null,
            "margin": null,
            "display": null,
            "left": null
          }
        },
        "1974f083431542aebe59c7dbfaa82eed": {
          "model_module": "@jupyter-widgets/controls",
          "model_name": "DescriptionStyleModel",
          "state": {
            "_view_name": "StyleView",
            "_model_name": "DescriptionStyleModel",
            "description_width": "",
            "_view_module": "@jupyter-widgets/base",
            "_model_module_version": "1.5.0",
            "_view_count": null,
            "_view_module_version": "1.2.0",
            "_model_module": "@jupyter-widgets/controls"
          }
        },
        "079a9740bed84eb5a6af2642ccbb8968": {
          "model_module": "@jupyter-widgets/base",
          "model_name": "LayoutModel",
          "state": {
            "_view_name": "LayoutView",
            "grid_template_rows": null,
            "right": null,
            "justify_content": null,
            "_view_module": "@jupyter-widgets/base",
            "overflow": null,
            "_model_module_version": "1.2.0",
            "_view_count": null,
            "flex_flow": null,
            "width": null,
            "min_width": null,
            "border": null,
            "align_items": null,
            "bottom": null,
            "_model_module": "@jupyter-widgets/base",
            "top": null,
            "grid_column": null,
            "overflow_y": null,
            "overflow_x": null,
            "grid_auto_flow": null,
            "grid_area": null,
            "grid_template_columns": null,
            "flex": null,
            "_model_name": "LayoutModel",
            "justify_items": null,
            "grid_row": null,
            "max_height": null,
            "align_content": null,
            "visibility": null,
            "align_self": null,
            "height": null,
            "min_height": null,
            "padding": null,
            "grid_auto_rows": null,
            "grid_gap": null,
            "max_width": null,
            "order": null,
            "_view_module_version": "1.2.0",
            "grid_template_areas": null,
            "object_position": null,
            "object_fit": null,
            "grid_auto_columns": null,
            "margin": null,
            "display": null,
            "left": null
          }
        },
        "ce62ae94f1374dca9e39665514cee318": {
          "model_module": "@jupyter-widgets/controls",
          "model_name": "HBoxModel",
          "state": {
            "_view_name": "HBoxView",
            "_dom_classes": [],
            "_model_name": "HBoxModel",
            "_view_module": "@jupyter-widgets/controls",
            "_model_module_version": "1.5.0",
            "_view_count": null,
            "_view_module_version": "1.5.0",
            "box_style": "",
            "layout": "IPY_MODEL_6d75706e262849c29ed2cac30ede4ff3",
            "_model_module": "@jupyter-widgets/controls",
            "children": [
              "IPY_MODEL_ccbb75f02426414ca146124d3a5bdd65",
              "IPY_MODEL_2dd69171c5dc4730b32dbcef5560bdbb"
            ]
          }
        },
        "6d75706e262849c29ed2cac30ede4ff3": {
          "model_module": "@jupyter-widgets/base",
          "model_name": "LayoutModel",
          "state": {
            "_view_name": "LayoutView",
            "grid_template_rows": null,
            "right": null,
            "justify_content": null,
            "_view_module": "@jupyter-widgets/base",
            "overflow": null,
            "_model_module_version": "1.2.0",
            "_view_count": null,
            "flex_flow": null,
            "width": null,
            "min_width": null,
            "border": null,
            "align_items": null,
            "bottom": null,
            "_model_module": "@jupyter-widgets/base",
            "top": null,
            "grid_column": null,
            "overflow_y": null,
            "overflow_x": null,
            "grid_auto_flow": null,
            "grid_area": null,
            "grid_template_columns": null,
            "flex": null,
            "_model_name": "LayoutModel",
            "justify_items": null,
            "grid_row": null,
            "max_height": null,
            "align_content": null,
            "visibility": null,
            "align_self": null,
            "height": null,
            "min_height": null,
            "padding": null,
            "grid_auto_rows": null,
            "grid_gap": null,
            "max_width": null,
            "order": null,
            "_view_module_version": "1.2.0",
            "grid_template_areas": null,
            "object_position": null,
            "object_fit": null,
            "grid_auto_columns": null,
            "margin": null,
            "display": null,
            "left": null
          }
        },
        "ccbb75f02426414ca146124d3a5bdd65": {
          "model_module": "@jupyter-widgets/controls",
          "model_name": "FloatProgressModel",
          "state": {
            "_view_name": "ProgressView",
            "style": "IPY_MODEL_01685c3bf8fd4e0f89c30e2e8d35631f",
            "_dom_classes": [],
            "description": "Downloading: 100%",
            "_model_name": "FloatProgressModel",
            "bar_style": "success",
            "max": 440473133,
            "_view_module": "@jupyter-widgets/controls",
            "_model_module_version": "1.5.0",
            "value": 440473133,
            "_view_count": null,
            "_view_module_version": "1.5.0",
            "orientation": "horizontal",
            "min": 0,
            "description_tooltip": null,
            "_model_module": "@jupyter-widgets/controls",
            "layout": "IPY_MODEL_80840d16db124f4eaf0dbe4697ac7f02"
          }
        },
        "2dd69171c5dc4730b32dbcef5560bdbb": {
          "model_module": "@jupyter-widgets/controls",
          "model_name": "HTMLModel",
          "state": {
            "_view_name": "HTMLView",
            "style": "IPY_MODEL_8bf414caf87340c0a125abe8d1522d38",
            "_dom_classes": [],
            "description": "",
            "_model_name": "HTMLModel",
            "placeholder": "​",
            "_view_module": "@jupyter-widgets/controls",
            "_model_module_version": "1.5.0",
            "value": " 440M/440M [00:09&lt;00:00, 47.3MB/s]",
            "_view_count": null,
            "_view_module_version": "1.5.0",
            "description_tooltip": null,
            "_model_module": "@jupyter-widgets/controls",
            "layout": "IPY_MODEL_2d35b988c5a64303b4581f87a6e4207e"
          }
        },
        "01685c3bf8fd4e0f89c30e2e8d35631f": {
          "model_module": "@jupyter-widgets/controls",
          "model_name": "ProgressStyleModel",
          "state": {
            "_view_name": "StyleView",
            "_model_name": "ProgressStyleModel",
            "description_width": "initial",
            "_view_module": "@jupyter-widgets/base",
            "_model_module_version": "1.5.0",
            "_view_count": null,
            "_view_module_version": "1.2.0",
            "bar_color": null,
            "_model_module": "@jupyter-widgets/controls"
          }
        },
        "80840d16db124f4eaf0dbe4697ac7f02": {
          "model_module": "@jupyter-widgets/base",
          "model_name": "LayoutModel",
          "state": {
            "_view_name": "LayoutView",
            "grid_template_rows": null,
            "right": null,
            "justify_content": null,
            "_view_module": "@jupyter-widgets/base",
            "overflow": null,
            "_model_module_version": "1.2.0",
            "_view_count": null,
            "flex_flow": null,
            "width": null,
            "min_width": null,
            "border": null,
            "align_items": null,
            "bottom": null,
            "_model_module": "@jupyter-widgets/base",
            "top": null,
            "grid_column": null,
            "overflow_y": null,
            "overflow_x": null,
            "grid_auto_flow": null,
            "grid_area": null,
            "grid_template_columns": null,
            "flex": null,
            "_model_name": "LayoutModel",
            "justify_items": null,
            "grid_row": null,
            "max_height": null,
            "align_content": null,
            "visibility": null,
            "align_self": null,
            "height": null,
            "min_height": null,
            "padding": null,
            "grid_auto_rows": null,
            "grid_gap": null,
            "max_width": null,
            "order": null,
            "_view_module_version": "1.2.0",
            "grid_template_areas": null,
            "object_position": null,
            "object_fit": null,
            "grid_auto_columns": null,
            "margin": null,
            "display": null,
            "left": null
          }
        },
        "8bf414caf87340c0a125abe8d1522d38": {
          "model_module": "@jupyter-widgets/controls",
          "model_name": "DescriptionStyleModel",
          "state": {
            "_view_name": "StyleView",
            "_model_name": "DescriptionStyleModel",
            "description_width": "",
            "_view_module": "@jupyter-widgets/base",
            "_model_module_version": "1.5.0",
            "_view_count": null,
            "_view_module_version": "1.2.0",
            "_model_module": "@jupyter-widgets/controls"
          }
        },
        "2d35b988c5a64303b4581f87a6e4207e": {
          "model_module": "@jupyter-widgets/base",
          "model_name": "LayoutModel",
          "state": {
            "_view_name": "LayoutView",
            "grid_template_rows": null,
            "right": null,
            "justify_content": null,
            "_view_module": "@jupyter-widgets/base",
            "overflow": null,
            "_model_module_version": "1.2.0",
            "_view_count": null,
            "flex_flow": null,
            "width": null,
            "min_width": null,
            "border": null,
            "align_items": null,
            "bottom": null,
            "_model_module": "@jupyter-widgets/base",
            "top": null,
            "grid_column": null,
            "overflow_y": null,
            "overflow_x": null,
            "grid_auto_flow": null,
            "grid_area": null,
            "grid_template_columns": null,
            "flex": null,
            "_model_name": "LayoutModel",
            "justify_items": null,
            "grid_row": null,
            "max_height": null,
            "align_content": null,
            "visibility": null,
            "align_self": null,
            "height": null,
            "min_height": null,
            "padding": null,
            "grid_auto_rows": null,
            "grid_gap": null,
            "max_width": null,
            "order": null,
            "_view_module_version": "1.2.0",
            "grid_template_areas": null,
            "object_position": null,
            "object_fit": null,
            "grid_auto_columns": null,
            "margin": null,
            "display": null,
            "left": null
          }
        }
      }
    }
  },
  "cells": [
    {
      "cell_type": "markdown",
      "metadata": {
        "id": "view-in-github",
        "colab_type": "text"
      },
      "source": [
        "<a href=\"https://colab.research.google.com/github/WildArcher/Master_work/blob/master/News_from_Evgeniy%2Btext_cleaning_from_Alexey(28.07-14.08).ipynb\" target=\"_parent\"><img src=\"https://colab.research.google.com/assets/colab-badge.svg\" alt=\"Open In Colab\"/></a>"
      ]
    },
    {
      "cell_type": "markdown",
      "metadata": {
        "id": "79B0J3Ydkxvq",
        "colab_type": "text"
      },
      "source": [
        "### Новости добыты, теперь нужно их разметить"
      ]
    },
    {
      "cell_type": "code",
      "metadata": {
        "id": "ur_lkqMS4vlZ",
        "colab_type": "code",
        "colab": {}
      },
      "source": [
        "import re\n",
        "import pandas as pd\n",
        "import datetime\n",
        "import time\n",
        "import numpy as np\n",
        "import seaborn as sns\n",
        "from sklearn.linear_model import LogisticRegression\n",
        "from sklearn.model_selection import train_test_split as tt\n",
        "from xgboost import XGBClassifier\n",
        "from sklearn.svm import SVC\n",
        "from sklearn.feature_extraction.text import CountVectorizer as CountVectorizer\n",
        "from sklearn.feature_extraction.text import TfidfVectorizer\n",
        "from sklearn.ensemble import RandomForestClassifier as rand_for_clf\n",
        "from sklearn.metrics import accuracy_score, roc_auc_score"
      ],
      "execution_count": 1,
      "outputs": []
    },
    {
      "cell_type": "code",
      "metadata": {
        "id": "mk1JGBZm4d7u",
        "colab_type": "code",
        "colab": {}
      },
      "source": [
        "news = pd.read_csv('https://raw.githubusercontent.com/WildArcher/Master_work/master/news_2019-2020_sber_from_interfax.csv').drop(columns=['Unnamed: 0'])"
      ],
      "execution_count": 30,
      "outputs": []
    },
    {
      "cell_type": "code",
      "metadata": {
        "id": "PoyDgkzo4pUA",
        "colab_type": "code",
        "colab": {
          "base_uri": "https://localhost:8080/",
          "height": 419
        },
        "outputId": "80343afe-c4e2-4207-ebf3-e47ea8382abc"
      },
      "source": [
        "news.head()"
      ],
      "execution_count": 31,
      "outputs": [
        {
          "output_type": "execute_result",
          "data": {
            "text/html": [
              "<div>\n",
              "<style scoped>\n",
              "    .dataframe tbody tr th:only-of-type {\n",
              "        vertical-align: middle;\n",
              "    }\n",
              "\n",
              "    .dataframe tbody tr th {\n",
              "        vertical-align: top;\n",
              "    }\n",
              "\n",
              "    .dataframe thead th {\n",
              "        text-align: right;\n",
              "    }\n",
              "</style>\n",
              "<table border=\"1\" class=\"dataframe\">\n",
              "  <thead>\n",
              "    <tr style=\"text-align: right;\">\n",
              "      <th></th>\n",
              "      <th>text</th>\n",
              "      <th>header</th>\n",
              "      <th>day_of_week</th>\n",
              "      <th>day</th>\n",
              "      <th>month</th>\n",
              "      <th>year</th>\n",
              "      <th>minute</th>\n",
              "      <th>hour</th>\n",
              "      <th>target</th>\n",
              "    </tr>\n",
              "  </thead>\n",
              "  <tbody>\n",
              "    <tr>\n",
              "      <th>0</th>\n",
              "      <td>в россии выдано льготной ипотеки под 6,5% на ...</td>\n",
              "      <td>в россии выдано льготной ипотеки под 6,5% на 2...</td>\n",
              "      <td>Wed</td>\n",
              "      <td>2</td>\n",
              "      <td>Jul</td>\n",
              "      <td>2020</td>\n",
              "      <td>57</td>\n",
              "      <td>10</td>\n",
              "      <td>0</td>\n",
              "    </tr>\n",
              "    <tr>\n",
              "      <th>1</th>\n",
              "      <td>сбербанк закрыл сделку по выкупу доли \"ßндекс...</td>\n",
              "      <td>сбербанк закрыл сделку по выкупу доли \"ßндекса...</td>\n",
              "      <td>Wed</td>\n",
              "      <td>2</td>\n",
              "      <td>Jul</td>\n",
              "      <td>2020</td>\n",
              "      <td>38</td>\n",
              "      <td>0</td>\n",
              "      <td>1</td>\n",
              "    </tr>\n",
              "    <tr>\n",
              "      <th>2</th>\n",
              "      <td>рынок акций рф во вторник вырос вслед за миро...</td>\n",
              "      <td>рынок акций рф во вторник вырос вслед за миром...</td>\n",
              "      <td>Tue</td>\n",
              "      <td>2</td>\n",
              "      <td>Jul</td>\n",
              "      <td>2020</td>\n",
              "      <td>17</td>\n",
              "      <td>19</td>\n",
              "      <td>1</td>\n",
              "    </tr>\n",
              "    <tr>\n",
              "      <th>3</th>\n",
              "      <td>рынок акций рф открылся ростом индексов мосби...</td>\n",
              "      <td>рынок акций рф открылся ростом индексов мосбир...</td>\n",
              "      <td>Tue</td>\n",
              "      <td>2</td>\n",
              "      <td>Jul</td>\n",
              "      <td>2020</td>\n",
              "      <td>35</td>\n",
              "      <td>10</td>\n",
              "      <td>1</td>\n",
              "    </tr>\n",
              "    <tr>\n",
              "      <th>4</th>\n",
              "      <td>сбербанк выдал группе \"аэрофлот\" кредиты на 1...</td>\n",
              "      <td>сбербанк выдал группе \"аэрофлот\" кредиты на 1,...</td>\n",
              "      <td>Tue</td>\n",
              "      <td>2</td>\n",
              "      <td>Jul</td>\n",
              "      <td>2020</td>\n",
              "      <td>42</td>\n",
              "      <td>9</td>\n",
              "      <td>1</td>\n",
              "    </tr>\n",
              "    <tr>\n",
              "      <th>...</th>\n",
              "      <td>...</td>\n",
              "      <td>...</td>\n",
              "      <td>...</td>\n",
              "      <td>...</td>\n",
              "      <td>...</td>\n",
              "      <td>...</td>\n",
              "      <td>...</td>\n",
              "      <td>...</td>\n",
              "      <td>...</td>\n",
              "    </tr>\n",
              "    <tr>\n",
              "      <th>506</th>\n",
              "      <td>en+ выкупит у втб 21,37% своих акций за $1,58...</td>\n",
              "      <td>en+ выкупит у втб 21,37% своих акций за $1,58 ...</td>\n",
              "      <td>Thu</td>\n",
              "      <td>6</td>\n",
              "      <td>Feb</td>\n",
              "      <td>2020</td>\n",
              "      <td>48</td>\n",
              "      <td>15</td>\n",
              "      <td>0</td>\n",
              "    </tr>\n",
              "    <tr>\n",
              "      <th>507</th>\n",
              "      <td>правительство и цб договорились о постоянных ...</td>\n",
              "      <td>правительство и цб договорились о постоянных к...</td>\n",
              "      <td>Wed</td>\n",
              "      <td>5</td>\n",
              "      <td>Feb</td>\n",
              "      <td>2020</td>\n",
              "      <td>10</td>\n",
              "      <td>17</td>\n",
              "      <td>1</td>\n",
              "    </tr>\n",
              "    <tr>\n",
              "      <th>508</th>\n",
              "      <td>минэкономразвития запросило банки, как они мо...</td>\n",
              "      <td>минэкономразвития запросило банки, как они мог...</td>\n",
              "      <td>Wed</td>\n",
              "      <td>5</td>\n",
              "      <td>Feb</td>\n",
              "      <td>2020</td>\n",
              "      <td>22</td>\n",
              "      <td>12</td>\n",
              "      <td>0</td>\n",
              "    </tr>\n",
              "    <tr>\n",
              "      <th>509</th>\n",
              "      <td>государственно-частные партнерства выведут из...</td>\n",
              "      <td>государственно-частные партнерства выведут из-...</td>\n",
              "      <td>Wed</td>\n",
              "      <td>5</td>\n",
              "      <td>Feb</td>\n",
              "      <td>2020</td>\n",
              "      <td>58</td>\n",
              "      <td>9</td>\n",
              "      <td>0</td>\n",
              "    </tr>\n",
              "    <tr>\n",
              "      <th>510</th>\n",
              "      <td>\"трансойл\" обжалует включение сбербанка в рее...</td>\n",
              "      <td>\"трансойл\" обжалует включение сбербанка в реес...</td>\n",
              "      <td>Wed</td>\n",
              "      <td>5</td>\n",
              "      <td>Feb</td>\n",
              "      <td>2020</td>\n",
              "      <td>3</td>\n",
              "      <td>9</td>\n",
              "      <td>0</td>\n",
              "    </tr>\n",
              "  </tbody>\n",
              "</table>\n",
              "<p>511 rows × 9 columns</p>\n",
              "</div>"
            ],
            "text/plain": [
              "                                                  text  ... target\n",
              "0     в россии выдано льготной ипотеки под 6,5% на ...  ...      0\n",
              "1     сбербанк закрыл сделку по выкупу доли \"ßндекс...  ...      1\n",
              "2     рынок акций рф во вторник вырос вслед за миро...  ...      1\n",
              "3     рынок акций рф открылся ростом индексов мосби...  ...      1\n",
              "4     сбербанк выдал группе \"аэрофлот\" кредиты на 1...  ...      1\n",
              "..                                                 ...  ...    ...\n",
              "506   en+ выкупит у втб 21,37% своих акций за $1,58...  ...      0\n",
              "507   правительство и цб договорились о постоянных ...  ...      1\n",
              "508   минэкономразвития запросило банки, как они мо...  ...      0\n",
              "509   государственно-частные партнерства выведут из...  ...      0\n",
              "510   \"трансойл\" обжалует включение сбербанка в рее...  ...      0\n",
              "\n",
              "[511 rows x 9 columns]"
            ]
          },
          "metadata": {
            "tags": []
          },
          "execution_count": 31
        }
      ]
    },
    {
      "cell_type": "markdown",
      "metadata": {
        "id": "azukwsfMhuWH",
        "colab_type": "text"
      },
      "source": [
        "## Возьмем котировки с финам с периодичностью 5 минут и час, чтобы отследить влияние новостей"
      ]
    },
    {
      "cell_type": "code",
      "metadata": {
        "id": "iE6XXy_3frNh",
        "colab_type": "code",
        "colab": {}
      },
      "source": [
        "def preprocessing_sber_data(sber):\n",
        "  sber.columns=['date', 'time', 'open', 'high', 'low', 'close', 'vol']\n",
        "  sber.time /= 10_000\n",
        "\n",
        "  year, month, day = [], [], []\n",
        "  for i in range(sber.shape[0]):\n",
        "    year.append(time.strptime(str(sber.date[i]), '%Y%m%d')[0])\n",
        "    month.append(time.strptime(str(sber.date[i]), '%Y%m%d')[1])\n",
        "    day.append(time.strptime(str(sber.date[i]), '%Y%m%d')[2])\n",
        "\n",
        "  sber['year'] = year\n",
        "  sber['month'] = month\n",
        "  sber['day'] = day\n",
        "\n",
        "  #sber.drop(columns=['date'], inplace=True)\n",
        "\n",
        "  return sber\n",
        "\n",
        "sber_hour = preprocessing_sber_data(pd.read_csv('https://raw.githubusercontent.com/WildArcher/Master_work/master/SBER_17.07.2019-2020_1hour.csv?', sep=' '))\n",
        "\n",
        "sber_5_min = preprocessing_sber_data(pd.read_csv('https://raw.githubusercontent.com/WildArcher/Master_work/master/SBER_17.07.2019-2020_5min.csv?', sep=' '))"
      ],
      "execution_count": 5,
      "outputs": []
    },
    {
      "cell_type": "code",
      "metadata": {
        "id": "9xoIjOBAgXRy",
        "colab_type": "code",
        "colab": {
          "base_uri": "https://localhost:8080/",
          "height": 204
        },
        "outputId": "0c63b12f-687a-4005-b3ee-48ccff617286"
      },
      "source": [
        "sber_5_min.head()"
      ],
      "execution_count": 6,
      "outputs": [
        {
          "output_type": "execute_result",
          "data": {
            "text/html": [
              "<div>\n",
              "<style scoped>\n",
              "    .dataframe tbody tr th:only-of-type {\n",
              "        vertical-align: middle;\n",
              "    }\n",
              "\n",
              "    .dataframe tbody tr th {\n",
              "        vertical-align: top;\n",
              "    }\n",
              "\n",
              "    .dataframe thead th {\n",
              "        text-align: right;\n",
              "    }\n",
              "</style>\n",
              "<table border=\"1\" class=\"dataframe\">\n",
              "  <thead>\n",
              "    <tr style=\"text-align: right;\">\n",
              "      <th></th>\n",
              "      <th>date</th>\n",
              "      <th>time</th>\n",
              "      <th>open</th>\n",
              "      <th>high</th>\n",
              "      <th>low</th>\n",
              "      <th>close</th>\n",
              "      <th>vol</th>\n",
              "      <th>year</th>\n",
              "      <th>month</th>\n",
              "      <th>day</th>\n",
              "    </tr>\n",
              "  </thead>\n",
              "  <tbody>\n",
              "    <tr>\n",
              "      <th>0</th>\n",
              "      <td>20190717</td>\n",
              "      <td>10.05</td>\n",
              "      <td>234.32</td>\n",
              "      <td>237.00</td>\n",
              "      <td>234.02</td>\n",
              "      <td>236.96</td>\n",
              "      <td>1691860</td>\n",
              "      <td>2019</td>\n",
              "      <td>7</td>\n",
              "      <td>17</td>\n",
              "    </tr>\n",
              "    <tr>\n",
              "      <th>1</th>\n",
              "      <td>20190717</td>\n",
              "      <td>10.10</td>\n",
              "      <td>236.98</td>\n",
              "      <td>238.04</td>\n",
              "      <td>236.03</td>\n",
              "      <td>236.40</td>\n",
              "      <td>1802480</td>\n",
              "      <td>2019</td>\n",
              "      <td>7</td>\n",
              "      <td>17</td>\n",
              "    </tr>\n",
              "    <tr>\n",
              "      <th>2</th>\n",
              "      <td>20190717</td>\n",
              "      <td>10.15</td>\n",
              "      <td>236.40</td>\n",
              "      <td>236.71</td>\n",
              "      <td>235.83</td>\n",
              "      <td>235.96</td>\n",
              "      <td>780150</td>\n",
              "      <td>2019</td>\n",
              "      <td>7</td>\n",
              "      <td>17</td>\n",
              "    </tr>\n",
              "    <tr>\n",
              "      <th>3</th>\n",
              "      <td>20190717</td>\n",
              "      <td>10.20</td>\n",
              "      <td>235.96</td>\n",
              "      <td>236.13</td>\n",
              "      <td>235.38</td>\n",
              "      <td>235.91</td>\n",
              "      <td>590180</td>\n",
              "      <td>2019</td>\n",
              "      <td>7</td>\n",
              "      <td>17</td>\n",
              "    </tr>\n",
              "    <tr>\n",
              "      <th>4</th>\n",
              "      <td>20190717</td>\n",
              "      <td>10.25</td>\n",
              "      <td>235.91</td>\n",
              "      <td>236.55</td>\n",
              "      <td>235.81</td>\n",
              "      <td>236.41</td>\n",
              "      <td>543260</td>\n",
              "      <td>2019</td>\n",
              "      <td>7</td>\n",
              "      <td>17</td>\n",
              "    </tr>\n",
              "  </tbody>\n",
              "</table>\n",
              "</div>"
            ],
            "text/plain": [
              "       date   time    open    high     low   close      vol  year  month  day\n",
              "0  20190717  10.05  234.32  237.00  234.02  236.96  1691860  2019      7   17\n",
              "1  20190717  10.10  236.98  238.04  236.03  236.40  1802480  2019      7   17\n",
              "2  20190717  10.15  236.40  236.71  235.83  235.96   780150  2019      7   17\n",
              "3  20190717  10.20  235.96  236.13  235.38  235.91   590180  2019      7   17\n",
              "4  20190717  10.25  235.91  236.55  235.81  236.41   543260  2019      7   17"
            ]
          },
          "metadata": {
            "tags": []
          },
          "execution_count": 6
        }
      ]
    },
    {
      "cell_type": "code",
      "metadata": {
        "id": "CvChyTTrb3KB",
        "colab_type": "code",
        "colab": {}
      },
      "source": [
        "date = []\n",
        "for i in range(sber_5_min.shape[0]):\n",
        "  date.append(datetime.datetime(sber_5_min.year[i], sber_5_min.month[i], sber_5_min.day[i], int(sber_5_min.time[i] // 1), int((sber_5_min.time[i] % 1)*101)))#\n",
        "\n",
        "sber_5_min['date'] = date\n",
        "\n",
        "date = []\n",
        "for i in range(sber_hour.shape[0]):\n",
        "  date.append(datetime.datetime(sber_hour.year[i], sber_hour.month[i], sber_hour.day[i], int(sber_hour.time[i] // 1)))\n",
        "\n",
        "sber_hour['date'] = date"
      ],
      "execution_count": 7,
      "outputs": []
    },
    {
      "cell_type": "code",
      "metadata": {
        "id": "hh3imbNeA0f3",
        "colab_type": "code",
        "colab": {}
      },
      "source": [
        "sber_hour['date'] = pd.to_datetime(sber_hour.date)\n",
        "\n",
        "sber_5_min['date'] = pd.to_datetime(sber_5_min.date)"
      ],
      "execution_count": 8,
      "outputs": []
    },
    {
      "cell_type": "code",
      "metadata": {
        "id": "9hdgFnZsdpgy",
        "colab_type": "code",
        "colab": {
          "base_uri": "https://localhost:8080/",
          "height": 204
        },
        "outputId": "4ee0bc2a-62a9-461a-a22e-d54bfceed7ff"
      },
      "source": [
        "sber_hour.head()"
      ],
      "execution_count": 10,
      "outputs": [
        {
          "output_type": "execute_result",
          "data": {
            "text/html": [
              "<div>\n",
              "<style scoped>\n",
              "    .dataframe tbody tr th:only-of-type {\n",
              "        vertical-align: middle;\n",
              "    }\n",
              "\n",
              "    .dataframe tbody tr th {\n",
              "        vertical-align: top;\n",
              "    }\n",
              "\n",
              "    .dataframe thead th {\n",
              "        text-align: right;\n",
              "    }\n",
              "</style>\n",
              "<table border=\"1\" class=\"dataframe\">\n",
              "  <thead>\n",
              "    <tr style=\"text-align: right;\">\n",
              "      <th></th>\n",
              "      <th>date</th>\n",
              "      <th>time</th>\n",
              "      <th>open</th>\n",
              "      <th>high</th>\n",
              "      <th>low</th>\n",
              "      <th>close</th>\n",
              "      <th>vol</th>\n",
              "      <th>year</th>\n",
              "      <th>month</th>\n",
              "      <th>day</th>\n",
              "    </tr>\n",
              "  </thead>\n",
              "  <tbody>\n",
              "    <tr>\n",
              "      <th>0</th>\n",
              "      <td>2019-07-17 11:00:00</td>\n",
              "      <td>11.0</td>\n",
              "      <td>234.32</td>\n",
              "      <td>238.04</td>\n",
              "      <td>234.02</td>\n",
              "      <td>237.12</td>\n",
              "      <td>8548250</td>\n",
              "      <td>2019</td>\n",
              "      <td>7</td>\n",
              "      <td>17</td>\n",
              "    </tr>\n",
              "    <tr>\n",
              "      <th>1</th>\n",
              "      <td>2019-07-17 12:00:00</td>\n",
              "      <td>12.0</td>\n",
              "      <td>237.12</td>\n",
              "      <td>237.43</td>\n",
              "      <td>236.55</td>\n",
              "      <td>237.20</td>\n",
              "      <td>2801380</td>\n",
              "      <td>2019</td>\n",
              "      <td>7</td>\n",
              "      <td>17</td>\n",
              "    </tr>\n",
              "    <tr>\n",
              "      <th>2</th>\n",
              "      <td>2019-07-17 13:00:00</td>\n",
              "      <td>13.0</td>\n",
              "      <td>237.20</td>\n",
              "      <td>237.20</td>\n",
              "      <td>236.81</td>\n",
              "      <td>237.18</td>\n",
              "      <td>2097860</td>\n",
              "      <td>2019</td>\n",
              "      <td>7</td>\n",
              "      <td>17</td>\n",
              "    </tr>\n",
              "    <tr>\n",
              "      <th>3</th>\n",
              "      <td>2019-07-17 14:00:00</td>\n",
              "      <td>14.0</td>\n",
              "      <td>237.17</td>\n",
              "      <td>237.70</td>\n",
              "      <td>236.70</td>\n",
              "      <td>237.19</td>\n",
              "      <td>2848650</td>\n",
              "      <td>2019</td>\n",
              "      <td>7</td>\n",
              "      <td>17</td>\n",
              "    </tr>\n",
              "    <tr>\n",
              "      <th>4</th>\n",
              "      <td>2019-07-17 15:00:00</td>\n",
              "      <td>15.0</td>\n",
              "      <td>237.19</td>\n",
              "      <td>237.58</td>\n",
              "      <td>236.85</td>\n",
              "      <td>237.13</td>\n",
              "      <td>1454710</td>\n",
              "      <td>2019</td>\n",
              "      <td>7</td>\n",
              "      <td>17</td>\n",
              "    </tr>\n",
              "  </tbody>\n",
              "</table>\n",
              "</div>"
            ],
            "text/plain": [
              "                 date  time    open    high  ...      vol  year  month  day\n",
              "0 2019-07-17 11:00:00  11.0  234.32  238.04  ...  8548250  2019      7   17\n",
              "1 2019-07-17 12:00:00  12.0  237.12  237.43  ...  2801380  2019      7   17\n",
              "2 2019-07-17 13:00:00  13.0  237.20  237.20  ...  2097860  2019      7   17\n",
              "3 2019-07-17 14:00:00  14.0  237.17  237.70  ...  2848650  2019      7   17\n",
              "4 2019-07-17 15:00:00  15.0  237.19  237.58  ...  1454710  2019      7   17\n",
              "\n",
              "[5 rows x 10 columns]"
            ]
          },
          "metadata": {
            "tags": []
          },
          "execution_count": 10
        }
      ]
    },
    {
      "cell_type": "code",
      "metadata": {
        "id": "Hp0O00xGQdZZ",
        "colab_type": "code",
        "colab": {}
      },
      "source": [
        "news.replace(to_replace=['Jan', 'Feb', 'Mar', 'Apr', 'May', 'Jun', 'Jul', 'Aug', 'Sep', 'Oct', 'Nov', 'Dec'], value=[1, 2, 3, 4, 5, 6, 7, 8, 9, 10, 11, 12], inplace=True)\n",
        "news.drop(columns=['day_of_week'], inplace=True)"
      ],
      "execution_count": 11,
      "outputs": []
    },
    {
      "cell_type": "code",
      "metadata": {
        "id": "npnWOWsKVN-B",
        "colab_type": "code",
        "colab": {}
      },
      "source": [
        "date = []\n",
        "for i in range(news.shape[0]):\n",
        "  date.append(datetime.datetime(news.year[i], news.month[i], news.day[i], news.hour[i], news.minute[i]))\n",
        "\n",
        "news['date'] = date"
      ],
      "execution_count": 12,
      "outputs": []
    },
    {
      "cell_type": "code",
      "metadata": {
        "id": "_wqW651XWaTs",
        "colab_type": "code",
        "colab": {
          "base_uri": "https://localhost:8080/",
          "height": 204
        },
        "outputId": "b7b928cb-261c-4595-b106-fcd78b780388"
      },
      "source": [
        "news.head()"
      ],
      "execution_count": 13,
      "outputs": [
        {
          "output_type": "execute_result",
          "data": {
            "text/html": [
              "<div>\n",
              "<style scoped>\n",
              "    .dataframe tbody tr th:only-of-type {\n",
              "        vertical-align: middle;\n",
              "    }\n",
              "\n",
              "    .dataframe tbody tr th {\n",
              "        vertical-align: top;\n",
              "    }\n",
              "\n",
              "    .dataframe thead th {\n",
              "        text-align: right;\n",
              "    }\n",
              "</style>\n",
              "<table border=\"1\" class=\"dataframe\">\n",
              "  <thead>\n",
              "    <tr style=\"text-align: right;\">\n",
              "      <th></th>\n",
              "      <th>text</th>\n",
              "      <th>header</th>\n",
              "      <th>day</th>\n",
              "      <th>month</th>\n",
              "      <th>year</th>\n",
              "      <th>minute</th>\n",
              "      <th>hour</th>\n",
              "      <th>target</th>\n",
              "      <th>date</th>\n",
              "    </tr>\n",
              "  </thead>\n",
              "  <tbody>\n",
              "    <tr>\n",
              "      <th>0</th>\n",
              "      <td>в россии выдано льготной ипотеки под 6,5% на ...</td>\n",
              "      <td>в россии выдано льготной ипотеки под 6,5% на 2...</td>\n",
              "      <td>2</td>\n",
              "      <td>7</td>\n",
              "      <td>2020</td>\n",
              "      <td>57</td>\n",
              "      <td>10</td>\n",
              "      <td>0</td>\n",
              "      <td>2020-07-02 10:57:00</td>\n",
              "    </tr>\n",
              "    <tr>\n",
              "      <th>1</th>\n",
              "      <td>сбербанк закрыл сделку по выкупу доли \"ßндекс...</td>\n",
              "      <td>сбербанк закрыл сделку по выкупу доли \"ßндекса...</td>\n",
              "      <td>2</td>\n",
              "      <td>7</td>\n",
              "      <td>2020</td>\n",
              "      <td>38</td>\n",
              "      <td>0</td>\n",
              "      <td>1</td>\n",
              "      <td>2020-07-02 00:38:00</td>\n",
              "    </tr>\n",
              "    <tr>\n",
              "      <th>2</th>\n",
              "      <td>рынок акций рф во вторник вырос вслед за миро...</td>\n",
              "      <td>рынок акций рф во вторник вырос вслед за миром...</td>\n",
              "      <td>2</td>\n",
              "      <td>7</td>\n",
              "      <td>2020</td>\n",
              "      <td>17</td>\n",
              "      <td>19</td>\n",
              "      <td>1</td>\n",
              "      <td>2020-07-02 19:17:00</td>\n",
              "    </tr>\n",
              "    <tr>\n",
              "      <th>3</th>\n",
              "      <td>рынок акций рф открылся ростом индексов мосби...</td>\n",
              "      <td>рынок акций рф открылся ростом индексов мосбир...</td>\n",
              "      <td>2</td>\n",
              "      <td>7</td>\n",
              "      <td>2020</td>\n",
              "      <td>35</td>\n",
              "      <td>10</td>\n",
              "      <td>1</td>\n",
              "      <td>2020-07-02 10:35:00</td>\n",
              "    </tr>\n",
              "    <tr>\n",
              "      <th>4</th>\n",
              "      <td>сбербанк выдал группе \"аэрофлот\" кредиты на 1...</td>\n",
              "      <td>сбербанк выдал группе \"аэрофлот\" кредиты на 1,...</td>\n",
              "      <td>2</td>\n",
              "      <td>7</td>\n",
              "      <td>2020</td>\n",
              "      <td>42</td>\n",
              "      <td>9</td>\n",
              "      <td>1</td>\n",
              "      <td>2020-07-02 09:42:00</td>\n",
              "    </tr>\n",
              "  </tbody>\n",
              "</table>\n",
              "</div>"
            ],
            "text/plain": [
              "                                                text  ...                date\n",
              "0   в россии выдано льготной ипотеки под 6,5% на ...  ... 2020-07-02 10:57:00\n",
              "1   сбербанк закрыл сделку по выкупу доли \"ßндекс...  ... 2020-07-02 00:38:00\n",
              "2   рынок акций рф во вторник вырос вслед за миро...  ... 2020-07-02 19:17:00\n",
              "3   рынок акций рф открылся ростом индексов мосби...  ... 2020-07-02 10:35:00\n",
              "4   сбербанк выдал группе \"аэрофлот\" кредиты на 1...  ... 2020-07-02 09:42:00\n",
              "\n",
              "[5 rows x 9 columns]"
            ]
          },
          "metadata": {
            "tags": []
          },
          "execution_count": 13
        }
      ]
    },
    {
      "cell_type": "code",
      "metadata": {
        "id": "yQNfaxARYNBV",
        "colab_type": "code",
        "colab": {
          "base_uri": "https://localhost:8080/",
          "height": 187
        },
        "outputId": "082226e1-e974-4d08-e395-e88b44e7d38b"
      },
      "source": [
        "sber_hour['date_int'] = np.zeros(sber_hour.shape[0])\n",
        "\n",
        "for i in range(sber_hour.shape[0]):\n",
        "  sber_hour['date_int'][i] = int(sber_hour.date[i].year)*10_000 + int(sber_hour.date[i].month)*100 + int(sber_hour.date[i].day) + sber_hour.date[i].hour/100\n",
        "\n",
        "news['date_int'] = np.zeros(news.shape[0])\n",
        "\n",
        "for i in range(news.shape[0]):\n",
        "  news['date_int'][i] = int(news.date[i].year)*10_000 + int(news.date[i].month)*100 + int(news.date[i].day) + news.date[i].hour/100"
      ],
      "execution_count": 14,
      "outputs": [
        {
          "output_type": "stream",
          "text": [
            "/usr/local/lib/python3.6/dist-packages/ipykernel_launcher.py:4: SettingWithCopyWarning: \n",
            "A value is trying to be set on a copy of a slice from a DataFrame\n",
            "\n",
            "See the caveats in the documentation: https://pandas.pydata.org/pandas-docs/stable/user_guide/indexing.html#returning-a-view-versus-a-copy\n",
            "  after removing the cwd from sys.path.\n",
            "/usr/local/lib/python3.6/dist-packages/ipykernel_launcher.py:9: SettingWithCopyWarning: \n",
            "A value is trying to be set on a copy of a slice from a DataFrame\n",
            "\n",
            "See the caveats in the documentation: https://pandas.pydata.org/pandas-docs/stable/user_guide/indexing.html#returning-a-view-versus-a-copy\n",
            "  if __name__ == '__main__':\n"
          ],
          "name": "stderr"
        }
      ]
    },
    {
      "cell_type": "code",
      "metadata": {
        "id": "jivsIl3WBUeY",
        "colab_type": "code",
        "colab": {}
      },
      "source": [
        "news = news.merge(sber_hour.drop(columns=['date']))"
      ],
      "execution_count": 15,
      "outputs": []
    },
    {
      "cell_type": "code",
      "metadata": {
        "id": "voxlE8NQ8rr9",
        "colab_type": "code",
        "colab": {}
      },
      "source": [
        "news['target'] = np.where(news.close.shift(-1) > news.close, 1, 0)"
      ],
      "execution_count": 16,
      "outputs": []
    },
    {
      "cell_type": "markdown",
      "metadata": {
        "id": "WDg3_MRbLJmu",
        "colab_type": "text"
      },
      "source": [
        "# Протестируем небольшой датасет "
      ]
    },
    {
      "cell_type": "code",
      "metadata": {
        "id": "24yuV21m8xtM",
        "colab_type": "code",
        "colab": {
          "base_uri": "https://localhost:8080/",
          "height": 34
        },
        "outputId": "2045074e-4cb6-47f4-c023-85af43c8aacf"
      },
      "source": [
        "df = news[['text', 'header', 'target']]\n",
        "print('итого из одного источника за год ', df.replace(0, np.nan).dropna().shape[0], 'полезных новостей')\n",
        "# для обучения и теста это очень мало, но для построения бейзлайна вполне сойдет, сейчас я сделаю модель, которую хоть как-то нужно затестить, а потом соберу нормальные данные"
      ],
      "execution_count": 17,
      "outputs": [
        {
          "output_type": "stream",
          "text": [
            "итого из одного источника за год  42 полезных новостей\n"
          ],
          "name": "stdout"
        }
      ]
    },
    {
      "cell_type": "code",
      "metadata": {
        "id": "djcV_UkTUNjm",
        "colab_type": "code",
        "colab": {
          "base_uri": "https://localhost:8080/",
          "height": 419
        },
        "outputId": "8d100738-d429-4831-9769-1feee63f0738"
      },
      "source": [
        "df.head()"
      ],
      "execution_count": 19,
      "outputs": [
        {
          "output_type": "execute_result",
          "data": {
            "text/html": [
              "<div>\n",
              "<style scoped>\n",
              "    .dataframe tbody tr th:only-of-type {\n",
              "        vertical-align: middle;\n",
              "    }\n",
              "\n",
              "    .dataframe tbody tr th {\n",
              "        vertical-align: top;\n",
              "    }\n",
              "\n",
              "    .dataframe thead th {\n",
              "        text-align: right;\n",
              "    }\n",
              "</style>\n",
              "<table border=\"1\" class=\"dataframe\">\n",
              "  <thead>\n",
              "    <tr style=\"text-align: right;\">\n",
              "      <th></th>\n",
              "      <th>text</th>\n",
              "      <th>header</th>\n",
              "      <th>target</th>\n",
              "    </tr>\n",
              "  </thead>\n",
              "  <tbody>\n",
              "    <tr>\n",
              "      <th>0</th>\n",
              "      <td>рынок акций рф во вторник вырос вслед за миро...</td>\n",
              "      <td>рынок акций рф во вторник вырос вслед за миром...</td>\n",
              "      <td>0</td>\n",
              "    </tr>\n",
              "    <tr>\n",
              "      <th>1</th>\n",
              "      <td>рынок акций начал неделю с роста выше 2800п п...</td>\n",
              "      <td>рынок акций начал неделю с роста выше 2800п по...</td>\n",
              "      <td>0</td>\n",
              "    </tr>\n",
              "    <tr>\n",
              "      <th>2</th>\n",
              "      <td>рынок акций рф во вторник вырос вслед за миро...</td>\n",
              "      <td>рынок акций рф во вторник вырос вслед за миром...</td>\n",
              "      <td>0</td>\n",
              "    </tr>\n",
              "    <tr>\n",
              "      <th>3</th>\n",
              "      <td>рынок акций начал неделю с роста выше 2800п п...</td>\n",
              "      <td>рынок акций начал неделю с роста выше 2800п по...</td>\n",
              "      <td>0</td>\n",
              "    </tr>\n",
              "    <tr>\n",
              "      <th>4</th>\n",
              "      <td>минфин ждет от сбербанка, \"транснефти\" и втб ...</td>\n",
              "      <td>минфин ждет от сбербанка, \"транснефти\" и втб п...</td>\n",
              "      <td>0</td>\n",
              "    </tr>\n",
              "    <tr>\n",
              "      <th>...</th>\n",
              "      <td>...</td>\n",
              "      <td>...</td>\n",
              "      <td>...</td>\n",
              "    </tr>\n",
              "    <tr>\n",
              "      <th>192</th>\n",
              "      <td>отскок рынка акций рф сменился новой волной п...</td>\n",
              "      <td>отскок рынка акций рф сменился новой волной па...</td>\n",
              "      <td>1</td>\n",
              "    </tr>\n",
              "    <tr>\n",
              "      <th>193</th>\n",
              "      <td>попытка рынка акций подрасти завершились расп...</td>\n",
              "      <td>попытка рынка акций подрасти завершились распр...</td>\n",
              "      <td>1</td>\n",
              "    </tr>\n",
              "    <tr>\n",
              "      <th>194</th>\n",
              "      <td>en+ выкупит у втб 21,37% своих акций за $1,58...</td>\n",
              "      <td>en+ выкупит у втб 21,37% своих акций за $1,58 ...</td>\n",
              "      <td>1</td>\n",
              "    </tr>\n",
              "    <tr>\n",
              "      <th>195</th>\n",
              "      <td>правительство и цб договорились о постоянных ...</td>\n",
              "      <td>правительство и цб договорились о постоянных к...</td>\n",
              "      <td>0</td>\n",
              "    </tr>\n",
              "    <tr>\n",
              "      <th>196</th>\n",
              "      <td>минэкономразвития запросило банки, как они мо...</td>\n",
              "      <td>минэкономразвития запросило банки, как они мог...</td>\n",
              "      <td>0</td>\n",
              "    </tr>\n",
              "  </tbody>\n",
              "</table>\n",
              "<p>197 rows × 3 columns</p>\n",
              "</div>"
            ],
            "text/plain": [
              "                                                  text  ... target\n",
              "0     рынок акций рф во вторник вырос вслед за миро...  ...      0\n",
              "1     рынок акций начал неделю с роста выше 2800п п...  ...      0\n",
              "2     рынок акций рф во вторник вырос вслед за миро...  ...      0\n",
              "3     рынок акций начал неделю с роста выше 2800п п...  ...      0\n",
              "4     минфин ждет от сбербанка, \"транснефти\" и втб ...  ...      0\n",
              "..                                                 ...  ...    ...\n",
              "192   отскок рынка акций рф сменился новой волной п...  ...      1\n",
              "193   попытка рынка акций подрасти завершились расп...  ...      1\n",
              "194   en+ выкупит у втб 21,37% своих акций за $1,58...  ...      1\n",
              "195   правительство и цб договорились о постоянных ...  ...      0\n",
              "196   минэкономразвития запросило банки, как они мо...  ...      0\n",
              "\n",
              "[197 rows x 3 columns]"
            ]
          },
          "metadata": {
            "tags": []
          },
          "execution_count": 19
        }
      ]
    },
    {
      "cell_type": "code",
      "metadata": {
        "id": "IBqOkqUkNVLg",
        "colab_type": "code",
        "colab": {}
      },
      "source": [
        "# для начала посмотрю, можно ли решить задачу простыми способами без лишни наворочек\n",
        "count_vectorizer = CountVectorizer(ngram_range=(1, 3), max_features=1000)\n",
        "X = count_vectorizer.fit_transform(df.text)"
      ],
      "execution_count": 20,
      "outputs": []
    },
    {
      "cell_type": "code",
      "metadata": {
        "id": "N2aY3LbmRzTc",
        "colab_type": "code",
        "colab": {
          "base_uri": "https://localhost:8080/",
          "height": 221
        },
        "outputId": "03b6aa45-fe66-479b-fdcb-cdb2a4ce81c5"
      },
      "source": [
        "train_data, test_data, train_target, test_target = tt (X, df.target, test_size=0.2)\n",
        "log_reg = LogisticRegression()\n",
        "xgb_clf = XGBClassifier()\n",
        "svc = SVC(kernel='rbf')\n",
        "\n",
        "xgb_clf.fit(train_data, train_target)\n",
        "log_reg.fit(train_data, train_target)\n",
        "svc.fit(train_data, train_target)"
      ],
      "execution_count": 21,
      "outputs": [
        {
          "output_type": "stream",
          "text": [
            "/usr/local/lib/python3.6/dist-packages/sklearn/linear_model/_logistic.py:940: ConvergenceWarning: lbfgs failed to converge (status=1):\n",
            "STOP: TOTAL NO. of ITERATIONS REACHED LIMIT.\n",
            "\n",
            "Increase the number of iterations (max_iter) or scale the data as shown in:\n",
            "    https://scikit-learn.org/stable/modules/preprocessing.html\n",
            "Please also refer to the documentation for alternative solver options:\n",
            "    https://scikit-learn.org/stable/modules/linear_model.html#logistic-regression\n",
            "  extra_warning_msg=_LOGISTIC_SOLVER_CONVERGENCE_MSG)\n"
          ],
          "name": "stderr"
        },
        {
          "output_type": "execute_result",
          "data": {
            "text/plain": [
              "SVC(C=1.0, break_ties=False, cache_size=200, class_weight=None, coef0=0.0,\n",
              "    decision_function_shape='ovr', degree=3, gamma='scale', kernel='rbf',\n",
              "    max_iter=-1, probability=False, random_state=None, shrinking=True,\n",
              "    tol=0.001, verbose=False)"
            ]
          },
          "metadata": {
            "tags": []
          },
          "execution_count": 21
        }
      ]
    },
    {
      "cell_type": "code",
      "metadata": {
        "id": "kTqr0PUSDOiN",
        "colab_type": "code",
        "colab": {
          "base_uri": "https://localhost:8080/",
          "height": 331
        },
        "outputId": "ee717691-9554-4b16-a283-d3c033c2bb88"
      },
      "source": [
        "sns.countplot(test_target)"
      ],
      "execution_count": 22,
      "outputs": [
        {
          "output_type": "stream",
          "text": [
            "/usr/local/lib/python3.6/dist-packages/statsmodels/tools/_testing.py:19: FutureWarning: pandas.util.testing is deprecated. Use the functions in the public API at pandas.testing instead.\n",
            "  import pandas.util.testing as tm\n"
          ],
          "name": "stderr"
        },
        {
          "output_type": "execute_result",
          "data": {
            "text/plain": [
              "<matplotlib.axes._subplots.AxesSubplot at 0x7f6a8fc2b588>"
            ]
          },
          "metadata": {
            "tags": []
          },
          "execution_count": 22
        },
        {
          "output_type": "display_data",
          "data": {
            "image/png": "[encoded data removed]",
            "text/plain": [
              "<Figure size 432x288 with 1 Axes>"
            ]
          },
          "metadata": {
            "tags": [],
            "needs_background": "light"
          }
        }
      ]
    },
    {
      "cell_type": "code",
      "metadata": {
        "id": "4Y3B931cSXjo",
        "colab_type": "code",
        "colab": {
          "base_uri": "https://localhost:8080/",
          "height": 34
        },
        "outputId": "6385bba4-69f3-45ac-9a19-b25acfabf0e3"
      },
      "source": [
        "accuracy_score(test_target, xgb_clf.predict(test_data))\n",
        "#roc_auc_score(test_target, xgb_clf.predict(test_data))"
      ],
      "execution_count": 23,
      "outputs": [
        {
          "output_type": "execute_result",
          "data": {
            "text/plain": [
              "0.725"
            ]
          },
          "metadata": {
            "tags": []
          },
          "execution_count": 23
        }
      ]
    },
    {
      "cell_type": "code",
      "metadata": {
        "id": "tCIXc4C7TjpT",
        "colab_type": "code",
        "colab": {
          "base_uri": "https://localhost:8080/",
          "height": 34
        },
        "outputId": "c345c293-a4b4-4be4-d81e-fc7fb0331093"
      },
      "source": [
        "accuracy_score(test_target, log_reg.predict(test_data))"
      ],
      "execution_count": 24,
      "outputs": [
        {
          "output_type": "execute_result",
          "data": {
            "text/plain": [
              "0.725"
            ]
          },
          "metadata": {
            "tags": []
          },
          "execution_count": 24
        }
      ]
    },
    {
      "cell_type": "code",
      "metadata": {
        "id": "oTYxdii9WWtC",
        "colab_type": "code",
        "colab": {
          "base_uri": "https://localhost:8080/",
          "height": 34
        },
        "outputId": "53953f1d-1119-47fb-bff5-009b40e73c54"
      },
      "source": [
        "accuracy_score(test_target, svc.predict(test_data))"
      ],
      "execution_count": 25,
      "outputs": [
        {
          "output_type": "execute_result",
          "data": {
            "text/plain": [
              "0.725"
            ]
          },
          "metadata": {
            "tags": []
          },
          "execution_count": 25
        }
      ]
    },
    {
      "cell_type": "code",
      "metadata": {
        "id": "1A_wh9Z1DhCx",
        "colab_type": "code",
        "colab": {
          "base_uri": "https://localhost:8080/",
          "height": 51
        },
        "outputId": "c1a22533-4c98-4793-c689-061c439cbd0a"
      },
      "source": [
        "log_reg.predict(test_data)"
      ],
      "execution_count": 26,
      "outputs": [
        {
          "output_type": "execute_result",
          "data": {
            "text/plain": [
              "array([0, 0, 1, 1, 0, 0, 0, 0, 0, 0, 0, 0, 0, 0, 0, 0, 0, 0, 0, 0, 0, 0,\n",
              "       0, 0, 0, 0, 0, 0, 0, 0, 0, 0, 0, 0, 0, 0, 0, 0, 0, 0])"
            ]
          },
          "metadata": {
            "tags": []
          },
          "execution_count": 26
        }
      ]
    },
    {
      "cell_type": "code",
      "metadata": {
        "id": "hPJvFO-XXFU7",
        "colab_type": "code",
        "colab": {
          "base_uri": "https://localhost:8080/",
          "height": 34
        },
        "outputId": "7f432ae2-427d-41a5-e1a1-ffaa87c9c004"
      },
      "source": [
        "vectorizer = TfidfVectorizer(ngram_range=(1, 3), max_features=4000)\n",
        "X = vectorizer.fit_transform(df.text)\n",
        "train_data, test_data, train_target, test_target = tt (X, df.target, test_size=0.25)\n",
        "\n",
        "log_reg.fit(train_data, train_target)\n",
        " \n",
        "accuracy_score(test_target, log_reg.predict(test_data))"
      ],
      "execution_count": 28,
      "outputs": [
        {
          "output_type": "execute_result",
          "data": {
            "text/plain": [
              "0.78"
            ]
          },
          "metadata": {
            "tags": []
          },
          "execution_count": 28
        }
      ]
    },
    {
      "cell_type": "markdown",
      "metadata": {
        "id": "jBl2wTCrUy2z",
        "colab_type": "text"
      },
      "source": [
        "## Новостей мало, нужен большой датасет"
      ]
    },
    {
      "cell_type": "markdown",
      "metadata": {
        "id": "yFmNoPb5t8Lg",
        "colab_type": "text"
      },
      "source": [
        "##News from Evgeniy"
      ]
    },
    {
      "cell_type": "code",
      "metadata": {
        "id": "JFtSVUfIaaIO",
        "colab_type": "code",
        "colab": {
          "base_uri": "https://localhost:8080/",
          "height": 595
        },
        "outputId": "2198e652-e029-469b-9381-15f5054b153a"
      },
      "source": [
        "! pip install transformers"
      ],
      "execution_count": 1,
      "outputs": [
        {
          "output_type": "stream",
          "text": [
            "Collecting transformers\n",
            "\u001b[?25l  Downloading https://files.pythonhosted.org/packages/27/3c/91ed8f5c4e7ef3227b4119200fc0ed4b4fd965b1f0172021c25701087825/transformers-3.0.2-py3-none-any.whl (769kB)\n",
            "\u001b[K     |████████████████████████████████| 778kB 2.8MB/s \n",
            "\u001b[?25hRequirement already satisfied: numpy in /usr/local/lib/python3.6/dist-packages (from transformers) (1.18.5)\n",
            "Collecting tokenizers==0.8.1.rc1\n",
            "\u001b[?25l  Downloading https://files.pythonhosted.org/packages/40/d0/30d5f8d221a0ed981a186c8eb986ce1c94e3a6e87f994eae9f4aa5250217/tokenizers-0.8.1rc1-cp36-cp36m-manylinux1_x86_64.whl (3.0MB)\n",
            "\u001b[K     |████████████████████████████████| 3.0MB 10.0MB/s \n",
            "\u001b[?25hRequirement already satisfied: filelock in /usr/local/lib/python3.6/dist-packages (from transformers) (3.0.12)\n",
            "Requirement already satisfied: packaging in /usr/local/lib/python3.6/dist-packages (from transformers) (20.4)\n",
            "Requirement already satisfied: tqdm>=4.27 in /usr/local/lib/python3.6/dist-packages (from transformers) (4.41.1)\n",
            "Requirement already satisfied: dataclasses; python_version < \"3.7\" in /usr/local/lib/python3.6/dist-packages (from transformers) (0.7)\n",
            "Requirement already satisfied: regex!=2019.12.17 in /usr/local/lib/python3.6/dist-packages (from transformers) (2019.12.20)\n",
            "Collecting sacremoses\n",
            "\u001b[?25l  Downloading https://files.pythonhosted.org/packages/7d/34/09d19aff26edcc8eb2a01bed8e98f13a1537005d31e95233fd48216eed10/sacremoses-0.0.43.tar.gz (883kB)\n",
            "\u001b[K     |████████████████████████████████| 890kB 30.8MB/s \n",
            "\u001b[?25hCollecting sentencepiece!=0.1.92\n",
            "\u001b[?25l  Downloading https://files.pythonhosted.org/packages/d4/a4/d0a884c4300004a78cca907a6ff9a5e9fe4f090f5d95ab341c53d28cbc58/sentencepiece-0.1.91-cp36-cp36m-manylinux1_x86_64.whl (1.1MB)\n",
            "\u001b[K     |████████████████████████████████| 1.1MB 42.4MB/s \n",
            "\u001b[?25hRequirement already satisfied: requests in /usr/local/lib/python3.6/dist-packages (from transformers) (2.23.0)\n",
            "Requirement already satisfied: pyparsing>=2.0.2 in /usr/local/lib/python3.6/dist-packages (from packaging->transformers) (2.4.7)\n",
            "Requirement already satisfied: six in /usr/local/lib/python3.6/dist-packages (from packaging->transformers) (1.15.0)\n",
            "Requirement already satisfied: click in /usr/local/lib/python3.6/dist-packages (from sacremoses->transformers) (7.1.2)\n",
            "Requirement already satisfied: joblib in /usr/local/lib/python3.6/dist-packages (from sacremoses->transformers) (0.16.0)\n",
            "Requirement already satisfied: chardet<4,>=3.0.2 in /usr/local/lib/python3.6/dist-packages (from requests->transformers) (3.0.4)\n",
            "Requirement already satisfied: urllib3!=1.25.0,!=1.25.1,<1.26,>=1.21.1 in /usr/local/lib/python3.6/dist-packages (from requests->transformers) (1.24.3)\n",
            "Requirement already satisfied: idna<3,>=2.5 in /usr/local/lib/python3.6/dist-packages (from requests->transformers) (2.10)\n",
            "Requirement already satisfied: certifi>=2017.4.17 in /usr/local/lib/python3.6/dist-packages (from requests->transformers) (2020.6.20)\n",
            "Building wheels for collected packages: sacremoses\n",
            "  Building wheel for sacremoses (setup.py) ... \u001b[?25l\u001b[?25hdone\n",
            "  Created wheel for sacremoses: filename=sacremoses-0.0.43-cp36-none-any.whl size=893260 sha256=9abbdc9786fa824cd79ddea982082c805007e6fe6200399eb165c86d106eac4d\n",
            "  Stored in directory: /root/.cache/pip/wheels/29/3c/fd/7ce5c3f0666dab31a50123635e6fb5e19ceb42ce38d4e58f45\n",
            "Successfully built sacremoses\n",
            "Installing collected packages: tokenizers, sacremoses, sentencepiece, transformers\n",
            "Successfully installed sacremoses-0.0.43 sentencepiece-0.1.91 tokenizers-0.8.1rc1 transformers-3.0.2\n"
          ],
          "name": "stdout"
        }
      ]
    },
    {
      "cell_type": "code",
      "metadata": {
        "id": "eA_t1VDmrnrZ",
        "colab_type": "code",
        "colab": {
          "base_uri": "https://localhost:8080/",
          "height": 204
        },
        "outputId": "ac64a3a9-a564-4ff9-cf42-2f95745bc9c1"
      },
      "source": [
        "!pip install pymorphy2"
      ],
      "execution_count": 2,
      "outputs": [
        {
          "output_type": "stream",
          "text": [
            "Collecting pymorphy2\n",
            "\u001b[?25l  Downloading https://files.pythonhosted.org/packages/a3/33/fff9675c68b5f6c63ec8c6e6ff57827dda28a1fa5b2c2d727dffff92dd47/pymorphy2-0.8-py2.py3-none-any.whl (46kB)\n",
            "\r\u001b[K     |███████                         | 10kB 16.9MB/s eta 0:00:01\r\u001b[K     |██████████████▏                 | 20kB 1.8MB/s eta 0:00:01\r\u001b[K     |█████████████████████▎          | 30kB 2.2MB/s eta 0:00:01\r\u001b[K     |████████████████████████████▍   | 40kB 2.5MB/s eta 0:00:01\r\u001b[K     |████████████████████████████████| 51kB 1.6MB/s \n",
            "\u001b[?25hCollecting pymorphy2-dicts<3.0,>=2.4\n",
            "\u001b[?25l  Downloading https://files.pythonhosted.org/packages/02/51/2465fd4f72328ab50877b54777764d928da8cb15b74e2680fc1bd8cb3173/pymorphy2_dicts-2.4.393442.3710985-py2.py3-none-any.whl (7.1MB)\n",
            "\u001b[K     |████████████████████████████████| 7.1MB 6.3MB/s \n",
            "\u001b[?25hRequirement already satisfied: docopt>=0.6 in /usr/local/lib/python3.6/dist-packages (from pymorphy2) (0.6.2)\n",
            "Collecting dawg-python>=0.7\n",
            "  Downloading https://files.pythonhosted.org/packages/6a/84/ff1ce2071d4c650ec85745766c0047ccc3b5036f1d03559fd46bb38b5eeb/DAWG_Python-0.7.2-py2.py3-none-any.whl\n",
            "Installing collected packages: pymorphy2-dicts, dawg-python, pymorphy2\n",
            "Successfully installed dawg-python-0.7.2 pymorphy2-0.8 pymorphy2-dicts-2.4.393442.3710985\n"
          ],
          "name": "stdout"
        }
      ]
    },
    {
      "cell_type": "code",
      "metadata": {
        "id": "pwVb1Ya9xb_2",
        "colab_type": "code",
        "colab": {}
      },
      "source": [
        "import datetime\n",
        "import time\n",
        "import re\n",
        "import seaborn as sns\n",
        "import warnings\n",
        "import numpy as np\n",
        "import pandas as pd\n",
        "import pickle\n",
        "from lightgbm import LGBMClassifier\n",
        "from keras.layers import Activation, Embedding, LSTM, Dense, Conv1D, GlobalMaxPooling1D\n",
        "from keras import Sequential\n",
        "from collections import Counter\n",
        "from tensorflow.keras import utils\n",
        "\n",
        "from sklearn.model_selection import cross_val_score, GridSearchCV\n",
        "from sklearn.feature_extraction.text import CountVectorizer, TfidfVectorizer\n",
        "from sklearn.linear_model import LogisticRegression\n",
        "from sklearn.model_selection import train_test_split as tt\n",
        "from xgboost import XGBClassifier\n",
        "from sklearn.ensemble import RandomForestClassifier, ExtraTreesRegressor\n",
        "from sklearn.svm import SVC\n",
        "from sklearn.neighbors import KNeighborsClassifier\n",
        "from sklearn.neural_network import MLPClassifier\n",
        "from sklearn.naive_bayes import GaussianNB\n",
        "from sklearn.tree import DecisionTreeClassifier\n",
        "from sklearn.metrics import accuracy_score, roc_auc_score, f1_score, precision_score, recall_score, log_loss\n",
        "\n",
        "from sklearn.model_selection import TimeSeriesSplit, cross_val_score, GridSearchCV\n",
        "from sklearn.metrics import roc_auc_score \n",
        "from sklearn.model_selection import train_test_split as tt\n",
        "import nltk\n",
        "from nltk.corpus import stopwords\n",
        "from sklearn.model_selection import GridSearchCV\n",
        "import torch\n",
        "import transformers as ppb\n",
        "from sklearn.metrics import accuracy_score\n",
        "from xgboost import XGBRegressor\n",
        "from sklearn.metrics import mean_absolute_error as mae\n",
        "\n",
        "import warnings\n",
        "warnings.filterwarnings('ignore')\n",
        "from keras.preprocessing.sequence import pad_sequences\n",
        "import pymorphy2"
      ],
      "execution_count": 236,
      "outputs": []
    },
    {
      "cell_type": "code",
      "metadata": {
        "id": "YCdz4nhPuBPN",
        "colab_type": "code",
        "colab": {}
      },
      "source": [
        "forbes = pd.read_json('interfax.json')\n",
        "\n",
        "forbes.drop(columns=['url', 'inns'], inplace=True)"
      ],
      "execution_count": 170,
      "outputs": []
    },
    {
      "cell_type": "code",
      "metadata": {
        "id": "ilgthOyiz5v8",
        "colab_type": "code",
        "colab": {}
      },
      "source": [
        "date = []\n",
        "\n",
        "for i in range(forbes.shape[0]):\n",
        "  date.append(datetime.datetime(year=int(forbes.dttm_published[i][:4]), month=int(forbes.dttm_published[i][5:7]), day=int(forbes.dttm_published[i][8:10])))\n",
        "  \n",
        "forbes['date'] = date\n",
        "forbes.drop(columns=['dttm_published'], inplace=True)"
      ],
      "execution_count": 171,
      "outputs": []
    },
    {
      "cell_type": "markdown",
      "metadata": {
        "id": "ER0eusvp3vEc",
        "colab_type": "text"
      },
      "source": [
        "## Text prerocessing"
      ]
    },
    {
      "cell_type": "code",
      "metadata": {
        "id": "6k-1RTgE1oSS",
        "colab_type": "code",
        "colab": {
          "base_uri": "https://localhost:8080/",
          "height": 51
        },
        "outputId": "4367c457-1117-482d-bf72-aa2057ecc5e0"
      },
      "source": [
        "nltk.download('stopwords') # стоп слова русского языка\n",
        "\n",
        "stop_words = stopwords.words(('russian'))\n",
        "\n",
        "stop_words.remove('нет')\n",
        "stop_words.remove('не')\n",
        "stop_words.remove('ни')\n",
        "\n",
        "for i in range(len(stop_words)):\n",
        " stop_words[i] = ' '+stop_words[i]+' '"
      ],
      "execution_count": 172,
      "outputs": [
        {
          "output_type": "stream",
          "text": [
            "[nltk_data] Downloading package stopwords to /root/nltk_data...\n",
            "[nltk_data]   Package stopwords is already up-to-date!\n"
          ],
          "name": "stdout"
        }
      ]
    },
    {
      "cell_type": "code",
      "metadata": {
        "id": "i3dSw3uK30LP",
        "colab_type": "code",
        "colab": {}
      },
      "source": [
        "#dictionary = [] # словарь символов, из которых состоят все тексты\n",
        "\n",
        "#for text in forbes.text.values:\n",
        "#  text.lower()\n",
        "#  for char in text:\n",
        "#    if char not in dictionary:\n",
        "#      dictionary.append(char)\n",
        "\n",
        "#dictionary.sort()\n",
        "#useful_char = [' ']\n",
        "#useful_char = useful_char + dictionary[34:60] + dictionary[66:92] + dictionary[99:-4]# полезные символы лишь символы алфавита и некоторые другие \n",
        "# (взяты по интуитивным соображениям)\n",
        "# тем самым отбрасываем пунктуацию, цифры и их производные(номера телефонов, договоров) и прочую информацию, которая похожа на шум и не несет в себе смысл\n",
        "\n",
        "#useless_char = []\n",
        "\n",
        "#for char in dictionary:\n",
        "#  if char not in useful_char:\n",
        "#    useless_char.append(char)"
      ],
      "execution_count": 174,
      "outputs": []
    },
    {
      "cell_type": "code",
      "metadata": {
        "id": "UBFcp9t-r1-4",
        "colab_type": "code",
        "colab": {}
      },
      "source": [
        "morph = pymorphy2.MorphAnalyzer()"
      ],
      "execution_count": 175,
      "outputs": []
    },
    {
      "cell_type": "code",
      "metadata": {
        "id": "vR3owG4Q4-Dj",
        "colab_type": "code",
        "colab": {}
      },
      "source": [
        "def tex_preprocessing(lemmatize, replacement, del_stop_words, no_connection, del_word_less_2_symbol):\n",
        "\n",
        "  data = []\n",
        "\n",
        "  for i in range(forbes.shape[0]):\n",
        "\n",
        "    d = forbes.text[i]\n",
        "    d = d.lower() # приведение к нижнему регистру\n",
        "    d = re.sub(r'https://[a-z1-9./]+', ' ', d) # удаление ссылок\n",
        "\n",
        "    d = re.sub('[^a-z0-9а-я]', ' ', d) # удаление символов кроме символов русского и английского алфавитов\n",
        "\n",
        "    if lemmatize == True:\n",
        "      d = \" \".join(morph.parse(word)[0].normal_form for word in d.split()) # Лемматизация\n",
        "\n",
        "    d = re.sub(' нет ', ' не ', d) # Замена 'нет' и 'ни' на 'не'\n",
        "    d = re.sub(' ни ', ' не ', d)\n",
        "    d = re.sub(r'\\d+', 'number_token', d) # Замена чисел на number_token\n",
        "\n",
        "    if replacement == True:\n",
        "      d = re.sub('ё', 'е', d)\n",
        "      d = re.sub('й', 'и', d)\n",
        "\n",
        "    if del_stop_words == True:\n",
        "      for stop_word in stop_words:\n",
        "        if stop_word in d:\n",
        "          d = re.sub(stop_word, ' ', d) # удаление стоп слов      \n",
        "\n",
        "    if no_connection == True:\n",
        "      words = d.split()\n",
        "      for i in range(len(words)-1):\n",
        "          if words[i] == ' не ':\n",
        "            words[i] = words[i] + words[i+1]\n",
        "            words[i+1] = ' '\n",
        "          else:\n",
        "            d = ' '.join(words)\n",
        "            d = ' '.join(d.split())\n",
        "\n",
        "    if del_word_less_2_symbol == True:\n",
        "      d = \" \".join([w for w in d.split() if len(w) > 2])\n",
        "\n",
        "    data.append(d)\n",
        "\n",
        "  return data"
      ],
      "execution_count": 209,
      "outputs": []
    },
    {
      "cell_type": "code",
      "metadata": {
        "id": "4U5iyBDZ2CSl",
        "colab_type": "code",
        "colab": {}
      },
      "source": [
        "data = tex_preprocessing(lemmatize=True, replacement=True, del_stop_words=True, no_connection=True, del_word_less_2_symbol=True)"
      ],
      "execution_count": 210,
      "outputs": []
    },
    {
      "cell_type": "code",
      "metadata": {
        "id": "t69Isq2zaXSs",
        "colab_type": "code",
        "colab": {
          "base_uri": "https://localhost:8080/",
          "height": 120
        },
        "outputId": "0322a366-e096-412b-dbc9-cf1308165e0b"
      },
      "source": [
        "data[0]"
      ],
      "execution_count": 211,
      "outputs": [
        {
          "output_type": "execute_result",
          "data": {
            "application/vnd.google.colaboratory.intrinsic+json": {
              "type": "string"
            },
            "text/plain": [
              "'москва компания infor media russia пятница number_token март провести онлаин конференция закупка секрет данныи момент мир наш страна частность сложиться ситуация которыи работать многие проверить механизм инструмент отмечаться материал компания приходиться адаптироваться реалия искать нестандартныи решение развитие бизнес пробовать новое метод которыи помочь оптимизировать процесс наладить работа существенныи потеря ход конференция планироваться обсудить частность вопрос влияние новыи фактор закупочныи деятельность влияние новыи экономическии социальныи аспект построение внешнии внутреннии взаимодеиствие компания речь идти частность переход закупочныи подразделение удаленныи работа изменение схема работа иностранныи поставщик работа валютныи контракт плата приглашать присоединиться открытыи онлаин диалог эксперт закупка вместе попытаться наити ответ другои вопрос рассмотреть ситуация сеичас вывод делать рано пробовать смелыи нестандартныи решение самыи время сообщать компания данные компания ход конференция качество спикер выступить представитель нлмк макдональдс евросибэнерго мтс ренессанс кредит татнефть регистрация мероприятие проводиться ссылка'"
            ]
          },
          "metadata": {
            "tags": []
          },
          "execution_count": 211
        }
      ]
    },
    {
      "cell_type": "code",
      "metadata": {
        "id": "DR381BuzJXPO",
        "colab_type": "code",
        "colab": {}
      },
      "source": [
        "#cnt = Counter() # подсчет числа вхождений каждого слова в текст\n",
        "#for text in data:\n",
        "#    for word in str(text).split():\n",
        "#        cnt[word] += 1\n",
        "        \n",
        "#most_frequient = cnt.most_common()\n",
        "\n",
        "#most_and_less_frequient_words = set([w for (w, wc) in most_frequient[:250] +  most_frequient[-19_770:]]) # -13_005:\n",
        "\n",
        "#def remove_words(text):\n",
        "\n",
        "#    return ' '.join([word for word in str(text).split() if word not in most_and_less_frequient_words])\n",
        "\n",
        "#data = pd.Series(data).apply(lambda text: remove_words(text)) # удаление самых частых и самых редких слов (остались только слова с частотой от 3 до 233)"
      ],
      "execution_count": 26,
      "outputs": []
    },
    {
      "cell_type": "markdown",
      "metadata": {
        "id": "0UtV0PuESJgV",
        "colab_type": "text"
      },
      "source": [
        "## Simple test"
      ]
    },
    {
      "cell_type": "code",
      "metadata": {
        "id": "J4pH8rbYSqjL",
        "colab_type": "code",
        "colab": {}
      },
      "source": [
        "def preprocessing_sber_data(sber):\n",
        "  sber.columns=['date', 'time', 'open', 'high', 'low', 'close', 'vol']\n",
        "  sber.time /= 10_000\n",
        "\n",
        "  year, month, day = [], [], []\n",
        "  for i in range(sber.shape[0]):\n",
        "    year.append(time.strptime(str(sber.date[i]), '%Y%m%d')[0])\n",
        "    month.append(time.strptime(str(sber.date[i]), '%Y%m%d')[1])\n",
        "    day.append(time.strptime(str(sber.date[i]), '%Y%m%d')[2])\n",
        "\n",
        "  sber['year'] = year\n",
        "  sber['month'] = month\n",
        "  sber['day'] = day\n",
        "\n",
        "  sber.drop(columns=['date'], inplace=True)\n",
        "\n",
        "  return sber"
      ],
      "execution_count": 213,
      "outputs": []
    },
    {
      "cell_type": "code",
      "metadata": {
        "id": "lJyaPQPWSL1Q",
        "colab_type": "code",
        "colab": {}
      },
      "source": [
        "sber_day = preprocessing_sber_data(pd.read_csv('https://raw.githubusercontent.com/WildArcher/Stock_price_prediction/master/sber_data/SBER_2000-2020_day.csv', sep=' '))"
      ],
      "execution_count": 214,
      "outputs": []
    },
    {
      "cell_type": "code",
      "metadata": {
        "id": "FM7hxDLhSdWi",
        "colab_type": "code",
        "colab": {}
      },
      "source": [
        "sber_day['date'] = np.zeros(sber_day.shape[0])\n",
        "\n",
        "for i in range(sber_day.shape[0]): \n",
        "  sber_day['date'][i] = datetime.datetime(sber_day.year[i], sber_day.month[i], sber_day.day[i])"
      ],
      "execution_count": 215,
      "outputs": []
    },
    {
      "cell_type": "code",
      "metadata": {
        "id": "4xQP4LQcS3-7",
        "colab_type": "code",
        "colab": {
          "base_uri": "https://localhost:8080/",
          "height": 204
        },
        "outputId": "b00ae9c8-d4a1-4297-e8c2-9e4cc1d2b187"
      },
      "source": [
        "sber_day.head()"
      ],
      "execution_count": 216,
      "outputs": [
        {
          "output_type": "execute_result",
          "data": {
            "text/html": [
              "<div>\n",
              "<style scoped>\n",
              "    .dataframe tbody tr th:only-of-type {\n",
              "        vertical-align: middle;\n",
              "    }\n",
              "\n",
              "    .dataframe tbody tr th {\n",
              "        vertical-align: top;\n",
              "    }\n",
              "\n",
              "    .dataframe thead th {\n",
              "        text-align: right;\n",
              "    }\n",
              "</style>\n",
              "<table border=\"1\" class=\"dataframe\">\n",
              "  <thead>\n",
              "    <tr style=\"text-align: right;\">\n",
              "      <th></th>\n",
              "      <th>time</th>\n",
              "      <th>open</th>\n",
              "      <th>high</th>\n",
              "      <th>low</th>\n",
              "      <th>close</th>\n",
              "      <th>vol</th>\n",
              "      <th>year</th>\n",
              "      <th>month</th>\n",
              "      <th>day</th>\n",
              "      <th>date</th>\n",
              "    </tr>\n",
              "  </thead>\n",
              "  <tbody>\n",
              "    <tr>\n",
              "      <th>0</th>\n",
              "      <td>0.0</td>\n",
              "      <td>1333.00</td>\n",
              "      <td>1372.00</td>\n",
              "      <td>1333.0</td>\n",
              "      <td>1352.00</td>\n",
              "      <td>8732</td>\n",
              "      <td>2000</td>\n",
              "      <td>7</td>\n",
              "      <td>17</td>\n",
              "      <td>2000-07-17 00:00:00</td>\n",
              "    </tr>\n",
              "    <tr>\n",
              "      <th>1</th>\n",
              "      <td>0.0</td>\n",
              "      <td>1341.17</td>\n",
              "      <td>1352.50</td>\n",
              "      <td>1327.0</td>\n",
              "      <td>1335.00</td>\n",
              "      <td>7134</td>\n",
              "      <td>2000</td>\n",
              "      <td>7</td>\n",
              "      <td>18</td>\n",
              "      <td>2000-07-18 00:00:00</td>\n",
              "    </tr>\n",
              "    <tr>\n",
              "      <th>2</th>\n",
              "      <td>0.0</td>\n",
              "      <td>1340.00</td>\n",
              "      <td>1345.49</td>\n",
              "      <td>1282.0</td>\n",
              "      <td>1296.00</td>\n",
              "      <td>18491</td>\n",
              "      <td>2000</td>\n",
              "      <td>7</td>\n",
              "      <td>19</td>\n",
              "      <td>2000-07-19 00:00:00</td>\n",
              "    </tr>\n",
              "    <tr>\n",
              "      <th>3</th>\n",
              "      <td>0.0</td>\n",
              "      <td>1293.83</td>\n",
              "      <td>1299.99</td>\n",
              "      <td>1260.0</td>\n",
              "      <td>1284.98</td>\n",
              "      <td>9710</td>\n",
              "      <td>2000</td>\n",
              "      <td>7</td>\n",
              "      <td>20</td>\n",
              "      <td>2000-07-20 00:00:00</td>\n",
              "    </tr>\n",
              "    <tr>\n",
              "      <th>4</th>\n",
              "      <td>0.0</td>\n",
              "      <td>1320.00</td>\n",
              "      <td>1330.00</td>\n",
              "      <td>1287.0</td>\n",
              "      <td>1295.00</td>\n",
              "      <td>10973</td>\n",
              "      <td>2000</td>\n",
              "      <td>7</td>\n",
              "      <td>21</td>\n",
              "      <td>2000-07-21 00:00:00</td>\n",
              "    </tr>\n",
              "  </tbody>\n",
              "</table>\n",
              "</div>"
            ],
            "text/plain": [
              "   time     open     high     low  ...  year  month  day                 date\n",
              "0   0.0  1333.00  1372.00  1333.0  ...  2000      7   17  2000-07-17 00:00:00\n",
              "1   0.0  1341.17  1352.50  1327.0  ...  2000      7   18  2000-07-18 00:00:00\n",
              "2   0.0  1340.00  1345.49  1282.0  ...  2000      7   19  2000-07-19 00:00:00\n",
              "3   0.0  1293.83  1299.99  1260.0  ...  2000      7   20  2000-07-20 00:00:00\n",
              "4   0.0  1320.00  1330.00  1287.0  ...  2000      7   21  2000-07-21 00:00:00\n",
              "\n",
              "[5 rows x 10 columns]"
            ]
          },
          "metadata": {
            "tags": []
          },
          "execution_count": 216
        }
      ]
    },
    {
      "cell_type": "code",
      "metadata": {
        "id": "_tCU4EdzTfiH",
        "colab_type": "code",
        "colab": {}
      },
      "source": [
        "forbes['text'] = data"
      ],
      "execution_count": 218,
      "outputs": []
    },
    {
      "cell_type": "code",
      "metadata": {
        "id": "qN27pWjyUUHU",
        "colab_type": "code",
        "colab": {}
      },
      "source": [
        "sber_day['date_int'] = np.zeros(sber_day.shape[0])\n",
        "\n",
        "for i in range(sber_day.shape[0]):\n",
        "  sber_day['date_int'][i] = int(sber_day.date[i].year)*10_000 + int(sber_day.date[i].month)*100 + int(sber_day.date[i].day)"
      ],
      "execution_count": 219,
      "outputs": []
    },
    {
      "cell_type": "code",
      "metadata": {
        "id": "CmgfcbczYAMv",
        "colab_type": "code",
        "colab": {}
      },
      "source": [
        "forbes['date_int'] = np.zeros(forbes.shape[0])\n",
        "\n",
        "for i in range(forbes.shape[0]):\n",
        "  forbes['date_int'][i] = int(forbes.date[i].year)*10_000 + int(forbes.date[i].month)*100 + int(forbes.date[i].day)"
      ],
      "execution_count": 220,
      "outputs": []
    },
    {
      "cell_type": "code",
      "metadata": {
        "id": "w-yPY4qDYPPU",
        "colab_type": "code",
        "colab": {}
      },
      "source": [
        "forbes = forbes.merge(sber_day.drop(columns=['date']))\n",
        "\n",
        "forbes['target']  = np.where(forbes.close.shift(-1) > forbes.close, 1, 0)\n",
        "\n",
        "for i in range(len(np.unique(forbes.date_int))):\n",
        "  if forbes.target[forbes.date_int == np.unique(forbes.date_int)[i]].mean() != 0:\n",
        "    for index in forbes.target[forbes.date_int == np.unique(forbes.date_int)[i]].index:\n",
        "      forbes.target[index] = 1\n",
        "\n",
        "data = forbes[['close', 'text', 'target']]"
      ],
      "execution_count": 221,
      "outputs": []
    },
    {
      "cell_type": "code",
      "metadata": {
        "id": "dQSW8SgtAAlj",
        "colab_type": "code",
        "colab": {}
      },
      "source": [
        "def vectorizer(text, tf_idf, ngram_range, max_features, min_df, max_df):\n",
        "\n",
        "  if tf_idf == True:\n",
        "    vectorizer = TfidfVectorizer(ngram_range=ngram_range, max_features=max_features, min_df=min_df, max_df=max_df)\n",
        "  else:\n",
        "    vectorizer = CountVectorizer(ngram_range=ngram_range, max_features=max_features, min_df=min_df, max_df=max_df)\n",
        "\n",
        "  X = vectorizer.fit_transform(text)\n",
        "\n",
        "  return X"
      ],
      "execution_count": 227,
      "outputs": []
    },
    {
      "cell_type": "code",
      "metadata": {
        "id": "m9QH5h_Mh3lC",
        "colab_type": "code",
        "colab": {}
      },
      "source": [
        "vectorized_text = vectorizer(text=data.text, tf_idf=True, ngram_range=(1, 3), max_features=4000, min_df=4, max_df=10000)"
      ],
      "execution_count": 228,
      "outputs": []
    },
    {
      "cell_type": "code",
      "metadata": {
        "id": "LXNp6ZJDi4Ws",
        "colab_type": "code",
        "colab": {
          "base_uri": "https://localhost:8080/",
          "height": 296
        },
        "outputId": "0fa5f038-9add-4b35-912e-84a816ba4807"
      },
      "source": [
        "sns.countplot(data.target)\n",
        "# Баланс классов в норме"
      ],
      "execution_count": 233,
      "outputs": [
        {
          "output_type": "execute_result",
          "data": {
            "text/plain": [
              "<matplotlib.axes._subplots.AxesSubplot at 0x7f85c44eafd0>"
            ]
          },
          "metadata": {
            "tags": []
          },
          "execution_count": 233
        },
        {
          "output_type": "display_data",
          "data": {
            "image/png": "[encoded data removed]",
            "text/plain": [
              "<Figure size 432x288 with 1 Axes>"
            ]
          },
          "metadata": {
            "tags": [],
            "needs_background": "light"
          }
        }
      ]
    },
    {
      "cell_type": "code",
      "metadata": {
        "id": "avT8XOoKABmj",
        "colab_type": "code",
        "colab": {}
      },
      "source": [
        "train_data, test_data, train_target, test_target = tt (vectorized_text, data.target, test_size=0.2)\n",
        "\n",
        "xgb_clf = XGBClassifier()\n",
        "log_reg = LogisticRegression()\n",
        "rand_for_clf = RandomForestClassifier()\n",
        "svc = SVC()\n",
        "neural_net = MLPClassifier(solver='adam', alpha=0.0001, learning_rate='constant', learning_rate_init=0.001)\n",
        "gauss = GaussianNB()\n",
        "knn = KNeighborsClassifier()"
      ],
      "execution_count": 229,
      "outputs": []
    },
    {
      "cell_type": "code",
      "metadata": {
        "id": "c0IwFTfWABMg",
        "colab_type": "code",
        "colab": {
          "base_uri": "https://localhost:8080/",
          "height": 221
        },
        "outputId": "786db0ed-761f-4a8c-f2dd-50a4bef76cc2"
      },
      "source": [
        "for model in [xgb_clf, log_reg, rand_for_clf, svc, neural_net, knn]:\n",
        "  \n",
        "  model.fit(train_data, train_target)\n",
        "  print(str(model).split('(')[0], accuracy_score(test_target, model.predict(test_data)), '\\n')"
      ],
      "execution_count": 230,
      "outputs": [
        {
          "output_type": "stream",
          "text": [
            "XGBClassifier 0.583941605839416 \n",
            "\n",
            "LogisticRegression 0.6335766423357664 \n",
            "\n",
            "RandomForestClassifier 0.6423357664233577 \n",
            "\n",
            "SVC 0.6394160583941606 \n",
            "\n",
            "MLPClassifier 0.6087591240875913 \n",
            "\n",
            "KNeighborsClassifier 0.5985401459854015 \n",
            "\n"
          ],
          "name": "stdout"
        }
      ]
    },
    {
      "cell_type": "code",
      "metadata": {
        "id": "aWkIb6Y_imHk",
        "colab_type": "code",
        "colab": {
          "base_uri": "https://localhost:8080/",
          "height": 561
        },
        "outputId": "09c2f632-93e4-475d-9907-20203cdafd64"
      },
      "source": [
        "rand_for_clf.predict(test_data)\n",
        "# Предсказания тоже в порядке"
      ],
      "execution_count": 234,
      "outputs": [
        {
          "output_type": "execute_result",
          "data": {
            "text/plain": [
              "array([0, 1, 0, 1, 0, 0, 1, 0, 1, 0, 1, 1, 0, 0, 1, 0, 0, 1, 1, 0, 0, 0,\n",
              "       1, 0, 0, 1, 0, 0, 0, 0, 0, 1, 0, 1, 0, 0, 1, 0, 0, 1, 0, 1, 0, 1,\n",
              "       0, 0, 1, 1, 0, 1, 1, 1, 1, 0, 1, 0, 1, 1, 1, 1, 0, 0, 1, 0, 0, 0,\n",
              "       0, 0, 0, 0, 0, 0, 1, 0, 0, 1, 1, 1, 1, 0, 1, 0, 0, 0, 1, 0, 1, 0,\n",
              "       0, 1, 0, 1, 1, 0, 1, 1, 1, 1, 0, 1, 1, 0, 0, 1, 1, 0, 0, 1, 0, 0,\n",
              "       1, 0, 0, 0, 0, 0, 0, 0, 0, 1, 1, 1, 0, 1, 0, 1, 0, 1, 0, 1, 1, 1,\n",
              "       0, 1, 0, 1, 1, 0, 0, 0, 1, 1, 1, 1, 1, 0, 0, 1, 1, 1, 1, 0, 0, 1,\n",
              "       0, 0, 1, 0, 0, 0, 0, 1, 1, 1, 0, 1, 1, 0, 0, 0, 1, 1, 1, 0, 0, 1,\n",
              "       1, 0, 0, 0, 0, 1, 1, 1, 1, 0, 0, 1, 0, 0, 0, 0, 0, 1, 0, 1, 1, 1,\n",
              "       0, 1, 1, 1, 0, 0, 1, 1, 0, 0, 0, 1, 1, 1, 0, 0, 1, 0, 0, 0, 0, 1,\n",
              "       1, 1, 0, 1, 0, 0, 0, 1, 0, 1, 1, 1, 0, 0, 1, 1, 0, 0, 0, 0, 0, 0,\n",
              "       1, 0, 0, 0, 0, 0, 1, 0, 0, 0, 0, 1, 0, 0, 0, 1, 0, 0, 0, 0, 1, 1,\n",
              "       1, 0, 0, 1, 0, 0, 1, 1, 1, 0, 1, 1, 0, 1, 0, 0, 0, 0, 1, 0, 1, 0,\n",
              "       1, 0, 1, 0, 0, 1, 0, 1, 0, 1, 1, 0, 0, 1, 0, 1, 0, 1, 0, 0, 0, 1,\n",
              "       0, 0, 0, 1, 0, 0, 1, 0, 1, 0, 1, 0, 1, 1, 0, 0, 0, 1, 0, 0, 0, 0,\n",
              "       0, 1, 1, 0, 0, 0, 1, 1, 1, 0, 0, 1, 1, 1, 1, 1, 1, 1, 0, 0, 1, 0,\n",
              "       1, 0, 0, 1, 0, 1, 1, 0, 0, 0, 1, 0, 0, 0, 0, 0, 1, 1, 1, 1, 0, 0,\n",
              "       0, 0, 1, 0, 0, 0, 0, 1, 0, 1, 0, 1, 1, 1, 1, 0, 1, 1, 0, 1, 0, 0,\n",
              "       1, 1, 0, 1, 0, 0, 1, 0, 0, 0, 1, 0, 0, 1, 1, 0, 0, 1, 1, 1, 1, 1,\n",
              "       1, 0, 0, 1, 1, 0, 0, 1, 1, 0, 0, 0, 1, 0, 1, 0, 1, 1, 1, 1, 1, 0,\n",
              "       0, 0, 0, 0, 0, 1, 1, 0, 1, 1, 1, 1, 1, 1, 0, 1, 1, 0, 0, 0, 1, 1,\n",
              "       0, 0, 0, 0, 0, 1, 1, 0, 0, 1, 1, 1, 1, 1, 0, 1, 1, 1, 0, 0, 0, 1,\n",
              "       0, 0, 1, 1, 1, 1, 1, 0, 1, 1, 0, 0, 0, 1, 1, 1, 1, 1, 1, 1, 0, 1,\n",
              "       0, 0, 0, 0, 1, 1, 0, 0, 0, 1, 0, 0, 0, 0, 1, 1, 0, 0, 1, 0, 1, 1,\n",
              "       1, 1, 1, 0, 0, 0, 0, 1, 1, 0, 1, 1, 0, 1, 1, 1, 0, 0, 1, 0, 0, 0,\n",
              "       0, 1, 1, 0, 1, 1, 0, 1, 1, 1, 0, 0, 1, 1, 1, 0, 1, 0, 0, 0, 0, 0,\n",
              "       0, 0, 0, 0, 0, 0, 1, 0, 0, 0, 0, 1, 0, 1, 1, 0, 0, 0, 1, 0, 1, 0,\n",
              "       0, 0, 0, 1, 1, 0, 0, 1, 0, 0, 0, 1, 0, 1, 0, 0, 0, 0, 0, 0, 0, 0,\n",
              "       1, 0, 1, 0, 1, 1, 1, 1, 1, 1, 1, 1, 0, 0, 1, 1, 1, 0, 1, 1, 1, 0,\n",
              "       0, 1, 0, 1, 1, 0, 1, 0, 1, 0, 1, 1, 0, 1, 1, 1, 0, 0, 0, 0, 1, 0,\n",
              "       1, 1, 0, 0, 0, 0, 1, 1, 0, 0, 0, 0, 0, 1, 1, 1, 1, 1, 0, 1, 1, 0,\n",
              "       0, 0, 1])"
            ]
          },
          "metadata": {
            "tags": []
          },
          "execution_count": 234
        }
      ]
    },
    {
      "cell_type": "code",
      "metadata": {
        "id": "L_iaNUWpjTUJ",
        "colab_type": "code",
        "colab": {}
      },
      "source": [
        "metrics = pd.DataFrame(index=[[str(model).split('(')[0] for model in [xgb_clf, log_reg, rand_for_clf, svc, neural_net, knn]]], columns=['accuracy', 'roc_auc', 'f1', 'precision', 'recall', 'log'])\n",
        "\n",
        "for model in [xgb_clf, log_reg, rand_for_clf, svc, neural_net, knn]:\n",
        "  \n",
        "  model.fit(train_data, train_target)\n",
        "\n",
        "  metrics.accuracy[str(model).split('(')[0]] = accuracy_score(test_target, model.predict(test_data))\n",
        "  metrics.roc_auc[str(model).split('(')[0]] = roc_auc_score(test_target, model.predict(test_data))\n",
        "  metrics.f1[str(model).split('(')[0]] = f1_score(test_target, model.predict(test_data))\n",
        "  metrics.precision[str(model).split('(')[0]] = precision_score(test_target, model.predict(test_data))\n",
        "  metrics.recall[str(model).split('(')[0]] = recall_score(test_target, model.predict(test_data))\n",
        "  metrics.log[str(model).split('(')[0]] = log_loss(test_target, model.predict(test_data))"
      ],
      "execution_count": 247,
      "outputs": []
    },
    {
      "cell_type": "code",
      "metadata": {
        "id": "JLBN5m5BpoNf",
        "colab_type": "code",
        "colab": {
          "base_uri": "https://localhost:8080/",
          "height": 235
        },
        "outputId": "33e05809-126d-4315-d76c-31b6c3a222d5"
      },
      "source": [
        "metrics"
      ],
      "execution_count": 248,
      "outputs": [
        {
          "output_type": "execute_result",
          "data": {
            "text/html": [
              "<div>\n",
              "<style scoped>\n",
              "    .dataframe tbody tr th:only-of-type {\n",
              "        vertical-align: middle;\n",
              "    }\n",
              "\n",
              "    .dataframe tbody tr th {\n",
              "        vertical-align: top;\n",
              "    }\n",
              "\n",
              "    .dataframe thead th {\n",
              "        text-align: right;\n",
              "    }\n",
              "</style>\n",
              "<table border=\"1\" class=\"dataframe\">\n",
              "  <thead>\n",
              "    <tr style=\"text-align: right;\">\n",
              "      <th></th>\n",
              "      <th>accuracy</th>\n",
              "      <th>roc_auc</th>\n",
              "      <th>f1</th>\n",
              "      <th>precision</th>\n",
              "      <th>recall</th>\n",
              "      <th>log</th>\n",
              "    </tr>\n",
              "  </thead>\n",
              "  <tbody>\n",
              "    <tr>\n",
              "      <th>XGBClassifier</th>\n",
              "      <td>0.583942</td>\n",
              "      <td>0.581508</td>\n",
              "      <td>0.545455</td>\n",
              "      <td>0.573826</td>\n",
              "      <td>0.519757</td>\n",
              "      <td>14.3703</td>\n",
              "    </tr>\n",
              "    <tr>\n",
              "      <th>LogisticRegression</th>\n",
              "      <td>0.633577</td>\n",
              "      <td>0.631911</td>\n",
              "      <td>0.607199</td>\n",
              "      <td>0.625806</td>\n",
              "      <td>0.589666</td>\n",
              "      <td>12.6559</td>\n",
              "    </tr>\n",
              "    <tr>\n",
              "      <th>RandomForestClassifier</th>\n",
              "      <td>0.636496</td>\n",
              "      <td>0.63472</td>\n",
              "      <td>0.609105</td>\n",
              "      <td>0.62987</td>\n",
              "      <td>0.589666</td>\n",
              "      <td>12.5551</td>\n",
              "    </tr>\n",
              "    <tr>\n",
              "      <th>SVC</th>\n",
              "      <td>0.639416</td>\n",
              "      <td>0.637875</td>\n",
              "      <td>0.614665</td>\n",
              "      <td>0.63141</td>\n",
              "      <td>0.598784</td>\n",
              "      <td>12.4543</td>\n",
              "    </tr>\n",
              "    <tr>\n",
              "      <th>MLPClassifier</th>\n",
              "      <td>0.59854</td>\n",
              "      <td>0.598204</td>\n",
              "      <td>0.585219</td>\n",
              "      <td>0.580838</td>\n",
              "      <td>0.589666</td>\n",
              "      <td>13.8661</td>\n",
              "    </tr>\n",
              "    <tr>\n",
              "      <th>KNeighborsClassifier</th>\n",
              "      <td>0.59854</td>\n",
              "      <td>0.597166</td>\n",
              "      <td>0.573643</td>\n",
              "      <td>0.585443</td>\n",
              "      <td>0.56231</td>\n",
              "      <td>13.8661</td>\n",
              "    </tr>\n",
              "  </tbody>\n",
              "</table>\n",
              "</div>"
            ],
            "text/plain": [
              "                        accuracy   roc_auc  ...    recall      log\n",
              "XGBClassifier           0.583942  0.581508  ...  0.519757  14.3703\n",
              "LogisticRegression      0.633577  0.631911  ...  0.589666  12.6559\n",
              "RandomForestClassifier  0.636496   0.63472  ...  0.589666  12.5551\n",
              "SVC                     0.639416  0.637875  ...  0.598784  12.4543\n",
              "MLPClassifier            0.59854  0.598204  ...  0.589666  13.8661\n",
              "KNeighborsClassifier     0.59854  0.597166  ...   0.56231  13.8661\n",
              "\n",
              "[6 rows x 6 columns]"
            ]
          },
          "metadata": {
            "tags": []
          },
          "execution_count": 248
        }
      ]
    },
    {
      "cell_type": "markdown",
      "metadata": {
        "id": "UqMCYqTCd45-",
        "colab_type": "text"
      },
      "source": [
        "# BERT"
      ]
    },
    {
      "cell_type": "code",
      "metadata": {
        "id": "WiJc19u_eRJU",
        "colab_type": "code",
        "colab": {
          "base_uri": "https://localhost:8080/",
          "height": 204
        },
        "outputId": "634e8a93-b4ec-4c83-c7f6-329de2f1250e"
      },
      "source": [
        "data.head()"
      ],
      "execution_count": 249,
      "outputs": [
        {
          "output_type": "execute_result",
          "data": {
            "text/html": [
              "<div>\n",
              "<style scoped>\n",
              "    .dataframe tbody tr th:only-of-type {\n",
              "        vertical-align: middle;\n",
              "    }\n",
              "\n",
              "    .dataframe tbody tr th {\n",
              "        vertical-align: top;\n",
              "    }\n",
              "\n",
              "    .dataframe thead th {\n",
              "        text-align: right;\n",
              "    }\n",
              "</style>\n",
              "<table border=\"1\" class=\"dataframe\">\n",
              "  <thead>\n",
              "    <tr style=\"text-align: right;\">\n",
              "      <th></th>\n",
              "      <th>close</th>\n",
              "      <th>text</th>\n",
              "      <th>target</th>\n",
              "    </tr>\n",
              "  </thead>\n",
              "  <tbody>\n",
              "    <tr>\n",
              "      <th>0</th>\n",
              "      <td>188.08</td>\n",
              "      <td>москва компания infor media russia пятница num...</td>\n",
              "      <td>1</td>\n",
              "    </tr>\n",
              "    <tr>\n",
              "      <th>1</th>\n",
              "      <td>188.08</td>\n",
              "      <td>москва number_token март интерфакс туризм росс...</td>\n",
              "      <td>1</td>\n",
              "    </tr>\n",
              "    <tr>\n",
              "      <th>2</th>\n",
              "      <td>188.08</td>\n",
              "      <td>южныи сахалинск number_token март интерфакс да...</td>\n",
              "      <td>1</td>\n",
              "    </tr>\n",
              "    <tr>\n",
              "      <th>3</th>\n",
              "      <td>188.08</td>\n",
              "      <td>тюмень number_token март интерфакс урал аэропо...</td>\n",
              "      <td>1</td>\n",
              "    </tr>\n",
              "    <tr>\n",
              "      <th>4</th>\n",
              "      <td>188.08</td>\n",
              "      <td>индия остаться клиент туроператор весь работат...</td>\n",
              "      <td>1</td>\n",
              "    </tr>\n",
              "  </tbody>\n",
              "</table>\n",
              "</div>"
            ],
            "text/plain": [
              "    close                                               text  target\n",
              "0  188.08  москва компания infor media russia пятница num...       1\n",
              "1  188.08  москва number_token март интерфакс туризм росс...       1\n",
              "2  188.08  южныи сахалинск number_token март интерфакс да...       1\n",
              "3  188.08  тюмень number_token март интерфакс урал аэропо...       1\n",
              "4  188.08  индия остаться клиент туроператор весь работат...       1"
            ]
          },
          "metadata": {
            "tags": []
          },
          "execution_count": 249
        }
      ]
    },
    {
      "cell_type": "code",
      "metadata": {
        "id": "onvmzTA5ZkoS",
        "colab_type": "code",
        "colab": {
          "base_uri": "https://localhost:8080/",
          "height": 164,
          "referenced_widgets": [
            "886664f758f848f9a7ee7680b04a0171",
            "cc16479432d84d73af473605a3964339",
            "83a95fefbfea4d77a4139981f9d19fc5",
            "a9b1bed39f8a49b6a6c1312ec6f1d6af",
            "35bd1d01e095425199fe7d61a130e962",
            "eae5805f502e476fb730e9e7131c7c94",
            "6859830aceec4f70a0b992a1b2a9094f",
            "07adb1ea2b754c31b3673e0cb371c732",
            "7f5eea4e3b2f47129aac54e05b28eed0",
            "2a45c245c777466f8a69a1778f40a05d",
            "bbb50e11d0ba493aab4d0dbac3b23a0b",
            "2f0e70b964d54956aea6a0b545848d8d",
            "92eedd8d1d1d4177a44964ecb9097242",
            "fc1dd0d618324b4582a34dd2aeada83c",
            "1974f083431542aebe59c7dbfaa82eed",
            "079a9740bed84eb5a6af2642ccbb8968",
            "ce62ae94f1374dca9e39665514cee318",
            "6d75706e262849c29ed2cac30ede4ff3",
            "ccbb75f02426414ca146124d3a5bdd65",
            "2dd69171c5dc4730b32dbcef5560bdbb",
            "01685c3bf8fd4e0f89c30e2e8d35631f",
            "80840d16db124f4eaf0dbe4697ac7f02",
            "8bf414caf87340c0a125abe8d1522d38",
            "2d35b988c5a64303b4581f87a6e4207e"
          ]
        },
        "outputId": "3695ffe1-a006-4bbd-f31f-680d11a99c80"
      },
      "source": [
        "model_class, tokenizer_class, pretrained_weights = (ppb.BertModel, ppb.BertTokenizer, 'bert-base-uncased')\n",
        "\n",
        "tokenizer = tokenizer_class.from_pretrained(pretrained_weights)\n",
        "model = model_class.from_pretrained(pretrained_weights)"
      ],
      "execution_count": 250,
      "outputs": [
        {
          "output_type": "display_data",
          "data": {
            "application/vnd.jupyter.widget-view+json": {
              "model_id": "886664f758f848f9a7ee7680b04a0171",
              "version_minor": 0,
              "version_major": 2
            },
            "text/plain": [
              "HBox(children=(FloatProgress(value=0.0, description='Downloading', max=231508.0, style=ProgressStyle(descripti…"
            ]
          },
          "metadata": {
            "tags": []
          }
        },
        {
          "output_type": "stream",
          "text": [
            "\n"
          ],
          "name": "stdout"
        },
        {
          "output_type": "display_data",
          "data": {
            "application/vnd.jupyter.widget-view+json": {
              "model_id": "7f5eea4e3b2f47129aac54e05b28eed0",
              "version_minor": 0,
              "version_major": 2
            },
            "text/plain": [
              "HBox(children=(FloatProgress(value=0.0, description='Downloading', max=433.0, style=ProgressStyle(description_…"
            ]
          },
          "metadata": {
            "tags": []
          }
        },
        {
          "output_type": "stream",
          "text": [
            "\n"
          ],
          "name": "stdout"
        },
        {
          "output_type": "display_data",
          "data": {
            "application/vnd.jupyter.widget-view+json": {
              "model_id": "ce62ae94f1374dca9e39665514cee318",
              "version_minor": 0,
              "version_major": 2
            },
            "text/plain": [
              "HBox(children=(FloatProgress(value=0.0, description='Downloading', max=440473133.0, style=ProgressStyle(descri…"
            ]
          },
          "metadata": {
            "tags": []
          }
        },
        {
          "output_type": "stream",
          "text": [
            "\n"
          ],
          "name": "stdout"
        }
      ]
    },
    {
      "cell_type": "code",
      "metadata": {
        "id": "_0H2cMT1elZb",
        "colab_type": "code",
        "colab": {}
      },
      "source": [
        "for i in range(data.shape[0]): # проблема - слишком длинные новости, ее длина в среднем 2000, а для токенайзера максимум 512\n",
        "# Решение - разбивать на куски длиной не более 512 (конец - конец предложения) и тональность самой новости считать как среднее из тональностей ее составляющих\n",
        "   data['text'][i] =  data['text'][i][:128]"
      ],
      "execution_count": 251,
      "outputs": []
    },
    {
      "cell_type": "code",
      "metadata": {
        "id": "-U6yhkGbd7O2",
        "colab_type": "code",
        "colab": {}
      },
      "source": [
        "tokenized = data['text'].apply((lambda x: tokenizer.encode(x, add_special_tokens=True)))"
      ],
      "execution_count": 252,
      "outputs": []
    },
    {
      "cell_type": "code",
      "metadata": {
        "id": "jXVLI-K6eczn",
        "colab_type": "code",
        "colab": {
          "base_uri": "https://localhost:8080/",
          "height": 221
        },
        "outputId": "d0d12d25-2021-45dc-dc64-ddd70d98c6fb"
      },
      "source": [
        "tokenized"
      ],
      "execution_count": 253,
      "outputs": [
        {
          "output_type": "execute_result",
          "data": {
            "text/plain": [
              "0       [101, 1191, 14150, 29747, 23925, 25529, 10260,...\n",
              "1       [101, 1191, 14150, 29747, 23925, 25529, 10260,...\n",
              "2       [101, 1209, 29743, 18947, 29113, 10325, 1196, ...\n",
              "3       [101, 1197, 29757, 29745, 15290, 18947, 23742,...\n",
              "4       [101, 1188, 18947, 29742, 23483, 1193, 29747, ...\n",
              "                              ...                        \n",
              "3420    [101, 1195, 14150, 29747, 29747, 23483, 1196, ...\n",
              "3421    [101, 1189, 16856, 10260, 29747, 18947, 14150,...\n",
              "3422    [101, 1191, 10325, 18947, 29747, 23925, 1196, ...\n",
              "3423    [101, 1183, 15290, 14150, 29746, 14150, 29436,...\n",
              "3424    [101, 4013, 19648, 1184, 14150, 29752, 15290, ...\n",
              "Name: text, Length: 3425, dtype: object"
            ]
          },
          "metadata": {
            "tags": []
          },
          "execution_count": 253
        }
      ]
    },
    {
      "cell_type": "code",
      "metadata": {
        "id": "lYgfgE25QcES",
        "colab_type": "code",
        "colab": {}
      },
      "source": [
        "max_len = 0\n",
        "for i in tokenized.values:\n",
        "    if len(i) > max_len:\n",
        "        max_len = len(i)\n",
        "\n",
        "padded = np.array([i + [0]*(max_len-len(i)) for i in tokenized.values])"
      ],
      "execution_count": 254,
      "outputs": []
    },
    {
      "cell_type": "code",
      "metadata": {
        "id": "4nVdv7SOfZh3",
        "colab_type": "code",
        "colab": {
          "base_uri": "https://localhost:8080/",
          "height": 34
        },
        "outputId": "ff74afb1-af63-489a-9a2d-108652ec2268"
      },
      "source": [
        "attention_mask = np.where(padded != 0, 1, 0)\n",
        "attention_mask.shape"
      ],
      "execution_count": 255,
      "outputs": [
        {
          "output_type": "execute_result",
          "data": {
            "text/plain": [
              "(3425, 116)"
            ]
          },
          "metadata": {
            "tags": []
          },
          "execution_count": 255
        }
      ]
    },
    {
      "cell_type": "code",
      "metadata": {
        "id": "TvucZF_RgkBp",
        "colab_type": "code",
        "colab": {}
      },
      "source": [
        "input_ids = torch.tensor(padded)  \n",
        "attention_mask = torch.tensor(attention_mask)\n",
        "\n",
        "with torch.no_grad():\n",
        "    last_hidden_states = model(input_ids, attention_mask=attention_mask)"
      ],
      "execution_count": null,
      "outputs": []
    },
    {
      "cell_type": "code",
      "metadata": {
        "id": "3sSd_ZqIgn9i",
        "colab_type": "code",
        "colab": {}
      },
      "source": [
        "features = last_hidden_states[0][:,0,:].numpy()"
      ],
      "execution_count": null,
      "outputs": []
    },
    {
      "cell_type": "code",
      "metadata": {
        "id": "NkI5fDA5oQor",
        "colab_type": "code",
        "colab": {}
      },
      "source": [
        "train_features, test_features, train_target, test_target = tt(features, data['target'], random_state=42)\n",
        "  \n",
        "for model in [xgb_clf, log_reg, rand_for_clf, svc, neural_net, knn]:\n",
        "  model.fit(train_features, train_target)\n",
        "  print(str(model).split('(')[0], accuracy_score(test_target, model.predict(test_features)), '\\n')"
      ],
      "execution_count": null,
      "outputs": []
    },
    {
      "cell_type": "code",
      "metadata": {
        "id": "BoPAoaEil98u",
        "colab_type": "code",
        "colab": {}
      },
      "source": [
        ""
      ],
      "execution_count": null,
      "outputs": []
    }
  ]
}