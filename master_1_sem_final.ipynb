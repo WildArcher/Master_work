{
  "nbformat": 4,
  "nbformat_minor": 0,
  "metadata": {
    "colab": {
      "name": "Untitled20_(12)_(1)_(5) (4).ipynb",
      "provenance": [],
      "collapsed_sections": []
    },
    "kernelspec": {
      "display_name": "Python 3",
      "language": "python",
      "name": "python3"
    },
    "language_info": {
      "codemirror_mode": {
        "name": "ipython",
        "version": 3
      },
      "file_extension": ".py",
      "mimetype": "text/x-python",
      "name": "python",
      "nbconvert_exporter": "python",
      "pygments_lexer": "ipython3",
      "version": "3.7.4"
    },
    "accelerator": "GPU"
  },
  "cells": [
    {
      "cell_type": "code",
      "metadata": {
        "colab": {
          "base_uri": "https://localhost:8080/"
        },
        "id": "AA_ifcrfxTnS",
        "outputId": "bf210b61-efd9-4ffc-efdf-a9b3d647e84a"
      },
      "source": [
        "!pip3 install git+https://github.com/kmike/pymorphy2"
      ],
      "execution_count": 2,
      "outputs": [
        {
          "output_type": "stream",
          "text": [
            "Collecting git+https://github.com/kmike/pymorphy2\n",
            "  Cloning https://github.com/kmike/pymorphy2 to /tmp/pip-req-build-_iq248kb\n",
            "  Running command git clone -q https://github.com/kmike/pymorphy2 /tmp/pip-req-build-_iq248kb\n",
            "Collecting dawg-python>=0.7.1\n",
            "  Downloading https://files.pythonhosted.org/packages/6a/84/ff1ce2071d4c650ec85745766c0047ccc3b5036f1d03559fd46bb38b5eeb/DAWG_Python-0.7.2-py2.py3-none-any.whl\n",
            "Collecting pymorphy2-dicts-ru<3.0,>=2.4\n",
            "\u001b[?25l  Downloading https://files.pythonhosted.org/packages/3a/79/bea0021eeb7eeefde22ef9e96badf174068a2dd20264b9a378f2be1cdd9e/pymorphy2_dicts_ru-2.4.417127.4579844-py2.py3-none-any.whl (8.2MB)\n",
            "\u001b[K     |████████████████████████████████| 8.2MB 9.4MB/s \n",
            "\u001b[?25hRequirement already satisfied: docopt>=0.6 in /usr/local/lib/python3.6/dist-packages (from pymorphy2==0.9.1) (0.6.2)\n",
            "Building wheels for collected packages: pymorphy2\n",
            "  Building wheel for pymorphy2 (setup.py) ... \u001b[?25l\u001b[?25hdone\n",
            "  Created wheel for pymorphy2: filename=pymorphy2-0.9.1-cp36-none-any.whl size=55247 sha256=3d12b174985659d6aaf3a151863e67ef26708ffb622ba73f9dfd50f3d8b763ba\n",
            "  Stored in directory: /tmp/pip-ephem-wheel-cache-gqtvy_2q/wheels/03/bf/ee/4aec6da72e687a9650a660f90c6c90d815765ba868cfb2b406\n",
            "Successfully built pymorphy2\n",
            "Installing collected packages: dawg-python, pymorphy2-dicts-ru, pymorphy2\n",
            "Successfully installed dawg-python-0.7.2 pymorphy2-0.9.1 pymorphy2-dicts-ru-2.4.417127.4579844\n"
          ],
          "name": "stdout"
        }
      ]
    },
    {
      "cell_type": "code",
      "metadata": {
        "colab": {
          "base_uri": "https://localhost:8080/"
        },
        "id": "1oH9gww3Op5_",
        "outputId": "b71ff831-5501-4527-9daa-40cc77790e42"
      },
      "source": [
        "!pip install fasttext"
      ],
      "execution_count": 3,
      "outputs": [
        {
          "output_type": "stream",
          "text": [
            "Collecting fasttext\n",
            "\u001b[?25l  Downloading https://files.pythonhosted.org/packages/f8/85/e2b368ab6d3528827b147fdb814f8189acc981a4bc2f99ab894650e05c40/fasttext-0.9.2.tar.gz (68kB)\n",
            "\r\u001b[K     |████▊                           | 10kB 26.3MB/s eta 0:00:01\r\u001b[K     |█████████▌                      | 20kB 31.0MB/s eta 0:00:01\r\u001b[K     |██████████████▎                 | 30kB 26.3MB/s eta 0:00:01\r\u001b[K     |███████████████████             | 40kB 28.0MB/s eta 0:00:01\r\u001b[K     |███████████████████████▉        | 51kB 29.4MB/s eta 0:00:01\r\u001b[K     |████████████████████████████▋   | 61kB 30.8MB/s eta 0:00:01\r\u001b[K     |████████████████████████████████| 71kB 9.1MB/s \n",
            "\u001b[?25hRequirement already satisfied: pybind11>=2.2 in /usr/local/lib/python3.6/dist-packages (from fasttext) (2.6.1)\n",
            "Requirement already satisfied: setuptools>=0.7.0 in /usr/local/lib/python3.6/dist-packages (from fasttext) (51.0.0)\n",
            "Requirement already satisfied: numpy in /usr/local/lib/python3.6/dist-packages (from fasttext) (1.19.4)\n",
            "Building wheels for collected packages: fasttext\n",
            "  Building wheel for fasttext (setup.py) ... \u001b[?25l\u001b[?25hdone\n",
            "  Created wheel for fasttext: filename=fasttext-0.9.2-cp36-cp36m-linux_x86_64.whl size=3041374 sha256=a4430838c7c405281621563dece3bcf77d8649cb0281d0a52a9cc8385742eedc\n",
            "  Stored in directory: /root/.cache/pip/wheels/98/ba/7f/b154944a1cf5a8cee91c154b75231136cc3a3321ab0e30f592\n",
            "Successfully built fasttext\n",
            "Installing collected packages: fasttext\n",
            "Successfully installed fasttext-0.9.2\n"
          ],
          "name": "stdout"
        }
      ]
    },
    {
      "cell_type": "code",
      "metadata": {
        "colab": {
          "base_uri": "https://localhost:8080/"
        },
        "id": "l63BdkVbgeMo",
        "outputId": "a54ac6b8-0da6-4510-951b-1aa31ebb08de"
      },
      "source": [
        "!pip3 install --user 'lxml<4.2.0'"
      ],
      "execution_count": 4,
      "outputs": [
        {
          "output_type": "stream",
          "text": [
            "Collecting lxml<4.2.0\n",
            "\u001b[?25l  Downloading https://files.pythonhosted.org/packages/81/da/4fabb01d59f3d2b256e75ffee9516ea849e23ddebea8235caad570fe7332/lxml-4.1.1-cp36-cp36m-manylinux1_x86_64.whl (5.6MB)\n",
            "\u001b[K     |████████████████████████████████| 5.6MB 15.0MB/s \n",
            "\u001b[?25hInstalling collected packages: lxml\n",
            "Successfully installed lxml-4.1.1\n"
          ],
          "name": "stdout"
        }
      ]
    },
    {
      "cell_type": "code",
      "metadata": {
        "colab": {
          "base_uri": "https://localhost:8080/"
        },
        "id": "DnwiqBu1ghk6",
        "outputId": "1ce420eb-f920-40ec-e44f-483851f8c2a7"
      },
      "source": [
        "!git clone https://github.com/kmike/pymorphy2-dicts"
      ],
      "execution_count": 5,
      "outputs": [
        {
          "output_type": "stream",
          "text": [
            "Cloning into 'pymorphy2-dicts'...\n",
            "remote: Enumerating objects: 15, done.\u001b[K\n",
            "remote: Counting objects:   6% (1/15)\u001b[K\rremote: Counting objects:  13% (2/15)\u001b[K\rremote: Counting objects:  20% (3/15)\u001b[K\rremote: Counting objects:  26% (4/15)\u001b[K\rremote: Counting objects:  33% (5/15)\u001b[K\rremote: Counting objects:  40% (6/15)\u001b[K\rremote: Counting objects:  46% (7/15)\u001b[K\rremote: Counting objects:  53% (8/15)\u001b[K\rremote: Counting objects:  60% (9/15)\u001b[K\rremote: Counting objects:  66% (10/15)\u001b[K\rremote: Counting objects:  73% (11/15)\u001b[K\rremote: Counting objects:  80% (12/15)\u001b[K\rremote: Counting objects:  86% (13/15)\u001b[K\rremote: Counting objects:  93% (14/15)\u001b[K\rremote: Counting objects: 100% (15/15)\u001b[K\rremote: Counting objects: 100% (15/15), done.\u001b[K\n",
            "remote: Compressing objects:   7% (1/13)\u001b[K\rremote: Compressing objects:  15% (2/13)\u001b[K\rremote: Compressing objects:  23% (3/13)\u001b[K\rremote: Compressing objects:  30% (4/13)\u001b[K\rremote: Compressing objects:  38% (5/13)\u001b[K\rremote: Compressing objects:  46% (6/13)\u001b[K\rremote: Compressing objects:  53% (7/13)\u001b[K\rremote: Compressing objects:  61% (8/13)\u001b[K\rremote: Compressing objects:  69% (9/13)\u001b[K\rremote: Compressing objects:  76% (10/13)\u001b[K\rremote: Compressing objects:  84% (11/13)\u001b[K\rremote: Compressing objects:  92% (12/13)\u001b[K\rremote: Compressing objects: 100% (13/13)\u001b[K\rremote: Compressing objects: 100% (13/13), done.\u001b[K\n",
            "remote: Total 148 (delta 5), reused 7 (delta 2), pack-reused 133\u001b[K\n",
            "Receiving objects:   0% (1/148)   \rReceiving objects:   1% (2/148)   \rReceiving objects:   2% (3/148)   \rReceiving objects:   3% (5/148)   \rReceiving objects:   4% (6/148)   \rReceiving objects:   5% (8/148)   \rReceiving objects:   6% (9/148)   \rReceiving objects:   7% (11/148)   \rReceiving objects:   8% (12/148)   \rReceiving objects:   9% (14/148)   \rReceiving objects:  10% (15/148)   \rReceiving objects:  11% (17/148)   \rReceiving objects:  12% (18/148)   \rReceiving objects:  13% (20/148)   \rReceiving objects:  14% (21/148)   \rReceiving objects:  15% (23/148)   \rReceiving objects:  16% (24/148)   \rReceiving objects:  17% (26/148)   \rReceiving objects:  18% (27/148)   \rReceiving objects:  19% (29/148)   \rReceiving objects:  20% (30/148)   \rReceiving objects:  21% (32/148)   \rReceiving objects:  22% (33/148)   \rReceiving objects:  23% (35/148)   \rReceiving objects:  24% (36/148)   \rReceiving objects:  25% (37/148)   \rReceiving objects:  26% (39/148)   \rReceiving objects:  27% (40/148)   \rReceiving objects:  28% (42/148)   \rReceiving objects:  29% (43/148)   \rReceiving objects:  30% (45/148)   \rReceiving objects:  31% (46/148)   \rReceiving objects:  32% (48/148)   \rReceiving objects:  33% (49/148)   \rReceiving objects:  34% (51/148)   \rReceiving objects:  35% (52/148)   \rReceiving objects:  36% (54/148)   \rReceiving objects:  37% (55/148)   \rReceiving objects:  38% (57/148)   \rReceiving objects:  39% (58/148)   \rReceiving objects:  40% (60/148)   \rReceiving objects:  41% (61/148)   \rReceiving objects:  42% (63/148)   \rReceiving objects:  43% (64/148)   \rReceiving objects:  44% (66/148)   \rReceiving objects:  45% (67/148)   \rReceiving objects:  46% (69/148)   \rReceiving objects:  47% (70/148)   \rReceiving objects:  48% (72/148)   \rReceiving objects:  49% (73/148)   \rReceiving objects:  50% (74/148)   \rReceiving objects:  51% (76/148)   \rReceiving objects:  52% (77/148)   \rReceiving objects:  53% (79/148)   \rReceiving objects:  54% (80/148)   \rReceiving objects:  55% (82/148)   \rReceiving objects:  56% (83/148)   \rReceiving objects:  57% (85/148)   \rReceiving objects:  58% (86/148)   \rReceiving objects:  59% (88/148)   \rReceiving objects:  60% (89/148)   \rReceiving objects:  61% (91/148)   \rReceiving objects:  62% (92/148)   \rReceiving objects:  63% (94/148)   \rReceiving objects:  64% (95/148)   \rReceiving objects:  65% (97/148)   \rReceiving objects:  66% (98/148)   \rReceiving objects:  67% (100/148)   \rReceiving objects:  68% (101/148)   \rReceiving objects:  69% (103/148)   \rReceiving objects:  70% (104/148)   \rReceiving objects:  71% (106/148)   \rReceiving objects:  72% (107/148)   \rReceiving objects:  73% (109/148)   \rReceiving objects:  74% (110/148)   \rReceiving objects:  75% (111/148)   \rReceiving objects:  76% (113/148)   \rReceiving objects:  77% (114/148)   \rReceiving objects:  78% (116/148)   \rReceiving objects:  79% (117/148)   \rReceiving objects:  80% (119/148)   \rReceiving objects:  81% (120/148)   \rReceiving objects:  82% (122/148)   \rReceiving objects:  83% (123/148)   \rReceiving objects:  84% (125/148)   \rReceiving objects:  85% (126/148)   \rReceiving objects:  86% (128/148)   \rReceiving objects:  87% (129/148)   \rReceiving objects:  88% (131/148)   \rReceiving objects:  89% (132/148)   \rReceiving objects:  90% (134/148)   \rReceiving objects:  91% (135/148)   \rReceiving objects:  92% (137/148)   \rReceiving objects:  93% (138/148)   \rReceiving objects:  94% (140/148)   \rReceiving objects:  95% (141/148)   \rReceiving objects:  96% (143/148)   \rReceiving objects:  97% (144/148)   \rReceiving objects:  98% (146/148)   \rReceiving objects:  99% (147/148)   \rReceiving objects: 100% (148/148)   \rReceiving objects: 100% (148/148), 24.62 KiB | 12.31 MiB/s, done.\n",
            "Resolving deltas:   0% (0/69)   \rResolving deltas:   2% (2/69)   \rResolving deltas:   5% (4/69)   \rResolving deltas:   8% (6/69)   \rResolving deltas:  11% (8/69)   \rResolving deltas:  17% (12/69)   \rResolving deltas:  23% (16/69)   \rResolving deltas:  24% (17/69)   \rResolving deltas:  27% (19/69)   \rResolving deltas:  34% (24/69)   \rResolving deltas:  44% (31/69)   \rResolving deltas:  46% (32/69)   \rResolving deltas:  50% (35/69)   \rResolving deltas:  52% (36/69)   \rResolving deltas:  53% (37/69)   \rResolving deltas:  59% (41/69)   \rResolving deltas:  60% (42/69)   \rResolving deltas:  78% (54/69)   \rResolving deltas:  84% (58/69)   \rResolving deltas:  86% (60/69)   \rResolving deltas:  88% (61/69)   \rResolving deltas: 100% (69/69)   \rResolving deltas: 100% (69/69), done.\n"
          ],
          "name": "stdout"
        }
      ]
    },
    {
      "cell_type": "code",
      "metadata": {
        "colab": {
          "base_uri": "https://localhost:8080/"
        },
        "id": "09kt0OKEhO_C",
        "outputId": "0046b8bc-1ecb-48eb-e19a-eaed31657d66"
      },
      "source": [
        "!wget http://opencorpora.org/files/export/dict/dict.opcorpora.xml.bz2"
      ],
      "execution_count": 6,
      "outputs": [
        {
          "output_type": "stream",
          "text": [
            "--2020-12-24 04:37:11--  http://opencorpora.org/files/export/dict/dict.opcorpora.xml.bz2\n",
            "Resolving opencorpora.org (opencorpora.org)... 148.251.2.141\n",
            "Connecting to opencorpora.org (opencorpora.org)|148.251.2.141|:80... connected.\n",
            "HTTP request sent, awaiting response... 200 OK\n",
            "Length: 16961979 (16M) [application/x-bzip2]\n",
            "Saving to: ‘dict.opcorpora.xml.bz2’\n",
            "\n",
            "dict.opcorpora.xml. 100%[===================>]  16.18M  14.4MB/s    in 1.1s    \n",
            "\n",
            "2020-12-24 04:37:13 (14.4 MB/s) - ‘dict.opcorpora.xml.bz2’ saved [16961979/16961979]\n",
            "\n"
          ],
          "name": "stdout"
        }
      ]
    },
    {
      "cell_type": "code",
      "metadata": {
        "id": "rz6QG5byhRN8"
      },
      "source": [
        "!bzip2 -dk dict.opcorpora.xml.bz2"
      ],
      "execution_count": 7,
      "outputs": []
    },
    {
      "cell_type": "code",
      "metadata": {
        "colab": {
          "base_uri": "https://localhost:8080/"
        },
        "id": "0kVxVhmVhTX6",
        "outputId": "2781c2a0-3698-4da1-91c4-6032cb375114"
      },
      "source": [
        "!python3 build-dict.py dict.opcorpora.xml data"
      ],
      "execution_count": 8,
      "outputs": [
        {
          "output_type": "stream",
          "text": [
            "python3: can't open file 'build-dict.py': [Errno 2] No such file or directory\n"
          ],
          "name": "stdout"
        }
      ]
    },
    {
      "cell_type": "code",
      "metadata": {
        "colab": {
          "base_uri": "https://localhost:8080/"
        },
        "id": "yvWRT4xhhVUL",
        "outputId": "16098f51-45b8-4c84-be02-2c43ee34a8be"
      },
      "source": [
        "!pip install transformers"
      ],
      "execution_count": 9,
      "outputs": [
        {
          "output_type": "stream",
          "text": [
            "Collecting transformers\n",
            "\u001b[?25l  Downloading https://files.pythonhosted.org/packages/50/0c/7d5950fcd80b029be0a8891727ba21e0cd27692c407c51261c3c921f6da3/transformers-4.1.1-py3-none-any.whl (1.5MB)\n",
            "\r\u001b[K     |▏                               | 10kB 23.2MB/s eta 0:00:01\r\u001b[K     |▍                               | 20kB 22.7MB/s eta 0:00:01\r\u001b[K     |▋                               | 30kB 18.1MB/s eta 0:00:01\r\u001b[K     |▉                               | 40kB 16.9MB/s eta 0:00:01\r\u001b[K     |█                               | 51kB 13.2MB/s eta 0:00:01\r\u001b[K     |█▎                              | 61kB 12.8MB/s eta 0:00:01\r\u001b[K     |█▌                              | 71kB 12.7MB/s eta 0:00:01\r\u001b[K     |█▊                              | 81kB 13.5MB/s eta 0:00:01\r\u001b[K     |██                              | 92kB 14.2MB/s eta 0:00:01\r\u001b[K     |██▏                             | 102kB 14.0MB/s eta 0:00:01\r\u001b[K     |██▍                             | 112kB 14.0MB/s eta 0:00:01\r\u001b[K     |██▋                             | 122kB 14.0MB/s eta 0:00:01\r\u001b[K     |██▉                             | 133kB 14.0MB/s eta 0:00:01\r\u001b[K     |███                             | 143kB 14.0MB/s eta 0:00:01\r\u001b[K     |███▎                            | 153kB 14.0MB/s eta 0:00:01\r\u001b[K     |███▌                            | 163kB 14.0MB/s eta 0:00:01\r\u001b[K     |███▊                            | 174kB 14.0MB/s eta 0:00:01\r\u001b[K     |████                            | 184kB 14.0MB/s eta 0:00:01\r\u001b[K     |████▏                           | 194kB 14.0MB/s eta 0:00:01\r\u001b[K     |████▎                           | 204kB 14.0MB/s eta 0:00:01\r\u001b[K     |████▌                           | 215kB 14.0MB/s eta 0:00:01\r\u001b[K     |████▊                           | 225kB 14.0MB/s eta 0:00:01\r\u001b[K     |█████                           | 235kB 14.0MB/s eta 0:00:01\r\u001b[K     |█████▏                          | 245kB 14.0MB/s eta 0:00:01\r\u001b[K     |█████▍                          | 256kB 14.0MB/s eta 0:00:01\r\u001b[K     |█████▋                          | 266kB 14.0MB/s eta 0:00:01\r\u001b[K     |█████▉                          | 276kB 14.0MB/s eta 0:00:01\r\u001b[K     |██████                          | 286kB 14.0MB/s eta 0:00:01\r\u001b[K     |██████▎                         | 296kB 14.0MB/s eta 0:00:01\r\u001b[K     |██████▌                         | 307kB 14.0MB/s eta 0:00:01\r\u001b[K     |██████▊                         | 317kB 14.0MB/s eta 0:00:01\r\u001b[K     |███████                         | 327kB 14.0MB/s eta 0:00:01\r\u001b[K     |███████▏                        | 337kB 14.0MB/s eta 0:00:01\r\u001b[K     |███████▍                        | 348kB 14.0MB/s eta 0:00:01\r\u001b[K     |███████▋                        | 358kB 14.0MB/s eta 0:00:01\r\u001b[K     |███████▉                        | 368kB 14.0MB/s eta 0:00:01\r\u001b[K     |████████                        | 378kB 14.0MB/s eta 0:00:01\r\u001b[K     |████████▎                       | 389kB 14.0MB/s eta 0:00:01\r\u001b[K     |████████▌                       | 399kB 14.0MB/s eta 0:00:01\r\u001b[K     |████████▋                       | 409kB 14.0MB/s eta 0:00:01\r\u001b[K     |████████▉                       | 419kB 14.0MB/s eta 0:00:01\r\u001b[K     |█████████                       | 430kB 14.0MB/s eta 0:00:01\r\u001b[K     |█████████▎                      | 440kB 14.0MB/s eta 0:00:01\r\u001b[K     |█████████▌                      | 450kB 14.0MB/s eta 0:00:01\r\u001b[K     |█████████▊                      | 460kB 14.0MB/s eta 0:00:01\r\u001b[K     |██████████                      | 471kB 14.0MB/s eta 0:00:01\r\u001b[K     |██████████▏                     | 481kB 14.0MB/s eta 0:00:01\r\u001b[K     |██████████▍                     | 491kB 14.0MB/s eta 0:00:01\r\u001b[K     |██████████▋                     | 501kB 14.0MB/s eta 0:00:01\r\u001b[K     |██████████▉                     | 512kB 14.0MB/s eta 0:00:01\r\u001b[K     |███████████                     | 522kB 14.0MB/s eta 0:00:01\r\u001b[K     |███████████▎                    | 532kB 14.0MB/s eta 0:00:01\r\u001b[K     |███████████▌                    | 542kB 14.0MB/s eta 0:00:01\r\u001b[K     |███████████▊                    | 552kB 14.0MB/s eta 0:00:01\r\u001b[K     |████████████                    | 563kB 14.0MB/s eta 0:00:01\r\u001b[K     |████████████▏                   | 573kB 14.0MB/s eta 0:00:01\r\u001b[K     |████████████▍                   | 583kB 14.0MB/s eta 0:00:01\r\u001b[K     |████████████▋                   | 593kB 14.0MB/s eta 0:00:01\r\u001b[K     |████████████▉                   | 604kB 14.0MB/s eta 0:00:01\r\u001b[K     |█████████████                   | 614kB 14.0MB/s eta 0:00:01\r\u001b[K     |█████████████▏                  | 624kB 14.0MB/s eta 0:00:01\r\u001b[K     |█████████████▍                  | 634kB 14.0MB/s eta 0:00:01\r\u001b[K     |█████████████▋                  | 645kB 14.0MB/s eta 0:00:01\r\u001b[K     |█████████████▉                  | 655kB 14.0MB/s eta 0:00:01\r\u001b[K     |██████████████                  | 665kB 14.0MB/s eta 0:00:01\r\u001b[K     |██████████████▎                 | 675kB 14.0MB/s eta 0:00:01\r\u001b[K     |██████████████▌                 | 686kB 14.0MB/s eta 0:00:01\r\u001b[K     |██████████████▊                 | 696kB 14.0MB/s eta 0:00:01\r\u001b[K     |███████████████                 | 706kB 14.0MB/s eta 0:00:01\r\u001b[K     |███████████████▏                | 716kB 14.0MB/s eta 0:00:01\r\u001b[K     |███████████████▍                | 727kB 14.0MB/s eta 0:00:01\r\u001b[K     |███████████████▋                | 737kB 14.0MB/s eta 0:00:01\r\u001b[K     |███████████████▉                | 747kB 14.0MB/s eta 0:00:01\r\u001b[K     |████████████████                | 757kB 14.0MB/s eta 0:00:01\r\u001b[K     |████████████████▎               | 768kB 14.0MB/s eta 0:00:01\r\u001b[K     |████████████████▌               | 778kB 14.0MB/s eta 0:00:01\r\u001b[K     |████████████████▊               | 788kB 14.0MB/s eta 0:00:01\r\u001b[K     |█████████████████               | 798kB 14.0MB/s eta 0:00:01\r\u001b[K     |█████████████████               | 808kB 14.0MB/s eta 0:00:01\r\u001b[K     |█████████████████▎              | 819kB 14.0MB/s eta 0:00:01\r\u001b[K     |█████████████████▌              | 829kB 14.0MB/s eta 0:00:01\r\u001b[K     |█████████████████▊              | 839kB 14.0MB/s eta 0:00:01\r\u001b[K     |██████████████████              | 849kB 14.0MB/s eta 0:00:01\r\u001b[K     |██████████████████▏             | 860kB 14.0MB/s eta 0:00:01\r\u001b[K     |██████████████████▍             | 870kB 14.0MB/s eta 0:00:01\r\u001b[K     |██████████████████▋             | 880kB 14.0MB/s eta 0:00:01\r\u001b[K     |██████████████████▉             | 890kB 14.0MB/s eta 0:00:01\r\u001b[K     |███████████████████             | 901kB 14.0MB/s eta 0:00:01\r\u001b[K     |███████████████████▎            | 911kB 14.0MB/s eta 0:00:01\r\u001b[K     |███████████████████▌            | 921kB 14.0MB/s eta 0:00:01\r\u001b[K     |███████████████████▊            | 931kB 14.0MB/s eta 0:00:01\r\u001b[K     |████████████████████            | 942kB 14.0MB/s eta 0:00:01\r\u001b[K     |████████████████████▏           | 952kB 14.0MB/s eta 0:00:01\r\u001b[K     |████████████████████▍           | 962kB 14.0MB/s eta 0:00:01\r\u001b[K     |████████████████████▋           | 972kB 14.0MB/s eta 0:00:01\r\u001b[K     |████████████████████▉           | 983kB 14.0MB/s eta 0:00:01\r\u001b[K     |█████████████████████           | 993kB 14.0MB/s eta 0:00:01\r\u001b[K     |█████████████████████▎          | 1.0MB 14.0MB/s eta 0:00:01\r\u001b[K     |█████████████████████▍          | 1.0MB 14.0MB/s eta 0:00:01\r\u001b[K     |█████████████████████▋          | 1.0MB 14.0MB/s eta 0:00:01\r\u001b[K     |█████████████████████▉          | 1.0MB 14.0MB/s eta 0:00:01\r\u001b[K     |██████████████████████          | 1.0MB 14.0MB/s eta 0:00:01\r\u001b[K     |██████████████████████▎         | 1.1MB 14.0MB/s eta 0:00:01\r\u001b[K     |██████████████████████▌         | 1.1MB 14.0MB/s eta 0:00:01\r\u001b[K     |██████████████████████▊         | 1.1MB 14.0MB/s eta 0:00:01\r\u001b[K     |███████████████████████         | 1.1MB 14.0MB/s eta 0:00:01\r\u001b[K     |███████████████████████▏        | 1.1MB 14.0MB/s eta 0:00:01\r\u001b[K     |███████████████████████▍        | 1.1MB 14.0MB/s eta 0:00:01\r\u001b[K     |███████████████████████▋        | 1.1MB 14.0MB/s eta 0:00:01\r\u001b[K     |███████████████████████▉        | 1.1MB 14.0MB/s eta 0:00:01\r\u001b[K     |████████████████████████        | 1.1MB 14.0MB/s eta 0:00:01\r\u001b[K     |████████████████████████▎       | 1.1MB 14.0MB/s eta 0:00:01\r\u001b[K     |████████████████████████▌       | 1.2MB 14.0MB/s eta 0:00:01\r\u001b[K     |████████████████████████▊       | 1.2MB 14.0MB/s eta 0:00:01\r\u001b[K     |█████████████████████████       | 1.2MB 14.0MB/s eta 0:00:01\r\u001b[K     |█████████████████████████▏      | 1.2MB 14.0MB/s eta 0:00:01\r\u001b[K     |█████████████████████████▍      | 1.2MB 14.0MB/s eta 0:00:01\r\u001b[K     |█████████████████████████▋      | 1.2MB 14.0MB/s eta 0:00:01\r\u001b[K     |█████████████████████████▊      | 1.2MB 14.0MB/s eta 0:00:01\r\u001b[K     |██████████████████████████      | 1.2MB 14.0MB/s eta 0:00:01\r\u001b[K     |██████████████████████████▏     | 1.2MB 14.0MB/s eta 0:00:01\r\u001b[K     |██████████████████████████▍     | 1.2MB 14.0MB/s eta 0:00:01\r\u001b[K     |██████████████████████████▋     | 1.3MB 14.0MB/s eta 0:00:01\r\u001b[K     |██████████████████████████▉     | 1.3MB 14.0MB/s eta 0:00:01\r\u001b[K     |███████████████████████████     | 1.3MB 14.0MB/s eta 0:00:01\r\u001b[K     |███████████████████████████▎    | 1.3MB 14.0MB/s eta 0:00:01\r\u001b[K     |███████████████████████████▌    | 1.3MB 14.0MB/s eta 0:00:01\r\u001b[K     |███████████████████████████▊    | 1.3MB 14.0MB/s eta 0:00:01\r\u001b[K     |████████████████████████████    | 1.3MB 14.0MB/s eta 0:00:01\r\u001b[K     |████████████████████████████▏   | 1.3MB 14.0MB/s eta 0:00:01\r\u001b[K     |████████████████████████████▍   | 1.3MB 14.0MB/s eta 0:00:01\r\u001b[K     |████████████████████████████▋   | 1.4MB 14.0MB/s eta 0:00:01\r\u001b[K     |████████████████████████████▉   | 1.4MB 14.0MB/s eta 0:00:01\r\u001b[K     |█████████████████████████████   | 1.4MB 14.0MB/s eta 0:00:01\r\u001b[K     |█████████████████████████████▎  | 1.4MB 14.0MB/s eta 0:00:01\r\u001b[K     |█████████████████████████████▌  | 1.4MB 14.0MB/s eta 0:00:01\r\u001b[K     |█████████████████████████████▊  | 1.4MB 14.0MB/s eta 0:00:01\r\u001b[K     |█████████████████████████████▉  | 1.4MB 14.0MB/s eta 0:00:01\r\u001b[K     |██████████████████████████████  | 1.4MB 14.0MB/s eta 0:00:01\r\u001b[K     |██████████████████████████████▎ | 1.4MB 14.0MB/s eta 0:00:01\r\u001b[K     |██████████████████████████████▌ | 1.4MB 14.0MB/s eta 0:00:01\r\u001b[K     |██████████████████████████████▊ | 1.5MB 14.0MB/s eta 0:00:01\r\u001b[K     |███████████████████████████████ | 1.5MB 14.0MB/s eta 0:00:01\r\u001b[K     |███████████████████████████████▏| 1.5MB 14.0MB/s eta 0:00:01\r\u001b[K     |███████████████████████████████▍| 1.5MB 14.0MB/s eta 0:00:01\r\u001b[K     |███████████████████████████████▋| 1.5MB 14.0MB/s eta 0:00:01\r\u001b[K     |███████████████████████████████▉| 1.5MB 14.0MB/s eta 0:00:01\r\u001b[K     |████████████████████████████████| 1.5MB 14.0MB/s \n",
            "\u001b[?25hRequirement already satisfied: regex!=2019.12.17 in /usr/local/lib/python3.6/dist-packages (from transformers) (2019.12.20)\n",
            "Requirement already satisfied: dataclasses; python_version < \"3.7\" in /usr/local/lib/python3.6/dist-packages (from transformers) (0.8)\n",
            "Requirement already satisfied: filelock in /usr/local/lib/python3.6/dist-packages (from transformers) (3.0.12)\n",
            "Collecting tokenizers==0.9.4\n",
            "\u001b[?25l  Downloading https://files.pythonhosted.org/packages/0f/1c/e789a8b12e28be5bc1ce2156cf87cb522b379be9cadc7ad8091a4cc107c4/tokenizers-0.9.4-cp36-cp36m-manylinux2010_x86_64.whl (2.9MB)\n",
            "\u001b[K     |████████████████████████████████| 2.9MB 53.1MB/s \n",
            "\u001b[?25hRequirement already satisfied: tqdm>=4.27 in /usr/local/lib/python3.6/dist-packages (from transformers) (4.41.1)\n",
            "Collecting sacremoses\n",
            "\u001b[?25l  Downloading https://files.pythonhosted.org/packages/7d/34/09d19aff26edcc8eb2a01bed8e98f13a1537005d31e95233fd48216eed10/sacremoses-0.0.43.tar.gz (883kB)\n",
            "\u001b[K     |████████████████████████████████| 890kB 48.3MB/s \n",
            "\u001b[?25hRequirement already satisfied: packaging in /usr/local/lib/python3.6/dist-packages (from transformers) (20.8)\n",
            "Requirement already satisfied: requests in /usr/local/lib/python3.6/dist-packages (from transformers) (2.23.0)\n",
            "Requirement already satisfied: numpy in /usr/local/lib/python3.6/dist-packages (from transformers) (1.19.4)\n",
            "Requirement already satisfied: six in /usr/local/lib/python3.6/dist-packages (from sacremoses->transformers) (1.15.0)\n",
            "Requirement already satisfied: click in /usr/local/lib/python3.6/dist-packages (from sacremoses->transformers) (7.1.2)\n",
            "Requirement already satisfied: joblib in /usr/local/lib/python3.6/dist-packages (from sacremoses->transformers) (1.0.0)\n",
            "Requirement already satisfied: pyparsing>=2.0.2 in /usr/local/lib/python3.6/dist-packages (from packaging->transformers) (2.4.7)\n",
            "Requirement already satisfied: chardet<4,>=3.0.2 in /usr/local/lib/python3.6/dist-packages (from requests->transformers) (3.0.4)\n",
            "Requirement already satisfied: idna<3,>=2.5 in /usr/local/lib/python3.6/dist-packages (from requests->transformers) (2.10)\n",
            "Requirement already satisfied: certifi>=2017.4.17 in /usr/local/lib/python3.6/dist-packages (from requests->transformers) (2020.12.5)\n",
            "Requirement already satisfied: urllib3!=1.25.0,!=1.25.1,<1.26,>=1.21.1 in /usr/local/lib/python3.6/dist-packages (from requests->transformers) (1.24.3)\n",
            "Building wheels for collected packages: sacremoses\n",
            "  Building wheel for sacremoses (setup.py) ... \u001b[?25l\u001b[?25hdone\n",
            "  Created wheel for sacremoses: filename=sacremoses-0.0.43-cp36-none-any.whl size=893261 sha256=8752361a5787884fb9c393db8d2aabb9de4e042d36b060ea08a7feeda6f0dd2a\n",
            "  Stored in directory: /root/.cache/pip/wheels/29/3c/fd/7ce5c3f0666dab31a50123635e6fb5e19ceb42ce38d4e58f45\n",
            "Successfully built sacremoses\n",
            "Installing collected packages: tokenizers, sacremoses, transformers\n",
            "Successfully installed sacremoses-0.0.43 tokenizers-0.9.4 transformers-4.1.1\n"
          ],
          "name": "stdout"
        }
      ]
    },
    {
      "cell_type": "code",
      "metadata": {
        "colab": {
          "base_uri": "https://localhost:8080/"
        },
        "id": "EvtqISiaAJu0",
        "outputId": "e8f6cbfe-bbe2-43a1-ddb3-d53e914b7b5f"
      },
      "source": [
        "!pip install googletrans"
      ],
      "execution_count": 10,
      "outputs": [
        {
          "output_type": "stream",
          "text": [
            "Collecting googletrans\n",
            "  Downloading https://files.pythonhosted.org/packages/71/3a/3b19effdd4c03958b90f40fe01c93de6d5280e03843cc5adf6956bfc9512/googletrans-3.0.0.tar.gz\n",
            "Collecting httpx==0.13.3\n",
            "\u001b[?25l  Downloading https://files.pythonhosted.org/packages/54/b4/698b284c6aed4d7c2b4fe3ba5df1fcf6093612423797e76fbb24890dd22f/httpx-0.13.3-py3-none-any.whl (55kB)\n",
            "\u001b[K     |████████████████████████████████| 61kB 7.5MB/s \n",
            "\u001b[?25hCollecting rfc3986<2,>=1.3\n",
            "  Downloading https://files.pythonhosted.org/packages/78/be/7b8b99fd74ff5684225f50dd0e865393d2265656ef3b4ba9eaaaffe622b8/rfc3986-1.4.0-py2.py3-none-any.whl\n",
            "Collecting hstspreload\n",
            "\u001b[?25l  Downloading https://files.pythonhosted.org/packages/dd/50/606213e12fb49c5eb667df0936223dcaf461f94e215ea60244b2b1e9b039/hstspreload-2020.12.22-py3-none-any.whl (994kB)\n",
            "\u001b[K     |████████████████████████████████| 1.0MB 22.0MB/s \n",
            "\u001b[?25hRequirement already satisfied: certifi in /usr/local/lib/python3.6/dist-packages (from httpx==0.13.3->googletrans) (2020.12.5)\n",
            "Collecting httpcore==0.9.*\n",
            "\u001b[?25l  Downloading https://files.pythonhosted.org/packages/dd/d5/e4ff9318693ac6101a2095e580908b591838c6f33df8d3ee8dd953ba96a8/httpcore-0.9.1-py3-none-any.whl (42kB)\n",
            "\u001b[K     |████████████████████████████████| 51kB 9.9MB/s \n",
            "\u001b[?25hRequirement already satisfied: idna==2.* in /usr/local/lib/python3.6/dist-packages (from httpx==0.13.3->googletrans) (2.10)\n",
            "Collecting sniffio\n",
            "  Downloading https://files.pythonhosted.org/packages/52/b0/7b2e028b63d092804b6794595871f936aafa5e9322dcaaad50ebf67445b3/sniffio-1.2.0-py3-none-any.whl\n",
            "Requirement already satisfied: chardet==3.* in /usr/local/lib/python3.6/dist-packages (from httpx==0.13.3->googletrans) (3.0.4)\n",
            "Collecting h2==3.*\n",
            "\u001b[?25l  Downloading https://files.pythonhosted.org/packages/25/de/da019bcc539eeab02f6d45836f23858ac467f584bfec7a526ef200242afe/h2-3.2.0-py2.py3-none-any.whl (65kB)\n",
            "\u001b[K     |████████████████████████████████| 71kB 12.5MB/s \n",
            "\u001b[?25hCollecting h11<0.10,>=0.8\n",
            "\u001b[?25l  Downloading https://files.pythonhosted.org/packages/5a/fd/3dad730b0f95e78aeeb742f96fa7bbecbdd56a58e405d3da440d5bfb90c6/h11-0.9.0-py2.py3-none-any.whl (53kB)\n",
            "\u001b[K     |████████████████████████████████| 61kB 11.5MB/s \n",
            "\u001b[?25hCollecting contextvars>=2.1; python_version < \"3.7\"\n",
            "  Downloading https://files.pythonhosted.org/packages/83/96/55b82d9f13763be9d672622e1b8106c85acb83edd7cc2fa5bc67cd9877e9/contextvars-2.4.tar.gz\n",
            "Collecting hyperframe<6,>=5.2.0\n",
            "  Downloading https://files.pythonhosted.org/packages/19/0c/bf88182bcb5dce3094e2f3e4fe20db28a9928cb7bd5b08024030e4b140db/hyperframe-5.2.0-py2.py3-none-any.whl\n",
            "Collecting hpack<4,>=3.0\n",
            "  Downloading https://files.pythonhosted.org/packages/8a/cc/e53517f4a1e13f74776ca93271caef378dadec14d71c61c949d759d3db69/hpack-3.0.0-py2.py3-none-any.whl\n",
            "Collecting immutables>=0.9\n",
            "\u001b[?25l  Downloading https://files.pythonhosted.org/packages/99/e0/ea6fd4697120327d26773b5a84853f897a68e33d3f9376b00a8ff96e4f63/immutables-0.14-cp36-cp36m-manylinux1_x86_64.whl (98kB)\n",
            "\u001b[K     |████████████████████████████████| 102kB 15.4MB/s \n",
            "\u001b[?25hBuilding wheels for collected packages: googletrans, contextvars\n",
            "  Building wheel for googletrans (setup.py) ... \u001b[?25l\u001b[?25hdone\n",
            "  Created wheel for googletrans: filename=googletrans-3.0.0-cp36-none-any.whl size=15736 sha256=9ce3412b62e5c2878075fec3987fed0af8a46c5672590d6046daaf976eb795d5\n",
            "  Stored in directory: /root/.cache/pip/wheels/28/1a/a7/eaf4d7a3417a0c65796c547cff4deb6d79c7d14c2abd29273e\n",
            "  Building wheel for contextvars (setup.py) ... \u001b[?25l\u001b[?25hdone\n",
            "  Created wheel for contextvars: filename=contextvars-2.4-cp36-none-any.whl size=7667 sha256=e79dcea508886e549ec2699f393e70ba375bbfd6bdd553e40b9051b0b45f964d\n",
            "  Stored in directory: /root/.cache/pip/wheels/a5/7d/68/1ebae2668bda2228686e3c1cf16f2c2384cea6e9334ad5f6de\n",
            "Successfully built googletrans contextvars\n",
            "Installing collected packages: rfc3986, hstspreload, immutables, contextvars, sniffio, hyperframe, hpack, h2, h11, httpcore, httpx, googletrans\n",
            "Successfully installed contextvars-2.4 googletrans-3.0.0 h11-0.9.0 h2-3.2.0 hpack-3.0.0 hstspreload-2020.12.22 httpcore-0.9.1 httpx-0.13.3 hyperframe-5.2.0 immutables-0.14 rfc3986-1.4.0 sniffio-1.2.0\n"
          ],
          "name": "stdout"
        }
      ]
    },
    {
      "cell_type": "code",
      "metadata": {
        "colab": {
          "base_uri": "https://localhost:8080/"
        },
        "id": "BKvWey_aBzWJ",
        "outputId": "b3739e14-e1d1-4363-caad-40806d376c3c"
      },
      "source": [
        "!pip install catboost"
      ],
      "execution_count": 11,
      "outputs": [
        {
          "output_type": "stream",
          "text": [
            "Collecting catboost\n",
            "\u001b[?25l  Downloading https://files.pythonhosted.org/packages/7e/c1/c1c4707013f9e2f8a96899dd3a87f66c9167d6d776a6dc8fe7ec8678d446/catboost-0.24.3-cp36-none-manylinux1_x86_64.whl (66.3MB)\n",
            "\u001b[K     |████████████████████████████████| 66.3MB 135kB/s \n",
            "\u001b[?25hRequirement already satisfied: numpy>=1.16.0 in /usr/local/lib/python3.6/dist-packages (from catboost) (1.19.4)\n",
            "Requirement already satisfied: graphviz in /usr/local/lib/python3.6/dist-packages (from catboost) (0.10.1)\n",
            "Requirement already satisfied: pandas>=0.24.0 in /usr/local/lib/python3.6/dist-packages (from catboost) (1.1.5)\n",
            "Requirement already satisfied: plotly in /usr/local/lib/python3.6/dist-packages (from catboost) (4.4.1)\n",
            "Requirement already satisfied: six in /usr/local/lib/python3.6/dist-packages (from catboost) (1.15.0)\n",
            "Requirement already satisfied: matplotlib in /usr/local/lib/python3.6/dist-packages (from catboost) (3.2.2)\n",
            "Requirement already satisfied: scipy in /usr/local/lib/python3.6/dist-packages (from catboost) (1.4.1)\n",
            "Requirement already satisfied: pytz>=2017.2 in /usr/local/lib/python3.6/dist-packages (from pandas>=0.24.0->catboost) (2018.9)\n",
            "Requirement already satisfied: python-dateutil>=2.7.3 in /usr/local/lib/python3.6/dist-packages (from pandas>=0.24.0->catboost) (2.8.1)\n",
            "Requirement already satisfied: retrying>=1.3.3 in /usr/local/lib/python3.6/dist-packages (from plotly->catboost) (1.3.3)\n",
            "Requirement already satisfied: kiwisolver>=1.0.1 in /usr/local/lib/python3.6/dist-packages (from matplotlib->catboost) (1.3.1)\n",
            "Requirement already satisfied: cycler>=0.10 in /usr/local/lib/python3.6/dist-packages (from matplotlib->catboost) (0.10.0)\n",
            "Requirement already satisfied: pyparsing!=2.0.4,!=2.1.2,!=2.1.6,>=2.0.1 in /usr/local/lib/python3.6/dist-packages (from matplotlib->catboost) (2.4.7)\n",
            "Installing collected packages: catboost\n",
            "Successfully installed catboost-0.24.3\n"
          ],
          "name": "stdout"
        }
      ]
    },
    {
      "cell_type": "code",
      "metadata": {
        "colab": {
          "base_uri": "https://localhost:8080/"
        },
        "id": "_uFozTvsClAj",
        "outputId": "bff664ac-48ab-47ae-b9bf-0e28e9bdbe6b"
      },
      "source": [
        "!pip install wget"
      ],
      "execution_count": 12,
      "outputs": [
        {
          "output_type": "stream",
          "text": [
            "Collecting wget\n",
            "  Downloading https://files.pythonhosted.org/packages/47/6a/62e288da7bcda82b935ff0c6cfe542970f04e29c756b0e147251b2fb251f/wget-3.2.zip\n",
            "Building wheels for collected packages: wget\n",
            "  Building wheel for wget (setup.py) ... \u001b[?25l\u001b[?25hdone\n",
            "  Created wheel for wget: filename=wget-3.2-cp36-none-any.whl size=9682 sha256=6b639c41d1b212a1a0f5e72c5cb443c24af664b403b8d0467ac9405e25c6da76\n",
            "  Stored in directory: /root/.cache/pip/wheels/40/15/30/7d8f7cea2902b4db79e3fea550d7d7b85ecb27ef992b618f3f\n",
            "Successfully built wget\n",
            "Installing collected packages: wget\n",
            "Successfully installed wget-3.2\n"
          ],
          "name": "stdout"
        }
      ]
    },
    {
      "cell_type": "code",
      "metadata": {
        "id": "d6ATfuP2gD1z"
      },
      "source": [
        "import time\n",
        "import re\n",
        "import seaborn as sns\n",
        "import warnings\n",
        "import numpy as np\n",
        "import pandas as pd\n",
        "import pickle\n",
        "from lightgbm import LGBMClassifier\n",
        "from keras.layers import Activation, Embedding, LSTM, Dense, Conv1D, GlobalMaxPooling1D\n",
        "from keras import Sequential\n",
        "from collections import Counter\n",
        "from tensorflow.keras import utils\n",
        "import fasttext\n",
        "\n",
        "from sklearn.model_selection import cross_val_score, GridSearchCV\n",
        "from sklearn.feature_extraction.text import CountVectorizer, TfidfVectorizer\n",
        "from sklearn.linear_model import LogisticRegression\n",
        "from sklearn.model_selection import train_test_split as tt\n",
        "from xgboost import XGBClassifier\n",
        "from sklearn.ensemble import RandomForestClassifier, ExtraTreesRegressor\n",
        "from sklearn.svm import SVC\n",
        "from sklearn.neighbors import KNeighborsClassifier\n",
        "from sklearn.neural_network import MLPClassifier\n",
        "from sklearn.naive_bayes import GaussianNB, MultinomialNB\n",
        "from sklearn.tree import DecisionTreeClassifier\n",
        "from sklearn.metrics import accuracy_score, roc_auc_score, f1_score, precision_score, recall_score, log_loss\n",
        "\n",
        "from sklearn.model_selection import TimeSeriesSplit, cross_val_score, GridSearchCV\n",
        "from sklearn.metrics import roc_auc_score \n",
        "from sklearn.model_selection import train_test_split as tt\n",
        "import nltk\n",
        "from nltk.corpus import stopwords\n",
        "from sklearn.model_selection import GridSearchCV\n",
        "import torch\n",
        "from sklearn.metrics import accuracy_score\n",
        "from xgboost import XGBRegressor\n",
        "from sklearn.metrics import mean_absolute_error as mae\n",
        "\n",
        "import warnings\n",
        "warnings.filterwarnings('ignore')\n",
        "from keras.preprocessing.sequence import pad_sequences\n",
        "import pymorphy2\n",
        "#import networkx as nx"
      ],
      "execution_count": 13,
      "outputs": []
    },
    {
      "cell_type": "code",
      "metadata": {
        "id": "k9ja_W5SaPH_"
      },
      "source": [
        "from collections import defaultdict, Counter\n",
        "from nltk.sentiment.vader import SentimentIntensityAnalyzer\n",
        "import random\n",
        "from catboost import CatBoostClassifier\n",
        "from gensim.models import Word2Vec\n",
        "import keras\n",
        "from keras.preprocessing.sequence import pad_sequences\n",
        "#from tqdm.notebook import tqdm\n",
        "#from sklearn.metrics.pairwise import cosine_distances, euclidean_distances\n",
        "#from sklearn.decomposition import LatentDirichletAllocation\n",
        "\n",
        "from tensorflow.keras.preprocessing.sequence import pad_sequences\n",
        "from tensorflow.keras.utils import to_categorical\n",
        "from googletrans import Translator, constants\n",
        "from pprint import pprint\n",
        "from gensim.models import word2vec\n",
        "from gensim.models import KeyedVectors\n",
        "from gensim.models.word2vec import Word2Vec\n",
        "import zipfile\n",
        "from google.colab import drive\n",
        "from PIL import Image\n",
        "import tensorflow as tf\n",
        "from tensorflow import keras\n",
        "from keras.models import Sequential\n",
        "from keras.layers import SpatialDropout1D\n",
        "from tensorflow.keras import utils\n",
        "from tensorflow.keras.preprocessing.text import Tokenizer\n",
        "from tensorflow.keras.callbacks import ModelCheckpoint\n",
        "\n",
        "from tensorflow.keras.layers import Input, Bidirectional, LSTM, Dense, MaxPooling1D, AveragePooling1D, Conv1D, Embedding\n",
        "from tensorflow.keras.layers import Flatten, Reshape, Concatenate, Permute, Activation, Dropout, multiply\n",
        "from tensorflow.keras.layers import BatchNormalization\n",
        "from tensorflow.keras.models import Model\n",
        "from tensorflow.keras.losses import cosine_similarity\n",
        "from tensorflow.keras import regularizers\n",
        "import tensorflow.keras.backend as K\n",
        "import tensorflow as tf\n",
        "import datetime\n",
        "from datetime import datetime\n",
        "from datetime import timedelta\n",
        "\n",
        "import os\n",
        "\n",
        "morph = pymorphy2.MorphAnalyzer()"
      ],
      "execution_count": 14,
      "outputs": []
    },
    {
      "cell_type": "code",
      "metadata": {
        "colab": {
          "base_uri": "https://localhost:8080/"
        },
        "id": "EZ9-kyft_I8A",
        "outputId": "59b36546-7885-4704-eb9d-33859bc9efb0"
      },
      "source": [
        "from google.colab import drive\n",
        "drive.mount('/content/drive')"
      ],
      "execution_count": 15,
      "outputs": [
        {
          "output_type": "stream",
          "text": [
            "Mounted at /content/drive\n"
          ],
          "name": "stdout"
        }
      ]
    },
    {
      "cell_type": "code",
      "metadata": {
        "id": "YJEXlE9SsdVl"
      },
      "source": [
        "path = 'drive/MyDrive/Master_work'\n",
        "\n",
        "#news = pd.read_csv('https://raw.githubusercontent.com/WildArcher/Master_work/master/clean_sber_interfax_news_2018-2020.csv')\n",
        "#news = pd.read_csv(os.path.join(path, 'news_news(10_years_news_sber).csv'))\n",
        "#news = pd.read_excel(os.path.join(path, 'taiga_headers_trandlated.xls'))\n",
        "news = pd.read_csv(os.path.join(path, 'rbc_clean_text.csv'))\n",
        "#news = pd.read_csv(os.path.join(path, 'clean_taiga_lenta_news.csv'))\n",
        "#news = pd.read_excel(os.path.join(path, 'rbc_headers_translated.xlsx'))\n",
        "#news.columns = ['clean_text', 'date']\n",
        "#news = pd.read_csv(os.path.join(path, 'clean_tass_news.csv'))\n",
        "#news = pd.read_csv('https://raw.githubusercontent.com/WildArcher/Master_work/master/clean_interfax_news_from_Evgeniy.csv')"
      ],
      "execution_count": 16,
      "outputs": []
    },
    {
      "cell_type": "code",
      "metadata": {
        "id": "u68WnGwVvglu",
        "colab": {
          "base_uri": "https://localhost:8080/",
          "height": 419
        },
        "outputId": "6433a74c-b177-4936-b134-cbafe967f409"
      },
      "source": [
        "#news.drop(columns=['Unnamed: 0'],inplace=True)\n",
        "news.columns = ['clean_text', 'date']\n",
        "#news.columns = ['date', 'text']\n",
        "#news.dropna(inplace=True)\n",
        "news"
      ],
      "execution_count": 17,
      "outputs": [
        {
          "output_type": "execute_result",
          "data": {
            "text/html": [
              "<div>\n",
              "<style scoped>\n",
              "    .dataframe tbody tr th:only-of-type {\n",
              "        vertical-align: middle;\n",
              "    }\n",
              "\n",
              "    .dataframe tbody tr th {\n",
              "        vertical-align: top;\n",
              "    }\n",
              "\n",
              "    .dataframe thead th {\n",
              "        text-align: right;\n",
              "    }\n",
              "</style>\n",
              "<table border=\"1\" class=\"dataframe\">\n",
              "  <thead>\n",
              "    <tr style=\"text-align: right;\">\n",
              "      <th></th>\n",
              "      <th>clean_text</th>\n",
              "      <th>date</th>\n",
              "    </tr>\n",
              "  </thead>\n",
              "  <tbody>\n",
              "    <tr>\n",
              "      <th>0</th>\n",
              "      <td>сбербанк вместе весь страна готовиться праздно...</td>\n",
              "      <td>2020-04-20 00:00:00</td>\n",
              "    </tr>\n",
              "    <tr>\n",
              "      <th>1</th>\n",
              "      <td>итоговыи пресс конференция председатель заксоб...</td>\n",
              "      <td>2019-12-25 00:00:00</td>\n",
              "    </tr>\n",
              "    <tr>\n",
              "      <th>2</th>\n",
              "      <td>number_token number_token описание цель исслед...</td>\n",
              "      <td>2019-11-08 00:00:00</td>\n",
              "    </tr>\n",
              "    <tr>\n",
              "      <th>3</th>\n",
              "      <td>краснодар произоити возгорание ресторан бумбар...</td>\n",
              "      <td>2019-10-04 00:00:00</td>\n",
              "    </tr>\n",
              "    <tr>\n",
              "      <th>4</th>\n",
              "      <td>возможно прилив новыи сила правительство ощуще...</td>\n",
              "      <td>2020-01-21 00:00:00</td>\n",
              "    </tr>\n",
              "    <tr>\n",
              "      <th>...</th>\n",
              "      <td>...</td>\n",
              "      <td>...</td>\n",
              "    </tr>\n",
              "    <tr>\n",
              "      <th>16767</th>\n",
              "      <td>легендарныи фолк музыкант лауреат нобелевскии ...</td>\n",
              "      <td>2020-06-19 00:00:00</td>\n",
              "    </tr>\n",
              "    <tr>\n",
              "      <th>16768</th>\n",
              "      <td>фото kubannumber_token ооо региональныи консал...</td>\n",
              "      <td>2019-11-13 00:00:00</td>\n",
              "    </tr>\n",
              "    <tr>\n",
              "      <th>16769</th>\n",
              "      <td>контракт компания заключить ранее предложить ц...</td>\n",
              "      <td>2020-06-26 00:00:00</td>\n",
              "    </tr>\n",
              "    <tr>\n",
              "      <th>16770</th>\n",
              "      <td>новое дерево которыи посадить проспект киров п...</td>\n",
              "      <td>2019-09-05 00:00:00</td>\n",
              "    </tr>\n",
              "    <tr>\n",
              "      <th>16771</th>\n",
              "      <td>фото александр миридон коммерсантъ чистыи приб...</td>\n",
              "      <td>2020-04-14 00:00:00</td>\n",
              "    </tr>\n",
              "  </tbody>\n",
              "</table>\n",
              "<p>16772 rows × 2 columns</p>\n",
              "</div>"
            ],
            "text/plain": [
              "                                              clean_text                 date\n",
              "0      сбербанк вместе весь страна готовиться праздно...  2020-04-20 00:00:00\n",
              "1      итоговыи пресс конференция председатель заксоб...  2019-12-25 00:00:00\n",
              "2      number_token number_token описание цель исслед...  2019-11-08 00:00:00\n",
              "3      краснодар произоити возгорание ресторан бумбар...  2019-10-04 00:00:00\n",
              "4      возможно прилив новыи сила правительство ощуще...  2020-01-21 00:00:00\n",
              "...                                                  ...                  ...\n",
              "16767  легендарныи фолк музыкант лауреат нобелевскии ...  2020-06-19 00:00:00\n",
              "16768  фото kubannumber_token ооо региональныи консал...  2019-11-13 00:00:00\n",
              "16769  контракт компания заключить ранее предложить ц...  2020-06-26 00:00:00\n",
              "16770  новое дерево которыи посадить проспект киров п...  2019-09-05 00:00:00\n",
              "16771  фото александр миридон коммерсантъ чистыи приб...  2020-04-14 00:00:00\n",
              "\n",
              "[16772 rows x 2 columns]"
            ]
          },
          "metadata": {
            "tags": []
          },
          "execution_count": 17
        }
      ]
    },
    {
      "cell_type": "code",
      "metadata": {
        "id": "EeeYQM43jYh3"
      },
      "source": [
        "def text_preprocessing(lang, text, lemmatize, replacement, del_stop_words, no_connection, del_word_less_2_symbol):\n",
        "\n",
        "  nltk.download('stopwords')\n",
        "\n",
        "  if lang == 'en':\n",
        "    stop_words = stopwords.words(('english'))\n",
        "    stop_words.remove('no')\n",
        "    stop_words.remove('not')\n",
        "    for i in range(len(stop_words)):\n",
        "      stop_words[i] = ' '+stop_words[i]+' '\n",
        "\n",
        "  else:\n",
        "    if lang == 'ru':\n",
        "      stop_words = stopwords.words(('russian'))\n",
        "      stop_words.remove('не')\n",
        "      stop_words.remove('нет')\n",
        "      stop_words.remove('ни')\n",
        "      for i in range(len(stop_words)):\n",
        "        stop_words[i] = ' '+stop_words[i]+' '\n",
        "\n",
        "  data = []\n",
        "\n",
        "  for i in range(text.shape[0]):\n",
        "\n",
        "    d = text[i]\n",
        "    d = d.lower() # приведение к нижнему регистру\n",
        "    d = re.sub(r'https://[a-z1-9./]+', ' ', d) # удаление ссылок\n",
        "\n",
        "    d = re.sub('[^a-zа-я]', ' ', d) # удаление символов кроме символов русского и английского алфавитов\n",
        "\n",
        "    if lemmatize == True:\n",
        "      d = \" \".join(morph.parse(word)[0].normal_form for word in d.split()) # Лемматизация\n",
        "\n",
        "    d = re.sub(' нет ', ' не ', d) # Замена 'нет' и 'ни' на 'не'\n",
        "    d = re.sub(' ни ', ' не ', d)\n",
        "    d = re.sub(r'\\d+', 'number_token', d) # Замена чисел на number_token\n",
        "\n",
        "    if replacement == True:\n",
        "      d = re.sub('ё', 'е', d)\n",
        "      d = re.sub('й', 'и', d)\n",
        "\n",
        "    if del_stop_words == True:\n",
        "      for stop_word in stop_words:\n",
        "        if stop_word in d:\n",
        "          d = re.sub(stop_word, ' ', d) # удаление стоп слов      \n",
        "\n",
        "    if no_connection == True:\n",
        "      words = d.split()\n",
        "      for i in range(len(words)-1):\n",
        "          if words[i] == ' не ':\n",
        "            words[i] = words[i] + words[i+1]\n",
        "            words[i+1] = ' '\n",
        "          else:\n",
        "            d = ' '.join(words)\n",
        "            d = ' '.join(d.split())\n",
        "\n",
        "    if del_word_less_2_symbol == True:\n",
        "      d = \" \".join([w for w in d.split() if len(w) > 2])\n",
        "\n",
        "    data.append(d)\n",
        "\n",
        "  return data"
      ],
      "execution_count": 26,
      "outputs": []
    },
    {
      "cell_type": "code",
      "metadata": {
        "id": "1be8vG6QNsyN",
        "colab": {
          "base_uri": "https://localhost:8080/",
          "height": 374
        },
        "outputId": "b430fe9c-2522-4087-c3c6-db3fa297f645"
      },
      "source": [
        "data = text_preprocessing(lang='ru', text=news.text, lemmatize=True, replacement=True, del_stop_words=True, no_connection=False, del_word_less_2_symbol=True)\n",
        "\n",
        "news['clean_text'] = data"
      ],
      "execution_count": 27,
      "outputs": [
        {
          "output_type": "stream",
          "text": [
            "[nltk_data] Downloading package stopwords to /root/nltk_data...\n",
            "[nltk_data]   Package stopwords is already up-to-date!\n"
          ],
          "name": "stdout"
        },
        {
          "output_type": "error",
          "ename": "KeyboardInterrupt",
          "evalue": "ignored",
          "traceback": [
            "\u001b[0;31m---------------------------------------------------------------------------\u001b[0m",
            "\u001b[0;31mKeyboardInterrupt\u001b[0m                         Traceback (most recent call last)",
            "\u001b[0;32m<ipython-input-27-15dc5ead2f2c>\u001b[0m in \u001b[0;36m<module>\u001b[0;34m()\u001b[0m\n\u001b[0;32m----> 1\u001b[0;31m \u001b[0mdata\u001b[0m \u001b[0;34m=\u001b[0m \u001b[0mtext_preprocessing\u001b[0m\u001b[0;34m(\u001b[0m\u001b[0mlang\u001b[0m\u001b[0;34m=\u001b[0m\u001b[0;34m'ru'\u001b[0m\u001b[0;34m,\u001b[0m \u001b[0mtext\u001b[0m\u001b[0;34m=\u001b[0m\u001b[0mnews\u001b[0m\u001b[0;34m.\u001b[0m\u001b[0mtext\u001b[0m\u001b[0;34m,\u001b[0m \u001b[0mlemmatize\u001b[0m\u001b[0;34m=\u001b[0m\u001b[0;32mTrue\u001b[0m\u001b[0;34m,\u001b[0m \u001b[0mreplacement\u001b[0m\u001b[0;34m=\u001b[0m\u001b[0;32mTrue\u001b[0m\u001b[0;34m,\u001b[0m \u001b[0mdel_stop_words\u001b[0m\u001b[0;34m=\u001b[0m\u001b[0;32mTrue\u001b[0m\u001b[0;34m,\u001b[0m \u001b[0mno_connection\u001b[0m\u001b[0;34m=\u001b[0m\u001b[0;32mFalse\u001b[0m\u001b[0;34m,\u001b[0m \u001b[0mdel_word_less_2_symbol\u001b[0m\u001b[0;34m=\u001b[0m\u001b[0;32mTrue\u001b[0m\u001b[0;34m)\u001b[0m\u001b[0;34m\u001b[0m\u001b[0;34m\u001b[0m\u001b[0m\n\u001b[0m\u001b[1;32m      2\u001b[0m \u001b[0;34m\u001b[0m\u001b[0m\n\u001b[1;32m      3\u001b[0m \u001b[0mnews\u001b[0m\u001b[0;34m[\u001b[0m\u001b[0;34m'clean_text'\u001b[0m\u001b[0;34m]\u001b[0m \u001b[0;34m=\u001b[0m \u001b[0mdata\u001b[0m\u001b[0;34m\u001b[0m\u001b[0;34m\u001b[0m\u001b[0m\n",
            "\u001b[0;32m<ipython-input-26-f76d907a7349>\u001b[0m in \u001b[0;36mtext_preprocessing\u001b[0;34m(lang, text, lemmatize, replacement, del_stop_words, no_connection, del_word_less_2_symbol)\u001b[0m\n\u001b[1;32m     30\u001b[0m \u001b[0;34m\u001b[0m\u001b[0m\n\u001b[1;32m     31\u001b[0m     \u001b[0;32mif\u001b[0m \u001b[0mlemmatize\u001b[0m \u001b[0;34m==\u001b[0m \u001b[0;32mTrue\u001b[0m\u001b[0;34m:\u001b[0m\u001b[0;34m\u001b[0m\u001b[0;34m\u001b[0m\u001b[0m\n\u001b[0;32m---> 32\u001b[0;31m       \u001b[0md\u001b[0m \u001b[0;34m=\u001b[0m \u001b[0;34m\" \"\u001b[0m\u001b[0;34m.\u001b[0m\u001b[0mjoin\u001b[0m\u001b[0;34m(\u001b[0m\u001b[0mmorph\u001b[0m\u001b[0;34m.\u001b[0m\u001b[0mparse\u001b[0m\u001b[0;34m(\u001b[0m\u001b[0mword\u001b[0m\u001b[0;34m)\u001b[0m\u001b[0;34m[\u001b[0m\u001b[0;36m0\u001b[0m\u001b[0;34m]\u001b[0m\u001b[0;34m.\u001b[0m\u001b[0mnormal_form\u001b[0m \u001b[0;32mfor\u001b[0m \u001b[0mword\u001b[0m \u001b[0;32min\u001b[0m \u001b[0md\u001b[0m\u001b[0;34m.\u001b[0m\u001b[0msplit\u001b[0m\u001b[0;34m(\u001b[0m\u001b[0;34m)\u001b[0m\u001b[0;34m)\u001b[0m \u001b[0;31m# Лемматизация\u001b[0m\u001b[0;34m\u001b[0m\u001b[0;34m\u001b[0m\u001b[0m\n\u001b[0m\u001b[1;32m     33\u001b[0m \u001b[0;34m\u001b[0m\u001b[0m\n\u001b[1;32m     34\u001b[0m     \u001b[0md\u001b[0m \u001b[0;34m=\u001b[0m \u001b[0mre\u001b[0m\u001b[0;34m.\u001b[0m\u001b[0msub\u001b[0m\u001b[0;34m(\u001b[0m\u001b[0;34m' нет '\u001b[0m\u001b[0;34m,\u001b[0m \u001b[0;34m' не '\u001b[0m\u001b[0;34m,\u001b[0m \u001b[0md\u001b[0m\u001b[0;34m)\u001b[0m \u001b[0;31m# Замена 'нет' и 'ни' на 'не'\u001b[0m\u001b[0;34m\u001b[0m\u001b[0;34m\u001b[0m\u001b[0m\n",
            "\u001b[0;32m<ipython-input-26-f76d907a7349>\u001b[0m in \u001b[0;36m<genexpr>\u001b[0;34m(.0)\u001b[0m\n\u001b[1;32m     30\u001b[0m \u001b[0;34m\u001b[0m\u001b[0m\n\u001b[1;32m     31\u001b[0m     \u001b[0;32mif\u001b[0m \u001b[0mlemmatize\u001b[0m \u001b[0;34m==\u001b[0m \u001b[0;32mTrue\u001b[0m\u001b[0;34m:\u001b[0m\u001b[0;34m\u001b[0m\u001b[0;34m\u001b[0m\u001b[0m\n\u001b[0;32m---> 32\u001b[0;31m       \u001b[0md\u001b[0m \u001b[0;34m=\u001b[0m \u001b[0;34m\" \"\u001b[0m\u001b[0;34m.\u001b[0m\u001b[0mjoin\u001b[0m\u001b[0;34m(\u001b[0m\u001b[0mmorph\u001b[0m\u001b[0;34m.\u001b[0m\u001b[0mparse\u001b[0m\u001b[0;34m(\u001b[0m\u001b[0mword\u001b[0m\u001b[0;34m)\u001b[0m\u001b[0;34m[\u001b[0m\u001b[0;36m0\u001b[0m\u001b[0;34m]\u001b[0m\u001b[0;34m.\u001b[0m\u001b[0mnormal_form\u001b[0m \u001b[0;32mfor\u001b[0m \u001b[0mword\u001b[0m \u001b[0;32min\u001b[0m \u001b[0md\u001b[0m\u001b[0;34m.\u001b[0m\u001b[0msplit\u001b[0m\u001b[0;34m(\u001b[0m\u001b[0;34m)\u001b[0m\u001b[0;34m)\u001b[0m \u001b[0;31m# Лемматизация\u001b[0m\u001b[0;34m\u001b[0m\u001b[0;34m\u001b[0m\u001b[0m\n\u001b[0m\u001b[1;32m     33\u001b[0m \u001b[0;34m\u001b[0m\u001b[0m\n\u001b[1;32m     34\u001b[0m     \u001b[0md\u001b[0m \u001b[0;34m=\u001b[0m \u001b[0mre\u001b[0m\u001b[0;34m.\u001b[0m\u001b[0msub\u001b[0m\u001b[0;34m(\u001b[0m\u001b[0;34m' нет '\u001b[0m\u001b[0;34m,\u001b[0m \u001b[0;34m' не '\u001b[0m\u001b[0;34m,\u001b[0m \u001b[0md\u001b[0m\u001b[0;34m)\u001b[0m \u001b[0;31m# Замена 'нет' и 'ни' на 'не'\u001b[0m\u001b[0;34m\u001b[0m\u001b[0;34m\u001b[0m\u001b[0m\n",
            "\u001b[0;32m/usr/local/lib/python3.6/dist-packages/pymorphy2/analyzer.py\u001b[0m in \u001b[0;36mparse\u001b[0;34m(self, word)\u001b[0m\n\u001b[1;32m    313\u001b[0m \u001b[0;34m\u001b[0m\u001b[0m\n\u001b[1;32m    314\u001b[0m         \u001b[0;32mfor\u001b[0m \u001b[0manalyzer\u001b[0m\u001b[0;34m,\u001b[0m \u001b[0mis_terminal\u001b[0m \u001b[0;32min\u001b[0m \u001b[0mself\u001b[0m\u001b[0;34m.\u001b[0m\u001b[0m_units\u001b[0m\u001b[0;34m:\u001b[0m\u001b[0;34m\u001b[0m\u001b[0;34m\u001b[0m\u001b[0m\n\u001b[0;32m--> 315\u001b[0;31m             \u001b[0mres\u001b[0m\u001b[0;34m.\u001b[0m\u001b[0mextend\u001b[0m\u001b[0;34m(\u001b[0m\u001b[0manalyzer\u001b[0m\u001b[0;34m.\u001b[0m\u001b[0mparse\u001b[0m\u001b[0;34m(\u001b[0m\u001b[0mword\u001b[0m\u001b[0;34m,\u001b[0m \u001b[0mword_lower\u001b[0m\u001b[0;34m,\u001b[0m \u001b[0mseen\u001b[0m\u001b[0;34m)\u001b[0m\u001b[0;34m)\u001b[0m\u001b[0;34m\u001b[0m\u001b[0;34m\u001b[0m\u001b[0m\n\u001b[0m\u001b[1;32m    316\u001b[0m \u001b[0;34m\u001b[0m\u001b[0m\n\u001b[1;32m    317\u001b[0m             \u001b[0;32mif\u001b[0m \u001b[0mis_terminal\u001b[0m \u001b[0;32mand\u001b[0m \u001b[0mres\u001b[0m\u001b[0;34m:\u001b[0m\u001b[0;34m\u001b[0m\u001b[0;34m\u001b[0m\u001b[0m\n",
            "\u001b[0;32m/usr/local/lib/python3.6/dist-packages/pymorphy2/units/by_lookup.py\u001b[0m in \u001b[0;36mparse\u001b[0;34m(self, word, word_lower, seen_parses)\u001b[0m\n\u001b[1;32m     22\u001b[0m         \"\"\"\n\u001b[1;32m     23\u001b[0m         \u001b[0mres\u001b[0m \u001b[0;34m=\u001b[0m \u001b[0;34m[\u001b[0m\u001b[0;34m]\u001b[0m\u001b[0;34m\u001b[0m\u001b[0;34m\u001b[0m\u001b[0m\n\u001b[0;32m---> 24\u001b[0;31m         \u001b[0mpara_data\u001b[0m \u001b[0;34m=\u001b[0m \u001b[0mself\u001b[0m\u001b[0;34m.\u001b[0m\u001b[0mdict\u001b[0m\u001b[0;34m.\u001b[0m\u001b[0mwords\u001b[0m\u001b[0;34m.\u001b[0m\u001b[0msimilar_items\u001b[0m\u001b[0;34m(\u001b[0m\u001b[0mword_lower\u001b[0m\u001b[0;34m,\u001b[0m \u001b[0mself\u001b[0m\u001b[0;34m.\u001b[0m\u001b[0mmorph\u001b[0m\u001b[0;34m.\u001b[0m\u001b[0mchar_substitutes\u001b[0m\u001b[0;34m)\u001b[0m\u001b[0;34m\u001b[0m\u001b[0;34m\u001b[0m\u001b[0m\n\u001b[0m\u001b[1;32m     25\u001b[0m \u001b[0;34m\u001b[0m\u001b[0m\n\u001b[1;32m     26\u001b[0m         \u001b[0;32mfor\u001b[0m \u001b[0mfixed_word\u001b[0m\u001b[0;34m,\u001b[0m \u001b[0mparses\u001b[0m \u001b[0;32min\u001b[0m \u001b[0mpara_data\u001b[0m\u001b[0;34m:\u001b[0m\u001b[0;34m\u001b[0m\u001b[0;34m\u001b[0m\u001b[0m\n",
            "\u001b[0;32m/usr/local/lib/python3.6/dist-packages/dawg_python/dawgs.py\u001b[0m in \u001b[0;36msimilar_items\u001b[0;34m(self, key, replaces)\u001b[0m\n\u001b[1;32m    367\u001b[0m         \u001b[0municode\u001b[0m \u001b[0mstrings\u001b[0m\u001b[0;34m.\u001b[0m\u001b[0;34m\u001b[0m\u001b[0;34m\u001b[0m\u001b[0m\n\u001b[1;32m    368\u001b[0m         \"\"\"\n\u001b[0;32m--> 369\u001b[0;31m         \u001b[0;32mreturn\u001b[0m \u001b[0mself\u001b[0m\u001b[0;34m.\u001b[0m\u001b[0m_similar_items\u001b[0m\u001b[0;34m(\u001b[0m\u001b[0;34m\"\"\u001b[0m\u001b[0;34m,\u001b[0m \u001b[0mkey\u001b[0m\u001b[0;34m,\u001b[0m \u001b[0mself\u001b[0m\u001b[0;34m.\u001b[0m\u001b[0mdct\u001b[0m\u001b[0;34m.\u001b[0m\u001b[0mROOT\u001b[0m\u001b[0;34m,\u001b[0m \u001b[0mreplaces\u001b[0m\u001b[0;34m)\u001b[0m\u001b[0;34m\u001b[0m\u001b[0;34m\u001b[0m\u001b[0m\n\u001b[0m\u001b[1;32m    370\u001b[0m \u001b[0;34m\u001b[0m\u001b[0m\n\u001b[1;32m    371\u001b[0m \u001b[0;34m\u001b[0m\u001b[0m\n",
            "\u001b[0;32m/usr/local/lib/python3.6/dist-packages/dawg_python/dawgs.py\u001b[0m in \u001b[0;36m_similar_items\u001b[0;34m(self, current_prefix, key, index, replace_chars)\u001b[0m\n\u001b[1;32m    343\u001b[0m                     \u001b[0mres\u001b[0m \u001b[0;34m+=\u001b[0m \u001b[0mextra_items\u001b[0m\u001b[0;34m\u001b[0m\u001b[0;34m\u001b[0m\u001b[0m\n\u001b[1;32m    344\u001b[0m \u001b[0;34m\u001b[0m\u001b[0m\n\u001b[0;32m--> 345\u001b[0;31m             \u001b[0mindex\u001b[0m \u001b[0;34m=\u001b[0m \u001b[0mself\u001b[0m\u001b[0;34m.\u001b[0m\u001b[0mdct\u001b[0m\u001b[0;34m.\u001b[0m\u001b[0mfollow_bytes\u001b[0m\u001b[0;34m(\u001b[0m\u001b[0mb_step\u001b[0m\u001b[0;34m,\u001b[0m \u001b[0mindex\u001b[0m\u001b[0;34m)\u001b[0m\u001b[0;34m\u001b[0m\u001b[0;34m\u001b[0m\u001b[0m\n\u001b[0m\u001b[1;32m    346\u001b[0m             \u001b[0;32mif\u001b[0m \u001b[0;32mnot\u001b[0m \u001b[0mindex\u001b[0m\u001b[0;34m:\u001b[0m\u001b[0;34m\u001b[0m\u001b[0;34m\u001b[0m\u001b[0m\n\u001b[1;32m    347\u001b[0m                 \u001b[0;32mbreak\u001b[0m\u001b[0;34m\u001b[0m\u001b[0;34m\u001b[0m\u001b[0m\n",
            "\u001b[0;32m/usr/local/lib/python3.6/dist-packages/dawg_python/wrapper.py\u001b[0m in \u001b[0;36mfollow_bytes\u001b[0;34m(self, s, index)\u001b[0m\n\u001b[1;32m     62\u001b[0m         \u001b[0;34m\"Follows transitions.\"\u001b[0m\u001b[0;34m\u001b[0m\u001b[0;34m\u001b[0m\u001b[0m\n\u001b[1;32m     63\u001b[0m         \u001b[0;32mfor\u001b[0m \u001b[0mch\u001b[0m \u001b[0;32min\u001b[0m \u001b[0ms\u001b[0m\u001b[0;34m:\u001b[0m\u001b[0;34m\u001b[0m\u001b[0;34m\u001b[0m\u001b[0m\n\u001b[0;32m---> 64\u001b[0;31m             \u001b[0mindex\u001b[0m \u001b[0;34m=\u001b[0m \u001b[0mself\u001b[0m\u001b[0;34m.\u001b[0m\u001b[0mfollow_char\u001b[0m\u001b[0;34m(\u001b[0m\u001b[0mint_from_byte\u001b[0m\u001b[0;34m(\u001b[0m\u001b[0mch\u001b[0m\u001b[0;34m)\u001b[0m\u001b[0;34m,\u001b[0m \u001b[0mindex\u001b[0m\u001b[0;34m)\u001b[0m\u001b[0;34m\u001b[0m\u001b[0;34m\u001b[0m\u001b[0m\n\u001b[0m\u001b[1;32m     65\u001b[0m             \u001b[0;32mif\u001b[0m \u001b[0mindex\u001b[0m \u001b[0;32mis\u001b[0m \u001b[0;32mNone\u001b[0m\u001b[0;34m:\u001b[0m\u001b[0;34m\u001b[0m\u001b[0;34m\u001b[0m\u001b[0m\n\u001b[1;32m     66\u001b[0m                 \u001b[0;32mreturn\u001b[0m \u001b[0;32mNone\u001b[0m\u001b[0;34m\u001b[0m\u001b[0;34m\u001b[0m\u001b[0m\n",
            "\u001b[0;32m/usr/local/lib/python3.6/dist-packages/dawg_python/wrapper.py\u001b[0m in \u001b[0;36mfollow_char\u001b[0;34m(self, label, index)\u001b[0m\n\u001b[1;32m     49\u001b[0m         \u001b[0;32mreturn\u001b[0m \u001b[0mself\u001b[0m\u001b[0;34m.\u001b[0m\u001b[0mvalue\u001b[0m\u001b[0;34m(\u001b[0m\u001b[0mindex\u001b[0m\u001b[0;34m)\u001b[0m\u001b[0;34m\u001b[0m\u001b[0;34m\u001b[0m\u001b[0m\n\u001b[1;32m     50\u001b[0m \u001b[0;34m\u001b[0m\u001b[0m\n\u001b[0;32m---> 51\u001b[0;31m     \u001b[0;32mdef\u001b[0m \u001b[0mfollow_char\u001b[0m\u001b[0;34m(\u001b[0m\u001b[0mself\u001b[0m\u001b[0;34m,\u001b[0m \u001b[0mlabel\u001b[0m\u001b[0;34m,\u001b[0m \u001b[0mindex\u001b[0m\u001b[0;34m)\u001b[0m\u001b[0;34m:\u001b[0m\u001b[0;34m\u001b[0m\u001b[0;34m\u001b[0m\u001b[0m\n\u001b[0m\u001b[1;32m     52\u001b[0m         \u001b[0;34m\"Follows a transition\"\u001b[0m\u001b[0;34m\u001b[0m\u001b[0;34m\u001b[0m\u001b[0m\n\u001b[1;32m     53\u001b[0m         \u001b[0moffset\u001b[0m \u001b[0;34m=\u001b[0m \u001b[0munits\u001b[0m\u001b[0;34m.\u001b[0m\u001b[0moffset\u001b[0m\u001b[0;34m(\u001b[0m\u001b[0mself\u001b[0m\u001b[0;34m.\u001b[0m\u001b[0m_units\u001b[0m\u001b[0;34m[\u001b[0m\u001b[0mindex\u001b[0m\u001b[0;34m]\u001b[0m\u001b[0;34m)\u001b[0m\u001b[0;34m\u001b[0m\u001b[0;34m\u001b[0m\u001b[0m\n",
            "\u001b[0;31mKeyboardInterrupt\u001b[0m: "
          ]
        }
      ]
    },
    {
      "cell_type": "code",
      "metadata": {
        "id": "BqfsUEQmr4lI",
        "colab": {
          "base_uri": "https://localhost:8080/",
          "height": 120
        },
        "outputId": "012c3674-17f2-4164-c33f-4656ab8d7af5"
      },
      "source": [
        "news.text.values[0]"
      ],
      "execution_count": 30,
      "outputs": [
        {
          "output_type": "execute_result",
          "data": {
            "application/vnd.google.colaboratory.intrinsic+json": {
              "type": "string"
            },
            "text/plain": [
              "'сбербанк вместе весь страна готовиться празднование number_token годовщина победа великии отечественныи воина вместе свои дочернии компания разработать целыи ряд продукт сервис мероприятие которыи помочь весь россиянин оказать поддержка ветеран великии отечественныи воина почтить память свои родные близкие вернуться полыи сражение фонд память поколение благотворительныи платформа сбербанк вместе благотворительныи фонд память поколение честь празднование день победа запустить совместныи акция весь мир встать борьба коронавирус ветеран приходиться сложныи сегодня передвижение пожилое человек вынужденно ограничить имя нужныи дополнительныи внимание бережныи поддержка волонтер время это отменять потребность специализировать медицинскии помощь дорогостоящии современныи протез слуховои аппарат коляска каждыи пожертвование сделать клиент банка адрес фонд память поколение удваиваться сбербанк весь сбор поити поддержка ветеран великии отечественныи воина сегодняшнии день общии сумма взнос фонд составить number_token миллион рубль акция продолжать набирать оборот принять участие акция саит сбербанк вместе узнать дробныи отчет история ветеран кома удаться помочь саит фонд память поколение мобильныи приложение сбербанк онлаин android появиться возможность удобно подключить регулярныи пожертвование напрямую фонд память поколение вместе фонд оказывать ветеран постоянныи поддержка нпф сбербанк направить пожертвование размер number_token сумма первоначальныи взнос number_token рубль каждыи договор индивидуальныи пенсионныи план которыи заключить клиент фонд number_token апрель number_token маи саит фонд сбербанк онлаин первоначальныи взнос зачисляться счет клиент полныи размер нпф сбербанк делать пожертвование счет собственныи средство сбербанк страхование жизнь сбербанк страхование перечислить фонд пожертвование часть сумма взнос каждыи договор страхование заключенныи период number_token апрель number_token маи пожертвование сделать счет собственныи средство страхов компания период number_token апрель number_token маи люба перевод корпоративныи клиент бизнес карта мобильныи приложение сбербанк бизнес онлаин онлаин банк юридическии лицо банк перечислить фонд number_token рубль собственныи средство участие клиент банка юридическии лицо необходимыи сделать перевод бизнес карта чаща клиент пользоваться перевод период деиствие предложение большои средство перечислить ветеран программа лояльность спасибо сбербанк запускать бесплатныи викторин военныи история посвятить number_token летие победа великии отечественныи воина викторин доступныи viber специальныи чат бот спасибо получить бонус также потратить добрыи дело число благотворительныи взнос фонд память поколение течение пять неделя начинать number_token апрель участник отвечать вопрос событие военныи год неделя год воина человек событие экономика ежедневно активироваться новое вопрос каждыи правильныи ответ участник викторин зарабатывать бонус спасибо мочь отслеживать свои результат количество ответ заработать бонус течение весь акция делиться проект банк память помимо забота помнить вернуться свои роднои близкие сбербанк приглашать весь присоединиться онлаин проект банк память проект создать помочь каждыи человек сохранить передать поколение память подвиг которыи совершить член семья время великии отечественныи воина лента герои позволять увидеть путь свои ветеран также история герои свои друг благодаря синхронизация социальныи сеть каждыи авторизированныи пользователь мочь узнать пересекаться путь близкие непростои время узнать большои проект саит sbernumber_tokenmay предложение компания экосистема сбербанк маркетплеис брать сервис доставка еда ресторан delivery club онлаин кинотеатр okko сервис доставка товар необходимость сбермаркета сервис доставка посылка сберлогистика распространять открытка электронныи письмо поздравление предложение пожертвовать средство фонд память поколение медицинскии сервис docdoc подарить number_token ветеран подписка активныи возраст обеспечить весь человек старшии number_token год рождение скидка размер number_token годовои подписка весь врач онлаин включать консультация врач станислав кузнецов заместитель председатель правление сбербанк чувствовать ответственность помощь проити весь тягота кровопролитныи воина кома обязать свои жизнь жизнь наш страна очень важныи сохранить историческии память великии победа никто забытыи ничто забытыи number_token летие победа великии отечественныи воина сбербанк подготовить целыи комплекс мероприятие благотворительныи акция оказание помощь ветеран образовательныи активность рассказывать велик подвиг русскии народ наш сервис проект весь гордиться помнить чтить свои герои екатерина круглов исполнительныи директор благотворительныи фонд память поколение год значимыи каждыи праздновать number_token летие великии победа несмотря вынужденныи мера самоизоляция ветеран великии отечественныи воина очень нуждаться наш поддержка рад благодаря сотрудничество сбербанк смочь оказать имя большии объесть медицинскии помощь это важныи особенно столь нелегкии каждыи человек время принимать участие совместныи благотворительныи акция фонд сбербанк благодарить проити страшныи событие number_token ради наш мирныи жизнь слово дело давать вместе помочь ветеран подарить имя праздник вызвать коронавирус ограничительныи мера экономическии падение отразиться работа россиискии компания данные опрос работа число переити удаленка вырасти пять number_token месяц назад number_token частично переслать number_token ограничиться рекомендация оставить окончательныи решение сотрудник number_token возможность отправить сотрудник отпуск больничныи воспользоваться number_token работать штатныи режим предпочесть number_token наблюдаться беспрецедентныи спрос руководитель которыи уметь управлять территориально распределенныи команда очевидно удаленныи работа совершить настоящии революция рынок труд нужно бояться отпускать сотрудник карантин нанимать кандидат работа режим home office ценныи кадр одинаково продуктивныи люба обстановка это удаленщик часто отличаться высокии уровень осознание мотивация свободолюбивыи самодостаточныи склонныи самостоятельныи принятие решение главныи минус удаленныи сотрудник необходимость индивидуальныи подход поделиться управлять партнер selecty арсении федоткина добавить весь собеседование рекрутинговыи агентство selecty проходить дистанционно бизнес готовыи такои условие набирать человек частность проект number_token набирать персонал постоянныи удаленныи работа остальнои number_token проект сотрудник которыи трудоустроить временнои удаленка последующии выход офис руководство многии компания осознать штат приитись сокращать знать итог необходимыи спасение корабль ответ простои это менеджер обладать определенныи набор качество среди сумасшедшии стрессоустоичивость талант область операционныи антикризисныи управление мощныи энергетика гибкость готовность брать ответственность принимать решение эффективно рулить команда удаленка самыи оптимистичныи сценарии ожидать продление карантин лето это управляемыи пик полгода ситуация должныи стабилизироваться многии зависеть человек команда которыи ставить нога многострадальныи бизнес'"
            ]
          },
          "metadata": {
            "tags": []
          },
          "execution_count": 30
        }
      ]
    },
    {
      "cell_type": "code",
      "metadata": {
        "id": "RdcIPuPXQQA3",
        "colab": {
          "base_uri": "https://localhost:8080/",
          "height": 282
        },
        "outputId": "376c6126-69d2-46cd-f7b5-341ee952dab3"
      },
      "source": [
        "news.clean_text.values[0]"
      ],
      "execution_count": 31,
      "outputs": [
        {
          "output_type": "error",
          "ename": "AttributeError",
          "evalue": "ignored",
          "traceback": [
            "\u001b[0;31m---------------------------------------------------------------------------\u001b[0m",
            "\u001b[0;31mAttributeError\u001b[0m                            Traceback (most recent call last)",
            "\u001b[0;32m<ipython-input-31-cab23ff272fa>\u001b[0m in \u001b[0;36m<module>\u001b[0;34m()\u001b[0m\n\u001b[0;32m----> 1\u001b[0;31m \u001b[0mnews\u001b[0m\u001b[0;34m.\u001b[0m\u001b[0mclean_text\u001b[0m\u001b[0;34m.\u001b[0m\u001b[0mvalues\u001b[0m\u001b[0;34m[\u001b[0m\u001b[0;36m0\u001b[0m\u001b[0;34m]\u001b[0m\u001b[0;34m\u001b[0m\u001b[0;34m\u001b[0m\u001b[0m\n\u001b[0m",
            "\u001b[0;32m/usr/local/lib/python3.6/dist-packages/pandas/core/generic.py\u001b[0m in \u001b[0;36m__getattr__\u001b[0;34m(self, name)\u001b[0m\n\u001b[1;32m   5139\u001b[0m             \u001b[0;32mif\u001b[0m \u001b[0mself\u001b[0m\u001b[0;34m.\u001b[0m\u001b[0m_info_axis\u001b[0m\u001b[0;34m.\u001b[0m\u001b[0m_can_hold_identifiers_and_holds_name\u001b[0m\u001b[0;34m(\u001b[0m\u001b[0mname\u001b[0m\u001b[0;34m)\u001b[0m\u001b[0;34m:\u001b[0m\u001b[0;34m\u001b[0m\u001b[0;34m\u001b[0m\u001b[0m\n\u001b[1;32m   5140\u001b[0m                 \u001b[0;32mreturn\u001b[0m \u001b[0mself\u001b[0m\u001b[0;34m[\u001b[0m\u001b[0mname\u001b[0m\u001b[0;34m]\u001b[0m\u001b[0;34m\u001b[0m\u001b[0;34m\u001b[0m\u001b[0m\n\u001b[0;32m-> 5141\u001b[0;31m             \u001b[0;32mreturn\u001b[0m \u001b[0mobject\u001b[0m\u001b[0;34m.\u001b[0m\u001b[0m__getattribute__\u001b[0m\u001b[0;34m(\u001b[0m\u001b[0mself\u001b[0m\u001b[0;34m,\u001b[0m \u001b[0mname\u001b[0m\u001b[0;34m)\u001b[0m\u001b[0;34m\u001b[0m\u001b[0;34m\u001b[0m\u001b[0m\n\u001b[0m\u001b[1;32m   5142\u001b[0m \u001b[0;34m\u001b[0m\u001b[0m\n\u001b[1;32m   5143\u001b[0m     \u001b[0;32mdef\u001b[0m \u001b[0m__setattr__\u001b[0m\u001b[0;34m(\u001b[0m\u001b[0mself\u001b[0m\u001b[0;34m,\u001b[0m \u001b[0mname\u001b[0m\u001b[0;34m:\u001b[0m \u001b[0mstr\u001b[0m\u001b[0;34m,\u001b[0m \u001b[0mvalue\u001b[0m\u001b[0;34m)\u001b[0m \u001b[0;34m->\u001b[0m \u001b[0;32mNone\u001b[0m\u001b[0;34m:\u001b[0m\u001b[0;34m\u001b[0m\u001b[0;34m\u001b[0m\u001b[0m\n",
            "\u001b[0;31mAttributeError\u001b[0m: 'DataFrame' object has no attribute 'clean_text'"
          ]
        }
      ]
    },
    {
      "cell_type": "code",
      "metadata": {
        "id": "MEDXCz1ORLuB"
      },
      "source": [
        "# Import packages\r\n",
        "#import matplotlib.pyplot as plt\r\n",
        "#%matplotlib inline\r\n",
        "# Define a function to plot word cloud\r\n",
        "#def plot_cloud(wordcloud):\r\n",
        "    # Set figure size\r\n",
        "#    plt.figure(figsize=(40, 30))\r\n",
        "    # Display image\r\n",
        "#    plt.imshow(wordcloud) \r\n",
        "    # No axis details\r\n",
        "#    plt.axis(\"off\");"
      ],
      "execution_count": 21,
      "outputs": []
    },
    {
      "cell_type": "code",
      "metadata": {
        "id": "EUSMKfhrQmgH"
      },
      "source": [
        "# Import package\r\n",
        "#from wordcloud import WordCloud, STOPWORDS\r\n",
        "#stop_words = ['который', 'также', 'ранее', 'год', 'такой', 'весь', 'поэтому', 'второй', 'function', 'которыи', 'это']\r\n",
        "# Generate word cloud\r\n",
        "#wordcloud = WordCloud(width = 3000, height = 2000, random_state=1, background_color='navy', colormap='rainbow', collocations=True, stopwords=stop_words)\\\r\n",
        "#      .generate((' ').join(news.clean_text.values[i] for i in range(news.shape[0])))\r\n",
        "# Plot\r\n",
        "#plot_cloud(wordcloud)"
      ],
      "execution_count": 33,
      "outputs": []
    },
    {
      "cell_type": "code",
      "metadata": {
        "id": "AlRCNuoVdgq4"
      },
      "source": [
        "def drop_freq_words(data):\n",
        "  global most_frequient\n",
        "\n",
        "  cnt = Counter() # подсчет числа вхождений каждого слова в текст\n",
        "  for text in data:\n",
        "    for word in str(text).split():\n",
        "      cnt[word] += 1\n",
        "        \n",
        "  most_frequient = cnt.most_common()\n",
        "\n",
        "  useless_words = set([w for (w, wc) in most_frequient[:100] +  most_frequient[-50_000:]]) # Так быстрее на несколько порядков, но числа надо подбирать ручками\n",
        "\n",
        "  #useful_words = []\n",
        "  #for i in range(len(most_frequient)):\n",
        "  #  freq = int(np.array(most_frequient)[i, 1])\n",
        "  #  if ((freq > 30) and (freq < int(most_frequient[0][1] * 0.2))): # Минимальное частота слова - 30, максимальная - 20% от частоты максимального слова\n",
        "  #    useful_words.append(most_frequient[i][0])\n",
        "\n",
        "  def remove_words(text):\n",
        "    return ' '.join([word for word in str(text).split() if word not in useless_words])\n",
        "\n",
        "  return pd.Series(data).apply(lambda text: remove_words(text)) # удаление самых частых и самых редких слов "
      ],
      "execution_count": 31,
      "outputs": []
    },
    {
      "cell_type": "code",
      "metadata": {
        "id": "CmV-fZ2Xdn5L"
      },
      "source": [
        "cleanest_text = drop_freq_words(news.clean_text)\n",
        "\n",
        "news['clean_text_without_useless_words'] = cleanest_text"
      ],
      "execution_count": 32,
      "outputs": []
    },
    {
      "cell_type": "markdown",
      "metadata": {
        "id": "0BQAbv1Hr2Hv"
      },
      "source": [
        ""
      ]
    },
    {
      "cell_type": "markdown",
      "metadata": {
        "id": "y4KGSsjaxvNE"
      },
      "source": [
        "### News parsing from Taiga"
      ]
    },
    {
      "cell_type": "code",
      "metadata": {
        "id": "nOvGlPPKLvtn"
      },
      "source": [
        "# Загрузка новостей из датасета Тайга\n",
        "\n",
        "#!wget https://github.com/yutkin/Lenta.Ru-News-Dataset/releases/download/v1.0/lenta-ru-news.csv.gz\n",
        "\n",
        "#from corus import load_lenta\n",
        "\n",
        "#path = 'lenta-ru-news.csv.gz'\n",
        "#records = load_lenta(path)\n",
        "\n",
        "#lenta_titles = []\n",
        "#lenta_data_int = []\n",
        "\n",
        "#for i in range(50_000):\n",
        "#  lenta_titles.append(next(records).title)\n",
        "#  a = re.findall('/\\d{4}/\\d{2}/\\d{2}', next(records).url)\n",
        "#  lenta_data_int.append(int(a[0][1:5]) * 10_000 + int(a[0][6:8]) * 100 + int(a[0][9:11]) )'''\n",
        "\n",
        "\n",
        "\n",
        "#lenta_headers = pd.DataFrame(columns=['header', 'date_int'])\n",
        "\n",
        "#lenta_headers['header'] = lenta_titles\n",
        "#lenta_headers['date_int'] = lenta_data_int"
      ],
      "execution_count": 25,
      "outputs": []
    },
    {
      "cell_type": "markdown",
      "metadata": {
        "id": "6jAPDY2xyGNk"
      },
      "source": [
        "## Make target"
      ]
    },
    {
      "cell_type": "code",
      "metadata": {
        "id": "J4pH8rbYSqjL"
      },
      "source": [
        "def preprocessing_target_data(data):\n",
        "  data.columns=['date', 'time', 'open', 'high', 'low', 'close', 'vol']\n",
        "  data.time /= 10_000\n",
        "\n",
        "  year, month, day = [], [], []\n",
        "  for i in range(data.shape[0]):\n",
        "    year.append(time.strptime(str(data.date[i]), '%Y%m%d')[0])\n",
        "    month.append(time.strptime(str(data.date[i]), '%Y%m%d')[1])\n",
        "    day.append(time.strptime(str(data.date[i]), '%Y%m%d')[2])\n",
        "\n",
        "  data['year'] = year\n",
        "  data['month'] = month\n",
        "  data['day'] = day\n",
        "\n",
        "  data.drop(columns=['date'], inplace=True)\n",
        "\n",
        "  return data"
      ],
      "execution_count": 33,
      "outputs": []
    },
    {
      "cell_type": "code",
      "metadata": {
        "id": "lJyaPQPWSL1Q"
      },
      "source": [
        "def make_taget(news):\n",
        "\n",
        "  #quotaion = preprocessing_target_data(pd.read_csv('https://raw.githubusercontent.com/WildArcher/Master_work/master/prices/SBER_2010-2020.csv', sep=' ')) # Акции сбера\n",
        "  #quotaion = preprocessing_target_data(pd.read_csv('https://raw.githubusercontent.com/WildArcher/Master_work/master/prices/RTSI_100617_200818.csv', sep=' ')) # Индекс РТС\n",
        "  quotaion = preprocessing_target_data(pd.read_csv('https://raw.githubusercontent.com/WildArcher/Master_work/master/prices/IMOEX_100617_200818.csv', sep=' ')) # Индекс мос биржи\n",
        "\n",
        "  # Создание даты из года, месяца и числа\n",
        "  quotaion['date'] = np.zeros(quotaion.shape[0])\n",
        "  for i in range(quotaion.shape[0]): \n",
        "    quotaion['date'][i] = datetime(quotaion.year[i], quotaion.month[i], quotaion.day[i])\n",
        "\n",
        "  # Костыль чтобы объединить дадафреймы\n",
        "  quotaion['date_int'] = np.zeros(quotaion.shape[0])\n",
        "  for i in range(quotaion.shape[0]):\n",
        "    quotaion['date_int'][i] = int(quotaion.date[i].year)*10_000 + int(quotaion.date[i].month)*100 + int(quotaion.date[i].day)\n",
        "\n",
        "  # Костыль чтобы объединить дадафреймы\n",
        "  news['date_int'] = np.zeros(news.shape[0])\n",
        "  news.date = pd.to_datetime(news.date)\n",
        "  for i in range(news.shape[0]):\n",
        "    news['date_int'][i] = int(news.date[i].year)*10_000 + int(news.date[i].month)*100 + int(news.date[i].day)\n",
        "\n",
        "  # Мерджить по дате нужно, чтобы расставить таргет\n",
        "  quotaion = news.merge(quotaion, on='date_int')\n",
        "  quotaion = quotaion[['close', 'clean_text', 'date_int', 'date_y']] #'summary', 'text']]\n",
        "  group_quotaion = pd.DataFrame(quotaion.groupby(by='date_int', as_index=False).mean(), dtype=float)\n",
        "\n",
        "  # Расстановка таргета на несколько дней\n",
        "  for i in range(1, 35):\n",
        "    group_quotaion['target_{}_day'.format(i)] = np.where(group_quotaion.close.shift(-i) > group_quotaion.close, 1, 0)\n",
        "  #group_quotaion['target_2_day_stronger'] = np.where(group_quotaion.close.shift(-2) - group_quotaion.close.shift(-1) > group_quotaion.close.shift(-1) - group_quotaion.close, 1, 0)\n",
        "  #group_quotaion['target_3_day_stronger'] = np.where(group_quotaion.close.shift(-3) - group_quotaion.close.shift(-2) > group_quotaion.close.shift(-2) - group_quotaion.close.shift(-1), 1, 0)\n",
        "\n",
        "  # Еще какой-то костыль\n",
        "  group_quotaion = group_quotaion.astype(float)\n",
        "  for i in range(1, 35):\n",
        "    group_quotaion['target_{}_day'.format(i)].values[-i:] = np.nan\n",
        "\n",
        "  group_quotaion = group_quotaion.merge(news).drop_duplicates('clean_text')\n",
        "\n",
        "  return group_quotaion"
      ],
      "execution_count": 34,
      "outputs": []
    },
    {
      "cell_type": "code",
      "metadata": {
        "id": "g6ffjF712X_s"
      },
      "source": [
        "data = make_taget(news)"
      ],
      "execution_count": 35,
      "outputs": []
    },
    {
      "cell_type": "code",
      "metadata": {
        "colab": {
          "base_uri": "https://localhost:8080/",
          "height": 297
        },
        "id": "LXNp6ZJDi4Ws",
        "outputId": "5348844e-e5a0-49ca-de4c-483a877cef89"
      },
      "source": [
        "sns.countplot(data.target_1_day)\n",
        "# Баланс классов в норме"
      ],
      "execution_count": 36,
      "outputs": [
        {
          "output_type": "execute_result",
          "data": {
            "text/plain": [
              "<matplotlib.axes._subplots.AxesSubplot at 0x7fea6d726ba8>"
            ]
          },
          "metadata": {
            "tags": []
          },
          "execution_count": 36
        },
        {
          "output_type": "display_data",
          "data": {
            "image/png": "[encoded data removed]",
            "text/plain": [
              "<Figure size 432x288 with 1 Axes>"
            ]
          },
          "metadata": {
            "tags": [],
            "needs_background": "light"
          }
        }
      ]
    },
    {
      "cell_type": "code",
      "metadata": {
        "id": "avT8XOoKABmj"
      },
      "source": [
        "def estimation_simple_model(text, target, vectorize, ngram_range, max_features, min_df, max_df):\n",
        "\n",
        "  global vectorizer\n",
        "  global train_data\n",
        "  global train_target\n",
        "  global test_data\n",
        "  global test_target\n",
        "  global vectorized_text\n",
        "\n",
        "  if vectorize == 'tf_idf':\n",
        "    vectorizer = TfidfVectorizer(ngram_range=ngram_range, max_features=max_features, min_df=min_df, max_df=max_df)\n",
        "\n",
        "  if vectorize == 'count_vectorizer':\n",
        "    vectorizer = CountVectorizer(ngram_range=ngram_range, max_features=max_features, min_df=min_df, max_df=max_df, vocabulary=vocabulary)\n",
        "\n",
        "\n",
        "  vectorized_text = vectorizer.fit_transform(text)\n",
        "\n",
        "  train_data, test_data, train_target, test_target = tt(vectorized_text.toarray(), target, test_size=0.2, shuffle=False)\n",
        "\n",
        "  global xgb_clf\n",
        "  global log_reg \n",
        "  global rand_for_clf \n",
        "  global svc\n",
        "  global neural_net\n",
        "  global gauss\n",
        "  global knn\n",
        "\n",
        "  xgb_clf = XGBClassifier(random_state=42)\n",
        "  log_reg = LogisticRegression(random_state=42)\n",
        "  rand_for_clf = RandomForestClassifier(random_state=42)\n",
        "  svc = SVC(random_state=42)\n",
        "  neural_net = MLPClassifier(solver='adam', alpha=0.0001, learning_rate='constant', learning_rate_init=0.001, random_state=42)\n",
        "  knn = KNeighborsClassifier()\n",
        "  bayes = MultinomialNB()\n",
        "\n",
        "  print('ngram_range =', ngram_range, ', max_features =', max_features, ', min_df =', min_df, ', max_df =', max_df)\n",
        "  for model in [xgb_clf, log_reg, rand_for_clf, svc, neural_net, knn, bayes]:\n",
        "\n",
        "    model.fit(train_data, train_target)\n",
        "    print(str(model).split('(')[0], accuracy_score(test_target, model.predict(test_data)), '\\n')"
      ],
      "execution_count": 44,
      "outputs": []
    },
    {
      "cell_type": "code",
      "metadata": {
        "id": "kn4yeEjR9mIi"
      },
      "source": [
        "data.dropna(inplace=True)"
      ],
      "execution_count": 45,
      "outputs": []
    },
    {
      "cell_type": "code",
      "metadata": {
        "colab": {
          "base_uri": "https://localhost:8080/"
        },
        "id": "04H-61C_WW2-",
        "outputId": "41b4772f-5808-40ff-815f-8b35ecafcc2b"
      },
      "source": [
        "%%time\n",
        "estimation_simple_model(data.clean_text, data.target_1_day, 'tf_idf', (1, 3), 5_000, 30, 500)"
      ],
      "execution_count": 46,
      "outputs": [
        {
          "output_type": "stream",
          "text": [
            "ngram_range = (1, 3) , max_features = 5000 , min_df = 30 , max_df = 500\n",
            "XGBClassifier 0.5183098591549296 \n",
            "\n",
            "LogisticRegression 0.4450704225352113 \n",
            "\n",
            "RandomForestClassifier 0.49859154929577465 \n",
            "\n",
            "SVC 0.43380281690140843 \n",
            "\n",
            "MLPClassifier 0.4422535211267606 \n",
            "\n",
            "KNeighborsClassifier 0.4450704225352113 \n",
            "\n",
            "MultinomialNB 0.4591549295774648 \n",
            "\n",
            "CPU times: user 1min 4s, sys: 13.6 s, total: 1min 18s\n",
            "Wall time: 54.6 s\n"
          ],
          "name": "stdout"
        }
      ]
    },
    {
      "cell_type": "code",
      "metadata": {
        "id": "avG6P-7lC224"
      },
      "source": [
        "import scipy\n",
        "\n",
        "def proportions_confint_diff_ind(sample1, sample2, alpha = 0.05):\n",
        "  z = scipy.stats.norm.ppf(1 - alpha / 2.)\n",
        "  p1 = float(sum(sample1)) / len(sample1)\n",
        "  p2 = float(sum(sample2)) / len(sample2)\n",
        "  left_boundary = (p1 - p2) - z * np.sqrt(p1 * (1 - p1)/ len(sample1) + p2 * (1 - p2)/ len(sample2))\n",
        "  right_boundary = (p1 - p2) + z * np.sqrt(p1 * (1 - p1)/ len(sample1) + p2 * (1 - p2)/ len(sample2))\n",
        "\n",
        "  return (left_boundary, right_boundary)"
      ],
      "execution_count": null,
      "outputs": []
    },
    {
      "cell_type": "code",
      "metadata": {
        "colab": {
          "base_uri": "https://localhost:8080/"
        },
        "id": "Afm96YphIPMv",
        "outputId": "9d86522f-93fe-4a1d-c431-0b3cab580636"
      },
      "source": [
        "proportions_confint_diff_ind(xgb_clf.predict(test_data), test_target)"
      ],
      "execution_count": null,
      "outputs": [
        {
          "output_type": "execute_result",
          "data": {
            "text/plain": [
              "(0.09284433692932531, 0.1839031666370085)"
            ]
          },
          "metadata": {
            "tags": []
          },
          "execution_count": 105
        }
      ]
    },
    {
      "cell_type": "code",
      "metadata": {
        "colab": {
          "base_uri": "https://localhost:8080/"
        },
        "id": "bfUdkp4egIwK",
        "outputId": "1be51358-4e75-4873-a8c2-a4004b48694b"
      },
      "source": [
        "words = vectorizer.get_feature_names()\n",
        "len(words)"
      ],
      "execution_count": 47,
      "outputs": [
        {
          "output_type": "execute_result",
          "data": {
            "text/plain": [
              "2622"
            ]
          },
          "metadata": {
            "tags": []
          },
          "execution_count": 47
        }
      ]
    },
    {
      "cell_type": "code",
      "metadata": {
        "colab": {
          "base_uri": "https://localhost:8080/",
          "height": 979
        },
        "id": "XOPKuqWsfPkT",
        "outputId": "9c929964-c30d-487d-c4ad-35dcde2a29b0"
      },
      "source": [
        "a = pd.DataFrame(xgb_clf.feature_importances_, columns=['rate'])\n",
        "a['word'] = vectorizer.get_feature_names()\n",
        "a.sort_values('rate')[-30:]"
      ],
      "execution_count": 48,
      "outputs": [
        {
          "output_type": "execute_result",
          "data": {
            "text/html": [
              "<div>\n",
              "<style scoped>\n",
              "    .dataframe tbody tr th:only-of-type {\n",
              "        vertical-align: middle;\n",
              "    }\n",
              "\n",
              "    .dataframe tbody tr th {\n",
              "        vertical-align: top;\n",
              "    }\n",
              "\n",
              "    .dataframe thead th {\n",
              "        text-align: right;\n",
              "    }\n",
              "</style>\n",
              "<table border=\"1\" class=\"dataframe\">\n",
              "  <thead>\n",
              "    <tr style=\"text-align: right;\">\n",
              "      <th></th>\n",
              "      <th>rate</th>\n",
              "      <th>word</th>\n",
              "    </tr>\n",
              "  </thead>\n",
              "  <tbody>\n",
              "    <tr>\n",
              "      <th>205</th>\n",
              "      <td>0.005332</td>\n",
              "      <td>взнос</td>\n",
              "    </tr>\n",
              "    <tr>\n",
              "      <th>2180</th>\n",
              "      <td>0.005333</td>\n",
              "      <td>создание</td>\n",
              "    </tr>\n",
              "    <tr>\n",
              "      <th>1963</th>\n",
              "      <td>0.005338</td>\n",
              "      <td>россиянин</td>\n",
              "    </tr>\n",
              "    <tr>\n",
              "      <th>385</th>\n",
              "      <td>0.005344</td>\n",
              "      <td>год function</td>\n",
              "    </tr>\n",
              "    <tr>\n",
              "      <th>957</th>\n",
              "      <td>0.005346</td>\n",
              "      <td>медицинскии</td>\n",
              "    </tr>\n",
              "    <tr>\n",
              "      <th>529</th>\n",
              "      <td>0.005350</td>\n",
              "      <td>доход</td>\n",
              "    </tr>\n",
              "    <tr>\n",
              "      <th>685</th>\n",
              "      <td>0.005376</td>\n",
              "      <td>изменение</td>\n",
              "    </tr>\n",
              "    <tr>\n",
              "      <th>170</th>\n",
              "      <td>0.005392</td>\n",
              "      <td>важныи</td>\n",
              "    </tr>\n",
              "    <tr>\n",
              "      <th>715</th>\n",
              "      <td>0.005423</td>\n",
              "      <td>интерес</td>\n",
              "    </tr>\n",
              "    <tr>\n",
              "      <th>1476</th>\n",
              "      <td>0.005446</td>\n",
              "      <td>подконтрольныи</td>\n",
              "    </tr>\n",
              "    <tr>\n",
              "      <th>722</th>\n",
              "      <td>0.005460</td>\n",
              "      <td>информация</td>\n",
              "    </tr>\n",
              "    <tr>\n",
              "      <th>222</th>\n",
              "      <td>0.005476</td>\n",
              "      <td>включить</td>\n",
              "    </tr>\n",
              "    <tr>\n",
              "      <th>1008</th>\n",
              "      <td>0.005485</td>\n",
              "      <td>млрд рубль</td>\n",
              "    </tr>\n",
              "    <tr>\n",
              "      <th>2307</th>\n",
              "      <td>0.005556</td>\n",
              "      <td>сумма млрд</td>\n",
              "    </tr>\n",
              "    <tr>\n",
              "      <th>228</th>\n",
              "      <td>0.005565</td>\n",
              "      <td>власть</td>\n",
              "    </tr>\n",
              "    <tr>\n",
              "      <th>2581</th>\n",
              "      <td>0.005612</td>\n",
              "      <td>элемент</td>\n",
              "    </tr>\n",
              "    <tr>\n",
              "      <th>501</th>\n",
              "      <td>0.005630</td>\n",
              "      <td>документ</td>\n",
              "    </tr>\n",
              "    <tr>\n",
              "      <th>2510</th>\n",
              "      <td>0.005672</td>\n",
              "      <td>функция</td>\n",
              "    </tr>\n",
              "    <tr>\n",
              "      <th>2272</th>\n",
              "      <td>0.005709</td>\n",
              "      <td>стать известно</td>\n",
              "    </tr>\n",
              "    <tr>\n",
              "      <th>448</th>\n",
              "      <td>0.005809</td>\n",
              "      <td>дать</td>\n",
              "    </tr>\n",
              "    <tr>\n",
              "      <th>138</th>\n",
              "      <td>0.006007</td>\n",
              "      <td>бесплатныи</td>\n",
              "    </tr>\n",
              "    <tr>\n",
              "      <th>2277</th>\n",
              "      <td>0.006036</td>\n",
              "      <td>стоить</td>\n",
              "    </tr>\n",
              "    <tr>\n",
              "      <th>1495</th>\n",
              "      <td>0.006062</td>\n",
              "      <td>подтвердить</td>\n",
              "    </tr>\n",
              "    <tr>\n",
              "      <th>1724</th>\n",
              "      <td>0.006068</td>\n",
              "      <td>примерно</td>\n",
              "    </tr>\n",
              "    <tr>\n",
              "      <th>302</th>\n",
              "      <td>0.006297</td>\n",
              "      <td>второи</td>\n",
              "    </tr>\n",
              "    <tr>\n",
              "      <th>650</th>\n",
              "      <td>0.006505</td>\n",
              "      <td>здание</td>\n",
              "    </tr>\n",
              "    <tr>\n",
              "      <th>1225</th>\n",
              "      <td>0.006633</td>\n",
              "      <td>ограничить</td>\n",
              "    </tr>\n",
              "    <tr>\n",
              "      <th>1448</th>\n",
              "      <td>0.007082</td>\n",
              "      <td>площадь</td>\n",
              "    </tr>\n",
              "    <tr>\n",
              "      <th>502</th>\n",
              "      <td>0.007271</td>\n",
              "      <td>долг</td>\n",
              "    </tr>\n",
              "    <tr>\n",
              "      <th>60</th>\n",
              "      <td>0.007625</td>\n",
              "      <td>александр</td>\n",
              "    </tr>\n",
              "  </tbody>\n",
              "</table>\n",
              "</div>"
            ],
            "text/plain": [
              "          rate            word\n",
              "205   0.005332           взнос\n",
              "2180  0.005333        создание\n",
              "1963  0.005338       россиянин\n",
              "385   0.005344    год function\n",
              "957   0.005346     медицинскии\n",
              "529   0.005350           доход\n",
              "685   0.005376       изменение\n",
              "170   0.005392          важныи\n",
              "715   0.005423         интерес\n",
              "1476  0.005446  подконтрольныи\n",
              "722   0.005460      информация\n",
              "222   0.005476        включить\n",
              "1008  0.005485      млрд рубль\n",
              "2307  0.005556      сумма млрд\n",
              "228   0.005565          власть\n",
              "2581  0.005612         элемент\n",
              "501   0.005630        документ\n",
              "2510  0.005672         функция\n",
              "2272  0.005709  стать известно\n",
              "448   0.005809            дать\n",
              "138   0.006007      бесплатныи\n",
              "2277  0.006036          стоить\n",
              "1495  0.006062     подтвердить\n",
              "1724  0.006068        примерно\n",
              "302   0.006297          второи\n",
              "650   0.006505          здание\n",
              "1225  0.006633      ограничить\n",
              "1448  0.007082         площадь\n",
              "502   0.007271            долг\n",
              "60    0.007625       александр"
            ]
          },
          "metadata": {
            "tags": []
          },
          "execution_count": 48
        }
      ]
    },
    {
      "cell_type": "code",
      "metadata": {
        "id": "yuC4JzOFF69M"
      },
      "source": [
        "data = data.reset_index(drop=True)"
      ],
      "execution_count": 49,
      "outputs": []
    },
    {
      "cell_type": "code",
      "metadata": {
        "id": "x41VyCByDNyS"
      },
      "source": [
        "#count = 0\n",
        "#for i in range(data.shape[0]):\n",
        "#  if 'property' in data[data.target_1_day == 0].clean_text.values[i]:\n",
        "#    count += 1\n",
        "#count"
      ],
      "execution_count": 50,
      "outputs": []
    },
    {
      "cell_type": "code",
      "metadata": {
        "id": "kwnFO7xUfW7-"
      },
      "source": [
        "#a.sort_values(by='rate')[-50:]\n",
        "# Надо убрать чать мусорных слов"
      ],
      "execution_count": 51,
      "outputs": []
    },
    {
      "cell_type": "code",
      "metadata": {
        "id": "o6YvoQKBllha"
      },
      "source": [
        "vocabulary = a[a.rate > 0.0001].word.values"
      ],
      "execution_count": 52,
      "outputs": []
    },
    {
      "cell_type": "code",
      "metadata": {
        "id": "wVH-9hDBwRl7"
      },
      "source": [
        "# estimation_simple_model(data.clean_text[:30_000], data.target_1_day[:30_000], 'tf_idf', (1, 3), 3_500, 5, 10_000) на лете на индексе РТС \n",
        "# трейн распределен почти одинаково, предикт на трейне - почти одни 0, но качество - 63%\n",
        "# на тесте распределение норм, но предсказания опять почти все 0\n",
        "\n",
        "# estimation_simple_model(data['0'], data.target_20_day, 'tf_idf', (1, 3), 3_500, 5, 10_000)\n",
        "# на новостях РБК то же самое - на трейне качество хорошее, однако на тесте - примерно 30%"
      ],
      "execution_count": null,
      "outputs": []
    },
    {
      "cell_type": "markdown",
      "metadata": {
        "id": "tvSrLTUhA42m"
      },
      "source": [
        "# Sentiment analysis"
      ]
    },
    {
      "cell_type": "code",
      "metadata": {
        "id": "YG7TNGCyA4Ml"
      },
      "source": [
        "def sent_analysis_vader(data, text, rate):\n",
        "  global accur_1\n",
        "  global best_data\n",
        "  \n",
        "  accur_1 = []\n",
        "  nltk.download('vader_lexicon')\n",
        "\n",
        "  vader = SentimentIntensityAnalyzer()\n",
        "  parsed_and_scored_news = pd.DataFrame(data)\n",
        "  scores = parsed_and_scored_news[text].apply(vader.polarity_scores).tolist()\n",
        "  scores_df = pd.DataFrame(scores)\n",
        "  parsed_and_scored_news = parsed_and_scored_news.join(scores_df, rsuffix='_right')\n",
        "\n",
        "  mean_scores = parsed_and_scored_news.groupby(['date_int']).mean()\n",
        "  mean_scores = mean_scores.unstack()\n",
        "  mean_scores = mean_scores.xs('compound', axis=0).transpose()\n",
        "  parsed_and_scored_news.dropna(inplace=True)\n",
        "\n",
        "  best_data = parsed_and_scored_news[abs(parsed_and_scored_news.compound) > rate]\n",
        "  best_data = best_data.reset_index(drop=True)\n",
        "\n",
        "  sns.countplot(np.where(best_data.compound.values > 0, 1, 0))\n",
        "\n",
        "  for i in range(1, 30):\n",
        "    accur_1.append(accuracy_score(best_data['target_{}_day'.format(i)], np.where(best_data.compound.values > 0, 1, 0)))\n",
        "    print(i, accuracy_score(best_data['target_{}_day'.format(i)], np.where(best_data.compound.values > 0, 1, 0)))\n",
        "\n",
        "  accur_1 = best_data['target_1_day']\n",
        "\n",
        "  return parsed_and_scored_news"
      ],
      "execution_count": 37,
      "outputs": []
    },
    {
      "cell_type": "code",
      "metadata": {
        "id": "wYFEnEhW2MPt"
      },
      "source": [
        " a = []\r\n",
        " \r\n",
        " for i in range(1, 30):\r\n",
        "    a.append(accuracy_score(best_data['target_{}_day'.format(i)], np.where(best_data.compound.values > 0, 1, 0)))"
      ],
      "execution_count": 101,
      "outputs": []
    },
    {
      "cell_type": "code",
      "metadata": {
        "colab": {
          "base_uri": "https://localhost:8080/",
          "height": 775
        },
        "id": "FSbSTFAKAi0l",
        "outputId": "d5736e82-7470-4eef-cc12-55342ed57b82"
      },
      "source": [
        "parsed_and_scored_news = sent_analysis_vader(data, 'clean_text_without_useless_words', 0.77)"
      ],
      "execution_count": 38,
      "outputs": [
        {
          "output_type": "stream",
          "text": [
            "[nltk_data] Downloading package vader_lexicon to /root/nltk_data...\n",
            "1 0.5238095238095238\n",
            "2 0.5619047619047619\n",
            "3 0.5238095238095238\n",
            "4 0.5619047619047619\n",
            "5 0.5619047619047619\n",
            "6 0.5714285714285714\n",
            "7 0.5047619047619047\n",
            "8 0.47619047619047616\n",
            "9 0.4666666666666667\n",
            "10 0.5142857142857142\n",
            "11 0.4857142857142857\n",
            "12 0.5047619047619047\n",
            "13 0.4857142857142857\n",
            "14 0.5333333333333333\n",
            "15 0.5047619047619047\n",
            "16 0.580952380952381\n",
            "17 0.5428571428571428\n",
            "18 0.5904761904761905\n",
            "19 0.5714285714285714\n",
            "20 0.5904761904761905\n",
            "21 0.5904761904761905\n",
            "22 0.580952380952381\n",
            "23 0.6\n",
            "24 0.6095238095238096\n",
            "25 0.6190476190476191\n",
            "26 0.6285714285714286\n",
            "27 0.6190476190476191\n",
            "28 0.6190476190476191\n",
            "29 0.6190476190476191\n"
          ],
          "name": "stdout"
        },
        {
          "output_type": "display_data",
          "data": {
            "image/png": "[encoded data removed]",
            "text/plain": [
              "<Figure size 432x288 with 1 Axes>"
            ]
          },
          "metadata": {
            "tags": [],
            "needs_background": "light"
          }
        }
      ]
    },
    {
      "cell_type": "code",
      "metadata": {
        "id": "YsXQy7rL38fr"
      },
      "source": [
        "sns.set_palette('Paired')"
      ],
      "execution_count": 111,
      "outputs": []
    },
    {
      "cell_type": "code",
      "metadata": {
        "colab": {
          "base_uri": "https://localhost:8080/",
          "height": 76
        },
        "id": "wkzkYNhR3SHe",
        "outputId": "74436763-39b6-4a18-b256-18854a03c88d"
      },
      "source": [
        "sns.color_palette(\"Paired\")"
      ],
      "execution_count": 112,
      "outputs": [
        {
          "output_type": "execute_result",
          "data": {
            "text/html": [
              "<svg  width=\"660\" height=\"55\"><rect x=\"0\" y=\"0\" width=\"55\" height=\"55\" style=\"fill:#a6cee3;stroke-width:2;stroke:rgb(255,255,255)\"/><rect x=\"55\" y=\"0\" width=\"55\" height=\"55\" style=\"fill:#1f78b4;stroke-width:2;stroke:rgb(255,255,255)\"/><rect x=\"110\" y=\"0\" width=\"55\" height=\"55\" style=\"fill:#b2df8a;stroke-width:2;stroke:rgb(255,255,255)\"/><rect x=\"165\" y=\"0\" width=\"55\" height=\"55\" style=\"fill:#33a02c;stroke-width:2;stroke:rgb(255,255,255)\"/><rect x=\"220\" y=\"0\" width=\"55\" height=\"55\" style=\"fill:#fb9a99;stroke-width:2;stroke:rgb(255,255,255)\"/><rect x=\"275\" y=\"0\" width=\"55\" height=\"55\" style=\"fill:#e31a1c;stroke-width:2;stroke:rgb(255,255,255)\"/><rect x=\"330\" y=\"0\" width=\"55\" height=\"55\" style=\"fill:#fdbf6f;stroke-width:2;stroke:rgb(255,255,255)\"/><rect x=\"385\" y=\"0\" width=\"55\" height=\"55\" style=\"fill:#ff7f00;stroke-width:2;stroke:rgb(255,255,255)\"/><rect x=\"440\" y=\"0\" width=\"55\" height=\"55\" style=\"fill:#cab2d6;stroke-width:2;stroke:rgb(255,255,255)\"/><rect x=\"495\" y=\"0\" width=\"55\" height=\"55\" style=\"fill:#6a3d9a;stroke-width:2;stroke:rgb(255,255,255)\"/><rect x=\"550\" y=\"0\" width=\"55\" height=\"55\" style=\"fill:#ffff99;stroke-width:2;stroke:rgb(255,255,255)\"/><rect x=\"605\" y=\"0\" width=\"55\" height=\"55\" style=\"fill:#b15928;stroke-width:2;stroke:rgb(255,255,255)\"/></svg>"
            ],
            "text/plain": [
              "[(0.6509803921568628, 0.807843137254902, 0.8901960784313725),\n",
              " (0.12156862745098039, 0.47058823529411764, 0.7058823529411765),\n",
              " (0.6980392156862745, 0.8745098039215686, 0.5411764705882353),\n",
              " (0.2, 0.6274509803921569, 0.17254901960784313),\n",
              " (0.984313725490196, 0.6039215686274509, 0.6),\n",
              " (0.8901960784313725, 0.10196078431372549, 0.10980392156862745),\n",
              " (0.9921568627450981, 0.7490196078431373, 0.43529411764705883),\n",
              " (1.0, 0.4980392156862745, 0.0),\n",
              " (0.792156862745098, 0.6980392156862745, 0.8392156862745098),\n",
              " (0.41568627450980394, 0.23921568627450981, 0.6039215686274509),\n",
              " (1.0, 1.0, 0.6),\n",
              " (0.6941176470588235, 0.34901960784313724, 0.1568627450980392)]"
            ]
          },
          "metadata": {
            "tags": []
          },
          "execution_count": 112
        }
      ]
    },
    {
      "cell_type": "code",
      "metadata": {
        "id": "VfrGOKQS5qY5"
      },
      "source": [
        "b = pd.DataFrame(a, columns=['accuracy'])\r\n",
        "b['day'] = range(1, 30)\r\n"
      ],
      "execution_count": 139,
      "outputs": []
    },
    {
      "cell_type": "code",
      "metadata": {
        "colab": {
          "base_uri": "https://localhost:8080/",
          "height": 302
        },
        "id": "3_KRUkTK1ssr",
        "outputId": "ea1efc4a-866e-4396-d6c3-d325c4798a15"
      },
      "source": [
        "#sns.set_theme(style=\"darkgrid\")\r\n",
        "sns.scatterplot(data = b, x=\"day\", y=\"accuracy\", hue=\"day\", size='day', sizes=(20, 100), hue_norm=(0, 10))"
      ],
      "execution_count": 140,
      "outputs": [
        {
          "output_type": "execute_result",
          "data": {
            "text/plain": [
              "<matplotlib.axes._subplots.AxesSubplot at 0x7f7c88393390>"
            ]
          },
          "metadata": {
            "tags": []
          },
          "execution_count": 140
        },
        {
          "output_type": "display_data",
          "data": {
            "image/png": "[encoded data removed]",
            "text/plain": [
              "<Figure size 432x288 with 1 Axes>"
            ]
          },
          "metadata": {
            "tags": []
          }
        }
      ]
    },
    {
      "cell_type": "code",
      "metadata": {
        "id": "_htRVOjDC48J"
      },
      "source": [
        "def make_new_data_from_text(parsed_and_scored_news):\n",
        "  new_data = parsed_and_scored_news[['date_int', 'target_1_day', 'clean_text', 'neg', 'neu', 'pos']]\n",
        "\n",
        "  year, month, day = [], [], []\n",
        "  for i in range(new_data.shape[0]):\n",
        "    year.append(int(str(new_data.date_int[i])[:4]))\n",
        "    month.append(int(str(new_data.date_int[i])[4:6]))\n",
        "    day.append(int(str(new_data.date_int[i])[6:8]))\n",
        "  new_data['year'] = year\n",
        "  new_data['month'] = month\n",
        "  new_data['day'] = day\n",
        "\n",
        "  date = []\n",
        "  for i in range(new_data.shape[0]):\n",
        "    date.append(datetime.strptime(str(int(new_data.date_int[i])), \"20%y%m%d\"))\n",
        "  new_data['date'] = date\n",
        "  new_data.drop(columns='date_int', inplace=True)\n",
        "\n",
        "  len_words, len_chars = [], []\n",
        "  for i in range(new_data.shape[0]):\n",
        "    len_words.append(len(new_data.clean_text[i].split(' ')))\n",
        "    len_chars.append(len(new_data.clean_text[i]))\n",
        "\n",
        "  new_data['len_words'] = len_words\n",
        "  new_data['len_chars'] = len_chars\n",
        "\n",
        "  is_days_since_last_news_more1, days_since_last_news = [], []\n",
        "  for i in range(new_data.shape[0]):\n",
        "    days_since_last_news.append((new_data.date[1] - new_data.date.shift(1)[1]).days)\n",
        "    if (new_data.date[1] - new_data.date.shift(1)[1] < timedelta(days=1)):\n",
        "      is_days_since_last_news_more1.append(0)\n",
        "    else:\n",
        "      is_days_since_last_news_more1.append(1)\n",
        "\n",
        "  new_data['is_days_since_last_news_more1'] = is_days_since_last_news_more1\n",
        "  new_data['days_since_last_news'] = days_since_last_news\n",
        "\n",
        "  return new_data"
      ],
      "execution_count": 56,
      "outputs": []
    },
    {
      "cell_type": "code",
      "metadata": {
        "id": "viIWeaJIC9rM"
      },
      "source": [
        "new_data = make_new_data_from_text(parsed_and_scored_news)"
      ],
      "execution_count": 57,
      "outputs": []
    },
    {
      "cell_type": "code",
      "metadata": {
        "colab": {
          "base_uri": "https://localhost:8080/"
        },
        "id": "WcSYOuaXnRKU",
        "outputId": "8fc8cebb-1212-4a2d-a9e3-3dd419f6adef"
      },
      "source": [
        "train_data, test_data, train_target, test_target = tt(new_data.drop(columns=['clean_text', 'target_1_day']), new_data.target_1_day, test_size=0.2, shuffle=False)\n",
        "catboost_reg = CatBoostClassifier(eval_metric='Accuracy', iterations=100)\n",
        "\n",
        "catboost_reg.fit(train_data, train_target, eval_set=(test_data, test_target), cat_features=['month', 'year',\t'day', \n",
        "                                                                              'len_words', 'len_chars', 'is_days_since_last_news_more1', 'days_since_last_news'])"
      ],
      "execution_count": 58,
      "outputs": [
        {
          "output_type": "stream",
          "text": [
            "Learning rate set to 0.094037\n",
            "0:\tlearn: 0.5681016\ttest: 0.5267606\tbest: 0.5267606 (0)\ttotal: 52ms\tremaining: 5.15s\n",
            "1:\tlearn: 0.5702188\ttest: 0.4788732\tbest: 0.5267606 (0)\ttotal: 54.6ms\tremaining: 2.67s\n",
            "2:\tlearn: 0.5737474\ttest: 0.5408451\tbest: 0.5408451 (2)\ttotal: 57.3ms\tremaining: 1.85s\n",
            "3:\tlearn: 0.5765702\ttest: 0.5408451\tbest: 0.5408451 (2)\ttotal: 58.3ms\tremaining: 1.4s\n",
            "4:\tlearn: 0.5808045\ttest: 0.5183099\tbest: 0.5408451 (2)\ttotal: 60.5ms\tremaining: 1.15s\n",
            "5:\tlearn: 0.5885674\ttest: 0.5183099\tbest: 0.5408451 (2)\ttotal: 62.8ms\tremaining: 984ms\n",
            "6:\tlearn: 0.5963303\ttest: 0.5295775\tbest: 0.5408451 (2)\ttotal: 65ms\tremaining: 864ms\n",
            "7:\tlearn: 0.5920960\ttest: 0.5267606\tbest: 0.5408451 (2)\ttotal: 66.2ms\tremaining: 761ms\n",
            "8:\tlearn: 0.5920960\ttest: 0.5267606\tbest: 0.5408451 (2)\ttotal: 66.9ms\tremaining: 677ms\n",
            "9:\tlearn: 0.5984474\ttest: 0.5352113\tbest: 0.5408451 (2)\ttotal: 69.4ms\tremaining: 625ms\n",
            "10:\tlearn: 0.6005646\ttest: 0.5380282\tbest: 0.5408451 (2)\ttotal: 70.6ms\tremaining: 572ms\n",
            "11:\tlearn: 0.5998589\ttest: 0.5239437\tbest: 0.5408451 (2)\ttotal: 73.4ms\tremaining: 538ms\n",
            "12:\tlearn: 0.6069160\ttest: 0.4816901\tbest: 0.5408451 (2)\ttotal: 76.1ms\tremaining: 509ms\n",
            "13:\tlearn: 0.5991531\ttest: 0.4732394\tbest: 0.5408451 (2)\ttotal: 77.3ms\tremaining: 475ms\n",
            "14:\tlearn: 0.5977417\ttest: 0.5126761\tbest: 0.5408451 (2)\ttotal: 79.7ms\tremaining: 452ms\n",
            "15:\tlearn: 0.5949188\ttest: 0.5211268\tbest: 0.5408451 (2)\ttotal: 81.5ms\tremaining: 428ms\n",
            "16:\tlearn: 0.5920960\ttest: 0.4957746\tbest: 0.5408451 (2)\ttotal: 83.8ms\tremaining: 409ms\n",
            "17:\tlearn: 0.6012703\ttest: 0.4873239\tbest: 0.5408451 (2)\ttotal: 86.3ms\tremaining: 393ms\n",
            "18:\tlearn: 0.6076217\ttest: 0.5211268\tbest: 0.5408451 (2)\ttotal: 88.6ms\tremaining: 378ms\n",
            "19:\tlearn: 0.6062103\ttest: 0.5211268\tbest: 0.5408451 (2)\ttotal: 90.9ms\tremaining: 364ms\n",
            "20:\tlearn: 0.6083275\ttest: 0.5211268\tbest: 0.5408451 (2)\ttotal: 91.7ms\tremaining: 345ms\n",
            "21:\tlearn: 0.6125618\ttest: 0.5211268\tbest: 0.5408451 (2)\ttotal: 93.9ms\tremaining: 333ms\n",
            "22:\tlearn: 0.6238532\ttest: 0.5211268\tbest: 0.5408451 (2)\ttotal: 96.2ms\tremaining: 322ms\n",
            "23:\tlearn: 0.6238532\ttest: 0.5239437\tbest: 0.5408451 (2)\ttotal: 98.6ms\tremaining: 312ms\n",
            "24:\tlearn: 0.6245589\ttest: 0.5042254\tbest: 0.5408451 (2)\ttotal: 101ms\tremaining: 303ms\n",
            "25:\tlearn: 0.6245589\ttest: 0.5014085\tbest: 0.5408451 (2)\ttotal: 103ms\tremaining: 292ms\n",
            "26:\tlearn: 0.6280875\ttest: 0.4957746\tbest: 0.5408451 (2)\ttotal: 105ms\tremaining: 284ms\n",
            "27:\tlearn: 0.6302047\ttest: 0.4901408\tbest: 0.5408451 (2)\ttotal: 108ms\tremaining: 276ms\n",
            "28:\tlearn: 0.6287932\ttest: 0.4816901\tbest: 0.5408451 (2)\ttotal: 110ms\tremaining: 269ms\n",
            "29:\tlearn: 0.6280875\ttest: 0.4845070\tbest: 0.5408451 (2)\ttotal: 112ms\tremaining: 262ms\n",
            "30:\tlearn: 0.6351447\ttest: 0.4901408\tbest: 0.5408451 (2)\ttotal: 115ms\tremaining: 255ms\n",
            "31:\tlearn: 0.6316161\ttest: 0.4929577\tbest: 0.5408451 (2)\ttotal: 117ms\tremaining: 249ms\n",
            "32:\tlearn: 0.6309104\ttest: 0.4845070\tbest: 0.5408451 (2)\ttotal: 119ms\tremaining: 242ms\n",
            "33:\tlearn: 0.6358504\ttest: 0.4873239\tbest: 0.5408451 (2)\ttotal: 122ms\tremaining: 236ms\n",
            "34:\tlearn: 0.6414961\ttest: 0.4845070\tbest: 0.5408451 (2)\ttotal: 124ms\tremaining: 230ms\n",
            "35:\tlearn: 0.6414961\ttest: 0.4845070\tbest: 0.5408451 (2)\ttotal: 126ms\tremaining: 225ms\n",
            "36:\tlearn: 0.6365561\ttest: 0.4845070\tbest: 0.5408451 (2)\ttotal: 129ms\tremaining: 219ms\n",
            "37:\tlearn: 0.6386733\ttest: 0.4873239\tbest: 0.5408451 (2)\ttotal: 131ms\tremaining: 214ms\n",
            "38:\tlearn: 0.6478476\ttest: 0.4873239\tbest: 0.5408451 (2)\ttotal: 133ms\tremaining: 209ms\n",
            "39:\tlearn: 0.6492590\ttest: 0.4873239\tbest: 0.5408451 (2)\ttotal: 136ms\tremaining: 204ms\n",
            "40:\tlearn: 0.6471418\ttest: 0.4816901\tbest: 0.5408451 (2)\ttotal: 138ms\tremaining: 199ms\n",
            "41:\tlearn: 0.6478476\ttest: 0.4816901\tbest: 0.5408451 (2)\ttotal: 140ms\tremaining: 194ms\n",
            "42:\tlearn: 0.6513761\ttest: 0.4816901\tbest: 0.5408451 (2)\ttotal: 143ms\tremaining: 189ms\n",
            "43:\tlearn: 0.6549047\ttest: 0.4845070\tbest: 0.5408451 (2)\ttotal: 145ms\tremaining: 185ms\n",
            "44:\tlearn: 0.6549047\ttest: 0.4816901\tbest: 0.5408451 (2)\ttotal: 147ms\tremaining: 179ms\n",
            "45:\tlearn: 0.6591390\ttest: 0.4788732\tbest: 0.5408451 (2)\ttotal: 149ms\tremaining: 175ms\n",
            "46:\tlearn: 0.6563162\ttest: 0.4816901\tbest: 0.5408451 (2)\ttotal: 151ms\tremaining: 171ms\n",
            "47:\tlearn: 0.6584333\ttest: 0.4845070\tbest: 0.5408451 (2)\ttotal: 153ms\tremaining: 166ms\n",
            "48:\tlearn: 0.6577276\ttest: 0.4845070\tbest: 0.5408451 (2)\ttotal: 156ms\tremaining: 162ms\n",
            "49:\tlearn: 0.6654905\ttest: 0.4873239\tbest: 0.5408451 (2)\ttotal: 158ms\tremaining: 158ms\n",
            "50:\tlearn: 0.6683133\ttest: 0.4845070\tbest: 0.5408451 (2)\ttotal: 160ms\tremaining: 154ms\n",
            "51:\tlearn: 0.6753705\ttest: 0.4816901\tbest: 0.5408451 (2)\ttotal: 163ms\tremaining: 150ms\n",
            "52:\tlearn: 0.6739591\ttest: 0.4816901\tbest: 0.5408451 (2)\ttotal: 164ms\tremaining: 146ms\n",
            "53:\tlearn: 0.6732534\ttest: 0.4816901\tbest: 0.5408451 (2)\ttotal: 166ms\tremaining: 142ms\n",
            "54:\tlearn: 0.6767819\ttest: 0.4816901\tbest: 0.5408451 (2)\ttotal: 169ms\tremaining: 138ms\n",
            "55:\tlearn: 0.6753705\ttest: 0.4845070\tbest: 0.5408451 (2)\ttotal: 171ms\tremaining: 134ms\n",
            "56:\tlearn: 0.6788991\ttest: 0.4845070\tbest: 0.5408451 (2)\ttotal: 173ms\tremaining: 131ms\n",
            "57:\tlearn: 0.6781934\ttest: 0.4816901\tbest: 0.5408451 (2)\ttotal: 175ms\tremaining: 127ms\n",
            "58:\tlearn: 0.6845448\ttest: 0.4732394\tbest: 0.5408451 (2)\ttotal: 178ms\tremaining: 123ms\n",
            "59:\tlearn: 0.6866620\ttest: 0.4732394\tbest: 0.5408451 (2)\ttotal: 180ms\tremaining: 120ms\n",
            "60:\tlearn: 0.6873677\ttest: 0.4732394\tbest: 0.5408451 (2)\ttotal: 182ms\tremaining: 117ms\n",
            "61:\tlearn: 0.6873677\ttest: 0.4732394\tbest: 0.5408451 (2)\ttotal: 184ms\tremaining: 113ms\n",
            "62:\tlearn: 0.6880734\ttest: 0.4704225\tbest: 0.5408451 (2)\ttotal: 187ms\tremaining: 110ms\n",
            "63:\tlearn: 0.6873677\ttest: 0.4704225\tbest: 0.5408451 (2)\ttotal: 192ms\tremaining: 108ms\n",
            "64:\tlearn: 0.6873677\ttest: 0.4732394\tbest: 0.5408451 (2)\ttotal: 195ms\tremaining: 105ms\n",
            "65:\tlearn: 0.6894848\ttest: 0.4788732\tbest: 0.5408451 (2)\ttotal: 197ms\tremaining: 102ms\n",
            "66:\tlearn: 0.6901905\ttest: 0.4676056\tbest: 0.5408451 (2)\ttotal: 200ms\tremaining: 98.3ms\n",
            "67:\tlearn: 0.6880734\ttest: 0.4619718\tbest: 0.5408451 (2)\ttotal: 202ms\tremaining: 95ms\n",
            "68:\tlearn: 0.6866620\ttest: 0.4591549\tbest: 0.5408451 (2)\ttotal: 204ms\tremaining: 91.7ms\n",
            "69:\tlearn: 0.6866620\ttest: 0.4619718\tbest: 0.5408451 (2)\ttotal: 207ms\tremaining: 88.5ms\n",
            "70:\tlearn: 0.6894848\ttest: 0.4647887\tbest: 0.5408451 (2)\ttotal: 209ms\tremaining: 85.3ms\n",
            "71:\tlearn: 0.6866620\ttest: 0.4619718\tbest: 0.5408451 (2)\ttotal: 211ms\tremaining: 82.1ms\n",
            "72:\tlearn: 0.6873677\ttest: 0.4676056\tbest: 0.5408451 (2)\ttotal: 213ms\tremaining: 78.9ms\n",
            "73:\tlearn: 0.6866620\ttest: 0.4760563\tbest: 0.5408451 (2)\ttotal: 216ms\tremaining: 75.8ms\n",
            "74:\tlearn: 0.6880734\ttest: 0.4619718\tbest: 0.5408451 (2)\ttotal: 218ms\tremaining: 72.7ms\n",
            "75:\tlearn: 0.6880734\ttest: 0.4619718\tbest: 0.5408451 (2)\ttotal: 220ms\tremaining: 69.4ms\n",
            "76:\tlearn: 0.6873677\ttest: 0.4676056\tbest: 0.5408451 (2)\ttotal: 222ms\tremaining: 66.4ms\n",
            "77:\tlearn: 0.6965420\ttest: 0.4760563\tbest: 0.5408451 (2)\ttotal: 224ms\tremaining: 63.3ms\n",
            "78:\tlearn: 0.6916020\ttest: 0.4788732\tbest: 0.5408451 (2)\ttotal: 227ms\tremaining: 60.3ms\n",
            "79:\tlearn: 0.6923077\ttest: 0.4647887\tbest: 0.5408451 (2)\ttotal: 229ms\tremaining: 57.3ms\n",
            "80:\tlearn: 0.6986591\ttest: 0.4676056\tbest: 0.5408451 (2)\ttotal: 231ms\tremaining: 54.2ms\n",
            "81:\tlearn: 0.7120677\ttest: 0.4704225\tbest: 0.5408451 (2)\ttotal: 234ms\tremaining: 51.3ms\n",
            "82:\tlearn: 0.7092449\ttest: 0.4591549\tbest: 0.5408451 (2)\ttotal: 236ms\tremaining: 48.3ms\n",
            "83:\tlearn: 0.7106563\ttest: 0.4591549\tbest: 0.5408451 (2)\ttotal: 238ms\tremaining: 45.4ms\n",
            "84:\tlearn: 0.7099506\ttest: 0.4676056\tbest: 0.5408451 (2)\ttotal: 240ms\tremaining: 42.4ms\n",
            "85:\tlearn: 0.7092449\ttest: 0.4732394\tbest: 0.5408451 (2)\ttotal: 243ms\tremaining: 39.5ms\n",
            "86:\tlearn: 0.7106563\ttest: 0.4732394\tbest: 0.5408451 (2)\ttotal: 245ms\tremaining: 36.6ms\n",
            "87:\tlearn: 0.7127735\ttest: 0.4760563\tbest: 0.5408451 (2)\ttotal: 247ms\tremaining: 33.7ms\n",
            "88:\tlearn: 0.7120677\ttest: 0.4704225\tbest: 0.5408451 (2)\ttotal: 250ms\tremaining: 30.9ms\n",
            "89:\tlearn: 0.7141849\ttest: 0.4676056\tbest: 0.5408451 (2)\ttotal: 252ms\tremaining: 28ms\n",
            "90:\tlearn: 0.7141849\ttest: 0.4676056\tbest: 0.5408451 (2)\ttotal: 254ms\tremaining: 25.1ms\n",
            "91:\tlearn: 0.7148906\ttest: 0.4704225\tbest: 0.5408451 (2)\ttotal: 257ms\tremaining: 22.3ms\n",
            "92:\tlearn: 0.7177135\ttest: 0.4732394\tbest: 0.5408451 (2)\ttotal: 259ms\tremaining: 19.5ms\n",
            "93:\tlearn: 0.7198306\ttest: 0.4619718\tbest: 0.5408451 (2)\ttotal: 261ms\tremaining: 16.7ms\n",
            "94:\tlearn: 0.7134792\ttest: 0.4563380\tbest: 0.5408451 (2)\ttotal: 263ms\tremaining: 13.9ms\n",
            "95:\tlearn: 0.7106563\ttest: 0.4563380\tbest: 0.5408451 (2)\ttotal: 266ms\tremaining: 11.1ms\n",
            "96:\tlearn: 0.7113620\ttest: 0.4563380\tbest: 0.5408451 (2)\ttotal: 268ms\tremaining: 8.29ms\n",
            "97:\tlearn: 0.7134792\ttest: 0.4563380\tbest: 0.5408451 (2)\ttotal: 270ms\tremaining: 5.52ms\n",
            "98:\tlearn: 0.7191249\ttest: 0.4563380\tbest: 0.5408451 (2)\ttotal: 273ms\tremaining: 2.75ms\n",
            "99:\tlearn: 0.7191249\ttest: 0.4563380\tbest: 0.5408451 (2)\ttotal: 275ms\tremaining: 0us\n",
            "\n",
            "bestTest = 0.5408450704\n",
            "bestIteration = 2\n",
            "\n",
            "Shrink model to first 3 iterations.\n"
          ],
          "name": "stdout"
        },
        {
          "output_type": "execute_result",
          "data": {
            "text/plain": [
              "<catboost.core.CatBoostClassifier at 0x7f1b0f5f8ef0>"
            ]
          },
          "metadata": {
            "tags": []
          },
          "execution_count": 58
        }
      ]
    },
    {
      "cell_type": "markdown",
      "metadata": {
        "id": "_B1hputmEH9J"
      },
      "source": [
        "### Translation"
      ]
    },
    {
      "cell_type": "code",
      "metadata": {
        "id": "ZqU_CC6NCuwi"
      },
      "source": [
        "def translate(data, feature): # Надо попробовать DeepL\n",
        "  translator = Translator()\n",
        "\n",
        "  all_tr_text = np.zeros(data.shape[0], dtype='object')\n",
        "  bad_ind = [] # Баг - не все тексты переводятся, приходится запускать несколько итераций\n",
        "\n",
        "  for i in range(data.shape[0]):\n",
        "    try:\n",
        "      if len(data[feature].values[i]) < 3_200:\n",
        "        translation = translator.translate(data[feature].values[i], dest='en').text # Без переполнения буфера может переводить только 3_200 символов\n",
        "        all_tr_text[i] = translation\n",
        "      else:\n",
        "        translation = translator.translate(data[feature].values[i][:3_200], dest='en').text # Без переполнения буфера может переводить только 3_200 символов\n",
        "        all_tr_text[i] = translation\n",
        "    except Exception:\n",
        "      bad_ind.append(i)\n",
        "\n",
        "  return all_tr_text"
      ],
      "execution_count": 59,
      "outputs": []
    },
    {
      "cell_type": "markdown",
      "metadata": {
        "id": "vrJgVdj7Ojxn"
      },
      "source": [
        "## What data is better?"
      ]
    },
    {
      "cell_type": "code",
      "metadata": {
        "id": "sD_7GQDJa7d-"
      },
      "source": [
        "#Самая ранняя версия\n",
        "\n",
        "# Для новостей сбера 18-20, shuffle=False\n",
        "#  качество 60-61% для таргета 1 дня давали:\n",
        "#ngram_range = [(1, 3)]\n",
        "#max_features = [6500]\n",
        "#min_df = [5]\n",
        "#max_df = [10_000]\n",
        "# При таких же параметрах качество 63-67% было для таргет 3-4 дня\n",
        "#max_features = [3500] - качество 63-65% было для таргета 5 дня, для 7 дня - максимум 70%\n",
        "# для 8 дня - 5500 - 70%, дял 10 дня - 70-74%\n",
        "\n",
        "\n",
        "# Для новостей Интерфакса от Евгения результат примерно 64% для перетасованных данных и 7-20 дня \n",
        "\n",
        "# Для большого объема новостей (рбк) тоже все работает - для 20 дня точность порядка 62% на многих моделях (макс слов - 4500)\n",
        "\n",
        "# Для тасс 20 дня (1-3 граммы, 4000 слов - качество порядка 78% на 3-х моделях) - shuffle=True, без перемешивания - 66% (но баланс классов сильно нарушен, хотя модель предсказывает норм)\n",
        "# Результат на огромном датасете Лента ру Natasha (на 30_000 новостях) 3500 слов - 64% без перемешивания для 10 дня "
      ],
      "execution_count": null,
      "outputs": []
    },
    {
      "cell_type": "code",
      "metadata": {
        "id": "g198bha-vDh_"
      },
      "source": [
        "# Проверка:\n",
        "# Для тасс 20 дня с перемешиванием результат на тесте слабо больше константного и на валидации хуже константного, трейн разбит нормально\n",
        "# Для 10 дня - трейн нормально разбит, тест хуже, а валидация сравнима с константным"
      ],
      "execution_count": null,
      "outputs": []
    },
    {
      "cell_type": "code",
      "metadata": {
        "id": "l7iRbdoPM2Vv"
      },
      "source": [
        "# Тестирую новости рбк : \n",
        "# на первом таргете распределение 50/50, качество порядка 50%\n",
        "# на втором - почти то же самое, результат - 52%\n",
        "# на 10 дне - распределение балансное, но качество порядка 48%\n",
        "# Новости тасс показали такой же плохой результат"
      ],
      "execution_count": null,
      "outputs": []
    },
    {
      "cell_type": "code",
      "metadata": {
        "id": "yIsCCYg3qGti"
      },
      "source": [
        "# При тесте интерфакса с перемешкой и стратификацией:\n",
        "# на первом таргете на отложенной выборке и на тестовой разница с константным предсказанием очень мала\n",
        "# на 10 таргете на валидации предсказание хуже константного, на тесте - лучше константного на 10-15% (связано с тем, что модель обучается и тестится на похожих словах)\n",
        "#"
      ],
      "execution_count": null,
      "outputs": []
    },
    {
      "cell_type": "code",
      "metadata": {
        "id": "AJ2Y9I1NxxU2"
      },
      "source": [
        "# комменты от 23 сентября"
      ],
      "execution_count": null,
      "outputs": []
    },
    {
      "cell_type": "code",
      "metadata": {
        "id": "g4g21JCsx3wa"
      },
      "source": [
        "# хорошо работает предсказание фасттекст на заголовках новостей рбк, на новостях рбк тоже норм (5 эпох)"
      ],
      "execution_count": null,
      "outputs": []
    },
    {
      "cell_type": "code",
      "metadata": {
        "id": "k8zi5nzxx1Jg"
      },
      "source": [
        "# estimation_simple_model(data.clean_text[:30_000], data.target_1_day[:30_000], 'tf_idf', (1, 3), 3_500, 5, 10_000) на ленте(Тайга) на индексе РТС \n",
        "# трейн распределен почти одинаково, предикт на трейне - почти одни 0, но качество - 63%\n",
        "# на тесте распределение норм, но предсказания опять почти все 0\n",
        "# на "
      ],
      "execution_count": null,
      "outputs": []
    },
    {
      "cell_type": "markdown",
      "metadata": {
        "id": "KZGee4RmEtQG"
      },
      "source": [
        "# Smarter embedings"
      ]
    },
    {
      "cell_type": "markdown",
      "metadata": {
        "id": "AJdNZkEUSnep"
      },
      "source": [
        "# W2V"
      ]
    },
    {
      "cell_type": "code",
      "metadata": {
        "id": "bToKxFf9EWUO"
      },
      "source": [
        "def make_w2v_not_pre_trained(data, N, min_count, window, length):\n",
        "  data = data.reset_index(drop=True)\n",
        "\n",
        "  l = []\n",
        "\n",
        "  for i in range(data.shape[0]):\n",
        "    l.append([word for word in data[i].split(' ')])\n",
        "\n",
        "  model = Word2Vec(l, size=N, min_count=min_count, window=window).wv\n",
        "\n",
        "  data_W2V = [] \n",
        "  array_of_news = np.zeros((data.shape[0], N*length))\n",
        "  for i in range(data.shape[0]):\n",
        "    sent = []\n",
        "    for word in data[i].split(' '):\n",
        "      sent.append(model.get_vector(word))\n",
        "    sent = np.array(sent).reshape(-1, )\n",
        "\n",
        "    if len(sent) < N*length:\n",
        "      for k in range(len(sent)):\n",
        "        array_of_news[i][k] = sent[k]\n",
        "    else:\n",
        "      for k in range(N*length):\n",
        "        array_of_news[i][k] = sent[k]\n",
        "\n",
        "  return array_of_news"
      ],
      "execution_count": 60,
      "outputs": []
    },
    {
      "cell_type": "code",
      "metadata": {
        "id": "YNeL0edRtGX-"
      },
      "source": [
        "array_of_news = make_w2v_not_pre_trained(data=data.clean_text_without_useless_words, N=300, min_count=1, window=7, length=500)"
      ],
      "execution_count": 61,
      "outputs": []
    },
    {
      "cell_type": "code",
      "metadata": {
        "id": "3fmw0AR-LOPZ"
      },
      "source": [
        "#xgb_clf = XGBClassifier(max_depth=3, n_estimators=100)\n",
        "\n",
        "#train_data, test_data, train_target, test_target = tt(array_of_news, data.target_1_day, test_size=0.2, random_state=42, shuffle=False)"
      ],
      "execution_count": null,
      "outputs": []
    },
    {
      "cell_type": "code",
      "metadata": {
        "id": "Bev-E4fML_Bu"
      },
      "source": [
        "#%%time - MEMORY ERROR\n",
        "#xgb_clf.fit(train_data, train_target)"
      ],
      "execution_count": null,
      "outputs": []
    },
    {
      "cell_type": "code",
      "metadata": {
        "id": "z6xgWgdxiRge"
      },
      "source": [
        "#accuracy_score(test_target, xgb_clf.predict(test_data))"
      ],
      "execution_count": null,
      "outputs": []
    },
    {
      "cell_type": "code",
      "metadata": {
        "id": "YUBAllB0Viux"
      },
      "source": [
        "def neural_net(number_of_model):\n",
        "  if number_of_model == 1:\n",
        "    maxlen = 1_000*64\n",
        "    max_words = 10_000\n",
        "    model = Sequential()\n",
        "    model.add(Embedding(max_words, 8, input_length=maxlen))\n",
        "    model.add(LSTM(32))\n",
        "    model.add(Dense(1, activation='sigmoid'))\n",
        "\n",
        "    model.compile(optimizer='adam',\n",
        "             loss='binary_crossentropy', \n",
        "              metrics=['accuracy'])\n",
        "\n",
        "  if number_of_model == 2:\n",
        "    model = Sequential()\n",
        "    model.add(Dense(256, input_dim=(Xtr.shape[1])))\n",
        "    model.add(Activation('relu'))\n",
        "    model.add(Dropout(0.85))\n",
        "    model.add(Dense(1))\n",
        "    model.add(Activation('sigmoid'))\n",
        "    model.compile(loss='binary_crossentropy',\n",
        "              optimizer='adam',\n",
        "              metrics=['binary_accuracy'])\n",
        "\n",
        "  if number_of_model == 3:\n",
        "    model = Sequential()\n",
        "    model.add(Embedding(10_000, 32, input_length=100))\n",
        "    model.add(SpatialDropout1D(0.5))\n",
        "    model.add(LSTM(40, return_sequences=True))\n",
        "    model.add(LSTM(40))\n",
        "    model.add(Dense(1, activation='sigmoid'))\n",
        "    model.compile(optimizer='adam',\n",
        "             loss='binary_crossentropy', \n",
        "              metrics=['accuracy'])\n",
        "    \n",
        "  return model"
      ],
      "execution_count": 62,
      "outputs": []
    },
    {
      "cell_type": "code",
      "metadata": {
        "id": "_ZjjEc9wQ3pm"
      },
      "source": [
        "model = neural_net(1)"
      ],
      "execution_count": 63,
      "outputs": []
    },
    {
      "cell_type": "code",
      "metadata": {
        "id": "_oUpIdH_3Lq0"
      },
      "source": [
        "for i in range(len(array_of_news)):\n",
        "  array_of_news[i] += 10"
      ],
      "execution_count": 64,
      "outputs": []
    },
    {
      "cell_type": "code",
      "metadata": {
        "id": "x8FWpbSnWCSI"
      },
      "source": [
        "train_data, test_data, train_target, test_target = tt(array_of_news, data.target_1_day, \n",
        "                                            shuffle=False, random_state=42, test_size=0.2)"
      ],
      "execution_count": 65,
      "outputs": []
    },
    {
      "cell_type": "code",
      "metadata": {
        "colab": {
          "base_uri": "https://localhost:8080/"
        },
        "id": "RkKkQUSjVz42",
        "outputId": "988f88c9-2d1c-481d-be7c-175222437276"
      },
      "source": [
        "#history = model.fit(train_data, train_target, epochs=3)\n",
        "# Не хватает памяти"
      ],
      "execution_count": null,
      "outputs": [
        {
          "output_type": "stream",
          "text": [
            "Epoch 1/3\n",
            "WARNING:tensorflow:Model was constructed with shape (None, 64000) for input Tensor(\"embedding_input:0\", shape=(None, 64000), dtype=float32), but it was called on an input with incompatible shape (None, 150000).\n",
            "WARNING:tensorflow:Model was constructed with shape (None, 64000) for input Tensor(\"embedding_input:0\", shape=(None, 64000), dtype=float32), but it was called on an input with incompatible shape (None, 150000).\n"
          ],
          "name": "stdout"
        }
      ]
    },
    {
      "cell_type": "code",
      "metadata": {
        "colab": {
          "base_uri": "https://localhost:8080/",
          "height": 163
        },
        "id": "S4RENc-tXpk6",
        "outputId": "9c7df211-0c16-481d-e399-1519aa093a29"
      },
      "source": [
        "model.predict(test_data)"
      ],
      "execution_count": null,
      "outputs": [
        {
          "output_type": "error",
          "ename": "NameError",
          "evalue": "ignored",
          "traceback": [
            "\u001b[0;31m---------------------------------------------------------------------------\u001b[0m",
            "\u001b[0;31mNameError\u001b[0m                                 Traceback (most recent call last)",
            "\u001b[0;32m<ipython-input-1-a4e72cfaa5fb>\u001b[0m in \u001b[0;36m<module>\u001b[0;34m()\u001b[0m\n\u001b[0;32m----> 1\u001b[0;31m \u001b[0mmodel\u001b[0m\u001b[0;34m.\u001b[0m\u001b[0mpredict\u001b[0m\u001b[0;34m(\u001b[0m\u001b[0mtest_data\u001b[0m\u001b[0;34m)\u001b[0m\u001b[0;34m\u001b[0m\u001b[0;34m\u001b[0m\u001b[0m\n\u001b[0m",
            "\u001b[0;31mNameError\u001b[0m: name 'model' is not defined"
          ]
        }
      ]
    },
    {
      "cell_type": "markdown",
      "metadata": {
        "id": "WYeEHO0Fww2E"
      },
      "source": [
        "## Pre-Trained W2V"
      ]
    },
    {
      "cell_type": "code",
      "metadata": {
        "id": "t0pBmpuEcICg"
      },
      "source": [
        "import wget\n",
        "model_url = 'http://vectors.nlpl.eu/repository/20/187.zip' # http://vectors.nlpl.eu/repository/20/199.zip\n",
        "m = wget.download(model_url)\n",
        "model_file = model_url.split('/')[-1]"
      ],
      "execution_count": 49,
      "outputs": []
    },
    {
      "cell_type": "code",
      "metadata": {
        "colab": {
          "base_uri": "https://localhost:8080/"
        },
        "id": "7jGIRBpEkBtV",
        "outputId": "1a662ed2-ab4d-4e5d-e74b-b492fefca0ec"
      },
      "source": [
        "z = zipfile.ZipFile(model_file, 'r')\n",
        "z.extractall()\n",
        "print(os.listdir())"
      ],
      "execution_count": 50,
      "outputs": [
        {
          "output_type": "stream",
          "text": [
            "['.config', 'dict.opcorpora.xml.bz2', 'meta.json', 'options.json', 'model.model', 'dict.opcorpora.xml', 'model.model.vectors.npy', 'model.ckpt.data-00000-of-00001', 'model.hdf5', 'model.ckpt.index', 'model.model.vectors_ngrams.npy', 'model.model.vectors_vocab.npy', '187.zip', 'model.ckpt.meta', '199.zip', 'drive', 'vocab.txt', 'README', 'pymorphy2-dicts', 'sample_data']\n"
          ],
          "name": "stdout"
        }
      ]
    },
    {
      "cell_type": "code",
      "metadata": {
        "id": "CsOxVyqlkREm"
      },
      "source": [
        "import gensim\n",
        "model = gensim.models.KeyedVectors.load(\"model.model\")"
      ],
      "execution_count": 51,
      "outputs": []
    },
    {
      "cell_type": "code",
      "metadata": {
        "id": "EkuM6rCvt_k0"
      },
      "source": [
        "import numpy as np\r\n",
        "import pandas as pd\r\n",
        "import keras\r\n",
        "from keras.preprocessing.text import Tokenizer\r\n",
        "from keras.preprocessing import sequence\r\n",
        "from keras.preprocessing.sequence import pad_sequences\r\n",
        "from keras.utils import to_categorical\r\n",
        "from keras.layers import Dense, Input\r\n",
        "from keras.layers import Conv1D, MaxPooling1D, Embedding, Activation, GlobalMaxPooling1D\r\n",
        "from keras.layers import LSTM, Bidirectional, GRU\r\n",
        "from keras.models import Model, Sequential\r\n",
        "from keras.callbacks import Callback\r\n",
        "import gensim\r\n",
        "import nltk\r\n",
        "from nltk.tokenize import RegexpTokenizer\r\n",
        "from sklearn.model_selection import train_test_split\r\n",
        "import re\r\n",
        "import codecs\r\n",
        "import matplotlib.pyplot as plt\r\n",
        "from sklearn.metrics import roc_auc_score"
      ],
      "execution_count": 54,
      "outputs": []
    },
    {
      "cell_type": "code",
      "metadata": {
        "colab": {
          "base_uri": "https://localhost:8080/"
        },
        "id": "65m_c3ntDJoK",
        "outputId": "6a3e9e6a-f76e-4598-c7c3-69378196c5f1"
      },
      "source": [
        "len(data.clean_text_without_useless_words.values[0])"
      ],
      "execution_count": 55,
      "outputs": [
        {
          "output_type": "execute_result",
          "data": {
            "text/plain": [
              "1532"
            ]
          },
          "metadata": {
            "tags": []
          },
          "execution_count": 55
        }
      ]
    },
    {
      "cell_type": "code",
      "metadata": {
        "id": "wJUxzV7BsZdH"
      },
      "source": [
        "embed_size = 300\r\n",
        "max_features = 23_000  \r\n",
        "maxlen = 2_000 \r\n",
        "\r\n",
        "train = data\r\n",
        "\r\n",
        "list_sentences_train = train['clean_text_without_useless_words'].values\r\n",
        "y_train = train['target_1_day'].values\r\n",
        "\r\n",
        "tokenizer = Tokenizer(num_words=max_features)\r\n",
        "tokenizer.fit_on_texts(list(list_sentences_train)) # учимся на тренировочном тесте\r\n",
        "list_tokenized_train = tokenizer.texts_to_sequences(list_sentences_train) # Переводим тексты трэйна и теста в последовательности\r\n",
        "x_train = pad_sequences(list_tokenized_train, maxlen=maxlen) # Делаем длину векторов одинаковой"
      ],
      "execution_count": 68,
      "outputs": []
    },
    {
      "cell_type": "code",
      "metadata": {
        "colab": {
          "base_uri": "https://localhost:8080/"
        },
        "id": "4OtkUsx4sre-",
        "outputId": "5b4ea8c8-343d-4869-8f6a-5a627e3639e3"
      },
      "source": [
        "def get_coefs(word,*arr): \r\n",
        "    return word, np.asarray(arr, dtype='float32')\r\n",
        "embeddings_index = {}\r\n",
        "\r\n",
        "for i in range(data.shape[0]):\r\n",
        "  for o in data.clean_text_without_useless_words.values[i].split(' '):\r\n",
        "    try:\r\n",
        "      embeddings_index[o] = model.get_vector(o)\r\n",
        "    except Exception:\r\n",
        "      embeddings_index[o] = np.zeros(300)\r\n",
        "\r\n",
        "all_embs = np.stack(embeddings_index.values())\r\n",
        "emb_mean, emb_std = all_embs.mean(), all_embs.std() \r\n",
        "emb_mean, emb_std"
      ],
      "execution_count": 69,
      "outputs": [
        {
          "output_type": "execute_result",
          "data": {
            "text/plain": [
              "(0.012663890887747406, 1.3233763899693427)"
            ]
          },
          "metadata": {
            "tags": []
          },
          "execution_count": 69
        }
      ]
    },
    {
      "cell_type": "code",
      "metadata": {
        "id": "Mt3e10cMsstk"
      },
      "source": [
        "word_index = tokenizer.word_index \r\n",
        "nb_words = min(max_features, len(word_index)) \r\n",
        "embedding_matrix = np.random.normal(emb_mean, emb_std, (nb_words, embed_size))\r\n",
        "\r\n",
        "for word, i in word_index.items():\r\n",
        "    if i >= max_features: \r\n",
        "        continue\r\n",
        "    embedding_vector = embeddings_index.get(word)\r\n",
        "    if embedding_vector is not None: \r\n",
        "        embedding_matrix[i] = embedding_vector"
      ],
      "execution_count": 70,
      "outputs": []
    },
    {
      "cell_type": "code",
      "metadata": {
        "colab": {
          "base_uri": "https://localhost:8080/"
        },
        "id": "T6bcaByTszeW",
        "outputId": "7aa83e9b-ba70-4a06-b7be-674c591fc33f"
      },
      "source": [
        "embedding_matrix.shape"
      ],
      "execution_count": 71,
      "outputs": [
        {
          "output_type": "execute_result",
          "data": {
            "text/plain": [
              "(23000, 300)"
            ]
          },
          "metadata": {
            "tags": []
          },
          "execution_count": 71
        }
      ]
    },
    {
      "cell_type": "code",
      "metadata": {
        "id": "02rwfsxLs14q"
      },
      "source": [
        "X_tr, X_val, y_tr, y_val = train_test_split(x_train, y_train, train_size=0.8, random_state=42)\r\n",
        "RocAuc = RocAucEvaluation(training_data=(X_tr, y_tr), validation_data=(X_val, y_val), interval=1)"
      ],
      "execution_count": 106,
      "outputs": []
    },
    {
      "cell_type": "code",
      "metadata": {
        "colab": {
          "base_uri": "https://localhost:8080/"
        },
        "id": "bAv4B9K4s4ds",
        "outputId": "782cbbd8-d8b6-430b-93e3-4c96e6549e41"
      },
      "source": [
        "cnn_model = Sequential()\r\n",
        "#cnn_model.add(Input(shape=(maxlen, )))\r\n",
        "gru_model.add(Dropout(0.6))\r\n",
        "cnn_model.add(Embedding(max_features, embed_size, weights=[embedding_matrix], trainable=False))\r\n",
        "cnn_model.add(Conv1D(128,3,\r\n",
        "                padding='valid',\r\n",
        "                 activation='relu',\r\n",
        "                 strides=1))\r\n",
        "cnn_model.add(GlobalMaxPooling1D())\r\n",
        "cnn_model.add(Dense(1))\r\n",
        "cnn_model.add(Activation('sigmoid'))\r\n",
        "\r\n",
        "cnn_model.compile(loss='binary_crossentropy', optimizer='adam', metrics=['accuracy'])\r\n",
        "\r\n",
        "cnn_model.summary()"
      ],
      "execution_count": 107,
      "outputs": [
        {
          "output_type": "stream",
          "text": [
            "Model: \"sequential_8\"\n",
            "_________________________________________________________________\n",
            "Layer (type)                 Output Shape              Param #   \n",
            "=================================================================\n",
            "embedding_8 (Embedding)      (None, None, 300)         6900000   \n",
            "_________________________________________________________________\n",
            "conv1d_3 (Conv1D)            (None, None, 128)         115328    \n",
            "_________________________________________________________________\n",
            "global_max_pooling1d_3 (Glob (None, 128)               0         \n",
            "_________________________________________________________________\n",
            "dense_8 (Dense)              (None, 1)                 129       \n",
            "_________________________________________________________________\n",
            "activation_3 (Activation)    (None, 1)                 0         \n",
            "=================================================================\n",
            "Total params: 7,015,457\n",
            "Trainable params: 115,457\n",
            "Non-trainable params: 6,900,000\n",
            "_________________________________________________________________\n"
          ],
          "name": "stdout"
        }
      ]
    },
    {
      "cell_type": "code",
      "metadata": {
        "colab": {
          "base_uri": "https://localhost:8080/",
          "height": 442
        },
        "id": "7Q7hoBkMs7nD",
        "outputId": "7621e7ee-502c-449c-8537-f80d52cedf8d"
      },
      "source": [
        "cnn_hist = cnn_model.fit(X_tr, y_tr, batch_size=32, epochs=5, validation_data=(X_val, y_val))"
      ],
      "execution_count": 108,
      "outputs": [
        {
          "output_type": "stream",
          "text": [
            "Epoch 1/5\n",
            "398/398 [==============================] - 16s 40ms/step - loss: nan - accuracy: 0.4743 - val_loss: nan - val_accuracy: 0.4527\n",
            "Epoch 2/5\n",
            "398/398 [==============================] - 16s 39ms/step - loss: nan - accuracy: 0.4702 - val_loss: nan - val_accuracy: 0.4527\n",
            "Epoch 3/5\n",
            "398/398 [==============================] - 16s 39ms/step - loss: nan - accuracy: 0.4697 - val_loss: nan - val_accuracy: 0.4527\n",
            "Epoch 4/5\n",
            "151/398 [==========>...................] - ETA: 8s - loss: nan - accuracy: 0.4670"
          ],
          "name": "stdout"
        },
        {
          "output_type": "error",
          "ename": "KeyboardInterrupt",
          "evalue": "ignored",
          "traceback": [
            "\u001b[0;31m---------------------------------------------------------------------------\u001b[0m",
            "\u001b[0;31mKeyboardInterrupt\u001b[0m                         Traceback (most recent call last)",
            "\u001b[0;32m<ipython-input-108-201e85eb2d16>\u001b[0m in \u001b[0;36m<module>\u001b[0;34m()\u001b[0m\n\u001b[0;32m----> 1\u001b[0;31m \u001b[0mcnn_hist\u001b[0m \u001b[0;34m=\u001b[0m \u001b[0mcnn_model\u001b[0m\u001b[0;34m.\u001b[0m\u001b[0mfit\u001b[0m\u001b[0;34m(\u001b[0m\u001b[0mX_tr\u001b[0m\u001b[0;34m,\u001b[0m \u001b[0my_tr\u001b[0m\u001b[0;34m,\u001b[0m \u001b[0mbatch_size\u001b[0m\u001b[0;34m=\u001b[0m\u001b[0;36m32\u001b[0m\u001b[0;34m,\u001b[0m \u001b[0mepochs\u001b[0m\u001b[0;34m=\u001b[0m\u001b[0;36m5\u001b[0m\u001b[0;34m,\u001b[0m \u001b[0mvalidation_data\u001b[0m\u001b[0;34m=\u001b[0m\u001b[0;34m(\u001b[0m\u001b[0mX_val\u001b[0m\u001b[0;34m,\u001b[0m \u001b[0my_val\u001b[0m\u001b[0;34m)\u001b[0m\u001b[0;34m)\u001b[0m\u001b[0;34m\u001b[0m\u001b[0;34m\u001b[0m\u001b[0m\n\u001b[0m",
            "\u001b[0;32m/usr/local/lib/python3.6/dist-packages/tensorflow/python/keras/engine/training.py\u001b[0m in \u001b[0;36mfit\u001b[0;34m(self, x, y, batch_size, epochs, verbose, callbacks, validation_split, validation_data, shuffle, class_weight, sample_weight, initial_epoch, steps_per_epoch, validation_steps, validation_batch_size, validation_freq, max_queue_size, workers, use_multiprocessing)\u001b[0m\n\u001b[1;32m   1098\u001b[0m                 _r=1):\n\u001b[1;32m   1099\u001b[0m               \u001b[0mcallbacks\u001b[0m\u001b[0;34m.\u001b[0m\u001b[0mon_train_batch_begin\u001b[0m\u001b[0;34m(\u001b[0m\u001b[0mstep\u001b[0m\u001b[0;34m)\u001b[0m\u001b[0;34m\u001b[0m\u001b[0;34m\u001b[0m\u001b[0m\n\u001b[0;32m-> 1100\u001b[0;31m               \u001b[0mtmp_logs\u001b[0m \u001b[0;34m=\u001b[0m \u001b[0mself\u001b[0m\u001b[0;34m.\u001b[0m\u001b[0mtrain_function\u001b[0m\u001b[0;34m(\u001b[0m\u001b[0miterator\u001b[0m\u001b[0;34m)\u001b[0m\u001b[0;34m\u001b[0m\u001b[0;34m\u001b[0m\u001b[0m\n\u001b[0m\u001b[1;32m   1101\u001b[0m               \u001b[0;32mif\u001b[0m \u001b[0mdata_handler\u001b[0m\u001b[0;34m.\u001b[0m\u001b[0mshould_sync\u001b[0m\u001b[0;34m:\u001b[0m\u001b[0;34m\u001b[0m\u001b[0;34m\u001b[0m\u001b[0m\n\u001b[1;32m   1102\u001b[0m                 \u001b[0mcontext\u001b[0m\u001b[0;34m.\u001b[0m\u001b[0masync_wait\u001b[0m\u001b[0;34m(\u001b[0m\u001b[0;34m)\u001b[0m\u001b[0;34m\u001b[0m\u001b[0;34m\u001b[0m\u001b[0m\n",
            "\u001b[0;32m/usr/local/lib/python3.6/dist-packages/tensorflow/python/eager/def_function.py\u001b[0m in \u001b[0;36m__call__\u001b[0;34m(self, *args, **kwds)\u001b[0m\n\u001b[1;32m    826\u001b[0m     \u001b[0mtracing_count\u001b[0m \u001b[0;34m=\u001b[0m \u001b[0mself\u001b[0m\u001b[0;34m.\u001b[0m\u001b[0mexperimental_get_tracing_count\u001b[0m\u001b[0;34m(\u001b[0m\u001b[0;34m)\u001b[0m\u001b[0;34m\u001b[0m\u001b[0;34m\u001b[0m\u001b[0m\n\u001b[1;32m    827\u001b[0m     \u001b[0;32mwith\u001b[0m \u001b[0mtrace\u001b[0m\u001b[0;34m.\u001b[0m\u001b[0mTrace\u001b[0m\u001b[0;34m(\u001b[0m\u001b[0mself\u001b[0m\u001b[0;34m.\u001b[0m\u001b[0m_name\u001b[0m\u001b[0;34m)\u001b[0m \u001b[0;32mas\u001b[0m \u001b[0mtm\u001b[0m\u001b[0;34m:\u001b[0m\u001b[0;34m\u001b[0m\u001b[0;34m\u001b[0m\u001b[0m\n\u001b[0;32m--> 828\u001b[0;31m       \u001b[0mresult\u001b[0m \u001b[0;34m=\u001b[0m \u001b[0mself\u001b[0m\u001b[0;34m.\u001b[0m\u001b[0m_call\u001b[0m\u001b[0;34m(\u001b[0m\u001b[0;34m*\u001b[0m\u001b[0margs\u001b[0m\u001b[0;34m,\u001b[0m \u001b[0;34m**\u001b[0m\u001b[0mkwds\u001b[0m\u001b[0;34m)\u001b[0m\u001b[0;34m\u001b[0m\u001b[0;34m\u001b[0m\u001b[0m\n\u001b[0m\u001b[1;32m    829\u001b[0m       \u001b[0mcompiler\u001b[0m \u001b[0;34m=\u001b[0m \u001b[0;34m\"xla\"\u001b[0m \u001b[0;32mif\u001b[0m \u001b[0mself\u001b[0m\u001b[0;34m.\u001b[0m\u001b[0m_experimental_compile\u001b[0m \u001b[0;32melse\u001b[0m \u001b[0;34m\"nonXla\"\u001b[0m\u001b[0;34m\u001b[0m\u001b[0;34m\u001b[0m\u001b[0m\n\u001b[1;32m    830\u001b[0m       \u001b[0mnew_tracing_count\u001b[0m \u001b[0;34m=\u001b[0m \u001b[0mself\u001b[0m\u001b[0;34m.\u001b[0m\u001b[0mexperimental_get_tracing_count\u001b[0m\u001b[0;34m(\u001b[0m\u001b[0;34m)\u001b[0m\u001b[0;34m\u001b[0m\u001b[0;34m\u001b[0m\u001b[0m\n",
            "\u001b[0;32m/usr/local/lib/python3.6/dist-packages/tensorflow/python/eager/def_function.py\u001b[0m in \u001b[0;36m_call\u001b[0;34m(self, *args, **kwds)\u001b[0m\n\u001b[1;32m    853\u001b[0m       \u001b[0;31m# In this case we have created variables on the first call, so we run the\u001b[0m\u001b[0;34m\u001b[0m\u001b[0;34m\u001b[0m\u001b[0;34m\u001b[0m\u001b[0m\n\u001b[1;32m    854\u001b[0m       \u001b[0;31m# defunned version which is guaranteed to never create variables.\u001b[0m\u001b[0;34m\u001b[0m\u001b[0;34m\u001b[0m\u001b[0;34m\u001b[0m\u001b[0m\n\u001b[0;32m--> 855\u001b[0;31m       \u001b[0;32mreturn\u001b[0m \u001b[0mself\u001b[0m\u001b[0;34m.\u001b[0m\u001b[0m_stateless_fn\u001b[0m\u001b[0;34m(\u001b[0m\u001b[0;34m*\u001b[0m\u001b[0margs\u001b[0m\u001b[0;34m,\u001b[0m \u001b[0;34m**\u001b[0m\u001b[0mkwds\u001b[0m\u001b[0;34m)\u001b[0m  \u001b[0;31m# pylint: disable=not-callable\u001b[0m\u001b[0;34m\u001b[0m\u001b[0;34m\u001b[0m\u001b[0m\n\u001b[0m\u001b[1;32m    856\u001b[0m     \u001b[0;32melif\u001b[0m \u001b[0mself\u001b[0m\u001b[0;34m.\u001b[0m\u001b[0m_stateful_fn\u001b[0m \u001b[0;32mis\u001b[0m \u001b[0;32mnot\u001b[0m \u001b[0;32mNone\u001b[0m\u001b[0;34m:\u001b[0m\u001b[0;34m\u001b[0m\u001b[0;34m\u001b[0m\u001b[0m\n\u001b[1;32m    857\u001b[0m       \u001b[0;31m# Release the lock early so that multiple threads can perform the call\u001b[0m\u001b[0;34m\u001b[0m\u001b[0;34m\u001b[0m\u001b[0;34m\u001b[0m\u001b[0m\n",
            "\u001b[0;32m/usr/local/lib/python3.6/dist-packages/tensorflow/python/eager/function.py\u001b[0m in \u001b[0;36m__call__\u001b[0;34m(self, *args, **kwargs)\u001b[0m\n\u001b[1;32m   2941\u001b[0m        filtered_flat_args) = self._maybe_define_function(args, kwargs)\n\u001b[1;32m   2942\u001b[0m     return graph_function._call_flat(\n\u001b[0;32m-> 2943\u001b[0;31m         filtered_flat_args, captured_inputs=graph_function.captured_inputs)  # pylint: disable=protected-access\n\u001b[0m\u001b[1;32m   2944\u001b[0m \u001b[0;34m\u001b[0m\u001b[0m\n\u001b[1;32m   2945\u001b[0m   \u001b[0;34m@\u001b[0m\u001b[0mproperty\u001b[0m\u001b[0;34m\u001b[0m\u001b[0;34m\u001b[0m\u001b[0m\n",
            "\u001b[0;32m/usr/local/lib/python3.6/dist-packages/tensorflow/python/eager/function.py\u001b[0m in \u001b[0;36m_call_flat\u001b[0;34m(self, args, captured_inputs, cancellation_manager)\u001b[0m\n\u001b[1;32m   1917\u001b[0m       \u001b[0;31m# No tape is watching; skip to running the function.\u001b[0m\u001b[0;34m\u001b[0m\u001b[0;34m\u001b[0m\u001b[0;34m\u001b[0m\u001b[0m\n\u001b[1;32m   1918\u001b[0m       return self._build_call_outputs(self._inference_function.call(\n\u001b[0;32m-> 1919\u001b[0;31m           ctx, args, cancellation_manager=cancellation_manager))\n\u001b[0m\u001b[1;32m   1920\u001b[0m     forward_backward = self._select_forward_and_backward_functions(\n\u001b[1;32m   1921\u001b[0m         \u001b[0margs\u001b[0m\u001b[0;34m,\u001b[0m\u001b[0;34m\u001b[0m\u001b[0;34m\u001b[0m\u001b[0m\n",
            "\u001b[0;32m/usr/local/lib/python3.6/dist-packages/tensorflow/python/eager/function.py\u001b[0m in \u001b[0;36mcall\u001b[0;34m(self, ctx, args, cancellation_manager)\u001b[0m\n\u001b[1;32m    558\u001b[0m               \u001b[0minputs\u001b[0m\u001b[0;34m=\u001b[0m\u001b[0margs\u001b[0m\u001b[0;34m,\u001b[0m\u001b[0;34m\u001b[0m\u001b[0;34m\u001b[0m\u001b[0m\n\u001b[1;32m    559\u001b[0m               \u001b[0mattrs\u001b[0m\u001b[0;34m=\u001b[0m\u001b[0mattrs\u001b[0m\u001b[0;34m,\u001b[0m\u001b[0;34m\u001b[0m\u001b[0;34m\u001b[0m\u001b[0m\n\u001b[0;32m--> 560\u001b[0;31m               ctx=ctx)\n\u001b[0m\u001b[1;32m    561\u001b[0m         \u001b[0;32melse\u001b[0m\u001b[0;34m:\u001b[0m\u001b[0;34m\u001b[0m\u001b[0;34m\u001b[0m\u001b[0m\n\u001b[1;32m    562\u001b[0m           outputs = execute.execute_with_cancellation(\n",
            "\u001b[0;32m/usr/local/lib/python3.6/dist-packages/tensorflow/python/eager/execute.py\u001b[0m in \u001b[0;36mquick_execute\u001b[0;34m(op_name, num_outputs, inputs, attrs, ctx, name)\u001b[0m\n\u001b[1;32m     58\u001b[0m     \u001b[0mctx\u001b[0m\u001b[0;34m.\u001b[0m\u001b[0mensure_initialized\u001b[0m\u001b[0;34m(\u001b[0m\u001b[0;34m)\u001b[0m\u001b[0;34m\u001b[0m\u001b[0;34m\u001b[0m\u001b[0m\n\u001b[1;32m     59\u001b[0m     tensors = pywrap_tfe.TFE_Py_Execute(ctx._handle, device_name, op_name,\n\u001b[0;32m---> 60\u001b[0;31m                                         inputs, attrs, num_outputs)\n\u001b[0m\u001b[1;32m     61\u001b[0m   \u001b[0;32mexcept\u001b[0m \u001b[0mcore\u001b[0m\u001b[0;34m.\u001b[0m\u001b[0m_NotOkStatusException\u001b[0m \u001b[0;32mas\u001b[0m \u001b[0me\u001b[0m\u001b[0;34m:\u001b[0m\u001b[0;34m\u001b[0m\u001b[0;34m\u001b[0m\u001b[0m\n\u001b[1;32m     62\u001b[0m     \u001b[0;32mif\u001b[0m \u001b[0mname\u001b[0m \u001b[0;32mis\u001b[0m \u001b[0;32mnot\u001b[0m \u001b[0;32mNone\u001b[0m\u001b[0;34m:\u001b[0m\u001b[0;34m\u001b[0m\u001b[0;34m\u001b[0m\u001b[0m\n",
            "\u001b[0;31mKeyboardInterrupt\u001b[0m: "
          ]
        }
      ]
    },
    {
      "cell_type": "code",
      "metadata": {
        "colab": {
          "base_uri": "https://localhost:8080/"
        },
        "id": "Al0d_aX3GaHy",
        "outputId": "836bc110-250e-449e-8478-1426160c812a"
      },
      "source": [
        "gru_model = Sequential()\r\n",
        "gru_model.add(Embedding(max_features, embed_size, weights=[embedding_matrix], trainable=False))\r\n",
        "gru_model.add(Dropout(0.6))\r\n",
        "gru_model.add(LSTM(128))#return_sequences=True))\r\n",
        "gru_model.add(Dense(1, activation='sigmoid'))\r\n",
        "gru_model.compile(loss='binary_crossentropy', optimizer='adam', metrics=['accuracy'])\r\n",
        "gru_model.summary()"
      ],
      "execution_count": 100,
      "outputs": [
        {
          "output_type": "stream",
          "text": [
            "Model: \"sequential_5\"\n",
            "_________________________________________________________________\n",
            "Layer (type)                 Output Shape              Param #   \n",
            "=================================================================\n",
            "embedding_5 (Embedding)      (None, None, 300)         6900000   \n",
            "_________________________________________________________________\n",
            "dropout (Dropout)            (None, None, 300)         0         \n",
            "_________________________________________________________________\n",
            "lstm_6 (LSTM)                (None, 128)               219648    \n",
            "_________________________________________________________________\n",
            "dense_5 (Dense)              (None, 1)                 129       \n",
            "=================================================================\n",
            "Total params: 7,119,777\n",
            "Trainable params: 219,777\n",
            "Non-trainable params: 6,900,000\n",
            "_________________________________________________________________\n"
          ],
          "name": "stdout"
        }
      ]
    },
    {
      "cell_type": "code",
      "metadata": {
        "colab": {
          "base_uri": "https://localhost:8080/",
          "height": 374
        },
        "id": "Hb_D0NbOGiJy",
        "outputId": "7deb7c21-b13b-4e11-dc89-a3b38a53726b"
      },
      "source": [
        "gru_hist = gru_model.fit(X_tr, y_tr, batch_size=32, epochs=5, validation_data=(X_val, y_val))"
      ],
      "execution_count": 101,
      "outputs": [
        {
          "output_type": "stream",
          "text": [
            "Epoch 1/5\n",
            "448/448 [==============================] - 49s 106ms/step - loss: nan - accuracy: 0.4710 - val_loss: nan - val_accuracy: 0.4475\n",
            "Epoch 2/5\n",
            "285/448 [==================>...........] - ETA: 16s - loss: nan - accuracy: 0.4760"
          ],
          "name": "stdout"
        },
        {
          "output_type": "error",
          "ename": "KeyboardInterrupt",
          "evalue": "ignored",
          "traceback": [
            "\u001b[0;31m---------------------------------------------------------------------------\u001b[0m",
            "\u001b[0;31mKeyboardInterrupt\u001b[0m                         Traceback (most recent call last)",
            "\u001b[0;32m<ipython-input-101-6101be6bd1d8>\u001b[0m in \u001b[0;36m<module>\u001b[0;34m()\u001b[0m\n\u001b[0;32m----> 1\u001b[0;31m \u001b[0mgru_hist\u001b[0m \u001b[0;34m=\u001b[0m \u001b[0mgru_model\u001b[0m\u001b[0;34m.\u001b[0m\u001b[0mfit\u001b[0m\u001b[0;34m(\u001b[0m\u001b[0mX_tr\u001b[0m\u001b[0;34m,\u001b[0m \u001b[0my_tr\u001b[0m\u001b[0;34m,\u001b[0m \u001b[0mbatch_size\u001b[0m\u001b[0;34m=\u001b[0m\u001b[0;36m32\u001b[0m\u001b[0;34m,\u001b[0m \u001b[0mepochs\u001b[0m\u001b[0;34m=\u001b[0m\u001b[0;36m5\u001b[0m\u001b[0;34m,\u001b[0m \u001b[0mvalidation_data\u001b[0m\u001b[0;34m=\u001b[0m\u001b[0;34m(\u001b[0m\u001b[0mX_val\u001b[0m\u001b[0;34m,\u001b[0m \u001b[0my_val\u001b[0m\u001b[0;34m)\u001b[0m\u001b[0;34m)\u001b[0m\u001b[0;34m\u001b[0m\u001b[0;34m\u001b[0m\u001b[0m\n\u001b[0m",
            "\u001b[0;32m/usr/local/lib/python3.6/dist-packages/tensorflow/python/keras/engine/training.py\u001b[0m in \u001b[0;36mfit\u001b[0;34m(self, x, y, batch_size, epochs, verbose, callbacks, validation_split, validation_data, shuffle, class_weight, sample_weight, initial_epoch, steps_per_epoch, validation_steps, validation_batch_size, validation_freq, max_queue_size, workers, use_multiprocessing)\u001b[0m\n\u001b[1;32m   1103\u001b[0m               \u001b[0mlogs\u001b[0m \u001b[0;34m=\u001b[0m \u001b[0mtmp_logs\u001b[0m  \u001b[0;31m# No error, now safe to assign to logs.\u001b[0m\u001b[0;34m\u001b[0m\u001b[0;34m\u001b[0m\u001b[0m\n\u001b[1;32m   1104\u001b[0m               \u001b[0mend_step\u001b[0m \u001b[0;34m=\u001b[0m \u001b[0mstep\u001b[0m \u001b[0;34m+\u001b[0m \u001b[0mdata_handler\u001b[0m\u001b[0;34m.\u001b[0m\u001b[0mstep_increment\u001b[0m\u001b[0;34m\u001b[0m\u001b[0;34m\u001b[0m\u001b[0m\n\u001b[0;32m-> 1105\u001b[0;31m               \u001b[0mcallbacks\u001b[0m\u001b[0;34m.\u001b[0m\u001b[0mon_train_batch_end\u001b[0m\u001b[0;34m(\u001b[0m\u001b[0mend_step\u001b[0m\u001b[0;34m,\u001b[0m \u001b[0mlogs\u001b[0m\u001b[0;34m)\u001b[0m\u001b[0;34m\u001b[0m\u001b[0;34m\u001b[0m\u001b[0m\n\u001b[0m\u001b[1;32m   1106\u001b[0m               \u001b[0;32mif\u001b[0m \u001b[0mself\u001b[0m\u001b[0;34m.\u001b[0m\u001b[0mstop_training\u001b[0m\u001b[0;34m:\u001b[0m\u001b[0;34m\u001b[0m\u001b[0;34m\u001b[0m\u001b[0m\n\u001b[1;32m   1107\u001b[0m                 \u001b[0;32mbreak\u001b[0m\u001b[0;34m\u001b[0m\u001b[0;34m\u001b[0m\u001b[0m\n",
            "\u001b[0;32m/usr/local/lib/python3.6/dist-packages/tensorflow/python/keras/callbacks.py\u001b[0m in \u001b[0;36mon_train_batch_end\u001b[0;34m(self, batch, logs)\u001b[0m\n\u001b[1;32m    452\u001b[0m     \"\"\"\n\u001b[1;32m    453\u001b[0m     \u001b[0;32mif\u001b[0m \u001b[0mself\u001b[0m\u001b[0;34m.\u001b[0m\u001b[0m_should_call_train_batch_hooks\u001b[0m\u001b[0;34m:\u001b[0m\u001b[0;34m\u001b[0m\u001b[0;34m\u001b[0m\u001b[0m\n\u001b[0;32m--> 454\u001b[0;31m       \u001b[0mself\u001b[0m\u001b[0;34m.\u001b[0m\u001b[0m_call_batch_hook\u001b[0m\u001b[0;34m(\u001b[0m\u001b[0mModeKeys\u001b[0m\u001b[0;34m.\u001b[0m\u001b[0mTRAIN\u001b[0m\u001b[0;34m,\u001b[0m \u001b[0;34m'end'\u001b[0m\u001b[0;34m,\u001b[0m \u001b[0mbatch\u001b[0m\u001b[0;34m,\u001b[0m \u001b[0mlogs\u001b[0m\u001b[0;34m=\u001b[0m\u001b[0mlogs\u001b[0m\u001b[0;34m)\u001b[0m\u001b[0;34m\u001b[0m\u001b[0;34m\u001b[0m\u001b[0m\n\u001b[0m\u001b[1;32m    455\u001b[0m \u001b[0;34m\u001b[0m\u001b[0m\n\u001b[1;32m    456\u001b[0m   \u001b[0;32mdef\u001b[0m \u001b[0mon_test_batch_begin\u001b[0m\u001b[0;34m(\u001b[0m\u001b[0mself\u001b[0m\u001b[0;34m,\u001b[0m \u001b[0mbatch\u001b[0m\u001b[0;34m,\u001b[0m \u001b[0mlogs\u001b[0m\u001b[0;34m=\u001b[0m\u001b[0;32mNone\u001b[0m\u001b[0;34m)\u001b[0m\u001b[0;34m:\u001b[0m\u001b[0;34m\u001b[0m\u001b[0;34m\u001b[0m\u001b[0m\n",
            "\u001b[0;32m/usr/local/lib/python3.6/dist-packages/tensorflow/python/keras/callbacks.py\u001b[0m in \u001b[0;36m_call_batch_hook\u001b[0;34m(self, mode, hook, batch, logs)\u001b[0m\n\u001b[1;32m    294\u001b[0m       \u001b[0mself\u001b[0m\u001b[0;34m.\u001b[0m\u001b[0m_call_batch_begin_hook\u001b[0m\u001b[0;34m(\u001b[0m\u001b[0mmode\u001b[0m\u001b[0;34m,\u001b[0m \u001b[0mbatch\u001b[0m\u001b[0;34m,\u001b[0m \u001b[0mlogs\u001b[0m\u001b[0;34m)\u001b[0m\u001b[0;34m\u001b[0m\u001b[0;34m\u001b[0m\u001b[0m\n\u001b[1;32m    295\u001b[0m     \u001b[0;32melif\u001b[0m \u001b[0mhook\u001b[0m \u001b[0;34m==\u001b[0m \u001b[0;34m'end'\u001b[0m\u001b[0;34m:\u001b[0m\u001b[0;34m\u001b[0m\u001b[0;34m\u001b[0m\u001b[0m\n\u001b[0;32m--> 296\u001b[0;31m       \u001b[0mself\u001b[0m\u001b[0;34m.\u001b[0m\u001b[0m_call_batch_end_hook\u001b[0m\u001b[0;34m(\u001b[0m\u001b[0mmode\u001b[0m\u001b[0;34m,\u001b[0m \u001b[0mbatch\u001b[0m\u001b[0;34m,\u001b[0m \u001b[0mlogs\u001b[0m\u001b[0;34m)\u001b[0m\u001b[0;34m\u001b[0m\u001b[0;34m\u001b[0m\u001b[0m\n\u001b[0m\u001b[1;32m    297\u001b[0m     \u001b[0;32melse\u001b[0m\u001b[0;34m:\u001b[0m\u001b[0;34m\u001b[0m\u001b[0;34m\u001b[0m\u001b[0m\n\u001b[1;32m    298\u001b[0m       \u001b[0;32mraise\u001b[0m \u001b[0mValueError\u001b[0m\u001b[0;34m(\u001b[0m\u001b[0;34m'Unrecognized hook: {}'\u001b[0m\u001b[0;34m.\u001b[0m\u001b[0mformat\u001b[0m\u001b[0;34m(\u001b[0m\u001b[0mhook\u001b[0m\u001b[0;34m)\u001b[0m\u001b[0;34m)\u001b[0m\u001b[0;34m\u001b[0m\u001b[0;34m\u001b[0m\u001b[0m\n",
            "\u001b[0;32m/usr/local/lib/python3.6/dist-packages/tensorflow/python/keras/callbacks.py\u001b[0m in \u001b[0;36m_call_batch_end_hook\u001b[0;34m(self, mode, batch, logs)\u001b[0m\n\u001b[1;32m    314\u001b[0m       \u001b[0mself\u001b[0m\u001b[0;34m.\u001b[0m\u001b[0m_batch_times\u001b[0m\u001b[0;34m.\u001b[0m\u001b[0mappend\u001b[0m\u001b[0;34m(\u001b[0m\u001b[0mbatch_time\u001b[0m\u001b[0;34m)\u001b[0m\u001b[0;34m\u001b[0m\u001b[0;34m\u001b[0m\u001b[0m\n\u001b[1;32m    315\u001b[0m \u001b[0;34m\u001b[0m\u001b[0m\n\u001b[0;32m--> 316\u001b[0;31m     \u001b[0mself\u001b[0m\u001b[0;34m.\u001b[0m\u001b[0m_call_batch_hook_helper\u001b[0m\u001b[0;34m(\u001b[0m\u001b[0mhook_name\u001b[0m\u001b[0;34m,\u001b[0m \u001b[0mbatch\u001b[0m\u001b[0;34m,\u001b[0m \u001b[0mlogs\u001b[0m\u001b[0;34m)\u001b[0m\u001b[0;34m\u001b[0m\u001b[0;34m\u001b[0m\u001b[0m\n\u001b[0m\u001b[1;32m    317\u001b[0m \u001b[0;34m\u001b[0m\u001b[0m\n\u001b[1;32m    318\u001b[0m     \u001b[0;32mif\u001b[0m \u001b[0mlen\u001b[0m\u001b[0;34m(\u001b[0m\u001b[0mself\u001b[0m\u001b[0;34m.\u001b[0m\u001b[0m_batch_times\u001b[0m\u001b[0;34m)\u001b[0m \u001b[0;34m>=\u001b[0m \u001b[0mself\u001b[0m\u001b[0;34m.\u001b[0m\u001b[0m_num_batches_for_timing_check\u001b[0m\u001b[0;34m:\u001b[0m\u001b[0;34m\u001b[0m\u001b[0;34m\u001b[0m\u001b[0m\n",
            "\u001b[0;32m/usr/local/lib/python3.6/dist-packages/tensorflow/python/keras/callbacks.py\u001b[0m in \u001b[0;36m_call_batch_hook_helper\u001b[0;34m(self, hook_name, batch, logs)\u001b[0m\n\u001b[1;32m    354\u001b[0m       \u001b[0mhook\u001b[0m \u001b[0;34m=\u001b[0m \u001b[0mgetattr\u001b[0m\u001b[0;34m(\u001b[0m\u001b[0mcallback\u001b[0m\u001b[0;34m,\u001b[0m \u001b[0mhook_name\u001b[0m\u001b[0;34m)\u001b[0m\u001b[0;34m\u001b[0m\u001b[0;34m\u001b[0m\u001b[0m\n\u001b[1;32m    355\u001b[0m       \u001b[0;32mif\u001b[0m \u001b[0mgetattr\u001b[0m\u001b[0;34m(\u001b[0m\u001b[0mcallback\u001b[0m\u001b[0;34m,\u001b[0m \u001b[0;34m'_supports_tf_logs'\u001b[0m\u001b[0;34m,\u001b[0m \u001b[0;32mFalse\u001b[0m\u001b[0;34m)\u001b[0m\u001b[0;34m:\u001b[0m\u001b[0;34m\u001b[0m\u001b[0;34m\u001b[0m\u001b[0m\n\u001b[0;32m--> 356\u001b[0;31m         \u001b[0mhook\u001b[0m\u001b[0;34m(\u001b[0m\u001b[0mbatch\u001b[0m\u001b[0;34m,\u001b[0m \u001b[0mlogs\u001b[0m\u001b[0;34m)\u001b[0m\u001b[0;34m\u001b[0m\u001b[0;34m\u001b[0m\u001b[0m\n\u001b[0m\u001b[1;32m    357\u001b[0m       \u001b[0;32melse\u001b[0m\u001b[0;34m:\u001b[0m\u001b[0;34m\u001b[0m\u001b[0;34m\u001b[0m\u001b[0m\n\u001b[1;32m    358\u001b[0m         \u001b[0;32mif\u001b[0m \u001b[0mnumpy_logs\u001b[0m \u001b[0;32mis\u001b[0m \u001b[0;32mNone\u001b[0m\u001b[0;34m:\u001b[0m  \u001b[0;31m# Only convert once.\u001b[0m\u001b[0;34m\u001b[0m\u001b[0;34m\u001b[0m\u001b[0m\n",
            "\u001b[0;32m/usr/local/lib/python3.6/dist-packages/tensorflow/python/keras/callbacks.py\u001b[0m in \u001b[0;36mon_train_batch_end\u001b[0;34m(self, batch, logs)\u001b[0m\n\u001b[1;32m   1018\u001b[0m \u001b[0;34m\u001b[0m\u001b[0m\n\u001b[1;32m   1019\u001b[0m   \u001b[0;32mdef\u001b[0m \u001b[0mon_train_batch_end\u001b[0m\u001b[0;34m(\u001b[0m\u001b[0mself\u001b[0m\u001b[0;34m,\u001b[0m \u001b[0mbatch\u001b[0m\u001b[0;34m,\u001b[0m \u001b[0mlogs\u001b[0m\u001b[0;34m=\u001b[0m\u001b[0;32mNone\u001b[0m\u001b[0;34m)\u001b[0m\u001b[0;34m:\u001b[0m\u001b[0;34m\u001b[0m\u001b[0;34m\u001b[0m\u001b[0m\n\u001b[0;32m-> 1020\u001b[0;31m     \u001b[0mself\u001b[0m\u001b[0;34m.\u001b[0m\u001b[0m_batch_update_progbar\u001b[0m\u001b[0;34m(\u001b[0m\u001b[0mbatch\u001b[0m\u001b[0;34m,\u001b[0m \u001b[0mlogs\u001b[0m\u001b[0;34m)\u001b[0m\u001b[0;34m\u001b[0m\u001b[0;34m\u001b[0m\u001b[0m\n\u001b[0m\u001b[1;32m   1021\u001b[0m \u001b[0;34m\u001b[0m\u001b[0m\n\u001b[1;32m   1022\u001b[0m   \u001b[0;32mdef\u001b[0m \u001b[0mon_test_batch_end\u001b[0m\u001b[0;34m(\u001b[0m\u001b[0mself\u001b[0m\u001b[0;34m,\u001b[0m \u001b[0mbatch\u001b[0m\u001b[0;34m,\u001b[0m \u001b[0mlogs\u001b[0m\u001b[0;34m=\u001b[0m\u001b[0;32mNone\u001b[0m\u001b[0;34m)\u001b[0m\u001b[0;34m:\u001b[0m\u001b[0;34m\u001b[0m\u001b[0;34m\u001b[0m\u001b[0m\n",
            "\u001b[0;32m/usr/local/lib/python3.6/dist-packages/tensorflow/python/keras/callbacks.py\u001b[0m in \u001b[0;36m_batch_update_progbar\u001b[0;34m(self, batch, logs)\u001b[0m\n\u001b[1;32m   1082\u001b[0m     \u001b[0;32mif\u001b[0m \u001b[0mself\u001b[0m\u001b[0;34m.\u001b[0m\u001b[0mverbose\u001b[0m \u001b[0;34m==\u001b[0m \u001b[0;36m1\u001b[0m\u001b[0;34m:\u001b[0m\u001b[0;34m\u001b[0m\u001b[0;34m\u001b[0m\u001b[0m\n\u001b[1;32m   1083\u001b[0m       \u001b[0;31m# Only block async when verbose = 1.\u001b[0m\u001b[0;34m\u001b[0m\u001b[0;34m\u001b[0m\u001b[0;34m\u001b[0m\u001b[0m\n\u001b[0;32m-> 1084\u001b[0;31m       \u001b[0mlogs\u001b[0m \u001b[0;34m=\u001b[0m \u001b[0mtf_utils\u001b[0m\u001b[0;34m.\u001b[0m\u001b[0mto_numpy_or_python_type\u001b[0m\u001b[0;34m(\u001b[0m\u001b[0mlogs\u001b[0m\u001b[0;34m)\u001b[0m\u001b[0;34m\u001b[0m\u001b[0;34m\u001b[0m\u001b[0m\n\u001b[0m\u001b[1;32m   1085\u001b[0m       \u001b[0mself\u001b[0m\u001b[0;34m.\u001b[0m\u001b[0mprogbar\u001b[0m\u001b[0;34m.\u001b[0m\u001b[0mupdate\u001b[0m\u001b[0;34m(\u001b[0m\u001b[0mself\u001b[0m\u001b[0;34m.\u001b[0m\u001b[0mseen\u001b[0m\u001b[0;34m,\u001b[0m \u001b[0mlist\u001b[0m\u001b[0;34m(\u001b[0m\u001b[0mlogs\u001b[0m\u001b[0;34m.\u001b[0m\u001b[0mitems\u001b[0m\u001b[0;34m(\u001b[0m\u001b[0;34m)\u001b[0m\u001b[0;34m)\u001b[0m\u001b[0;34m,\u001b[0m \u001b[0mfinalize\u001b[0m\u001b[0;34m=\u001b[0m\u001b[0;32mFalse\u001b[0m\u001b[0;34m)\u001b[0m\u001b[0;34m\u001b[0m\u001b[0;34m\u001b[0m\u001b[0m\n\u001b[1;32m   1086\u001b[0m \u001b[0;34m\u001b[0m\u001b[0m\n",
            "\u001b[0;32m/usr/local/lib/python3.6/dist-packages/tensorflow/python/keras/utils/tf_utils.py\u001b[0m in \u001b[0;36mto_numpy_or_python_type\u001b[0;34m(tensors)\u001b[0m\n\u001b[1;32m    512\u001b[0m     \u001b[0;32mreturn\u001b[0m \u001b[0mt\u001b[0m  \u001b[0;31m# Don't turn ragged or sparse tensors to NumPy.\u001b[0m\u001b[0;34m\u001b[0m\u001b[0;34m\u001b[0m\u001b[0m\n\u001b[1;32m    513\u001b[0m \u001b[0;34m\u001b[0m\u001b[0m\n\u001b[0;32m--> 514\u001b[0;31m   \u001b[0;32mreturn\u001b[0m \u001b[0mnest\u001b[0m\u001b[0;34m.\u001b[0m\u001b[0mmap_structure\u001b[0m\u001b[0;34m(\u001b[0m\u001b[0m_to_single_numpy_or_python_type\u001b[0m\u001b[0;34m,\u001b[0m \u001b[0mtensors\u001b[0m\u001b[0;34m)\u001b[0m\u001b[0;34m\u001b[0m\u001b[0;34m\u001b[0m\u001b[0m\n\u001b[0m\u001b[1;32m    515\u001b[0m \u001b[0;34m\u001b[0m\u001b[0m\n\u001b[1;32m    516\u001b[0m \u001b[0;34m\u001b[0m\u001b[0m\n",
            "\u001b[0;32m/usr/local/lib/python3.6/dist-packages/tensorflow/python/util/nest.py\u001b[0m in \u001b[0;36mmap_structure\u001b[0;34m(func, *structure, **kwargs)\u001b[0m\n\u001b[1;32m    657\u001b[0m \u001b[0;34m\u001b[0m\u001b[0m\n\u001b[1;32m    658\u001b[0m   return pack_sequence_as(\n\u001b[0;32m--> 659\u001b[0;31m       \u001b[0mstructure\u001b[0m\u001b[0;34m[\u001b[0m\u001b[0;36m0\u001b[0m\u001b[0;34m]\u001b[0m\u001b[0;34m,\u001b[0m \u001b[0;34m[\u001b[0m\u001b[0mfunc\u001b[0m\u001b[0;34m(\u001b[0m\u001b[0;34m*\u001b[0m\u001b[0mx\u001b[0m\u001b[0;34m)\u001b[0m \u001b[0;32mfor\u001b[0m \u001b[0mx\u001b[0m \u001b[0;32min\u001b[0m \u001b[0mentries\u001b[0m\u001b[0;34m]\u001b[0m\u001b[0;34m,\u001b[0m\u001b[0;34m\u001b[0m\u001b[0;34m\u001b[0m\u001b[0m\n\u001b[0m\u001b[1;32m    660\u001b[0m       expand_composites=expand_composites)\n\u001b[1;32m    661\u001b[0m \u001b[0;34m\u001b[0m\u001b[0m\n",
            "\u001b[0;32m/usr/local/lib/python3.6/dist-packages/tensorflow/python/util/nest.py\u001b[0m in \u001b[0;36m<listcomp>\u001b[0;34m(.0)\u001b[0m\n\u001b[1;32m    657\u001b[0m \u001b[0;34m\u001b[0m\u001b[0m\n\u001b[1;32m    658\u001b[0m   return pack_sequence_as(\n\u001b[0;32m--> 659\u001b[0;31m       \u001b[0mstructure\u001b[0m\u001b[0;34m[\u001b[0m\u001b[0;36m0\u001b[0m\u001b[0;34m]\u001b[0m\u001b[0;34m,\u001b[0m \u001b[0;34m[\u001b[0m\u001b[0mfunc\u001b[0m\u001b[0;34m(\u001b[0m\u001b[0;34m*\u001b[0m\u001b[0mx\u001b[0m\u001b[0;34m)\u001b[0m \u001b[0;32mfor\u001b[0m \u001b[0mx\u001b[0m \u001b[0;32min\u001b[0m \u001b[0mentries\u001b[0m\u001b[0;34m]\u001b[0m\u001b[0;34m,\u001b[0m\u001b[0;34m\u001b[0m\u001b[0;34m\u001b[0m\u001b[0m\n\u001b[0m\u001b[1;32m    660\u001b[0m       expand_composites=expand_composites)\n\u001b[1;32m    661\u001b[0m \u001b[0;34m\u001b[0m\u001b[0m\n",
            "\u001b[0;32m/usr/local/lib/python3.6/dist-packages/tensorflow/python/keras/utils/tf_utils.py\u001b[0m in \u001b[0;36m_to_single_numpy_or_python_type\u001b[0;34m(t)\u001b[0m\n\u001b[1;32m    508\u001b[0m   \u001b[0;32mdef\u001b[0m \u001b[0m_to_single_numpy_or_python_type\u001b[0m\u001b[0;34m(\u001b[0m\u001b[0mt\u001b[0m\u001b[0;34m)\u001b[0m\u001b[0;34m:\u001b[0m\u001b[0;34m\u001b[0m\u001b[0;34m\u001b[0m\u001b[0m\n\u001b[1;32m    509\u001b[0m     \u001b[0;32mif\u001b[0m \u001b[0misinstance\u001b[0m\u001b[0;34m(\u001b[0m\u001b[0mt\u001b[0m\u001b[0;34m,\u001b[0m \u001b[0mops\u001b[0m\u001b[0;34m.\u001b[0m\u001b[0mTensor\u001b[0m\u001b[0;34m)\u001b[0m\u001b[0;34m:\u001b[0m\u001b[0;34m\u001b[0m\u001b[0;34m\u001b[0m\u001b[0m\n\u001b[0;32m--> 510\u001b[0;31m       \u001b[0mx\u001b[0m \u001b[0;34m=\u001b[0m \u001b[0mt\u001b[0m\u001b[0;34m.\u001b[0m\u001b[0mnumpy\u001b[0m\u001b[0;34m(\u001b[0m\u001b[0;34m)\u001b[0m\u001b[0;34m\u001b[0m\u001b[0;34m\u001b[0m\u001b[0m\n\u001b[0m\u001b[1;32m    511\u001b[0m       \u001b[0;32mreturn\u001b[0m \u001b[0mx\u001b[0m\u001b[0;34m.\u001b[0m\u001b[0mitem\u001b[0m\u001b[0;34m(\u001b[0m\u001b[0;34m)\u001b[0m \u001b[0;32mif\u001b[0m \u001b[0mnp\u001b[0m\u001b[0;34m.\u001b[0m\u001b[0mndim\u001b[0m\u001b[0;34m(\u001b[0m\u001b[0mx\u001b[0m\u001b[0;34m)\u001b[0m \u001b[0;34m==\u001b[0m \u001b[0;36m0\u001b[0m \u001b[0;32melse\u001b[0m \u001b[0mx\u001b[0m\u001b[0;34m\u001b[0m\u001b[0;34m\u001b[0m\u001b[0m\n\u001b[1;32m    512\u001b[0m     \u001b[0;32mreturn\u001b[0m \u001b[0mt\u001b[0m  \u001b[0;31m# Don't turn ragged or sparse tensors to NumPy.\u001b[0m\u001b[0;34m\u001b[0m\u001b[0;34m\u001b[0m\u001b[0m\n",
            "\u001b[0;32m/usr/local/lib/python3.6/dist-packages/tensorflow/python/framework/ops.py\u001b[0m in \u001b[0;36mnumpy\u001b[0;34m(self)\u001b[0m\n\u001b[1;32m   1069\u001b[0m     \"\"\"\n\u001b[1;32m   1070\u001b[0m     \u001b[0;31m# TODO(slebedev): Consider avoiding a copy for non-CPU or remote tensors.\u001b[0m\u001b[0;34m\u001b[0m\u001b[0;34m\u001b[0m\u001b[0;34m\u001b[0m\u001b[0m\n\u001b[0;32m-> 1071\u001b[0;31m     \u001b[0mmaybe_arr\u001b[0m \u001b[0;34m=\u001b[0m \u001b[0mself\u001b[0m\u001b[0;34m.\u001b[0m\u001b[0m_numpy\u001b[0m\u001b[0;34m(\u001b[0m\u001b[0;34m)\u001b[0m  \u001b[0;31m# pylint: disable=protected-access\u001b[0m\u001b[0;34m\u001b[0m\u001b[0;34m\u001b[0m\u001b[0m\n\u001b[0m\u001b[1;32m   1072\u001b[0m     \u001b[0;32mreturn\u001b[0m \u001b[0mmaybe_arr\u001b[0m\u001b[0;34m.\u001b[0m\u001b[0mcopy\u001b[0m\u001b[0;34m(\u001b[0m\u001b[0;34m)\u001b[0m \u001b[0;32mif\u001b[0m \u001b[0misinstance\u001b[0m\u001b[0;34m(\u001b[0m\u001b[0mmaybe_arr\u001b[0m\u001b[0;34m,\u001b[0m \u001b[0mnp\u001b[0m\u001b[0;34m.\u001b[0m\u001b[0mndarray\u001b[0m\u001b[0;34m)\u001b[0m \u001b[0;32melse\u001b[0m \u001b[0mmaybe_arr\u001b[0m\u001b[0;34m\u001b[0m\u001b[0;34m\u001b[0m\u001b[0m\n\u001b[1;32m   1073\u001b[0m \u001b[0;34m\u001b[0m\u001b[0m\n",
            "\u001b[0;32m/usr/local/lib/python3.6/dist-packages/tensorflow/python/framework/ops.py\u001b[0m in \u001b[0;36m_numpy\u001b[0;34m(self)\u001b[0m\n\u001b[1;32m   1035\u001b[0m   \u001b[0;32mdef\u001b[0m \u001b[0m_numpy\u001b[0m\u001b[0;34m(\u001b[0m\u001b[0mself\u001b[0m\u001b[0;34m)\u001b[0m\u001b[0;34m:\u001b[0m\u001b[0;34m\u001b[0m\u001b[0;34m\u001b[0m\u001b[0m\n\u001b[1;32m   1036\u001b[0m     \u001b[0;32mtry\u001b[0m\u001b[0;34m:\u001b[0m\u001b[0;34m\u001b[0m\u001b[0;34m\u001b[0m\u001b[0m\n\u001b[0;32m-> 1037\u001b[0;31m       \u001b[0;32mreturn\u001b[0m \u001b[0mself\u001b[0m\u001b[0;34m.\u001b[0m\u001b[0m_numpy_internal\u001b[0m\u001b[0;34m(\u001b[0m\u001b[0;34m)\u001b[0m\u001b[0;34m\u001b[0m\u001b[0;34m\u001b[0m\u001b[0m\n\u001b[0m\u001b[1;32m   1038\u001b[0m     \u001b[0;32mexcept\u001b[0m \u001b[0mcore\u001b[0m\u001b[0;34m.\u001b[0m\u001b[0m_NotOkStatusException\u001b[0m \u001b[0;32mas\u001b[0m \u001b[0me\u001b[0m\u001b[0;34m:\u001b[0m  \u001b[0;31m# pylint: disable=protected-access\u001b[0m\u001b[0;34m\u001b[0m\u001b[0;34m\u001b[0m\u001b[0m\n\u001b[1;32m   1039\u001b[0m       \u001b[0msix\u001b[0m\u001b[0;34m.\u001b[0m\u001b[0mraise_from\u001b[0m\u001b[0;34m(\u001b[0m\u001b[0mcore\u001b[0m\u001b[0;34m.\u001b[0m\u001b[0m_status_to_exception\u001b[0m\u001b[0;34m(\u001b[0m\u001b[0me\u001b[0m\u001b[0;34m.\u001b[0m\u001b[0mcode\u001b[0m\u001b[0;34m,\u001b[0m \u001b[0me\u001b[0m\u001b[0;34m.\u001b[0m\u001b[0mmessage\u001b[0m\u001b[0;34m)\u001b[0m\u001b[0;34m,\u001b[0m \u001b[0;32mNone\u001b[0m\u001b[0;34m)\u001b[0m  \u001b[0;31m# pylint: disable=protected-access\u001b[0m\u001b[0;34m\u001b[0m\u001b[0;34m\u001b[0m\u001b[0m\n",
            "\u001b[0;31mKeyboardInterrupt\u001b[0m: "
          ]
        }
      ]
    },
    {
      "cell_type": "code",
      "metadata": {
        "colab": {
          "base_uri": "https://localhost:8080/"
        },
        "id": "JIHVoOR-HwV3",
        "outputId": "41e7ad06-c52a-417d-a8b9-4f1b5ff12735"
      },
      "source": [
        "blstm_model = Sequential()\r\n",
        "blstm_model.add(Embedding(max_features, embed_size, weights=[embedding_matrix], trainable=False))\r\n",
        "blstm_model.add(Bidirectional(LSTM(256, return_sequences=True)))\r\n",
        "blstm_model.add(Bidirectional(LSTM(128)))\r\n",
        "blstm_model.add(Dense(1, activation='sigmoid'))\r\n",
        "blstm_model.compile(loss='binary_crossentropy', optimizer='adam', metrics=['accuracy'])\r\n",
        "blstm_model.summary()"
      ],
      "execution_count": 86,
      "outputs": [
        {
          "output_type": "stream",
          "text": [
            "Model: \"sequential_4\"\n",
            "_________________________________________________________________\n",
            "Layer (type)                 Output Shape              Param #   \n",
            "=================================================================\n",
            "embedding_4 (Embedding)      (None, None, 300)         6900000   \n",
            "_________________________________________________________________\n",
            "bidirectional_2 (Bidirection (None, None, 512)         1140736   \n",
            "_________________________________________________________________\n",
            "bidirectional_3 (Bidirection (None, 256)               656384    \n",
            "_________________________________________________________________\n",
            "dense_4 (Dense)              (None, 1)                 257       \n",
            "=================================================================\n",
            "Total params: 8,697,377\n",
            "Trainable params: 1,797,377\n",
            "Non-trainable params: 6,900,000\n",
            "_________________________________________________________________\n"
          ],
          "name": "stdout"
        }
      ]
    },
    {
      "cell_type": "code",
      "metadata": {
        "colab": {
          "base_uri": "https://localhost:8080/",
          "height": 374
        },
        "id": "9ThbKoJEI12k",
        "outputId": "2e069a95-606a-40b6-c987-7475c695a9ac"
      },
      "source": [
        "blstm_hist = blstm_model.fit(X_tr, y_tr, batch_size=32, epochs=5, validation_data=(X_val, y_val))"
      ],
      "execution_count": 87,
      "outputs": [
        {
          "output_type": "stream",
          "text": [
            "Epoch 1/5\n",
            "448/448 [==============================] - 214s 467ms/step - loss: nan - accuracy: 0.4669 - val_loss: nan - val_accuracy: 0.4475\n",
            "Epoch 2/5\n",
            " 44/448 [=>............................] - ETA: 3:00 - loss: nan - accuracy: 0.4659"
          ],
          "name": "stdout"
        },
        {
          "output_type": "error",
          "ename": "KeyboardInterrupt",
          "evalue": "ignored",
          "traceback": [
            "\u001b[0;31m---------------------------------------------------------------------------\u001b[0m",
            "\u001b[0;31mKeyboardInterrupt\u001b[0m                         Traceback (most recent call last)",
            "\u001b[0;32m<ipython-input-87-50d87a9c1c9c>\u001b[0m in \u001b[0;36m<module>\u001b[0;34m()\u001b[0m\n\u001b[0;32m----> 1\u001b[0;31m \u001b[0mblstm_hist\u001b[0m \u001b[0;34m=\u001b[0m \u001b[0mblstm_model\u001b[0m\u001b[0;34m.\u001b[0m\u001b[0mfit\u001b[0m\u001b[0;34m(\u001b[0m\u001b[0mX_tr\u001b[0m\u001b[0;34m,\u001b[0m \u001b[0my_tr\u001b[0m\u001b[0;34m,\u001b[0m \u001b[0mbatch_size\u001b[0m\u001b[0;34m=\u001b[0m\u001b[0;36m32\u001b[0m\u001b[0;34m,\u001b[0m \u001b[0mepochs\u001b[0m\u001b[0;34m=\u001b[0m\u001b[0;36m5\u001b[0m\u001b[0;34m,\u001b[0m \u001b[0mvalidation_data\u001b[0m\u001b[0;34m=\u001b[0m\u001b[0;34m(\u001b[0m\u001b[0mX_val\u001b[0m\u001b[0;34m,\u001b[0m \u001b[0my_val\u001b[0m\u001b[0;34m)\u001b[0m\u001b[0;34m)\u001b[0m\u001b[0;34m\u001b[0m\u001b[0;34m\u001b[0m\u001b[0m\n\u001b[0m",
            "\u001b[0;32m/usr/local/lib/python3.6/dist-packages/tensorflow/python/keras/engine/training.py\u001b[0m in \u001b[0;36mfit\u001b[0;34m(self, x, y, batch_size, epochs, verbose, callbacks, validation_split, validation_data, shuffle, class_weight, sample_weight, initial_epoch, steps_per_epoch, validation_steps, validation_batch_size, validation_freq, max_queue_size, workers, use_multiprocessing)\u001b[0m\n\u001b[1;32m   1098\u001b[0m                 _r=1):\n\u001b[1;32m   1099\u001b[0m               \u001b[0mcallbacks\u001b[0m\u001b[0;34m.\u001b[0m\u001b[0mon_train_batch_begin\u001b[0m\u001b[0;34m(\u001b[0m\u001b[0mstep\u001b[0m\u001b[0;34m)\u001b[0m\u001b[0;34m\u001b[0m\u001b[0;34m\u001b[0m\u001b[0m\n\u001b[0;32m-> 1100\u001b[0;31m               \u001b[0mtmp_logs\u001b[0m \u001b[0;34m=\u001b[0m \u001b[0mself\u001b[0m\u001b[0;34m.\u001b[0m\u001b[0mtrain_function\u001b[0m\u001b[0;34m(\u001b[0m\u001b[0miterator\u001b[0m\u001b[0;34m)\u001b[0m\u001b[0;34m\u001b[0m\u001b[0;34m\u001b[0m\u001b[0m\n\u001b[0m\u001b[1;32m   1101\u001b[0m               \u001b[0;32mif\u001b[0m \u001b[0mdata_handler\u001b[0m\u001b[0;34m.\u001b[0m\u001b[0mshould_sync\u001b[0m\u001b[0;34m:\u001b[0m\u001b[0;34m\u001b[0m\u001b[0;34m\u001b[0m\u001b[0m\n\u001b[1;32m   1102\u001b[0m                 \u001b[0mcontext\u001b[0m\u001b[0;34m.\u001b[0m\u001b[0masync_wait\u001b[0m\u001b[0;34m(\u001b[0m\u001b[0;34m)\u001b[0m\u001b[0;34m\u001b[0m\u001b[0;34m\u001b[0m\u001b[0m\n",
            "\u001b[0;32m/usr/local/lib/python3.6/dist-packages/tensorflow/python/eager/def_function.py\u001b[0m in \u001b[0;36m__call__\u001b[0;34m(self, *args, **kwds)\u001b[0m\n\u001b[1;32m    826\u001b[0m     \u001b[0mtracing_count\u001b[0m \u001b[0;34m=\u001b[0m \u001b[0mself\u001b[0m\u001b[0;34m.\u001b[0m\u001b[0mexperimental_get_tracing_count\u001b[0m\u001b[0;34m(\u001b[0m\u001b[0;34m)\u001b[0m\u001b[0;34m\u001b[0m\u001b[0;34m\u001b[0m\u001b[0m\n\u001b[1;32m    827\u001b[0m     \u001b[0;32mwith\u001b[0m \u001b[0mtrace\u001b[0m\u001b[0;34m.\u001b[0m\u001b[0mTrace\u001b[0m\u001b[0;34m(\u001b[0m\u001b[0mself\u001b[0m\u001b[0;34m.\u001b[0m\u001b[0m_name\u001b[0m\u001b[0;34m)\u001b[0m \u001b[0;32mas\u001b[0m \u001b[0mtm\u001b[0m\u001b[0;34m:\u001b[0m\u001b[0;34m\u001b[0m\u001b[0;34m\u001b[0m\u001b[0m\n\u001b[0;32m--> 828\u001b[0;31m       \u001b[0mresult\u001b[0m \u001b[0;34m=\u001b[0m \u001b[0mself\u001b[0m\u001b[0;34m.\u001b[0m\u001b[0m_call\u001b[0m\u001b[0;34m(\u001b[0m\u001b[0;34m*\u001b[0m\u001b[0margs\u001b[0m\u001b[0;34m,\u001b[0m \u001b[0;34m**\u001b[0m\u001b[0mkwds\u001b[0m\u001b[0;34m)\u001b[0m\u001b[0;34m\u001b[0m\u001b[0;34m\u001b[0m\u001b[0m\n\u001b[0m\u001b[1;32m    829\u001b[0m       \u001b[0mcompiler\u001b[0m \u001b[0;34m=\u001b[0m \u001b[0;34m\"xla\"\u001b[0m \u001b[0;32mif\u001b[0m \u001b[0mself\u001b[0m\u001b[0;34m.\u001b[0m\u001b[0m_experimental_compile\u001b[0m \u001b[0;32melse\u001b[0m \u001b[0;34m\"nonXla\"\u001b[0m\u001b[0;34m\u001b[0m\u001b[0;34m\u001b[0m\u001b[0m\n\u001b[1;32m    830\u001b[0m       \u001b[0mnew_tracing_count\u001b[0m \u001b[0;34m=\u001b[0m \u001b[0mself\u001b[0m\u001b[0;34m.\u001b[0m\u001b[0mexperimental_get_tracing_count\u001b[0m\u001b[0;34m(\u001b[0m\u001b[0;34m)\u001b[0m\u001b[0;34m\u001b[0m\u001b[0;34m\u001b[0m\u001b[0m\n",
            "\u001b[0;32m/usr/local/lib/python3.6/dist-packages/tensorflow/python/eager/def_function.py\u001b[0m in \u001b[0;36m_call\u001b[0;34m(self, *args, **kwds)\u001b[0m\n\u001b[1;32m    853\u001b[0m       \u001b[0;31m# In this case we have created variables on the first call, so we run the\u001b[0m\u001b[0;34m\u001b[0m\u001b[0;34m\u001b[0m\u001b[0;34m\u001b[0m\u001b[0m\n\u001b[1;32m    854\u001b[0m       \u001b[0;31m# defunned version which is guaranteed to never create variables.\u001b[0m\u001b[0;34m\u001b[0m\u001b[0;34m\u001b[0m\u001b[0;34m\u001b[0m\u001b[0m\n\u001b[0;32m--> 855\u001b[0;31m       \u001b[0;32mreturn\u001b[0m \u001b[0mself\u001b[0m\u001b[0;34m.\u001b[0m\u001b[0m_stateless_fn\u001b[0m\u001b[0;34m(\u001b[0m\u001b[0;34m*\u001b[0m\u001b[0margs\u001b[0m\u001b[0;34m,\u001b[0m \u001b[0;34m**\u001b[0m\u001b[0mkwds\u001b[0m\u001b[0;34m)\u001b[0m  \u001b[0;31m# pylint: disable=not-callable\u001b[0m\u001b[0;34m\u001b[0m\u001b[0;34m\u001b[0m\u001b[0m\n\u001b[0m\u001b[1;32m    856\u001b[0m     \u001b[0;32melif\u001b[0m \u001b[0mself\u001b[0m\u001b[0;34m.\u001b[0m\u001b[0m_stateful_fn\u001b[0m \u001b[0;32mis\u001b[0m \u001b[0;32mnot\u001b[0m \u001b[0;32mNone\u001b[0m\u001b[0;34m:\u001b[0m\u001b[0;34m\u001b[0m\u001b[0;34m\u001b[0m\u001b[0m\n\u001b[1;32m    857\u001b[0m       \u001b[0;31m# Release the lock early so that multiple threads can perform the call\u001b[0m\u001b[0;34m\u001b[0m\u001b[0;34m\u001b[0m\u001b[0;34m\u001b[0m\u001b[0m\n",
            "\u001b[0;32m/usr/local/lib/python3.6/dist-packages/tensorflow/python/eager/function.py\u001b[0m in \u001b[0;36m__call__\u001b[0;34m(self, *args, **kwargs)\u001b[0m\n\u001b[1;32m   2941\u001b[0m        filtered_flat_args) = self._maybe_define_function(args, kwargs)\n\u001b[1;32m   2942\u001b[0m     return graph_function._call_flat(\n\u001b[0;32m-> 2943\u001b[0;31m         filtered_flat_args, captured_inputs=graph_function.captured_inputs)  # pylint: disable=protected-access\n\u001b[0m\u001b[1;32m   2944\u001b[0m \u001b[0;34m\u001b[0m\u001b[0m\n\u001b[1;32m   2945\u001b[0m   \u001b[0;34m@\u001b[0m\u001b[0mproperty\u001b[0m\u001b[0;34m\u001b[0m\u001b[0;34m\u001b[0m\u001b[0m\n",
            "\u001b[0;32m/usr/local/lib/python3.6/dist-packages/tensorflow/python/eager/function.py\u001b[0m in \u001b[0;36m_call_flat\u001b[0;34m(self, args, captured_inputs, cancellation_manager)\u001b[0m\n\u001b[1;32m   1917\u001b[0m       \u001b[0;31m# No tape is watching; skip to running the function.\u001b[0m\u001b[0;34m\u001b[0m\u001b[0;34m\u001b[0m\u001b[0;34m\u001b[0m\u001b[0m\n\u001b[1;32m   1918\u001b[0m       return self._build_call_outputs(self._inference_function.call(\n\u001b[0;32m-> 1919\u001b[0;31m           ctx, args, cancellation_manager=cancellation_manager))\n\u001b[0m\u001b[1;32m   1920\u001b[0m     forward_backward = self._select_forward_and_backward_functions(\n\u001b[1;32m   1921\u001b[0m         \u001b[0margs\u001b[0m\u001b[0;34m,\u001b[0m\u001b[0;34m\u001b[0m\u001b[0;34m\u001b[0m\u001b[0m\n",
            "\u001b[0;32m/usr/local/lib/python3.6/dist-packages/tensorflow/python/eager/function.py\u001b[0m in \u001b[0;36mcall\u001b[0;34m(self, ctx, args, cancellation_manager)\u001b[0m\n\u001b[1;32m    558\u001b[0m               \u001b[0minputs\u001b[0m\u001b[0;34m=\u001b[0m\u001b[0margs\u001b[0m\u001b[0;34m,\u001b[0m\u001b[0;34m\u001b[0m\u001b[0;34m\u001b[0m\u001b[0m\n\u001b[1;32m    559\u001b[0m               \u001b[0mattrs\u001b[0m\u001b[0;34m=\u001b[0m\u001b[0mattrs\u001b[0m\u001b[0;34m,\u001b[0m\u001b[0;34m\u001b[0m\u001b[0;34m\u001b[0m\u001b[0m\n\u001b[0;32m--> 560\u001b[0;31m               ctx=ctx)\n\u001b[0m\u001b[1;32m    561\u001b[0m         \u001b[0;32melse\u001b[0m\u001b[0;34m:\u001b[0m\u001b[0;34m\u001b[0m\u001b[0;34m\u001b[0m\u001b[0m\n\u001b[1;32m    562\u001b[0m           outputs = execute.execute_with_cancellation(\n",
            "\u001b[0;32m/usr/local/lib/python3.6/dist-packages/tensorflow/python/eager/execute.py\u001b[0m in \u001b[0;36mquick_execute\u001b[0;34m(op_name, num_outputs, inputs, attrs, ctx, name)\u001b[0m\n\u001b[1;32m     58\u001b[0m     \u001b[0mctx\u001b[0m\u001b[0;34m.\u001b[0m\u001b[0mensure_initialized\u001b[0m\u001b[0;34m(\u001b[0m\u001b[0;34m)\u001b[0m\u001b[0;34m\u001b[0m\u001b[0;34m\u001b[0m\u001b[0m\n\u001b[1;32m     59\u001b[0m     tensors = pywrap_tfe.TFE_Py_Execute(ctx._handle, device_name, op_name,\n\u001b[0;32m---> 60\u001b[0;31m                                         inputs, attrs, num_outputs)\n\u001b[0m\u001b[1;32m     61\u001b[0m   \u001b[0;32mexcept\u001b[0m \u001b[0mcore\u001b[0m\u001b[0;34m.\u001b[0m\u001b[0m_NotOkStatusException\u001b[0m \u001b[0;32mas\u001b[0m \u001b[0me\u001b[0m\u001b[0;34m:\u001b[0m\u001b[0;34m\u001b[0m\u001b[0;34m\u001b[0m\u001b[0m\n\u001b[1;32m     62\u001b[0m     \u001b[0;32mif\u001b[0m \u001b[0mname\u001b[0m \u001b[0;32mis\u001b[0m \u001b[0;32mnot\u001b[0m \u001b[0;32mNone\u001b[0m\u001b[0;34m:\u001b[0m\u001b[0;34m\u001b[0m\u001b[0;34m\u001b[0m\u001b[0m\n",
            "\u001b[0;31mKeyboardInterrupt\u001b[0m: "
          ]
        }
      ]
    },
    {
      "cell_type": "code",
      "metadata": {
        "colab": {
          "base_uri": "https://localhost:8080/",
          "height": 282
        },
        "id": "Rb63AooPKevQ",
        "outputId": "478ed9eb-cc95-47cb-cd29-76822edd95af"
      },
      "source": [
        "sns.countplot(y_val)"
      ],
      "execution_count": 99,
      "outputs": [
        {
          "output_type": "execute_result",
          "data": {
            "text/plain": [
              "<matplotlib.axes._subplots.AxesSubplot at 0x7fe9aa0e5320>"
            ]
          },
          "metadata": {
            "tags": []
          },
          "execution_count": 99
        },
        {
          "output_type": "display_data",
          "data": {
            "image/png": "[encoded data removed]",
            "text/plain": [
              "<Figure size 432x288 with 1 Axes>"
            ]
          },
          "metadata": {
            "tags": [],
            "needs_background": "light"
          }
        }
      ]
    },
    {
      "cell_type": "code",
      "metadata": {
        "colab": {
          "base_uri": "https://localhost:8080/",
          "height": 282
        },
        "id": "wpd-Fxd9J1lb",
        "outputId": "e8166c27-f114-418c-f73c-b93f9a8911f4"
      },
      "source": [
        "sns.countplot(g.reshape(-1, ))"
      ],
      "execution_count": 98,
      "outputs": [
        {
          "output_type": "execute_result",
          "data": {
            "text/plain": [
              "<matplotlib.axes._subplots.AxesSubplot at 0x7fe9d80b8eb8>"
            ]
          },
          "metadata": {
            "tags": []
          },
          "execution_count": 98
        },
        {
          "output_type": "display_data",
          "data": {
            "image/png": "[encoded data removed]",
            "text/plain": [
              "<Figure size 432x288 with 1 Axes>"
            ]
          },
          "metadata": {
            "tags": [],
            "needs_background": "light"
          }
        }
      ]
    },
    {
      "cell_type": "code",
      "metadata": {
        "id": "ZBPpYUUkk946"
      },
      "source": [
        "data = data.reset_index(drop=True)\n",
        "news_w2v_mean = []\n",
        "\n",
        "for i in range(data.shape[0]):\n",
        "  \n",
        "  tokens = data['clean_text_without_useless_words'][i].split(' ')\n",
        "  sent_w2v = np.zeros(300)\n",
        "  count = 0\n",
        "\n",
        "  for j in range(len(tokens)):\n",
        "    try:\n",
        "      sent_w2v += model.get_vector(tokens[j])\n",
        "      count += 1\n",
        "    except Exception:\n",
        "      continue\n",
        "\n",
        "  news_w2v_mean.append(sent_w2v/count)"
      ],
      "execution_count": 70,
      "outputs": []
    },
    {
      "cell_type": "code",
      "metadata": {
        "id": "cl8CQw5Hp6PE"
      },
      "source": [
        "def split(train, y, ratio):\n",
        "    idx = round(train.shape[0] * ratio)\n",
        "    return train[:idx, :], train[idx:, :], y[:idx], y[idx:]\n",
        "\n",
        "y = data.target_1_day\n",
        "Xtr, Xval, ytr, yval = split(np.array(news_w2v_mean), y, 0.8)"
      ],
      "execution_count": 71,
      "outputs": []
    },
    {
      "cell_type": "code",
      "metadata": {
        "id": "ODNF_PPqmYbm"
      },
      "source": [
        "#news_w2v_mean = pre_trained_w2v___(data, 'clean_text_without_useless_words', model)\n",
        "model = Sequential()\n",
        "model.add(Dense(256, input_dim=(Xtr.shape[1])))\n",
        "model.add(Activation('relu'))\n",
        "model.add(Dropout(0.85))\n",
        "model.add(Dense(1))\n",
        "model.add(Activation('sigmoid'))\n",
        "model.compile(loss='binary_crossentropy',\n",
        "              optimizer='adam',\n",
        "              metrics=['binary_accuracy'])"
      ],
      "execution_count": 72,
      "outputs": []
    },
    {
      "cell_type": "code",
      "metadata": {
        "colab": {
          "base_uri": "https://localhost:8080/",
          "height": 1000
        },
        "id": "moP9FqHWp-QN",
        "outputId": "a0a03ee5-cf9d-4e6a-a6f4-a6fd24658a95"
      },
      "source": [
        "history = model.fit(Xtr, ytr,\n",
        "                    batch_size=128,\n",
        "                    epochs=1000,\n",
        "                   validation_data=(Xval, yval))"
      ],
      "execution_count": 73,
      "outputs": [
        {
          "output_type": "stream",
          "text": [
            "Epoch 1/1000\n",
            "12/12 [==============================] - 1s 23ms/step - loss: 1.1332 - binary_accuracy: 0.4596 - val_loss: 0.6917 - val_binary_accuracy: 0.5198\n",
            "Epoch 2/1000\n",
            "12/12 [==============================] - 0s 8ms/step - loss: 0.8050 - binary_accuracy: 0.4775 - val_loss: 0.6882 - val_binary_accuracy: 0.5028\n",
            "Epoch 3/1000\n",
            "12/12 [==============================] - 0s 8ms/step - loss: 0.7164 - binary_accuracy: 0.5153 - val_loss: 0.6896 - val_binary_accuracy: 0.5339\n",
            "Epoch 4/1000\n",
            "12/12 [==============================] - 0s 7ms/step - loss: 0.7045 - binary_accuracy: 0.4866 - val_loss: 0.6905 - val_binary_accuracy: 0.5254\n",
            "Epoch 5/1000\n",
            "12/12 [==============================] - 0s 7ms/step - loss: 0.6989 - binary_accuracy: 0.5227 - val_loss: 0.6930 - val_binary_accuracy: 0.5169\n",
            "Epoch 6/1000\n",
            "12/12 [==============================] - 0s 8ms/step - loss: 0.7072 - binary_accuracy: 0.4893 - val_loss: 0.6904 - val_binary_accuracy: 0.5395\n",
            "Epoch 7/1000\n",
            "12/12 [==============================] - 0s 7ms/step - loss: 0.6956 - binary_accuracy: 0.5447 - val_loss: 0.6939 - val_binary_accuracy: 0.5000\n",
            "Epoch 8/1000\n",
            "12/12 [==============================] - 0s 7ms/step - loss: 0.7103 - binary_accuracy: 0.5064 - val_loss: 0.6932 - val_binary_accuracy: 0.5198\n",
            "Epoch 9/1000\n",
            "12/12 [==============================] - 0s 7ms/step - loss: 0.6939 - binary_accuracy: 0.5242 - val_loss: 0.6947 - val_binary_accuracy: 0.5141\n",
            "Epoch 10/1000\n",
            "12/12 [==============================] - 0s 7ms/step - loss: 0.6938 - binary_accuracy: 0.5299 - val_loss: 0.6950 - val_binary_accuracy: 0.4774\n",
            "Epoch 11/1000\n",
            "12/12 [==============================] - 0s 7ms/step - loss: 0.6978 - binary_accuracy: 0.5271 - val_loss: 0.6902 - val_binary_accuracy: 0.5198\n",
            "Epoch 12/1000\n",
            "12/12 [==============================] - 0s 7ms/step - loss: 0.6936 - binary_accuracy: 0.5108 - val_loss: 0.6900 - val_binary_accuracy: 0.5565\n",
            "Epoch 13/1000\n",
            "12/12 [==============================] - 0s 7ms/step - loss: 0.6912 - binary_accuracy: 0.5246 - val_loss: 0.6919 - val_binary_accuracy: 0.5282\n",
            "Epoch 14/1000\n",
            "12/12 [==============================] - 0s 8ms/step - loss: 0.6877 - binary_accuracy: 0.5233 - val_loss: 0.6914 - val_binary_accuracy: 0.5734\n",
            "Epoch 15/1000\n",
            "12/12 [==============================] - 0s 8ms/step - loss: 0.6866 - binary_accuracy: 0.5305 - val_loss: 0.6912 - val_binary_accuracy: 0.5311\n",
            "Epoch 16/1000\n",
            "12/12 [==============================] - 0s 8ms/step - loss: 0.6945 - binary_accuracy: 0.4943 - val_loss: 0.6911 - val_binary_accuracy: 0.5621\n",
            "Epoch 17/1000\n",
            "12/12 [==============================] - 0s 7ms/step - loss: 0.6895 - binary_accuracy: 0.5075 - val_loss: 0.6900 - val_binary_accuracy: 0.5169\n",
            "Epoch 18/1000\n",
            "12/12 [==============================] - 0s 7ms/step - loss: 0.6891 - binary_accuracy: 0.5240 - val_loss: 0.6893 - val_binary_accuracy: 0.5452\n",
            "Epoch 19/1000\n",
            "12/12 [==============================] - 0s 7ms/step - loss: 0.6925 - binary_accuracy: 0.5018 - val_loss: 0.6956 - val_binary_accuracy: 0.4746\n",
            "Epoch 20/1000\n",
            "12/12 [==============================] - 0s 7ms/step - loss: 0.6947 - binary_accuracy: 0.5137 - val_loss: 0.6931 - val_binary_accuracy: 0.4944\n",
            "Epoch 21/1000\n",
            "12/12 [==============================] - 0s 7ms/step - loss: 0.6897 - binary_accuracy: 0.5403 - val_loss: 0.6907 - val_binary_accuracy: 0.5621\n",
            "Epoch 22/1000\n",
            "12/12 [==============================] - 0s 8ms/step - loss: 0.6913 - binary_accuracy: 0.5015 - val_loss: 0.6913 - val_binary_accuracy: 0.5198\n",
            "Epoch 23/1000\n",
            "12/12 [==============================] - 0s 8ms/step - loss: 0.6901 - binary_accuracy: 0.5021 - val_loss: 0.6898 - val_binary_accuracy: 0.5424\n",
            "Epoch 24/1000\n",
            "12/12 [==============================] - 0s 7ms/step - loss: 0.6886 - binary_accuracy: 0.5298 - val_loss: 0.6914 - val_binary_accuracy: 0.5282\n",
            "Epoch 25/1000\n",
            "12/12 [==============================] - 0s 8ms/step - loss: 0.6892 - binary_accuracy: 0.5221 - val_loss: 0.6913 - val_binary_accuracy: 0.5056\n",
            "Epoch 26/1000\n",
            "12/12 [==============================] - 0s 8ms/step - loss: 0.6942 - binary_accuracy: 0.5107 - val_loss: 0.6925 - val_binary_accuracy: 0.4972\n",
            "Epoch 27/1000\n",
            "12/12 [==============================] - 0s 9ms/step - loss: 0.6876 - binary_accuracy: 0.5304 - val_loss: 0.6910 - val_binary_accuracy: 0.5226\n",
            "Epoch 28/1000\n",
            "12/12 [==============================] - 0s 8ms/step - loss: 0.6882 - binary_accuracy: 0.5295 - val_loss: 0.6916 - val_binary_accuracy: 0.5169\n",
            "Epoch 29/1000\n",
            "12/12 [==============================] - 0s 8ms/step - loss: 0.6855 - binary_accuracy: 0.5365 - val_loss: 0.6917 - val_binary_accuracy: 0.5226\n",
            "Epoch 30/1000\n",
            "12/12 [==============================] - 0s 27ms/step - loss: 0.6978 - binary_accuracy: 0.5053 - val_loss: 0.6919 - val_binary_accuracy: 0.5085\n",
            "Epoch 31/1000\n",
            "12/12 [==============================] - 0s 7ms/step - loss: 0.6920 - binary_accuracy: 0.5200 - val_loss: 0.6917 - val_binary_accuracy: 0.5169\n",
            "Epoch 32/1000\n",
            "12/12 [==============================] - 0s 7ms/step - loss: 0.6897 - binary_accuracy: 0.5158 - val_loss: 0.6913 - val_binary_accuracy: 0.5226\n",
            "Epoch 33/1000\n",
            "12/12 [==============================] - 0s 8ms/step - loss: 0.6901 - binary_accuracy: 0.5193 - val_loss: 0.6907 - val_binary_accuracy: 0.5085\n",
            "Epoch 34/1000\n",
            "12/12 [==============================] - 0s 7ms/step - loss: 0.6947 - binary_accuracy: 0.5079 - val_loss: 0.6945 - val_binary_accuracy: 0.4774\n",
            "Epoch 35/1000\n",
            "12/12 [==============================] - 0s 8ms/step - loss: 0.6930 - binary_accuracy: 0.4963 - val_loss: 0.6928 - val_binary_accuracy: 0.5141\n",
            "Epoch 36/1000\n",
            "12/12 [==============================] - 0s 7ms/step - loss: 0.6824 - binary_accuracy: 0.5405 - val_loss: 0.6933 - val_binary_accuracy: 0.5085\n",
            "Epoch 37/1000\n",
            "12/12 [==============================] - 0s 8ms/step - loss: 0.6916 - binary_accuracy: 0.5167 - val_loss: 0.6964 - val_binary_accuracy: 0.4718\n",
            "Epoch 38/1000\n",
            "12/12 [==============================] - 0s 7ms/step - loss: 0.6945 - binary_accuracy: 0.5070 - val_loss: 0.6940 - val_binary_accuracy: 0.5028\n",
            "Epoch 39/1000\n",
            "12/12 [==============================] - 0s 7ms/step - loss: 0.6828 - binary_accuracy: 0.5406 - val_loss: 0.6963 - val_binary_accuracy: 0.4859\n",
            "Epoch 40/1000\n",
            "12/12 [==============================] - 0s 7ms/step - loss: 0.6998 - binary_accuracy: 0.5312 - val_loss: 0.6935 - val_binary_accuracy: 0.4802\n",
            "Epoch 41/1000\n",
            "12/12 [==============================] - 0s 8ms/step - loss: 0.6890 - binary_accuracy: 0.5334 - val_loss: 0.6920 - val_binary_accuracy: 0.5141\n",
            "Epoch 42/1000\n",
            "12/12 [==============================] - 0s 8ms/step - loss: 0.6892 - binary_accuracy: 0.5124 - val_loss: 0.6923 - val_binary_accuracy: 0.5311\n",
            "Epoch 43/1000\n",
            "12/12 [==============================] - 0s 8ms/step - loss: 0.6937 - binary_accuracy: 0.4960 - val_loss: 0.6905 - val_binary_accuracy: 0.5565\n",
            "Epoch 44/1000\n",
            "12/12 [==============================] - 0s 8ms/step - loss: 0.6866 - binary_accuracy: 0.5419 - val_loss: 0.6881 - val_binary_accuracy: 0.5621\n",
            "Epoch 45/1000\n",
            "12/12 [==============================] - 0s 8ms/step - loss: 0.6872 - binary_accuracy: 0.5324 - val_loss: 0.6871 - val_binary_accuracy: 0.5621\n",
            "Epoch 46/1000\n",
            "12/12 [==============================] - 0s 8ms/step - loss: 0.6989 - binary_accuracy: 0.4853 - val_loss: 0.6906 - val_binary_accuracy: 0.5395\n",
            "Epoch 47/1000\n",
            "12/12 [==============================] - 0s 7ms/step - loss: 0.6852 - binary_accuracy: 0.5099 - val_loss: 0.6931 - val_binary_accuracy: 0.5028\n",
            "Epoch 48/1000\n",
            "12/12 [==============================] - 0s 7ms/step - loss: 0.6850 - binary_accuracy: 0.5286 - val_loss: 0.6928 - val_binary_accuracy: 0.5113\n",
            "Epoch 49/1000\n",
            "12/12 [==============================] - 0s 8ms/step - loss: 0.6894 - binary_accuracy: 0.5169 - val_loss: 0.6919 - val_binary_accuracy: 0.4887\n",
            "Epoch 50/1000\n",
            "12/12 [==============================] - 0s 8ms/step - loss: 0.6865 - binary_accuracy: 0.5118 - val_loss: 0.6931 - val_binary_accuracy: 0.4915\n",
            "Epoch 51/1000\n",
            "12/12 [==============================] - 0s 8ms/step - loss: 0.6855 - binary_accuracy: 0.5372 - val_loss: 0.6936 - val_binary_accuracy: 0.4774\n",
            "Epoch 52/1000\n",
            "12/12 [==============================] - 0s 9ms/step - loss: 0.6866 - binary_accuracy: 0.5338 - val_loss: 0.6942 - val_binary_accuracy: 0.4831\n",
            "Epoch 53/1000\n",
            "12/12 [==============================] - 0s 8ms/step - loss: 0.6833 - binary_accuracy: 0.5545 - val_loss: 0.6933 - val_binary_accuracy: 0.4831\n",
            "Epoch 54/1000\n",
            "12/12 [==============================] - 0s 27ms/step - loss: 0.6856 - binary_accuracy: 0.5307 - val_loss: 0.6914 - val_binary_accuracy: 0.5311\n",
            "Epoch 55/1000\n",
            "12/12 [==============================] - 0s 7ms/step - loss: 0.6845 - binary_accuracy: 0.5357 - val_loss: 0.6897 - val_binary_accuracy: 0.5621\n",
            "Epoch 56/1000\n",
            "12/12 [==============================] - 0s 7ms/step - loss: 0.6887 - binary_accuracy: 0.5246 - val_loss: 0.6912 - val_binary_accuracy: 0.5367\n",
            "Epoch 57/1000\n",
            "12/12 [==============================] - 0s 7ms/step - loss: 0.6828 - binary_accuracy: 0.5364 - val_loss: 0.6919 - val_binary_accuracy: 0.5000\n",
            "Epoch 58/1000\n",
            "12/12 [==============================] - 0s 8ms/step - loss: 0.6836 - binary_accuracy: 0.5335 - val_loss: 0.6926 - val_binary_accuracy: 0.4831\n",
            "Epoch 59/1000\n",
            "12/12 [==============================] - 0s 7ms/step - loss: 0.6864 - binary_accuracy: 0.5278 - val_loss: 0.6937 - val_binary_accuracy: 0.4831\n",
            "Epoch 60/1000\n",
            "12/12 [==============================] - 0s 7ms/step - loss: 0.6883 - binary_accuracy: 0.5284 - val_loss: 0.6928 - val_binary_accuracy: 0.4859\n",
            "Epoch 61/1000\n",
            "12/12 [==============================] - 0s 7ms/step - loss: 0.6831 - binary_accuracy: 0.5214 - val_loss: 0.6913 - val_binary_accuracy: 0.5113\n",
            "Epoch 62/1000\n",
            "12/12 [==============================] - 0s 8ms/step - loss: 0.6863 - binary_accuracy: 0.5338 - val_loss: 0.6909 - val_binary_accuracy: 0.4944\n",
            "Epoch 63/1000\n",
            "12/12 [==============================] - 0s 7ms/step - loss: 0.6935 - binary_accuracy: 0.4933 - val_loss: 0.6926 - val_binary_accuracy: 0.5028\n",
            "Epoch 64/1000\n",
            "12/12 [==============================] - 0s 7ms/step - loss: 0.6821 - binary_accuracy: 0.5380 - val_loss: 0.6944 - val_binary_accuracy: 0.4718\n",
            "Epoch 65/1000\n",
            "12/12 [==============================] - 0s 8ms/step - loss: 0.6842 - binary_accuracy: 0.5237 - val_loss: 0.6930 - val_binary_accuracy: 0.4859\n",
            "Epoch 66/1000\n",
            "12/12 [==============================] - 0s 7ms/step - loss: 0.6822 - binary_accuracy: 0.5434 - val_loss: 0.6898 - val_binary_accuracy: 0.5395\n",
            "Epoch 67/1000\n",
            "12/12 [==============================] - 0s 7ms/step - loss: 0.6938 - binary_accuracy: 0.5117 - val_loss: 0.6911 - val_binary_accuracy: 0.5424\n",
            "Epoch 68/1000\n",
            "12/12 [==============================] - 0s 7ms/step - loss: 0.6869 - binary_accuracy: 0.5525 - val_loss: 0.6920 - val_binary_accuracy: 0.5508\n",
            "Epoch 69/1000\n",
            "12/12 [==============================] - 0s 8ms/step - loss: 0.6810 - binary_accuracy: 0.5535 - val_loss: 0.6913 - val_binary_accuracy: 0.5169\n",
            "Epoch 70/1000\n",
            "12/12 [==============================] - 0s 7ms/step - loss: 0.6806 - binary_accuracy: 0.5627 - val_loss: 0.6934 - val_binary_accuracy: 0.4887\n",
            "Epoch 71/1000\n",
            "12/12 [==============================] - 0s 7ms/step - loss: 0.6842 - binary_accuracy: 0.5207 - val_loss: 0.6970 - val_binary_accuracy: 0.4859\n",
            "Epoch 72/1000\n",
            "12/12 [==============================] - 0s 7ms/step - loss: 0.6870 - binary_accuracy: 0.5329 - val_loss: 0.6936 - val_binary_accuracy: 0.5198\n",
            "Epoch 73/1000\n",
            "12/12 [==============================] - 0s 8ms/step - loss: 0.6882 - binary_accuracy: 0.5225 - val_loss: 0.6911 - val_binary_accuracy: 0.5056\n",
            "Epoch 74/1000\n",
            "12/12 [==============================] - 0s 7ms/step - loss: 0.6908 - binary_accuracy: 0.5186 - val_loss: 0.6950 - val_binary_accuracy: 0.4774\n",
            "Epoch 75/1000\n",
            "12/12 [==============================] - 0s 27ms/step - loss: 0.6879 - binary_accuracy: 0.5330 - val_loss: 0.6940 - val_binary_accuracy: 0.4802\n",
            "Epoch 76/1000\n",
            "12/12 [==============================] - 0s 7ms/step - loss: 0.6865 - binary_accuracy: 0.5533 - val_loss: 0.6935 - val_binary_accuracy: 0.4802\n",
            "Epoch 77/1000\n",
            "12/12 [==============================] - 0s 7ms/step - loss: 0.6871 - binary_accuracy: 0.5463 - val_loss: 0.6923 - val_binary_accuracy: 0.5254\n",
            "Epoch 78/1000\n",
            "12/12 [==============================] - 0s 7ms/step - loss: 0.6821 - binary_accuracy: 0.5391 - val_loss: 0.6950 - val_binary_accuracy: 0.5141\n",
            "Epoch 79/1000\n",
            "12/12 [==============================] - 0s 8ms/step - loss: 0.6884 - binary_accuracy: 0.5169 - val_loss: 0.6932 - val_binary_accuracy: 0.4915\n",
            "Epoch 80/1000\n",
            "12/12 [==============================] - 0s 8ms/step - loss: 0.6863 - binary_accuracy: 0.5316 - val_loss: 0.6925 - val_binary_accuracy: 0.5169\n",
            "Epoch 81/1000\n",
            "12/12 [==============================] - 0s 8ms/step - loss: 0.6914 - binary_accuracy: 0.5096 - val_loss: 0.6925 - val_binary_accuracy: 0.4944\n",
            "Epoch 82/1000\n",
            "12/12 [==============================] - 0s 7ms/step - loss: 0.6796 - binary_accuracy: 0.5663 - val_loss: 0.6916 - val_binary_accuracy: 0.5000\n",
            "Epoch 83/1000\n",
            "12/12 [==============================] - 0s 8ms/step - loss: 0.6860 - binary_accuracy: 0.5362 - val_loss: 0.6908 - val_binary_accuracy: 0.4944\n",
            "Epoch 84/1000\n",
            "12/12 [==============================] - 0s 7ms/step - loss: 0.6817 - binary_accuracy: 0.5504 - val_loss: 0.6904 - val_binary_accuracy: 0.5028\n",
            "Epoch 85/1000\n",
            "12/12 [==============================] - 0s 7ms/step - loss: 0.6875 - binary_accuracy: 0.5077 - val_loss: 0.6905 - val_binary_accuracy: 0.5424\n",
            "Epoch 86/1000\n",
            "12/12 [==============================] - 0s 7ms/step - loss: 0.6775 - binary_accuracy: 0.5576 - val_loss: 0.6925 - val_binary_accuracy: 0.5424\n",
            "Epoch 87/1000\n",
            "12/12 [==============================] - 0s 7ms/step - loss: 0.6944 - binary_accuracy: 0.5183 - val_loss: 0.6923 - val_binary_accuracy: 0.5254\n",
            "Epoch 88/1000\n",
            "12/12 [==============================] - 0s 8ms/step - loss: 0.6829 - binary_accuracy: 0.5268 - val_loss: 0.6922 - val_binary_accuracy: 0.5028\n",
            "Epoch 89/1000\n",
            "12/12 [==============================] - 0s 8ms/step - loss: 0.6854 - binary_accuracy: 0.5058 - val_loss: 0.6933 - val_binary_accuracy: 0.4887\n",
            "Epoch 90/1000\n",
            "12/12 [==============================] - 0s 7ms/step - loss: 0.6852 - binary_accuracy: 0.5220 - val_loss: 0.6917 - val_binary_accuracy: 0.4831\n",
            "Epoch 91/1000\n",
            "12/12 [==============================] - 0s 7ms/step - loss: 0.6809 - binary_accuracy: 0.5475 - val_loss: 0.6904 - val_binary_accuracy: 0.5198\n",
            "Epoch 92/1000\n",
            "12/12 [==============================] - 0s 8ms/step - loss: 0.6840 - binary_accuracy: 0.5263 - val_loss: 0.6901 - val_binary_accuracy: 0.5621\n",
            "Epoch 93/1000\n",
            "12/12 [==============================] - 0s 7ms/step - loss: 0.6767 - binary_accuracy: 0.5483 - val_loss: 0.6943 - val_binary_accuracy: 0.5141\n",
            "Epoch 94/1000\n",
            "12/12 [==============================] - 0s 9ms/step - loss: 0.6847 - binary_accuracy: 0.5451 - val_loss: 0.6912 - val_binary_accuracy: 0.5452\n",
            "Epoch 95/1000\n",
            "12/12 [==============================] - 0s 10ms/step - loss: 0.6921 - binary_accuracy: 0.5145 - val_loss: 0.6933 - val_binary_accuracy: 0.4718\n",
            "Epoch 96/1000\n",
            "12/12 [==============================] - 0s 7ms/step - loss: 0.6782 - binary_accuracy: 0.5417 - val_loss: 0.6946 - val_binary_accuracy: 0.4944\n",
            "Epoch 97/1000\n",
            "12/12 [==============================] - 0s 8ms/step - loss: 0.6813 - binary_accuracy: 0.5578 - val_loss: 0.6918 - val_binary_accuracy: 0.5028\n",
            "Epoch 98/1000\n",
            "12/12 [==============================] - 0s 7ms/step - loss: 0.6891 - binary_accuracy: 0.5230 - val_loss: 0.6906 - val_binary_accuracy: 0.5169\n",
            "Epoch 99/1000\n",
            "12/12 [==============================] - 0s 7ms/step - loss: 0.6853 - binary_accuracy: 0.5329 - val_loss: 0.6917 - val_binary_accuracy: 0.5113\n",
            "Epoch 100/1000\n",
            "12/12 [==============================] - 0s 8ms/step - loss: 0.6869 - binary_accuracy: 0.5131 - val_loss: 0.6919 - val_binary_accuracy: 0.4915\n",
            "Epoch 101/1000\n",
            "12/12 [==============================] - 0s 7ms/step - loss: 0.6791 - binary_accuracy: 0.5473 - val_loss: 0.6936 - val_binary_accuracy: 0.4887\n",
            "Epoch 102/1000\n",
            "12/12 [==============================] - 0s 8ms/step - loss: 0.6817 - binary_accuracy: 0.5159 - val_loss: 0.6915 - val_binary_accuracy: 0.5311\n",
            "Epoch 103/1000\n",
            "12/12 [==============================] - 0s 8ms/step - loss: 0.6854 - binary_accuracy: 0.5239 - val_loss: 0.6915 - val_binary_accuracy: 0.5282\n",
            "Epoch 104/1000\n",
            "12/12 [==============================] - 0s 8ms/step - loss: 0.6838 - binary_accuracy: 0.5416 - val_loss: 0.6939 - val_binary_accuracy: 0.4746\n",
            "Epoch 105/1000\n",
            "12/12 [==============================] - 0s 7ms/step - loss: 0.6832 - binary_accuracy: 0.5386 - val_loss: 0.6951 - val_binary_accuracy: 0.4661\n",
            "Epoch 106/1000\n",
            "12/12 [==============================] - 0s 8ms/step - loss: 0.6830 - binary_accuracy: 0.5384 - val_loss: 0.6916 - val_binary_accuracy: 0.5395\n",
            "Epoch 107/1000\n",
            "12/12 [==============================] - 0s 7ms/step - loss: 0.6791 - binary_accuracy: 0.5391 - val_loss: 0.6907 - val_binary_accuracy: 0.5452\n",
            "Epoch 108/1000\n",
            "12/12 [==============================] - 0s 7ms/step - loss: 0.6786 - binary_accuracy: 0.5459 - val_loss: 0.6929 - val_binary_accuracy: 0.5000\n",
            "Epoch 109/1000\n",
            "12/12 [==============================] - 0s 9ms/step - loss: 0.6814 - binary_accuracy: 0.5070 - val_loss: 0.6928 - val_binary_accuracy: 0.5000\n",
            "Epoch 110/1000\n",
            "12/12 [==============================] - 0s 7ms/step - loss: 0.6771 - binary_accuracy: 0.5465 - val_loss: 0.6921 - val_binary_accuracy: 0.5113\n",
            "Epoch 111/1000\n",
            "12/12 [==============================] - 0s 26ms/step - loss: 0.6847 - binary_accuracy: 0.5342 - val_loss: 0.6961 - val_binary_accuracy: 0.4774\n",
            "Epoch 112/1000\n",
            "12/12 [==============================] - 0s 7ms/step - loss: 0.6769 - binary_accuracy: 0.5377 - val_loss: 0.6928 - val_binary_accuracy: 0.4944\n",
            "Epoch 113/1000\n",
            "12/12 [==============================] - 0s 8ms/step - loss: 0.6765 - binary_accuracy: 0.5603 - val_loss: 0.6921 - val_binary_accuracy: 0.5254\n",
            "Epoch 114/1000\n",
            "12/12 [==============================] - 0s 8ms/step - loss: 0.6916 - binary_accuracy: 0.5332 - val_loss: 0.6943 - val_binary_accuracy: 0.4944\n",
            "Epoch 115/1000\n",
            "12/12 [==============================] - 0s 8ms/step - loss: 0.6811 - binary_accuracy: 0.5453 - val_loss: 0.6927 - val_binary_accuracy: 0.4802\n",
            "Epoch 116/1000\n",
            "12/12 [==============================] - 0s 8ms/step - loss: 0.6789 - binary_accuracy: 0.5278 - val_loss: 0.6898 - val_binary_accuracy: 0.5113\n",
            "Epoch 117/1000\n",
            "12/12 [==============================] - 0s 8ms/step - loss: 0.6883 - binary_accuracy: 0.5262 - val_loss: 0.6898 - val_binary_accuracy: 0.5056\n",
            "Epoch 118/1000\n",
            "12/12 [==============================] - 0s 7ms/step - loss: 0.6843 - binary_accuracy: 0.5218 - val_loss: 0.6886 - val_binary_accuracy: 0.5169\n",
            "Epoch 119/1000\n",
            "12/12 [==============================] - 0s 7ms/step - loss: 0.6809 - binary_accuracy: 0.5388 - val_loss: 0.6911 - val_binary_accuracy: 0.4831\n",
            "Epoch 120/1000\n",
            "12/12 [==============================] - 0s 7ms/step - loss: 0.6816 - binary_accuracy: 0.5351 - val_loss: 0.6891 - val_binary_accuracy: 0.5424\n",
            "Epoch 121/1000\n",
            "12/12 [==============================] - 0s 8ms/step - loss: 0.6780 - binary_accuracy: 0.5231 - val_loss: 0.6878 - val_binary_accuracy: 0.5141\n",
            "Epoch 122/1000\n",
            "12/12 [==============================] - 0s 8ms/step - loss: 0.6874 - binary_accuracy: 0.5250 - val_loss: 0.6929 - val_binary_accuracy: 0.5254\n",
            "Epoch 123/1000\n",
            "12/12 [==============================] - 0s 8ms/step - loss: 0.6867 - binary_accuracy: 0.5304 - val_loss: 0.6905 - val_binary_accuracy: 0.5339\n",
            "Epoch 124/1000\n",
            "12/12 [==============================] - 0s 7ms/step - loss: 0.6862 - binary_accuracy: 0.5380 - val_loss: 0.6931 - val_binary_accuracy: 0.5141\n",
            "Epoch 125/1000\n",
            "12/12 [==============================] - 0s 8ms/step - loss: 0.6812 - binary_accuracy: 0.5827 - val_loss: 0.6918 - val_binary_accuracy: 0.5367\n",
            "Epoch 126/1000\n",
            "12/12 [==============================] - 0s 7ms/step - loss: 0.6830 - binary_accuracy: 0.5313 - val_loss: 0.6919 - val_binary_accuracy: 0.5339\n",
            "Epoch 127/1000\n",
            "12/12 [==============================] - 0s 7ms/step - loss: 0.6793 - binary_accuracy: 0.5585 - val_loss: 0.6936 - val_binary_accuracy: 0.5254\n",
            "Epoch 128/1000\n",
            "12/12 [==============================] - 0s 10ms/step - loss: 0.6843 - binary_accuracy: 0.5037 - val_loss: 0.6985 - val_binary_accuracy: 0.4915\n",
            "Epoch 129/1000\n",
            "12/12 [==============================] - 0s 8ms/step - loss: 0.6900 - binary_accuracy: 0.5212 - val_loss: 0.6962 - val_binary_accuracy: 0.5085\n",
            "Epoch 130/1000\n",
            "12/12 [==============================] - 0s 8ms/step - loss: 0.6801 - binary_accuracy: 0.5351 - val_loss: 0.6929 - val_binary_accuracy: 0.5198\n",
            "Epoch 131/1000\n",
            "12/12 [==============================] - 0s 8ms/step - loss: 0.6747 - binary_accuracy: 0.5360 - val_loss: 0.6915 - val_binary_accuracy: 0.5452\n",
            "Epoch 132/1000\n",
            "12/12 [==============================] - 0s 8ms/step - loss: 0.6776 - binary_accuracy: 0.5255 - val_loss: 0.6900 - val_binary_accuracy: 0.5424\n",
            "Epoch 133/1000\n",
            "12/12 [==============================] - 0s 8ms/step - loss: 0.6819 - binary_accuracy: 0.5363 - val_loss: 0.6929 - val_binary_accuracy: 0.4972\n",
            "Epoch 134/1000\n",
            "12/12 [==============================] - 0s 8ms/step - loss: 0.6704 - binary_accuracy: 0.5630 - val_loss: 0.6933 - val_binary_accuracy: 0.5169\n",
            "Epoch 135/1000\n",
            "12/12 [==============================] - 0s 8ms/step - loss: 0.6814 - binary_accuracy: 0.5455 - val_loss: 0.6922 - val_binary_accuracy: 0.5226\n",
            "Epoch 136/1000\n",
            "12/12 [==============================] - 0s 8ms/step - loss: 0.6816 - binary_accuracy: 0.5312 - val_loss: 0.6937 - val_binary_accuracy: 0.5056\n",
            "Epoch 137/1000\n",
            "12/12 [==============================] - 0s 7ms/step - loss: 0.6731 - binary_accuracy: 0.5571 - val_loss: 0.6964 - val_binary_accuracy: 0.4718\n",
            "Epoch 138/1000\n",
            "12/12 [==============================] - 0s 8ms/step - loss: 0.6810 - binary_accuracy: 0.5395 - val_loss: 0.6940 - val_binary_accuracy: 0.4887\n",
            "Epoch 139/1000\n",
            "12/12 [==============================] - 0s 8ms/step - loss: 0.6838 - binary_accuracy: 0.5192 - val_loss: 0.6935 - val_binary_accuracy: 0.5056\n",
            "Epoch 140/1000\n",
            "12/12 [==============================] - 0s 27ms/step - loss: 0.6791 - binary_accuracy: 0.5243 - val_loss: 0.6944 - val_binary_accuracy: 0.4746\n",
            "Epoch 141/1000\n",
            "12/12 [==============================] - 0s 7ms/step - loss: 0.6753 - binary_accuracy: 0.5325 - val_loss: 0.6945 - val_binary_accuracy: 0.4831\n",
            "Epoch 142/1000\n",
            "12/12 [==============================] - 0s 10ms/step - loss: 0.6789 - binary_accuracy: 0.5619 - val_loss: 0.6949 - val_binary_accuracy: 0.5282\n",
            "Epoch 143/1000\n",
            "12/12 [==============================] - 0s 8ms/step - loss: 0.6839 - binary_accuracy: 0.5238 - val_loss: 0.6925 - val_binary_accuracy: 0.4915\n",
            "Epoch 144/1000\n",
            "12/12 [==============================] - 0s 8ms/step - loss: 0.6790 - binary_accuracy: 0.5438 - val_loss: 0.6919 - val_binary_accuracy: 0.4915\n",
            "Epoch 145/1000\n",
            "12/12 [==============================] - 0s 8ms/step - loss: 0.6808 - binary_accuracy: 0.5212 - val_loss: 0.6925 - val_binary_accuracy: 0.4689\n",
            "Epoch 146/1000\n",
            "12/12 [==============================] - 0s 7ms/step - loss: 0.6823 - binary_accuracy: 0.5412 - val_loss: 0.6960 - val_binary_accuracy: 0.4718\n",
            "Epoch 147/1000\n",
            "12/12 [==============================] - 0s 8ms/step - loss: 0.6782 - binary_accuracy: 0.5418 - val_loss: 0.6956 - val_binary_accuracy: 0.4746\n",
            "Epoch 148/1000\n",
            "12/12 [==============================] - 0s 7ms/step - loss: 0.6759 - binary_accuracy: 0.5553 - val_loss: 0.6921 - val_binary_accuracy: 0.5282\n",
            "Epoch 149/1000\n",
            "12/12 [==============================] - 0s 8ms/step - loss: 0.6752 - binary_accuracy: 0.5519 - val_loss: 0.7058 - val_binary_accuracy: 0.4802\n",
            "Epoch 150/1000\n",
            "12/12 [==============================] - 0s 7ms/step - loss: 0.7138 - binary_accuracy: 0.5307 - val_loss: 0.6921 - val_binary_accuracy: 0.4831\n",
            "Epoch 151/1000\n",
            "12/12 [==============================] - 0s 9ms/step - loss: 0.6794 - binary_accuracy: 0.5293 - val_loss: 0.6912 - val_binary_accuracy: 0.5141\n",
            "Epoch 152/1000\n",
            "12/12 [==============================] - 0s 11ms/step - loss: 0.6820 - binary_accuracy: 0.5388 - val_loss: 0.6916 - val_binary_accuracy: 0.5339\n",
            "Epoch 153/1000\n",
            "12/12 [==============================] - 0s 8ms/step - loss: 0.6735 - binary_accuracy: 0.5456 - val_loss: 0.6934 - val_binary_accuracy: 0.5028\n",
            "Epoch 154/1000\n",
            "12/12 [==============================] - 0s 8ms/step - loss: 0.6774 - binary_accuracy: 0.5564 - val_loss: 0.6933 - val_binary_accuracy: 0.5085\n",
            "Epoch 155/1000\n",
            "12/12 [==============================] - 0s 8ms/step - loss: 0.6707 - binary_accuracy: 0.5574 - val_loss: 0.6966 - val_binary_accuracy: 0.5254\n",
            "Epoch 156/1000\n",
            "12/12 [==============================] - 0s 9ms/step - loss: 0.6842 - binary_accuracy: 0.5201 - val_loss: 0.6957 - val_binary_accuracy: 0.4718\n",
            "Epoch 157/1000\n",
            "12/12 [==============================] - 0s 8ms/step - loss: 0.6778 - binary_accuracy: 0.5359 - val_loss: 0.6972 - val_binary_accuracy: 0.4774\n",
            "Epoch 158/1000\n",
            "12/12 [==============================] - 0s 8ms/step - loss: 0.6800 - binary_accuracy: 0.5071 - val_loss: 0.7002 - val_binary_accuracy: 0.4859\n",
            "Epoch 159/1000\n",
            "12/12 [==============================] - 0s 8ms/step - loss: 0.6790 - binary_accuracy: 0.5418 - val_loss: 0.6952 - val_binary_accuracy: 0.5056\n",
            "Epoch 160/1000\n",
            "12/12 [==============================] - 0s 9ms/step - loss: 0.6719 - binary_accuracy: 0.5374 - val_loss: 0.6987 - val_binary_accuracy: 0.4576\n",
            "Epoch 161/1000\n",
            "12/12 [==============================] - 0s 8ms/step - loss: 0.6856 - binary_accuracy: 0.5219 - val_loss: 0.6993 - val_binary_accuracy: 0.4605\n",
            "Epoch 162/1000\n",
            "12/12 [==============================] - 0s 8ms/step - loss: 0.6735 - binary_accuracy: 0.5549 - val_loss: 0.6934 - val_binary_accuracy: 0.4972\n",
            "Epoch 163/1000\n",
            "12/12 [==============================] - 0s 7ms/step - loss: 0.6804 - binary_accuracy: 0.5160 - val_loss: 0.6920 - val_binary_accuracy: 0.4972\n",
            "Epoch 164/1000\n",
            "12/12 [==============================] - 0s 28ms/step - loss: 0.6738 - binary_accuracy: 0.5450 - val_loss: 0.6933 - val_binary_accuracy: 0.4802\n",
            "Epoch 165/1000\n",
            "12/12 [==============================] - 0s 7ms/step - loss: 0.6746 - binary_accuracy: 0.5472 - val_loss: 0.6954 - val_binary_accuracy: 0.4831\n",
            "Epoch 166/1000\n",
            "12/12 [==============================] - 0s 8ms/step - loss: 0.6753 - binary_accuracy: 0.5455 - val_loss: 0.6947 - val_binary_accuracy: 0.4802\n",
            "Epoch 167/1000\n",
            "12/12 [==============================] - 0s 8ms/step - loss: 0.6752 - binary_accuracy: 0.5236 - val_loss: 0.6935 - val_binary_accuracy: 0.4859\n",
            "Epoch 168/1000\n",
            "12/12 [==============================] - 0s 8ms/step - loss: 0.6725 - binary_accuracy: 0.5494 - val_loss: 0.6948 - val_binary_accuracy: 0.4661\n",
            "Epoch 169/1000\n",
            "12/12 [==============================] - 0s 8ms/step - loss: 0.6769 - binary_accuracy: 0.5388 - val_loss: 0.6925 - val_binary_accuracy: 0.4689\n",
            "Epoch 170/1000\n",
            "12/12 [==============================] - 0s 8ms/step - loss: 0.6666 - binary_accuracy: 0.5736 - val_loss: 0.6930 - val_binary_accuracy: 0.4887\n",
            "Epoch 171/1000\n",
            "12/12 [==============================] - 0s 8ms/step - loss: 0.6823 - binary_accuracy: 0.5466 - val_loss: 0.6989 - val_binary_accuracy: 0.4802\n",
            "Epoch 172/1000\n",
            "12/12 [==============================] - 0s 8ms/step - loss: 0.6799 - binary_accuracy: 0.5484 - val_loss: 0.6990 - val_binary_accuracy: 0.4492\n",
            "Epoch 173/1000\n",
            "12/12 [==============================] - 0s 7ms/step - loss: 0.6746 - binary_accuracy: 0.5330 - val_loss: 0.6973 - val_binary_accuracy: 0.4661\n",
            "Epoch 174/1000\n",
            "12/12 [==============================] - 0s 7ms/step - loss: 0.6733 - binary_accuracy: 0.5496 - val_loss: 0.6929 - val_binary_accuracy: 0.4887\n",
            "Epoch 175/1000\n",
            "12/12 [==============================] - 0s 8ms/step - loss: 0.6735 - binary_accuracy: 0.5526 - val_loss: 0.6956 - val_binary_accuracy: 0.4831\n",
            "Epoch 176/1000\n",
            "12/12 [==============================] - 0s 8ms/step - loss: 0.6830 - binary_accuracy: 0.5177 - val_loss: 0.6980 - val_binary_accuracy: 0.4548\n",
            "Epoch 177/1000\n",
            "12/12 [==============================] - 0s 7ms/step - loss: 0.6741 - binary_accuracy: 0.5413 - val_loss: 0.6948 - val_binary_accuracy: 0.5169\n",
            "Epoch 178/1000\n",
            "12/12 [==============================] - 0s 7ms/step - loss: 0.6722 - binary_accuracy: 0.5360 - val_loss: 0.7008 - val_binary_accuracy: 0.4661\n",
            "Epoch 179/1000\n",
            "12/12 [==============================] - 0s 9ms/step - loss: 0.6763 - binary_accuracy: 0.5213 - val_loss: 0.6991 - val_binary_accuracy: 0.4576\n",
            "Epoch 180/1000\n",
            "12/12 [==============================] - 0s 9ms/step - loss: 0.6791 - binary_accuracy: 0.5257 - val_loss: 0.6979 - val_binary_accuracy: 0.4548\n",
            "Epoch 181/1000\n",
            "12/12 [==============================] - 0s 8ms/step - loss: 0.6745 - binary_accuracy: 0.5302 - val_loss: 0.6968 - val_binary_accuracy: 0.4605\n",
            "Epoch 182/1000\n",
            "12/12 [==============================] - 0s 8ms/step - loss: 0.6779 - binary_accuracy: 0.5358 - val_loss: 0.6934 - val_binary_accuracy: 0.4887\n",
            "Epoch 183/1000\n",
            "12/12 [==============================] - 0s 7ms/step - loss: 0.6783 - binary_accuracy: 0.5286 - val_loss: 0.6942 - val_binary_accuracy: 0.4859\n",
            "Epoch 184/1000\n",
            "12/12 [==============================] - 0s 8ms/step - loss: 0.6749 - binary_accuracy: 0.5328 - val_loss: 0.6950 - val_binary_accuracy: 0.4746\n",
            "Epoch 185/1000\n",
            "12/12 [==============================] - 0s 27ms/step - loss: 0.6656 - binary_accuracy: 0.5536 - val_loss: 0.6978 - val_binary_accuracy: 0.4689\n",
            "Epoch 186/1000\n",
            "12/12 [==============================] - 0s 8ms/step - loss: 0.6743 - binary_accuracy: 0.5285 - val_loss: 0.7024 - val_binary_accuracy: 0.4520\n",
            "Epoch 187/1000\n",
            "12/12 [==============================] - 0s 8ms/step - loss: 0.6721 - binary_accuracy: 0.5459 - val_loss: 0.6973 - val_binary_accuracy: 0.5141\n",
            "Epoch 188/1000\n",
            "12/12 [==============================] - 0s 8ms/step - loss: 0.6712 - binary_accuracy: 0.5394 - val_loss: 0.6947 - val_binary_accuracy: 0.5367\n",
            "Epoch 189/1000\n",
            "12/12 [==============================] - 0s 8ms/step - loss: 0.6738 - binary_accuracy: 0.5154 - val_loss: 0.6935 - val_binary_accuracy: 0.4746\n",
            "Epoch 190/1000\n",
            "12/12 [==============================] - 0s 7ms/step - loss: 0.6730 - binary_accuracy: 0.5690 - val_loss: 0.6975 - val_binary_accuracy: 0.4802\n",
            "Epoch 191/1000\n",
            "12/12 [==============================] - 0s 7ms/step - loss: 0.6778 - binary_accuracy: 0.5233 - val_loss: 0.6932 - val_binary_accuracy: 0.5282\n",
            "Epoch 192/1000\n",
            "12/12 [==============================] - 0s 7ms/step - loss: 0.6724 - binary_accuracy: 0.5614 - val_loss: 0.6926 - val_binary_accuracy: 0.5311\n",
            "Epoch 193/1000\n",
            "12/12 [==============================] - 0s 8ms/step - loss: 0.6719 - binary_accuracy: 0.5597 - val_loss: 0.6950 - val_binary_accuracy: 0.5198\n",
            "Epoch 194/1000\n",
            "12/12 [==============================] - 0s 7ms/step - loss: 0.6728 - binary_accuracy: 0.5359 - val_loss: 0.6941 - val_binary_accuracy: 0.5198\n",
            "Epoch 195/1000\n",
            "12/12 [==============================] - 0s 7ms/step - loss: 0.6726 - binary_accuracy: 0.5361 - val_loss: 0.6939 - val_binary_accuracy: 0.5085\n",
            "Epoch 196/1000\n",
            "12/12 [==============================] - 0s 10ms/step - loss: 0.6748 - binary_accuracy: 0.5658 - val_loss: 0.6914 - val_binary_accuracy: 0.5198\n",
            "Epoch 197/1000\n",
            "12/12 [==============================] - 0s 7ms/step - loss: 0.6805 - binary_accuracy: 0.5275 - val_loss: 0.6924 - val_binary_accuracy: 0.5056\n",
            "Epoch 198/1000\n",
            "12/12 [==============================] - 0s 8ms/step - loss: 0.6781 - binary_accuracy: 0.5267 - val_loss: 0.6970 - val_binary_accuracy: 0.4718\n",
            "Epoch 199/1000\n",
            "12/12 [==============================] - 0s 8ms/step - loss: 0.6744 - binary_accuracy: 0.5552 - val_loss: 0.6948 - val_binary_accuracy: 0.5000\n",
            "Epoch 200/1000\n",
            "12/12 [==============================] - 0s 7ms/step - loss: 0.6708 - binary_accuracy: 0.5381 - val_loss: 0.6902 - val_binary_accuracy: 0.5028\n",
            "Epoch 201/1000\n",
            "12/12 [==============================] - 0s 7ms/step - loss: 0.6796 - binary_accuracy: 0.5497 - val_loss: 0.6920 - val_binary_accuracy: 0.4944\n",
            "Epoch 202/1000\n",
            "12/12 [==============================] - 0s 8ms/step - loss: 0.6706 - binary_accuracy: 0.5414 - val_loss: 0.6977 - val_binary_accuracy: 0.4859\n",
            "Epoch 203/1000\n",
            "12/12 [==============================] - 0s 7ms/step - loss: 0.6765 - binary_accuracy: 0.5522 - val_loss: 0.6964 - val_binary_accuracy: 0.4774\n",
            "Epoch 204/1000\n",
            "12/12 [==============================] - 0s 7ms/step - loss: 0.6801 - binary_accuracy: 0.5142 - val_loss: 0.6967 - val_binary_accuracy: 0.4859\n",
            "Epoch 205/1000\n",
            "12/12 [==============================] - 0s 9ms/step - loss: 0.6708 - binary_accuracy: 0.5423 - val_loss: 0.6985 - val_binary_accuracy: 0.4520\n",
            "Epoch 206/1000\n",
            "12/12 [==============================] - 0s 8ms/step - loss: 0.6756 - binary_accuracy: 0.5267 - val_loss: 0.6966 - val_binary_accuracy: 0.4605\n",
            "Epoch 207/1000\n",
            "12/12 [==============================] - 0s 7ms/step - loss: 0.6682 - binary_accuracy: 0.5366 - val_loss: 0.6934 - val_binary_accuracy: 0.5085\n",
            "Epoch 208/1000\n",
            "12/12 [==============================] - 0s 9ms/step - loss: 0.6665 - binary_accuracy: 0.5520 - val_loss: 0.6942 - val_binary_accuracy: 0.4746\n",
            "Epoch 209/1000\n",
            "12/12 [==============================] - 0s 8ms/step - loss: 0.6744 - binary_accuracy: 0.5489 - val_loss: 0.6975 - val_binary_accuracy: 0.4972\n",
            "Epoch 210/1000\n",
            "12/12 [==============================] - 0s 9ms/step - loss: 0.6737 - binary_accuracy: 0.5184 - val_loss: 0.6973 - val_binary_accuracy: 0.4859\n",
            "Epoch 211/1000\n",
            "12/12 [==============================] - 0s 9ms/step - loss: 0.6668 - binary_accuracy: 0.5597 - val_loss: 0.6956 - val_binary_accuracy: 0.5141\n",
            "Epoch 212/1000\n",
            "12/12 [==============================] - 0s 7ms/step - loss: 0.6722 - binary_accuracy: 0.5376 - val_loss: 0.6954 - val_binary_accuracy: 0.4831\n",
            "Epoch 213/1000\n",
            "12/12 [==============================] - 0s 9ms/step - loss: 0.6659 - binary_accuracy: 0.5578 - val_loss: 0.7004 - val_binary_accuracy: 0.4520\n",
            "Epoch 214/1000\n",
            "12/12 [==============================] - 0s 8ms/step - loss: 0.6708 - binary_accuracy: 0.5350 - val_loss: 0.7010 - val_binary_accuracy: 0.4718\n",
            "Epoch 215/1000\n",
            "12/12 [==============================] - 0s 8ms/step - loss: 0.6736 - binary_accuracy: 0.5387 - val_loss: 0.7000 - val_binary_accuracy: 0.4605\n",
            "Epoch 216/1000\n",
            "12/12 [==============================] - 0s 9ms/step - loss: 0.6755 - binary_accuracy: 0.5390 - val_loss: 0.6950 - val_binary_accuracy: 0.5113\n",
            "Epoch 217/1000\n",
            "12/12 [==============================] - 0s 7ms/step - loss: 0.6730 - binary_accuracy: 0.5511 - val_loss: 0.6924 - val_binary_accuracy: 0.5311\n",
            "Epoch 218/1000\n",
            "12/12 [==============================] - 0s 8ms/step - loss: 0.6732 - binary_accuracy: 0.5361 - val_loss: 0.6953 - val_binary_accuracy: 0.5000\n",
            "Epoch 219/1000\n",
            "12/12 [==============================] - 0s 7ms/step - loss: 0.6807 - binary_accuracy: 0.5350 - val_loss: 0.7016 - val_binary_accuracy: 0.4661\n",
            "Epoch 220/1000\n",
            "12/12 [==============================] - 0s 28ms/step - loss: 0.6738 - binary_accuracy: 0.5460 - val_loss: 0.6972 - val_binary_accuracy: 0.4831\n",
            "Epoch 221/1000\n",
            "12/12 [==============================] - 0s 7ms/step - loss: 0.6731 - binary_accuracy: 0.5439 - val_loss: 0.7003 - val_binary_accuracy: 0.4689\n",
            "Epoch 222/1000\n",
            "12/12 [==============================] - 0s 8ms/step - loss: 0.6755 - binary_accuracy: 0.5364 - val_loss: 0.7010 - val_binary_accuracy: 0.4633\n",
            "Epoch 223/1000\n",
            "12/12 [==============================] - 0s 8ms/step - loss: 0.6753 - binary_accuracy: 0.5411 - val_loss: 0.7057 - val_binary_accuracy: 0.4633\n",
            "Epoch 224/1000\n",
            "12/12 [==============================] - 0s 8ms/step - loss: 0.6726 - binary_accuracy: 0.5483 - val_loss: 0.7063 - val_binary_accuracy: 0.4576\n",
            "Epoch 225/1000\n",
            "12/12 [==============================] - 0s 8ms/step - loss: 0.6789 - binary_accuracy: 0.5142 - val_loss: 0.7021 - val_binary_accuracy: 0.4633\n",
            "Epoch 226/1000\n",
            "12/12 [==============================] - 0s 8ms/step - loss: 0.6787 - binary_accuracy: 0.5114 - val_loss: 0.7005 - val_binary_accuracy: 0.4435\n",
            "Epoch 227/1000\n",
            "12/12 [==============================] - 0s 8ms/step - loss: 0.6793 - binary_accuracy: 0.5509 - val_loss: 0.6960 - val_binary_accuracy: 0.4605\n",
            "Epoch 228/1000\n",
            "12/12 [==============================] - 0s 9ms/step - loss: 0.6767 - binary_accuracy: 0.5336 - val_loss: 0.6970 - val_binary_accuracy: 0.4689\n",
            "Epoch 229/1000\n",
            "12/12 [==============================] - 0s 9ms/step - loss: 0.6690 - binary_accuracy: 0.5355 - val_loss: 0.6949 - val_binary_accuracy: 0.5028\n",
            "Epoch 230/1000\n",
            "12/12 [==============================] - 0s 8ms/step - loss: 0.6740 - binary_accuracy: 0.5350 - val_loss: 0.6956 - val_binary_accuracy: 0.4746\n",
            "Epoch 231/1000\n",
            "12/12 [==============================] - 0s 8ms/step - loss: 0.6699 - binary_accuracy: 0.5467 - val_loss: 0.6952 - val_binary_accuracy: 0.4774\n",
            "Epoch 232/1000\n",
            "12/12 [==============================] - 0s 8ms/step - loss: 0.6693 - binary_accuracy: 0.5353 - val_loss: 0.6952 - val_binary_accuracy: 0.4774\n",
            "Epoch 233/1000\n",
            "12/12 [==============================] - 0s 8ms/step - loss: 0.6718 - binary_accuracy: 0.5251 - val_loss: 0.7036 - val_binary_accuracy: 0.4633\n",
            "Epoch 234/1000\n",
            "12/12 [==============================] - 0s 8ms/step - loss: 0.6776 - binary_accuracy: 0.5230 - val_loss: 0.7013 - val_binary_accuracy: 0.4605\n",
            "Epoch 235/1000\n",
            "12/12 [==============================] - 0s 8ms/step - loss: 0.6690 - binary_accuracy: 0.5356 - val_loss: 0.7074 - val_binary_accuracy: 0.4689\n",
            "Epoch 236/1000\n",
            "12/12 [==============================] - 0s 7ms/step - loss: 0.6741 - binary_accuracy: 0.5374 - val_loss: 0.6959 - val_binary_accuracy: 0.4887\n",
            "Epoch 237/1000\n",
            "12/12 [==============================] - 0s 9ms/step - loss: 0.6859 - binary_accuracy: 0.5158 - val_loss: 0.6937 - val_binary_accuracy: 0.4633\n",
            "Epoch 238/1000\n",
            "12/12 [==============================] - 0s 8ms/step - loss: 0.6746 - binary_accuracy: 0.5369 - val_loss: 0.6965 - val_binary_accuracy: 0.4774\n",
            "Epoch 239/1000\n",
            "12/12 [==============================] - 0s 8ms/step - loss: 0.6739 - binary_accuracy: 0.5372 - val_loss: 0.7031 - val_binary_accuracy: 0.4576\n",
            "Epoch 240/1000\n",
            "12/12 [==============================] - 0s 7ms/step - loss: 0.6656 - binary_accuracy: 0.5497 - val_loss: 0.7031 - val_binary_accuracy: 0.4718\n",
            "Epoch 241/1000\n",
            "12/12 [==============================] - 0s 8ms/step - loss: 0.6700 - binary_accuracy: 0.5399 - val_loss: 0.6986 - val_binary_accuracy: 0.4746\n",
            "Epoch 242/1000\n",
            "12/12 [==============================] - 0s 8ms/step - loss: 0.6734 - binary_accuracy: 0.5387 - val_loss: 0.6959 - val_binary_accuracy: 0.4718\n",
            "Epoch 243/1000\n",
            "12/12 [==============================] - 0s 8ms/step - loss: 0.6661 - binary_accuracy: 0.5413 - val_loss: 0.6999 - val_binary_accuracy: 0.4887\n",
            "Epoch 244/1000\n",
            "12/12 [==============================] - 0s 8ms/step - loss: 0.6742 - binary_accuracy: 0.5285 - val_loss: 0.6970 - val_binary_accuracy: 0.5000\n",
            "Epoch 245/1000\n",
            "12/12 [==============================] - 0s 8ms/step - loss: 0.6691 - binary_accuracy: 0.5379 - val_loss: 0.6983 - val_binary_accuracy: 0.4774\n",
            "Epoch 246/1000\n",
            "12/12 [==============================] - 0s 8ms/step - loss: 0.6724 - binary_accuracy: 0.5322 - val_loss: 0.6955 - val_binary_accuracy: 0.4887\n",
            "Epoch 247/1000\n",
            "12/12 [==============================] - 0s 7ms/step - loss: 0.6663 - binary_accuracy: 0.5360 - val_loss: 0.6940 - val_binary_accuracy: 0.4859\n",
            "Epoch 248/1000\n",
            "12/12 [==============================] - 0s 30ms/step - loss: 0.6698 - binary_accuracy: 0.5420 - val_loss: 0.6974 - val_binary_accuracy: 0.4689\n",
            "Epoch 249/1000\n",
            "12/12 [==============================] - 0s 8ms/step - loss: 0.6724 - binary_accuracy: 0.5542 - val_loss: 0.6966 - val_binary_accuracy: 0.4887\n",
            "Epoch 250/1000\n",
            "12/12 [==============================] - 0s 8ms/step - loss: 0.6666 - binary_accuracy: 0.5237 - val_loss: 0.7020 - val_binary_accuracy: 0.4774\n",
            "Epoch 251/1000\n",
            "12/12 [==============================] - 0s 8ms/step - loss: 0.6706 - binary_accuracy: 0.5334 - val_loss: 0.7010 - val_binary_accuracy: 0.4774\n",
            "Epoch 252/1000\n",
            "12/12 [==============================] - 0s 8ms/step - loss: 0.6750 - binary_accuracy: 0.5360 - val_loss: 0.6970 - val_binary_accuracy: 0.4746\n",
            "Epoch 253/1000\n",
            "12/12 [==============================] - 0s 8ms/step - loss: 0.6577 - binary_accuracy: 0.5855 - val_loss: 0.6964 - val_binary_accuracy: 0.4661\n",
            "Epoch 254/1000\n",
            "12/12 [==============================] - 0s 8ms/step - loss: 0.6704 - binary_accuracy: 0.5465 - val_loss: 0.6947 - val_binary_accuracy: 0.4915\n",
            "Epoch 255/1000\n",
            "12/12 [==============================] - 0s 10ms/step - loss: 0.6666 - binary_accuracy: 0.5437 - val_loss: 0.7015 - val_binary_accuracy: 0.4718\n",
            "Epoch 256/1000\n",
            "12/12 [==============================] - 0s 8ms/step - loss: 0.6696 - binary_accuracy: 0.5594 - val_loss: 0.6973 - val_binary_accuracy: 0.4915\n",
            "Epoch 257/1000\n",
            "12/12 [==============================] - 0s 8ms/step - loss: 0.6700 - binary_accuracy: 0.5185 - val_loss: 0.6968 - val_binary_accuracy: 0.4972\n",
            "Epoch 258/1000\n",
            "12/12 [==============================] - 0s 8ms/step - loss: 0.6703 - binary_accuracy: 0.5444 - val_loss: 0.6982 - val_binary_accuracy: 0.4718\n",
            "Epoch 259/1000\n",
            "12/12 [==============================] - 0s 8ms/step - loss: 0.6691 - binary_accuracy: 0.5477 - val_loss: 0.6979 - val_binary_accuracy: 0.4887\n",
            "Epoch 260/1000\n",
            "12/12 [==============================] - 0s 8ms/step - loss: 0.6659 - binary_accuracy: 0.5434 - val_loss: 0.6972 - val_binary_accuracy: 0.4802\n",
            "Epoch 261/1000\n",
            "12/12 [==============================] - 0s 9ms/step - loss: 0.6664 - binary_accuracy: 0.5588 - val_loss: 0.6980 - val_binary_accuracy: 0.4944\n",
            "Epoch 262/1000\n",
            "12/12 [==============================] - 0s 8ms/step - loss: 0.6699 - binary_accuracy: 0.5323 - val_loss: 0.7056 - val_binary_accuracy: 0.4661\n",
            "Epoch 263/1000\n",
            "12/12 [==============================] - 0s 8ms/step - loss: 0.6768 - binary_accuracy: 0.5524 - val_loss: 0.7010 - val_binary_accuracy: 0.4887\n",
            "Epoch 264/1000\n",
            "12/12 [==============================] - 0s 9ms/step - loss: 0.6717 - binary_accuracy: 0.5444 - val_loss: 0.6980 - val_binary_accuracy: 0.5395\n",
            "Epoch 265/1000\n",
            "12/12 [==============================] - 0s 8ms/step - loss: 0.6751 - binary_accuracy: 0.5376 - val_loss: 0.6989 - val_binary_accuracy: 0.5028\n",
            "Epoch 266/1000\n",
            "12/12 [==============================] - 0s 8ms/step - loss: 0.6628 - binary_accuracy: 0.5458 - val_loss: 0.7026 - val_binary_accuracy: 0.4915\n",
            "Epoch 267/1000\n",
            "12/12 [==============================] - 0s 8ms/step - loss: 0.6700 - binary_accuracy: 0.5379 - val_loss: 0.7078 - val_binary_accuracy: 0.4944\n",
            "Epoch 268/1000\n",
            "12/12 [==============================] - 0s 8ms/step - loss: 0.6695 - binary_accuracy: 0.5504 - val_loss: 0.7037 - val_binary_accuracy: 0.4887\n",
            "Epoch 269/1000\n",
            "12/12 [==============================] - 0s 8ms/step - loss: 0.6656 - binary_accuracy: 0.5356 - val_loss: 0.7053 - val_binary_accuracy: 0.4859\n",
            "Epoch 270/1000\n",
            "12/12 [==============================] - 0s 9ms/step - loss: 0.6644 - binary_accuracy: 0.5528 - val_loss: 0.7032 - val_binary_accuracy: 0.4887\n",
            "Epoch 271/1000\n",
            "12/12 [==============================] - 0s 8ms/step - loss: 0.6694 - binary_accuracy: 0.5365 - val_loss: 0.7058 - val_binary_accuracy: 0.4746\n",
            "Epoch 272/1000\n",
            "12/12 [==============================] - 0s 27ms/step - loss: 0.6724 - binary_accuracy: 0.5532 - val_loss: 0.7016 - val_binary_accuracy: 0.4802\n",
            "Epoch 273/1000\n",
            "12/12 [==============================] - 0s 9ms/step - loss: 0.6663 - binary_accuracy: 0.5465 - val_loss: 0.6986 - val_binary_accuracy: 0.5226\n",
            "Epoch 274/1000\n",
            "12/12 [==============================] - 0s 8ms/step - loss: 0.6664 - binary_accuracy: 0.5329 - val_loss: 0.7058 - val_binary_accuracy: 0.4718\n",
            "Epoch 275/1000\n",
            " 1/12 [=>............................] - ETA: 0s - loss: 0.6771 - binary_accuracy: 0.5312"
          ],
          "name": "stdout"
        },
        {
          "output_type": "error",
          "ename": "KeyboardInterrupt",
          "evalue": "ignored",
          "traceback": [
            "\u001b[0;31m---------------------------------------------------------------------------\u001b[0m",
            "\u001b[0;31mKeyboardInterrupt\u001b[0m                         Traceback (most recent call last)",
            "\u001b[0;32m<ipython-input-73-6a2ee4bc9b52>\u001b[0m in \u001b[0;36m<module>\u001b[0;34m()\u001b[0m\n\u001b[1;32m      2\u001b[0m                     \u001b[0mbatch_size\u001b[0m\u001b[0;34m=\u001b[0m\u001b[0;36m128\u001b[0m\u001b[0;34m,\u001b[0m\u001b[0;34m\u001b[0m\u001b[0;34m\u001b[0m\u001b[0m\n\u001b[1;32m      3\u001b[0m                     \u001b[0mepochs\u001b[0m\u001b[0;34m=\u001b[0m\u001b[0;36m1000\u001b[0m\u001b[0;34m,\u001b[0m\u001b[0;34m\u001b[0m\u001b[0;34m\u001b[0m\u001b[0m\n\u001b[0;32m----> 4\u001b[0;31m                    validation_data=(Xval, yval))\n\u001b[0m",
            "\u001b[0;32m/usr/local/lib/python3.6/dist-packages/tensorflow/python/keras/engine/training.py\u001b[0m in \u001b[0;36mfit\u001b[0;34m(self, x, y, batch_size, epochs, verbose, callbacks, validation_split, validation_data, shuffle, class_weight, sample_weight, initial_epoch, steps_per_epoch, validation_steps, validation_batch_size, validation_freq, max_queue_size, workers, use_multiprocessing)\u001b[0m\n\u001b[1;32m   1098\u001b[0m                 _r=1):\n\u001b[1;32m   1099\u001b[0m               \u001b[0mcallbacks\u001b[0m\u001b[0;34m.\u001b[0m\u001b[0mon_train_batch_begin\u001b[0m\u001b[0;34m(\u001b[0m\u001b[0mstep\u001b[0m\u001b[0;34m)\u001b[0m\u001b[0;34m\u001b[0m\u001b[0;34m\u001b[0m\u001b[0m\n\u001b[0;32m-> 1100\u001b[0;31m               \u001b[0mtmp_logs\u001b[0m \u001b[0;34m=\u001b[0m \u001b[0mself\u001b[0m\u001b[0;34m.\u001b[0m\u001b[0mtrain_function\u001b[0m\u001b[0;34m(\u001b[0m\u001b[0miterator\u001b[0m\u001b[0;34m)\u001b[0m\u001b[0;34m\u001b[0m\u001b[0;34m\u001b[0m\u001b[0m\n\u001b[0m\u001b[1;32m   1101\u001b[0m               \u001b[0;32mif\u001b[0m \u001b[0mdata_handler\u001b[0m\u001b[0;34m.\u001b[0m\u001b[0mshould_sync\u001b[0m\u001b[0;34m:\u001b[0m\u001b[0;34m\u001b[0m\u001b[0;34m\u001b[0m\u001b[0m\n\u001b[1;32m   1102\u001b[0m                 \u001b[0mcontext\u001b[0m\u001b[0;34m.\u001b[0m\u001b[0masync_wait\u001b[0m\u001b[0;34m(\u001b[0m\u001b[0;34m)\u001b[0m\u001b[0;34m\u001b[0m\u001b[0;34m\u001b[0m\u001b[0m\n",
            "\u001b[0;32m/usr/local/lib/python3.6/dist-packages/tensorflow/python/eager/def_function.py\u001b[0m in \u001b[0;36m__call__\u001b[0;34m(self, *args, **kwds)\u001b[0m\n\u001b[1;32m    826\u001b[0m     \u001b[0mtracing_count\u001b[0m \u001b[0;34m=\u001b[0m \u001b[0mself\u001b[0m\u001b[0;34m.\u001b[0m\u001b[0mexperimental_get_tracing_count\u001b[0m\u001b[0;34m(\u001b[0m\u001b[0;34m)\u001b[0m\u001b[0;34m\u001b[0m\u001b[0;34m\u001b[0m\u001b[0m\n\u001b[1;32m    827\u001b[0m     \u001b[0;32mwith\u001b[0m \u001b[0mtrace\u001b[0m\u001b[0;34m.\u001b[0m\u001b[0mTrace\u001b[0m\u001b[0;34m(\u001b[0m\u001b[0mself\u001b[0m\u001b[0;34m.\u001b[0m\u001b[0m_name\u001b[0m\u001b[0;34m)\u001b[0m \u001b[0;32mas\u001b[0m \u001b[0mtm\u001b[0m\u001b[0;34m:\u001b[0m\u001b[0;34m\u001b[0m\u001b[0;34m\u001b[0m\u001b[0m\n\u001b[0;32m--> 828\u001b[0;31m       \u001b[0mresult\u001b[0m \u001b[0;34m=\u001b[0m \u001b[0mself\u001b[0m\u001b[0;34m.\u001b[0m\u001b[0m_call\u001b[0m\u001b[0;34m(\u001b[0m\u001b[0;34m*\u001b[0m\u001b[0margs\u001b[0m\u001b[0;34m,\u001b[0m \u001b[0;34m**\u001b[0m\u001b[0mkwds\u001b[0m\u001b[0;34m)\u001b[0m\u001b[0;34m\u001b[0m\u001b[0;34m\u001b[0m\u001b[0m\n\u001b[0m\u001b[1;32m    829\u001b[0m       \u001b[0mcompiler\u001b[0m \u001b[0;34m=\u001b[0m \u001b[0;34m\"xla\"\u001b[0m \u001b[0;32mif\u001b[0m \u001b[0mself\u001b[0m\u001b[0;34m.\u001b[0m\u001b[0m_experimental_compile\u001b[0m \u001b[0;32melse\u001b[0m \u001b[0;34m\"nonXla\"\u001b[0m\u001b[0;34m\u001b[0m\u001b[0;34m\u001b[0m\u001b[0m\n\u001b[1;32m    830\u001b[0m       \u001b[0mnew_tracing_count\u001b[0m \u001b[0;34m=\u001b[0m \u001b[0mself\u001b[0m\u001b[0;34m.\u001b[0m\u001b[0mexperimental_get_tracing_count\u001b[0m\u001b[0;34m(\u001b[0m\u001b[0;34m)\u001b[0m\u001b[0;34m\u001b[0m\u001b[0;34m\u001b[0m\u001b[0m\n",
            "\u001b[0;32m/usr/local/lib/python3.6/dist-packages/tensorflow/python/eager/def_function.py\u001b[0m in \u001b[0;36m_call\u001b[0;34m(self, *args, **kwds)\u001b[0m\n\u001b[1;32m    853\u001b[0m       \u001b[0;31m# In this case we have created variables on the first call, so we run the\u001b[0m\u001b[0;34m\u001b[0m\u001b[0;34m\u001b[0m\u001b[0;34m\u001b[0m\u001b[0m\n\u001b[1;32m    854\u001b[0m       \u001b[0;31m# defunned version which is guaranteed to never create variables.\u001b[0m\u001b[0;34m\u001b[0m\u001b[0;34m\u001b[0m\u001b[0;34m\u001b[0m\u001b[0m\n\u001b[0;32m--> 855\u001b[0;31m       \u001b[0;32mreturn\u001b[0m \u001b[0mself\u001b[0m\u001b[0;34m.\u001b[0m\u001b[0m_stateless_fn\u001b[0m\u001b[0;34m(\u001b[0m\u001b[0;34m*\u001b[0m\u001b[0margs\u001b[0m\u001b[0;34m,\u001b[0m \u001b[0;34m**\u001b[0m\u001b[0mkwds\u001b[0m\u001b[0;34m)\u001b[0m  \u001b[0;31m# pylint: disable=not-callable\u001b[0m\u001b[0;34m\u001b[0m\u001b[0;34m\u001b[0m\u001b[0m\n\u001b[0m\u001b[1;32m    856\u001b[0m     \u001b[0;32melif\u001b[0m \u001b[0mself\u001b[0m\u001b[0;34m.\u001b[0m\u001b[0m_stateful_fn\u001b[0m \u001b[0;32mis\u001b[0m \u001b[0;32mnot\u001b[0m \u001b[0;32mNone\u001b[0m\u001b[0;34m:\u001b[0m\u001b[0;34m\u001b[0m\u001b[0;34m\u001b[0m\u001b[0m\n\u001b[1;32m    857\u001b[0m       \u001b[0;31m# Release the lock early so that multiple threads can perform the call\u001b[0m\u001b[0;34m\u001b[0m\u001b[0;34m\u001b[0m\u001b[0;34m\u001b[0m\u001b[0m\n",
            "\u001b[0;32m/usr/local/lib/python3.6/dist-packages/tensorflow/python/eager/function.py\u001b[0m in \u001b[0;36m__call__\u001b[0;34m(self, *args, **kwargs)\u001b[0m\n\u001b[1;32m   2941\u001b[0m        filtered_flat_args) = self._maybe_define_function(args, kwargs)\n\u001b[1;32m   2942\u001b[0m     return graph_function._call_flat(\n\u001b[0;32m-> 2943\u001b[0;31m         filtered_flat_args, captured_inputs=graph_function.captured_inputs)  # pylint: disable=protected-access\n\u001b[0m\u001b[1;32m   2944\u001b[0m \u001b[0;34m\u001b[0m\u001b[0m\n\u001b[1;32m   2945\u001b[0m   \u001b[0;34m@\u001b[0m\u001b[0mproperty\u001b[0m\u001b[0;34m\u001b[0m\u001b[0;34m\u001b[0m\u001b[0m\n",
            "\u001b[0;32m/usr/local/lib/python3.6/dist-packages/tensorflow/python/eager/function.py\u001b[0m in \u001b[0;36m_call_flat\u001b[0;34m(self, args, captured_inputs, cancellation_manager)\u001b[0m\n\u001b[1;32m   1917\u001b[0m       \u001b[0;31m# No tape is watching; skip to running the function.\u001b[0m\u001b[0;34m\u001b[0m\u001b[0;34m\u001b[0m\u001b[0;34m\u001b[0m\u001b[0m\n\u001b[1;32m   1918\u001b[0m       return self._build_call_outputs(self._inference_function.call(\n\u001b[0;32m-> 1919\u001b[0;31m           ctx, args, cancellation_manager=cancellation_manager))\n\u001b[0m\u001b[1;32m   1920\u001b[0m     forward_backward = self._select_forward_and_backward_functions(\n\u001b[1;32m   1921\u001b[0m         \u001b[0margs\u001b[0m\u001b[0;34m,\u001b[0m\u001b[0;34m\u001b[0m\u001b[0;34m\u001b[0m\u001b[0m\n",
            "\u001b[0;32m/usr/local/lib/python3.6/dist-packages/tensorflow/python/eager/function.py\u001b[0m in \u001b[0;36mcall\u001b[0;34m(self, ctx, args, cancellation_manager)\u001b[0m\n\u001b[1;32m    558\u001b[0m               \u001b[0minputs\u001b[0m\u001b[0;34m=\u001b[0m\u001b[0margs\u001b[0m\u001b[0;34m,\u001b[0m\u001b[0;34m\u001b[0m\u001b[0;34m\u001b[0m\u001b[0m\n\u001b[1;32m    559\u001b[0m               \u001b[0mattrs\u001b[0m\u001b[0;34m=\u001b[0m\u001b[0mattrs\u001b[0m\u001b[0;34m,\u001b[0m\u001b[0;34m\u001b[0m\u001b[0;34m\u001b[0m\u001b[0m\n\u001b[0;32m--> 560\u001b[0;31m               ctx=ctx)\n\u001b[0m\u001b[1;32m    561\u001b[0m         \u001b[0;32melse\u001b[0m\u001b[0;34m:\u001b[0m\u001b[0;34m\u001b[0m\u001b[0;34m\u001b[0m\u001b[0m\n\u001b[1;32m    562\u001b[0m           outputs = execute.execute_with_cancellation(\n",
            "\u001b[0;32m/usr/local/lib/python3.6/dist-packages/tensorflow/python/eager/execute.py\u001b[0m in \u001b[0;36mquick_execute\u001b[0;34m(op_name, num_outputs, inputs, attrs, ctx, name)\u001b[0m\n\u001b[1;32m     58\u001b[0m     \u001b[0mctx\u001b[0m\u001b[0;34m.\u001b[0m\u001b[0mensure_initialized\u001b[0m\u001b[0;34m(\u001b[0m\u001b[0;34m)\u001b[0m\u001b[0;34m\u001b[0m\u001b[0;34m\u001b[0m\u001b[0m\n\u001b[1;32m     59\u001b[0m     tensors = pywrap_tfe.TFE_Py_Execute(ctx._handle, device_name, op_name,\n\u001b[0;32m---> 60\u001b[0;31m                                         inputs, attrs, num_outputs)\n\u001b[0m\u001b[1;32m     61\u001b[0m   \u001b[0;32mexcept\u001b[0m \u001b[0mcore\u001b[0m\u001b[0;34m.\u001b[0m\u001b[0m_NotOkStatusException\u001b[0m \u001b[0;32mas\u001b[0m \u001b[0me\u001b[0m\u001b[0;34m:\u001b[0m\u001b[0;34m\u001b[0m\u001b[0;34m\u001b[0m\u001b[0m\n\u001b[1;32m     62\u001b[0m     \u001b[0;32mif\u001b[0m \u001b[0mname\u001b[0m \u001b[0;32mis\u001b[0m \u001b[0;32mnot\u001b[0m \u001b[0;32mNone\u001b[0m\u001b[0;34m:\u001b[0m\u001b[0;34m\u001b[0m\u001b[0;34m\u001b[0m\u001b[0m\n",
            "\u001b[0;31mKeyboardInterrupt\u001b[0m: "
          ]
        }
      ]
    },
    {
      "cell_type": "code",
      "metadata": {
        "colab": {
          "background_save": true
        },
        "id": "4P67yx3u-UIw",
        "outputId": "bb3058ab-218f-4243-8cbc-0a765f4ce72b"
      },
      "source": [
        "wv_from_ruscorp = KeyedVectors.load_word2vec_format(\"pytorch_model.bin\", binary=True)"
      ],
      "execution_count": null,
      "outputs": [
        {
          "output_type": "error",
          "ename": "UnicodeDecodeError",
          "evalue": "ignored",
          "traceback": [
            "\u001b[0;31m---------------------------------------------------------------------------\u001b[0m",
            "\u001b[0;31mUnicodeDecodeError\u001b[0m                        Traceback (most recent call last)",
            "\u001b[0;32m<ipython-input-20-f665da959308>\u001b[0m in \u001b[0;36m<module>\u001b[0;34m()\u001b[0m\n\u001b[0;32m----> 1\u001b[0;31m \u001b[0mwv_from_ruscorp\u001b[0m \u001b[0;34m=\u001b[0m \u001b[0mKeyedVectors\u001b[0m\u001b[0;34m.\u001b[0m\u001b[0mload_word2vec_format\u001b[0m\u001b[0;34m(\u001b[0m\u001b[0;34m\"drive/MyDrive/pytorch_model.bin\"\u001b[0m\u001b[0;34m,\u001b[0m \u001b[0mbinary\u001b[0m\u001b[0;34m=\u001b[0m\u001b[0;32mTrue\u001b[0m\u001b[0;34m)\u001b[0m\u001b[0;34m\u001b[0m\u001b[0;34m\u001b[0m\u001b[0m\n\u001b[0m",
            "\u001b[0;32m/usr/local/lib/python3.6/dist-packages/gensim/models/keyedvectors.py\u001b[0m in \u001b[0;36mload_word2vec_format\u001b[0;34m(cls, fname, fvocab, binary, encoding, unicode_errors, limit, datatype)\u001b[0m\n\u001b[1;32m   1436\u001b[0m         return _load_word2vec_format(\n\u001b[1;32m   1437\u001b[0m             \u001b[0mcls\u001b[0m\u001b[0;34m,\u001b[0m \u001b[0mfname\u001b[0m\u001b[0;34m,\u001b[0m \u001b[0mfvocab\u001b[0m\u001b[0;34m=\u001b[0m\u001b[0mfvocab\u001b[0m\u001b[0;34m,\u001b[0m \u001b[0mbinary\u001b[0m\u001b[0;34m=\u001b[0m\u001b[0mbinary\u001b[0m\u001b[0;34m,\u001b[0m \u001b[0mencoding\u001b[0m\u001b[0;34m=\u001b[0m\u001b[0mencoding\u001b[0m\u001b[0;34m,\u001b[0m \u001b[0municode_errors\u001b[0m\u001b[0;34m=\u001b[0m\u001b[0municode_errors\u001b[0m\u001b[0;34m,\u001b[0m\u001b[0;34m\u001b[0m\u001b[0;34m\u001b[0m\u001b[0m\n\u001b[0;32m-> 1438\u001b[0;31m             limit=limit, datatype=datatype)\n\u001b[0m\u001b[1;32m   1439\u001b[0m \u001b[0;34m\u001b[0m\u001b[0m\n\u001b[1;32m   1440\u001b[0m     \u001b[0;32mdef\u001b[0m \u001b[0mget_keras_embedding\u001b[0m\u001b[0;34m(\u001b[0m\u001b[0mself\u001b[0m\u001b[0;34m,\u001b[0m \u001b[0mtrain_embeddings\u001b[0m\u001b[0;34m=\u001b[0m\u001b[0;32mFalse\u001b[0m\u001b[0;34m)\u001b[0m\u001b[0;34m:\u001b[0m\u001b[0;34m\u001b[0m\u001b[0;34m\u001b[0m\u001b[0m\n",
            "\u001b[0;32m/usr/local/lib/python3.6/dist-packages/gensim/models/utils_any2vec.py\u001b[0m in \u001b[0;36m_load_word2vec_format\u001b[0;34m(cls, fname, fvocab, binary, encoding, unicode_errors, limit, datatype)\u001b[0m\n\u001b[1;32m    170\u001b[0m     \u001b[0mlogger\u001b[0m\u001b[0;34m.\u001b[0m\u001b[0minfo\u001b[0m\u001b[0;34m(\u001b[0m\u001b[0;34m\"loading projection weights from %s\"\u001b[0m\u001b[0;34m,\u001b[0m \u001b[0mfname\u001b[0m\u001b[0;34m)\u001b[0m\u001b[0;34m\u001b[0m\u001b[0;34m\u001b[0m\u001b[0m\n\u001b[1;32m    171\u001b[0m     \u001b[0;32mwith\u001b[0m \u001b[0mutils\u001b[0m\u001b[0;34m.\u001b[0m\u001b[0msmart_open\u001b[0m\u001b[0;34m(\u001b[0m\u001b[0mfname\u001b[0m\u001b[0;34m)\u001b[0m \u001b[0;32mas\u001b[0m \u001b[0mfin\u001b[0m\u001b[0;34m:\u001b[0m\u001b[0;34m\u001b[0m\u001b[0;34m\u001b[0m\u001b[0m\n\u001b[0;32m--> 172\u001b[0;31m         \u001b[0mheader\u001b[0m \u001b[0;34m=\u001b[0m \u001b[0mutils\u001b[0m\u001b[0;34m.\u001b[0m\u001b[0mto_unicode\u001b[0m\u001b[0;34m(\u001b[0m\u001b[0mfin\u001b[0m\u001b[0;34m.\u001b[0m\u001b[0mreadline\u001b[0m\u001b[0;34m(\u001b[0m\u001b[0;34m)\u001b[0m\u001b[0;34m,\u001b[0m \u001b[0mencoding\u001b[0m\u001b[0;34m=\u001b[0m\u001b[0mencoding\u001b[0m\u001b[0;34m)\u001b[0m\u001b[0;34m\u001b[0m\u001b[0;34m\u001b[0m\u001b[0m\n\u001b[0m\u001b[1;32m    173\u001b[0m         \u001b[0mvocab_size\u001b[0m\u001b[0;34m,\u001b[0m \u001b[0mvector_size\u001b[0m \u001b[0;34m=\u001b[0m \u001b[0;34m(\u001b[0m\u001b[0mint\u001b[0m\u001b[0;34m(\u001b[0m\u001b[0mx\u001b[0m\u001b[0;34m)\u001b[0m \u001b[0;32mfor\u001b[0m \u001b[0mx\u001b[0m \u001b[0;32min\u001b[0m \u001b[0mheader\u001b[0m\u001b[0;34m.\u001b[0m\u001b[0msplit\u001b[0m\u001b[0;34m(\u001b[0m\u001b[0;34m)\u001b[0m\u001b[0;34m)\u001b[0m  \u001b[0;31m# throws for invalid file format\u001b[0m\u001b[0;34m\u001b[0m\u001b[0;34m\u001b[0m\u001b[0m\n\u001b[1;32m    174\u001b[0m         \u001b[0;32mif\u001b[0m \u001b[0mlimit\u001b[0m\u001b[0;34m:\u001b[0m\u001b[0;34m\u001b[0m\u001b[0;34m\u001b[0m\u001b[0m\n",
            "\u001b[0;32m/usr/local/lib/python3.6/dist-packages/gensim/utils.py\u001b[0m in \u001b[0;36many2unicode\u001b[0;34m(text, encoding, errors)\u001b[0m\n\u001b[1;32m    353\u001b[0m     \u001b[0;32mif\u001b[0m \u001b[0misinstance\u001b[0m\u001b[0;34m(\u001b[0m\u001b[0mtext\u001b[0m\u001b[0;34m,\u001b[0m \u001b[0municode\u001b[0m\u001b[0;34m)\u001b[0m\u001b[0;34m:\u001b[0m\u001b[0;34m\u001b[0m\u001b[0;34m\u001b[0m\u001b[0m\n\u001b[1;32m    354\u001b[0m         \u001b[0;32mreturn\u001b[0m \u001b[0mtext\u001b[0m\u001b[0;34m\u001b[0m\u001b[0;34m\u001b[0m\u001b[0m\n\u001b[0;32m--> 355\u001b[0;31m     \u001b[0;32mreturn\u001b[0m \u001b[0municode\u001b[0m\u001b[0;34m(\u001b[0m\u001b[0mtext\u001b[0m\u001b[0;34m,\u001b[0m \u001b[0mencoding\u001b[0m\u001b[0;34m,\u001b[0m \u001b[0merrors\u001b[0m\u001b[0;34m=\u001b[0m\u001b[0merrors\u001b[0m\u001b[0;34m)\u001b[0m\u001b[0;34m\u001b[0m\u001b[0;34m\u001b[0m\u001b[0m\n\u001b[0m\u001b[1;32m    356\u001b[0m \u001b[0;34m\u001b[0m\u001b[0m\n\u001b[1;32m    357\u001b[0m \u001b[0;34m\u001b[0m\u001b[0m\n",
            "\u001b[0;31mUnicodeDecodeError\u001b[0m: 'utf-8' codec can't decode byte 0x80 in position 0: invalid start byte"
          ]
        }
      ]
    },
    {
      "cell_type": "code",
      "metadata": {
        "id": "H1aYsfo0NtxJ"
      },
      "source": [
        "def pre_trained_w2v(data, feature): # output - матрица средних эмбедингов, взятых из предобученного корпуса новостей на русском\n",
        "  data = data.reset_index(drop=True)\n",
        "\n",
        "  drive.mount('/content/drive')\n",
        "  zip_file = '/content/drive/My Drive/184.zip'  \n",
        "  z = zipfile.ZipFile(zip_file, 'r')\n",
        "  z.extractall()\n",
        "  print(os.listdir())\n",
        "\n",
        "  #model_t = api.load('ruscorpora_1_300_10.bin.gz', binary=True)\n",
        "  #model_t = api.load(\"word2vec-google-news-300\")\n",
        "\n",
        "  #model = word2vec.Word2Vec(lenta_data, size=300, window=7)\n",
        "  wv_from_ruscorp = KeyedVectors.load_word2vec_format(\"model.bin\", binary=True)\n",
        "\n",
        "  nltk.download('averaged_perceptron_tagger_ru')\n",
        "  nltk.download('punkt')\n",
        "\n",
        "  news_with_part_of_speech = []\n",
        "  news_w2v_mean = []\n",
        "\n",
        "  for i in range(data.shape[0]):\n",
        "  \n",
        "    tokens = nltk.word_tokenize(data[feature][i])\n",
        "    list_of_word_with_part_of_speech = nltk.pos_tag(tokens, lang = 'rus')\n",
        "    sent = ''\n",
        "    sent_w2v = np.zeros(300)\n",
        "    count = 0\n",
        "\n",
        "    for i in range(len(list_of_word_with_part_of_speech)): \n",
        "\n",
        "      if list_of_word_with_part_of_speech[i][1] == 'V':\n",
        "        sent = sent + ' ' + list_of_word_with_part_of_speech[i][0] + '_VERB'\n",
        "        try:\n",
        "          sent_w2v += wv_from_ruscorp.get_vector(list_of_word_with_part_of_speech[i][0] + '_VERB')\n",
        "          count +=1\n",
        "        except Exception:\n",
        "          continue\n",
        "\n",
        "      if list_of_word_with_part_of_speech[i][1] == 'S':\n",
        "        sent = sent + ' ' + list_of_word_with_part_of_speech[i][0] + '_NOUN'\n",
        "        try:\n",
        "          sent_w2v += wv_from_ruscorp.get_vector(list_of_word_with_part_of_speech[i][0] + '_NOUN')\n",
        "          count +=1\n",
        "        except Exception:\n",
        "          continue\n",
        "\n",
        "      if list_of_word_with_part_of_speech[i][1] == 'ADV':\n",
        "        sent = sent + ' ' + list_of_word_with_part_of_speech[i][0] + '_ADJ'\n",
        "        try:\n",
        "          sent_w2v += wv_from_ruscorp.get_vector(list_of_word_with_part_of_speech[i][0] + '_ADJ')\n",
        "          count +=1\n",
        "        except Exception:\n",
        "          continue\n",
        "\n",
        "    news_with_part_of_speech.append(sent)\n",
        "    news_w2v_mean.append(sent_w2v/count)\n",
        "\n",
        "  return news_w2v_mean"
      ],
      "execution_count": 74,
      "outputs": []
    },
    {
      "cell_type": "code",
      "metadata": {
        "id": "ZzEOssdPEiDL"
      },
      "source": [
        "data.reset_index(drop=True, inplace=True)"
      ],
      "execution_count": null,
      "outputs": []
    },
    {
      "cell_type": "code",
      "metadata": {
        "id": "8q4_hjHNTfIv"
      },
      "source": [
        "#rain_data, test_data, train_target, test_target = tt(data.clean_text_without_useless_words, data.target_1_day.fillna(0), shuffle=False, train_size=0.8)"
      ],
      "execution_count": null,
      "outputs": []
    },
    {
      "cell_type": "code",
      "metadata": {
        "id": "3c1zdnurEYFk"
      },
      "source": [
        "tokenizer = Tokenizer(num_words=8_000)\n",
        "\n",
        "tokenizer.fit_on_texts(data.clean_text_without_useless_words)"
      ],
      "execution_count": null,
      "outputs": []
    },
    {
      "cell_type": "code",
      "metadata": {
        "id": "BdkTEm5OQhlG"
      },
      "source": [
        "sequences = tokenizer.texts_to_sequences(data.clean_text_without_useless_words)"
      ],
      "execution_count": null,
      "outputs": []
    },
    {
      "cell_type": "code",
      "metadata": {
        "id": "tf3h989yRcsi"
      },
      "source": [
        "train = pad_sequences(sequences, maxlen=400)"
      ],
      "execution_count": null,
      "outputs": []
    },
    {
      "cell_type": "code",
      "metadata": {
        "id": "xyMLCYqiXdlM"
      },
      "source": [
        "# Делать токенайзер, потом последовательность и прогонять это все через эмбединг и лстм нет смысла, очень быстро переобучается, качество на трейне не растет вообще"
      ],
      "execution_count": null,
      "outputs": []
    },
    {
      "cell_type": "code",
      "metadata": {
        "id": "ImP5IzmtT7qN"
      },
      "source": [
        "model = Sequential()\n",
        "model.add(Embedding(8_000, 64, input_length=400))\n",
        "model.add(LSTM(128))\n",
        "model.add(Dense(1, activation='sigmoid'))"
      ],
      "execution_count": null,
      "outputs": []
    },
    {
      "cell_type": "code",
      "metadata": {
        "id": "zr_Y6UcVUDt6"
      },
      "source": [
        "model.compile(optimizer='adam', \n",
        "              loss='binary_crossentropy', \n",
        "              metrics=['accuracy'])"
      ],
      "execution_count": null,
      "outputs": []
    },
    {
      "cell_type": "code",
      "metadata": {
        "id": "NRBwncqOVb35"
      },
      "source": [
        "model_save_path = 'best_model.h5'\n",
        "checkpoint_callback = ModelCheckpoint(model_save_path, \n",
        "                                      monitor='val_accuracy',\n",
        "                                      save_best_only=True,\n",
        "                                      verbose=1)"
      ],
      "execution_count": null,
      "outputs": []
    },
    {
      "cell_type": "code",
      "metadata": {
        "colab": {
          "base_uri": "https://localhost:8080/",
          "height": 578
        },
        "id": "3NA-3hF7UJa6",
        "outputId": "8ba64218-180a-490e-e753-bd8a2b67bf6b"
      },
      "source": [
        "history = model.fit(train, \n",
        "                    data.target_1_day, \n",
        "                    epochs=5,\n",
        "                    batch_size=128,\n",
        "                    validation_split=0.1, \n",
        "                    callbacks=[checkpoint_callback])"
      ],
      "execution_count": null,
      "outputs": [
        {
          "output_type": "stream",
          "text": [
            "Epoch 1/5\n",
            "112/112 [==============================] - ETA: 0s - loss: 0.6931 - accuracy: 0.5044\n",
            "Epoch 00001: val_accuracy improved from -inf to 0.50346, saving model to best_model.h5\n",
            "112/112 [==============================] - 143s 1s/step - loss: 0.6931 - accuracy: 0.5044 - val_loss: nan - val_accuracy: 0.5035\n",
            "Epoch 2/5\n",
            "112/112 [==============================] - ETA: 0s - loss: 0.6536 - accuracy: 0.6271\n",
            "Epoch 00002: val_accuracy did not improve from 0.50346\n",
            "112/112 [==============================] - 145s 1s/step - loss: 0.6536 - accuracy: 0.6271 - val_loss: nan - val_accuracy: 0.4896\n",
            "Epoch 3/5\n",
            "112/112 [==============================] - ETA: 0s - loss: 0.5341 - accuracy: 0.7326\n",
            "Epoch 00003: val_accuracy did not improve from 0.50346\n",
            "112/112 [==============================] - 144s 1s/step - loss: 0.5341 - accuracy: 0.7326 - val_loss: nan - val_accuracy: 0.4884\n",
            "Epoch 4/5\n",
            " 30/112 [=======>......................] - ETA: 1:40 - loss: 0.3765 - accuracy: 0.8367"
          ],
          "name": "stdout"
        },
        {
          "output_type": "error",
          "ename": "KeyboardInterrupt",
          "evalue": "ignored",
          "traceback": [
            "\u001b[0;31m---------------------------------------------------------------------------\u001b[0m",
            "\u001b[0;31mKeyboardInterrupt\u001b[0m                         Traceback (most recent call last)",
            "\u001b[0;32m<ipython-input-153-b5fe3c073a98>\u001b[0m in \u001b[0;36m<module>\u001b[0;34m()\u001b[0m\n\u001b[1;32m      4\u001b[0m                     \u001b[0mbatch_size\u001b[0m\u001b[0;34m=\u001b[0m\u001b[0;36m128\u001b[0m\u001b[0;34m,\u001b[0m\u001b[0;34m\u001b[0m\u001b[0;34m\u001b[0m\u001b[0m\n\u001b[1;32m      5\u001b[0m                     \u001b[0mvalidation_split\u001b[0m\u001b[0;34m=\u001b[0m\u001b[0;36m0.1\u001b[0m\u001b[0;34m,\u001b[0m\u001b[0;34m\u001b[0m\u001b[0;34m\u001b[0m\u001b[0m\n\u001b[0;32m----> 6\u001b[0;31m                     callbacks=[checkpoint_callback])\n\u001b[0m",
            "\u001b[0;32m/usr/local/lib/python3.6/dist-packages/tensorflow/python/keras/engine/training.py\u001b[0m in \u001b[0;36m_method_wrapper\u001b[0;34m(self, *args, **kwargs)\u001b[0m\n\u001b[1;32m    106\u001b[0m   \u001b[0;32mdef\u001b[0m \u001b[0m_method_wrapper\u001b[0m\u001b[0;34m(\u001b[0m\u001b[0mself\u001b[0m\u001b[0;34m,\u001b[0m \u001b[0;34m*\u001b[0m\u001b[0margs\u001b[0m\u001b[0;34m,\u001b[0m \u001b[0;34m**\u001b[0m\u001b[0mkwargs\u001b[0m\u001b[0;34m)\u001b[0m\u001b[0;34m:\u001b[0m\u001b[0;34m\u001b[0m\u001b[0;34m\u001b[0m\u001b[0m\n\u001b[1;32m    107\u001b[0m     \u001b[0;32mif\u001b[0m \u001b[0;32mnot\u001b[0m \u001b[0mself\u001b[0m\u001b[0;34m.\u001b[0m\u001b[0m_in_multi_worker_mode\u001b[0m\u001b[0;34m(\u001b[0m\u001b[0;34m)\u001b[0m\u001b[0;34m:\u001b[0m  \u001b[0;31m# pylint: disable=protected-access\u001b[0m\u001b[0;34m\u001b[0m\u001b[0;34m\u001b[0m\u001b[0m\n\u001b[0;32m--> 108\u001b[0;31m       \u001b[0;32mreturn\u001b[0m \u001b[0mmethod\u001b[0m\u001b[0;34m(\u001b[0m\u001b[0mself\u001b[0m\u001b[0;34m,\u001b[0m \u001b[0;34m*\u001b[0m\u001b[0margs\u001b[0m\u001b[0;34m,\u001b[0m \u001b[0;34m**\u001b[0m\u001b[0mkwargs\u001b[0m\u001b[0;34m)\u001b[0m\u001b[0;34m\u001b[0m\u001b[0;34m\u001b[0m\u001b[0m\n\u001b[0m\u001b[1;32m    109\u001b[0m \u001b[0;34m\u001b[0m\u001b[0m\n\u001b[1;32m    110\u001b[0m     \u001b[0;31m# Running inside `run_distribute_coordinator` already.\u001b[0m\u001b[0;34m\u001b[0m\u001b[0;34m\u001b[0m\u001b[0;34m\u001b[0m\u001b[0m\n",
            "\u001b[0;32m/usr/local/lib/python3.6/dist-packages/tensorflow/python/keras/engine/training.py\u001b[0m in \u001b[0;36mfit\u001b[0;34m(self, x, y, batch_size, epochs, verbose, callbacks, validation_split, validation_data, shuffle, class_weight, sample_weight, initial_epoch, steps_per_epoch, validation_steps, validation_batch_size, validation_freq, max_queue_size, workers, use_multiprocessing)\u001b[0m\n\u001b[1;32m   1096\u001b[0m                 batch_size=batch_size):\n\u001b[1;32m   1097\u001b[0m               \u001b[0mcallbacks\u001b[0m\u001b[0;34m.\u001b[0m\u001b[0mon_train_batch_begin\u001b[0m\u001b[0;34m(\u001b[0m\u001b[0mstep\u001b[0m\u001b[0;34m)\u001b[0m\u001b[0;34m\u001b[0m\u001b[0;34m\u001b[0m\u001b[0m\n\u001b[0;32m-> 1098\u001b[0;31m               \u001b[0mtmp_logs\u001b[0m \u001b[0;34m=\u001b[0m \u001b[0mtrain_function\u001b[0m\u001b[0;34m(\u001b[0m\u001b[0miterator\u001b[0m\u001b[0;34m)\u001b[0m\u001b[0;34m\u001b[0m\u001b[0;34m\u001b[0m\u001b[0m\n\u001b[0m\u001b[1;32m   1099\u001b[0m               \u001b[0;32mif\u001b[0m \u001b[0mdata_handler\u001b[0m\u001b[0;34m.\u001b[0m\u001b[0mshould_sync\u001b[0m\u001b[0;34m:\u001b[0m\u001b[0;34m\u001b[0m\u001b[0;34m\u001b[0m\u001b[0m\n\u001b[1;32m   1100\u001b[0m                 \u001b[0mcontext\u001b[0m\u001b[0;34m.\u001b[0m\u001b[0masync_wait\u001b[0m\u001b[0;34m(\u001b[0m\u001b[0;34m)\u001b[0m\u001b[0;34m\u001b[0m\u001b[0;34m\u001b[0m\u001b[0m\n",
            "\u001b[0;32m/usr/local/lib/python3.6/dist-packages/tensorflow/python/eager/def_function.py\u001b[0m in \u001b[0;36m__call__\u001b[0;34m(self, *args, **kwds)\u001b[0m\n\u001b[1;32m    778\u001b[0m       \u001b[0;32melse\u001b[0m\u001b[0;34m:\u001b[0m\u001b[0;34m\u001b[0m\u001b[0;34m\u001b[0m\u001b[0m\n\u001b[1;32m    779\u001b[0m         \u001b[0mcompiler\u001b[0m \u001b[0;34m=\u001b[0m \u001b[0;34m\"nonXla\"\u001b[0m\u001b[0;34m\u001b[0m\u001b[0;34m\u001b[0m\u001b[0m\n\u001b[0;32m--> 780\u001b[0;31m         \u001b[0mresult\u001b[0m \u001b[0;34m=\u001b[0m \u001b[0mself\u001b[0m\u001b[0;34m.\u001b[0m\u001b[0m_call\u001b[0m\u001b[0;34m(\u001b[0m\u001b[0;34m*\u001b[0m\u001b[0margs\u001b[0m\u001b[0;34m,\u001b[0m \u001b[0;34m**\u001b[0m\u001b[0mkwds\u001b[0m\u001b[0;34m)\u001b[0m\u001b[0;34m\u001b[0m\u001b[0;34m\u001b[0m\u001b[0m\n\u001b[0m\u001b[1;32m    781\u001b[0m \u001b[0;34m\u001b[0m\u001b[0m\n\u001b[1;32m    782\u001b[0m       \u001b[0mnew_tracing_count\u001b[0m \u001b[0;34m=\u001b[0m \u001b[0mself\u001b[0m\u001b[0;34m.\u001b[0m\u001b[0m_get_tracing_count\u001b[0m\u001b[0;34m(\u001b[0m\u001b[0;34m)\u001b[0m\u001b[0;34m\u001b[0m\u001b[0;34m\u001b[0m\u001b[0m\n",
            "\u001b[0;32m/usr/local/lib/python3.6/dist-packages/tensorflow/python/eager/def_function.py\u001b[0m in \u001b[0;36m_call\u001b[0;34m(self, *args, **kwds)\u001b[0m\n\u001b[1;32m    805\u001b[0m       \u001b[0;31m# In this case we have created variables on the first call, so we run the\u001b[0m\u001b[0;34m\u001b[0m\u001b[0;34m\u001b[0m\u001b[0;34m\u001b[0m\u001b[0m\n\u001b[1;32m    806\u001b[0m       \u001b[0;31m# defunned version which is guaranteed to never create variables.\u001b[0m\u001b[0;34m\u001b[0m\u001b[0;34m\u001b[0m\u001b[0;34m\u001b[0m\u001b[0m\n\u001b[0;32m--> 807\u001b[0;31m       \u001b[0;32mreturn\u001b[0m \u001b[0mself\u001b[0m\u001b[0;34m.\u001b[0m\u001b[0m_stateless_fn\u001b[0m\u001b[0;34m(\u001b[0m\u001b[0;34m*\u001b[0m\u001b[0margs\u001b[0m\u001b[0;34m,\u001b[0m \u001b[0;34m**\u001b[0m\u001b[0mkwds\u001b[0m\u001b[0;34m)\u001b[0m  \u001b[0;31m# pylint: disable=not-callable\u001b[0m\u001b[0;34m\u001b[0m\u001b[0;34m\u001b[0m\u001b[0m\n\u001b[0m\u001b[1;32m    808\u001b[0m     \u001b[0;32melif\u001b[0m \u001b[0mself\u001b[0m\u001b[0;34m.\u001b[0m\u001b[0m_stateful_fn\u001b[0m \u001b[0;32mis\u001b[0m \u001b[0;32mnot\u001b[0m \u001b[0;32mNone\u001b[0m\u001b[0;34m:\u001b[0m\u001b[0;34m\u001b[0m\u001b[0;34m\u001b[0m\u001b[0m\n\u001b[1;32m    809\u001b[0m       \u001b[0;31m# Release the lock early so that multiple threads can perform the call\u001b[0m\u001b[0;34m\u001b[0m\u001b[0;34m\u001b[0m\u001b[0;34m\u001b[0m\u001b[0m\n",
            "\u001b[0;32m/usr/local/lib/python3.6/dist-packages/tensorflow/python/eager/function.py\u001b[0m in \u001b[0;36m__call__\u001b[0;34m(self, *args, **kwargs)\u001b[0m\n\u001b[1;32m   2827\u001b[0m     \u001b[0;32mwith\u001b[0m \u001b[0mself\u001b[0m\u001b[0;34m.\u001b[0m\u001b[0m_lock\u001b[0m\u001b[0;34m:\u001b[0m\u001b[0;34m\u001b[0m\u001b[0;34m\u001b[0m\u001b[0m\n\u001b[1;32m   2828\u001b[0m       \u001b[0mgraph_function\u001b[0m\u001b[0;34m,\u001b[0m \u001b[0margs\u001b[0m\u001b[0;34m,\u001b[0m \u001b[0mkwargs\u001b[0m \u001b[0;34m=\u001b[0m \u001b[0mself\u001b[0m\u001b[0;34m.\u001b[0m\u001b[0m_maybe_define_function\u001b[0m\u001b[0;34m(\u001b[0m\u001b[0margs\u001b[0m\u001b[0;34m,\u001b[0m \u001b[0mkwargs\u001b[0m\u001b[0;34m)\u001b[0m\u001b[0;34m\u001b[0m\u001b[0;34m\u001b[0m\u001b[0m\n\u001b[0;32m-> 2829\u001b[0;31m     \u001b[0;32mreturn\u001b[0m \u001b[0mgraph_function\u001b[0m\u001b[0;34m.\u001b[0m\u001b[0m_filtered_call\u001b[0m\u001b[0;34m(\u001b[0m\u001b[0margs\u001b[0m\u001b[0;34m,\u001b[0m \u001b[0mkwargs\u001b[0m\u001b[0;34m)\u001b[0m  \u001b[0;31m# pylint: disable=protected-access\u001b[0m\u001b[0;34m\u001b[0m\u001b[0;34m\u001b[0m\u001b[0m\n\u001b[0m\u001b[1;32m   2830\u001b[0m \u001b[0;34m\u001b[0m\u001b[0m\n\u001b[1;32m   2831\u001b[0m   \u001b[0;34m@\u001b[0m\u001b[0mproperty\u001b[0m\u001b[0;34m\u001b[0m\u001b[0;34m\u001b[0m\u001b[0m\n",
            "\u001b[0;32m/usr/local/lib/python3.6/dist-packages/tensorflow/python/eager/function.py\u001b[0m in \u001b[0;36m_filtered_call\u001b[0;34m(self, args, kwargs, cancellation_manager)\u001b[0m\n\u001b[1;32m   1846\u001b[0m                            resource_variable_ops.BaseResourceVariable))],\n\u001b[1;32m   1847\u001b[0m         \u001b[0mcaptured_inputs\u001b[0m\u001b[0;34m=\u001b[0m\u001b[0mself\u001b[0m\u001b[0;34m.\u001b[0m\u001b[0mcaptured_inputs\u001b[0m\u001b[0;34m,\u001b[0m\u001b[0;34m\u001b[0m\u001b[0;34m\u001b[0m\u001b[0m\n\u001b[0;32m-> 1848\u001b[0;31m         cancellation_manager=cancellation_manager)\n\u001b[0m\u001b[1;32m   1849\u001b[0m \u001b[0;34m\u001b[0m\u001b[0m\n\u001b[1;32m   1850\u001b[0m   \u001b[0;32mdef\u001b[0m \u001b[0m_call_flat\u001b[0m\u001b[0;34m(\u001b[0m\u001b[0mself\u001b[0m\u001b[0;34m,\u001b[0m \u001b[0margs\u001b[0m\u001b[0;34m,\u001b[0m \u001b[0mcaptured_inputs\u001b[0m\u001b[0;34m,\u001b[0m \u001b[0mcancellation_manager\u001b[0m\u001b[0;34m=\u001b[0m\u001b[0;32mNone\u001b[0m\u001b[0;34m)\u001b[0m\u001b[0;34m:\u001b[0m\u001b[0;34m\u001b[0m\u001b[0;34m\u001b[0m\u001b[0m\n",
            "\u001b[0;32m/usr/local/lib/python3.6/dist-packages/tensorflow/python/eager/function.py\u001b[0m in \u001b[0;36m_call_flat\u001b[0;34m(self, args, captured_inputs, cancellation_manager)\u001b[0m\n\u001b[1;32m   1922\u001b[0m       \u001b[0;31m# No tape is watching; skip to running the function.\u001b[0m\u001b[0;34m\u001b[0m\u001b[0;34m\u001b[0m\u001b[0;34m\u001b[0m\u001b[0m\n\u001b[1;32m   1923\u001b[0m       return self._build_call_outputs(self._inference_function.call(\n\u001b[0;32m-> 1924\u001b[0;31m           ctx, args, cancellation_manager=cancellation_manager))\n\u001b[0m\u001b[1;32m   1925\u001b[0m     forward_backward = self._select_forward_and_backward_functions(\n\u001b[1;32m   1926\u001b[0m         \u001b[0margs\u001b[0m\u001b[0;34m,\u001b[0m\u001b[0;34m\u001b[0m\u001b[0;34m\u001b[0m\u001b[0m\n",
            "\u001b[0;32m/usr/local/lib/python3.6/dist-packages/tensorflow/python/eager/function.py\u001b[0m in \u001b[0;36mcall\u001b[0;34m(self, ctx, args, cancellation_manager)\u001b[0m\n\u001b[1;32m    548\u001b[0m               \u001b[0minputs\u001b[0m\u001b[0;34m=\u001b[0m\u001b[0margs\u001b[0m\u001b[0;34m,\u001b[0m\u001b[0;34m\u001b[0m\u001b[0;34m\u001b[0m\u001b[0m\n\u001b[1;32m    549\u001b[0m               \u001b[0mattrs\u001b[0m\u001b[0;34m=\u001b[0m\u001b[0mattrs\u001b[0m\u001b[0;34m,\u001b[0m\u001b[0;34m\u001b[0m\u001b[0;34m\u001b[0m\u001b[0m\n\u001b[0;32m--> 550\u001b[0;31m               ctx=ctx)\n\u001b[0m\u001b[1;32m    551\u001b[0m         \u001b[0;32melse\u001b[0m\u001b[0;34m:\u001b[0m\u001b[0;34m\u001b[0m\u001b[0;34m\u001b[0m\u001b[0m\n\u001b[1;32m    552\u001b[0m           outputs = execute.execute_with_cancellation(\n",
            "\u001b[0;32m/usr/local/lib/python3.6/dist-packages/tensorflow/python/eager/execute.py\u001b[0m in \u001b[0;36mquick_execute\u001b[0;34m(op_name, num_outputs, inputs, attrs, ctx, name)\u001b[0m\n\u001b[1;32m     58\u001b[0m     \u001b[0mctx\u001b[0m\u001b[0;34m.\u001b[0m\u001b[0mensure_initialized\u001b[0m\u001b[0;34m(\u001b[0m\u001b[0;34m)\u001b[0m\u001b[0;34m\u001b[0m\u001b[0;34m\u001b[0m\u001b[0m\n\u001b[1;32m     59\u001b[0m     tensors = pywrap_tfe.TFE_Py_Execute(ctx._handle, device_name, op_name,\n\u001b[0;32m---> 60\u001b[0;31m                                         inputs, attrs, num_outputs)\n\u001b[0m\u001b[1;32m     61\u001b[0m   \u001b[0;32mexcept\u001b[0m \u001b[0mcore\u001b[0m\u001b[0;34m.\u001b[0m\u001b[0m_NotOkStatusException\u001b[0m \u001b[0;32mas\u001b[0m \u001b[0me\u001b[0m\u001b[0;34m:\u001b[0m\u001b[0;34m\u001b[0m\u001b[0;34m\u001b[0m\u001b[0m\n\u001b[1;32m     62\u001b[0m     \u001b[0;32mif\u001b[0m \u001b[0mname\u001b[0m \u001b[0;32mis\u001b[0m \u001b[0;32mnot\u001b[0m \u001b[0;32mNone\u001b[0m\u001b[0;34m:\u001b[0m\u001b[0;34m\u001b[0m\u001b[0;34m\u001b[0m\u001b[0m\n",
            "\u001b[0;31mKeyboardInterrupt\u001b[0m: "
          ]
        }
      ]
    },
    {
      "cell_type": "code",
      "metadata": {
        "colab": {
          "base_uri": "https://localhost:8080/"
        },
        "id": "UouuVvcaHqgo",
        "outputId": "7059ac93-a386-4920-c967-4194cdf8e5ca"
      },
      "source": [
        "from sklearn.feature_extraction.text import CountVectorizer\n",
        "\n",
        "cv1 = CountVectorizer()\n",
        "cv1.fit(train_data)\n",
        "\n",
        "cv2 = CountVectorizer()\n",
        "cv2.fit(test_data)\n",
        "\n",
        "print(\"Train Set Vocabulary Size:\", len(cv1.vocabulary_))\n",
        "print(\"Test Set Vocabulary Size:\", len(cv2.vocabulary_))\n",
        "print(\"Number of Words that occur in both:\", len(set(cv1.vocabulary_.keys()).intersection(set(cv2.vocabulary_.keys()))))"
      ],
      "execution_count": null,
      "outputs": [
        {
          "output_type": "stream",
          "text": [
            "Train Set Vocabulary Size: 8839\n",
            "Test Set Vocabulary Size: 8711\n",
            "Number of Words that occur in both: 8711\n"
          ],
          "name": "stdout"
        }
      ]
    },
    {
      "cell_type": "code",
      "metadata": {
        "colab": {
          "base_uri": "https://localhost:8080/",
          "height": 357
        },
        "id": "g3Zs5R0wDjIQ",
        "outputId": "0ee5fc36-2f6a-4b96-916e-fec4b2d74d37"
      },
      "source": [
        "EMBEDDING_FILE = \"../input/glove-global-vectors-for-word-representation/glove.6B.100d.txt\"\n",
        "EMBEDDING_DIM = 300\n",
        "\n",
        "all_words = set(cv1.vocabulary_.keys()).union(set(cv2.vocabulary_.keys()))\n",
        "\n",
        "def get_embedding():\n",
        "    embeddings_index = {}\n",
        "    #f = open(EMBEDDING_FILE)\n",
        "    for line in f:\n",
        "        values = line.split()\n",
        "        word = values[0]\n",
        "        if len(values) == EMBEDDING_DIM + 1 and word in all_words:\n",
        "            coefs = np.asarray(values[1:], dtype=\"float32\")\n",
        "            embeddings_index[word] = coefs\n",
        "    f.close()\n",
        "    return embeddings_index\n",
        "\n",
        "embeddings_index = get_embedding()\n",
        "print(\"Number of words that don't exist in GLOVE:\", len(all_words - set(embeddings_index)))"
      ],
      "execution_count": null,
      "outputs": [
        {
          "output_type": "error",
          "ename": "TypeError",
          "evalue": "ignored",
          "traceback": [
            "\u001b[0;31m---------------------------------------------------------------------------\u001b[0m",
            "\u001b[0;31mTypeError\u001b[0m                                 Traceback (most recent call last)",
            "\u001b[0;32m<ipython-input-73-f1b983a54911>\u001b[0m in \u001b[0;36m<module>\u001b[0;34m()\u001b[0m\n\u001b[1;32m     16\u001b[0m     \u001b[0;32mreturn\u001b[0m \u001b[0membeddings_index\u001b[0m\u001b[0;34m\u001b[0m\u001b[0;34m\u001b[0m\u001b[0m\n\u001b[1;32m     17\u001b[0m \u001b[0;34m\u001b[0m\u001b[0m\n\u001b[0;32m---> 18\u001b[0;31m \u001b[0membeddings_index\u001b[0m \u001b[0;34m=\u001b[0m \u001b[0mget_embedding\u001b[0m\u001b[0;34m(\u001b[0m\u001b[0;34m)\u001b[0m\u001b[0;34m\u001b[0m\u001b[0;34m\u001b[0m\u001b[0m\n\u001b[0m\u001b[1;32m     19\u001b[0m \u001b[0mprint\u001b[0m\u001b[0;34m(\u001b[0m\u001b[0;34m\"Number of words that don't exist in GLOVE:\"\u001b[0m\u001b[0;34m,\u001b[0m \u001b[0mlen\u001b[0m\u001b[0;34m(\u001b[0m\u001b[0mall_words\u001b[0m \u001b[0;34m-\u001b[0m \u001b[0mset\u001b[0m\u001b[0;34m(\u001b[0m\u001b[0membeddings_index\u001b[0m\u001b[0;34m)\u001b[0m\u001b[0;34m)\u001b[0m\u001b[0;34m)\u001b[0m\u001b[0;34m\u001b[0m\u001b[0;34m\u001b[0m\u001b[0m\n",
            "\u001b[0;32m<ipython-input-73-f1b983a54911>\u001b[0m in \u001b[0;36mget_embedding\u001b[0;34m()\u001b[0m\n\u001b[1;32m      7\u001b[0m     \u001b[0membeddings_index\u001b[0m \u001b[0;34m=\u001b[0m \u001b[0;34m{\u001b[0m\u001b[0;34m}\u001b[0m\u001b[0;34m\u001b[0m\u001b[0;34m\u001b[0m\u001b[0m\n\u001b[1;32m      8\u001b[0m     \u001b[0;31m#f = open(EMBEDDING_FILE)\u001b[0m\u001b[0;34m\u001b[0m\u001b[0;34m\u001b[0m\u001b[0;34m\u001b[0m\u001b[0m\n\u001b[0;32m----> 9\u001b[0;31m     \u001b[0;32mfor\u001b[0m \u001b[0mline\u001b[0m \u001b[0;32min\u001b[0m \u001b[0mmodel\u001b[0m\u001b[0;34m:\u001b[0m\u001b[0;34m\u001b[0m\u001b[0;34m\u001b[0m\u001b[0m\n\u001b[0m\u001b[1;32m     10\u001b[0m         \u001b[0mvalues\u001b[0m \u001b[0;34m=\u001b[0m \u001b[0mline\u001b[0m\u001b[0;34m.\u001b[0m\u001b[0msplit\u001b[0m\u001b[0;34m(\u001b[0m\u001b[0;34m)\u001b[0m\u001b[0;34m\u001b[0m\u001b[0;34m\u001b[0m\u001b[0m\n\u001b[1;32m     11\u001b[0m         \u001b[0mword\u001b[0m \u001b[0;34m=\u001b[0m \u001b[0mvalues\u001b[0m\u001b[0;34m[\u001b[0m\u001b[0;36m0\u001b[0m\u001b[0;34m]\u001b[0m\u001b[0;34m\u001b[0m\u001b[0;34m\u001b[0m\u001b[0m\n",
            "\u001b[0;32m/usr/local/lib/python3.6/dist-packages/gensim/models/keyedvectors.py\u001b[0m in \u001b[0;36m__getitem__\u001b[0;34m(self, entities)\u001b[0m\n\u001b[1;32m    337\u001b[0m             \u001b[0;32mreturn\u001b[0m \u001b[0mself\u001b[0m\u001b[0;34m.\u001b[0m\u001b[0mget_vector\u001b[0m\u001b[0;34m(\u001b[0m\u001b[0mentities\u001b[0m\u001b[0;34m)\u001b[0m\u001b[0;34m\u001b[0m\u001b[0;34m\u001b[0m\u001b[0m\n\u001b[1;32m    338\u001b[0m \u001b[0;34m\u001b[0m\u001b[0m\n\u001b[0;32m--> 339\u001b[0;31m         \u001b[0;32mreturn\u001b[0m \u001b[0mvstack\u001b[0m\u001b[0;34m(\u001b[0m\u001b[0;34m[\u001b[0m\u001b[0mself\u001b[0m\u001b[0;34m.\u001b[0m\u001b[0mget_vector\u001b[0m\u001b[0;34m(\u001b[0m\u001b[0mentity\u001b[0m\u001b[0;34m)\u001b[0m \u001b[0;32mfor\u001b[0m \u001b[0mentity\u001b[0m \u001b[0;32min\u001b[0m \u001b[0mentities\u001b[0m\u001b[0;34m]\u001b[0m\u001b[0;34m)\u001b[0m\u001b[0;34m\u001b[0m\u001b[0;34m\u001b[0m\u001b[0m\n\u001b[0m\u001b[1;32m    340\u001b[0m \u001b[0;34m\u001b[0m\u001b[0m\n\u001b[1;32m    341\u001b[0m     \u001b[0;32mdef\u001b[0m \u001b[0m__contains__\u001b[0m\u001b[0;34m(\u001b[0m\u001b[0mself\u001b[0m\u001b[0;34m,\u001b[0m \u001b[0mentity\u001b[0m\u001b[0;34m)\u001b[0m\u001b[0;34m:\u001b[0m\u001b[0;34m\u001b[0m\u001b[0;34m\u001b[0m\u001b[0m\n",
            "\u001b[0;31mTypeError\u001b[0m: 'int' object is not iterable"
          ]
        }
      ]
    },
    {
      "cell_type": "code",
      "metadata": {
        "id": "lgmYYziMG07W"
      },
      "source": [
        "import textblob"
      ],
      "execution_count": null,
      "outputs": []
    },
    {
      "cell_type": "code",
      "metadata": {
        "colab": {
          "base_uri": "https://localhost:8080/"
        },
        "id": "fCWBYnrpIxbp",
        "outputId": "06ead438-59e9-4ab7-973e-ef1354c7b4cb"
      },
      "source": [
        "enumerate(dictionary)"
      ],
      "execution_count": null,
      "outputs": [
        {
          "output_type": "execute_result",
          "data": {
            "text/plain": [
              "<enumerate at 0x7f0cec60d120>"
            ]
          },
          "metadata": {
            "tags": []
          },
          "execution_count": 76
        }
      ]
    },
    {
      "cell_type": "code",
      "metadata": {
        "id": "Fw6qPUt_E8Ug"
      },
      "source": [
        "MAX_SEQUENCE_LENGTH = 500\n",
        "\n",
        "tokenizer = Tokenizer()\n",
        "tokenizer.fit_on_texts(data.clean_text_without_useless_words)\n",
        "word_index = tokenizer.word_index\n",
        "\n",
        "nb_words = len(word_index) + 1\n",
        "embedding_matrix = np.random.rand(nb_words, EMBEDDING_DIM + 2)\n",
        "\n",
        "for i, word in enumerate(list(dictionary)):\n",
        "  try:\n",
        "      embedding_vector = model.get_vector(word)\n",
        "  except Exception:\n",
        "      embedding_vector = None\n",
        "\n",
        "  sent = textblob.TextBlob(word).sentiment\n",
        "  if embedding_vector is not None:\n",
        "      embedding_matrix[i] = np.append(embedding_vector, [sent.polarity, sent.subjectivity])\n",
        "  else:\n",
        "      embedding_matrix[i, -2:] = [sent.polarity, sent.subjectivity]\n",
        "        \n",
        "train_seq = pad_sequences(tokenizer.texts_to_sequences(train_data), maxlen=MAX_SEQUENCE_LENGTH)\n",
        "test_seq = pad_sequences(tokenizer.texts_to_sequences(test_data), maxlen=MAX_SEQUENCE_LENGTH)"
      ],
      "execution_count": null,
      "outputs": []
    },
    {
      "cell_type": "code",
      "metadata": {
        "id": "Dy9uG0QzDXo-"
      },
      "source": [
        "from keras.models import Model\n",
        "from keras.callbacks import EarlyStopping\n",
        "\n",
        "embedding_layer = Embedding(nb_words,\n",
        "                                EMBEDDING_DIM + 2,\n",
        "                                weights=[embedding_matrix],\n",
        "                                input_length=MAX_SEQUENCE_LENGTH,\n",
        "                                trainable=True)\n",
        "dropout = SpatialDropout1D(0.2)\n",
        "lstm_layer = LSTM(50)\n",
        "    \n",
        "seq_input = Input(shape=(MAX_SEQUENCE_LENGTH,), dtype=\"int32\")\n",
        "    \n",
        "phrase_vector = lstm_layer(dropout(embedding_layer(seq_input)))\n",
        "    \n",
        "feature_vector = phrase_vector\n",
        "feature_vector = Dense(50, activation=\"relu\")(feature_vector)\n",
        "feature_vector = Dense(20, activation=\"relu\")(feature_vector)\n",
        "    \n",
        "output = Dense(1, activation=\"softmax\")(feature_vector)\n",
        "    \n",
        "model = Model(inputs=[seq_input], outputs=output)"
      ],
      "execution_count": null,
      "outputs": []
    },
    {
      "cell_type": "code",
      "metadata": {
        "colab": {
          "base_uri": "https://localhost:8080/"
        },
        "id": "K2DIiNqtKZwA",
        "outputId": "0014158b-ce6b-4ce7-d7a4-9dd46d905c02"
      },
      "source": [
        "test_preds = np.zeros((test_data.shape[0], 5))\n",
        "    \n",
        "print(\"Building the model...\")\n",
        "model.compile(loss=\"categorical_crossentropy\", optimizer=\"nadam\", metrics=[\"acc\"])\n",
        "    \n",
        "early_stopping = EarlyStopping(monitor=\"val_acc\", patience=2, verbose=1)\n",
        "    \n",
        "print(\"Training the model...\")\n",
        "model.fit([train_seq, train_data], train_target, validation_data=([test_seq, test_data], test_target),\n",
        "              epochs=15, batch_size=1024, shuffle=True, callbacks=[early_stopping], verbose=1)\n",
        "    \n",
        "print(\"Predicting...\")\n",
        "#test_preds += model.predict([test_seq, test[dense_features]], batch_size=1024, verbose=1)\n",
        "print()\n",
        "    \n",
        "test_preds"
      ],
      "execution_count": null,
      "outputs": [
        {
          "output_type": "stream",
          "text": [
            "Building the model...\n",
            "Training the model...\n",
            "Epoch 1/15\n",
            "13/13 [==============================] - 82s 6s/step - loss: 0.0000e+00 - acc: 0.4910 - val_loss: 0.0000e+00 - val_acc: 0.5577\n",
            "Epoch 2/15\n",
            "13/13 [==============================] - 80s 6s/step - loss: 0.0000e+00 - acc: 0.4910 - val_loss: 0.0000e+00 - val_acc: 0.5577\n",
            "Epoch 3/15\n",
            "13/13 [==============================] - 80s 6s/step - loss: 0.0000e+00 - acc: 0.4910 - val_loss: 0.0000e+00 - val_acc: 0.5577\n",
            "Epoch 00003: early stopping\n",
            "Predicting...\n",
            "\n"
          ],
          "name": "stdout"
        },
        {
          "output_type": "execute_result",
          "data": {
            "text/plain": [
              "array([[0., 0., 0., 0., 0.],\n",
              "       [0., 0., 0., 0., 0.],\n",
              "       [0., 0., 0., 0., 0.],\n",
              "       ...,\n",
              "       [0., 0., 0., 0., 0.],\n",
              "       [0., 0., 0., 0., 0.],\n",
              "       [0., 0., 0., 0., 0.]])"
            ]
          },
          "metadata": {
            "tags": []
          },
          "execution_count": 119
        }
      ]
    },
    {
      "cell_type": "code",
      "metadata": {
        "id": "n3kyPw_PGT0d"
      },
      "source": [
        "#news_w2v_mean = pre_trained_w2v(data, 'clean_text_without_useless_words')"
      ],
      "execution_count": null,
      "outputs": []
    },
    {
      "cell_type": "code",
      "metadata": {
        "colab": {
          "base_uri": "https://localhost:8080/"
        },
        "id": "42WZ7SSBVpDm",
        "outputId": "a505c18a-b78e-4ac1-a0a7-f5f83c4f1898"
      },
      "source": [
        "xgb_clf = XGBClassifier(n_estimators=30)\n",
        "train_data, test_data, train_target, test_target = tt(np.array(news_w2v_mean), data.target_1_day.fillna(0), shuffle=False, train_size=0.8)\n",
        "\n",
        "xgb_clf.fit(train_data, train_target)\n",
        "print(accuracy_score(test_target, xgb_clf.predict(test_data)))\n",
        "\n",
        "log_reg = LogisticRegression()\n",
        "log_reg.fit(train_data, train_target)\n",
        "print(accuracy_score(test_target, log_reg.predict(test_data)))"
      ],
      "execution_count": null,
      "outputs": [
        {
          "output_type": "stream",
          "text": [
            "0.47783715812637534\n",
            "0.49481295190191765\n"
          ],
          "name": "stdout"
        }
      ]
    },
    {
      "cell_type": "code",
      "metadata": {
        "id": "ysjUDyhz7_mw"
      },
      "source": [
        "#def split(train, y, ratio):\n",
        "#    idx = round(train.shape[0] * ratio)\n",
        "#    return train[:idx, :], train[idx:, :], y[:idx], y[idx:]\n",
        "\n",
        "#y = data.target_1_day\n",
        "#Xtr, Xval, ytr, yval = split(np.array(news_w2v_mean), y, 0.8)"
      ],
      "execution_count": null,
      "outputs": []
    },
    {
      "cell_type": "code",
      "metadata": {
        "id": "Dvfz3u-cEe3S"
      },
      "source": [
        "#tokenizer = Tokenizer(num_words=10_000)\n",
        "#tokenizer.fit_on_texts(data.clean_text)\n",
        "#sequences = tokenizer.texts_to_sequences(data.clean_text)\n",
        "#seq = pad_sequences(sequences, 500)"
      ],
      "execution_count": null,
      "outputs": []
    },
    {
      "cell_type": "code",
      "metadata": {
        "id": "_gxcx2Zoeygb"
      },
      "source": [
        "#target_for_lstm = pd.DataFrame(np.where(data.target_1_day == 1, 1, 0), columns=['1'])\n",
        "#target_for_lstm['0'] = np.where(data.target_1_day == 0, 1, 0)"
      ],
      "execution_count": null,
      "outputs": []
    },
    {
      "cell_type": "code",
      "metadata": {
        "id": "GQApizNBLP1M"
      },
      "source": [
        "y = data.target_1_day\n",
        "Xtr, Xval, ytr, yval = split(seq, y, 0.8)"
      ],
      "execution_count": null,
      "outputs": []
    },
    {
      "cell_type": "code",
      "metadata": {
        "colab": {
          "base_uri": "https://localhost:8080/",
          "height": 323
        },
        "id": "ZcpbT3XIw50w",
        "outputId": "b4c8629d-8f5a-4c5f-8027-1af987d96178"
      },
      "source": [
        "#accuracy_score(yval, np.where(model.predict(Xval) > 0.5, 1, 0))\n",
        "# качество порядка 61% на РТС и обучение-тест 80% новостей РБК"
      ],
      "execution_count": null,
      "outputs": [
        {
          "output_type": "error",
          "ename": "ValueError",
          "evalue": "ignored",
          "traceback": [
            "\u001b[0;31m---------------------------------------------------------------------------\u001b[0m",
            "\u001b[0;31mValueError\u001b[0m                                Traceback (most recent call last)",
            "\u001b[0;32m<ipython-input-89-97aa9ee6a343>\u001b[0m in \u001b[0;36m<module>\u001b[0;34m()\u001b[0m\n\u001b[0;32m----> 1\u001b[0;31m \u001b[0maccuracy_score\u001b[0m\u001b[0;34m(\u001b[0m\u001b[0myval\u001b[0m\u001b[0;34m,\u001b[0m \u001b[0mnp\u001b[0m\u001b[0;34m.\u001b[0m\u001b[0mwhere\u001b[0m\u001b[0;34m(\u001b[0m\u001b[0mmodel\u001b[0m\u001b[0;34m.\u001b[0m\u001b[0mpredict\u001b[0m\u001b[0;34m(\u001b[0m\u001b[0mXval\u001b[0m\u001b[0;34m)\u001b[0m \u001b[0;34m>\u001b[0m \u001b[0;36m0.5\u001b[0m\u001b[0;34m,\u001b[0m \u001b[0;36m1\u001b[0m\u001b[0;34m,\u001b[0m \u001b[0;36m0\u001b[0m\u001b[0;34m)\u001b[0m\u001b[0;34m)\u001b[0m\u001b[0;34m\u001b[0m\u001b[0;34m\u001b[0m\u001b[0m\n\u001b[0m\u001b[1;32m      2\u001b[0m \u001b[0;31m# качество порядка 61% на РТС и обучение-тест 80% новостей РБК\u001b[0m\u001b[0;34m\u001b[0m\u001b[0;34m\u001b[0m\u001b[0;34m\u001b[0m\u001b[0m\n",
            "\u001b[0;32m/usr/local/lib/python3.6/dist-packages/sklearn/metrics/_classification.py\u001b[0m in \u001b[0;36maccuracy_score\u001b[0;34m(y_true, y_pred, normalize, sample_weight)\u001b[0m\n\u001b[1;32m    183\u001b[0m \u001b[0;34m\u001b[0m\u001b[0m\n\u001b[1;32m    184\u001b[0m     \u001b[0;31m# Compute accuracy for each possible representation\u001b[0m\u001b[0;34m\u001b[0m\u001b[0;34m\u001b[0m\u001b[0;34m\u001b[0m\u001b[0m\n\u001b[0;32m--> 185\u001b[0;31m     \u001b[0my_type\u001b[0m\u001b[0;34m,\u001b[0m \u001b[0my_true\u001b[0m\u001b[0;34m,\u001b[0m \u001b[0my_pred\u001b[0m \u001b[0;34m=\u001b[0m \u001b[0m_check_targets\u001b[0m\u001b[0;34m(\u001b[0m\u001b[0my_true\u001b[0m\u001b[0;34m,\u001b[0m \u001b[0my_pred\u001b[0m\u001b[0;34m)\u001b[0m\u001b[0;34m\u001b[0m\u001b[0;34m\u001b[0m\u001b[0m\n\u001b[0m\u001b[1;32m    186\u001b[0m     \u001b[0mcheck_consistent_length\u001b[0m\u001b[0;34m(\u001b[0m\u001b[0my_true\u001b[0m\u001b[0;34m,\u001b[0m \u001b[0my_pred\u001b[0m\u001b[0;34m,\u001b[0m \u001b[0msample_weight\u001b[0m\u001b[0;34m)\u001b[0m\u001b[0;34m\u001b[0m\u001b[0;34m\u001b[0m\u001b[0m\n\u001b[1;32m    187\u001b[0m     \u001b[0;32mif\u001b[0m \u001b[0my_type\u001b[0m\u001b[0;34m.\u001b[0m\u001b[0mstartswith\u001b[0m\u001b[0;34m(\u001b[0m\u001b[0;34m'multilabel'\u001b[0m\u001b[0;34m)\u001b[0m\u001b[0;34m:\u001b[0m\u001b[0;34m\u001b[0m\u001b[0;34m\u001b[0m\u001b[0m\n",
            "\u001b[0;32m/usr/local/lib/python3.6/dist-packages/sklearn/metrics/_classification.py\u001b[0m in \u001b[0;36m_check_targets\u001b[0;34m(y_true, y_pred)\u001b[0m\n\u001b[1;32m     79\u001b[0m     \"\"\"\n\u001b[1;32m     80\u001b[0m     \u001b[0mcheck_consistent_length\u001b[0m\u001b[0;34m(\u001b[0m\u001b[0my_true\u001b[0m\u001b[0;34m,\u001b[0m \u001b[0my_pred\u001b[0m\u001b[0;34m)\u001b[0m\u001b[0;34m\u001b[0m\u001b[0;34m\u001b[0m\u001b[0m\n\u001b[0;32m---> 81\u001b[0;31m     \u001b[0mtype_true\u001b[0m \u001b[0;34m=\u001b[0m \u001b[0mtype_of_target\u001b[0m\u001b[0;34m(\u001b[0m\u001b[0my_true\u001b[0m\u001b[0;34m)\u001b[0m\u001b[0;34m\u001b[0m\u001b[0;34m\u001b[0m\u001b[0m\n\u001b[0m\u001b[1;32m     82\u001b[0m     \u001b[0mtype_pred\u001b[0m \u001b[0;34m=\u001b[0m \u001b[0mtype_of_target\u001b[0m\u001b[0;34m(\u001b[0m\u001b[0my_pred\u001b[0m\u001b[0;34m)\u001b[0m\u001b[0;34m\u001b[0m\u001b[0;34m\u001b[0m\u001b[0m\n\u001b[1;32m     83\u001b[0m \u001b[0;34m\u001b[0m\u001b[0m\n",
            "\u001b[0;32m/usr/local/lib/python3.6/dist-packages/sklearn/utils/multiclass.py\u001b[0m in \u001b[0;36mtype_of_target\u001b[0;34m(y)\u001b[0m\n\u001b[1;32m    282\u001b[0m     \u001b[0;32mif\u001b[0m \u001b[0my\u001b[0m\u001b[0;34m.\u001b[0m\u001b[0mdtype\u001b[0m\u001b[0;34m.\u001b[0m\u001b[0mkind\u001b[0m \u001b[0;34m==\u001b[0m \u001b[0;34m'f'\u001b[0m \u001b[0;32mand\u001b[0m \u001b[0mnp\u001b[0m\u001b[0;34m.\u001b[0m\u001b[0many\u001b[0m\u001b[0;34m(\u001b[0m\u001b[0my\u001b[0m \u001b[0;34m!=\u001b[0m \u001b[0my\u001b[0m\u001b[0;34m.\u001b[0m\u001b[0mastype\u001b[0m\u001b[0;34m(\u001b[0m\u001b[0mint\u001b[0m\u001b[0;34m)\u001b[0m\u001b[0;34m)\u001b[0m\u001b[0;34m:\u001b[0m\u001b[0;34m\u001b[0m\u001b[0;34m\u001b[0m\u001b[0m\n\u001b[1;32m    283\u001b[0m         \u001b[0;31m# [.1, .2, 3] or [[.1, .2, 3]] or [[1., .2]] and not [1., 2., 3.]\u001b[0m\u001b[0;34m\u001b[0m\u001b[0;34m\u001b[0m\u001b[0;34m\u001b[0m\u001b[0m\n\u001b[0;32m--> 284\u001b[0;31m         \u001b[0m_assert_all_finite\u001b[0m\u001b[0;34m(\u001b[0m\u001b[0my\u001b[0m\u001b[0;34m)\u001b[0m\u001b[0;34m\u001b[0m\u001b[0;34m\u001b[0m\u001b[0m\n\u001b[0m\u001b[1;32m    285\u001b[0m         \u001b[0;32mreturn\u001b[0m \u001b[0;34m'continuous'\u001b[0m \u001b[0;34m+\u001b[0m \u001b[0msuffix\u001b[0m\u001b[0;34m\u001b[0m\u001b[0;34m\u001b[0m\u001b[0m\n\u001b[1;32m    286\u001b[0m \u001b[0;34m\u001b[0m\u001b[0m\n",
            "\u001b[0;32m/usr/local/lib/python3.6/dist-packages/sklearn/utils/validation.py\u001b[0m in \u001b[0;36m_assert_all_finite\u001b[0;34m(X, allow_nan, msg_dtype)\u001b[0m\n\u001b[1;32m     58\u001b[0m                     \u001b[0mmsg_err\u001b[0m\u001b[0;34m.\u001b[0m\u001b[0mformat\u001b[0m\u001b[0;34m\u001b[0m\u001b[0;34m\u001b[0m\u001b[0m\n\u001b[1;32m     59\u001b[0m                     (type_err,\n\u001b[0;32m---> 60\u001b[0;31m                      msg_dtype if msg_dtype is not None else X.dtype)\n\u001b[0m\u001b[1;32m     61\u001b[0m             )\n\u001b[1;32m     62\u001b[0m     \u001b[0;31m# for object dtype data, we only check for NaNs (GH-13254)\u001b[0m\u001b[0;34m\u001b[0m\u001b[0;34m\u001b[0m\u001b[0;34m\u001b[0m\u001b[0m\n",
            "\u001b[0;31mValueError\u001b[0m: Input contains NaN, infinity or a value too large for dtype('float64')."
          ]
        }
      ]
    },
    {
      "cell_type": "markdown",
      "metadata": {
        "id": "BK0JGcPtiaV7"
      },
      "source": [
        "### LSTM from kaggle"
      ]
    },
    {
      "cell_type": "code",
      "metadata": {
        "id": "Y9Z9AjH1ic5A"
      },
      "source": [
        "from keras.layers import Dense,Input,LSTM,Bidirectional,Activation,Conv1D,GRU\n",
        "from keras.callbacks import Callback\n",
        "from keras.layers import Dropout,Embedding,GlobalMaxPooling1D, MaxPooling1D, Add, Flatten\n",
        "from keras.preprocessing import text, sequence\n",
        "from keras.layers import GlobalAveragePooling1D, GlobalMaxPooling1D, concatenate, SpatialDropout1D\n",
        "from keras import initializers, regularizers, constraints, optimizers, layers, callbacks\n",
        "from keras.callbacks import EarlyStopping,ModelCheckpoint\n",
        "from keras.models import Model\n",
        "from keras.optimizers import Adam\n",
        "from sklearn.model_selection import train_test_split\n",
        "from sklearn.metrics import accuracy_score\n",
        "from sklearn.metrics import roc_auc_score"
      ],
      "execution_count": null,
      "outputs": []
    },
    {
      "cell_type": "code",
      "metadata": {
        "id": "PIx6DKNaikit"
      },
      "source": [
        "max_features=100000\n",
        "maxlen=150\n",
        "embed_size=300"
      ],
      "execution_count": null,
      "outputs": []
    },
    {
      "cell_type": "code",
      "metadata": {
        "id": "XzEfxHb3ink5"
      },
      "source": [
        "X_train, X_test, y_train, y_test = tt(data.clean_text, data.target_1_day, shuffle=False, train_size=0.8)"
      ],
      "execution_count": null,
      "outputs": []
    },
    {
      "cell_type": "code",
      "metadata": {
        "id": "-xod6FGWigG6"
      },
      "source": [
        "tok=text.Tokenizer(num_words=max_features,lower=True)\n",
        "tok.fit_on_texts(list(X_train)+list(X_test))\n",
        "X_train=tok.texts_to_sequences(X_train)\n",
        "X_test=tok.texts_to_sequences(X_test)\n",
        "x_train=sequence.pad_sequences(X_train,maxlen=maxlen)\n",
        "x_test=sequence.pad_sequences(X_test,maxlen=maxlen)"
      ],
      "execution_count": null,
      "outputs": []
    },
    {
      "cell_type": "code",
      "metadata": {
        "colab": {
          "base_uri": "https://localhost:8080/",
          "height": 34
        },
        "id": "CPGXlgqNlx0H",
        "outputId": "64d3d053-2639-4999-9572-038b849ce038"
      },
      "source": [
        "x_train.shape"
      ],
      "execution_count": null,
      "outputs": [
        {
          "output_type": "execute_result",
          "data": {
            "text/plain": [
              "(1417, 150)"
            ]
          },
          "metadata": {
            "tags": []
          },
          "execution_count": 90
        }
      ]
    },
    {
      "cell_type": "code",
      "metadata": {
        "id": "Byp0t_l7jTgJ"
      },
      "source": [
        "embeddings_index = {}\n",
        "with open('model.txt' ,encoding='utf8') as f:\n",
        "    for line in f:\n",
        "        values = line.rstrip().rsplit(' ')\n",
        "        word = values[0]\n",
        "        coefs = np.asarray(values[1:], dtype='float32')\n",
        "        embeddings_index[word] = coefs # Словарь слово_частьРечи - эмбеддинг"
      ],
      "execution_count": null,
      "outputs": []
    },
    {
      "cell_type": "code",
      "metadata": {
        "id": "SnYJ7_KFjWNU"
      },
      "source": [
        "word_index = tok.word_index\n",
        "num_words = min(max_features, len(word_index) + 1)\n",
        "embedding_matrix = np.zeros((num_words, embed_size))\n",
        "\n",
        "for word, i in word_index.items():\n",
        "    if i >= max_features:\n",
        "        continue\n",
        "        \n",
        "    embedding_vector = embeddings_index.get(word)\n",
        "\n",
        "    if embedding_vector is not None:\n",
        "        embedding_matrix[i] = embedding_vector"
      ],
      "execution_count": null,
      "outputs": []
    },
    {
      "cell_type": "code",
      "metadata": {
        "colab": {
          "base_uri": "https://localhost:8080/",
          "height": 374
        },
        "id": "G38L7gwwmPbW",
        "outputId": "50fa6702-fd91-40ca-d4b8-44c9759b68a7"
      },
      "source": [
        "sequence_input = Input(shape=(maxlen, ))\n",
        "x = Embedding(max_features, embed_size, weights=[embedding_matrix],trainable = False)(sequence_input)\n",
        "x = SpatialDropout1D(0.2)(x)\n",
        "x = Bidirectional(GRU(128, return_sequences=True,dropout=0.1,recurrent_dropout=0.1))(x)\n",
        "x = Conv1D(64, kernel_size = 3, padding = \"valid\", kernel_initializer = \"glorot_uniform\")(x)\n",
        "avg_pool = GlobalAveragePooling1D()(x)\n",
        "max_pool = GlobalMaxPooling1D()(x)\n",
        "x = concatenate([avg_pool, max_pool]) \n",
        "# x = Dense(128, activation='relu')(x)\n",
        "# x = Dropout(0.1)(x)\n",
        "preds = Dense(6, activation=\"sigmoid\")(x)\n",
        "model = Model(sequence_input, preds)\n",
        "model.compile(loss='binary_crossentropy',optimizer=Adam(lr=1e-3),metrics=['accuracy'])"
      ],
      "execution_count": null,
      "outputs": [
        {
          "output_type": "error",
          "ename": "ValueError",
          "evalue": "ignored",
          "traceback": [
            "\u001b[0;31m---------------------------------------------------------------------------\u001b[0m",
            "\u001b[0;31mValueError\u001b[0m                                Traceback (most recent call last)",
            "\u001b[0;32m<ipython-input-94-c49b18ae38f9>\u001b[0m in \u001b[0;36m<module>\u001b[0;34m()\u001b[0m\n\u001b[1;32m      1\u001b[0m \u001b[0msequence_input\u001b[0m \u001b[0;34m=\u001b[0m \u001b[0mInput\u001b[0m\u001b[0;34m(\u001b[0m\u001b[0mshape\u001b[0m\u001b[0;34m=\u001b[0m\u001b[0;34m(\u001b[0m\u001b[0mmaxlen\u001b[0m\u001b[0;34m,\u001b[0m \u001b[0;34m)\u001b[0m\u001b[0;34m)\u001b[0m\u001b[0;34m\u001b[0m\u001b[0;34m\u001b[0m\u001b[0m\n\u001b[0;32m----> 2\u001b[0;31m \u001b[0mx\u001b[0m \u001b[0;34m=\u001b[0m \u001b[0mEmbedding\u001b[0m\u001b[0;34m(\u001b[0m\u001b[0mmax_features\u001b[0m\u001b[0;34m,\u001b[0m \u001b[0membed_size\u001b[0m\u001b[0;34m,\u001b[0m \u001b[0mweights\u001b[0m\u001b[0;34m=\u001b[0m\u001b[0;34m[\u001b[0m\u001b[0membedding_matrix\u001b[0m\u001b[0;34m]\u001b[0m\u001b[0;34m,\u001b[0m\u001b[0mtrainable\u001b[0m \u001b[0;34m=\u001b[0m \u001b[0;32mFalse\u001b[0m\u001b[0;34m)\u001b[0m\u001b[0;34m(\u001b[0m\u001b[0msequence_input\u001b[0m\u001b[0;34m)\u001b[0m\u001b[0;34m\u001b[0m\u001b[0;34m\u001b[0m\u001b[0m\n\u001b[0m\u001b[1;32m      3\u001b[0m \u001b[0mx\u001b[0m \u001b[0;34m=\u001b[0m \u001b[0mSpatialDropout1D\u001b[0m\u001b[0;34m(\u001b[0m\u001b[0;36m0.2\u001b[0m\u001b[0;34m)\u001b[0m\u001b[0;34m(\u001b[0m\u001b[0mx\u001b[0m\u001b[0;34m)\u001b[0m\u001b[0;34m\u001b[0m\u001b[0;34m\u001b[0m\u001b[0m\n\u001b[1;32m      4\u001b[0m \u001b[0mx\u001b[0m \u001b[0;34m=\u001b[0m \u001b[0mBidirectional\u001b[0m\u001b[0;34m(\u001b[0m\u001b[0mGRU\u001b[0m\u001b[0;34m(\u001b[0m\u001b[0;36m128\u001b[0m\u001b[0;34m,\u001b[0m \u001b[0mreturn_sequences\u001b[0m\u001b[0;34m=\u001b[0m\u001b[0;32mTrue\u001b[0m\u001b[0;34m,\u001b[0m\u001b[0mdropout\u001b[0m\u001b[0;34m=\u001b[0m\u001b[0;36m0.1\u001b[0m\u001b[0;34m,\u001b[0m\u001b[0mrecurrent_dropout\u001b[0m\u001b[0;34m=\u001b[0m\u001b[0;36m0.1\u001b[0m\u001b[0;34m)\u001b[0m\u001b[0;34m)\u001b[0m\u001b[0;34m(\u001b[0m\u001b[0mx\u001b[0m\u001b[0;34m)\u001b[0m\u001b[0;34m\u001b[0m\u001b[0;34m\u001b[0m\u001b[0m\n\u001b[1;32m      5\u001b[0m \u001b[0mx\u001b[0m \u001b[0;34m=\u001b[0m \u001b[0mConv1D\u001b[0m\u001b[0;34m(\u001b[0m\u001b[0;36m64\u001b[0m\u001b[0;34m,\u001b[0m \u001b[0mkernel_size\u001b[0m \u001b[0;34m=\u001b[0m \u001b[0;36m3\u001b[0m\u001b[0;34m,\u001b[0m \u001b[0mpadding\u001b[0m \u001b[0;34m=\u001b[0m \u001b[0;34m\"valid\"\u001b[0m\u001b[0;34m,\u001b[0m \u001b[0mkernel_initializer\u001b[0m \u001b[0;34m=\u001b[0m \u001b[0;34m\"glorot_uniform\"\u001b[0m\u001b[0;34m)\u001b[0m\u001b[0;34m(\u001b[0m\u001b[0mx\u001b[0m\u001b[0;34m)\u001b[0m\u001b[0;34m\u001b[0m\u001b[0;34m\u001b[0m\u001b[0m\n",
            "\u001b[0;32m/usr/local/lib/python3.6/dist-packages/tensorflow/python/keras/engine/base_layer.py\u001b[0m in \u001b[0;36m__call__\u001b[0;34m(self, *args, **kwargs)\u001b[0m\n\u001b[1;32m    924\u001b[0m     \u001b[0;32mif\u001b[0m \u001b[0m_in_functional_construction_mode\u001b[0m\u001b[0;34m(\u001b[0m\u001b[0mself\u001b[0m\u001b[0;34m,\u001b[0m \u001b[0minputs\u001b[0m\u001b[0;34m,\u001b[0m \u001b[0margs\u001b[0m\u001b[0;34m,\u001b[0m \u001b[0mkwargs\u001b[0m\u001b[0;34m,\u001b[0m \u001b[0minput_list\u001b[0m\u001b[0;34m)\u001b[0m\u001b[0;34m:\u001b[0m\u001b[0;34m\u001b[0m\u001b[0;34m\u001b[0m\u001b[0m\n\u001b[1;32m    925\u001b[0m       return self._functional_construction_call(inputs, args, kwargs,\n\u001b[0;32m--> 926\u001b[0;31m                                                 input_list)\n\u001b[0m\u001b[1;32m    927\u001b[0m \u001b[0;34m\u001b[0m\u001b[0m\n\u001b[1;32m    928\u001b[0m     \u001b[0;31m# Maintains info about the `Layer.call` stack.\u001b[0m\u001b[0;34m\u001b[0m\u001b[0;34m\u001b[0m\u001b[0;34m\u001b[0m\u001b[0m\n",
            "\u001b[0;32m/usr/local/lib/python3.6/dist-packages/tensorflow/python/keras/engine/base_layer.py\u001b[0m in \u001b[0;36m_functional_construction_call\u001b[0;34m(self, inputs, args, kwargs, input_list)\u001b[0m\n\u001b[1;32m   1096\u001b[0m         \u001b[0;31m# Build layer if applicable (if the `build` method has been\u001b[0m\u001b[0;34m\u001b[0m\u001b[0;34m\u001b[0m\u001b[0;34m\u001b[0m\u001b[0m\n\u001b[1;32m   1097\u001b[0m         \u001b[0;31m# overridden).\u001b[0m\u001b[0;34m\u001b[0m\u001b[0;34m\u001b[0m\u001b[0;34m\u001b[0m\u001b[0m\n\u001b[0;32m-> 1098\u001b[0;31m         \u001b[0mself\u001b[0m\u001b[0;34m.\u001b[0m\u001b[0m_maybe_build\u001b[0m\u001b[0;34m(\u001b[0m\u001b[0minputs\u001b[0m\u001b[0;34m)\u001b[0m\u001b[0;34m\u001b[0m\u001b[0;34m\u001b[0m\u001b[0m\n\u001b[0m\u001b[1;32m   1099\u001b[0m         \u001b[0mcast_inputs\u001b[0m \u001b[0;34m=\u001b[0m \u001b[0mself\u001b[0m\u001b[0;34m.\u001b[0m\u001b[0m_maybe_cast_inputs\u001b[0m\u001b[0;34m(\u001b[0m\u001b[0minputs\u001b[0m\u001b[0;34m,\u001b[0m \u001b[0minput_list\u001b[0m\u001b[0;34m)\u001b[0m\u001b[0;34m\u001b[0m\u001b[0;34m\u001b[0m\u001b[0m\n\u001b[1;32m   1100\u001b[0m \u001b[0;34m\u001b[0m\u001b[0m\n",
            "\u001b[0;32m/usr/local/lib/python3.6/dist-packages/tensorflow/python/keras/engine/base_layer.py\u001b[0m in \u001b[0;36m_maybe_build\u001b[0;34m(self, inputs)\u001b[0m\n\u001b[1;32m   2653\u001b[0m           \u001b[0;31m# Using `init_scope` since we want variable assignment in\u001b[0m\u001b[0;34m\u001b[0m\u001b[0;34m\u001b[0m\u001b[0;34m\u001b[0m\u001b[0m\n\u001b[1;32m   2654\u001b[0m           \u001b[0;31m# `set_weights` to be treated like variable initialization.\u001b[0m\u001b[0;34m\u001b[0m\u001b[0;34m\u001b[0m\u001b[0;34m\u001b[0m\u001b[0m\n\u001b[0;32m-> 2655\u001b[0;31m           \u001b[0mself\u001b[0m\u001b[0;34m.\u001b[0m\u001b[0mset_weights\u001b[0m\u001b[0;34m(\u001b[0m\u001b[0mself\u001b[0m\u001b[0;34m.\u001b[0m\u001b[0m_initial_weights\u001b[0m\u001b[0;34m)\u001b[0m\u001b[0;34m\u001b[0m\u001b[0;34m\u001b[0m\u001b[0m\n\u001b[0m\u001b[1;32m   2656\u001b[0m       \u001b[0;32melse\u001b[0m\u001b[0;34m:\u001b[0m\u001b[0;34m\u001b[0m\u001b[0;34m\u001b[0m\u001b[0m\n\u001b[1;32m   2657\u001b[0m         \u001b[0mself\u001b[0m\u001b[0;34m.\u001b[0m\u001b[0mset_weights\u001b[0m\u001b[0;34m(\u001b[0m\u001b[0mself\u001b[0m\u001b[0;34m.\u001b[0m\u001b[0m_initial_weights\u001b[0m\u001b[0;34m)\u001b[0m\u001b[0;34m\u001b[0m\u001b[0;34m\u001b[0m\u001b[0m\n",
            "\u001b[0;32m/usr/local/lib/python3.6/dist-packages/tensorflow/python/keras/engine/base_layer.py\u001b[0m in \u001b[0;36mset_weights\u001b[0;34m(self, weights)\u001b[0m\n\u001b[1;32m   1824\u001b[0m           raise ValueError(\n\u001b[1;32m   1825\u001b[0m               \u001b[0;34m'Layer weight shape %s not compatible with provided weight '\u001b[0m\u001b[0;34m\u001b[0m\u001b[0;34m\u001b[0m\u001b[0m\n\u001b[0;32m-> 1826\u001b[0;31m               'shape %s' % (ref_shape, weight.shape))\n\u001b[0m\u001b[1;32m   1827\u001b[0m         \u001b[0mweight_value_tuples\u001b[0m\u001b[0;34m.\u001b[0m\u001b[0mappend\u001b[0m\u001b[0;34m(\u001b[0m\u001b[0;34m(\u001b[0m\u001b[0mparam\u001b[0m\u001b[0;34m,\u001b[0m \u001b[0mweight\u001b[0m\u001b[0;34m)\u001b[0m\u001b[0;34m)\u001b[0m\u001b[0;34m\u001b[0m\u001b[0;34m\u001b[0m\u001b[0m\n\u001b[1;32m   1828\u001b[0m         \u001b[0mweight_index\u001b[0m \u001b[0;34m+=\u001b[0m \u001b[0;36m1\u001b[0m\u001b[0;34m\u001b[0m\u001b[0;34m\u001b[0m\u001b[0m\n",
            "\u001b[0;31mValueError\u001b[0m: Layer weight shape (100000, 300) not compatible with provided weight shape (25026, 300)"
          ]
        }
      ]
    },
    {
      "cell_type": "code",
      "metadata": {
        "colab": {
          "base_uri": "https://localhost:8080/",
          "height": 197
        },
        "id": "NcLLj3awmWtm",
        "outputId": "8f260a85-c7cc-46f0-fb26-285e4d394479"
      },
      "source": [
        "batch_size = 128\n",
        "epochs = 4\n",
        "X_tra, X_val, y_tra, y_val = train_test_split(x_train, y_train, train_size=0.9, random_state=233)"
      ],
      "execution_count": null,
      "outputs": [
        {
          "output_type": "error",
          "ename": "NameError",
          "evalue": "ignored",
          "traceback": [
            "\u001b[0;31m---------------------------------------------------------------------------\u001b[0m",
            "\u001b[0;31mNameError\u001b[0m                                 Traceback (most recent call last)",
            "\u001b[0;32m<ipython-input-20-5cdcf8eb4f13>\u001b[0m in \u001b[0;36m<module>\u001b[0;34m()\u001b[0m\n\u001b[1;32m      1\u001b[0m \u001b[0mbatch_size\u001b[0m \u001b[0;34m=\u001b[0m \u001b[0;36m128\u001b[0m\u001b[0;34m\u001b[0m\u001b[0;34m\u001b[0m\u001b[0m\n\u001b[1;32m      2\u001b[0m \u001b[0mepochs\u001b[0m \u001b[0;34m=\u001b[0m \u001b[0;36m4\u001b[0m\u001b[0;34m\u001b[0m\u001b[0;34m\u001b[0m\u001b[0m\n\u001b[0;32m----> 3\u001b[0;31m \u001b[0mX_tra\u001b[0m\u001b[0;34m,\u001b[0m \u001b[0mX_val\u001b[0m\u001b[0;34m,\u001b[0m \u001b[0my_tra\u001b[0m\u001b[0;34m,\u001b[0m \u001b[0my_val\u001b[0m \u001b[0;34m=\u001b[0m \u001b[0mtrain_test_split\u001b[0m\u001b[0;34m(\u001b[0m\u001b[0mx_train\u001b[0m\u001b[0;34m,\u001b[0m \u001b[0my_train\u001b[0m\u001b[0;34m,\u001b[0m \u001b[0mtrain_size\u001b[0m\u001b[0;34m=\u001b[0m\u001b[0;36m0.9\u001b[0m\u001b[0;34m,\u001b[0m \u001b[0mrandom_state\u001b[0m\u001b[0;34m=\u001b[0m\u001b[0;36m233\u001b[0m\u001b[0;34m)\u001b[0m\u001b[0;34m\u001b[0m\u001b[0;34m\u001b[0m\u001b[0m\n\u001b[0m",
            "\u001b[0;31mNameError\u001b[0m: name 'train_test_split' is not defined"
          ]
        }
      ]
    },
    {
      "cell_type": "code",
      "metadata": {
        "colab": {
          "base_uri": "https://localhost:8080/",
          "height": 547
        },
        "id": "Qg-9P6f6mcOa",
        "outputId": "cad1a2b8-5fd7-4595-bc74-3957b227c0eb"
      },
      "source": [
        "model.fit(X_tra, y_tra, batch_size=batch_size, epochs=epochs, validation_data=(X_val, y_val), verbose=1)\n",
        "print('Predicting....')\n",
        "y_pred = model.predict(x_test,batch_size=1024,verbose=1)"
      ],
      "execution_count": null,
      "outputs": [
        {
          "output_type": "stream",
          "text": [
            "Epoch 1/4\n",
            "WARNING:tensorflow:Model was constructed with shape (None, 300) for input Tensor(\"embedding_7_input:0\", shape=(None, 300), dtype=float32), but it was called on an input with incompatible shape (None, 150).\n",
            "WARNING:tensorflow:Model was constructed with shape (None, 300) for input Tensor(\"embedding_7_input:0\", shape=(None, 300), dtype=float32), but it was called on an input with incompatible shape (None, 150).\n"
          ],
          "name": "stdout"
        },
        {
          "output_type": "error",
          "ename": "InvalidArgumentError",
          "evalue": "ignored",
          "traceback": [
            "\u001b[0;31m---------------------------------------------------------------------------\u001b[0m",
            "\u001b[0;31mInvalidArgumentError\u001b[0m                      Traceback (most recent call last)",
            "\u001b[0;32m<ipython-input-278-9ed25dd60e94>\u001b[0m in \u001b[0;36m<module>\u001b[0;34m()\u001b[0m\n\u001b[0;32m----> 1\u001b[0;31m \u001b[0mmodel\u001b[0m\u001b[0;34m.\u001b[0m\u001b[0mfit\u001b[0m\u001b[0;34m(\u001b[0m\u001b[0mX_tra\u001b[0m\u001b[0;34m,\u001b[0m \u001b[0my_tra\u001b[0m\u001b[0;34m,\u001b[0m \u001b[0mbatch_size\u001b[0m\u001b[0;34m=\u001b[0m\u001b[0mbatch_size\u001b[0m\u001b[0;34m,\u001b[0m \u001b[0mepochs\u001b[0m\u001b[0;34m=\u001b[0m\u001b[0mepochs\u001b[0m\u001b[0;34m,\u001b[0m \u001b[0mvalidation_data\u001b[0m\u001b[0;34m=\u001b[0m\u001b[0;34m(\u001b[0m\u001b[0mX_val\u001b[0m\u001b[0;34m,\u001b[0m \u001b[0my_val\u001b[0m\u001b[0;34m)\u001b[0m\u001b[0;34m,\u001b[0m \u001b[0mverbose\u001b[0m\u001b[0;34m=\u001b[0m\u001b[0;36m1\u001b[0m\u001b[0;34m)\u001b[0m\u001b[0;34m\u001b[0m\u001b[0;34m\u001b[0m\u001b[0m\n\u001b[0m\u001b[1;32m      2\u001b[0m \u001b[0mprint\u001b[0m\u001b[0;34m(\u001b[0m\u001b[0;34m'Predicting....'\u001b[0m\u001b[0;34m)\u001b[0m\u001b[0;34m\u001b[0m\u001b[0;34m\u001b[0m\u001b[0m\n\u001b[1;32m      3\u001b[0m \u001b[0my_pred\u001b[0m \u001b[0;34m=\u001b[0m \u001b[0mmodel\u001b[0m\u001b[0;34m.\u001b[0m\u001b[0mpredict\u001b[0m\u001b[0;34m(\u001b[0m\u001b[0mx_test\u001b[0m\u001b[0;34m,\u001b[0m\u001b[0mbatch_size\u001b[0m\u001b[0;34m=\u001b[0m\u001b[0;36m1024\u001b[0m\u001b[0;34m,\u001b[0m\u001b[0mverbose\u001b[0m\u001b[0;34m=\u001b[0m\u001b[0;36m1\u001b[0m\u001b[0;34m)\u001b[0m\u001b[0;34m\u001b[0m\u001b[0;34m\u001b[0m\u001b[0m\n",
            "\u001b[0;32m/usr/local/lib/python3.6/dist-packages/tensorflow/python/keras/engine/training.py\u001b[0m in \u001b[0;36m_method_wrapper\u001b[0;34m(self, *args, **kwargs)\u001b[0m\n\u001b[1;32m    106\u001b[0m   \u001b[0;32mdef\u001b[0m \u001b[0m_method_wrapper\u001b[0m\u001b[0;34m(\u001b[0m\u001b[0mself\u001b[0m\u001b[0;34m,\u001b[0m \u001b[0;34m*\u001b[0m\u001b[0margs\u001b[0m\u001b[0;34m,\u001b[0m \u001b[0;34m**\u001b[0m\u001b[0mkwargs\u001b[0m\u001b[0;34m)\u001b[0m\u001b[0;34m:\u001b[0m\u001b[0;34m\u001b[0m\u001b[0;34m\u001b[0m\u001b[0m\n\u001b[1;32m    107\u001b[0m     \u001b[0;32mif\u001b[0m \u001b[0;32mnot\u001b[0m \u001b[0mself\u001b[0m\u001b[0;34m.\u001b[0m\u001b[0m_in_multi_worker_mode\u001b[0m\u001b[0;34m(\u001b[0m\u001b[0;34m)\u001b[0m\u001b[0;34m:\u001b[0m  \u001b[0;31m# pylint: disable=protected-access\u001b[0m\u001b[0;34m\u001b[0m\u001b[0;34m\u001b[0m\u001b[0m\n\u001b[0;32m--> 108\u001b[0;31m       \u001b[0;32mreturn\u001b[0m \u001b[0mmethod\u001b[0m\u001b[0;34m(\u001b[0m\u001b[0mself\u001b[0m\u001b[0;34m,\u001b[0m \u001b[0;34m*\u001b[0m\u001b[0margs\u001b[0m\u001b[0;34m,\u001b[0m \u001b[0;34m**\u001b[0m\u001b[0mkwargs\u001b[0m\u001b[0;34m)\u001b[0m\u001b[0;34m\u001b[0m\u001b[0;34m\u001b[0m\u001b[0m\n\u001b[0m\u001b[1;32m    109\u001b[0m \u001b[0;34m\u001b[0m\u001b[0m\n\u001b[1;32m    110\u001b[0m     \u001b[0;31m# Running inside `run_distribute_coordinator` already.\u001b[0m\u001b[0;34m\u001b[0m\u001b[0;34m\u001b[0m\u001b[0;34m\u001b[0m\u001b[0m\n",
            "\u001b[0;32m/usr/local/lib/python3.6/dist-packages/tensorflow/python/keras/engine/training.py\u001b[0m in \u001b[0;36mfit\u001b[0;34m(self, x, y, batch_size, epochs, verbose, callbacks, validation_split, validation_data, shuffle, class_weight, sample_weight, initial_epoch, steps_per_epoch, validation_steps, validation_batch_size, validation_freq, max_queue_size, workers, use_multiprocessing)\u001b[0m\n\u001b[1;32m   1096\u001b[0m                 batch_size=batch_size):\n\u001b[1;32m   1097\u001b[0m               \u001b[0mcallbacks\u001b[0m\u001b[0;34m.\u001b[0m\u001b[0mon_train_batch_begin\u001b[0m\u001b[0;34m(\u001b[0m\u001b[0mstep\u001b[0m\u001b[0;34m)\u001b[0m\u001b[0;34m\u001b[0m\u001b[0;34m\u001b[0m\u001b[0m\n\u001b[0;32m-> 1098\u001b[0;31m               \u001b[0mtmp_logs\u001b[0m \u001b[0;34m=\u001b[0m \u001b[0mtrain_function\u001b[0m\u001b[0;34m(\u001b[0m\u001b[0miterator\u001b[0m\u001b[0;34m)\u001b[0m\u001b[0;34m\u001b[0m\u001b[0;34m\u001b[0m\u001b[0m\n\u001b[0m\u001b[1;32m   1099\u001b[0m               \u001b[0;32mif\u001b[0m \u001b[0mdata_handler\u001b[0m\u001b[0;34m.\u001b[0m\u001b[0mshould_sync\u001b[0m\u001b[0;34m:\u001b[0m\u001b[0;34m\u001b[0m\u001b[0;34m\u001b[0m\u001b[0m\n\u001b[1;32m   1100\u001b[0m                 \u001b[0mcontext\u001b[0m\u001b[0;34m.\u001b[0m\u001b[0masync_wait\u001b[0m\u001b[0;34m(\u001b[0m\u001b[0;34m)\u001b[0m\u001b[0;34m\u001b[0m\u001b[0;34m\u001b[0m\u001b[0m\n",
            "\u001b[0;32m/usr/local/lib/python3.6/dist-packages/tensorflow/python/eager/def_function.py\u001b[0m in \u001b[0;36m__call__\u001b[0;34m(self, *args, **kwds)\u001b[0m\n\u001b[1;32m    778\u001b[0m       \u001b[0;32melse\u001b[0m\u001b[0;34m:\u001b[0m\u001b[0;34m\u001b[0m\u001b[0;34m\u001b[0m\u001b[0m\n\u001b[1;32m    779\u001b[0m         \u001b[0mcompiler\u001b[0m \u001b[0;34m=\u001b[0m \u001b[0;34m\"nonXla\"\u001b[0m\u001b[0;34m\u001b[0m\u001b[0;34m\u001b[0m\u001b[0m\n\u001b[0;32m--> 780\u001b[0;31m         \u001b[0mresult\u001b[0m \u001b[0;34m=\u001b[0m \u001b[0mself\u001b[0m\u001b[0;34m.\u001b[0m\u001b[0m_call\u001b[0m\u001b[0;34m(\u001b[0m\u001b[0;34m*\u001b[0m\u001b[0margs\u001b[0m\u001b[0;34m,\u001b[0m \u001b[0;34m**\u001b[0m\u001b[0mkwds\u001b[0m\u001b[0;34m)\u001b[0m\u001b[0;34m\u001b[0m\u001b[0;34m\u001b[0m\u001b[0m\n\u001b[0m\u001b[1;32m    781\u001b[0m \u001b[0;34m\u001b[0m\u001b[0m\n\u001b[1;32m    782\u001b[0m       \u001b[0mnew_tracing_count\u001b[0m \u001b[0;34m=\u001b[0m \u001b[0mself\u001b[0m\u001b[0;34m.\u001b[0m\u001b[0m_get_tracing_count\u001b[0m\u001b[0;34m(\u001b[0m\u001b[0;34m)\u001b[0m\u001b[0;34m\u001b[0m\u001b[0;34m\u001b[0m\u001b[0m\n",
            "\u001b[0;32m/usr/local/lib/python3.6/dist-packages/tensorflow/python/eager/def_function.py\u001b[0m in \u001b[0;36m_call\u001b[0;34m(self, *args, **kwds)\u001b[0m\n\u001b[1;32m    838\u001b[0m         \u001b[0;31m# Lifting succeeded, so variables are initialized and we can run the\u001b[0m\u001b[0;34m\u001b[0m\u001b[0;34m\u001b[0m\u001b[0;34m\u001b[0m\u001b[0m\n\u001b[1;32m    839\u001b[0m         \u001b[0;31m# stateless function.\u001b[0m\u001b[0;34m\u001b[0m\u001b[0;34m\u001b[0m\u001b[0;34m\u001b[0m\u001b[0m\n\u001b[0;32m--> 840\u001b[0;31m         \u001b[0;32mreturn\u001b[0m \u001b[0mself\u001b[0m\u001b[0;34m.\u001b[0m\u001b[0m_stateless_fn\u001b[0m\u001b[0;34m(\u001b[0m\u001b[0;34m*\u001b[0m\u001b[0margs\u001b[0m\u001b[0;34m,\u001b[0m \u001b[0;34m**\u001b[0m\u001b[0mkwds\u001b[0m\u001b[0;34m)\u001b[0m\u001b[0;34m\u001b[0m\u001b[0;34m\u001b[0m\u001b[0m\n\u001b[0m\u001b[1;32m    841\u001b[0m     \u001b[0;32melse\u001b[0m\u001b[0;34m:\u001b[0m\u001b[0;34m\u001b[0m\u001b[0;34m\u001b[0m\u001b[0m\n\u001b[1;32m    842\u001b[0m       \u001b[0mcanon_args\u001b[0m\u001b[0;34m,\u001b[0m \u001b[0mcanon_kwds\u001b[0m \u001b[0;34m=\u001b[0m\u001b[0;31m \u001b[0m\u001b[0;31m\\\u001b[0m\u001b[0;34m\u001b[0m\u001b[0;34m\u001b[0m\u001b[0m\n",
            "\u001b[0;32m/usr/local/lib/python3.6/dist-packages/tensorflow/python/eager/function.py\u001b[0m in \u001b[0;36m__call__\u001b[0;34m(self, *args, **kwargs)\u001b[0m\n\u001b[1;32m   2827\u001b[0m     \u001b[0;32mwith\u001b[0m \u001b[0mself\u001b[0m\u001b[0;34m.\u001b[0m\u001b[0m_lock\u001b[0m\u001b[0;34m:\u001b[0m\u001b[0;34m\u001b[0m\u001b[0;34m\u001b[0m\u001b[0m\n\u001b[1;32m   2828\u001b[0m       \u001b[0mgraph_function\u001b[0m\u001b[0;34m,\u001b[0m \u001b[0margs\u001b[0m\u001b[0;34m,\u001b[0m \u001b[0mkwargs\u001b[0m \u001b[0;34m=\u001b[0m \u001b[0mself\u001b[0m\u001b[0;34m.\u001b[0m\u001b[0m_maybe_define_function\u001b[0m\u001b[0;34m(\u001b[0m\u001b[0margs\u001b[0m\u001b[0;34m,\u001b[0m \u001b[0mkwargs\u001b[0m\u001b[0;34m)\u001b[0m\u001b[0;34m\u001b[0m\u001b[0;34m\u001b[0m\u001b[0m\n\u001b[0;32m-> 2829\u001b[0;31m     \u001b[0;32mreturn\u001b[0m \u001b[0mgraph_function\u001b[0m\u001b[0;34m.\u001b[0m\u001b[0m_filtered_call\u001b[0m\u001b[0;34m(\u001b[0m\u001b[0margs\u001b[0m\u001b[0;34m,\u001b[0m \u001b[0mkwargs\u001b[0m\u001b[0;34m)\u001b[0m  \u001b[0;31m# pylint: disable=protected-access\u001b[0m\u001b[0;34m\u001b[0m\u001b[0;34m\u001b[0m\u001b[0m\n\u001b[0m\u001b[1;32m   2830\u001b[0m \u001b[0;34m\u001b[0m\u001b[0m\n\u001b[1;32m   2831\u001b[0m   \u001b[0;34m@\u001b[0m\u001b[0mproperty\u001b[0m\u001b[0;34m\u001b[0m\u001b[0;34m\u001b[0m\u001b[0m\n",
            "\u001b[0;32m/usr/local/lib/python3.6/dist-packages/tensorflow/python/eager/function.py\u001b[0m in \u001b[0;36m_filtered_call\u001b[0;34m(self, args, kwargs, cancellation_manager)\u001b[0m\n\u001b[1;32m   1846\u001b[0m                            resource_variable_ops.BaseResourceVariable))],\n\u001b[1;32m   1847\u001b[0m         \u001b[0mcaptured_inputs\u001b[0m\u001b[0;34m=\u001b[0m\u001b[0mself\u001b[0m\u001b[0;34m.\u001b[0m\u001b[0mcaptured_inputs\u001b[0m\u001b[0;34m,\u001b[0m\u001b[0;34m\u001b[0m\u001b[0;34m\u001b[0m\u001b[0m\n\u001b[0;32m-> 1848\u001b[0;31m         cancellation_manager=cancellation_manager)\n\u001b[0m\u001b[1;32m   1849\u001b[0m \u001b[0;34m\u001b[0m\u001b[0m\n\u001b[1;32m   1850\u001b[0m   \u001b[0;32mdef\u001b[0m \u001b[0m_call_flat\u001b[0m\u001b[0;34m(\u001b[0m\u001b[0mself\u001b[0m\u001b[0;34m,\u001b[0m \u001b[0margs\u001b[0m\u001b[0;34m,\u001b[0m \u001b[0mcaptured_inputs\u001b[0m\u001b[0;34m,\u001b[0m \u001b[0mcancellation_manager\u001b[0m\u001b[0;34m=\u001b[0m\u001b[0;32mNone\u001b[0m\u001b[0;34m)\u001b[0m\u001b[0;34m:\u001b[0m\u001b[0;34m\u001b[0m\u001b[0;34m\u001b[0m\u001b[0m\n",
            "\u001b[0;32m/usr/local/lib/python3.6/dist-packages/tensorflow/python/eager/function.py\u001b[0m in \u001b[0;36m_call_flat\u001b[0;34m(self, args, captured_inputs, cancellation_manager)\u001b[0m\n\u001b[1;32m   1922\u001b[0m       \u001b[0;31m# No tape is watching; skip to running the function.\u001b[0m\u001b[0;34m\u001b[0m\u001b[0;34m\u001b[0m\u001b[0;34m\u001b[0m\u001b[0m\n\u001b[1;32m   1923\u001b[0m       return self._build_call_outputs(self._inference_function.call(\n\u001b[0;32m-> 1924\u001b[0;31m           ctx, args, cancellation_manager=cancellation_manager))\n\u001b[0m\u001b[1;32m   1925\u001b[0m     forward_backward = self._select_forward_and_backward_functions(\n\u001b[1;32m   1926\u001b[0m         \u001b[0margs\u001b[0m\u001b[0;34m,\u001b[0m\u001b[0;34m\u001b[0m\u001b[0;34m\u001b[0m\u001b[0m\n",
            "\u001b[0;32m/usr/local/lib/python3.6/dist-packages/tensorflow/python/eager/function.py\u001b[0m in \u001b[0;36mcall\u001b[0;34m(self, ctx, args, cancellation_manager)\u001b[0m\n\u001b[1;32m    548\u001b[0m               \u001b[0minputs\u001b[0m\u001b[0;34m=\u001b[0m\u001b[0margs\u001b[0m\u001b[0;34m,\u001b[0m\u001b[0;34m\u001b[0m\u001b[0;34m\u001b[0m\u001b[0m\n\u001b[1;32m    549\u001b[0m               \u001b[0mattrs\u001b[0m\u001b[0;34m=\u001b[0m\u001b[0mattrs\u001b[0m\u001b[0;34m,\u001b[0m\u001b[0;34m\u001b[0m\u001b[0;34m\u001b[0m\u001b[0m\n\u001b[0;32m--> 550\u001b[0;31m               ctx=ctx)\n\u001b[0m\u001b[1;32m    551\u001b[0m         \u001b[0;32melse\u001b[0m\u001b[0;34m:\u001b[0m\u001b[0;34m\u001b[0m\u001b[0;34m\u001b[0m\u001b[0m\n\u001b[1;32m    552\u001b[0m           outputs = execute.execute_with_cancellation(\n",
            "\u001b[0;32m/usr/local/lib/python3.6/dist-packages/tensorflow/python/eager/execute.py\u001b[0m in \u001b[0;36mquick_execute\u001b[0;34m(op_name, num_outputs, inputs, attrs, ctx, name)\u001b[0m\n\u001b[1;32m     58\u001b[0m     \u001b[0mctx\u001b[0m\u001b[0;34m.\u001b[0m\u001b[0mensure_initialized\u001b[0m\u001b[0;34m(\u001b[0m\u001b[0;34m)\u001b[0m\u001b[0;34m\u001b[0m\u001b[0;34m\u001b[0m\u001b[0m\n\u001b[1;32m     59\u001b[0m     tensors = pywrap_tfe.TFE_Py_Execute(ctx._handle, device_name, op_name,\n\u001b[0;32m---> 60\u001b[0;31m                                         inputs, attrs, num_outputs)\n\u001b[0m\u001b[1;32m     61\u001b[0m   \u001b[0;32mexcept\u001b[0m \u001b[0mcore\u001b[0m\u001b[0;34m.\u001b[0m\u001b[0m_NotOkStatusException\u001b[0m \u001b[0;32mas\u001b[0m \u001b[0me\u001b[0m\u001b[0;34m:\u001b[0m\u001b[0;34m\u001b[0m\u001b[0;34m\u001b[0m\u001b[0m\n\u001b[1;32m     62\u001b[0m     \u001b[0;32mif\u001b[0m \u001b[0mname\u001b[0m \u001b[0;32mis\u001b[0m \u001b[0;32mnot\u001b[0m \u001b[0;32mNone\u001b[0m\u001b[0;34m:\u001b[0m\u001b[0;34m\u001b[0m\u001b[0;34m\u001b[0m\u001b[0m\n",
            "\u001b[0;31mInvalidArgumentError\u001b[0m:  indices[112,56] = 10925 is not in [0, 10000)\n\t [[node sequential_13/embedding_7/embedding_lookup (defined at <ipython-input-278-9ed25dd60e94>:1) ]] [Op:__inference_train_function_72632]\n\nErrors may have originated from an input operation.\nInput Source operations connected to node sequential_13/embedding_7/embedding_lookup:\n sequential_13/embedding_7/embedding_lookup/70442 (defined at /usr/lib/python3.6/contextlib.py:81)\n\nFunction call stack:\ntrain_function\n"
          ]
        }
      ]
    },
    {
      "cell_type": "markdown",
      "metadata": {
        "id": "D0Gk1qwN0pPi"
      },
      "source": [
        "## Fasttext"
      ]
    },
    {
      "cell_type": "code",
      "metadata": {
        "colab": {
          "base_uri": "https://localhost:8080/"
        },
        "id": "vPs3jDS56Mw0",
        "outputId": "4787c5fe-81a2-48e4-ec1d-eb897ed729bb"
      },
      "source": [
        "#data = data.reset_index(drop=True)\n",
        "data.shape"
      ],
      "execution_count": 109,
      "outputs": [
        {
          "output_type": "execute_result",
          "data": {
            "text/plain": [
              "(15904, 39)"
            ]
          },
          "metadata": {
            "tags": []
          },
          "execution_count": 109
        }
      ]
    },
    {
      "cell_type": "code",
      "metadata": {
        "id": "llLNg5iTPvsH"
      },
      "source": [
        "data.reset_index(drop=True, inplace=True)"
      ],
      "execution_count": 114,
      "outputs": []
    },
    {
      "cell_type": "code",
      "metadata": {
        "id": "uCMXmIe-0wQh"
      },
      "source": [
        "some_texts = list(data.clean_text)\n",
        "some_labels = data.target_1_day\n",
        "\n",
        "df_train = pd.DataFrame({'txt': some_texts, 'target': some_labels})\n",
        "df_train['target'] = df_train['target'].apply(lambda x: '__label__' + str(x))\n",
        "df_train[['target', 'txt']].to_csv('train_data.txt', header=False, index=False, sep=\"\\t\")\n",
        "\n",
        "#fasttext.cbow(\"train_data.txt\", lr=0.05, dim=100, ws=5, epoch=5)\n",
        "model = fasttext.train_supervised(input='train_data.txt', epoch=5)"
      ],
      "execution_count": 115,
      "outputs": []
    },
    {
      "cell_type": "code",
      "metadata": {
        "id": "8pWHRv4-BNn3"
      },
      "source": [
        "start = 10_000\n",
        "n = 5_000"
      ],
      "execution_count": 116,
      "outputs": []
    },
    {
      "cell_type": "code",
      "metadata": {
        "id": "UQTYqjKK1CNR"
      },
      "source": [
        "pred = []\n",
        "\n",
        "for i in range(n):\n",
        "  \n",
        "  pred.append(model.predict(data.clean_text[start+i], k=1))"
      ],
      "execution_count": 117,
      "outputs": []
    },
    {
      "cell_type": "code",
      "metadata": {
        "colab": {
          "base_uri": "https://localhost:8080/"
        },
        "id": "zWkZaNRg3Qso",
        "outputId": "a3045c6e-ace8-4edb-f3a5-fc8687a1cccf"
      },
      "source": [
        "acc = []\n",
        "\n",
        "for i in range(n):\n",
        "  if pred[i][0][0] == '__label__1.0':\n",
        "    acc.append(0)\n",
        "  else:\n",
        "    acc.append(1)\n",
        "\n",
        "accuracy_score(acc, data.target_1_day[start:start+n])"
      ],
      "execution_count": 118,
      "outputs": [
        {
          "output_type": "execute_result",
          "data": {
            "text/plain": [
              "0.4542"
            ]
          },
          "metadata": {
            "tags": []
          },
          "execution_count": 118
        }
      ]
    },
    {
      "cell_type": "code",
      "metadata": {
        "colab": {
          "base_uri": "https://localhost:8080/",
          "height": 297
        },
        "id": "SKnE3zoLE3d8",
        "outputId": "5e4e3515-5b02-4fd0-f6ef-d06e8d635384"
      },
      "source": [
        "sns.countplot(data.target_1_day[:1_500])"
      ],
      "execution_count": 119,
      "outputs": [
        {
          "output_type": "execute_result",
          "data": {
            "text/plain": [
              "<matplotlib.axes._subplots.AxesSubplot at 0x7fea6cb29748>"
            ]
          },
          "metadata": {
            "tags": []
          },
          "execution_count": 119
        },
        {
          "output_type": "display_data",
          "data": {
            "image/png": "[encoded data removed]",
            "text/plain": [
              "<Figure size 432x288 with 1 Axes>"
            ]
          },
          "metadata": {
            "tags": [],
            "needs_background": "light"
          }
        }
      ]
    },
    {
      "cell_type": "code",
      "metadata": {
        "colab": {
          "base_uri": "https://localhost:8080/",
          "height": 297
        },
        "id": "jPQRXVxVDTJT",
        "outputId": "32075511-3698-407d-a174-984ab29a26cf"
      },
      "source": [
        "sns.countplot(data.target_1_day[1_500:1_770])"
      ],
      "execution_count": 120,
      "outputs": [
        {
          "output_type": "execute_result",
          "data": {
            "text/plain": [
              "<matplotlib.axes._subplots.AxesSubplot at 0x7fea6879fd30>"
            ]
          },
          "metadata": {
            "tags": []
          },
          "execution_count": 120
        },
        {
          "output_type": "display_data",
          "data": {
            "image/png": "[encoded data removed]",
            "text/plain": [
              "<Figure size 432x288 with 1 Axes>"
            ]
          },
          "metadata": {
            "tags": [],
            "needs_background": "light"
          }
        }
      ]
    },
    {
      "cell_type": "code",
      "metadata": {
        "colab": {
          "base_uri": "https://localhost:8080/",
          "height": 282
        },
        "id": "oYS8ESyOcvSI",
        "outputId": "dd85e88a-05c9-49ac-ea97-6e405d7139c1"
      },
      "source": [
        "sns.countplot(acc)"
      ],
      "execution_count": 121,
      "outputs": [
        {
          "output_type": "execute_result",
          "data": {
            "text/plain": [
              "<matplotlib.axes._subplots.AxesSubplot at 0x7fea68221cc0>"
            ]
          },
          "metadata": {
            "tags": []
          },
          "execution_count": 121
        },
        {
          "output_type": "display_data",
          "data": {
            "image/png": "[encoded data removed]",
            "text/plain": [
              "<Figure size 432x288 with 1 Axes>"
            ]
          },
          "metadata": {
            "tags": [],
            "needs_background": "light"
          }
        }
      ]
    },
    {
      "cell_type": "code",
      "metadata": {
        "id": "LSiDdNlQMAPu"
      },
      "source": [
        "# Возможно хреновое качество из-за плохой обработки текста (интерфакс от Евгения обработан не очень)\n",
        "# Беру хорошо очищенный текст (интерфакс 2018-2020), макс слов - 500 (чтобы не было number_token)\n",
        "# со стратификацией на трейне результат лучше константной на 8-10% на некоторых моделях\n",
        "# На валидации - качество 50% - хуже константной, мешать данные точно не надо"
      ],
      "execution_count": null,
      "outputs": []
    },
    {
      "cell_type": "markdown",
      "metadata": {
        "id": "sPA1G980Oq1d"
      },
      "source": [
        "## Stacking"
      ]
    },
    {
      "cell_type": "code",
      "metadata": {
        "id": "WaQH0Xcsgyaz"
      },
      "source": [
        "#log_reg_3_day = log_reg.predict(test_data) # 59%"
      ],
      "execution_count": null,
      "outputs": []
    },
    {
      "cell_type": "code",
      "metadata": {
        "id": "2jVIYohkowsd"
      },
      "source": [
        "#log_reg_7_day = log_reg.predict(test_data) # 60%"
      ],
      "execution_count": null,
      "outputs": []
    },
    {
      "cell_type": "code",
      "metadata": {
        "id": "1vH24YLkrf-9"
      },
      "source": [
        "#log_reg_10_day = log_reg.predict(test_data) # 59%"
      ],
      "execution_count": null,
      "outputs": []
    },
    {
      "cell_type": "code",
      "metadata": {
        "id": "ndtbxTj4r4Cf"
      },
      "source": [
        "#cvc_14_day = svc.predict(test_data) # 66%"
      ],
      "execution_count": null,
      "outputs": []
    },
    {
      "cell_type": "code",
      "metadata": {
        "id": "1TmIjokUs51l"
      },
      "source": [
        "#log_reg_20_day = log_reg.predict(test_data) # 71%"
      ],
      "execution_count": null,
      "outputs": []
    },
    {
      "cell_type": "code",
      "metadata": {
        "id": "FmV_fdvavgBP"
      },
      "source": [
        "#pred = pd.DataFrame(np.hstack((log_reg_20_day.reshape(-1, 1), cvc_14_day.reshape(-1, 1), \n",
        "#                  data.date_int.values[train_data.shape[0]:train_data.shape[0]+test_data.shape[0]].reshape(-1, 1))), columns=['20_day', '14_day', 'date']).groupby('date').mean()"
      ],
      "execution_count": null,
      "outputs": []
    },
    {
      "cell_type": "code",
      "metadata": {
        "id": "yomKwdZUxB_J"
      },
      "source": [
        "#pred['20_day'] = pred['20_day'].shift(19)\n",
        "#pred['14_day'] = pred['14_day'].shift(13)"
      ],
      "execution_count": null,
      "outputs": []
    },
    {
      "cell_type": "code",
      "metadata": {
        "id": "152Y5pt5xein"
      },
      "source": [
        "#pred.dropna(inplace=True)\n",
        "\n",
        "#pred['all_pred'] = (pred['20_day'] + pred['10_day'] + pred['14_day'])/3\n",
        "\n",
        "#pred['all_pred'] = np.where((pred['20_day'] + pred['14_day'])/2 > 0.5, 1, 0)"
      ],
      "execution_count": null,
      "outputs": []
    },
    {
      "cell_type": "code",
      "metadata": {
        "id": "f1vcRc7IyIab"
      },
      "source": [
        "#close = []\n",
        "\n",
        "#for idx in pred.index:\n",
        "#  close.append(float(sber_day.close[sber_day.date_int == idx].values))"
      ],
      "execution_count": null,
      "outputs": []
    },
    {
      "cell_type": "code",
      "metadata": {
        "id": "SfrhywoHx9RG"
      },
      "source": [
        "#pred['close'] = close\n",
        "#pred['true'] = np.where(pred['close'].shift(-1) > pred['close'], 1, 0)\n",
        "#pred"
      ],
      "execution_count": null,
      "outputs": []
    },
    {
      "cell_type": "code",
      "metadata": {
        "id": "Qo5QSIHdACuX"
      },
      "source": [
        "#prediction = np.zeros(test_data.shape[0])\n",
        "\n",
        "#for i in range(test_data.shape[0]): # Стекинг работает\n",
        "#    prediction[i] = rand_for_pred[i] + xgb_pred[i] + svc_pred[i]\n",
        "#    prediction[i] /= 3\n",
        "#    if prediction[i] < 0.5:\n",
        "#        prediction[i] = 0\n",
        "#    else:\n",
        "#        prediction[i] = 1"
      ],
      "execution_count": null,
      "outputs": []
    },
    {
      "cell_type": "code",
      "metadata": {
        "id": "esZs__K6z2fr"
      },
      "source": [
        "#accuracy_score(pred.true, pred.all_pred)"
      ],
      "execution_count": null,
      "outputs": []
    },
    {
      "cell_type": "code",
      "metadata": {
        "id": "W_x6MCAfu3lt"
      },
      "source": [
        "#prediction = np.zeros(test_data.shape[0])\n",
        "\n",
        "#for i in range(test_data.shape[0]): \n",
        "#    prediction[i] = log_reg_7_day[i] + cvc_14_day[i] + log_reg_20_day[i-19]\n",
        "#    prediction[i] /= 3\n",
        "#    if prediction[i] < 0.5:\n",
        "#        prediction[i] = 0\n",
        "#    else:\n",
        "#        prediction[i] = 1"
      ],
      "execution_count": null,
      "outputs": []
    },
    {
      "cell_type": "code",
      "metadata": {
        "id": "LzAQpJ8eZDx4"
      },
      "source": [
        "#date = []\n",
        "\n",
        "#for idx in test_target.index:\n",
        "\n",
        "#  date.append(data.date_int[data.index == idx].values)\n",
        "\n",
        "\n",
        "#pd.DataFrame(np.hstack((xgb_clf.predict(test_data).reshape(-1, 1), test_target.values.reshape(-1, 1), \n",
        "#                        np.array(date).reshape(-1, 1))),\n",
        "#             columns=['pred', 'true', 'date'])[:30]"
      ],
      "execution_count": null,
      "outputs": []
    },
    {
      "cell_type": "markdown",
      "metadata": {
        "id": "dcP7i8b3U7Lj"
      },
      "source": [
        "## Feature importance"
      ]
    },
    {
      "cell_type": "code",
      "metadata": {
        "id": "HWJIjon6WYhT",
        "colab": {
          "base_uri": "https://localhost:8080/",
          "height": 197
        },
        "outputId": "9e0f44c3-7d80-4359-8a69-ea98e345c117"
      },
      "source": [
        "def get_most_important_features(vectorizer, model, n=5):\n",
        "    index_to_word = {v:k for k,v in vectorizer.vocabulary_.items()}\n",
        "    \n",
        "    classes = {}\n",
        "    for class_index in range(model.coef_.shape[0]):\n",
        "        word_importances = [(el, index_to_word[i]) for i,el in enumerate(model.coef_[class_index])]\n",
        "        sorted_coeff = sorted(word_importances, key = lambda x : x[0], reverse=True)\n",
        "        tops = sorted(sorted_coeff[:n], key = lambda x : x[0])\n",
        "        bottom = sorted_coeff[-n:]\n",
        "        classes[class_index] = {\n",
        "            'tops':tops,\n",
        "            'bottom':bottom\n",
        "        }\n",
        "    return classes\n",
        "\n",
        "importance = get_most_important_features(vectorizer, log_reg, 20)"
      ],
      "execution_count": 123,
      "outputs": [
        {
          "output_type": "error",
          "ename": "NameError",
          "evalue": "ignored",
          "traceback": [
            "\u001b[0;31m---------------------------------------------------------------------------\u001b[0m",
            "\u001b[0;31mNameError\u001b[0m                                 Traceback (most recent call last)",
            "\u001b[0;32m<ipython-input-123-224aa5eb3132>\u001b[0m in \u001b[0;36m<module>\u001b[0;34m()\u001b[0m\n\u001b[1;32m     14\u001b[0m     \u001b[0;32mreturn\u001b[0m \u001b[0mclasses\u001b[0m\u001b[0;34m\u001b[0m\u001b[0;34m\u001b[0m\u001b[0m\n\u001b[1;32m     15\u001b[0m \u001b[0;34m\u001b[0m\u001b[0m\n\u001b[0;32m---> 16\u001b[0;31m \u001b[0mimportance\u001b[0m \u001b[0;34m=\u001b[0m \u001b[0mget_most_important_features\u001b[0m\u001b[0;34m(\u001b[0m\u001b[0mvectorizer\u001b[0m\u001b[0;34m,\u001b[0m \u001b[0mlog_reg\u001b[0m\u001b[0;34m,\u001b[0m \u001b[0;36m20\u001b[0m\u001b[0;34m)\u001b[0m\u001b[0;34m\u001b[0m\u001b[0;34m\u001b[0m\u001b[0m\n\u001b[0m",
            "\u001b[0;31mNameError\u001b[0m: name 'vectorizer' is not defined"
          ]
        }
      ]
    },
    {
      "cell_type": "code",
      "metadata": {
        "id": "MmEs_oz0QQIg"
      },
      "source": [
        ""
      ],
      "execution_count": null,
      "outputs": []
    },
    {
      "cell_type": "code",
      "metadata": {
        "id": "Ve6KODRZZCh4",
        "colab": {
          "base_uri": "https://localhost:8080/"
        },
        "outputId": "bc732ffb-3aed-4d94-c841-b0e0c5dfc709"
      },
      "source": [
        "importance # Выкинуть дни недели и месяцы, числа тоже"
      ],
      "execution_count": 90,
      "outputs": [
        {
          "output_type": "execute_result",
          "data": {
            "text/plain": [
              "{0: {'bottom': [(-0.6330117037465057, 'пользователь'),\n",
              "   (-0.6361983838409048, 'аэропорт'),\n",
              "   (-0.6397438876521782, 'отмечать'),\n",
              "   (-0.6471031762321724, 'ставка'),\n",
              "   (-0.6515148894484282, 'бизнес'),\n",
              "   (-0.661271036574982, 'счет'),\n",
              "   (-0.6706054970565344, 'сумма млрд рубль'),\n",
              "   (-0.6810807448866997, 'производство'),\n",
              "   (-0.6819768647027237, 'дом'),\n",
              "   (-0.691111095325544, 'маи'),\n",
              "   (-0.6938876118977958, 'рассказать'),\n",
              "   (-0.6946823187124861, 'называть'),\n",
              "   (-0.7276339709778733, 'игра'),\n",
              "   (-0.7302169126947199, 'мечело'),\n",
              "   (-0.7350480489905973, 'сценарии'),\n",
              "   (-0.7730170627072839, 'требовать'),\n",
              "   (-0.814970454805661, 'сумма млрд'),\n",
              "   (-0.8519330166450091, 'роснефть'),\n",
              "   (-0.904667144806673, 'цена'),\n",
              "   (-0.9858076830715072, 'сделка')],\n",
              "  'tops': [(0.5901724175361598, 'троика'),\n",
              "   (0.5952745914729356, 'госбанк'),\n",
              "   (0.5992266837509812, 'яндекс'),\n",
              "   (0.6103908920456854, 'взыскание'),\n",
              "   (0.6429426787014497, 'ответственность'),\n",
              "   (0.6893713236882448, 'изменение'),\n",
              "   (0.7000774335930249, 'валютныи'),\n",
              "   (0.7480567086994013, 'льготныи'),\n",
              "   (0.748508337287971, 'примерно'),\n",
              "   (0.7524186685599266, 'гражданин'),\n",
              "   (0.7728953196233102, 'доход'),\n",
              "   (0.7756787364119517, 'линия'),\n",
              "   (0.782470850413591, 'власть'),\n",
              "   (0.7908733087813317, 'спрос'),\n",
              "   (0.7928107966708129, 'чиновник'),\n",
              "   (0.82099819382868, 'риск'),\n",
              "   (0.8734081406959272, 'структура'),\n",
              "   (0.8792485378286049, 'газпром'),\n",
              "   (0.9128242166607113, 'апрель'),\n",
              "   (1.1005939164785634, 'центр')]}}"
            ]
          },
          "metadata": {
            "tags": []
          },
          "execution_count": 90
        }
      ]
    },
    {
      "cell_type": "code",
      "metadata": {
        "id": "7tF_CK66QREF"
      },
      "source": [
        "importance = {0: {'bottom': [(-0.6330117037465057, 'пользователь'),\r\n",
        "   (-0.6361983838409048, 'аэропорт'),\r\n",
        "   (-0.6397438876521782, 'отмечать'),\r\n",
        "   (-0.6471031762321724, 'ставка'),\r\n",
        "   (-0.6515148894484282, 'бизнес'),\r\n",
        "   (-0.661271036574982, 'счет'),\r\n",
        "   (-0.6706054970565344, 'сумма млрд рубль'),\r\n",
        "   (-0.6810807448866997, 'производство'),\r\n",
        "   (-0.6819768647027237, 'дом'),\r\n",
        "   (-0.691111095325544, 'маи'),\r\n",
        "   (-0.6938876118977958, 'рассказать'),\r\n",
        "   (-0.6946823187124861, 'называть'),\r\n",
        "   (-0.7276339709778733, 'игра'),\r\n",
        "   (-0.7302169126947199, 'мечело'),\r\n",
        "   (-0.7350480489905973, 'сценарии'),\r\n",
        "   (-0.7730170627072839, 'требовать'),\r\n",
        "   (-0.814970454805661, 'сумма млрд'),\r\n",
        "   (-0.8519330166450091, 'роснефть'),\r\n",
        "   (-0.904667144806673, 'цена'),\r\n",
        "   (-0.9858076830715072, 'сделка')],\r\n",
        "  'tops': [(0.5901724175361598, 'троика'),\r\n",
        "   (0.5952745914729356, 'госбанк'),\r\n",
        "   (0.5992266837509812, 'яндекс'),\r\n",
        "   (0.6103908920456854, 'взыскание'),\r\n",
        "   (0.6429426787014497, 'ответственность'),\r\n",
        "   (0.6893713236882448, 'изменение'),\r\n",
        "   (0.7000774335930249, 'валютныи'),\r\n",
        "   (0.7480567086994013, 'льготныи'),\r\n",
        "   (0.748508337287971, 'примерно'),\r\n",
        "   (0.7524186685599266, 'гражданин'),\r\n",
        "   (0.7728953196233102, 'доход'),\r\n",
        "   (0.7756787364119517, 'линия'),\r\n",
        "   (0.782470850413591, 'власть'),\r\n",
        "   (0.7908733087813317, 'спрос'),\r\n",
        "   (0.7928107966708129, 'чиновник'),\r\n",
        "   (0.82099819382868, 'риск'),\r\n",
        "   (0.8734081406959272, 'структура'),\r\n",
        "   (0.8792485378286049, 'газпром'),\r\n",
        "   (0.9128242166607113, 'апрель'),\r\n",
        "   (1.1005939164785634, 'центр')]}}"
      ],
      "execution_count": 125,
      "outputs": []
    },
    {
      "cell_type": "code",
      "metadata": {
        "colab": {
          "base_uri": "https://localhost:8080/"
        },
        "id": "KN079CpveCtZ",
        "outputId": "350af799-4e6f-4eed-a6b9-635228f4e467"
      },
      "source": [
        "np.hstack((np.array(importance[0]['bottom'])[:, 1], np.array(importance[0]['tops'])[:, 1]))"
      ],
      "execution_count": 150,
      "outputs": [
        {
          "output_type": "execute_result",
          "data": {
            "text/plain": [
              "array(['пользователь', 'аэропорт', 'отмечать', 'ставка', 'бизнес', 'счет',\n",
              "       'сумма млрд рубль', 'производство', 'дом', 'маи', 'рассказать',\n",
              "       'называть', 'игра', 'мечело', 'сценарии', 'требовать',\n",
              "       'сумма млрд', 'роснефть', 'цена', 'сделка', 'троика', 'госбанк',\n",
              "       'яндекс', 'взыскание', 'ответственность', 'изменение', 'валютныи',\n",
              "       'льготныи', 'примерно', 'гражданин', 'доход', 'линия', 'власть',\n",
              "       'спрос', 'чиновник', 'риск', 'структура', 'газпром', 'апрель',\n",
              "       'центр'], dtype='<U32')"
            ]
          },
          "metadata": {
            "tags": []
          },
          "execution_count": 150
        }
      ]
    },
    {
      "cell_type": "code",
      "metadata": {
        "colab": {
          "base_uri": "https://localhost:8080/"
        },
        "id": "qeB7WjxIRMxd",
        "outputId": "9082b3c3-127e-4a36-b383-b28c8be6c367"
      },
      "source": [
        "x"
      ],
      "execution_count": 152,
      "outputs": [
        {
          "output_type": "execute_result",
          "data": {
            "text/plain": [
              "1.4449093490711316"
            ]
          },
          "metadata": {
            "tags": []
          },
          "execution_count": 152
        }
      ]
    },
    {
      "cell_type": "code",
      "metadata": {
        "colab": {
          "base_uri": "https://localhost:8080/"
        },
        "id": "0Dg7wTsGe05K",
        "outputId": "7a5577dd-84d6-4070-e095-5c8d336c33a6"
      },
      "source": [
        "sum([x[i] for i in range(len(x))]) "
      ],
      "execution_count": 146,
      "outputs": [
        {
          "output_type": "execute_result",
          "data": {
            "text/plain": [
              "0.6727602479529858"
            ]
          },
          "metadata": {
            "tags": []
          },
          "execution_count": 146
        }
      ]
    },
    {
      "cell_type": "code",
      "metadata": {
        "id": "VTc0RDj7RGU9"
      },
      "source": [
        "x = x.astype(float)"
      ],
      "execution_count": 144,
      "outputs": []
    },
    {
      "cell_type": "code",
      "metadata": {
        "colab": {
          "base_uri": "https://localhost:8080/",
          "height": 919
        },
        "id": "PQile9xoeiin",
        "outputId": "bd7148a6-2e86-4cbe-a112-d2571c0feed0"
      },
      "source": [
        "x = np.hstack((np.array(importance[0]['bottom'])[:, 0], np.array(importance[0]['tops'])[:, 0]))\r\n",
        "x = x.astype(float)\r\n",
        "df = pd.DataFrame({})\r\n",
        "df['mpg_z'] = (x - x.mean())/x.std()\r\n",
        "df['colors'] = ['red' if x < 0 else 'green' for x in df['mpg_z']]\r\n",
        "df.sort_values('mpg_z', inplace=True)\r\n",
        "df.reset_index(inplace=True)\r\n",
        "\r\n",
        "# Draw plot\r\n",
        "plt.figure(figsize=(14,14), dpi= 80)\r\n",
        "plt.hlines(y=df.index, xmin=0, xmax=df.mpg_z)\r\n",
        "for x, y, tex in zip(df.mpg_z, df.index, df.mpg_z):\r\n",
        "    t = plt.text(x, y, round(tex, 2), horizontalalignment='right' if x < 0 else 'left', \r\n",
        "                 verticalalignment='center', fontdict={'color':'red' if x < 0 else 'green', 'size':14})\r\n",
        "\r\n",
        "words_ = np.hstack((np.array(importance[0]['bottom'])[:, 1], np.array(importance[0]['tops'])[:, 1]))\r\n",
        "words_ = words_.astype(str)\r\n",
        "df['words_'] = words_\r\n",
        "\r\n",
        "# Decorations    \r\n",
        "plt.yticks(df.index, df.words_, fontsize=12)\r\n",
        "plt.title('Лучшие и худшие слова для цены на акции сбера, fasttext', fontdict={'size':20})\r\n",
        "plt.grid(linestyle='--', alpha=0.5)\r\n",
        "plt.xlim(-2.5, 2.5)\r\n",
        "plt.show()"
      ],
      "execution_count": 153,
      "outputs": [
        {
          "output_type": "display_data",
          "data": {
            "image/png": "[encoded data removed]",
            "text/plain": [
              "<Figure size 1120x1120 with 1 Axes>"
            ]
          },
          "metadata": {
            "tags": [],
            "needs_background": "light"
          }
        }
      ]
    },
    {
      "cell_type": "markdown",
      "metadata": {
        "id": "nLcSM_BEIV50"
      },
      "source": [
        "### LSTM"
      ]
    },
    {
      "cell_type": "code",
      "metadata": {
        "id": "8wMf3zM8IYzK"
      },
      "source": [
        "maxlen = 50_000\n",
        "max_words = 300_000\n",
        "\n",
        "model = Sequential()\n",
        "model.add(Embedding(max_words, 4, input_length=maxlen))\n",
        "model.add(LSTM(64))\n",
        "model.add(Dense(1, activation='sigmoid'))\n",
        "\n",
        "model.compile(optimizer='adam',\n",
        "             loss='binary_crossentropy', \n",
        "              metrics=['accuracy'])"
      ],
      "execution_count": null,
      "outputs": []
    },
    {
      "cell_type": "code",
      "metadata": {
        "id": "0dkUlL3SIetD"
      },
      "source": [
        "vectorized_text = vectorizer(text=data.clean_text, vectorizer='tf_idf', ngram_range=(1, 3), max_features=5000, min_df=4, max_df=10_000)"
      ],
      "execution_count": null,
      "outputs": []
    },
    {
      "cell_type": "code",
      "metadata": {
        "id": "6ZbUHoO59w76"
      },
      "source": [
        "vectorized_text[:2000].shape"
      ],
      "execution_count": null,
      "outputs": []
    },
    {
      "cell_type": "code",
      "metadata": {
        "id": "wxui6i6P8fUs"
      },
      "source": [
        "valid_data = vectorized_text[2000:]\n",
        "\n",
        "text = vectorized_text[:2000]"
      ],
      "execution_count": null,
      "outputs": []
    },
    {
      "cell_type": "code",
      "metadata": {
        "id": "9folgDv8q4G0"
      },
      "source": [
        "train_data, test_data, train_target, test_target = tt (text, data.target_1_day.values[:2000], test_size=0.2, shuffle=False)"
      ],
      "execution_count": null,
      "outputs": []
    },
    {
      "cell_type": "code",
      "metadata": {
        "id": "UKDuGJYyXJRq"
      },
      "source": [
        "train_data = pad_sequences(train_data.toarray(), maxlen=maxlen)\n",
        "test_data = pad_sequences(test_data.toarray(), maxlen=maxlen)"
      ],
      "execution_count": null,
      "outputs": []
    },
    {
      "cell_type": "code",
      "metadata": {
        "id": "ZZWH7ajNI2Fi"
      },
      "source": [
        "model.fit(train_data, \n",
        "                    train_target, \n",
        "                    epochs=2)"
      ],
      "execution_count": null,
      "outputs": []
    },
    {
      "cell_type": "code",
      "metadata": {
        "id": "is_0JjVlR5_A"
      },
      "source": [
        "model.predict(test_data)"
      ],
      "execution_count": null,
      "outputs": []
    },
    {
      "cell_type": "code",
      "metadata": {
        "id": "UvUOZZB5eFBi"
      },
      "source": [
        "accuracy_score(test_target, model.predict(test_data))"
      ],
      "execution_count": null,
      "outputs": []
    },
    {
      "cell_type": "markdown",
      "metadata": {
        "id": "AvB1Ehsf5ER6"
      },
      "source": [
        "### При тесте очищенных данных наилучшая модель - RandomForest, стабильно на 2-3 % лучше, лидеры:\n",
        " - ngram_range = (1, 4) , max_features = 6500 (66.5%), 5000 - чуть хуже\n",
        " - ngram_range = (1, 3) , max_features = 2000 (65.5%)\n",
        " \n",
        " min_df = 2, 5\n",
        "\n",
        " Средний результат лучших моделей (как правило 3 модели показывают +- одинаковый результат) для лучших параметров(для не очень хороших параметров качество около 61%) - 62.5%"
      ]
    },
    {
      "cell_type": "code",
      "metadata": {
        "id": "aWkIb6Y_imHk"
      },
      "source": [
        "#rand_for_clf.predict(test_data)\n",
        "# Предсказания тоже в порядке"
      ],
      "execution_count": null,
      "outputs": []
    },
    {
      "cell_type": "markdown",
      "metadata": {
        "id": "UqMCYqTCd45-"
      },
      "source": [
        "# BERT"
      ]
    },
    {
      "cell_type": "code",
      "metadata": {
        "id": "WiJc19u_eRJU"
      },
      "source": [
        "data.head()"
      ],
      "execution_count": null,
      "outputs": []
    },
    {
      "cell_type": "code",
      "metadata": {
        "id": "onvmzTA5ZkoS"
      },
      "source": [
        "model_class, tokenizer_class, pretrained_weights = (ppb.BertModel, ppb.BertTokenizer, 'bert-base-uncased')\n",
        "\n",
        "tokenizer = tokenizer_class.from_pretrained(pretrained_weights)\n",
        "model = model_class.from_pretrained(pretrained_weights)"
      ],
      "execution_count": null,
      "outputs": []
    },
    {
      "cell_type": "code",
      "metadata": {
        "id": "_0H2cMT1elZb"
      },
      "source": [
        "for i in range(data.shape[0]): # проблема - слишком длинные новости, ее длина в среднем 2000, а для токенайзера максимум 512\n",
        "# Решение - разбивать на куски длиной не более 512 (конец - конец предложения) и тональность самой новости считать как среднее из тональностей ее составляющих\n",
        "   data['text'][i] =  data['text'][i][:128]"
      ],
      "execution_count": null,
      "outputs": []
    },
    {
      "cell_type": "code",
      "metadata": {
        "id": "-U6yhkGbd7O2"
      },
      "source": [
        "tokenized = data['text'].apply((lambda x: tokenizer.encode(x, add_special_tokens=True)))"
      ],
      "execution_count": null,
      "outputs": []
    },
    {
      "cell_type": "code",
      "metadata": {
        "id": "jXVLI-K6eczn"
      },
      "source": [
        "tokenized"
      ],
      "execution_count": null,
      "outputs": []
    },
    {
      "cell_type": "code",
      "metadata": {
        "id": "lYgfgE25QcES"
      },
      "source": [
        "max_len = 0\n",
        "for i in tokenized.values:\n",
        "    if len(i) > max_len:\n",
        "        max_len = len(i)\n",
        "\n",
        "padded = np.array([i + [0]*(max_len-len(i)) for i in tokenized.values])"
      ],
      "execution_count": null,
      "outputs": []
    },
    {
      "cell_type": "code",
      "metadata": {
        "id": "4nVdv7SOfZh3"
      },
      "source": [
        "attention_mask = np.where(padded != 0, 1, 0)\n",
        "attention_mask.shape"
      ],
      "execution_count": null,
      "outputs": []
    },
    {
      "cell_type": "code",
      "metadata": {
        "id": "TvucZF_RgkBp"
      },
      "source": [
        "input_ids = torch.tensor(padded)  \n",
        "attention_mask = torch.tensor(attention_mask)\n",
        "\n",
        "with torch.no_grad():\n",
        "    last_hidden_states = model(input_ids, attention_mask=attention_mask)"
      ],
      "execution_count": null,
      "outputs": []
    },
    {
      "cell_type": "code",
      "metadata": {
        "id": "3sSd_ZqIgn9i"
      },
      "source": [
        "features = last_hidden_states[0][:,0,:].numpy()"
      ],
      "execution_count": null,
      "outputs": []
    },
    {
      "cell_type": "code",
      "metadata": {
        "id": "NkI5fDA5oQor"
      },
      "source": [
        "train_features, test_features, train_target, test_target = tt(features, data['target'], random_state=42)\n",
        "  \n",
        "for model in [xgb_clf, log_reg, rand_for_clf, svc, neural_net, knn]:\n",
        "  model.fit(train_features, train_target)\n",
        "  print(str(model).split('(')[0], accuracy_score(test_target, model.predict(test_features)), '\\n')"
      ],
      "execution_count": null,
      "outputs": []
    },
    {
      "cell_type": "code",
      "metadata": {
        "id": "BoPAoaEil98u"
      },
      "source": [
        ""
      ],
      "execution_count": null,
      "outputs": []
    }
  ]
}