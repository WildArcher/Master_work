{
  "nbformat": 4,
  "nbformat_minor": 0,
  "metadata": {
    "colab": {
      "name": "Untitled20.ipynb",
      "provenance": [],
      "authorship_tag": "ABX9TyPI4eFpaVBK917cp56iaQWx",
      "include_colab_link": true
    },
    "kernelspec": {
      "name": "python3",
      "display_name": "Python 3"
    },
    "widgets": {
      "application/vnd.jupyter.widget-state+json": {
        "07d9e23b5d2847d89ed743fe88ef6793": {
          "model_module": "@jupyter-widgets/controls",
          "model_name": "HBoxModel",
          "state": {
            "_view_name": "HBoxView",
            "_dom_classes": [],
            "_model_name": "HBoxModel",
            "_view_module": "@jupyter-widgets/controls",
            "_model_module_version": "1.5.0",
            "_view_count": null,
            "_view_module_version": "1.5.0",
            "box_style": "",
            "layout": "IPY_MODEL_fb549c5a9b2e473caa80efd3bfae52b4",
            "_model_module": "@jupyter-widgets/controls",
            "children": [
              "IPY_MODEL_4543662ba79d4994a303a64480e8f6d6",
              "IPY_MODEL_2b371340541b4265ae1088d491cbe2da"
            ]
          }
        },
        "fb549c5a9b2e473caa80efd3bfae52b4": {
          "model_module": "@jupyter-widgets/base",
          "model_name": "LayoutModel",
          "state": {
            "_view_name": "LayoutView",
            "grid_template_rows": null,
            "right": null,
            "justify_content": null,
            "_view_module": "@jupyter-widgets/base",
            "overflow": null,
            "_model_module_version": "1.2.0",
            "_view_count": null,
            "flex_flow": null,
            "width": null,
            "min_width": null,
            "border": null,
            "align_items": null,
            "bottom": null,
            "_model_module": "@jupyter-widgets/base",
            "top": null,
            "grid_column": null,
            "overflow_y": null,
            "overflow_x": null,
            "grid_auto_flow": null,
            "grid_area": null,
            "grid_template_columns": null,
            "flex": null,
            "_model_name": "LayoutModel",
            "justify_items": null,
            "grid_row": null,
            "max_height": null,
            "align_content": null,
            "visibility": null,
            "align_self": null,
            "height": null,
            "min_height": null,
            "padding": null,
            "grid_auto_rows": null,
            "grid_gap": null,
            "max_width": null,
            "order": null,
            "_view_module_version": "1.2.0",
            "grid_template_areas": null,
            "object_position": null,
            "object_fit": null,
            "grid_auto_columns": null,
            "margin": null,
            "display": null,
            "left": null
          }
        },
        "4543662ba79d4994a303a64480e8f6d6": {
          "model_module": "@jupyter-widgets/controls",
          "model_name": "FloatProgressModel",
          "state": {
            "_view_name": "ProgressView",
            "style": "IPY_MODEL_6e9c782cc5234f1f963f99cc1c13696a",
            "_dom_classes": [],
            "description": "Downloading: 100%",
            "_model_name": "FloatProgressModel",
            "bar_style": "success",
            "max": 231508,
            "_view_module": "@jupyter-widgets/controls",
            "_model_module_version": "1.5.0",
            "value": 231508,
            "_view_count": null,
            "_view_module_version": "1.5.0",
            "orientation": "horizontal",
            "min": 0,
            "description_tooltip": null,
            "_model_module": "@jupyter-widgets/controls",
            "layout": "IPY_MODEL_286aab5a82354953a7fd3789bdbcc3c7"
          }
        },
        "2b371340541b4265ae1088d491cbe2da": {
          "model_module": "@jupyter-widgets/controls",
          "model_name": "HTMLModel",
          "state": {
            "_view_name": "HTMLView",
            "style": "IPY_MODEL_7d19cfe566af4828926e247ec52a0331",
            "_dom_classes": [],
            "description": "",
            "_model_name": "HTMLModel",
            "placeholder": "​",
            "_view_module": "@jupyter-widgets/controls",
            "_model_module_version": "1.5.0",
            "value": " 232k/232k [00:00&lt;00:00, 1.36MB/s]",
            "_view_count": null,
            "_view_module_version": "1.5.0",
            "description_tooltip": null,
            "_model_module": "@jupyter-widgets/controls",
            "layout": "IPY_MODEL_e574be186db84dfc9ffe8e483379fa67"
          }
        },
        "6e9c782cc5234f1f963f99cc1c13696a": {
          "model_module": "@jupyter-widgets/controls",
          "model_name": "ProgressStyleModel",
          "state": {
            "_view_name": "StyleView",
            "_model_name": "ProgressStyleModel",
            "description_width": "initial",
            "_view_module": "@jupyter-widgets/base",
            "_model_module_version": "1.5.0",
            "_view_count": null,
            "_view_module_version": "1.2.0",
            "bar_color": null,
            "_model_module": "@jupyter-widgets/controls"
          }
        },
        "286aab5a82354953a7fd3789bdbcc3c7": {
          "model_module": "@jupyter-widgets/base",
          "model_name": "LayoutModel",
          "state": {
            "_view_name": "LayoutView",
            "grid_template_rows": null,
            "right": null,
            "justify_content": null,
            "_view_module": "@jupyter-widgets/base",
            "overflow": null,
            "_model_module_version": "1.2.0",
            "_view_count": null,
            "flex_flow": null,
            "width": null,
            "min_width": null,
            "border": null,
            "align_items": null,
            "bottom": null,
            "_model_module": "@jupyter-widgets/base",
            "top": null,
            "grid_column": null,
            "overflow_y": null,
            "overflow_x": null,
            "grid_auto_flow": null,
            "grid_area": null,
            "grid_template_columns": null,
            "flex": null,
            "_model_name": "LayoutModel",
            "justify_items": null,
            "grid_row": null,
            "max_height": null,
            "align_content": null,
            "visibility": null,
            "align_self": null,
            "height": null,
            "min_height": null,
            "padding": null,
            "grid_auto_rows": null,
            "grid_gap": null,
            "max_width": null,
            "order": null,
            "_view_module_version": "1.2.0",
            "grid_template_areas": null,
            "object_position": null,
            "object_fit": null,
            "grid_auto_columns": null,
            "margin": null,
            "display": null,
            "left": null
          }
        },
        "7d19cfe566af4828926e247ec52a0331": {
          "model_module": "@jupyter-widgets/controls",
          "model_name": "DescriptionStyleModel",
          "state": {
            "_view_name": "StyleView",
            "_model_name": "DescriptionStyleModel",
            "description_width": "",
            "_view_module": "@jupyter-widgets/base",
            "_model_module_version": "1.5.0",
            "_view_count": null,
            "_view_module_version": "1.2.0",
            "_model_module": "@jupyter-widgets/controls"
          }
        },
        "e574be186db84dfc9ffe8e483379fa67": {
          "model_module": "@jupyter-widgets/base",
          "model_name": "LayoutModel",
          "state": {
            "_view_name": "LayoutView",
            "grid_template_rows": null,
            "right": null,
            "justify_content": null,
            "_view_module": "@jupyter-widgets/base",
            "overflow": null,
            "_model_module_version": "1.2.0",
            "_view_count": null,
            "flex_flow": null,
            "width": null,
            "min_width": null,
            "border": null,
            "align_items": null,
            "bottom": null,
            "_model_module": "@jupyter-widgets/base",
            "top": null,
            "grid_column": null,
            "overflow_y": null,
            "overflow_x": null,
            "grid_auto_flow": null,
            "grid_area": null,
            "grid_template_columns": null,
            "flex": null,
            "_model_name": "LayoutModel",
            "justify_items": null,
            "grid_row": null,
            "max_height": null,
            "align_content": null,
            "visibility": null,
            "align_self": null,
            "height": null,
            "min_height": null,
            "padding": null,
            "grid_auto_rows": null,
            "grid_gap": null,
            "max_width": null,
            "order": null,
            "_view_module_version": "1.2.0",
            "grid_template_areas": null,
            "object_position": null,
            "object_fit": null,
            "grid_auto_columns": null,
            "margin": null,
            "display": null,
            "left": null
          }
        },
        "ec6259c9b0a648c885510844d1ac27bc": {
          "model_module": "@jupyter-widgets/controls",
          "model_name": "HBoxModel",
          "state": {
            "_view_name": "HBoxView",
            "_dom_classes": [],
            "_model_name": "HBoxModel",
            "_view_module": "@jupyter-widgets/controls",
            "_model_module_version": "1.5.0",
            "_view_count": null,
            "_view_module_version": "1.5.0",
            "box_style": "",
            "layout": "IPY_MODEL_12f92ead293f4d53b7ee288a57cd37fc",
            "_model_module": "@jupyter-widgets/controls",
            "children": [
              "IPY_MODEL_b1d7e7ba97ed4cd98240b074afe2ffc3",
              "IPY_MODEL_2388c9bf7e8b417d9aa7e66a8e78f277"
            ]
          }
        },
        "12f92ead293f4d53b7ee288a57cd37fc": {
          "model_module": "@jupyter-widgets/base",
          "model_name": "LayoutModel",
          "state": {
            "_view_name": "LayoutView",
            "grid_template_rows": null,
            "right": null,
            "justify_content": null,
            "_view_module": "@jupyter-widgets/base",
            "overflow": null,
            "_model_module_version": "1.2.0",
            "_view_count": null,
            "flex_flow": null,
            "width": null,
            "min_width": null,
            "border": null,
            "align_items": null,
            "bottom": null,
            "_model_module": "@jupyter-widgets/base",
            "top": null,
            "grid_column": null,
            "overflow_y": null,
            "overflow_x": null,
            "grid_auto_flow": null,
            "grid_area": null,
            "grid_template_columns": null,
            "flex": null,
            "_model_name": "LayoutModel",
            "justify_items": null,
            "grid_row": null,
            "max_height": null,
            "align_content": null,
            "visibility": null,
            "align_self": null,
            "height": null,
            "min_height": null,
            "padding": null,
            "grid_auto_rows": null,
            "grid_gap": null,
            "max_width": null,
            "order": null,
            "_view_module_version": "1.2.0",
            "grid_template_areas": null,
            "object_position": null,
            "object_fit": null,
            "grid_auto_columns": null,
            "margin": null,
            "display": null,
            "left": null
          }
        },
        "b1d7e7ba97ed4cd98240b074afe2ffc3": {
          "model_module": "@jupyter-widgets/controls",
          "model_name": "FloatProgressModel",
          "state": {
            "_view_name": "ProgressView",
            "style": "IPY_MODEL_1c7e76930b394eb7a9a328537feeffb8",
            "_dom_classes": [],
            "description": "Downloading: 100%",
            "_model_name": "FloatProgressModel",
            "bar_style": "success",
            "max": 433,
            "_view_module": "@jupyter-widgets/controls",
            "_model_module_version": "1.5.0",
            "value": 433,
            "_view_count": null,
            "_view_module_version": "1.5.0",
            "orientation": "horizontal",
            "min": 0,
            "description_tooltip": null,
            "_model_module": "@jupyter-widgets/controls",
            "layout": "IPY_MODEL_149cbb3c755b40caa4547edde7b9e571"
          }
        },
        "2388c9bf7e8b417d9aa7e66a8e78f277": {
          "model_module": "@jupyter-widgets/controls",
          "model_name": "HTMLModel",
          "state": {
            "_view_name": "HTMLView",
            "style": "IPY_MODEL_c4263fd386fc44fdb24977054061f808",
            "_dom_classes": [],
            "description": "",
            "_model_name": "HTMLModel",
            "placeholder": "​",
            "_view_module": "@jupyter-widgets/controls",
            "_model_module_version": "1.5.0",
            "value": " 433/433 [00:07&lt;00:00, 54.8B/s]",
            "_view_count": null,
            "_view_module_version": "1.5.0",
            "description_tooltip": null,
            "_model_module": "@jupyter-widgets/controls",
            "layout": "IPY_MODEL_4dbb054aa81140f98f1edad08482040d"
          }
        },
        "1c7e76930b394eb7a9a328537feeffb8": {
          "model_module": "@jupyter-widgets/controls",
          "model_name": "ProgressStyleModel",
          "state": {
            "_view_name": "StyleView",
            "_model_name": "ProgressStyleModel",
            "description_width": "initial",
            "_view_module": "@jupyter-widgets/base",
            "_model_module_version": "1.5.0",
            "_view_count": null,
            "_view_module_version": "1.2.0",
            "bar_color": null,
            "_model_module": "@jupyter-widgets/controls"
          }
        },
        "149cbb3c755b40caa4547edde7b9e571": {
          "model_module": "@jupyter-widgets/base",
          "model_name": "LayoutModel",
          "state": {
            "_view_name": "LayoutView",
            "grid_template_rows": null,
            "right": null,
            "justify_content": null,
            "_view_module": "@jupyter-widgets/base",
            "overflow": null,
            "_model_module_version": "1.2.0",
            "_view_count": null,
            "flex_flow": null,
            "width": null,
            "min_width": null,
            "border": null,
            "align_items": null,
            "bottom": null,
            "_model_module": "@jupyter-widgets/base",
            "top": null,
            "grid_column": null,
            "overflow_y": null,
            "overflow_x": null,
            "grid_auto_flow": null,
            "grid_area": null,
            "grid_template_columns": null,
            "flex": null,
            "_model_name": "LayoutModel",
            "justify_items": null,
            "grid_row": null,
            "max_height": null,
            "align_content": null,
            "visibility": null,
            "align_self": null,
            "height": null,
            "min_height": null,
            "padding": null,
            "grid_auto_rows": null,
            "grid_gap": null,
            "max_width": null,
            "order": null,
            "_view_module_version": "1.2.0",
            "grid_template_areas": null,
            "object_position": null,
            "object_fit": null,
            "grid_auto_columns": null,
            "margin": null,
            "display": null,
            "left": null
          }
        },
        "c4263fd386fc44fdb24977054061f808": {
          "model_module": "@jupyter-widgets/controls",
          "model_name": "DescriptionStyleModel",
          "state": {
            "_view_name": "StyleView",
            "_model_name": "DescriptionStyleModel",
            "description_width": "",
            "_view_module": "@jupyter-widgets/base",
            "_model_module_version": "1.5.0",
            "_view_count": null,
            "_view_module_version": "1.2.0",
            "_model_module": "@jupyter-widgets/controls"
          }
        },
        "4dbb054aa81140f98f1edad08482040d": {
          "model_module": "@jupyter-widgets/base",
          "model_name": "LayoutModel",
          "state": {
            "_view_name": "LayoutView",
            "grid_template_rows": null,
            "right": null,
            "justify_content": null,
            "_view_module": "@jupyter-widgets/base",
            "overflow": null,
            "_model_module_version": "1.2.0",
            "_view_count": null,
            "flex_flow": null,
            "width": null,
            "min_width": null,
            "border": null,
            "align_items": null,
            "bottom": null,
            "_model_module": "@jupyter-widgets/base",
            "top": null,
            "grid_column": null,
            "overflow_y": null,
            "overflow_x": null,
            "grid_auto_flow": null,
            "grid_area": null,
            "grid_template_columns": null,
            "flex": null,
            "_model_name": "LayoutModel",
            "justify_items": null,
            "grid_row": null,
            "max_height": null,
            "align_content": null,
            "visibility": null,
            "align_self": null,
            "height": null,
            "min_height": null,
            "padding": null,
            "grid_auto_rows": null,
            "grid_gap": null,
            "max_width": null,
            "order": null,
            "_view_module_version": "1.2.0",
            "grid_template_areas": null,
            "object_position": null,
            "object_fit": null,
            "grid_auto_columns": null,
            "margin": null,
            "display": null,
            "left": null
          }
        },
        "248ec24da4b5477f9e26d6803baa759f": {
          "model_module": "@jupyter-widgets/controls",
          "model_name": "HBoxModel",
          "state": {
            "_view_name": "HBoxView",
            "_dom_classes": [],
            "_model_name": "HBoxModel",
            "_view_module": "@jupyter-widgets/controls",
            "_model_module_version": "1.5.0",
            "_view_count": null,
            "_view_module_version": "1.5.0",
            "box_style": "",
            "layout": "IPY_MODEL_57079913b2164e049b6c4ed2bf7e85fb",
            "_model_module": "@jupyter-widgets/controls",
            "children": [
              "IPY_MODEL_16fc15b141e5433fafdf30bf601176d1",
              "IPY_MODEL_0772b03aaf564588b719d5cf9b7f51f2"
            ]
          }
        },
        "57079913b2164e049b6c4ed2bf7e85fb": {
          "model_module": "@jupyter-widgets/base",
          "model_name": "LayoutModel",
          "state": {
            "_view_name": "LayoutView",
            "grid_template_rows": null,
            "right": null,
            "justify_content": null,
            "_view_module": "@jupyter-widgets/base",
            "overflow": null,
            "_model_module_version": "1.2.0",
            "_view_count": null,
            "flex_flow": null,
            "width": null,
            "min_width": null,
            "border": null,
            "align_items": null,
            "bottom": null,
            "_model_module": "@jupyter-widgets/base",
            "top": null,
            "grid_column": null,
            "overflow_y": null,
            "overflow_x": null,
            "grid_auto_flow": null,
            "grid_area": null,
            "grid_template_columns": null,
            "flex": null,
            "_model_name": "LayoutModel",
            "justify_items": null,
            "grid_row": null,
            "max_height": null,
            "align_content": null,
            "visibility": null,
            "align_self": null,
            "height": null,
            "min_height": null,
            "padding": null,
            "grid_auto_rows": null,
            "grid_gap": null,
            "max_width": null,
            "order": null,
            "_view_module_version": "1.2.0",
            "grid_template_areas": null,
            "object_position": null,
            "object_fit": null,
            "grid_auto_columns": null,
            "margin": null,
            "display": null,
            "left": null
          }
        },
        "16fc15b141e5433fafdf30bf601176d1": {
          "model_module": "@jupyter-widgets/controls",
          "model_name": "FloatProgressModel",
          "state": {
            "_view_name": "ProgressView",
            "style": "IPY_MODEL_536d83f366c04d06bff18e5cfa8d128d",
            "_dom_classes": [],
            "description": "Downloading: 100%",
            "_model_name": "FloatProgressModel",
            "bar_style": "success",
            "max": 440473133,
            "_view_module": "@jupyter-widgets/controls",
            "_model_module_version": "1.5.0",
            "value": 440473133,
            "_view_count": null,
            "_view_module_version": "1.5.0",
            "orientation": "horizontal",
            "min": 0,
            "description_tooltip": null,
            "_model_module": "@jupyter-widgets/controls",
            "layout": "IPY_MODEL_9b2c0d55d46c4999bcc5e272fefee837"
          }
        },
        "0772b03aaf564588b719d5cf9b7f51f2": {
          "model_module": "@jupyter-widgets/controls",
          "model_name": "HTMLModel",
          "state": {
            "_view_name": "HTMLView",
            "style": "IPY_MODEL_377f4ffd015343c099771269acab1588",
            "_dom_classes": [],
            "description": "",
            "_model_name": "HTMLModel",
            "placeholder": "​",
            "_view_module": "@jupyter-widgets/controls",
            "_model_module_version": "1.5.0",
            "value": " 440M/440M [00:07&lt;00:00, 58.0MB/s]",
            "_view_count": null,
            "_view_module_version": "1.5.0",
            "description_tooltip": null,
            "_model_module": "@jupyter-widgets/controls",
            "layout": "IPY_MODEL_2b915ceb14ab4c5a91616363c1823e7b"
          }
        },
        "536d83f366c04d06bff18e5cfa8d128d": {
          "model_module": "@jupyter-widgets/controls",
          "model_name": "ProgressStyleModel",
          "state": {
            "_view_name": "StyleView",
            "_model_name": "ProgressStyleModel",
            "description_width": "initial",
            "_view_module": "@jupyter-widgets/base",
            "_model_module_version": "1.5.0",
            "_view_count": null,
            "_view_module_version": "1.2.0",
            "bar_color": null,
            "_model_module": "@jupyter-widgets/controls"
          }
        },
        "9b2c0d55d46c4999bcc5e272fefee837": {
          "model_module": "@jupyter-widgets/base",
          "model_name": "LayoutModel",
          "state": {
            "_view_name": "LayoutView",
            "grid_template_rows": null,
            "right": null,
            "justify_content": null,
            "_view_module": "@jupyter-widgets/base",
            "overflow": null,
            "_model_module_version": "1.2.0",
            "_view_count": null,
            "flex_flow": null,
            "width": null,
            "min_width": null,
            "border": null,
            "align_items": null,
            "bottom": null,
            "_model_module": "@jupyter-widgets/base",
            "top": null,
            "grid_column": null,
            "overflow_y": null,
            "overflow_x": null,
            "grid_auto_flow": null,
            "grid_area": null,
            "grid_template_columns": null,
            "flex": null,
            "_model_name": "LayoutModel",
            "justify_items": null,
            "grid_row": null,
            "max_height": null,
            "align_content": null,
            "visibility": null,
            "align_self": null,
            "height": null,
            "min_height": null,
            "padding": null,
            "grid_auto_rows": null,
            "grid_gap": null,
            "max_width": null,
            "order": null,
            "_view_module_version": "1.2.0",
            "grid_template_areas": null,
            "object_position": null,
            "object_fit": null,
            "grid_auto_columns": null,
            "margin": null,
            "display": null,
            "left": null
          }
        },
        "377f4ffd015343c099771269acab1588": {
          "model_module": "@jupyter-widgets/controls",
          "model_name": "DescriptionStyleModel",
          "state": {
            "_view_name": "StyleView",
            "_model_name": "DescriptionStyleModel",
            "description_width": "",
            "_view_module": "@jupyter-widgets/base",
            "_model_module_version": "1.5.0",
            "_view_count": null,
            "_view_module_version": "1.2.0",
            "_model_module": "@jupyter-widgets/controls"
          }
        },
        "2b915ceb14ab4c5a91616363c1823e7b": {
          "model_module": "@jupyter-widgets/base",
          "model_name": "LayoutModel",
          "state": {
            "_view_name": "LayoutView",
            "grid_template_rows": null,
            "right": null,
            "justify_content": null,
            "_view_module": "@jupyter-widgets/base",
            "overflow": null,
            "_model_module_version": "1.2.0",
            "_view_count": null,
            "flex_flow": null,
            "width": null,
            "min_width": null,
            "border": null,
            "align_items": null,
            "bottom": null,
            "_model_module": "@jupyter-widgets/base",
            "top": null,
            "grid_column": null,
            "overflow_y": null,
            "overflow_x": null,
            "grid_auto_flow": null,
            "grid_area": null,
            "grid_template_columns": null,
            "flex": null,
            "_model_name": "LayoutModel",
            "justify_items": null,
            "grid_row": null,
            "max_height": null,
            "align_content": null,
            "visibility": null,
            "align_self": null,
            "height": null,
            "min_height": null,
            "padding": null,
            "grid_auto_rows": null,
            "grid_gap": null,
            "max_width": null,
            "order": null,
            "_view_module_version": "1.2.0",
            "grid_template_areas": null,
            "object_position": null,
            "object_fit": null,
            "grid_auto_columns": null,
            "margin": null,
            "display": null,
            "left": null
          }
        }
      }
    }
  },
  "cells": [
    {
      "cell_type": "markdown",
      "metadata": {
        "id": "view-in-github",
        "colab_type": "text"
      },
      "source": [
        "<a href=\"https://colab.research.google.com/github/WildArcher/Master_work/blob/master/news_targeting_start(14-28.07).ipynb\" target=\"_parent\"><img src=\"https://colab.research.google.com/assets/colab-badge.svg\" alt=\"Open In Colab\"/></a>"
      ]
    },
    {
      "cell_type": "markdown",
      "metadata": {
        "id": "vcNbQ_iN4gd8",
        "colab_type": "text"
      },
      "source": [
        "# LIBRARIES"
      ]
    },
    {
      "cell_type": "code",
      "metadata": {
        "id": "UPaQKAqI4i6t",
        "colab_type": "code",
        "colab": {}
      },
      "source": [
        "import re\n",
        "import requests\n",
        "import bs4"
      ],
      "execution_count": 2,
      "outputs": []
    },
    {
      "cell_type": "markdown",
      "metadata": {
        "id": "DEAfBqOP6cOn",
        "colab_type": "text"
      },
      "source": [
        "При выкачивании текста новостей основная проблема была с кодировкой, которую никак не хотел преобразоввывать encode('cp1251'), после тщетных попыток пришлось написать алфавит в одной и другой кодировке"
      ]
    },
    {
      "cell_type": "markdown",
      "metadata": {
        "id": "S-Bzyl9U3LnO",
        "colab_type": "text"
      },
      "source": [
        "#WORK VERSION"
      ]
    },
    {
      "cell_type": "code",
      "metadata": {
        "id": "FUj6qYy2ZQ6a",
        "colab_type": "code",
        "colab": {}
      },
      "source": [
        "url = requests.get('https://www.interfax.ru/business/718555') \n",
        "html = bs4.BeautifulSoup(url.text, \"html.parser\")\n",
        "text = html.select('article')[0].getText()\n",
        "#print(url_print.lower())"
      ],
      "execution_count": 170,
      "outputs": []
    },
    {
      "cell_type": "code",
      "metadata": {
        "id": "e7c0V8g7ssHP",
        "colab_type": "code",
        "colab": {}
      },
      "source": [
        "ISO_8859_1 = ['à', 'á', 'â', 'ã', 'ä', 'å', '¸', 'æ', 'ç', 'è', 'é', 'ê', 'ë', 'ì', 'í', 'î', 'ï', 'ð', 'ñ', \n",
        "              'ò', 'ó', 'ô', 'õ', 'ö', '÷', 'ø', 'ù', 'ú', 'û', 'ü', 'ý', 'þ', 'ÿ']\n",
        "\n",
        "windows_1251 = ['а', 'б', 'в', 'г', 'д', 'е', 'ё', 'ж', 'з', 'и', 'й', 'к', 'л', 'м', 'н', 'о', 'п', 'р', 'с',\n",
        "                'т', 'у', 'ф', 'х', 'ц', 'ч', 'ш', 'щ', 'ъ', 'ы', 'ь', 'э', 'ю', 'я']\n",
        "\n",
        "header =  str(html.title.string) # заголовок новости\n",
        "for i in range(33):\n",
        "  text = text.lower().replace(ISO_8859_1[i], windows_1251[i])\n",
        "  header = header.lower().replace(ISO_8859_1[i], windows_1251[i])\n",
        "\n",
        "text = text.replace('\\n', ' ')"
      ],
      "execution_count": 171,
      "outputs": []
    },
    {
      "cell_type": "code",
      "metadata": {
        "id": "mUS4AVT70QUg",
        "colab_type": "code",
        "colab": {}
      },
      "source": [
        "#text #так выглядит текст новости"
      ],
      "execution_count": 70,
      "outputs": []
    },
    {
      "cell_type": "code",
      "metadata": {
        "id": "ms6SGFxokldA",
        "colab_type": "code",
        "colab": {
          "base_uri": "https://localhost:8080/",
          "height": 35
        },
        "outputId": "521ac1fc-5e88-4e67-b687-3cbe2c6cc8ec"
      },
      "source": [
        "header"
      ],
      "execution_count": 173,
      "outputs": [
        {
          "output_type": "execute_result",
          "data": {
            "application/vnd.google.colaboratory.intrinsic+json": {
              "type": "string"
            },
            "text/plain": [
              "'рубль вечером ускорил снижение к доллару и евро на падении интереса к риску'"
            ]
          },
          "metadata": {
            "tags": []
          },
          "execution_count": 173
        }
      ]
    },
    {
      "cell_type": "markdown",
      "metadata": {
        "id": "oAIacmSslX7i",
        "colab_type": "text"
      },
      "source": [
        "# A LOT OF PAGES"
      ]
    },
    {
      "cell_type": "markdown",
      "metadata": {
        "id": "N3HtRQ335r2N",
        "colab_type": "text"
      },
      "source": [
        "Делаем запрос \"Сбербанк\" на сайте https://www.interfax.ru/, находим новости, связанные со сбербанком на 13 страницах поиска за последний год, выкачиваем с этих 13 страниц ссылки на новости"
      ]
    },
    {
      "cell_type": "code",
      "metadata": {
        "id": "ypH_tQXyi6Ik",
        "colab_type": "code",
        "colab": {}
      },
      "source": [
        "time_interval = '17.07.2019&dt=21.07.2020' # с какого по какое ищем новости\n",
        "\n",
        "page_1 ='https://www.interfax.ru/search/news/?sw=%F1%E1%E5%F0%E1%E0%ED%EA&df={}&sec=1447'.format(time_interval) # первая страница поиска\n",
        "\n",
        "pages = [] # все страницы, которые содержат новости о сбербанке с 17.07.2019 по 17.07.2020\n",
        "for i in range(14):\n",
        "  pages.append(page_1 + '&p=page_{}'.format(i))\n",
        "  \n",
        "links = []  # список ссылок на всех страницах поиска\n",
        "for page in pages:\n",
        "\n",
        "  url = requests.get(page) \n",
        "  html = bs4.BeautifulSoup(url.text, \"html.parser\") # парсим страницу\n",
        "\n",
        "  for link in html.find_all('a'):\n",
        "    if ('/business/' in str(link)) and (len(str(link.get('href'))) == 16): # есть рекламные ссылки, но они большей длины, а длины 16 - только ссылки на нужные нам новости\n",
        "      links.append(link.get('href'))"
      ],
      "execution_count": 176,
      "outputs": []
    },
    {
      "cell_type": "code",
      "metadata": {
        "id": "8FJomjUpupmD",
        "colab_type": "code",
        "colab": {
          "base_uri": "https://localhost:8080/",
          "height": 34
        },
        "outputId": "baa1b1f6-f6fd-48ed-f333-083b22f9ea97"
      },
      "source": [
        "len(links) # не так много новостей, но можно изменить временной интервал с помощью time_interval"
      ],
      "execution_count": 177,
      "outputs": [
        {
          "output_type": "execute_result",
          "data": {
            "text/plain": [
              "511"
            ]
          },
          "metadata": {
            "tags": []
          },
          "execution_count": 177
        }
      ]
    },
    {
      "cell_type": "code",
      "metadata": {
        "id": "ROerPYRMvrUy",
        "colab_type": "code",
        "colab": {
          "base_uri": "https://localhost:8080/",
          "height": 35
        },
        "outputId": "0c48a542-c20d-4c24-ae0b-103c82e930e4"
      },
      "source": [
        "links[0] # так выглядит ссылка, полностью ссылка выглядит так: https://www.interfax.ru/business/718451"
      ],
      "execution_count": 183,
      "outputs": [
        {
          "output_type": "execute_result",
          "data": {
            "application/vnd.google.colaboratory.intrinsic+json": {
              "type": "string"
            },
            "text/plain": [
              "'/business/718451'"
            ]
          },
          "metadata": {
            "tags": []
          },
          "execution_count": 183
        }
      ]
    },
    {
      "cell_type": "markdown",
      "metadata": {
        "id": "g4KpkcHhyj7T",
        "colab_type": "text"
      },
      "source": [
        "#TIME"
      ]
    },
    {
      "cell_type": "code",
      "metadata": {
        "id": "0WTSpd0MoxKv",
        "colab_type": "code",
        "colab": {}
      },
      "source": [
        "url = requests.get('https://www.interfax.ru/business/718451') \n",
        "html = bs4.BeautifulSoup(url.text, \"html.parser\")"
      ],
      "execution_count": 247,
      "outputs": []
    },
    {
      "cell_type": "code",
      "metadata": {
        "id": "Xsq0rdukzL4i",
        "colab_type": "code",
        "colab": {}
      },
      "source": [
        "date = str(re.findall(r'article_publication_date: \"..., .. ... .... ..:..:..', str(html)))\n",
        "\n",
        "date = date.replace('article_publication_date: \"', '')\n",
        "\n",
        "weekday = date[2:5]\n",
        "day = date[7:9]\n",
        "month = date[10:13]\n",
        "year = date[14:18]\n",
        "hour = date[19:21]\n",
        "minute = date[22:24]"
      ],
      "execution_count": 248,
      "outputs": []
    },
    {
      "cell_type": "code",
      "metadata": {
        "id": "tBEXRifxNTVl",
        "colab_type": "code",
        "colab": {
          "base_uri": "https://localhost:8080/",
          "height": 35
        },
        "outputId": "3f9b2416-6bdd-401e-ba18-dd868969a160"
      },
      "source": [
        "date = str(re.findall(r'article_publication_date: \"..., .+ ... .... .+:.+:..', str(html)))\n",
        "date = date.replace('article_publication_date: \"', '').replace('[', '').replace(']', '').replace(',', '').replace(r\"'\", '')\n",
        "date"
      ],
      "execution_count": 258,
      "outputs": [
        {
          "output_type": "execute_result",
          "data": {
            "application/vnd.google.colaboratory.intrinsic+json": {
              "type": "string"
            },
            "text/plain": [
              "'Wed 22 Jul 2020 10:57:00'"
            ]
          },
          "metadata": {
            "tags": []
          },
          "execution_count": 258
        }
      ]
    },
    {
      "cell_type": "markdown",
      "metadata": {
        "id": "9yvAF9_A4Q3p",
        "colab_type": "text"
      },
      "source": [
        "# GATHERED PARTS"
      ]
    },
    {
      "cell_type": "code",
      "metadata": {
        "id": "IQntDzqn8cIv",
        "colab_type": "code",
        "colab": {}
      },
      "source": [
        "import pandas as pd\n",
        "news = pd.DataFrame(columns = ['text', 'header', 'date'])"
      ],
      "execution_count": 242,
      "outputs": []
    },
    {
      "cell_type": "code",
      "metadata": {
        "id": "1RJdVtlS4b2G",
        "colab_type": "code",
        "colab": {
          "base_uri": "https://localhost:8080/",
          "height": 51
        },
        "outputId": "dcc623ca-af9d-4412-f9c2-c0f25cd1fd2d"
      },
      "source": [
        "%%time\n",
        "texts = []\n",
        "headers = []\n",
        "date = []\n",
        "\n",
        "for link in links:\n",
        "\n",
        "  url = requests.get('https://www.interfax.ru{}'.format(link)) \n",
        "  html = bs4.BeautifulSoup(url.text, \"html.parser\")\n",
        "  text = html.select('article')[0].getText()\n",
        "\n",
        "  date_ = str(re.findall(r'article_publication_date: \"..., .+ ... .... ..:..:..', str(html)))\n",
        "  date_ = date_.replace('article_publication_date: \"', '').replace('[', '').replace(']', '').replace(',', '').replace(r\"'\", '')\n",
        "  date.append(date_) # дата и время публикации новости\n",
        "\n",
        "  header =  str(html.title.string) # заголовок новости\n",
        "  for i in range(33):\n",
        "    text = text.lower().replace(ISO_8859_1[i], windows_1251[i])\n",
        "    header = header.lower().replace(ISO_8859_1[i], windows_1251[i])\n",
        "\n",
        "  texts.append(text.replace('\\n', ' '))\n",
        "  headers.append(header)"
      ],
      "execution_count": 259,
      "outputs": [
        {
          "output_type": "stream",
          "text": [
            "CPU times: user 24.2 s, sys: 383 ms, total: 24.6 s\n",
            "Wall time: 6min 58s\n"
          ],
          "name": "stdout"
        }
      ]
    },
    {
      "cell_type": "code",
      "metadata": {
        "id": "bxDfLZUBIruN",
        "colab_type": "code",
        "colab": {}
      },
      "source": [
        "year = []\n",
        "month = []\n",
        "day_of_week = []\n",
        "day = []\n",
        "hour = []\n",
        "minute = []\n",
        "\n",
        "for i in range(news.shape[0]):\n",
        "\n",
        "  hour.append(date[i][-8:-6])\n",
        "  minute.append(date[i][-5:-3])\n",
        "  day_of_week.append(date[i][:3])\n",
        "  day.append(date[i][3:5])\n",
        "  month.append(date[i][-17:-14])\n",
        "  year.append(date[i][-13:-8])\n"
      ],
      "execution_count": 303,
      "outputs": []
    },
    {
      "cell_type": "code",
      "metadata": {
        "id": "nYAsjt6uZZKR",
        "colab_type": "code",
        "colab": {}
      },
      "source": [
        "news['day_of_week'] = day_of_week\n",
        "news['day'] = day\n",
        "news['month'] = month\n",
        "news['year'] = year\n",
        "news['minute'] = minute\n",
        "news['hour'] = hour"
      ],
      "execution_count": 304,
      "outputs": []
    },
    {
      "cell_type": "code",
      "metadata": {
        "id": "zjWvVE1GbpkC",
        "colab_type": "code",
        "colab": {}
      },
      "source": [
        "news.drop(columns=['date'], inplace=True)"
      ],
      "execution_count": null,
      "outputs": []
    },
    {
      "cell_type": "code",
      "metadata": {
        "id": "3CwBN70b7fb2",
        "colab_type": "code",
        "colab": {
          "base_uri": "https://localhost:8080/",
          "height": 204
        },
        "outputId": "3e518a1c-950f-463b-eda5-af193c9e06b2"
      },
      "source": [
        "news.head()"
      ],
      "execution_count": 310,
      "outputs": [
        {
          "output_type": "execute_result",
          "data": {
            "text/html": [
              "<div>\n",
              "<style scoped>\n",
              "    .dataframe tbody tr th:only-of-type {\n",
              "        vertical-align: middle;\n",
              "    }\n",
              "\n",
              "    .dataframe tbody tr th {\n",
              "        vertical-align: top;\n",
              "    }\n",
              "\n",
              "    .dataframe thead th {\n",
              "        text-align: right;\n",
              "    }\n",
              "</style>\n",
              "<table border=\"1\" class=\"dataframe\">\n",
              "  <thead>\n",
              "    <tr style=\"text-align: right;\">\n",
              "      <th></th>\n",
              "      <th>text</th>\n",
              "      <th>header</th>\n",
              "      <th>day_of_week</th>\n",
              "      <th>day</th>\n",
              "      <th>month</th>\n",
              "      <th>year</th>\n",
              "      <th>minute</th>\n",
              "      <th>hour</th>\n",
              "    </tr>\n",
              "  </thead>\n",
              "  <tbody>\n",
              "    <tr>\n",
              "      <th>0</th>\n",
              "      <td>в россии выдано льготной ипотеки под 6,5% на ...</td>\n",
              "      <td>в россии выдано льготной ипотеки под 6,5% на 2...</td>\n",
              "      <td>Wed</td>\n",
              "      <td>2</td>\n",
              "      <td>Jul</td>\n",
              "      <td>2020</td>\n",
              "      <td>57</td>\n",
              "      <td>10</td>\n",
              "    </tr>\n",
              "    <tr>\n",
              "      <th>1</th>\n",
              "      <td>сбербанк закрыл сделку по выкупу доли \"ßндекс...</td>\n",
              "      <td>сбербанк закрыл сделку по выкупу доли \"ßндекса...</td>\n",
              "      <td>Wed</td>\n",
              "      <td>2</td>\n",
              "      <td>Jul</td>\n",
              "      <td>2020</td>\n",
              "      <td>38</td>\n",
              "      <td>00</td>\n",
              "    </tr>\n",
              "    <tr>\n",
              "      <th>2</th>\n",
              "      <td>рынок акций рф во вторник вырос вслед за миро...</td>\n",
              "      <td>рынок акций рф во вторник вырос вслед за миром...</td>\n",
              "      <td>Tue</td>\n",
              "      <td>2</td>\n",
              "      <td>Jul</td>\n",
              "      <td>2020</td>\n",
              "      <td>17</td>\n",
              "      <td>19</td>\n",
              "    </tr>\n",
              "    <tr>\n",
              "      <th>3</th>\n",
              "      <td>рынок акций рф открылся ростом индексов мосби...</td>\n",
              "      <td>рынок акций рф открылся ростом индексов мосбир...</td>\n",
              "      <td>Tue</td>\n",
              "      <td>2</td>\n",
              "      <td>Jul</td>\n",
              "      <td>2020</td>\n",
              "      <td>35</td>\n",
              "      <td>10</td>\n",
              "    </tr>\n",
              "    <tr>\n",
              "      <th>4</th>\n",
              "      <td>сбербанк выдал группе \"аэрофлот\" кредиты на 1...</td>\n",
              "      <td>сбербанк выдал группе \"аэрофлот\" кредиты на 1,...</td>\n",
              "      <td>Tue</td>\n",
              "      <td>2</td>\n",
              "      <td>Jul</td>\n",
              "      <td>2020</td>\n",
              "      <td>42</td>\n",
              "      <td>09</td>\n",
              "    </tr>\n",
              "  </tbody>\n",
              "</table>\n",
              "</div>"
            ],
            "text/plain": [
              "                                                text  ... hour\n",
              "0   в россии выдано льготной ипотеки под 6,5% на ...  ...   10\n",
              "1   сбербанк закрыл сделку по выкупу доли \"ßндекс...  ...   00\n",
              "2   рынок акций рф во вторник вырос вслед за миро...  ...   19\n",
              "3   рынок акций рф открылся ростом индексов мосби...  ...   10\n",
              "4   сбербанк выдал группе \"аэрофлот\" кредиты на 1...  ...   09\n",
              "\n",
              "[5 rows x 8 columns]"
            ]
          },
          "metadata": {
            "tags": []
          },
          "execution_count": 310
        }
      ]
    },
    {
      "cell_type": "code",
      "metadata": {
        "id": "m6iaOVPZ_Hbn",
        "colab_type": "code",
        "colab": {}
      },
      "source": [
        "news.to_csv('news_2019-2020_sber_from_interfax.csv')"
      ],
      "execution_count": 373,
      "outputs": []
    },
    {
      "cell_type": "markdown",
      "metadata": {
        "id": "79B0J3Ydkxvq",
        "colab_type": "text"
      },
      "source": [
        "### Новости добыты, теперь нужно их разметить"
      ]
    },
    {
      "cell_type": "code",
      "metadata": {
        "id": "ur_lkqMS4vlZ",
        "colab_type": "code",
        "colab": {}
      },
      "source": [
        "import re\n",
        "import pandas as pd\n",
        "import datetime\n",
        "import time"
      ],
      "execution_count": 1,
      "outputs": []
    },
    {
      "cell_type": "code",
      "metadata": {
        "id": "mk1JGBZm4d7u",
        "colab_type": "code",
        "colab": {}
      },
      "source": [
        "news = pd.read_csv('news_2019-2020_sber_from_interfax.csv')"
      ],
      "execution_count": 3,
      "outputs": []
    },
    {
      "cell_type": "code",
      "metadata": {
        "id": "PoyDgkzo4pUA",
        "colab_type": "code",
        "colab": {
          "base_uri": "https://localhost:8080/",
          "height": 419
        },
        "outputId": "44654aac-4a13-4fa7-a09d-9d3bdbc12c49"
      },
      "source": [
        "news"
      ],
      "execution_count": 4,
      "outputs": [
        {
          "output_type": "execute_result",
          "data": {
            "text/html": [
              "<div>\n",
              "<style scoped>\n",
              "    .dataframe tbody tr th:only-of-type {\n",
              "        vertical-align: middle;\n",
              "    }\n",
              "\n",
              "    .dataframe tbody tr th {\n",
              "        vertical-align: top;\n",
              "    }\n",
              "\n",
              "    .dataframe thead th {\n",
              "        text-align: right;\n",
              "    }\n",
              "</style>\n",
              "<table border=\"1\" class=\"dataframe\">\n",
              "  <thead>\n",
              "    <tr style=\"text-align: right;\">\n",
              "      <th></th>\n",
              "      <th>Unnamed: 0</th>\n",
              "      <th>text</th>\n",
              "      <th>header</th>\n",
              "      <th>day_of_week</th>\n",
              "      <th>day</th>\n",
              "      <th>month</th>\n",
              "      <th>year</th>\n",
              "      <th>minute</th>\n",
              "      <th>hour</th>\n",
              "      <th>target</th>\n",
              "    </tr>\n",
              "  </thead>\n",
              "  <tbody>\n",
              "    <tr>\n",
              "      <th>0</th>\n",
              "      <td>0</td>\n",
              "      <td>в россии выдано льготной ипотеки под 6,5% на ...</td>\n",
              "      <td>в россии выдано льготной ипотеки под 6,5% на 2...</td>\n",
              "      <td>Wed</td>\n",
              "      <td>2</td>\n",
              "      <td>Jul</td>\n",
              "      <td>2020</td>\n",
              "      <td>57</td>\n",
              "      <td>10</td>\n",
              "      <td>0</td>\n",
              "    </tr>\n",
              "    <tr>\n",
              "      <th>1</th>\n",
              "      <td>1</td>\n",
              "      <td>сбербанк закрыл сделку по выкупу доли \"ßндекс...</td>\n",
              "      <td>сбербанк закрыл сделку по выкупу доли \"ßндекса...</td>\n",
              "      <td>Wed</td>\n",
              "      <td>2</td>\n",
              "      <td>Jul</td>\n",
              "      <td>2020</td>\n",
              "      <td>38</td>\n",
              "      <td>0</td>\n",
              "      <td>1</td>\n",
              "    </tr>\n",
              "    <tr>\n",
              "      <th>2</th>\n",
              "      <td>2</td>\n",
              "      <td>рынок акций рф во вторник вырос вслед за миро...</td>\n",
              "      <td>рынок акций рф во вторник вырос вслед за миром...</td>\n",
              "      <td>Tue</td>\n",
              "      <td>2</td>\n",
              "      <td>Jul</td>\n",
              "      <td>2020</td>\n",
              "      <td>17</td>\n",
              "      <td>19</td>\n",
              "      <td>1</td>\n",
              "    </tr>\n",
              "    <tr>\n",
              "      <th>3</th>\n",
              "      <td>3</td>\n",
              "      <td>рынок акций рф открылся ростом индексов мосби...</td>\n",
              "      <td>рынок акций рф открылся ростом индексов мосбир...</td>\n",
              "      <td>Tue</td>\n",
              "      <td>2</td>\n",
              "      <td>Jul</td>\n",
              "      <td>2020</td>\n",
              "      <td>35</td>\n",
              "      <td>10</td>\n",
              "      <td>1</td>\n",
              "    </tr>\n",
              "    <tr>\n",
              "      <th>4</th>\n",
              "      <td>4</td>\n",
              "      <td>сбербанк выдал группе \"аэрофлот\" кредиты на 1...</td>\n",
              "      <td>сбербанк выдал группе \"аэрофлот\" кредиты на 1,...</td>\n",
              "      <td>Tue</td>\n",
              "      <td>2</td>\n",
              "      <td>Jul</td>\n",
              "      <td>2020</td>\n",
              "      <td>42</td>\n",
              "      <td>9</td>\n",
              "      <td>1</td>\n",
              "    </tr>\n",
              "    <tr>\n",
              "      <th>...</th>\n",
              "      <td>...</td>\n",
              "      <td>...</td>\n",
              "      <td>...</td>\n",
              "      <td>...</td>\n",
              "      <td>...</td>\n",
              "      <td>...</td>\n",
              "      <td>...</td>\n",
              "      <td>...</td>\n",
              "      <td>...</td>\n",
              "      <td>...</td>\n",
              "    </tr>\n",
              "    <tr>\n",
              "      <th>506</th>\n",
              "      <td>506</td>\n",
              "      <td>en+ выкупит у втб 21,37% своих акций за $1,58...</td>\n",
              "      <td>en+ выкупит у втб 21,37% своих акций за $1,58 ...</td>\n",
              "      <td>Thu</td>\n",
              "      <td>6</td>\n",
              "      <td>Feb</td>\n",
              "      <td>2020</td>\n",
              "      <td>48</td>\n",
              "      <td>15</td>\n",
              "      <td>0</td>\n",
              "    </tr>\n",
              "    <tr>\n",
              "      <th>507</th>\n",
              "      <td>507</td>\n",
              "      <td>правительство и цб договорились о постоянных ...</td>\n",
              "      <td>правительство и цб договорились о постоянных к...</td>\n",
              "      <td>Wed</td>\n",
              "      <td>5</td>\n",
              "      <td>Feb</td>\n",
              "      <td>2020</td>\n",
              "      <td>10</td>\n",
              "      <td>17</td>\n",
              "      <td>1</td>\n",
              "    </tr>\n",
              "    <tr>\n",
              "      <th>508</th>\n",
              "      <td>508</td>\n",
              "      <td>минэкономразвития запросило банки, как они мо...</td>\n",
              "      <td>минэкономразвития запросило банки, как они мог...</td>\n",
              "      <td>Wed</td>\n",
              "      <td>5</td>\n",
              "      <td>Feb</td>\n",
              "      <td>2020</td>\n",
              "      <td>22</td>\n",
              "      <td>12</td>\n",
              "      <td>0</td>\n",
              "    </tr>\n",
              "    <tr>\n",
              "      <th>509</th>\n",
              "      <td>509</td>\n",
              "      <td>государственно-частные партнерства выведут из...</td>\n",
              "      <td>государственно-частные партнерства выведут из-...</td>\n",
              "      <td>Wed</td>\n",
              "      <td>5</td>\n",
              "      <td>Feb</td>\n",
              "      <td>2020</td>\n",
              "      <td>58</td>\n",
              "      <td>9</td>\n",
              "      <td>0</td>\n",
              "    </tr>\n",
              "    <tr>\n",
              "      <th>510</th>\n",
              "      <td>510</td>\n",
              "      <td>\"трансойл\" обжалует включение сбербанка в рее...</td>\n",
              "      <td>\"трансойл\" обжалует включение сбербанка в реес...</td>\n",
              "      <td>Wed</td>\n",
              "      <td>5</td>\n",
              "      <td>Feb</td>\n",
              "      <td>2020</td>\n",
              "      <td>3</td>\n",
              "      <td>9</td>\n",
              "      <td>0</td>\n",
              "    </tr>\n",
              "  </tbody>\n",
              "</table>\n",
              "<p>511 rows × 10 columns</p>\n",
              "</div>"
            ],
            "text/plain": [
              "     Unnamed: 0  ... target\n",
              "0             0  ...      0\n",
              "1             1  ...      1\n",
              "2             2  ...      1\n",
              "3             3  ...      1\n",
              "4             4  ...      1\n",
              "..          ...  ...    ...\n",
              "506         506  ...      0\n",
              "507         507  ...      1\n",
              "508         508  ...      0\n",
              "509         509  ...      0\n",
              "510         510  ...      0\n",
              "\n",
              "[511 rows x 10 columns]"
            ]
          },
          "metadata": {
            "tags": []
          },
          "execution_count": 4
        }
      ]
    },
    {
      "cell_type": "code",
      "metadata": {
        "id": "b6Rv9XOJk-ZT",
        "colab_type": "code",
        "colab": {}
      },
      "source": [
        "#news.text[0]"
      ],
      "execution_count": 71,
      "outputs": []
    },
    {
      "cell_type": "markdown",
      "metadata": {
        "id": "azukwsfMhuWH",
        "colab_type": "text"
      },
      "source": [
        "## Возьмем котировки с финам с периодичностью 5 минут и час, чтобы отследить влияние новостей"
      ]
    },
    {
      "cell_type": "code",
      "metadata": {
        "id": "iE6XXy_3frNh",
        "colab_type": "code",
        "colab": {}
      },
      "source": [
        "def preprocessing_sber_data(sber):\n",
        "  sber.columns=['date', 'time', 'open', 'high', 'low', 'close', 'vol']\n",
        "  sber.time /= 10_000\n",
        "\n",
        "  year, month, day = [], [], []\n",
        "  for i in range(sber.shape[0]):\n",
        "    year.append(time.strptime(str(sber.date[i]), '%Y%m%d')[0])\n",
        "    month.append(time.strptime(str(sber.date[i]), '%Y%m%d')[1])\n",
        "    day.append(time.strptime(str(sber.date[i]), '%Y%m%d')[2])\n",
        "\n",
        "  sber['year'] = year\n",
        "  sber['month'] = month\n",
        "  sber['day'] = day\n",
        "\n",
        "  #sber.drop(columns=['date'], inplace=True)\n",
        "\n",
        "  return sber\n",
        "\n",
        "sber_hour = preprocessing_sber_data(pd.read_csv('SBER_17.07.2019-2020_1hour.csv', sep=' '))\n",
        "\n",
        "sber_5_min = preprocessing_sber_data(pd.read_csv('SBER_17.07.2019-2020_5min.csv', sep=' '))"
      ],
      "execution_count": 5,
      "outputs": []
    },
    {
      "cell_type": "code",
      "metadata": {
        "id": "9xoIjOBAgXRy",
        "colab_type": "code",
        "colab": {
          "base_uri": "https://localhost:8080/",
          "height": 204
        },
        "outputId": "da5cc1e0-b085-4b70-cb7b-e9e1bd27d786"
      },
      "source": [
        "sber_5_min.head()"
      ],
      "execution_count": 6,
      "outputs": [
        {
          "output_type": "execute_result",
          "data": {
            "text/html": [
              "<div>\n",
              "<style scoped>\n",
              "    .dataframe tbody tr th:only-of-type {\n",
              "        vertical-align: middle;\n",
              "    }\n",
              "\n",
              "    .dataframe tbody tr th {\n",
              "        vertical-align: top;\n",
              "    }\n",
              "\n",
              "    .dataframe thead th {\n",
              "        text-align: right;\n",
              "    }\n",
              "</style>\n",
              "<table border=\"1\" class=\"dataframe\">\n",
              "  <thead>\n",
              "    <tr style=\"text-align: right;\">\n",
              "      <th></th>\n",
              "      <th>date</th>\n",
              "      <th>time</th>\n",
              "      <th>open</th>\n",
              "      <th>high</th>\n",
              "      <th>low</th>\n",
              "      <th>close</th>\n",
              "      <th>vol</th>\n",
              "      <th>year</th>\n",
              "      <th>month</th>\n",
              "      <th>day</th>\n",
              "    </tr>\n",
              "  </thead>\n",
              "  <tbody>\n",
              "    <tr>\n",
              "      <th>0</th>\n",
              "      <td>20190717</td>\n",
              "      <td>10.05</td>\n",
              "      <td>234.32</td>\n",
              "      <td>237.00</td>\n",
              "      <td>234.02</td>\n",
              "      <td>236.96</td>\n",
              "      <td>1691860</td>\n",
              "      <td>2019</td>\n",
              "      <td>7</td>\n",
              "      <td>17</td>\n",
              "    </tr>\n",
              "    <tr>\n",
              "      <th>1</th>\n",
              "      <td>20190717</td>\n",
              "      <td>10.10</td>\n",
              "      <td>236.98</td>\n",
              "      <td>238.04</td>\n",
              "      <td>236.03</td>\n",
              "      <td>236.40</td>\n",
              "      <td>1802480</td>\n",
              "      <td>2019</td>\n",
              "      <td>7</td>\n",
              "      <td>17</td>\n",
              "    </tr>\n",
              "    <tr>\n",
              "      <th>2</th>\n",
              "      <td>20190717</td>\n",
              "      <td>10.15</td>\n",
              "      <td>236.40</td>\n",
              "      <td>236.71</td>\n",
              "      <td>235.83</td>\n",
              "      <td>235.96</td>\n",
              "      <td>780150</td>\n",
              "      <td>2019</td>\n",
              "      <td>7</td>\n",
              "      <td>17</td>\n",
              "    </tr>\n",
              "    <tr>\n",
              "      <th>3</th>\n",
              "      <td>20190717</td>\n",
              "      <td>10.20</td>\n",
              "      <td>235.96</td>\n",
              "      <td>236.13</td>\n",
              "      <td>235.38</td>\n",
              "      <td>235.91</td>\n",
              "      <td>590180</td>\n",
              "      <td>2019</td>\n",
              "      <td>7</td>\n",
              "      <td>17</td>\n",
              "    </tr>\n",
              "    <tr>\n",
              "      <th>4</th>\n",
              "      <td>20190717</td>\n",
              "      <td>10.25</td>\n",
              "      <td>235.91</td>\n",
              "      <td>236.55</td>\n",
              "      <td>235.81</td>\n",
              "      <td>236.41</td>\n",
              "      <td>543260</td>\n",
              "      <td>2019</td>\n",
              "      <td>7</td>\n",
              "      <td>17</td>\n",
              "    </tr>\n",
              "  </tbody>\n",
              "</table>\n",
              "</div>"
            ],
            "text/plain": [
              "       date   time    open    high     low   close      vol  year  month  day\n",
              "0  20190717  10.05  234.32  237.00  234.02  236.96  1691860  2019      7   17\n",
              "1  20190717  10.10  236.98  238.04  236.03  236.40  1802480  2019      7   17\n",
              "2  20190717  10.15  236.40  236.71  235.83  235.96   780150  2019      7   17\n",
              "3  20190717  10.20  235.96  236.13  235.38  235.91   590180  2019      7   17\n",
              "4  20190717  10.25  235.91  236.55  235.81  236.41   543260  2019      7   17"
            ]
          },
          "metadata": {
            "tags": []
          },
          "execution_count": 6
        }
      ]
    },
    {
      "cell_type": "code",
      "metadata": {
        "id": "CvChyTTrb3KB",
        "colab_type": "code",
        "colab": {}
      },
      "source": [
        "date = []\n",
        "for i in range(sber_5_min.shape[0]):\n",
        "  date.append(datetime.datetime(sber_5_min.year[i], sber_5_min.month[i], sber_5_min.day[i], int(sber_5_min.time[i] // 1), int((sber_5_min.time[i] % 1)*101)))#\n",
        "\n",
        "sber_5_min['date'] = date\n",
        "\n",
        "date = []\n",
        "for i in range(sber_hour.shape[0]):\n",
        "  date.append(datetime.datetime(sber_hour.year[i], sber_hour.month[i], sber_hour.day[i], int(sber_hour.time[i] // 1)))\n",
        "\n",
        "sber_hour['date'] = date"
      ],
      "execution_count": 7,
      "outputs": []
    },
    {
      "cell_type": "code",
      "metadata": {
        "id": "hh3imbNeA0f3",
        "colab_type": "code",
        "colab": {}
      },
      "source": [
        "sber_hour['date'] = pd.to_datetime(sber_hour.date)\n",
        "\n",
        "sber_5_min['date'] = pd.to_datetime(sber_5_min.date)"
      ],
      "execution_count": 8,
      "outputs": []
    },
    {
      "cell_type": "code",
      "metadata": {
        "id": "8HnFL1npR8TS",
        "colab_type": "code",
        "colab": {}
      },
      "source": [
        "#date = []\n",
        "#for i in range(sber_5_min.shape[0]):\n",
        "#  date.append(datetime.datetime(2019, 7, 17, 10, 5, 00) + i*datetime.timedelta(0, 300))\n",
        "\n",
        "#sber_5_min['date'] = date"
      ],
      "execution_count": 9,
      "outputs": []
    },
    {
      "cell_type": "code",
      "metadata": {
        "id": "9hdgFnZsdpgy",
        "colab_type": "code",
        "colab": {
          "base_uri": "https://localhost:8080/",
          "height": 204
        },
        "outputId": "28bfbb1f-c5eb-40ae-c529-1950e622328d"
      },
      "source": [
        "sber_hour.head()"
      ],
      "execution_count": 10,
      "outputs": [
        {
          "output_type": "execute_result",
          "data": {
            "text/html": [
              "<div>\n",
              "<style scoped>\n",
              "    .dataframe tbody tr th:only-of-type {\n",
              "        vertical-align: middle;\n",
              "    }\n",
              "\n",
              "    .dataframe tbody tr th {\n",
              "        vertical-align: top;\n",
              "    }\n",
              "\n",
              "    .dataframe thead th {\n",
              "        text-align: right;\n",
              "    }\n",
              "</style>\n",
              "<table border=\"1\" class=\"dataframe\">\n",
              "  <thead>\n",
              "    <tr style=\"text-align: right;\">\n",
              "      <th></th>\n",
              "      <th>date</th>\n",
              "      <th>time</th>\n",
              "      <th>open</th>\n",
              "      <th>high</th>\n",
              "      <th>low</th>\n",
              "      <th>close</th>\n",
              "      <th>vol</th>\n",
              "      <th>year</th>\n",
              "      <th>month</th>\n",
              "      <th>day</th>\n",
              "    </tr>\n",
              "  </thead>\n",
              "  <tbody>\n",
              "    <tr>\n",
              "      <th>0</th>\n",
              "      <td>2019-07-17 11:00:00</td>\n",
              "      <td>11.0</td>\n",
              "      <td>234.32</td>\n",
              "      <td>238.04</td>\n",
              "      <td>234.02</td>\n",
              "      <td>237.12</td>\n",
              "      <td>8548250</td>\n",
              "      <td>2019</td>\n",
              "      <td>7</td>\n",
              "      <td>17</td>\n",
              "    </tr>\n",
              "    <tr>\n",
              "      <th>1</th>\n",
              "      <td>2019-07-17 12:00:00</td>\n",
              "      <td>12.0</td>\n",
              "      <td>237.12</td>\n",
              "      <td>237.43</td>\n",
              "      <td>236.55</td>\n",
              "      <td>237.20</td>\n",
              "      <td>2801380</td>\n",
              "      <td>2019</td>\n",
              "      <td>7</td>\n",
              "      <td>17</td>\n",
              "    </tr>\n",
              "    <tr>\n",
              "      <th>2</th>\n",
              "      <td>2019-07-17 13:00:00</td>\n",
              "      <td>13.0</td>\n",
              "      <td>237.20</td>\n",
              "      <td>237.20</td>\n",
              "      <td>236.81</td>\n",
              "      <td>237.18</td>\n",
              "      <td>2097860</td>\n",
              "      <td>2019</td>\n",
              "      <td>7</td>\n",
              "      <td>17</td>\n",
              "    </tr>\n",
              "    <tr>\n",
              "      <th>3</th>\n",
              "      <td>2019-07-17 14:00:00</td>\n",
              "      <td>14.0</td>\n",
              "      <td>237.17</td>\n",
              "      <td>237.70</td>\n",
              "      <td>236.70</td>\n",
              "      <td>237.19</td>\n",
              "      <td>2848650</td>\n",
              "      <td>2019</td>\n",
              "      <td>7</td>\n",
              "      <td>17</td>\n",
              "    </tr>\n",
              "    <tr>\n",
              "      <th>4</th>\n",
              "      <td>2019-07-17 15:00:00</td>\n",
              "      <td>15.0</td>\n",
              "      <td>237.19</td>\n",
              "      <td>237.58</td>\n",
              "      <td>236.85</td>\n",
              "      <td>237.13</td>\n",
              "      <td>1454710</td>\n",
              "      <td>2019</td>\n",
              "      <td>7</td>\n",
              "      <td>17</td>\n",
              "    </tr>\n",
              "  </tbody>\n",
              "</table>\n",
              "</div>"
            ],
            "text/plain": [
              "                 date  time    open    high  ...      vol  year  month  day\n",
              "0 2019-07-17 11:00:00  11.0  234.32  238.04  ...  8548250  2019      7   17\n",
              "1 2019-07-17 12:00:00  12.0  237.12  237.43  ...  2801380  2019      7   17\n",
              "2 2019-07-17 13:00:00  13.0  237.20  237.20  ...  2097860  2019      7   17\n",
              "3 2019-07-17 14:00:00  14.0  237.17  237.70  ...  2848650  2019      7   17\n",
              "4 2019-07-17 15:00:00  15.0  237.19  237.58  ...  1454710  2019      7   17\n",
              "\n",
              "[5 rows x 10 columns]"
            ]
          },
          "metadata": {
            "tags": []
          },
          "execution_count": 10
        }
      ]
    },
    {
      "cell_type": "code",
      "metadata": {
        "id": "Hp0O00xGQdZZ",
        "colab_type": "code",
        "colab": {}
      },
      "source": [
        "news.replace(to_replace=['Jan', 'Feb', 'Mar', 'Apr', 'May', 'Jun', 'Jul', 'Aug', 'Sep', 'Oct', 'Nov', 'Dec'], value=[1, 2, 3, 4, 5, 6, 7, 8, 9, 10, 11, 12], inplace=True)\n",
        "news.drop(columns=['day_of_week'], inplace=True)"
      ],
      "execution_count": 11,
      "outputs": []
    },
    {
      "cell_type": "code",
      "metadata": {
        "id": "npnWOWsKVN-B",
        "colab_type": "code",
        "colab": {}
      },
      "source": [
        "date = []\n",
        "for i in range(news.shape[0]):\n",
        "  date.append(datetime.datetime(news.year[i], news.month[i], news.day[i], news.hour[i], news.minute[i]))\n",
        "\n",
        "news['date'] = date"
      ],
      "execution_count": 13,
      "outputs": []
    },
    {
      "cell_type": "code",
      "metadata": {
        "id": "_wqW651XWaTs",
        "colab_type": "code",
        "colab": {
          "base_uri": "https://localhost:8080/",
          "height": 204
        },
        "outputId": "669b05a4-a48c-498f-a057-deaa4b23d754"
      },
      "source": [
        "news.head()"
      ],
      "execution_count": 72,
      "outputs": [
        {
          "output_type": "execute_result",
          "data": {
            "text/html": [
              "<div>\n",
              "<style scoped>\n",
              "    .dataframe tbody tr th:only-of-type {\n",
              "        vertical-align: middle;\n",
              "    }\n",
              "\n",
              "    .dataframe tbody tr th {\n",
              "        vertical-align: top;\n",
              "    }\n",
              "\n",
              "    .dataframe thead th {\n",
              "        text-align: right;\n",
              "    }\n",
              "</style>\n",
              "<table border=\"1\" class=\"dataframe\">\n",
              "  <thead>\n",
              "    <tr style=\"text-align: right;\">\n",
              "      <th></th>\n",
              "      <th>Unnamed: 0</th>\n",
              "      <th>text</th>\n",
              "      <th>header</th>\n",
              "      <th>day</th>\n",
              "      <th>month</th>\n",
              "      <th>year</th>\n",
              "      <th>minute</th>\n",
              "      <th>hour</th>\n",
              "      <th>target</th>\n",
              "      <th>date</th>\n",
              "    </tr>\n",
              "  </thead>\n",
              "  <tbody>\n",
              "    <tr>\n",
              "      <th>0</th>\n",
              "      <td>0</td>\n",
              "      <td>в россии выдано льготной ипотеки под 6,5% на ...</td>\n",
              "      <td>в россии выдано льготной ипотеки под 6,5% на 2...</td>\n",
              "      <td>2</td>\n",
              "      <td>7</td>\n",
              "      <td>2020</td>\n",
              "      <td>57</td>\n",
              "      <td>10</td>\n",
              "      <td>0</td>\n",
              "      <td>2020-07-02 10:57:00</td>\n",
              "    </tr>\n",
              "    <tr>\n",
              "      <th>1</th>\n",
              "      <td>1</td>\n",
              "      <td>сбербанк закрыл сделку по выкупу доли \"ßндекс...</td>\n",
              "      <td>сбербанк закрыл сделку по выкупу доли \"ßндекса...</td>\n",
              "      <td>2</td>\n",
              "      <td>7</td>\n",
              "      <td>2020</td>\n",
              "      <td>38</td>\n",
              "      <td>0</td>\n",
              "      <td>1</td>\n",
              "      <td>2020-07-02 00:38:00</td>\n",
              "    </tr>\n",
              "    <tr>\n",
              "      <th>2</th>\n",
              "      <td>2</td>\n",
              "      <td>рынок акций рф во вторник вырос вслед за миро...</td>\n",
              "      <td>рынок акций рф во вторник вырос вслед за миром...</td>\n",
              "      <td>2</td>\n",
              "      <td>7</td>\n",
              "      <td>2020</td>\n",
              "      <td>17</td>\n",
              "      <td>19</td>\n",
              "      <td>1</td>\n",
              "      <td>2020-07-02 19:17:00</td>\n",
              "    </tr>\n",
              "    <tr>\n",
              "      <th>3</th>\n",
              "      <td>3</td>\n",
              "      <td>рынок акций рф открылся ростом индексов мосби...</td>\n",
              "      <td>рынок акций рф открылся ростом индексов мосбир...</td>\n",
              "      <td>2</td>\n",
              "      <td>7</td>\n",
              "      <td>2020</td>\n",
              "      <td>35</td>\n",
              "      <td>10</td>\n",
              "      <td>1</td>\n",
              "      <td>2020-07-02 10:35:00</td>\n",
              "    </tr>\n",
              "    <tr>\n",
              "      <th>4</th>\n",
              "      <td>4</td>\n",
              "      <td>сбербанк выдал группе \"аэрофлот\" кредиты на 1...</td>\n",
              "      <td>сбербанк выдал группе \"аэрофлот\" кредиты на 1,...</td>\n",
              "      <td>2</td>\n",
              "      <td>7</td>\n",
              "      <td>2020</td>\n",
              "      <td>42</td>\n",
              "      <td>9</td>\n",
              "      <td>1</td>\n",
              "      <td>2020-07-02 09:42:00</td>\n",
              "    </tr>\n",
              "  </tbody>\n",
              "</table>\n",
              "</div>"
            ],
            "text/plain": [
              "   Unnamed: 0  ...                date\n",
              "0           0  ... 2020-07-02 10:57:00\n",
              "1           1  ... 2020-07-02 00:38:00\n",
              "2           2  ... 2020-07-02 19:17:00\n",
              "3           3  ... 2020-07-02 10:35:00\n",
              "4           4  ... 2020-07-02 09:42:00\n",
              "\n",
              "[5 rows x 10 columns]"
            ]
          },
          "metadata": {
            "tags": []
          },
          "execution_count": 72
        }
      ]
    },
    {
      "cell_type": "code",
      "metadata": {
        "id": "yQNfaxARYNBV",
        "colab_type": "code",
        "colab": {}
      },
      "source": [
        "open_before = np.zeros(shape=news.shape[0], dtype=float)\n",
        "open_in_moment = np.zeros(shape=news.shape[0], dtype=float)\n",
        "open_after = np.zeros(shape=news.shape[0], dtype=float)\n",
        "\n",
        "close_before = np.zeros(shape=news.shape[0], dtype=float)\n",
        "close_in_moment = np.zeros(shape=news.shape[0], dtype=float)\n",
        "close_after = np.zeros(shape=news.shape[0], dtype=float)\n",
        "\n",
        "low_before = np.zeros(shape=news.shape[0], dtype=float)\n",
        "low_in_moment = np.zeros(shape=news.shape[0], dtype=float)\n",
        "low_after = np.zeros(shape=news.shape[0], dtype=float)\n",
        "\n",
        "high_before = np.zeros(shape=news.shape[0], dtype=float)\n",
        "high_in_moment = np.zeros(shape=news.shape[0], dtype=float)\n",
        "high_after = np.zeros(shape=news.shape[0], dtype=float)\n",
        "\n",
        "for i in range(news.shape[0]):\n",
        "\n",
        "  for j in range(sber_hour.shape[0]):\n",
        "\n",
        "    if datetime.datetime(news.date[i].year, news.date[i].month, news.date[i].day, news.date[i].hour) - sber_hour.date[j] == datetime.timedelta(0):\n",
        "\n",
        "        open_before[i] = sber_hour.open[i-1]\n",
        "        open_in_moment[i] = sber_hour.open[i]\n",
        "        open_after[i] = sber_hour.open[i+1]\n",
        "\n",
        "        close_before[i] = sber_hour.close[i-1]\n",
        "        close_in_moment[i] = sber_hour.close[i]\n",
        "        close_after[i] = sber_hour.close[i+1]\n",
        "\n",
        "        low_before[i] = sber_hour.low[i-1]\n",
        "        low_in_moment[i] = sber_hour.low[i]\n",
        "        low_after[i] = sber_hour.low[i+1]\n",
        "\n",
        "        high_before[i] = sber_hour.high[i-1]\n",
        "        high_in_moment[i] = sber_hour.high[i]\n",
        "        high_after[i] = sber_hour.high[i+1]"
      ],
      "execution_count": null,
      "outputs": []
    },
    {
      "cell_type": "code",
      "metadata": {
        "id": "V3f1wGzrDq8k",
        "colab_type": "code",
        "colab": {}
      },
      "source": [
        "news['open_before'] = open_before\n",
        "news['open_in_moment'] = open_in_moment\n",
        "news['open_after'] = open_after\n",
        "\n",
        "news['close_before'] = close_before\n",
        "news['close_in_moment'] = close_in_moment\n",
        "news['close_after'] = close_after\n",
        "\n",
        "news['low_before'] = low_before\n",
        "news['low_in_moment'] = low_in_moment\n",
        "news['low_after'] = low_after\n",
        "\n",
        "news['high_before'] = high_before\n",
        "news['high_in_moment'] = high_in_moment\n",
        "news['high_after'] = high_after"
      ],
      "execution_count": null,
      "outputs": []
    },
    {
      "cell_type": "code",
      "metadata": {
        "id": "voxlE8NQ8rr9",
        "colab_type": "code",
        "colab": {}
      },
      "source": [
        "target_open = np.zeros(news.shape[0])\n",
        "\n",
        "for i in range(news.shape[0]):\n",
        "  if (news.open_after[i] - news.open_in_moment[i]) > 0:\n",
        "    target_open[i] = 1\n",
        "  elif (news.open_after[i] - news.open_in_moment[i]) < 0:\n",
        "    target_open[i] = -1\n",
        "\n",
        "news['target_open'] = target_open"
      ],
      "execution_count": null,
      "outputs": []
    },
    {
      "cell_type": "markdown",
      "metadata": {
        "id": "WDg3_MRbLJmu",
        "colab_type": "text"
      },
      "source": [
        "# Протестируем небольшой датасет "
      ]
    },
    {
      "cell_type": "code",
      "metadata": {
        "id": "24yuV21m8xtM",
        "colab_type": "code",
        "colab": {}
      },
      "source": [
        "df = news[['text', 'header', 'target_open']]\n",
        "print('итого из одного источника за год ', df.replace(0, np.nan).dropna().shape[0], 'полезных новостей')\n",
        "# для обучения и теста это очень мало, но для построения бейзлайна вполне сойдет, сейчас я сделаю модель, которую хоть как-то нужно затестить, а потом соберу нормальные данные"
      ],
      "execution_count": null,
      "outputs": []
    },
    {
      "cell_type": "code",
      "metadata": {
        "id": "tymrt27HJwq_",
        "colab_type": "code",
        "colab": {}
      },
      "source": [
        "df.to_csv('sber_196_news_with_target.csv')"
      ],
      "execution_count": null,
      "outputs": []
    },
    {
      "cell_type": "code",
      "metadata": {
        "id": "gB1pqfj2Ujxd",
        "colab_type": "code",
        "colab": {}
      },
      "source": [
        "import numpy as np\n",
        "\n",
        "df = pd.read_csv('sber_196_news_with_target.csv').drop('Unnamed: 0', axis=1).replace(0, np.nan).dropna().replace(-1, 0)\n",
        "df = df.reset_index(drop=True)"
      ],
      "execution_count": 19,
      "outputs": []
    },
    {
      "cell_type": "code",
      "metadata": {
        "id": "djcV_UkTUNjm",
        "colab_type": "code",
        "colab": {
          "base_uri": "https://localhost:8080/",
          "height": 204
        },
        "outputId": "03dea5c6-3db9-4f89-8cfa-8dc50ea8b6c9"
      },
      "source": [
        "df.head()"
      ],
      "execution_count": 74,
      "outputs": [
        {
          "output_type": "execute_result",
          "data": {
            "text/html": [
              "<div>\n",
              "<style scoped>\n",
              "    .dataframe tbody tr th:only-of-type {\n",
              "        vertical-align: middle;\n",
              "    }\n",
              "\n",
              "    .dataframe tbody tr th {\n",
              "        vertical-align: top;\n",
              "    }\n",
              "\n",
              "    .dataframe thead th {\n",
              "        text-align: right;\n",
              "    }\n",
              "</style>\n",
              "<table border=\"1\" class=\"dataframe\">\n",
              "  <thead>\n",
              "    <tr style=\"text-align: right;\">\n",
              "      <th></th>\n",
              "      <th>text</th>\n",
              "      <th>header</th>\n",
              "      <th>target_open</th>\n",
              "    </tr>\n",
              "  </thead>\n",
              "  <tbody>\n",
              "    <tr>\n",
              "      <th>0</th>\n",
              "      <td>рынок акций рф во вторник вырос вслед за миро...</td>\n",
              "      <td>рынок акций рф во вторник вырос вслед за миром...</td>\n",
              "      <td>0.0</td>\n",
              "    </tr>\n",
              "    <tr>\n",
              "      <th>1</th>\n",
              "      <td>рынок акций начал неделю с роста выше 2800п п...</td>\n",
              "      <td>рынок акций начал неделю с роста выше 2800п по...</td>\n",
              "      <td>1.0</td>\n",
              "    </tr>\n",
              "    <tr>\n",
              "      <th>2</th>\n",
              "      <td>троценко стал контролирующим акционером geopr...</td>\n",
              "      <td>троценко стал контролирующим акционером geopro...</td>\n",
              "      <td>0.0</td>\n",
              "    </tr>\n",
              "    <tr>\n",
              "      <th>3</th>\n",
              "      <td>\"сбермаркет\" начал подключение непродовольств...</td>\n",
              "      <td>\"сбермаркет\" начал подключение непродовольстве...</td>\n",
              "      <td>0.0</td>\n",
              "    </tr>\n",
              "    <tr>\n",
              "      <th>4</th>\n",
              "      <td>афк \"система\" вывела из залога в сбербанке 6,...</td>\n",
              "      <td>афк \"система\" вывела из залога в сбербанке 6,8...</td>\n",
              "      <td>0.0</td>\n",
              "    </tr>\n",
              "  </tbody>\n",
              "</table>\n",
              "</div>"
            ],
            "text/plain": [
              "                                                text  ... target_open\n",
              "0   рынок акций рф во вторник вырос вслед за миро...  ...         0.0\n",
              "1   рынок акций начал неделю с роста выше 2800п п...  ...         1.0\n",
              "2   троценко стал контролирующим акционером geopr...  ...         0.0\n",
              "3   \"сбермаркет\" начал подключение непродовольств...  ...         0.0\n",
              "4   афк \"система\" вывела из залога в сбербанке 6,...  ...         0.0\n",
              "\n",
              "[5 rows x 3 columns]"
            ]
          },
          "metadata": {
            "tags": []
          },
          "execution_count": 74
        }
      ]
    },
    {
      "cell_type": "code",
      "metadata": {
        "id": "IBqOkqUkNVLg",
        "colab_type": "code",
        "colab": {}
      },
      "source": [
        "# для начала посмотрю, можно ли решить задачу простыми способами без лишни наворочек\n",
        "from sklearn.feature_extraction.text import CountVectorizer as CountVectorizer\n",
        "\n",
        "count_vectorizer = CountVectorizer(ngram_range=(1, 3), max_features=3000)\n",
        "X = count_vectorizer.fit_transform(df.text)"
      ],
      "execution_count": 21,
      "outputs": []
    },
    {
      "cell_type": "code",
      "metadata": {
        "id": "N2aY3LbmRzTc",
        "colab_type": "code",
        "colab": {
          "base_uri": "https://localhost:8080/",
          "height": 221
        },
        "outputId": "97b74c26-bfc9-413e-fd18-d79bebb5335d"
      },
      "source": [
        "from sklearn.linear_model import LogisticRegression\n",
        "from sklearn.model_selection import train_test_split as tt\n",
        "from xgboost import XGBClassifier\n",
        "from sklearn.svm import SVC\n",
        "\n",
        "train_data, test_data, train_target, test_target = tt (X, df.target_open, test_size=0.25)\n",
        "log_reg = LogisticRegression()\n",
        "xgb_clf = XGBClassifier()\n",
        "svc = SVC(kernel='rbf')\n",
        "\n",
        "xgb_clf.fit(train_data, train_target)\n",
        "log_reg.fit(train_data, train_target)\n",
        "svc.fit(train_data, train_target)"
      ],
      "execution_count": 22,
      "outputs": [
        {
          "output_type": "stream",
          "text": [
            "/usr/local/lib/python3.6/dist-packages/sklearn/linear_model/_logistic.py:940: ConvergenceWarning: lbfgs failed to converge (status=1):\n",
            "STOP: TOTAL NO. of ITERATIONS REACHED LIMIT.\n",
            "\n",
            "Increase the number of iterations (max_iter) or scale the data as shown in:\n",
            "    https://scikit-learn.org/stable/modules/preprocessing.html\n",
            "Please also refer to the documentation for alternative solver options:\n",
            "    https://scikit-learn.org/stable/modules/linear_model.html#logistic-regression\n",
            "  extra_warning_msg=_LOGISTIC_SOLVER_CONVERGENCE_MSG)\n"
          ],
          "name": "stderr"
        },
        {
          "output_type": "execute_result",
          "data": {
            "text/plain": [
              "SVC(C=1.0, break_ties=False, cache_size=200, class_weight=None, coef0=0.0,\n",
              "    decision_function_shape='ovr', degree=3, gamma='scale', kernel='rbf',\n",
              "    max_iter=-1, probability=False, random_state=None, shrinking=True,\n",
              "    tol=0.001, verbose=False)"
            ]
          },
          "metadata": {
            "tags": []
          },
          "execution_count": 22
        }
      ]
    },
    {
      "cell_type": "code",
      "metadata": {
        "id": "4Y3B931cSXjo",
        "colab_type": "code",
        "colab": {
          "base_uri": "https://localhost:8080/",
          "height": 34
        },
        "outputId": "7d057cf5-d300-4332-f704-3963157308dc"
      },
      "source": [
        "from sklearn.metrics import accuracy_score, roc_auc_score\n",
        "\n",
        "1 - accuracy_score(test_target, xgb_clf.predict(test_data))\n",
        "#roc_auc_score(test_target, xgb_clf.predict(test_data))"
      ],
      "execution_count": 23,
      "outputs": [
        {
          "output_type": "execute_result",
          "data": {
            "text/plain": [
              "0.5510204081632653"
            ]
          },
          "metadata": {
            "tags": []
          },
          "execution_count": 23
        }
      ]
    },
    {
      "cell_type": "code",
      "metadata": {
        "id": "tCIXc4C7TjpT",
        "colab_type": "code",
        "colab": {
          "base_uri": "https://localhost:8080/",
          "height": 34
        },
        "outputId": "a16fb3b4-dc36-40da-ce26-257464c5aa2d"
      },
      "source": [
        "1 - accuracy_score(test_target, log_reg.predict(test_data))"
      ],
      "execution_count": 24,
      "outputs": [
        {
          "output_type": "execute_result",
          "data": {
            "text/plain": [
              "0.5714285714285714"
            ]
          },
          "metadata": {
            "tags": []
          },
          "execution_count": 24
        }
      ]
    },
    {
      "cell_type": "code",
      "metadata": {
        "id": "oTYxdii9WWtC",
        "colab_type": "code",
        "colab": {
          "base_uri": "https://localhost:8080/",
          "height": 34
        },
        "outputId": "d50360a2-bb5d-4c96-84bd-0ceedd870c4e"
      },
      "source": [
        "1 - accuracy_score(test_target, svc.predict(test_data))"
      ],
      "execution_count": 216,
      "outputs": [
        {
          "output_type": "execute_result",
          "data": {
            "text/plain": [
              "0.6122448979591837"
            ]
          },
          "metadata": {
            "tags": []
          },
          "execution_count": 216
        }
      ]
    },
    {
      "cell_type": "code",
      "metadata": {
        "id": "hPJvFO-XXFU7",
        "colab_type": "code",
        "colab": {
          "base_uri": "https://localhost:8080/",
          "height": 34
        },
        "outputId": "cecebea7-16f3-4c21-be4e-bbe3e97aaf57"
      },
      "source": [
        "from sklearn.feature_extraction.text import TfidfVectorizer\n",
        "from sklearn.ensemble import RandomForestClassifier as rand_for_clf\n",
        "\n",
        "vectorizer = TfidfVectorizer(ngram_range=(1, 3), max_features=4000)\n",
        "X = vectorizer.fit_transform(df.text)\n",
        "train_data, test_data, train_target, test_target = tt (X, df.target_open, test_size=0.25)\n",
        "\n",
        "log_reg.fit(train_data, train_target)\n",
        " \n",
        "accuracy_score(test_target, log_reg.predict(test_data))"
      ],
      "execution_count": 25,
      "outputs": [
        {
          "output_type": "execute_result",
          "data": {
            "text/plain": [
              "0.4897959183673469"
            ]
          },
          "metadata": {
            "tags": []
          },
          "execution_count": 25
        }
      ]
    },
    {
      "cell_type": "markdown",
      "metadata": {
        "id": "UqMCYqTCd45-",
        "colab_type": "text"
      },
      "source": [
        "# BERT"
      ]
    },
    {
      "cell_type": "code",
      "metadata": {
        "id": "WiJc19u_eRJU",
        "colab_type": "code",
        "colab": {
          "base_uri": "https://localhost:8080/",
          "height": 204
        },
        "outputId": "bed0b9e7-1137-4790-a908-2306da32f3f0"
      },
      "source": [
        "df.head()"
      ],
      "execution_count": 31,
      "outputs": [
        {
          "output_type": "execute_result",
          "data": {
            "text/html": [
              "<div>\n",
              "<style scoped>\n",
              "    .dataframe tbody tr th:only-of-type {\n",
              "        vertical-align: middle;\n",
              "    }\n",
              "\n",
              "    .dataframe tbody tr th {\n",
              "        vertical-align: top;\n",
              "    }\n",
              "\n",
              "    .dataframe thead th {\n",
              "        text-align: right;\n",
              "    }\n",
              "</style>\n",
              "<table border=\"1\" class=\"dataframe\">\n",
              "  <thead>\n",
              "    <tr style=\"text-align: right;\">\n",
              "      <th></th>\n",
              "      <th>text</th>\n",
              "      <th>header</th>\n",
              "      <th>target_open</th>\n",
              "    </tr>\n",
              "  </thead>\n",
              "  <tbody>\n",
              "    <tr>\n",
              "      <th>0</th>\n",
              "      <td>рынок акций рф во вторник вырос вслед за миро...</td>\n",
              "      <td>рынок акций рф во вторник вырос вслед за миром...</td>\n",
              "      <td>0.0</td>\n",
              "    </tr>\n",
              "    <tr>\n",
              "      <th>1</th>\n",
              "      <td>рынок акций начал неделю с роста выше 2800п п...</td>\n",
              "      <td>рынок акций начал неделю с роста выше 2800п по...</td>\n",
              "      <td>1.0</td>\n",
              "    </tr>\n",
              "    <tr>\n",
              "      <th>2</th>\n",
              "      <td>троценко стал контролирующим акционером geopr...</td>\n",
              "      <td>троценко стал контролирующим акционером geopro...</td>\n",
              "      <td>0.0</td>\n",
              "    </tr>\n",
              "    <tr>\n",
              "      <th>3</th>\n",
              "      <td>\"сбермаркет\" начал подключение непродовольств...</td>\n",
              "      <td>\"сбермаркет\" начал подключение непродовольстве...</td>\n",
              "      <td>0.0</td>\n",
              "    </tr>\n",
              "    <tr>\n",
              "      <th>4</th>\n",
              "      <td>афк \"система\" вывела из залога в сбербанке 6,...</td>\n",
              "      <td>афк \"система\" вывела из залога в сбербанке 6,8...</td>\n",
              "      <td>0.0</td>\n",
              "    </tr>\n",
              "  </tbody>\n",
              "</table>\n",
              "</div>"
            ],
            "text/plain": [
              "                                                text  ... target_open\n",
              "0   рынок акций рф во вторник вырос вслед за миро...  ...         0.0\n",
              "1   рынок акций начал неделю с роста выше 2800п п...  ...         1.0\n",
              "2   троценко стал контролирующим акционером geopr...  ...         0.0\n",
              "3   \"сбермаркет\" начал подключение непродовольств...  ...         0.0\n",
              "4   афк \"система\" вывела из залога в сбербанке 6,...  ...         0.0\n",
              "\n",
              "[5 rows x 3 columns]"
            ]
          },
          "metadata": {
            "tags": []
          },
          "execution_count": 31
        }
      ]
    },
    {
      "cell_type": "code",
      "metadata": {
        "id": "c2gbQDn6eHNy",
        "colab_type": "code",
        "colab": {
          "base_uri": "https://localhost:8080/",
          "height": 595
        },
        "outputId": "54f76ee2-9f32-4586-bcda-57b9b1069103"
      },
      "source": [
        "!pip install transformers"
      ],
      "execution_count": 28,
      "outputs": [
        {
          "output_type": "stream",
          "text": [
            "Collecting transformers\n",
            "\u001b[?25l  Downloading https://files.pythonhosted.org/packages/27/3c/91ed8f5c4e7ef3227b4119200fc0ed4b4fd965b1f0172021c25701087825/transformers-3.0.2-py3-none-any.whl (769kB)\n",
            "\u001b[K     |████████████████████████████████| 778kB 3.3MB/s \n",
            "\u001b[?25hCollecting tokenizers==0.8.1.rc1\n",
            "\u001b[?25l  Downloading https://files.pythonhosted.org/packages/40/d0/30d5f8d221a0ed981a186c8eb986ce1c94e3a6e87f994eae9f4aa5250217/tokenizers-0.8.1rc1-cp36-cp36m-manylinux1_x86_64.whl (3.0MB)\n",
            "\u001b[K     |████████████████████████████████| 3.0MB 15.3MB/s \n",
            "\u001b[?25hRequirement already satisfied: regex!=2019.12.17 in /usr/local/lib/python3.6/dist-packages (from transformers) (2019.12.20)\n",
            "Requirement already satisfied: numpy in /usr/local/lib/python3.6/dist-packages (from transformers) (1.18.5)\n",
            "Requirement already satisfied: tqdm>=4.27 in /usr/local/lib/python3.6/dist-packages (from transformers) (4.41.1)\n",
            "Requirement already satisfied: requests in /usr/local/lib/python3.6/dist-packages (from transformers) (2.23.0)\n",
            "Requirement already satisfied: filelock in /usr/local/lib/python3.6/dist-packages (from transformers) (3.0.12)\n",
            "Collecting sacremoses\n",
            "\u001b[?25l  Downloading https://files.pythonhosted.org/packages/7d/34/09d19aff26edcc8eb2a01bed8e98f13a1537005d31e95233fd48216eed10/sacremoses-0.0.43.tar.gz (883kB)\n",
            "\u001b[K     |████████████████████████████████| 890kB 38.4MB/s \n",
            "\u001b[?25hRequirement already satisfied: dataclasses; python_version < \"3.7\" in /usr/local/lib/python3.6/dist-packages (from transformers) (0.7)\n",
            "Requirement already satisfied: packaging in /usr/local/lib/python3.6/dist-packages (from transformers) (20.4)\n",
            "Collecting sentencepiece!=0.1.92\n",
            "\u001b[?25l  Downloading https://files.pythonhosted.org/packages/d4/a4/d0a884c4300004a78cca907a6ff9a5e9fe4f090f5d95ab341c53d28cbc58/sentencepiece-0.1.91-cp36-cp36m-manylinux1_x86_64.whl (1.1MB)\n",
            "\u001b[K     |████████████████████████████████| 1.1MB 45.1MB/s \n",
            "\u001b[?25hRequirement already satisfied: idna<3,>=2.5 in /usr/local/lib/python3.6/dist-packages (from requests->transformers) (2.10)\n",
            "Requirement already satisfied: certifi>=2017.4.17 in /usr/local/lib/python3.6/dist-packages (from requests->transformers) (2020.6.20)\n",
            "Requirement already satisfied: urllib3!=1.25.0,!=1.25.1,<1.26,>=1.21.1 in /usr/local/lib/python3.6/dist-packages (from requests->transformers) (1.24.3)\n",
            "Requirement already satisfied: chardet<4,>=3.0.2 in /usr/local/lib/python3.6/dist-packages (from requests->transformers) (3.0.4)\n",
            "Requirement already satisfied: six in /usr/local/lib/python3.6/dist-packages (from sacremoses->transformers) (1.15.0)\n",
            "Requirement already satisfied: click in /usr/local/lib/python3.6/dist-packages (from sacremoses->transformers) (7.1.2)\n",
            "Requirement already satisfied: joblib in /usr/local/lib/python3.6/dist-packages (from sacremoses->transformers) (0.16.0)\n",
            "Requirement already satisfied: pyparsing>=2.0.2 in /usr/local/lib/python3.6/dist-packages (from packaging->transformers) (2.4.7)\n",
            "Building wheels for collected packages: sacremoses\n",
            "  Building wheel for sacremoses (setup.py) ... \u001b[?25l\u001b[?25hdone\n",
            "  Created wheel for sacremoses: filename=sacremoses-0.0.43-cp36-none-any.whl size=893260 sha256=dd2aae4ac585679ff27631e2b89c12e6167b8182e75a858fae52e5a674ecee95\n",
            "  Stored in directory: /root/.cache/pip/wheels/29/3c/fd/7ce5c3f0666dab31a50123635e6fb5e19ceb42ce38d4e58f45\n",
            "Successfully built sacremoses\n",
            "Installing collected packages: tokenizers, sacremoses, sentencepiece, transformers\n",
            "Successfully installed sacremoses-0.0.43 sentencepiece-0.1.91 tokenizers-0.8.1rc1 transformers-3.0.2\n"
          ],
          "name": "stdout"
        }
      ]
    },
    {
      "cell_type": "code",
      "metadata": {
        "id": "2PKoRykFeBxB",
        "colab_type": "code",
        "colab": {}
      },
      "source": [
        "from sklearn.model_selection import GridSearchCV\n",
        "import torch\n",
        "import transformers as ppb\n",
        "import warnings\n",
        "warnings.filterwarnings('ignore')"
      ],
      "execution_count": 53,
      "outputs": []
    },
    {
      "cell_type": "code",
      "metadata": {
        "id": "onvmzTA5ZkoS",
        "colab_type": "code",
        "colab": {
          "base_uri": "https://localhost:8080/",
          "height": 164,
          "referenced_widgets": [
            "07d9e23b5d2847d89ed743fe88ef6793",
            "fb549c5a9b2e473caa80efd3bfae52b4",
            "4543662ba79d4994a303a64480e8f6d6",
            "2b371340541b4265ae1088d491cbe2da",
            "6e9c782cc5234f1f963f99cc1c13696a",
            "286aab5a82354953a7fd3789bdbcc3c7",
            "7d19cfe566af4828926e247ec52a0331",
            "e574be186db84dfc9ffe8e483379fa67",
            "ec6259c9b0a648c885510844d1ac27bc",
            "12f92ead293f4d53b7ee288a57cd37fc",
            "b1d7e7ba97ed4cd98240b074afe2ffc3",
            "2388c9bf7e8b417d9aa7e66a8e78f277",
            "1c7e76930b394eb7a9a328537feeffb8",
            "149cbb3c755b40caa4547edde7b9e571",
            "c4263fd386fc44fdb24977054061f808",
            "4dbb054aa81140f98f1edad08482040d",
            "248ec24da4b5477f9e26d6803baa759f",
            "57079913b2164e049b6c4ed2bf7e85fb",
            "16fc15b141e5433fafdf30bf601176d1",
            "0772b03aaf564588b719d5cf9b7f51f2",
            "536d83f366c04d06bff18e5cfa8d128d",
            "9b2c0d55d46c4999bcc5e272fefee837",
            "377f4ffd015343c099771269acab1588",
            "2b915ceb14ab4c5a91616363c1823e7b"
          ]
        },
        "outputId": "d59acf89-6073-46a7-da04-62746fd88a49"
      },
      "source": [
        "model_class, tokenizer_class, pretrained_weights = (ppb.BertModel, \n",
        "                            ppb.BertTokenizer, 'bert-base-uncased')\n",
        "\n",
        "tokenizer = tokenizer_class.from_pretrained(pretrained_weights)\n",
        "model = model_class.from_pretrained(pretrained_weights)"
      ],
      "execution_count": 30,
      "outputs": [
        {
          "output_type": "display_data",
          "data": {
            "application/vnd.jupyter.widget-view+json": {
              "model_id": "07d9e23b5d2847d89ed743fe88ef6793",
              "version_minor": 0,
              "version_major": 2
            },
            "text/plain": [
              "HBox(children=(FloatProgress(value=0.0, description='Downloading', max=231508.0, style=ProgressStyle(descripti…"
            ]
          },
          "metadata": {
            "tags": []
          }
        },
        {
          "output_type": "stream",
          "text": [
            "\n"
          ],
          "name": "stdout"
        },
        {
          "output_type": "display_data",
          "data": {
            "application/vnd.jupyter.widget-view+json": {
              "model_id": "ec6259c9b0a648c885510844d1ac27bc",
              "version_minor": 0,
              "version_major": 2
            },
            "text/plain": [
              "HBox(children=(FloatProgress(value=0.0, description='Downloading', max=433.0, style=ProgressStyle(description_…"
            ]
          },
          "metadata": {
            "tags": []
          }
        },
        {
          "output_type": "stream",
          "text": [
            "\n"
          ],
          "name": "stdout"
        },
        {
          "output_type": "display_data",
          "data": {
            "application/vnd.jupyter.widget-view+json": {
              "model_id": "248ec24da4b5477f9e26d6803baa759f",
              "version_minor": 0,
              "version_major": 2
            },
            "text/plain": [
              "HBox(children=(FloatProgress(value=0.0, description='Downloading', max=440473133.0, style=ProgressStyle(descri…"
            ]
          },
          "metadata": {
            "tags": []
          }
        },
        {
          "output_type": "stream",
          "text": [
            "\n"
          ],
          "name": "stdout"
        }
      ]
    },
    {
      "cell_type": "code",
      "metadata": {
        "id": "_0H2cMT1elZb",
        "colab_type": "code",
        "colab": {}
      },
      "source": [
        "for i in range(df.shape[0]): # проблема - слишком длинные новости, ее длина в среднем 2000, а для токенайзера максимум 512\n",
        "# Решение - разбивать на куски длиной не более 512 (конец - конец предложения) и тональность самой новости считать как среднее из тональностей ее составляющих\n",
        "   df['text'][i] =  df['text'][i][:512]"
      ],
      "execution_count": 38,
      "outputs": []
    },
    {
      "cell_type": "code",
      "metadata": {
        "id": "-U6yhkGbd7O2",
        "colab_type": "code",
        "colab": {}
      },
      "source": [
        "tokenized = df['text'].apply((lambda x: tokenizer.encode(x, add_special_tokens=True)))"
      ],
      "execution_count": 42,
      "outputs": []
    },
    {
      "cell_type": "code",
      "metadata": {
        "id": "jXVLI-K6eczn",
        "colab_type": "code",
        "colab": {
          "base_uri": "https://localhost:8080/",
          "height": 221
        },
        "outputId": "5a41da68-8a0e-44b5-d0d6-877baf95aca1"
      },
      "source": [
        "tokenized"
      ],
      "execution_count": 43,
      "outputs": [
        {
          "output_type": "execute_result",
          "data": {
            "text/plain": [
              "0      [101, 1195, 29113, 18947, 14150, 23925, 1180, ...\n",
              "1      [101, 1195, 29113, 18947, 14150, 23925, 1180, ...\n",
              "2      [101, 1197, 16856, 14150, 29751, 15290, 18947,...\n",
              "3      [101, 1000, 1196, 29740, 15290, 16856, 29745, ...\n",
              "4      [101, 1180, 29749, 23925, 1000, 1196, 10325, 2...\n",
              "                             ...                        \n",
              "191    [101, 1189, 29748, 29742, 16856, 10325, 18947,...\n",
              "192    [101, 1194, 14150, 29746, 29113, 22919, 28598,...\n",
              "193    [101, 4372, 1009, 1182, 29113, 23925, 29748, 2...\n",
              "194    [101, 1194, 16856, 10260, 25529, 10325, 22919,...\n",
              "195    [101, 1191, 10325, 18947, 29756, 23925, 14150,...\n",
              "Name: text, Length: 196, dtype: object"
            ]
          },
          "metadata": {
            "tags": []
          },
          "execution_count": 43
        }
      ]
    },
    {
      "cell_type": "code",
      "metadata": {
        "id": "4nVdv7SOfZh3",
        "colab_type": "code",
        "colab": {
          "base_uri": "https://localhost:8080/",
          "height": 34
        },
        "outputId": "cd096dc1-758a-4fba-9ff7-4ce125d11daa"
      },
      "source": [
        "attention_mask = np.where(padded != 0, 1, 0)\n",
        "attention_mask.shape"
      ],
      "execution_count": 75,
      "outputs": [
        {
          "output_type": "execute_result",
          "data": {
            "text/plain": [
              "(196, 432)"
            ]
          },
          "metadata": {
            "tags": []
          },
          "execution_count": 75
        }
      ]
    },
    {
      "cell_type": "code",
      "metadata": {
        "id": "TvucZF_RgkBp",
        "colab_type": "code",
        "colab": {}
      },
      "source": [
        "input_ids = torch.tensor(padded)  \n",
        "attention_mask = torch.tensor(attention_mask)\n",
        "\n",
        "with torch.no_grad():\n",
        "    last_hidden_states = model(input_ids, attention_mask=attention_mask)"
      ],
      "execution_count": 48,
      "outputs": []
    },
    {
      "cell_type": "code",
      "metadata": {
        "id": "3sSd_ZqIgn9i",
        "colab_type": "code",
        "colab": {}
      },
      "source": [
        "features = last_hidden_states[0][:,0,:].numpy()"
      ],
      "execution_count": 49,
      "outputs": []
    },
    {
      "cell_type": "code",
      "metadata": {
        "id": "H2GMPI2igpm4",
        "colab_type": "code",
        "colab": {}
      },
      "source": [
        "xgb_score = []\n",
        "log_score = []\n",
        "\n",
        "N = 100\n",
        "for i in range(N):\n",
        "  train_features, test_features, train_labels, test_labels = tt(features,\n",
        "                                  df['target_open'], random_state=i*5)\n",
        "  \n",
        "  log_reg.fit(train_features, train_labels)\n",
        "  xgb_clf.fit(train_features, train_labels)\n",
        "\n",
        "  xgb_score.append(1 - accuracy_score(test_labels, xgb_clf.predict(test_features)))\n",
        "  log_score.append(1 - accuracy_score(test_labels, log_reg.predict(test_features)))"
      ],
      "execution_count": 67,
      "outputs": []
    },
    {
      "cell_type": "code",
      "metadata": {
        "id": "dU2voFNzku79",
        "colab_type": "code",
        "colab": {
          "base_uri": "https://localhost:8080/",
          "height": 34
        },
        "outputId": "45674ddf-79fa-451b-f719-b8f9a5452462"
      },
      "source": [
        "np.mean(xgb_score)"
      ],
      "execution_count": 68,
      "outputs": [
        {
          "output_type": "execute_result",
          "data": {
            "text/plain": [
              "0.5506122448979591"
            ]
          },
          "metadata": {
            "tags": []
          },
          "execution_count": 68
        }
      ]
    },
    {
      "cell_type": "code",
      "metadata": {
        "id": "xd-jWOXjmX9u",
        "colab_type": "code",
        "colab": {
          "base_uri": "https://localhost:8080/",
          "height": 34
        },
        "outputId": "aa806828-89be-45d3-8da3-e7b13cbd67a0"
      },
      "source": [
        "np.mean(log_score)"
      ],
      "execution_count": 69,
      "outputs": [
        {
          "output_type": "execute_result",
          "data": {
            "text/plain": [
              "0.5412244897959184"
            ]
          },
          "metadata": {
            "tags": []
          },
          "execution_count": 69
        }
      ]
    },
    {
      "cell_type": "code",
      "metadata": {
        "id": "fumHGRZ1g9ya",
        "colab_type": "code",
        "colab": {}
      },
      "source": [
        ""
      ],
      "execution_count": null,
      "outputs": []
    }
  ]
}